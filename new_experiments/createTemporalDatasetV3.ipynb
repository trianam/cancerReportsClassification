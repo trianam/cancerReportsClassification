{
 "cells": [
  {
   "cell_type": "markdown",
   "metadata": {},
   "source": [
    "# TODO finish"
   ]
  },
  {
   "cell_type": "code",
   "execution_count": 1,
   "metadata": {},
   "outputs": [],
   "source": [
    "import pandas as pd\n",
    "import csv\n",
    "import collections\n",
    "import re\n",
    "import pickle\n",
    "import numpy as np"
   ]
  },
  {
   "cell_type": "code",
   "execution_count": 2,
   "metadata": {},
   "outputs": [],
   "source": [
    "fileNeop = \"../data/RTRT_NEOPLASI_corr.csv\"\n",
    "fileIsto = \"../data/ISTOLOGIE_corr.csv\" \n",
    "fileIcdo = \"icdo-3-dict-en.p\"\n",
    "\n",
    "fileSaveCorpus = \"corpusTemporalV3/corpusTemporal.p\"\n",
    "fileSaveValues = \"corpusTemporalV3/valuesTemporalSede1.p\"\n",
    "fileSaveValuesS = \"corpusTemporalV3/valuesTemporalSede2.p\"\n",
    "fileSaveValuesM = \"corpusTemporalV3/valuesTemporalMorfo1.p\"\n",
    "fileSaveValuesB = \"corpusTemporalV3/valuesTemporalMorfo2.p\"\n",
    "fileSaveTrainWordVectors = \"corpusTemporalV3/trainWordVectors.txt\""
   ]
  },
  {
   "cell_type": "code",
   "execution_count": 3,
   "metadata": {},
   "outputs": [],
   "source": [
    "encoding = 'iso-8859-1'"
   ]
  },
  {
   "cell_type": "code",
   "execution_count": 4,
   "metadata": {},
   "outputs": [],
   "source": [
    "icdo = pickle.load(open(fileIcdo, 'rb'))"
   ]
  },
  {
   "cell_type": "markdown",
   "metadata": {},
   "source": [
    "# Load neop"
   ]
  },
  {
   "cell_type": "code",
   "execution_count": 5,
   "metadata": {},
   "outputs": [],
   "source": [
    "dfNeop = pd.read_csv(fileNeop, header = 0, encoding=encoding, quoting=csv.QUOTE_NONNUMERIC, low_memory=False,\n",
    "                     usecols = ['id_neopl', 'sede_icdo3',\n",
    "                                'morfologia_icdo3', 'inserimento_data_neoplasi'],\n",
    "                     dtype={'id_neopl':pd.np.float64, 'sede_icdo3':pd.np.str, \n",
    "                            'morfologia_icdo3':pd.np.str, 'inserimento_data_neoplasi':pd.np.str},\n",
    "                    #parse_dates=['inserimento_data_neoplasi'], \n",
    "                    #date_parser = lambda x: pd.datetime.strptime(x, '%Y-%m-%d %H:%M:%S')\n",
    "                    )"
   ]
  },
  {
   "cell_type": "code",
   "execution_count": 6,
   "metadata": {},
   "outputs": [
    {
     "data": {
      "text/html": [
       "<div>\n",
       "<style scoped>\n",
       "    .dataframe tbody tr th:only-of-type {\n",
       "        vertical-align: middle;\n",
       "    }\n",
       "\n",
       "    .dataframe tbody tr th {\n",
       "        vertical-align: top;\n",
       "    }\n",
       "\n",
       "    .dataframe thead th {\n",
       "        text-align: right;\n",
       "    }\n",
       "</style>\n",
       "<table border=\"1\" class=\"dataframe\">\n",
       "  <thead>\n",
       "    <tr style=\"text-align: right;\">\n",
       "      <th></th>\n",
       "      <th>id_neopl</th>\n",
       "      <th>inserimento_data_neoplasi</th>\n",
       "      <th>sede_icdo3</th>\n",
       "      <th>morfologia_icdo3</th>\n",
       "    </tr>\n",
       "  </thead>\n",
       "  <tbody>\n",
       "    <tr>\n",
       "      <td>0</td>\n",
       "      <td>1.0</td>\n",
       "      <td>2002-09-06 00:00:00</td>\n",
       "      <td>C060</td>\n",
       "      <td>80513</td>\n",
       "    </tr>\n",
       "    <tr>\n",
       "      <td>1</td>\n",
       "      <td>2.0</td>\n",
       "      <td>2002-12-16 00:00:00</td>\n",
       "      <td>C504</td>\n",
       "      <td>84803</td>\n",
       "    </tr>\n",
       "    <tr>\n",
       "      <td>2</td>\n",
       "      <td>3.0</td>\n",
       "      <td>2002-12-11 00:00:00</td>\n",
       "      <td>C509</td>\n",
       "      <td>85202</td>\n",
       "    </tr>\n",
       "    <tr>\n",
       "      <td>3</td>\n",
       "      <td>4.0</td>\n",
       "      <td>2002-12-11 00:00:00</td>\n",
       "      <td>C443</td>\n",
       "      <td>80903</td>\n",
       "    </tr>\n",
       "    <tr>\n",
       "      <td>4</td>\n",
       "      <td>5.0</td>\n",
       "      <td>2003-04-28 00:00:00</td>\n",
       "      <td>C259</td>\n",
       "      <td>81403</td>\n",
       "    </tr>\n",
       "    <tr>\n",
       "      <td>...</td>\n",
       "      <td>...</td>\n",
       "      <td>...</td>\n",
       "      <td>...</td>\n",
       "      <td>...</td>\n",
       "    </tr>\n",
       "    <tr>\n",
       "      <td>309847</td>\n",
       "      <td>346854.0</td>\n",
       "      <td>2014-02-13 08:51:32</td>\n",
       "      <td>C509</td>\n",
       "      <td>85003</td>\n",
       "    </tr>\n",
       "    <tr>\n",
       "      <td>309848</td>\n",
       "      <td>346855.0</td>\n",
       "      <td>2014-02-13 11:20:50</td>\n",
       "      <td>C509</td>\n",
       "      <td>85002</td>\n",
       "    </tr>\n",
       "    <tr>\n",
       "      <td>309849</td>\n",
       "      <td>346856.0</td>\n",
       "      <td>2014-02-14 11:53:40</td>\n",
       "      <td>C424</td>\n",
       "      <td>97651</td>\n",
       "    </tr>\n",
       "    <tr>\n",
       "      <td>309850</td>\n",
       "      <td>346857.0</td>\n",
       "      <td>2014-02-14 12:00:33</td>\n",
       "      <td>C619</td>\n",
       "      <td>80001</td>\n",
       "    </tr>\n",
       "    <tr>\n",
       "      <td>309851</td>\n",
       "      <td>346867.0</td>\n",
       "      <td>2014-03-10 13:27:18</td>\n",
       "      <td>C619</td>\n",
       "      <td>81403</td>\n",
       "    </tr>\n",
       "  </tbody>\n",
       "</table>\n",
       "<p>309852 rows × 4 columns</p>\n",
       "</div>"
      ],
      "text/plain": [
       "        id_neopl inserimento_data_neoplasi sede_icdo3 morfologia_icdo3\n",
       "0            1.0       2002-09-06 00:00:00       C060            80513\n",
       "1            2.0       2002-12-16 00:00:00       C504            84803\n",
       "2            3.0       2002-12-11 00:00:00       C509            85202\n",
       "3            4.0       2002-12-11 00:00:00       C443            80903\n",
       "4            5.0       2003-04-28 00:00:00       C259            81403\n",
       "...          ...                       ...        ...              ...\n",
       "309847  346854.0       2014-02-13 08:51:32       C509            85003\n",
       "309848  346855.0       2014-02-13 11:20:50       C509            85002\n",
       "309849  346856.0       2014-02-14 11:53:40       C424            97651\n",
       "309850  346857.0       2014-02-14 12:00:33       C619            80001\n",
       "309851  346867.0       2014-03-10 13:27:18       C619            81403\n",
       "\n",
       "[309852 rows x 4 columns]"
      ]
     },
     "execution_count": 6,
     "metadata": {},
     "output_type": "execute_result"
    }
   ],
   "source": [
    "dfNeop"
   ]
  },
  {
   "cell_type": "code",
   "execution_count": 7,
   "metadata": {},
   "outputs": [
    {
     "data": {
      "text/plain": [
       "id_neopl                     float64\n",
       "inserimento_data_neoplasi     object\n",
       "sede_icdo3                    object\n",
       "morfologia_icdo3              object\n",
       "dtype: object"
      ]
     },
     "execution_count": 7,
     "metadata": {},
     "output_type": "execute_result"
    }
   ],
   "source": [
    "dfNeop.dtypes"
   ]
  },
  {
   "cell_type": "code",
   "execution_count": 8,
   "metadata": {},
   "outputs": [],
   "source": [
    "dfNeop = dfNeop.dropna('index')"
   ]
  },
  {
   "cell_type": "code",
   "execution_count": 9,
   "metadata": {},
   "outputs": [
    {
     "data": {
      "text/html": [
       "<div>\n",
       "<style scoped>\n",
       "    .dataframe tbody tr th:only-of-type {\n",
       "        vertical-align: middle;\n",
       "    }\n",
       "\n",
       "    .dataframe tbody tr th {\n",
       "        vertical-align: top;\n",
       "    }\n",
       "\n",
       "    .dataframe thead th {\n",
       "        text-align: right;\n",
       "    }\n",
       "</style>\n",
       "<table border=\"1\" class=\"dataframe\">\n",
       "  <thead>\n",
       "    <tr style=\"text-align: right;\">\n",
       "      <th></th>\n",
       "      <th>id_neopl</th>\n",
       "      <th>inserimento_data_neoplasi</th>\n",
       "      <th>sede_icdo3</th>\n",
       "      <th>morfologia_icdo3</th>\n",
       "    </tr>\n",
       "  </thead>\n",
       "  <tbody>\n",
       "    <tr>\n",
       "      <td>0</td>\n",
       "      <td>1.0</td>\n",
       "      <td>2002-09-06 00:00:00</td>\n",
       "      <td>C060</td>\n",
       "      <td>80513</td>\n",
       "    </tr>\n",
       "    <tr>\n",
       "      <td>1</td>\n",
       "      <td>2.0</td>\n",
       "      <td>2002-12-16 00:00:00</td>\n",
       "      <td>C504</td>\n",
       "      <td>84803</td>\n",
       "    </tr>\n",
       "    <tr>\n",
       "      <td>2</td>\n",
       "      <td>3.0</td>\n",
       "      <td>2002-12-11 00:00:00</td>\n",
       "      <td>C509</td>\n",
       "      <td>85202</td>\n",
       "    </tr>\n",
       "    <tr>\n",
       "      <td>3</td>\n",
       "      <td>4.0</td>\n",
       "      <td>2002-12-11 00:00:00</td>\n",
       "      <td>C443</td>\n",
       "      <td>80903</td>\n",
       "    </tr>\n",
       "    <tr>\n",
       "      <td>4</td>\n",
       "      <td>5.0</td>\n",
       "      <td>2003-04-28 00:00:00</td>\n",
       "      <td>C259</td>\n",
       "      <td>81403</td>\n",
       "    </tr>\n",
       "    <tr>\n",
       "      <td>...</td>\n",
       "      <td>...</td>\n",
       "      <td>...</td>\n",
       "      <td>...</td>\n",
       "      <td>...</td>\n",
       "    </tr>\n",
       "    <tr>\n",
       "      <td>309847</td>\n",
       "      <td>346854.0</td>\n",
       "      <td>2014-02-13 08:51:32</td>\n",
       "      <td>C509</td>\n",
       "      <td>85003</td>\n",
       "    </tr>\n",
       "    <tr>\n",
       "      <td>309848</td>\n",
       "      <td>346855.0</td>\n",
       "      <td>2014-02-13 11:20:50</td>\n",
       "      <td>C509</td>\n",
       "      <td>85002</td>\n",
       "    </tr>\n",
       "    <tr>\n",
       "      <td>309849</td>\n",
       "      <td>346856.0</td>\n",
       "      <td>2014-02-14 11:53:40</td>\n",
       "      <td>C424</td>\n",
       "      <td>97651</td>\n",
       "    </tr>\n",
       "    <tr>\n",
       "      <td>309850</td>\n",
       "      <td>346857.0</td>\n",
       "      <td>2014-02-14 12:00:33</td>\n",
       "      <td>C619</td>\n",
       "      <td>80001</td>\n",
       "    </tr>\n",
       "    <tr>\n",
       "      <td>309851</td>\n",
       "      <td>346867.0</td>\n",
       "      <td>2014-03-10 13:27:18</td>\n",
       "      <td>C619</td>\n",
       "      <td>81403</td>\n",
       "    </tr>\n",
       "  </tbody>\n",
       "</table>\n",
       "<p>254485 rows × 4 columns</p>\n",
       "</div>"
      ],
      "text/plain": [
       "        id_neopl inserimento_data_neoplasi sede_icdo3 morfologia_icdo3\n",
       "0            1.0       2002-09-06 00:00:00       C060            80513\n",
       "1            2.0       2002-12-16 00:00:00       C504            84803\n",
       "2            3.0       2002-12-11 00:00:00       C509            85202\n",
       "3            4.0       2002-12-11 00:00:00       C443            80903\n",
       "4            5.0       2003-04-28 00:00:00       C259            81403\n",
       "...          ...                       ...        ...              ...\n",
       "309847  346854.0       2014-02-13 08:51:32       C509            85003\n",
       "309848  346855.0       2014-02-13 11:20:50       C509            85002\n",
       "309849  346856.0       2014-02-14 11:53:40       C424            97651\n",
       "309850  346857.0       2014-02-14 12:00:33       C619            80001\n",
       "309851  346867.0       2014-03-10 13:27:18       C619            81403\n",
       "\n",
       "[254485 rows x 4 columns]"
      ]
     },
     "execution_count": 9,
     "metadata": {},
     "output_type": "execute_result"
    }
   ],
   "source": [
    "dfNeop"
   ]
  },
  {
   "cell_type": "code",
   "execution_count": 10,
   "metadata": {},
   "outputs": [
    {
     "data": {
      "text/plain": [
       "id_neopl                     float64\n",
       "inserimento_data_neoplasi     object\n",
       "sede_icdo3                    object\n",
       "morfologia_icdo3              object\n",
       "dtype: object"
      ]
     },
     "execution_count": 10,
     "metadata": {},
     "output_type": "execute_result"
    }
   ],
   "source": [
    "dfNeop.dtypes"
   ]
  },
  {
   "cell_type": "code",
   "execution_count": 11,
   "metadata": {},
   "outputs": [
    {
     "name": "stderr",
     "output_type": "stream",
     "text": [
      "/home/trianam/miniconda3/lib/python3.7/site-packages/ipykernel_launcher.py:1: SettingWithCopyWarning: \n",
      "A value is trying to be set on a copy of a slice from a DataFrame.\n",
      "Try using .loc[row_indexer,col_indexer] = value instead\n",
      "\n",
      "See the caveats in the documentation: http://pandas.pydata.org/pandas-docs/stable/user_guide/indexing.html#returning-a-view-versus-a-copy\n",
      "  \"\"\"Entry point for launching an IPython kernel.\n"
     ]
    }
   ],
   "source": [
    "dfNeop['inserimento_data_neoplasi'] =  pd.to_datetime(dfNeop['inserimento_data_neoplasi'], format='%Y-%m-%d %H:%M:%S')"
   ]
  },
  {
   "cell_type": "code",
   "execution_count": 12,
   "metadata": {},
   "outputs": [
    {
     "data": {
      "text/html": [
       "<div>\n",
       "<style scoped>\n",
       "    .dataframe tbody tr th:only-of-type {\n",
       "        vertical-align: middle;\n",
       "    }\n",
       "\n",
       "    .dataframe tbody tr th {\n",
       "        vertical-align: top;\n",
       "    }\n",
       "\n",
       "    .dataframe thead th {\n",
       "        text-align: right;\n",
       "    }\n",
       "</style>\n",
       "<table border=\"1\" class=\"dataframe\">\n",
       "  <thead>\n",
       "    <tr style=\"text-align: right;\">\n",
       "      <th></th>\n",
       "      <th>id_neopl</th>\n",
       "      <th>inserimento_data_neoplasi</th>\n",
       "      <th>sede_icdo3</th>\n",
       "      <th>morfologia_icdo3</th>\n",
       "    </tr>\n",
       "  </thead>\n",
       "  <tbody>\n",
       "    <tr>\n",
       "      <td>0</td>\n",
       "      <td>1.0</td>\n",
       "      <td>2002-09-06 00:00:00</td>\n",
       "      <td>C060</td>\n",
       "      <td>80513</td>\n",
       "    </tr>\n",
       "    <tr>\n",
       "      <td>1</td>\n",
       "      <td>2.0</td>\n",
       "      <td>2002-12-16 00:00:00</td>\n",
       "      <td>C504</td>\n",
       "      <td>84803</td>\n",
       "    </tr>\n",
       "    <tr>\n",
       "      <td>2</td>\n",
       "      <td>3.0</td>\n",
       "      <td>2002-12-11 00:00:00</td>\n",
       "      <td>C509</td>\n",
       "      <td>85202</td>\n",
       "    </tr>\n",
       "    <tr>\n",
       "      <td>3</td>\n",
       "      <td>4.0</td>\n",
       "      <td>2002-12-11 00:00:00</td>\n",
       "      <td>C443</td>\n",
       "      <td>80903</td>\n",
       "    </tr>\n",
       "    <tr>\n",
       "      <td>4</td>\n",
       "      <td>5.0</td>\n",
       "      <td>2003-04-28 00:00:00</td>\n",
       "      <td>C259</td>\n",
       "      <td>81403</td>\n",
       "    </tr>\n",
       "    <tr>\n",
       "      <td>...</td>\n",
       "      <td>...</td>\n",
       "      <td>...</td>\n",
       "      <td>...</td>\n",
       "      <td>...</td>\n",
       "    </tr>\n",
       "    <tr>\n",
       "      <td>309847</td>\n",
       "      <td>346854.0</td>\n",
       "      <td>2014-02-13 08:51:32</td>\n",
       "      <td>C509</td>\n",
       "      <td>85003</td>\n",
       "    </tr>\n",
       "    <tr>\n",
       "      <td>309848</td>\n",
       "      <td>346855.0</td>\n",
       "      <td>2014-02-13 11:20:50</td>\n",
       "      <td>C509</td>\n",
       "      <td>85002</td>\n",
       "    </tr>\n",
       "    <tr>\n",
       "      <td>309849</td>\n",
       "      <td>346856.0</td>\n",
       "      <td>2014-02-14 11:53:40</td>\n",
       "      <td>C424</td>\n",
       "      <td>97651</td>\n",
       "    </tr>\n",
       "    <tr>\n",
       "      <td>309850</td>\n",
       "      <td>346857.0</td>\n",
       "      <td>2014-02-14 12:00:33</td>\n",
       "      <td>C619</td>\n",
       "      <td>80001</td>\n",
       "    </tr>\n",
       "    <tr>\n",
       "      <td>309851</td>\n",
       "      <td>346867.0</td>\n",
       "      <td>2014-03-10 13:27:18</td>\n",
       "      <td>C619</td>\n",
       "      <td>81403</td>\n",
       "    </tr>\n",
       "  </tbody>\n",
       "</table>\n",
       "<p>254485 rows × 4 columns</p>\n",
       "</div>"
      ],
      "text/plain": [
       "        id_neopl inserimento_data_neoplasi sede_icdo3 morfologia_icdo3\n",
       "0            1.0       2002-09-06 00:00:00       C060            80513\n",
       "1            2.0       2002-12-16 00:00:00       C504            84803\n",
       "2            3.0       2002-12-11 00:00:00       C509            85202\n",
       "3            4.0       2002-12-11 00:00:00       C443            80903\n",
       "4            5.0       2003-04-28 00:00:00       C259            81403\n",
       "...          ...                       ...        ...              ...\n",
       "309847  346854.0       2014-02-13 08:51:32       C509            85003\n",
       "309848  346855.0       2014-02-13 11:20:50       C509            85002\n",
       "309849  346856.0       2014-02-14 11:53:40       C424            97651\n",
       "309850  346857.0       2014-02-14 12:00:33       C619            80001\n",
       "309851  346867.0       2014-03-10 13:27:18       C619            81403\n",
       "\n",
       "[254485 rows x 4 columns]"
      ]
     },
     "execution_count": 12,
     "metadata": {},
     "output_type": "execute_result"
    }
   ],
   "source": [
    "dfNeop"
   ]
  },
  {
   "cell_type": "code",
   "execution_count": 13,
   "metadata": {},
   "outputs": [
    {
     "data": {
      "text/plain": [
       "id_neopl                            float64\n",
       "inserimento_data_neoplasi    datetime64[ns]\n",
       "sede_icdo3                           object\n",
       "morfologia_icdo3                     object\n",
       "dtype: object"
      ]
     },
     "execution_count": 13,
     "metadata": {},
     "output_type": "execute_result"
    }
   ],
   "source": [
    "dfNeop.dtypes"
   ]
  },
  {
   "cell_type": "code",
   "execution_count": 14,
   "metadata": {},
   "outputs": [],
   "source": [
    "dfNeop = dfNeop.sort_values(by=['inserimento_data_neoplasi'])"
   ]
  },
  {
   "cell_type": "code",
   "execution_count": 15,
   "metadata": {},
   "outputs": [
    {
     "data": {
      "text/html": [
       "<div>\n",
       "<style scoped>\n",
       "    .dataframe tbody tr th:only-of-type {\n",
       "        vertical-align: middle;\n",
       "    }\n",
       "\n",
       "    .dataframe tbody tr th {\n",
       "        vertical-align: top;\n",
       "    }\n",
       "\n",
       "    .dataframe thead th {\n",
       "        text-align: right;\n",
       "    }\n",
       "</style>\n",
       "<table border=\"1\" class=\"dataframe\">\n",
       "  <thead>\n",
       "    <tr style=\"text-align: right;\">\n",
       "      <th></th>\n",
       "      <th>id_neopl</th>\n",
       "      <th>inserimento_data_neoplasi</th>\n",
       "      <th>sede_icdo3</th>\n",
       "      <th>morfologia_icdo3</th>\n",
       "    </tr>\n",
       "  </thead>\n",
       "  <tbody>\n",
       "    <tr>\n",
       "      <td>107276</td>\n",
       "      <td>108110.0</td>\n",
       "      <td>1990-04-20 00:00:00</td>\n",
       "      <td>C443</td>\n",
       "      <td>80003</td>\n",
       "    </tr>\n",
       "    <tr>\n",
       "      <td>78576</td>\n",
       "      <td>79172.0</td>\n",
       "      <td>1990-04-20 00:00:00</td>\n",
       "      <td>C341</td>\n",
       "      <td>80003</td>\n",
       "    </tr>\n",
       "    <tr>\n",
       "      <td>78595</td>\n",
       "      <td>79191.0</td>\n",
       "      <td>1990-04-24 00:00:00</td>\n",
       "      <td>C329</td>\n",
       "      <td>80703</td>\n",
       "    </tr>\n",
       "    <tr>\n",
       "      <td>78602</td>\n",
       "      <td>79198.0</td>\n",
       "      <td>1990-04-24 00:00:00</td>\n",
       "      <td>C509</td>\n",
       "      <td>85203</td>\n",
       "    </tr>\n",
       "    <tr>\n",
       "      <td>78601</td>\n",
       "      <td>79197.0</td>\n",
       "      <td>1990-04-24 00:00:00</td>\n",
       "      <td>C710</td>\n",
       "      <td>94003</td>\n",
       "    </tr>\n",
       "    <tr>\n",
       "      <td>...</td>\n",
       "      <td>...</td>\n",
       "      <td>...</td>\n",
       "      <td>...</td>\n",
       "      <td>...</td>\n",
       "    </tr>\n",
       "    <tr>\n",
       "      <td>309848</td>\n",
       "      <td>346855.0</td>\n",
       "      <td>2014-02-13 11:20:50</td>\n",
       "      <td>C509</td>\n",
       "      <td>85002</td>\n",
       "    </tr>\n",
       "    <tr>\n",
       "      <td>309849</td>\n",
       "      <td>346856.0</td>\n",
       "      <td>2014-02-14 11:53:40</td>\n",
       "      <td>C424</td>\n",
       "      <td>97651</td>\n",
       "    </tr>\n",
       "    <tr>\n",
       "      <td>309850</td>\n",
       "      <td>346857.0</td>\n",
       "      <td>2014-02-14 12:00:33</td>\n",
       "      <td>C619</td>\n",
       "      <td>80001</td>\n",
       "    </tr>\n",
       "    <tr>\n",
       "      <td>295873</td>\n",
       "      <td>346866.0</td>\n",
       "      <td>2014-03-10 12:26:26</td>\n",
       "      <td>C169</td>\n",
       "      <td>81403</td>\n",
       "    </tr>\n",
       "    <tr>\n",
       "      <td>309851</td>\n",
       "      <td>346867.0</td>\n",
       "      <td>2014-03-10 13:27:18</td>\n",
       "      <td>C619</td>\n",
       "      <td>81403</td>\n",
       "    </tr>\n",
       "  </tbody>\n",
       "</table>\n",
       "<p>254485 rows × 4 columns</p>\n",
       "</div>"
      ],
      "text/plain": [
       "        id_neopl inserimento_data_neoplasi sede_icdo3 morfologia_icdo3\n",
       "107276  108110.0       1990-04-20 00:00:00       C443            80003\n",
       "78576    79172.0       1990-04-20 00:00:00       C341            80003\n",
       "78595    79191.0       1990-04-24 00:00:00       C329            80703\n",
       "78602    79198.0       1990-04-24 00:00:00       C509            85203\n",
       "78601    79197.0       1990-04-24 00:00:00       C710            94003\n",
       "...          ...                       ...        ...              ...\n",
       "309848  346855.0       2014-02-13 11:20:50       C509            85002\n",
       "309849  346856.0       2014-02-14 11:53:40       C424            97651\n",
       "309850  346857.0       2014-02-14 12:00:33       C619            80001\n",
       "295873  346866.0       2014-03-10 12:26:26       C169            81403\n",
       "309851  346867.0       2014-03-10 13:27:18       C619            81403\n",
       "\n",
       "[254485 rows x 4 columns]"
      ]
     },
     "execution_count": 15,
     "metadata": {},
     "output_type": "execute_result"
    }
   ],
   "source": [
    "dfNeop"
   ]
  },
  {
   "cell_type": "markdown",
   "metadata": {},
   "source": [
    "remove invalid sites"
   ]
  },
  {
   "cell_type": "code",
   "execution_count": 17,
   "metadata": {},
   "outputs": [],
   "source": [
    "dfNeop['correctSede'] = dfNeop.sede_icdo3.map(lambda s: \n",
    "                                              (len(s)==4) and \n",
    "                                              (s[0] == \"C\") and \n",
    "                                              (int(s[1:3]) in icdo.keys()) and\n",
    "                                              s[3] in [str(i) for i in range(10)]\n",
    "                                             )\n",
    "dfNeop = dfNeop[dfNeop.correctSede]"
   ]
  },
  {
   "cell_type": "markdown",
   "metadata": {},
   "source": [
    "# TODO finish"
   ]
  },
  {
   "cell_type": "code",
   "execution_count": null,
   "metadata": {},
   "outputs": [],
   "source": [
    "dfNeop['correctMorfo'] = dfNeop.sede_icdo3.map(lambda s: \n",
    "                                               len(s)==5 and \n",
    "                                               int(s[:4]) in icdo.keys() and\n",
    "                                               int(s[4]) in [0,1,2,3,6,9]\n",
    "                                              )\n",
    "dfNeop = dfNeop[dfNeop.correctSede]"
   ]
  },
  {
   "cell_type": "code",
   "execution_count": 18,
   "metadata": {},
   "outputs": [
    {
     "data": {
      "text/html": [
       "<div>\n",
       "<style scoped>\n",
       "    .dataframe tbody tr th:only-of-type {\n",
       "        vertical-align: middle;\n",
       "    }\n",
       "\n",
       "    .dataframe tbody tr th {\n",
       "        vertical-align: top;\n",
       "    }\n",
       "\n",
       "    .dataframe thead th {\n",
       "        text-align: right;\n",
       "    }\n",
       "</style>\n",
       "<table border=\"1\" class=\"dataframe\">\n",
       "  <thead>\n",
       "    <tr style=\"text-align: right;\">\n",
       "      <th></th>\n",
       "      <th>id_neopl</th>\n",
       "      <th>inserimento_data_neoplasi</th>\n",
       "      <th>sede_icdo3</th>\n",
       "      <th>morfologia_icdo3</th>\n",
       "      <th>correctSede</th>\n",
       "    </tr>\n",
       "  </thead>\n",
       "  <tbody>\n",
       "    <tr>\n",
       "      <td>107276</td>\n",
       "      <td>108110.0</td>\n",
       "      <td>1990-04-20 00:00:00</td>\n",
       "      <td>C443</td>\n",
       "      <td>80003</td>\n",
       "      <td>True</td>\n",
       "    </tr>\n",
       "    <tr>\n",
       "      <td>78576</td>\n",
       "      <td>79172.0</td>\n",
       "      <td>1990-04-20 00:00:00</td>\n",
       "      <td>C341</td>\n",
       "      <td>80003</td>\n",
       "      <td>True</td>\n",
       "    </tr>\n",
       "    <tr>\n",
       "      <td>78595</td>\n",
       "      <td>79191.0</td>\n",
       "      <td>1990-04-24 00:00:00</td>\n",
       "      <td>C329</td>\n",
       "      <td>80703</td>\n",
       "      <td>True</td>\n",
       "    </tr>\n",
       "    <tr>\n",
       "      <td>78602</td>\n",
       "      <td>79198.0</td>\n",
       "      <td>1990-04-24 00:00:00</td>\n",
       "      <td>C509</td>\n",
       "      <td>85203</td>\n",
       "      <td>True</td>\n",
       "    </tr>\n",
       "    <tr>\n",
       "      <td>78601</td>\n",
       "      <td>79197.0</td>\n",
       "      <td>1990-04-24 00:00:00</td>\n",
       "      <td>C710</td>\n",
       "      <td>94003</td>\n",
       "      <td>True</td>\n",
       "    </tr>\n",
       "    <tr>\n",
       "      <td>...</td>\n",
       "      <td>...</td>\n",
       "      <td>...</td>\n",
       "      <td>...</td>\n",
       "      <td>...</td>\n",
       "      <td>...</td>\n",
       "    </tr>\n",
       "    <tr>\n",
       "      <td>309848</td>\n",
       "      <td>346855.0</td>\n",
       "      <td>2014-02-13 11:20:50</td>\n",
       "      <td>C509</td>\n",
       "      <td>85002</td>\n",
       "      <td>True</td>\n",
       "    </tr>\n",
       "    <tr>\n",
       "      <td>309849</td>\n",
       "      <td>346856.0</td>\n",
       "      <td>2014-02-14 11:53:40</td>\n",
       "      <td>C424</td>\n",
       "      <td>97651</td>\n",
       "      <td>True</td>\n",
       "    </tr>\n",
       "    <tr>\n",
       "      <td>309850</td>\n",
       "      <td>346857.0</td>\n",
       "      <td>2014-02-14 12:00:33</td>\n",
       "      <td>C619</td>\n",
       "      <td>80001</td>\n",
       "      <td>True</td>\n",
       "    </tr>\n",
       "    <tr>\n",
       "      <td>295873</td>\n",
       "      <td>346866.0</td>\n",
       "      <td>2014-03-10 12:26:26</td>\n",
       "      <td>C169</td>\n",
       "      <td>81403</td>\n",
       "      <td>True</td>\n",
       "    </tr>\n",
       "    <tr>\n",
       "      <td>309851</td>\n",
       "      <td>346867.0</td>\n",
       "      <td>2014-03-10 13:27:18</td>\n",
       "      <td>C619</td>\n",
       "      <td>81403</td>\n",
       "      <td>True</td>\n",
       "    </tr>\n",
       "  </tbody>\n",
       "</table>\n",
       "<p>254479 rows × 5 columns</p>\n",
       "</div>"
      ],
      "text/plain": [
       "        id_neopl inserimento_data_neoplasi sede_icdo3 morfologia_icdo3  \\\n",
       "107276  108110.0       1990-04-20 00:00:00       C443            80003   \n",
       "78576    79172.0       1990-04-20 00:00:00       C341            80003   \n",
       "78595    79191.0       1990-04-24 00:00:00       C329            80703   \n",
       "78602    79198.0       1990-04-24 00:00:00       C509            85203   \n",
       "78601    79197.0       1990-04-24 00:00:00       C710            94003   \n",
       "...          ...                       ...        ...              ...   \n",
       "309848  346855.0       2014-02-13 11:20:50       C509            85002   \n",
       "309849  346856.0       2014-02-14 11:53:40       C424            97651   \n",
       "309850  346857.0       2014-02-14 12:00:33       C619            80001   \n",
       "295873  346866.0       2014-03-10 12:26:26       C169            81403   \n",
       "309851  346867.0       2014-03-10 13:27:18       C619            81403   \n",
       "\n",
       "        correctSede  \n",
       "107276         True  \n",
       "78576          True  \n",
       "78595          True  \n",
       "78602          True  \n",
       "78601          True  \n",
       "...             ...  \n",
       "309848         True  \n",
       "309849         True  \n",
       "309850         True  \n",
       "295873         True  \n",
       "309851         True  \n",
       "\n",
       "[254479 rows x 5 columns]"
      ]
     },
     "execution_count": 18,
     "metadata": {},
     "output_type": "execute_result"
    }
   ],
   "source": [
    "dfNeop"
   ]
  },
  {
   "cell_type": "code",
   "execution_count": 19,
   "metadata": {},
   "outputs": [
    {
     "name": "stderr",
     "output_type": "stream",
     "text": [
      "/home/trianam/miniconda3/lib/python3.7/site-packages/ipykernel_launcher.py:1: SettingWithCopyWarning: \n",
      "A value is trying to be set on a copy of a slice from a DataFrame.\n",
      "Try using .loc[row_indexer,col_indexer] = value instead\n",
      "\n",
      "See the caveats in the documentation: http://pandas.pydata.org/pandas-docs/stable/user_guide/indexing.html#returning-a-view-versus-a-copy\n",
      "  \"\"\"Entry point for launching an IPython kernel.\n"
     ]
    }
   ],
   "source": [
    "dfNeop['y'] = dfNeop.sede_icdo3.map(lambda s: int(s[1:3]))"
   ]
  },
  {
   "cell_type": "code",
   "execution_count": 20,
   "metadata": {},
   "outputs": [
    {
     "ename": "ValueError",
     "evalue": "invalid literal for int() with base 10: 'C'",
     "output_type": "error",
     "traceback": [
      "\u001b[0;31m---------------------------------------------------------------------------\u001b[0m",
      "\u001b[0;31mValueError\u001b[0m                                Traceback (most recent call last)",
      "\u001b[0;32m<ipython-input-20-0b1dcc14f3d3>\u001b[0m in \u001b[0;36m<module>\u001b[0;34m\u001b[0m\n\u001b[0;32m----> 1\u001b[0;31m \u001b[0mdfNeop\u001b[0m\u001b[0;34m[\u001b[0m\u001b[0;34m'yS'\u001b[0m\u001b[0;34m]\u001b[0m \u001b[0;34m=\u001b[0m \u001b[0mdfNeop\u001b[0m\u001b[0;34m.\u001b[0m\u001b[0msede_icdo3\u001b[0m\u001b[0;34m.\u001b[0m\u001b[0mmap\u001b[0m\u001b[0;34m(\u001b[0m\u001b[0;32mlambda\u001b[0m \u001b[0ms\u001b[0m\u001b[0;34m:\u001b[0m \u001b[0mint\u001b[0m\u001b[0;34m(\u001b[0m\u001b[0ms\u001b[0m\u001b[0;34m[\u001b[0m\u001b[0;36m3\u001b[0m\u001b[0;34m]\u001b[0m\u001b[0;34m)\u001b[0m\u001b[0;34m)\u001b[0m\u001b[0;34m\u001b[0m\u001b[0;34m\u001b[0m\u001b[0m\n\u001b[0m",
      "\u001b[0;32m~/miniconda3/lib/python3.7/site-packages/pandas/core/series.py\u001b[0m in \u001b[0;36mmap\u001b[0;34m(self, arg, na_action)\u001b[0m\n\u001b[1;32m   3823\u001b[0m         \u001b[0mdtype\u001b[0m\u001b[0;34m:\u001b[0m \u001b[0mobject\u001b[0m\u001b[0;34m\u001b[0m\u001b[0;34m\u001b[0m\u001b[0m\n\u001b[1;32m   3824\u001b[0m         \"\"\"\n\u001b[0;32m-> 3825\u001b[0;31m         \u001b[0mnew_values\u001b[0m \u001b[0;34m=\u001b[0m \u001b[0msuper\u001b[0m\u001b[0;34m(\u001b[0m\u001b[0;34m)\u001b[0m\u001b[0;34m.\u001b[0m\u001b[0m_map_values\u001b[0m\u001b[0;34m(\u001b[0m\u001b[0marg\u001b[0m\u001b[0;34m,\u001b[0m \u001b[0mna_action\u001b[0m\u001b[0;34m=\u001b[0m\u001b[0mna_action\u001b[0m\u001b[0;34m)\u001b[0m\u001b[0;34m\u001b[0m\u001b[0;34m\u001b[0m\u001b[0m\n\u001b[0m\u001b[1;32m   3826\u001b[0m         \u001b[0;32mreturn\u001b[0m \u001b[0mself\u001b[0m\u001b[0;34m.\u001b[0m\u001b[0m_constructor\u001b[0m\u001b[0;34m(\u001b[0m\u001b[0mnew_values\u001b[0m\u001b[0;34m,\u001b[0m \u001b[0mindex\u001b[0m\u001b[0;34m=\u001b[0m\u001b[0mself\u001b[0m\u001b[0;34m.\u001b[0m\u001b[0mindex\u001b[0m\u001b[0;34m)\u001b[0m\u001b[0;34m.\u001b[0m\u001b[0m__finalize__\u001b[0m\u001b[0;34m(\u001b[0m\u001b[0mself\u001b[0m\u001b[0;34m)\u001b[0m\u001b[0;34m\u001b[0m\u001b[0;34m\u001b[0m\u001b[0m\n\u001b[1;32m   3827\u001b[0m \u001b[0;34m\u001b[0m\u001b[0m\n",
      "\u001b[0;32m~/miniconda3/lib/python3.7/site-packages/pandas/core/base.py\u001b[0m in \u001b[0;36m_map_values\u001b[0;34m(self, mapper, na_action)\u001b[0m\n\u001b[1;32m   1298\u001b[0m \u001b[0;34m\u001b[0m\u001b[0m\n\u001b[1;32m   1299\u001b[0m         \u001b[0;31m# mapper is a function\u001b[0m\u001b[0;34m\u001b[0m\u001b[0;34m\u001b[0m\u001b[0;34m\u001b[0m\u001b[0m\n\u001b[0;32m-> 1300\u001b[0;31m         \u001b[0mnew_values\u001b[0m \u001b[0;34m=\u001b[0m \u001b[0mmap_f\u001b[0m\u001b[0;34m(\u001b[0m\u001b[0mvalues\u001b[0m\u001b[0;34m,\u001b[0m \u001b[0mmapper\u001b[0m\u001b[0;34m)\u001b[0m\u001b[0;34m\u001b[0m\u001b[0;34m\u001b[0m\u001b[0m\n\u001b[0m\u001b[1;32m   1301\u001b[0m \u001b[0;34m\u001b[0m\u001b[0m\n\u001b[1;32m   1302\u001b[0m         \u001b[0;32mreturn\u001b[0m \u001b[0mnew_values\u001b[0m\u001b[0;34m\u001b[0m\u001b[0;34m\u001b[0m\u001b[0m\n",
      "\u001b[0;32mpandas/_libs/lib.pyx\u001b[0m in \u001b[0;36mpandas._libs.lib.map_infer\u001b[0;34m()\u001b[0m\n",
      "\u001b[0;32m<ipython-input-20-0b1dcc14f3d3>\u001b[0m in \u001b[0;36m<lambda>\u001b[0;34m(s)\u001b[0m\n\u001b[0;32m----> 1\u001b[0;31m \u001b[0mdfNeop\u001b[0m\u001b[0;34m[\u001b[0m\u001b[0;34m'yS'\u001b[0m\u001b[0;34m]\u001b[0m \u001b[0;34m=\u001b[0m \u001b[0mdfNeop\u001b[0m\u001b[0;34m.\u001b[0m\u001b[0msede_icdo3\u001b[0m\u001b[0;34m.\u001b[0m\u001b[0mmap\u001b[0m\u001b[0;34m(\u001b[0m\u001b[0;32mlambda\u001b[0m \u001b[0ms\u001b[0m\u001b[0;34m:\u001b[0m \u001b[0mint\u001b[0m\u001b[0;34m(\u001b[0m\u001b[0ms\u001b[0m\u001b[0;34m[\u001b[0m\u001b[0;36m3\u001b[0m\u001b[0;34m]\u001b[0m\u001b[0;34m)\u001b[0m\u001b[0;34m)\u001b[0m\u001b[0;34m\u001b[0m\u001b[0;34m\u001b[0m\u001b[0m\n\u001b[0m",
      "\u001b[0;31mValueError\u001b[0m: invalid literal for int() with base 10: 'C'"
     ]
    }
   ],
   "source": [
    "dfNeop['yS'] = dfNeop.sede_icdo3.map(lambda s: int(s[3]))"
   ]
  },
  {
   "cell_type": "code",
   "execution_count": null,
   "metadata": {},
   "outputs": [],
   "source": [
    "dfNeop['yM'] = dfNeop.morfologia_icdo3.map(lambda m: int(m[:4]))"
   ]
  },
  {
   "cell_type": "code",
   "execution_count": null,
   "metadata": {},
   "outputs": [],
   "source": [
    "dfNeop['yB'] = dfNeop.morfologia_icdo3.map(lambda m: int(m[4]))"
   ]
  },
  {
   "cell_type": "code",
   "execution_count": null,
   "metadata": {},
   "outputs": [],
   "source": [
    "dfNeop"
   ]
  },
  {
   "cell_type": "markdown",
   "metadata": {},
   "source": [
    "# Load isto"
   ]
  },
  {
   "cell_type": "code",
   "execution_count": null,
   "metadata": {},
   "outputs": [],
   "source": [
    "dfIsto = pd.read_csv(fileIsto, header = 0, encoding=encoding, quoting=csv.QUOTE_NONNUMERIC, low_memory=False, \n",
    "                     usecols = ['notizie', 'diagnosi', 'macroscopia', 'id_neopl', 'id_fonte'],\n",
    "                     dtype={'id_neopl':pd.np.float64, 'id_fonte':pd.np.float64})"
   ]
  },
  {
   "cell_type": "code",
   "execution_count": null,
   "metadata": {},
   "outputs": [],
   "source": [
    "dfIsto"
   ]
  },
  {
   "cell_type": "code",
   "execution_count": null,
   "metadata": {},
   "outputs": [],
   "source": [
    "nullToEmpty = lambda s: \"\" if pd.isnull(s) else str(s)\n",
    "dfIsto['notizie'] = dfIsto.notizie.map(nullToEmpty)\n",
    "dfIsto['diagnosi'] = dfIsto.diagnosi.map(nullToEmpty)\n",
    "dfIsto['macroscopia'] = dfIsto.macroscopia.map(nullToEmpty)"
   ]
  },
  {
   "cell_type": "code",
   "execution_count": null,
   "metadata": {},
   "outputs": [],
   "source": [
    "dfIsto = dfIsto.dropna('index')"
   ]
  },
  {
   "cell_type": "code",
   "execution_count": null,
   "metadata": {},
   "outputs": [],
   "source": [
    "dfIsto"
   ]
  },
  {
   "cell_type": "code",
   "execution_count": null,
   "metadata": {},
   "outputs": [],
   "source": [
    "dfIsto['text'] = dfIsto[['notizie' ,'diagnosi', 'macroscopia']].apply(lambda t: \" \".join(t).upper(), axis=1)"
   ]
  },
  {
   "cell_type": "code",
   "execution_count": null,
   "metadata": {},
   "outputs": [],
   "source": [
    "dfIsto['text'] = dfIsto['text'].astype('unicode')"
   ]
  },
  {
   "cell_type": "code",
   "execution_count": null,
   "metadata": {},
   "outputs": [],
   "source": [
    "dfIsto['text'] = dfIsto['text'].apply(lambda t: \" \".join(re.findall(r\"\\w+|[^\\w\\s]\", t, re.UNICODE)))"
   ]
  },
  {
   "cell_type": "code",
   "execution_count": null,
   "metadata": {},
   "outputs": [],
   "source": [
    "dfIsto"
   ]
  },
  {
   "cell_type": "code",
   "execution_count": null,
   "metadata": {},
   "outputs": [],
   "source": [
    "dfIsto['correctText'] = dfIsto.text.map(lambda t: len(t) > 0)"
   ]
  },
  {
   "cell_type": "code",
   "execution_count": null,
   "metadata": {},
   "outputs": [],
   "source": [
    "dfIsto = dfIsto[dfIsto.correctText]"
   ]
  },
  {
   "cell_type": "code",
   "execution_count": null,
   "metadata": {},
   "outputs": [],
   "source": [
    "dfIsto"
   ]
  },
  {
   "cell_type": "code",
   "execution_count": null,
   "metadata": {},
   "outputs": [],
   "source": [
    "dfIsto = dfIsto.drop_duplicates(['text'])"
   ]
  },
  {
   "cell_type": "code",
   "execution_count": null,
   "metadata": {},
   "outputs": [],
   "source": [
    "dfIsto"
   ]
  },
  {
   "cell_type": "code",
   "execution_count": null,
   "metadata": {},
   "outputs": [],
   "source": [
    "dfIsto = dfIsto.drop_duplicates(['id_neopl'], keep=False)"
   ]
  },
  {
   "cell_type": "code",
   "execution_count": null,
   "metadata": {},
   "outputs": [],
   "source": [
    "dfIsto"
   ]
  },
  {
   "cell_type": "markdown",
   "metadata": {},
   "source": [
    "# Merge"
   ]
  },
  {
   "cell_type": "code",
   "execution_count": null,
   "metadata": {},
   "outputs": [],
   "source": [
    "dfMerge = pd.merge(dfIsto, dfNeop, on='id_neopl', validate=\"one_to_one\")"
   ]
  },
  {
   "cell_type": "code",
   "execution_count": null,
   "metadata": {},
   "outputs": [],
   "source": [
    "dfMerge"
   ]
  },
  {
   "cell_type": "markdown",
   "metadata": {},
   "source": [
    "# Unlabelled"
   ]
  },
  {
   "cell_type": "code",
   "execution_count": null,
   "metadata": {},
   "outputs": [],
   "source": [
    "dfUn = pd.read_csv(fileIsto, header = 0, encoding=encoding, quoting=csv.QUOTE_NONNUMERIC, low_memory=False, \n",
    "                     usecols = ['notizie', 'diagnosi', 'macroscopia', 'id_neopl', 'id_fonte'],\n",
    "                     dtype={'id_neopl':pd.np.float64, 'id_fonte':pd.np.float64})"
   ]
  },
  {
   "cell_type": "code",
   "execution_count": null,
   "metadata": {},
   "outputs": [],
   "source": [
    "dfUn"
   ]
  },
  {
   "cell_type": "code",
   "execution_count": null,
   "metadata": {},
   "outputs": [],
   "source": [
    "dfUn = dfUn[~dfUn.id_fonte.isin(dfMerge.id_fonte)]"
   ]
  },
  {
   "cell_type": "code",
   "execution_count": null,
   "metadata": {},
   "outputs": [],
   "source": [
    "dfUn"
   ]
  },
  {
   "cell_type": "code",
   "execution_count": null,
   "metadata": {},
   "outputs": [],
   "source": [
    "nullToEmpty = lambda s: \"\" if pd.isnull(s) else str(s)\n",
    "dfUn['notizie'] = dfUn.notizie.map(nullToEmpty)\n",
    "dfUn['diagnosi'] = dfUn.diagnosi.map(nullToEmpty)\n",
    "dfUn['macroscopia'] = dfUn.macroscopia.map(nullToEmpty)"
   ]
  },
  {
   "cell_type": "code",
   "execution_count": null,
   "metadata": {},
   "outputs": [],
   "source": [
    "dfUn['text'] = dfUn[['notizie' ,'diagnosi', 'macroscopia']].apply(lambda t: \" \".join(t).upper(), axis=1)"
   ]
  },
  {
   "cell_type": "code",
   "execution_count": null,
   "metadata": {},
   "outputs": [],
   "source": [
    "dfUn['text'] = dfUn['text'].astype('unicode')"
   ]
  },
  {
   "cell_type": "code",
   "execution_count": null,
   "metadata": {},
   "outputs": [],
   "source": [
    "dfUn['text'] = dfUn['text'].apply(lambda t: \" \".join(re.findall(r\"\\w+|[^\\w\\s]\", t, re.UNICODE)))"
   ]
  },
  {
   "cell_type": "code",
   "execution_count": null,
   "metadata": {},
   "outputs": [],
   "source": [
    "dfUn['correctText'] = dfUn.text.map(lambda t: len(t) > 0)"
   ]
  },
  {
   "cell_type": "code",
   "execution_count": null,
   "metadata": {},
   "outputs": [],
   "source": [
    "dfUn = dfUn[dfUn.correctText]"
   ]
  },
  {
   "cell_type": "code",
   "execution_count": null,
   "metadata": {},
   "outputs": [],
   "source": [
    "dfUn"
   ]
  },
  {
   "cell_type": "code",
   "execution_count": null,
   "metadata": {},
   "outputs": [],
   "source": [
    "dfUn = dfUn[~dfUn.text.isin(dfMerge.text)]"
   ]
  },
  {
   "cell_type": "code",
   "execution_count": null,
   "metadata": {},
   "outputs": [],
   "source": [
    "dfUn"
   ]
  },
  {
   "cell_type": "markdown",
   "metadata": {},
   "source": [
    "# Final"
   ]
  },
  {
   "cell_type": "code",
   "execution_count": null,
   "metadata": {},
   "outputs": [],
   "source": [
    "dfFinal = dfMerge[['inserimento_data_neoplasi','text', 'y', 'yS', 'yM', 'yB']]"
   ]
  },
  {
   "cell_type": "code",
   "execution_count": null,
   "metadata": {},
   "outputs": [],
   "source": [
    "dfFinal = dfFinal.rename(columns={\"inserimento_data_neoplasi\": \"data\"})"
   ]
  },
  {
   "cell_type": "code",
   "execution_count": null,
   "metadata": {},
   "outputs": [],
   "source": [
    "dfFinal = dfFinal.sort_values(by=['data'])"
   ]
  },
  {
   "cell_type": "code",
   "execution_count": null,
   "metadata": {},
   "outputs": [],
   "source": [
    "dfFinal"
   ]
  },
  {
   "cell_type": "code",
   "execution_count": null,
   "metadata": {},
   "outputs": [],
   "source": [
    "dfUnlabelled = dfUn[['text']]"
   ]
  },
  {
   "cell_type": "code",
   "execution_count": null,
   "metadata": {},
   "outputs": [],
   "source": [
    "dfUnlabelled"
   ]
  },
  {
   "cell_type": "code",
   "execution_count": null,
   "metadata": {
    "scrolled": true
   },
   "outputs": [],
   "source": [
    "c = collections.Counter(dfFinal.y)\n",
    "c.most_common()"
   ]
  },
  {
   "cell_type": "code",
   "execution_count": null,
   "metadata": {},
   "outputs": [],
   "source": [
    "testLen = int(len(dfFinal)/100*20)"
   ]
  },
  {
   "cell_type": "code",
   "execution_count": null,
   "metadata": {},
   "outputs": [],
   "source": [
    "dfTest = dfFinal.tail(testLen)"
   ]
  },
  {
   "cell_type": "code",
   "execution_count": null,
   "metadata": {},
   "outputs": [],
   "source": [
    "dfTrain = dfFinal.head(len(dfFinal) - testLen)"
   ]
  },
  {
   "cell_type": "code",
   "execution_count": null,
   "metadata": {},
   "outputs": [],
   "source": [
    "dfValid = dfTrain.tail(testLen)"
   ]
  },
  {
   "cell_type": "code",
   "execution_count": null,
   "metadata": {},
   "outputs": [],
   "source": [
    "dfTrain = dfTrain.head(len(dfTrain) - testLen)"
   ]
  },
  {
   "cell_type": "code",
   "execution_count": null,
   "metadata": {},
   "outputs": [],
   "source": [
    "dfTrain"
   ]
  },
  {
   "cell_type": "code",
   "execution_count": null,
   "metadata": {},
   "outputs": [],
   "source": [
    "dfValid"
   ]
  },
  {
   "cell_type": "code",
   "execution_count": null,
   "metadata": {},
   "outputs": [],
   "source": [
    "dfTest"
   ]
  },
  {
   "cell_type": "code",
   "execution_count": null,
   "metadata": {
    "scrolled": true
   },
   "outputs": [],
   "source": [
    "cTrain = collections.Counter(dfTrain.y)\n",
    "cTrain.most_common()"
   ]
  },
  {
   "cell_type": "code",
   "execution_count": null,
   "metadata": {
    "scrolled": true
   },
   "outputs": [],
   "source": [
    "cValid = collections.Counter(dfValid.y)\n",
    "cValid.most_common()"
   ]
  },
  {
   "cell_type": "code",
   "execution_count": null,
   "metadata": {
    "scrolled": true
   },
   "outputs": [],
   "source": [
    "cTest = collections.Counter(dfTest.y)\n",
    "cTest.most_common()"
   ]
  },
  {
   "cell_type": "code",
   "execution_count": null,
   "metadata": {},
   "outputs": [],
   "source": [
    "cTest[44]"
   ]
  },
  {
   "cell_type": "code",
   "execution_count": null,
   "metadata": {},
   "outputs": [],
   "source": [
    "toRemove = set()\n",
    "for i in cTrain.keys():\n",
    "    if not i in cTest.keys():\n",
    "        toRemove.add(i)\n",
    "    "
   ]
  },
  {
   "cell_type": "code",
   "execution_count": null,
   "metadata": {},
   "outputs": [],
   "source": [
    "toRemove"
   ]
  },
  {
   "cell_type": "code",
   "execution_count": null,
   "metadata": {},
   "outputs": [],
   "source": [
    "for i in cValid.keys():\n",
    "    if not i in cTest.keys() or not i in cTrain.keys():\n",
    "        toRemove.add(i)"
   ]
  },
  {
   "cell_type": "code",
   "execution_count": null,
   "metadata": {},
   "outputs": [],
   "source": [
    "toRemove"
   ]
  },
  {
   "cell_type": "code",
   "execution_count": null,
   "metadata": {},
   "outputs": [],
   "source": [
    "for i in cTest.keys():\n",
    "    if not i in cTrain.keys():\n",
    "        toRemove.add(i)"
   ]
  },
  {
   "cell_type": "code",
   "execution_count": null,
   "metadata": {},
   "outputs": [],
   "source": [
    "toRemove"
   ]
  },
  {
   "cell_type": "code",
   "execution_count": null,
   "metadata": {},
   "outputs": [],
   "source": [
    "dfTrain = dfTrain[~dfTrain.y.isin(toRemove)]"
   ]
  },
  {
   "cell_type": "code",
   "execution_count": null,
   "metadata": {},
   "outputs": [],
   "source": [
    "dfValid = dfValid[~dfValid.y.isin(toRemove)]"
   ]
  },
  {
   "cell_type": "code",
   "execution_count": null,
   "metadata": {},
   "outputs": [],
   "source": [
    "dfTest = dfTest[~dfTest.y.isin(toRemove)]"
   ]
  },
  {
   "cell_type": "code",
   "execution_count": null,
   "metadata": {},
   "outputs": [],
   "source": [
    "corpus = {\n",
    "    'train':{\n",
    "        'text':dfTrain['text'].values,\n",
    "        'sede1':dfTrain['y'].values,\n",
    "        'sede2':dfTrain['yS'].values,\n",
    "        'morfo1':dfTrain['yM'].values,\n",
    "        'morfo2':dfTrain['yB'].values,\n",
    "    },\n",
    "    'valid':{\n",
    "        'text':dfValid['text'].values,\n",
    "        'sede1':dfValid['y'].values,\n",
    "        'sede2':dfValid['yS'].values,\n",
    "        'morfo1':dfValid['yM'].values,\n",
    "        'morfo2':dfValid['yB'].values,\n",
    "    },\n",
    "    'test':{\n",
    "        'text':dfTest['text'].values,\n",
    "        'sede1':dfTest['y'].values,\n",
    "        'sede2':dfTest['yS'].values,\n",
    "        'morfo1':dfTest['yM'].values,\n",
    "        'morfo2':dfTest['yB'].values,\n",
    "    },\n",
    "}"
   ]
  },
  {
   "cell_type": "code",
   "execution_count": null,
   "metadata": {},
   "outputs": [],
   "source": [
    "count = collections.Counter(np.concatenate((corpus['train']['sede1'], corpus['valid']['sede1'], corpus['test']['sede1'])))"
   ]
  },
  {
   "cell_type": "code",
   "execution_count": null,
   "metadata": {},
   "outputs": [],
   "source": [
    "values = sorted(count.keys())"
   ]
  },
  {
   "cell_type": "code",
   "execution_count": null,
   "metadata": {},
   "outputs": [],
   "source": [
    "countS = collections.Counter(np.concatenate((corpus['train']['sede2'], corpus['valid']['sede2'], corpus['test']['sede2'])))\n",
    "valuesS = sorted(countS.keys())"
   ]
  },
  {
   "cell_type": "code",
   "execution_count": null,
   "metadata": {},
   "outputs": [],
   "source": [
    "countM = collections.Counter(np.concatenate((corpus['train']['morfo1'], corpus['valid']['morfo1'], corpus['test']['morfo1'])))\n",
    "valuesM = sorted(countM.keys())"
   ]
  },
  {
   "cell_type": "code",
   "execution_count": null,
   "metadata": {},
   "outputs": [],
   "source": [
    "countB = collections.Counter(np.concatenate((corpus['train']['morfo2'], corpus['valid']['morfo2'], corpus['test']['morfo2'])))\n",
    "valuesB = sorted(countB.keys())"
   ]
  },
  {
   "cell_type": "code",
   "execution_count": null,
   "metadata": {},
   "outputs": [],
   "source": [
    "wordVectorsText = np.concatenate((dfUnlabelled.text.values, dfTrain.text.values, dfValid.text.values))"
   ]
  },
  {
   "cell_type": "code",
   "execution_count": null,
   "metadata": {},
   "outputs": [],
   "source": [
    "wordVectorsText[:10]"
   ]
  },
  {
   "cell_type": "code",
   "execution_count": null,
   "metadata": {},
   "outputs": [],
   "source": [
    "np.random.shuffle(wordVectorsText)"
   ]
  },
  {
   "cell_type": "code",
   "execution_count": null,
   "metadata": {},
   "outputs": [],
   "source": [
    "wordVectorsText[:10]"
   ]
  },
  {
   "cell_type": "markdown",
   "metadata": {},
   "source": [
    "# write"
   ]
  },
  {
   "cell_type": "code",
   "execution_count": null,
   "metadata": {},
   "outputs": [],
   "source": [
    "pickle.dump(corpus, open(fileSaveCorpus, 'wb'))\n",
    "pickle.dump(values, open(fileSaveValues, 'wb'))\n",
    "pickle.dump(valuesS, open(fileSaveValuesS, 'wb'))\n",
    "pickle.dump(valuesM, open(fileSaveValuesM, 'wb'))\n",
    "pickle.dump(valuesB, open(fileSaveValuesB, 'wb'))\n",
    "np.savetxt(fileSaveTrainWordVectors, wordVectorsText, delimiter=\" \", fmt=\"%s\")"
   ]
  }
 ],
 "metadata": {
  "kernelspec": {
   "display_name": "Python 3",
   "language": "python",
   "name": "python3"
  },
  "language_info": {
   "codemirror_mode": {
    "name": "ipython",
    "version": 3
   },
   "file_extension": ".py",
   "mimetype": "text/x-python",
   "name": "python",
   "nbconvert_exporter": "python",
   "pygments_lexer": "ipython3",
   "version": "3.7.3"
  }
 },
 "nbformat": 4,
 "nbformat_minor": 2
}
