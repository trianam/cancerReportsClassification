{
 "cells": [
  {
   "cell_type": "code",
   "execution_count": 1,
   "metadata": {},
   "outputs": [],
   "source": [
    "import funPytorch as fun\n",
    "import configurationsMulticlass\n",
    "import configurations\n",
    "import math\n",
    "import time\n",
    "import pandas\n",
    "import pickle\n",
    "from sklearn.metrics import f1_score \n",
    "import collections"
   ]
  },
  {
   "cell_type": "code",
   "execution_count": 2,
   "metadata": {},
   "outputs": [],
   "source": [
    "def calculateF1(conf):\n",
    "    model,optim = fun.loadModel(conf, \"cuda:0\")\n",
    "    X, y, train, valid, test = fun.processData(conf)\n",
    "    _, _, _, _, _, _, _, f1 = fun.runTest(conf, model, X, y, test)\n",
    "    return f1"
   ]
  },
  {
   "cell_type": "markdown",
   "metadata": {},
   "source": [
    "# Site"
   ]
  },
  {
   "cell_type": "code",
   "execution_count": 3,
   "metadata": {},
   "outputs": [],
   "source": [
    "df = pandas.DataFrame()"
   ]
  },
  {
   "cell_type": "code",
   "execution_count": 4,
   "metadata": {},
   "outputs": [],
   "source": [
    "df['icdo'] = pickle.load(open('corpusTemporal/valuesTemporal.p', 'rb'))"
   ]
  },
  {
   "cell_type": "code",
   "execution_count": 5,
   "metadata": {},
   "outputs": [
    {
     "name": "stdout",
     "output_type": "stream",
     "text": [
      "Loading modelsPytorchMulticlass/confTbaseMulti/2/256/GRU/epoch4.pt\n",
      "         processed line 85170/85170           \n",
      "         reprocessed line 85170/85170           \n",
      "test_loss: 0.4549 - test_acc: 89.7681\n",
      "MAPs: 0.9331 - MAPc: 0.5563\n",
      "acc: 0.8977 - kappa: 0.8848\n",
      "accT3: 0.9636 - accT5: 0.9764\n",
      "f1micro: 0.8977 - f1macro: 0.5543\n"
     ]
    },
    {
     "name": "stderr",
     "output_type": "stream",
     "text": [
      "/home/trianam/miniconda3/lib/python3.7/site-packages/sklearn/metrics/classification.py:1437: UndefinedMetricWarning: F-score is ill-defined and being set to 0.0 in labels with no predicted samples.\n",
      "  'precision', 'predicted', average, warn_for)\n"
     ]
    }
   ],
   "source": [
    "df['GRU'] = calculateF1(configurationsMulticlass.configTbaseMultiBest)"
   ]
  },
  {
   "cell_type": "code",
   "execution_count": 6,
   "metadata": {},
   "outputs": [
    {
     "name": "stdout",
     "output_type": "stream",
     "text": [
      "Loading modelsPytorchMulticlass/confTImulti2/2/128/epoch35.pt\n",
      "         processed line 85170/85170           \n",
      "         reprocessed line 85170/85170           \n",
      "test_loss: 3.3127 - test_acc: 87.9190\n",
      "MAPs: 0.9190 - MAPc: 0.4259\n",
      "acc: 0.8792 - kappa: 0.8637\n",
      "accT3: 0.9533 - accT5: 0.9610\n",
      "f1micro: 0.8792 - f1macro: 0.4197\n"
     ]
    }
   ],
   "source": [
    "df['MAXi'] = calculateF1(configurationsMulticlass.configTImulti2best)"
   ]
  },
  {
   "cell_type": "code",
   "execution_count": 7,
   "metadata": {},
   "outputs": [
    {
     "name": "stdout",
     "output_type": "stream",
     "text": [
      "Loading modelsPytorchMulticlass/confH/64/2/1024/best.pt\n",
      "         reprocessed line 85170/85170           \n",
      "test_loss: 0.4304 - test_acc: 89.7975\n",
      "MAPs: 0.9329 - MAPc: 0.5273\n",
      "acc: 0.8980 - kappa: 0.8851\n",
      "accT3: 0.9611 - accT5: 0.9773\n",
      "f1micro: 0.8980 - f1macro: 0.5567\n"
     ]
    }
   ],
   "source": [
    "df['MAXh'] = calculateF1(configurationsMulticlass.configHbest)"
   ]
  },
  {
   "cell_type": "code",
   "execution_count": 8,
   "metadata": {},
   "outputs": [
    {
     "name": "stdout",
     "output_type": "stream",
     "text": [
      "Loading modelsPytorchMulticlass/confHS/128/1/1024/128/best.pt\n",
      "         reprocessed line 85170/85170           \n",
      "test_loss: 0.4525 - test_acc: 89.8268\n",
      "MAPs: 0.9329 - MAPc: 0.5398\n",
      "acc: 0.8983 - kappa: 0.8855\n",
      "accT3: 0.9617 - accT5: 0.9760\n",
      "f1micro: 0.8983 - f1macro: 0.5479\n"
     ]
    }
   ],
   "source": [
    "df['ATTh'] = calculateF1(configurationsMulticlass.configHSbest)"
   ]
  },
  {
   "cell_type": "code",
   "execution_count": 9,
   "metadata": {},
   "outputs": [
    {
     "name": "stdout",
     "output_type": "stream",
     "text": [
      "Loading modelsPytorchMulticlass/confTSmulti1/128/1/512/256/epoch8.pt\n",
      "         processed line 85170/85170           \n",
      "         reprocessed line 85170/85170           \n",
      "test_loss: 0.4783 - test_acc: 90.0792\n",
      "MAPs: 0.9341 - MAPc: 0.5659\n",
      "acc: 0.9008 - kappa: 0.8883\n",
      "accT3: 0.9607 - accT5: 0.9749\n",
      "f1micro: 0.9008 - f1macro: 0.5766\n"
     ]
    }
   ],
   "source": [
    "df['ATT'] = calculateF1(configurationsMulticlass.configTSmulti1best)"
   ]
  },
  {
   "cell_type": "code",
   "execution_count": 10,
   "metadata": {},
   "outputs": [
    {
     "name": "stdout",
     "output_type": "stream",
     "text": [
      "Loading modelsPytorchMulticlass/confTmulti1/128/1/512/epoch5.pt\n",
      "         processed line 85170/85170           \n",
      "         reprocessed line 85170/85170           \n",
      "test_loss: 0.4235 - test_acc: 90.2436\n",
      "MAPs: 0.9369 - MAPc: 0.5680\n",
      "acc: 0.9024 - kappa: 0.8901\n",
      "accT3: 0.9658 - accT5: 0.9797\n",
      "f1micro: 0.9024 - f1macro: 0.5887\n"
     ]
    }
   ],
   "source": [
    "df['MAX'] = calculateF1(configurationsMulticlass.configTmulti1best)"
   ]
  },
  {
   "cell_type": "code",
   "execution_count": 11,
   "metadata": {},
   "outputs": [],
   "source": [
    "svmPred = pickle.load(open(\"predictionsSVM-Asite.p\", 'rb'))"
   ]
  },
  {
   "cell_type": "code",
   "execution_count": 12,
   "metadata": {},
   "outputs": [],
   "source": [
    "df['SVM'] = f1_score(svmPred['y'], svmPred['yp'], average=None)"
   ]
  },
  {
   "cell_type": "code",
   "execution_count": 13,
   "metadata": {},
   "outputs": [],
   "source": [
    "xgboostPred = pickle.load(open(\"predictionsXGBoost-Asite.p\", 'rb'))"
   ]
  },
  {
   "cell_type": "code",
   "execution_count": 14,
   "metadata": {},
   "outputs": [],
   "source": [
    "df['XGBoost'] = f1_score(xgboostPred['y'], xgboostPred['yp'], average=None)"
   ]
  },
  {
   "cell_type": "code",
   "execution_count": 15,
   "metadata": {},
   "outputs": [],
   "source": [
    "bertPred = pickle.load(open(\"../../bert/predictionsBERT.p\", 'rb'))"
   ]
  },
  {
   "cell_type": "code",
   "execution_count": 16,
   "metadata": {},
   "outputs": [],
   "source": [
    "df['BERT'] = f1_score(bertPred['y'], bertPred['yp'], average=None)"
   ]
  },
  {
   "cell_type": "code",
   "execution_count": 17,
   "metadata": {},
   "outputs": [],
   "source": [
    "c = collections.Counter(svmPred['y'])"
   ]
  },
  {
   "cell_type": "code",
   "execution_count": 18,
   "metadata": {},
   "outputs": [],
   "source": [
    "df['examples'] = [c[i] for i in range(len(c.keys()))]"
   ]
  },
  {
   "cell_type": "code",
   "execution_count": 19,
   "metadata": {},
   "outputs": [
    {
     "data": {
      "text/html": [
       "<div>\n",
       "<style scoped>\n",
       "    .dataframe tbody tr th:only-of-type {\n",
       "        vertical-align: middle;\n",
       "    }\n",
       "\n",
       "    .dataframe tbody tr th {\n",
       "        vertical-align: top;\n",
       "    }\n",
       "\n",
       "    .dataframe thead th {\n",
       "        text-align: right;\n",
       "    }\n",
       "</style>\n",
       "<table border=\"1\" class=\"dataframe\">\n",
       "  <thead>\n",
       "    <tr style=\"text-align: right;\">\n",
       "      <th></th>\n",
       "      <th>icdo</th>\n",
       "      <th>GRU</th>\n",
       "      <th>MAXi</th>\n",
       "      <th>MAXh</th>\n",
       "      <th>ATTh</th>\n",
       "      <th>ATT</th>\n",
       "      <th>MAX</th>\n",
       "      <th>SVM</th>\n",
       "      <th>XGBoost</th>\n",
       "      <th>BERT</th>\n",
       "      <th>examples</th>\n",
       "    </tr>\n",
       "  </thead>\n",
       "  <tbody>\n",
       "    <tr>\n",
       "      <td>0</td>\n",
       "      <td>0</td>\n",
       "      <td>0.565217</td>\n",
       "      <td>0.000000</td>\n",
       "      <td>0.619048</td>\n",
       "      <td>0.500000</td>\n",
       "      <td>0.666667</td>\n",
       "      <td>0.564103</td>\n",
       "      <td>0.370370</td>\n",
       "      <td>0.451613</td>\n",
       "      <td>0.473684</td>\n",
       "      <td>18</td>\n",
       "    </tr>\n",
       "    <tr>\n",
       "      <td>1</td>\n",
       "      <td>1</td>\n",
       "      <td>0.285714</td>\n",
       "      <td>0.000000</td>\n",
       "      <td>0.200000</td>\n",
       "      <td>0.428571</td>\n",
       "      <td>0.300000</td>\n",
       "      <td>0.500000</td>\n",
       "      <td>0.222222</td>\n",
       "      <td>0.000000</td>\n",
       "      <td>0.000000</td>\n",
       "      <td>7</td>\n",
       "    </tr>\n",
       "    <tr>\n",
       "      <td>2</td>\n",
       "      <td>2</td>\n",
       "      <td>0.736842</td>\n",
       "      <td>0.408163</td>\n",
       "      <td>0.724138</td>\n",
       "      <td>0.684932</td>\n",
       "      <td>0.754098</td>\n",
       "      <td>0.828571</td>\n",
       "      <td>0.794118</td>\n",
       "      <td>0.794118</td>\n",
       "      <td>0.777778</td>\n",
       "      <td>34</td>\n",
       "    </tr>\n",
       "    <tr>\n",
       "      <td>3</td>\n",
       "      <td>3</td>\n",
       "      <td>0.250000</td>\n",
       "      <td>0.000000</td>\n",
       "      <td>0.000000</td>\n",
       "      <td>0.000000</td>\n",
       "      <td>0.333333</td>\n",
       "      <td>0.000000</td>\n",
       "      <td>0.000000</td>\n",
       "      <td>0.000000</td>\n",
       "      <td>0.000000</td>\n",
       "      <td>5</td>\n",
       "    </tr>\n",
       "    <tr>\n",
       "      <td>4</td>\n",
       "      <td>4</td>\n",
       "      <td>0.000000</td>\n",
       "      <td>0.000000</td>\n",
       "      <td>0.000000</td>\n",
       "      <td>0.222222</td>\n",
       "      <td>0.000000</td>\n",
       "      <td>0.250000</td>\n",
       "      <td>0.571429</td>\n",
       "      <td>0.571429</td>\n",
       "      <td>0.000000</td>\n",
       "      <td>7</td>\n",
       "    </tr>\n",
       "    <tr>\n",
       "      <td>...</td>\n",
       "      <td>...</td>\n",
       "      <td>...</td>\n",
       "      <td>...</td>\n",
       "      <td>...</td>\n",
       "      <td>...</td>\n",
       "      <td>...</td>\n",
       "      <td>...</td>\n",
       "      <td>...</td>\n",
       "      <td>...</td>\n",
       "      <td>...</td>\n",
       "      <td>...</td>\n",
       "    </tr>\n",
       "    <tr>\n",
       "      <td>63</td>\n",
       "      <td>74</td>\n",
       "      <td>0.500000</td>\n",
       "      <td>0.500000</td>\n",
       "      <td>0.500000</td>\n",
       "      <td>0.500000</td>\n",
       "      <td>0.400000</td>\n",
       "      <td>0.666667</td>\n",
       "      <td>0.666667</td>\n",
       "      <td>0.666667</td>\n",
       "      <td>0.500000</td>\n",
       "      <td>2</td>\n",
       "    </tr>\n",
       "    <tr>\n",
       "      <td>64</td>\n",
       "      <td>75</td>\n",
       "      <td>0.820513</td>\n",
       "      <td>0.810811</td>\n",
       "      <td>0.789474</td>\n",
       "      <td>0.638298</td>\n",
       "      <td>0.727273</td>\n",
       "      <td>0.714286</td>\n",
       "      <td>0.842105</td>\n",
       "      <td>0.777778</td>\n",
       "      <td>0.777778</td>\n",
       "      <td>21</td>\n",
       "    </tr>\n",
       "    <tr>\n",
       "      <td>65</td>\n",
       "      <td>76</td>\n",
       "      <td>0.000000</td>\n",
       "      <td>0.000000</td>\n",
       "      <td>0.000000</td>\n",
       "      <td>0.000000</td>\n",
       "      <td>0.400000</td>\n",
       "      <td>0.000000</td>\n",
       "      <td>0.000000</td>\n",
       "      <td>0.000000</td>\n",
       "      <td>0.000000</td>\n",
       "      <td>3</td>\n",
       "    </tr>\n",
       "    <tr>\n",
       "      <td>66</td>\n",
       "      <td>77</td>\n",
       "      <td>0.602190</td>\n",
       "      <td>0.360743</td>\n",
       "      <td>0.645051</td>\n",
       "      <td>0.650264</td>\n",
       "      <td>0.660650</td>\n",
       "      <td>0.662116</td>\n",
       "      <td>0.384824</td>\n",
       "      <td>0.290909</td>\n",
       "      <td>0.664234</td>\n",
       "      <td>264</td>\n",
       "    </tr>\n",
       "    <tr>\n",
       "      <td>67</td>\n",
       "      <td>80</td>\n",
       "      <td>0.128079</td>\n",
       "      <td>0.154589</td>\n",
       "      <td>0.176166</td>\n",
       "      <td>0.238532</td>\n",
       "      <td>0.205128</td>\n",
       "      <td>0.191781</td>\n",
       "      <td>0.174863</td>\n",
       "      <td>0.215962</td>\n",
       "      <td>0.196262</td>\n",
       "      <td>146</td>\n",
       "    </tr>\n",
       "  </tbody>\n",
       "</table>\n",
       "<p>68 rows × 11 columns</p>\n",
       "</div>"
      ],
      "text/plain": [
       "    icdo       GRU      MAXi      MAXh      ATTh       ATT       MAX  \\\n",
       "0      0  0.565217  0.000000  0.619048  0.500000  0.666667  0.564103   \n",
       "1      1  0.285714  0.000000  0.200000  0.428571  0.300000  0.500000   \n",
       "2      2  0.736842  0.408163  0.724138  0.684932  0.754098  0.828571   \n",
       "3      3  0.250000  0.000000  0.000000  0.000000  0.333333  0.000000   \n",
       "4      4  0.000000  0.000000  0.000000  0.222222  0.000000  0.250000   \n",
       "..   ...       ...       ...       ...       ...       ...       ...   \n",
       "63    74  0.500000  0.500000  0.500000  0.500000  0.400000  0.666667   \n",
       "64    75  0.820513  0.810811  0.789474  0.638298  0.727273  0.714286   \n",
       "65    76  0.000000  0.000000  0.000000  0.000000  0.400000  0.000000   \n",
       "66    77  0.602190  0.360743  0.645051  0.650264  0.660650  0.662116   \n",
       "67    80  0.128079  0.154589  0.176166  0.238532  0.205128  0.191781   \n",
       "\n",
       "         SVM   XGBoost      BERT  examples  \n",
       "0   0.370370  0.451613  0.473684        18  \n",
       "1   0.222222  0.000000  0.000000         7  \n",
       "2   0.794118  0.794118  0.777778        34  \n",
       "3   0.000000  0.000000  0.000000         5  \n",
       "4   0.571429  0.571429  0.000000         7  \n",
       "..       ...       ...       ...       ...  \n",
       "63  0.666667  0.666667  0.500000         2  \n",
       "64  0.842105  0.777778  0.777778        21  \n",
       "65  0.000000  0.000000  0.000000         3  \n",
       "66  0.384824  0.290909  0.664234       264  \n",
       "67  0.174863  0.215962  0.196262       146  \n",
       "\n",
       "[68 rows x 11 columns]"
      ]
     },
     "execution_count": 19,
     "metadata": {},
     "output_type": "execute_result"
    }
   ],
   "source": [
    "df"
   ]
  },
  {
   "cell_type": "code",
   "execution_count": 20,
   "metadata": {},
   "outputs": [],
   "source": [
    "df.to_csv(\"f1matrix-site.csv\", index=False)"
   ]
  },
  {
   "cell_type": "markdown",
   "metadata": {},
   "source": [
    "# Morpho"
   ]
  },
  {
   "cell_type": "code",
   "execution_count": 21,
   "metadata": {},
   "outputs": [],
   "source": [
    "dfM = pandas.DataFrame()"
   ]
  },
  {
   "cell_type": "code",
   "execution_count": 22,
   "metadata": {},
   "outputs": [],
   "source": [
    "dfM['icdo'] = pickle.load(open('corpusTemporalV2b/valuesTemporalMorfo1.p', 'rb'))"
   ]
  },
  {
   "cell_type": "code",
   "execution_count": 23,
   "metadata": {},
   "outputs": [
    {
     "name": "stdout",
     "output_type": "stream",
     "text": [
      "Loading modelsPytorchMulticlass/confTMbaseMulti/1/256/GRU/epoch4.pt\n",
      "         processed line 84127/84127           \n",
      "         reprocessed line 84127/84127           \n",
      "test_loss: 0.6901 - test_acc: 82.6615\n",
      "MAPs: 0.8881 - MAPc: 0.4844\n",
      "acc: 0.8266 - kappa: 0.8064\n",
      "accT3: 0.9402 - accT5: 0.9602\n",
      "f1micro: 0.8266 - f1macro: 0.4278\n"
     ]
    }
   ],
   "source": [
    "dfM['GRU'] = calculateF1(configurationsMulticlass.configTMbaseMultiBest)"
   ]
  },
  {
   "cell_type": "code",
   "execution_count": 24,
   "metadata": {},
   "outputs": [
    {
     "name": "stdout",
     "output_type": "stream",
     "text": [
      "Loading modelsPytorchMulticlass/confTMImulti/2/256/epoch10.pt\n",
      "         processed line 84127/84127           \n",
      "         reprocessed line 84127/84127           \n",
      "test_loss: 4.4054 - test_acc: 73.1654\n",
      "MAPs: 0.8169 - MAPc: 0.3776\n",
      "acc: 0.7317 - kappa: 0.6964\n",
      "accT3: 0.9012 - accT5: 0.9305\n",
      "f1micro: 0.7317 - f1macro: 0.2413\n"
     ]
    }
   ],
   "source": [
    "dfM['MAXi'] = calculateF1(configurationsMulticlass.configTMImultiBest)"
   ]
  },
  {
   "cell_type": "code",
   "execution_count": 25,
   "metadata": {},
   "outputs": [
    {
     "name": "stdout",
     "output_type": "stream",
     "text": [
      "Loading modelsPytorchMulticlass/confHM/64/1/1024/best.pt\n",
      "         reprocessed line 84127/84127           \n",
      "test_loss: 0.6817 - test_acc: 83.1298\n",
      "MAPs: 0.8894 - MAPc: 0.4515\n",
      "acc: 0.8313 - kappa: 0.8117\n",
      "accT3: 0.9382 - accT5: 0.9582\n",
      "f1micro: 0.8313 - f1macro: 0.4331\n"
     ]
    }
   ],
   "source": [
    "dfM['MAXh'] = calculateF1(configurationsMulticlass.configHMbest)"
   ]
  },
  {
   "cell_type": "code",
   "execution_count": 26,
   "metadata": {},
   "outputs": [
    {
     "name": "stdout",
     "output_type": "stream",
     "text": [
      "Loading modelsPytorchMulticlass/confHSM/64/1/1024/128/best.pt\n",
      "         reprocessed line 84127/84127           \n",
      "test_loss: 0.7179 - test_acc: 83.1772\n",
      "MAPs: 0.8894 - MAPc: 0.4915\n",
      "acc: 0.8318 - kappa: 0.8119\n",
      "accT3: 0.9388 - accT5: 0.9566\n",
      "f1micro: 0.8318 - f1macro: 0.4668\n"
     ]
    }
   ],
   "source": [
    "dfM['ATTh'] = calculateF1(configurationsMulticlass.configHSMbest)"
   ]
  },
  {
   "cell_type": "code",
   "execution_count": 27,
   "metadata": {},
   "outputs": [
    {
     "name": "stdout",
     "output_type": "stream",
     "text": [
      "Loading modelsPytorchMulticlass/confTSMmulti1/256/1/128/256/epoch12.pt\n",
      "         processed line 84127/84127           \n",
      "         reprocessed line 84127/84127           \n",
      "test_loss: 0.6890 - test_acc: 84.2442\n",
      "MAPs: 0.8973 - MAPc: 0.5295\n",
      "acc: 0.8424 - kappa: 0.8240\n",
      "accT3: 0.9445 - accT5: 0.9632\n",
      "f1micro: 0.8424 - f1macro: 0.5079\n"
     ]
    }
   ],
   "source": [
    "dfM['ATT'] = calculateF1(configurationsMulticlass.configTSMmulti1best)"
   ]
  },
  {
   "cell_type": "code",
   "execution_count": 28,
   "metadata": {},
   "outputs": [
    {
     "name": "stdout",
     "output_type": "stream",
     "text": [
      "Loading modelsPytorchMulticlass/confTMmulti1/128/1/128/epoch8.pt\n",
      "         processed line 84127/84127           \n",
      "         reprocessed line 84127/84127           \n",
      "test_loss: 0.6612 - test_acc: 83.9419\n",
      "MAPs: 0.8962 - MAPc: 0.4530\n",
      "acc: 0.8394 - kappa: 0.8207\n",
      "accT3: 0.9452 - accT5: 0.9634\n",
      "f1micro: 0.8394 - f1macro: 0.4581\n"
     ]
    }
   ],
   "source": [
    "dfM['MAX'] = calculateF1(configurationsMulticlass.configTMmulti1best)"
   ]
  },
  {
   "cell_type": "code",
   "execution_count": 29,
   "metadata": {},
   "outputs": [],
   "source": [
    "svmPredM = pickle.load(open(\"predictionsSVM-Amorpho.p\", 'rb'))"
   ]
  },
  {
   "cell_type": "code",
   "execution_count": 30,
   "metadata": {},
   "outputs": [],
   "source": [
    "dfM['SVM'] = f1_score(svmPredM['y'], svmPredM['yp'], average=None)"
   ]
  },
  {
   "cell_type": "code",
   "execution_count": 31,
   "metadata": {},
   "outputs": [],
   "source": [
    "xgboostPredM = pickle.load(open(\"predictionsXGBoost-Amorpho.p\", 'rb'))"
   ]
  },
  {
   "cell_type": "code",
   "execution_count": 32,
   "metadata": {},
   "outputs": [],
   "source": [
    "dfM['XGBoost'] = f1_score(xgboostPredM['y'], xgboostPredM['yp'], average=None)"
   ]
  },
  {
   "cell_type": "code",
   "execution_count": 34,
   "metadata": {},
   "outputs": [],
   "source": [
    "bertPredM = pickle.load(open(\"../../bert/predictionsBERTmorpho.p\", 'rb'))"
   ]
  },
  {
   "cell_type": "code",
   "execution_count": 35,
   "metadata": {},
   "outputs": [],
   "source": [
    "dfM['BERT'] = f1_score(bertPredM['y'], bertPredM['yp'], average=None)"
   ]
  },
  {
   "cell_type": "code",
   "execution_count": 36,
   "metadata": {},
   "outputs": [],
   "source": [
    "cM = collections.Counter(svmPredM['y'])"
   ]
  },
  {
   "cell_type": "code",
   "execution_count": 37,
   "metadata": {},
   "outputs": [],
   "source": [
    "dfM['examples'] = [cM[i] for i in range(len(cM.keys()))]"
   ]
  },
  {
   "cell_type": "code",
   "execution_count": 38,
   "metadata": {},
   "outputs": [
    {
     "data": {
      "text/html": [
       "<div>\n",
       "<style scoped>\n",
       "    .dataframe tbody tr th:only-of-type {\n",
       "        vertical-align: middle;\n",
       "    }\n",
       "\n",
       "    .dataframe tbody tr th {\n",
       "        vertical-align: top;\n",
       "    }\n",
       "\n",
       "    .dataframe thead th {\n",
       "        text-align: right;\n",
       "    }\n",
       "</style>\n",
       "<table border=\"1\" class=\"dataframe\">\n",
       "  <thead>\n",
       "    <tr style=\"text-align: right;\">\n",
       "      <th></th>\n",
       "      <th>icdo</th>\n",
       "      <th>GRU</th>\n",
       "      <th>MAXi</th>\n",
       "      <th>MAXh</th>\n",
       "      <th>ATTh</th>\n",
       "      <th>ATT</th>\n",
       "      <th>MAX</th>\n",
       "      <th>SVM</th>\n",
       "      <th>XGBoost</th>\n",
       "      <th>BERT</th>\n",
       "      <th>examples</th>\n",
       "    </tr>\n",
       "  </thead>\n",
       "  <tbody>\n",
       "    <tr>\n",
       "      <td>0</td>\n",
       "      <td>8000</td>\n",
       "      <td>0.375185</td>\n",
       "      <td>0.295875</td>\n",
       "      <td>0.383333</td>\n",
       "      <td>0.324159</td>\n",
       "      <td>0.409704</td>\n",
       "      <td>0.430052</td>\n",
       "      <td>0.279612</td>\n",
       "      <td>0.397790</td>\n",
       "      <td>0.446429</td>\n",
       "      <td>345</td>\n",
       "    </tr>\n",
       "    <tr>\n",
       "      <td>1</td>\n",
       "      <td>8001</td>\n",
       "      <td>0.076923</td>\n",
       "      <td>0.000000</td>\n",
       "      <td>0.075000</td>\n",
       "      <td>0.186916</td>\n",
       "      <td>0.114943</td>\n",
       "      <td>0.144578</td>\n",
       "      <td>0.095238</td>\n",
       "      <td>0.075949</td>\n",
       "      <td>0.000000</td>\n",
       "      <td>75</td>\n",
       "    </tr>\n",
       "    <tr>\n",
       "      <td>2</td>\n",
       "      <td>8010</td>\n",
       "      <td>0.542735</td>\n",
       "      <td>0.439174</td>\n",
       "      <td>0.535044</td>\n",
       "      <td>0.561257</td>\n",
       "      <td>0.584388</td>\n",
       "      <td>0.562173</td>\n",
       "      <td>0.509485</td>\n",
       "      <td>0.628722</td>\n",
       "      <td>0.618009</td>\n",
       "      <td>561</td>\n",
       "    </tr>\n",
       "    <tr>\n",
       "      <td>3</td>\n",
       "      <td>8011</td>\n",
       "      <td>0.000000</td>\n",
       "      <td>0.000000</td>\n",
       "      <td>0.000000</td>\n",
       "      <td>0.000000</td>\n",
       "      <td>0.000000</td>\n",
       "      <td>0.000000</td>\n",
       "      <td>0.000000</td>\n",
       "      <td>0.000000</td>\n",
       "      <td>0.000000</td>\n",
       "      <td>1</td>\n",
       "    </tr>\n",
       "    <tr>\n",
       "      <td>4</td>\n",
       "      <td>8012</td>\n",
       "      <td>0.500000</td>\n",
       "      <td>0.000000</td>\n",
       "      <td>0.363636</td>\n",
       "      <td>0.727273</td>\n",
       "      <td>0.857143</td>\n",
       "      <td>0.400000</td>\n",
       "      <td>0.400000</td>\n",
       "      <td>0.500000</td>\n",
       "      <td>0.571429</td>\n",
       "      <td>4</td>\n",
       "    </tr>\n",
       "    <tr>\n",
       "      <td>...</td>\n",
       "      <td>...</td>\n",
       "      <td>...</td>\n",
       "      <td>...</td>\n",
       "      <td>...</td>\n",
       "      <td>...</td>\n",
       "      <td>...</td>\n",
       "      <td>...</td>\n",
       "      <td>...</td>\n",
       "      <td>...</td>\n",
       "      <td>...</td>\n",
       "      <td>...</td>\n",
       "    </tr>\n",
       "    <tr>\n",
       "      <td>198</td>\n",
       "      <td>9980</td>\n",
       "      <td>0.463768</td>\n",
       "      <td>0.307692</td>\n",
       "      <td>0.470588</td>\n",
       "      <td>0.418605</td>\n",
       "      <td>0.578947</td>\n",
       "      <td>0.555556</td>\n",
       "      <td>0.478261</td>\n",
       "      <td>0.444444</td>\n",
       "      <td>0.327273</td>\n",
       "      <td>22</td>\n",
       "    </tr>\n",
       "    <tr>\n",
       "      <td>199</td>\n",
       "      <td>9983</td>\n",
       "      <td>0.200000</td>\n",
       "      <td>0.222222</td>\n",
       "      <td>0.307692</td>\n",
       "      <td>0.333333</td>\n",
       "      <td>0.461538</td>\n",
       "      <td>0.363636</td>\n",
       "      <td>0.400000</td>\n",
       "      <td>0.461538</td>\n",
       "      <td>0.000000</td>\n",
       "      <td>8</td>\n",
       "    </tr>\n",
       "    <tr>\n",
       "      <td>200</td>\n",
       "      <td>9984</td>\n",
       "      <td>0.000000</td>\n",
       "      <td>0.000000</td>\n",
       "      <td>0.000000</td>\n",
       "      <td>0.000000</td>\n",
       "      <td>0.000000</td>\n",
       "      <td>0.000000</td>\n",
       "      <td>0.000000</td>\n",
       "      <td>0.000000</td>\n",
       "      <td>0.000000</td>\n",
       "      <td>2</td>\n",
       "    </tr>\n",
       "    <tr>\n",
       "      <td>201</td>\n",
       "      <td>9989</td>\n",
       "      <td>0.426667</td>\n",
       "      <td>0.573171</td>\n",
       "      <td>0.470588</td>\n",
       "      <td>0.493506</td>\n",
       "      <td>0.530612</td>\n",
       "      <td>0.574850</td>\n",
       "      <td>0.554745</td>\n",
       "      <td>0.535948</td>\n",
       "      <td>0.444444</td>\n",
       "      <td>78</td>\n",
       "    </tr>\n",
       "    <tr>\n",
       "      <td>202</td>\n",
       "      <td>9990</td>\n",
       "      <td>0.000000</td>\n",
       "      <td>0.000000</td>\n",
       "      <td>0.000000</td>\n",
       "      <td>0.000000</td>\n",
       "      <td>0.000000</td>\n",
       "      <td>0.000000</td>\n",
       "      <td>0.000000</td>\n",
       "      <td>0.000000</td>\n",
       "      <td>0.000000</td>\n",
       "      <td>1</td>\n",
       "    </tr>\n",
       "  </tbody>\n",
       "</table>\n",
       "<p>203 rows × 11 columns</p>\n",
       "</div>"
      ],
      "text/plain": [
       "     icdo       GRU      MAXi      MAXh      ATTh       ATT       MAX  \\\n",
       "0    8000  0.375185  0.295875  0.383333  0.324159  0.409704  0.430052   \n",
       "1    8001  0.076923  0.000000  0.075000  0.186916  0.114943  0.144578   \n",
       "2    8010  0.542735  0.439174  0.535044  0.561257  0.584388  0.562173   \n",
       "3    8011  0.000000  0.000000  0.000000  0.000000  0.000000  0.000000   \n",
       "4    8012  0.500000  0.000000  0.363636  0.727273  0.857143  0.400000   \n",
       "..    ...       ...       ...       ...       ...       ...       ...   \n",
       "198  9980  0.463768  0.307692  0.470588  0.418605  0.578947  0.555556   \n",
       "199  9983  0.200000  0.222222  0.307692  0.333333  0.461538  0.363636   \n",
       "200  9984  0.000000  0.000000  0.000000  0.000000  0.000000  0.000000   \n",
       "201  9989  0.426667  0.573171  0.470588  0.493506  0.530612  0.574850   \n",
       "202  9990  0.000000  0.000000  0.000000  0.000000  0.000000  0.000000   \n",
       "\n",
       "          SVM   XGBoost      BERT  examples  \n",
       "0    0.279612  0.397790  0.446429       345  \n",
       "1    0.095238  0.075949  0.000000        75  \n",
       "2    0.509485  0.628722  0.618009       561  \n",
       "3    0.000000  0.000000  0.000000         1  \n",
       "4    0.400000  0.500000  0.571429         4  \n",
       "..        ...       ...       ...       ...  \n",
       "198  0.478261  0.444444  0.327273        22  \n",
       "199  0.400000  0.461538  0.000000         8  \n",
       "200  0.000000  0.000000  0.000000         2  \n",
       "201  0.554745  0.535948  0.444444        78  \n",
       "202  0.000000  0.000000  0.000000         1  \n",
       "\n",
       "[203 rows x 11 columns]"
      ]
     },
     "execution_count": 38,
     "metadata": {},
     "output_type": "execute_result"
    }
   ],
   "source": [
    "dfM"
   ]
  },
  {
   "cell_type": "code",
   "execution_count": 39,
   "metadata": {},
   "outputs": [],
   "source": [
    "dfM.to_csv(\"f1matrix-morpho.csv\", index=False)"
   ]
  },
  {
   "cell_type": "code",
   "execution_count": null,
   "metadata": {},
   "outputs": [],
   "source": []
  }
 ],
 "metadata": {
  "kernelspec": {
   "display_name": "Python 3",
   "language": "python",
   "name": "python3"
  },
  "language_info": {
   "codemirror_mode": {
    "name": "ipython",
    "version": 3
   },
   "file_extension": ".py",
   "mimetype": "text/x-python",
   "name": "python",
   "nbconvert_exporter": "python",
   "pygments_lexer": "ipython3",
   "version": "3.7.3"
  }
 },
 "nbformat": 4,
 "nbformat_minor": 2
}
