{
 "cells": [
  {
   "cell_type": "code",
   "execution_count": 2,
   "metadata": {},
   "outputs": [],
   "source": [
    "import funPytorch as fun\n",
    "import configurationsMulticlass\n",
    "import configurations\n",
    "import math\n",
    "import time\n",
    "import pandas\n",
    "import pickle\n",
    "from sklearn.metrics import f1_score \n",
    "import collections"
   ]
  },
  {
   "cell_type": "code",
   "execution_count": 10,
   "metadata": {},
   "outputs": [],
   "source": [
    "def calculatePred(conf):\n",
    "    model,optim = fun.loadModel(conf, \"cuda:0\")\n",
    "    X, y, train, valid, test = fun.processData(conf)\n",
    "    _, _, _, _, _, _, _, _, y, yp = fun.runTest(conf, model, X, y, test)\n",
    "    return y,yp"
   ]
  },
  {
   "cell_type": "markdown",
   "metadata": {},
   "source": [
    "# Site"
   ]
  },
  {
   "cell_type": "code",
   "execution_count": 11,
   "metadata": {},
   "outputs": [],
   "source": [
    "p = {}"
   ]
  },
  {
   "cell_type": "code",
   "execution_count": 13,
   "metadata": {},
   "outputs": [
    {
     "name": "stdout",
     "output_type": "stream",
     "text": [
      "Loading modelsPytorchMulticlass/confTbaseMulti/2/256/GRU/epoch4.pt\n",
      "         processed line 85170/85170           \n",
      "         reprocessed line 85170/85170           \n",
      "test_loss: 0.4549 - test_acc: 89.7681\n",
      "MAPs: 0.9331 - MAPc: 0.5563\n",
      "acc: 0.8977 - kappa: 0.8848\n",
      "accT3: 0.9636 - accT5: 0.9764\n",
      "f1micro: 0.8977 - f1macro: 0.5543\n"
     ]
    }
   ],
   "source": [
    "p['y'], p['yp'] = calculatePred(configurationsMulticlass.configTbaseMultiBest)"
   ]
  },
  {
   "cell_type": "code",
   "execution_count": 17,
   "metadata": {},
   "outputs": [],
   "source": [
    "pickle.dump(p, open(\"predictionGRU-Asite.p\", 'wb'))"
   ]
  },
  {
   "cell_type": "code",
   "execution_count": 18,
   "metadata": {},
   "outputs": [],
   "source": [
    "p = {}"
   ]
  },
  {
   "cell_type": "code",
   "execution_count": 19,
   "metadata": {},
   "outputs": [
    {
     "name": "stdout",
     "output_type": "stream",
     "text": [
      "Loading modelsPytorchMulticlass/confTImulti2/2/128/epoch35.pt\n",
      "         processed line 85170/85170           \n",
      "         reprocessed line 85170/85170           \n",
      "test_loss: 3.3127 - test_acc: 87.9190\n",
      "MAPs: 0.9190 - MAPc: 0.4259\n",
      "acc: 0.8792 - kappa: 0.8637\n",
      "accT3: 0.9533 - accT5: 0.9610\n",
      "f1micro: 0.8792 - f1macro: 0.4197\n"
     ]
    }
   ],
   "source": [
    "p['y'], p['yp'] = calculatePred(configurationsMulticlass.configTImulti2best)"
   ]
  },
  {
   "cell_type": "code",
   "execution_count": 20,
   "metadata": {},
   "outputs": [],
   "source": [
    "pickle.dump(p, open(\"predictionMAXi-Asite.p\", 'wb'))"
   ]
  },
  {
   "cell_type": "code",
   "execution_count": 21,
   "metadata": {},
   "outputs": [],
   "source": [
    "p = {}"
   ]
  },
  {
   "cell_type": "code",
   "execution_count": 22,
   "metadata": {},
   "outputs": [
    {
     "name": "stdout",
     "output_type": "stream",
     "text": [
      "Loading modelsPytorchMulticlass/confH/64/2/1024/best.pt\n",
      "         reprocessed line 85170/85170           \n",
      "test_loss: 0.4304 - test_acc: 89.7975\n",
      "MAPs: 0.9329 - MAPc: 0.5273\n",
      "acc: 0.8980 - kappa: 0.8851\n",
      "accT3: 0.9611 - accT5: 0.9773\n",
      "f1micro: 0.8980 - f1macro: 0.5567\n"
     ]
    },
    {
     "name": "stderr",
     "output_type": "stream",
     "text": [
      "/home/trianam/miniconda3/lib/python3.7/site-packages/sklearn/metrics/classification.py:1437: UndefinedMetricWarning: F-score is ill-defined and being set to 0.0 in labels with no predicted samples.\n",
      "  'precision', 'predicted', average, warn_for)\n"
     ]
    }
   ],
   "source": [
    "p['y'], p['yp'] =  calculatePred(configurationsMulticlass.configHbest)"
   ]
  },
  {
   "cell_type": "code",
   "execution_count": 23,
   "metadata": {},
   "outputs": [],
   "source": [
    "pickle.dump(p, open(\"predictionMAXh-Asite.p\", 'wb'))"
   ]
  },
  {
   "cell_type": "code",
   "execution_count": 24,
   "metadata": {},
   "outputs": [],
   "source": [
    "p = {}"
   ]
  },
  {
   "cell_type": "code",
   "execution_count": 25,
   "metadata": {},
   "outputs": [
    {
     "name": "stdout",
     "output_type": "stream",
     "text": [
      "Loading modelsPytorchMulticlass/confHS/128/1/1024/128/best.pt\n",
      "         reprocessed line 85170/85170           \n",
      "test_loss: 0.4525 - test_acc: 89.8268\n",
      "MAPs: 0.9329 - MAPc: 0.5398\n",
      "acc: 0.8983 - kappa: 0.8855\n",
      "accT3: 0.9617 - accT5: 0.9760\n",
      "f1micro: 0.8983 - f1macro: 0.5479\n"
     ]
    }
   ],
   "source": [
    "p['y'], p['yp'] =  calculatePred(configurationsMulticlass.configHSbest)"
   ]
  },
  {
   "cell_type": "code",
   "execution_count": 26,
   "metadata": {},
   "outputs": [],
   "source": [
    "pickle.dump(p, open(\"predictionATTh-Asite.p\", 'wb'))"
   ]
  },
  {
   "cell_type": "code",
   "execution_count": 27,
   "metadata": {},
   "outputs": [],
   "source": [
    "p = {}"
   ]
  },
  {
   "cell_type": "code",
   "execution_count": 28,
   "metadata": {},
   "outputs": [
    {
     "name": "stdout",
     "output_type": "stream",
     "text": [
      "Loading modelsPytorchMulticlass/confTSmulti1/128/1/512/256/epoch8.pt\n",
      "         processed line 85170/85170           \n",
      "         reprocessed line 85170/85170           \n",
      "test_loss: 0.4783 - test_acc: 90.0792\n",
      "MAPs: 0.9341 - MAPc: 0.5659\n",
      "acc: 0.9008 - kappa: 0.8883\n",
      "accT3: 0.9607 - accT5: 0.9749\n",
      "f1micro: 0.9008 - f1macro: 0.5766\n"
     ]
    }
   ],
   "source": [
    "p['y'], p['yp'] =  calculatePred(configurationsMulticlass.configTSmulti1best)"
   ]
  },
  {
   "cell_type": "code",
   "execution_count": 29,
   "metadata": {},
   "outputs": [],
   "source": [
    "pickle.dump(p, open(\"predictionATT-Asite.p\", 'wb'))"
   ]
  },
  {
   "cell_type": "code",
   "execution_count": 30,
   "metadata": {},
   "outputs": [],
   "source": [
    "p = {}"
   ]
  },
  {
   "cell_type": "code",
   "execution_count": 31,
   "metadata": {},
   "outputs": [
    {
     "name": "stdout",
     "output_type": "stream",
     "text": [
      "Loading modelsPytorchMulticlass/confTmulti1/128/1/512/epoch5.pt\n",
      "         processed line 85170/85170           \n",
      "         reprocessed line 85170/85170           \n",
      "test_loss: 0.4235 - test_acc: 90.2436\n",
      "MAPs: 0.9369 - MAPc: 0.5680\n",
      "acc: 0.9024 - kappa: 0.8901\n",
      "accT3: 0.9658 - accT5: 0.9797\n",
      "f1micro: 0.9024 - f1macro: 0.5887\n"
     ]
    }
   ],
   "source": [
    "p['y'], p['yp'] =  calculatePred(configurationsMulticlass.configTmulti1best)"
   ]
  },
  {
   "cell_type": "code",
   "execution_count": 32,
   "metadata": {},
   "outputs": [],
   "source": [
    "pickle.dump(p, open(\"predictionMAX-Asite.p\", 'wb'))"
   ]
  },
  {
   "cell_type": "code",
   "execution_count": 33,
   "metadata": {},
   "outputs": [],
   "source": [
    "#df['SVM'] = calculateMetrics(pickle.load(open(\"predictionsSVM-Asite.p\", 'rb')), valuesS, toRemoveS)"
   ]
  },
  {
   "cell_type": "code",
   "execution_count": 34,
   "metadata": {},
   "outputs": [],
   "source": [
    "#df['XGBoost'] = calculateMetrics(pickle.load(open(\"predictionsXGBoost-Asite.p\", 'rb')), valuesS, toRemoveS)"
   ]
  },
  {
   "cell_type": "code",
   "execution_count": 35,
   "metadata": {},
   "outputs": [],
   "source": [
    "#df['BERT'] = calculateMetrics(pickle.load(open(\"../../bert/predictionsBERT.p\", 'rb')) , valuesS, toRemoveS)"
   ]
  },
  {
   "cell_type": "markdown",
   "metadata": {},
   "source": [
    "# Morpho"
   ]
  },
  {
   "cell_type": "code",
   "execution_count": 36,
   "metadata": {},
   "outputs": [],
   "source": [
    "p = {}"
   ]
  },
  {
   "cell_type": "code",
   "execution_count": 37,
   "metadata": {},
   "outputs": [
    {
     "name": "stdout",
     "output_type": "stream",
     "text": [
      "Loading modelsPytorchMulticlass/confTMbaseMulti/1/256/GRU/epoch4.pt\n",
      "         processed line 84127/84127           \n",
      "         reprocessed line 84127/84127           \n",
      "test_loss: 0.6901 - test_acc: 82.6615\n",
      "MAPs: 0.8881 - MAPc: 0.4844\n",
      "acc: 0.8266 - kappa: 0.8064\n",
      "accT3: 0.9402 - accT5: 0.9602\n",
      "f1micro: 0.8266 - f1macro: 0.4278\n"
     ]
    },
    {
     "name": "stderr",
     "output_type": "stream",
     "text": [
      "/home/trianam/miniconda3/lib/python3.7/site-packages/sklearn/metrics/classification.py:1437: UndefinedMetricWarning: F-score is ill-defined and being set to 0.0 in labels with no predicted samples.\n",
      "  'precision', 'predicted', average, warn_for)\n"
     ]
    }
   ],
   "source": [
    "p['y'], p['yp'] =  calculatePred(configurationsMulticlass.configTMbaseMultiBest)"
   ]
  },
  {
   "cell_type": "code",
   "execution_count": 38,
   "metadata": {},
   "outputs": [],
   "source": [
    "pickle.dump(p, open(\"predictionGRU-Amorpho.p\", 'wb'))"
   ]
  },
  {
   "cell_type": "code",
   "execution_count": 39,
   "metadata": {},
   "outputs": [],
   "source": [
    "p = {}"
   ]
  },
  {
   "cell_type": "code",
   "execution_count": 40,
   "metadata": {},
   "outputs": [
    {
     "name": "stdout",
     "output_type": "stream",
     "text": [
      "Loading modelsPytorchMulticlass/confTMImulti/2/256/epoch10.pt\n",
      "         processed line 84127/84127           \n",
      "         reprocessed line 84127/84127           \n",
      "test_loss: 4.4054 - test_acc: 73.1654\n",
      "MAPs: 0.8169 - MAPc: 0.3776\n",
      "acc: 0.7317 - kappa: 0.6964\n",
      "accT3: 0.9012 - accT5: 0.9305\n",
      "f1micro: 0.7317 - f1macro: 0.2413\n"
     ]
    }
   ],
   "source": [
    "p['y'], p['yp'] =  calculatePred(configurationsMulticlass.configTMImultiBest)"
   ]
  },
  {
   "cell_type": "code",
   "execution_count": 41,
   "metadata": {},
   "outputs": [],
   "source": [
    "pickle.dump(p, open(\"predictionMAXi-Amorpho.p\", 'wb'))"
   ]
  },
  {
   "cell_type": "code",
   "execution_count": 42,
   "metadata": {},
   "outputs": [],
   "source": [
    "p = {}"
   ]
  },
  {
   "cell_type": "code",
   "execution_count": 43,
   "metadata": {},
   "outputs": [
    {
     "name": "stdout",
     "output_type": "stream",
     "text": [
      "Loading modelsPytorchMulticlass/confHM/64/1/1024/best.pt\n",
      "         reprocessed line 84127/84127           \n",
      "test_loss: 0.6817 - test_acc: 83.1298\n",
      "MAPs: 0.8894 - MAPc: 0.4515\n",
      "acc: 0.8313 - kappa: 0.8117\n",
      "accT3: 0.9382 - accT5: 0.9582\n",
      "f1micro: 0.8313 - f1macro: 0.4331\n"
     ]
    }
   ],
   "source": [
    "p['y'], p['yp'] = calculatePred(configurationsMulticlass.configHMbest)"
   ]
  },
  {
   "cell_type": "code",
   "execution_count": 44,
   "metadata": {},
   "outputs": [],
   "source": [
    "pickle.dump(p, open(\"predictionMAXh-Amorpho.p\", 'wb'))"
   ]
  },
  {
   "cell_type": "code",
   "execution_count": 45,
   "metadata": {},
   "outputs": [],
   "source": [
    "p = {}"
   ]
  },
  {
   "cell_type": "code",
   "execution_count": 46,
   "metadata": {},
   "outputs": [
    {
     "name": "stdout",
     "output_type": "stream",
     "text": [
      "Loading modelsPytorchMulticlass/confHSM/64/1/1024/128/best.pt\n",
      "         reprocessed line 84127/84127           \n",
      "test_loss: 0.7179 - test_acc: 83.1772\n",
      "MAPs: 0.8894 - MAPc: 0.4915\n",
      "acc: 0.8318 - kappa: 0.8119\n",
      "accT3: 0.9388 - accT5: 0.9566\n",
      "f1micro: 0.8318 - f1macro: 0.4668\n"
     ]
    }
   ],
   "source": [
    "p['y'], p['yp'] = calculatePred(configurationsMulticlass.configHSMbest)"
   ]
  },
  {
   "cell_type": "code",
   "execution_count": 47,
   "metadata": {},
   "outputs": [],
   "source": [
    "pickle.dump(p, open(\"predictionATTh-Amorpho.p\", 'wb'))"
   ]
  },
  {
   "cell_type": "code",
   "execution_count": 48,
   "metadata": {},
   "outputs": [],
   "source": [
    "p = {}"
   ]
  },
  {
   "cell_type": "code",
   "execution_count": 49,
   "metadata": {},
   "outputs": [
    {
     "name": "stdout",
     "output_type": "stream",
     "text": [
      "Loading modelsPytorchMulticlass/confTSMmulti1/256/1/128/256/epoch12.pt\n",
      "         processed line 84127/84127           \n",
      "         reprocessed line 84127/84127           \n",
      "test_loss: 0.6890 - test_acc: 84.2442\n",
      "MAPs: 0.8973 - MAPc: 0.5295\n",
      "acc: 0.8424 - kappa: 0.8240\n",
      "accT3: 0.9445 - accT5: 0.9632\n",
      "f1micro: 0.8424 - f1macro: 0.5079\n"
     ]
    }
   ],
   "source": [
    "p['y'], p['yp'] = calculatePred(configurationsMulticlass.configTSMmulti1best)"
   ]
  },
  {
   "cell_type": "code",
   "execution_count": 50,
   "metadata": {},
   "outputs": [],
   "source": [
    "pickle.dump(p, open(\"predictionATT-Amorpho.p\", 'wb'))"
   ]
  },
  {
   "cell_type": "code",
   "execution_count": 51,
   "metadata": {},
   "outputs": [],
   "source": [
    "p = {}"
   ]
  },
  {
   "cell_type": "code",
   "execution_count": 52,
   "metadata": {},
   "outputs": [
    {
     "name": "stdout",
     "output_type": "stream",
     "text": [
      "Loading modelsPytorchMulticlass/confTMmulti1/128/1/128/epoch8.pt\n",
      "         processed line 84127/84127           \n",
      "         reprocessed line 84127/84127           \n",
      "test_loss: 0.6612 - test_acc: 83.9419\n",
      "MAPs: 0.8962 - MAPc: 0.4530\n",
      "acc: 0.8394 - kappa: 0.8207\n",
      "accT3: 0.9452 - accT5: 0.9634\n",
      "f1micro: 0.8394 - f1macro: 0.4581\n"
     ]
    }
   ],
   "source": [
    "p['y'], p['yp'] = calculatePred(configurationsMulticlass.configTMmulti1best)"
   ]
  },
  {
   "cell_type": "code",
   "execution_count": 53,
   "metadata": {},
   "outputs": [],
   "source": [
    "pickle.dump(p, open(\"predictionMAX-Amorpho.p\", 'wb'))"
   ]
  },
  {
   "cell_type": "code",
   "execution_count": 54,
   "metadata": {},
   "outputs": [],
   "source": [
    "#dfM['SVM'] = calculateMetrics(pickle.load(open(\"predictionsSVM-Amorpho.p\", 'rb')), values<, toRemoveM)"
   ]
  },
  {
   "cell_type": "code",
   "execution_count": 55,
   "metadata": {},
   "outputs": [],
   "source": [
    "#dfM['XGBoost'] = calculateMetrics(pickle.load(open(\"predictionsXGBoost-Amorpho.p\", 'rb')), values<, toRemoveM)"
   ]
  },
  {
   "cell_type": "code",
   "execution_count": 56,
   "metadata": {},
   "outputs": [],
   "source": [
    "#dfM['BERT'] = calculateMetrics(pickle.load(open(\"../../bert/predictionsBERTmorpho.p\", 'rb')), values<, toRemoveM)"
   ]
  },
  {
   "cell_type": "code",
   "execution_count": null,
   "metadata": {},
   "outputs": [],
   "source": []
  }
 ],
 "metadata": {
  "kernelspec": {
   "display_name": "Python 3",
   "language": "python",
   "name": "python3"
  },
  "language_info": {
   "codemirror_mode": {
    "name": "ipython",
    "version": 3
   },
   "file_extension": ".py",
   "mimetype": "text/x-python",
   "name": "python",
   "nbconvert_exporter": "python",
   "pygments_lexer": "ipython3",
   "version": "3.7.3"
  }
 },
 "nbformat": 4,
 "nbformat_minor": 2
}
