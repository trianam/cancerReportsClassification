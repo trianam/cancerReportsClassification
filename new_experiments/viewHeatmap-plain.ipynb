{
 "cells": [
  {
   "cell_type": "markdown",
   "metadata": {},
   "source": [
    "https://gist.github.com/ihsgnef/f13c35cd46624c8f458a4d23589ac768"
   ]
  },
  {
   "cell_type": "code",
   "execution_count": 1,
   "metadata": {},
   "outputs": [],
   "source": [
    "import numpy as np\n",
    "import matplotlib\n",
    "import matplotlib.pyplot as plt\n",
    "from IPython.display import display, HTML\n",
    "import configurations\n",
    "import configurationsMulticlass\n",
    "import funPytorch as fun\n",
    "import pickle"
   ]
  },
  {
   "cell_type": "code",
   "execution_count": 2,
   "metadata": {},
   "outputs": [],
   "source": [
    "def colorize(words, color_array, diverging=False, color=0):\n",
    "    # words is a list of words\n",
    "    # color_array is an array of numbers between 0 and 1 of length equal to words\n",
    "    \n",
    "    if diverging:\n",
    "        template = 'RdBu'\n",
    "        color_array = color_array / 2. + 0.5\n",
    "    else:\n",
    "        templates = ['Greens', 'Blues', 'Reds', 'Oranges', 'Purples', 'Greys']\n",
    "        template = templates[color%len(templates)]\n",
    "    cmap = matplotlib.cm.get_cmap(template)\n",
    "    template = '<span class=\"barcode\"; style=\"color: black; background-color: {}\">{}</span>'\n",
    "    colored_string = ''\n",
    "    for word, color in zip(words, color_array):\n",
    "        color = matplotlib.colors.rgb2hex(cmap(color)[:3])\n",
    "        colored_string += template.format(color, '&nbsp' + word + '&nbsp')\n",
    "    display(HTML(colored_string))\n",
    "    return colored_string    "
   ]
  },
  {
   "cell_type": "code",
   "execution_count": 3,
   "metadata": {},
   "outputs": [
    {
     "data": {
      "text/html": [
       "<span class=\"barcode\"; style=\"color: black; background-color: #f7fcf5\">&nbspThe&nbsp</span><span class=\"barcode\"; style=\"color: black; background-color: #e5f5e0\">&nbspquick&nbsp</span><span class=\"barcode\"; style=\"color: black; background-color: #c7e9c0\">&nbspbrown&nbsp</span><span class=\"barcode\"; style=\"color: black; background-color: #a0d99b\">&nbspfox&nbsp</span><span class=\"barcode\"; style=\"color: black; background-color: #73c476\">&nbspjumps&nbsp</span><span class=\"barcode\"; style=\"color: black; background-color: #40aa5d\">&nbspover&nbsp</span><span class=\"barcode\"; style=\"color: black; background-color: #228a44\">&nbspthe&nbsp</span><span class=\"barcode\"; style=\"color: black; background-color: #006c2c\">&nbsplazy&nbsp</span><span class=\"barcode\"; style=\"color: black; background-color: #00441b\">&nbspdog&nbsp</span>"
      ],
      "text/plain": [
       "<IPython.core.display.HTML object>"
      ]
     },
     "metadata": {},
     "output_type": "display_data"
    },
    {
     "data": {
      "text/html": [
       "<span class=\"barcode\"; style=\"color: black; background-color: #f6f7f7\">&nbspThe&nbsp</span><span class=\"barcode\"; style=\"color: black; background-color: #deebf2\">&nbspquick&nbsp</span><span class=\"barcode\"; style=\"color: black; background-color: #c0dceb\">&nbspbrown&nbsp</span><span class=\"barcode\"; style=\"color: black; background-color: #98c8e0\">&nbspfox&nbsp</span><span class=\"barcode\"; style=\"color: black; background-color: #68abd0\">&nbspjumps&nbsp</span><span class=\"barcode\"; style=\"color: black; background-color: #3e8cbf\">&nbspover&nbsp</span><span class=\"barcode\"; style=\"color: black; background-color: #2870b1\">&nbspthe&nbsp</span><span class=\"barcode\"; style=\"color: black; background-color: #15508d\">&nbsplazy&nbsp</span><span class=\"barcode\"; style=\"color: black; background-color: #053061\">&nbspdog&nbsp</span>"
      ],
      "text/plain": [
       "<IPython.core.display.HTML object>"
      ]
     },
     "metadata": {},
     "output_type": "display_data"
    }
   ],
   "source": [
    "words = 'The quick brown fox jumps over the lazy dog'.split()\n",
    "color_array = np.linspace(0,1,len(words))#np.random.rand(len(words))\n",
    "s = colorize(words, color_array)\n",
    "s = colorize(words, color_array, diverging = True)"
   ]
  },
  {
   "cell_type": "code",
   "execution_count": 4,
   "metadata": {},
   "outputs": [
    {
     "data": {
      "text/html": [
       "<span class=\"barcode\"; style=\"color: black; background-color: #67001f\">&nbspThe&nbsp</span><span class=\"barcode\"; style=\"color: black; background-color: #bb2a34\">&nbspquick&nbsp</span><span class=\"barcode\"; style=\"color: black; background-color: #e58368\">&nbspbrown&nbsp</span><span class=\"barcode\"; style=\"color: black; background-color: #fbceb7\">&nbspfox&nbsp</span><span class=\"barcode\"; style=\"color: black; background-color: #f6f7f7\">&nbspjumps&nbsp</span><span class=\"barcode\"; style=\"color: black; background-color: #c0dceb\">&nbspover&nbsp</span><span class=\"barcode\"; style=\"color: black; background-color: #68abd0\">&nbspthe&nbsp</span><span class=\"barcode\"; style=\"color: black; background-color: #2870b1\">&nbsplazy&nbsp</span><span class=\"barcode\"; style=\"color: black; background-color: #053061\">&nbspdog&nbsp</span>"
      ],
      "text/plain": [
       "<IPython.core.display.HTML object>"
      ]
     },
     "metadata": {},
     "output_type": "display_data"
    },
    {
     "data": {
      "text/html": [
       "<span class=\"barcode\"; style=\"color: black; background-color: #f7fcf5\">&nbspThe&nbsp</span><span class=\"barcode\"; style=\"color: black; background-color: #f7fcf5\">&nbspquick&nbsp</span><span class=\"barcode\"; style=\"color: black; background-color: #f7fcf5\">&nbspbrown&nbsp</span><span class=\"barcode\"; style=\"color: black; background-color: #f7fcf5\">&nbspfox&nbsp</span><span class=\"barcode\"; style=\"color: black; background-color: #f7fcf5\">&nbspjumps&nbsp</span><span class=\"barcode\"; style=\"color: black; background-color: #c7e9c0\">&nbspover&nbsp</span><span class=\"barcode\"; style=\"color: black; background-color: #73c476\">&nbspthe&nbsp</span><span class=\"barcode\"; style=\"color: black; background-color: #228a44\">&nbsplazy&nbsp</span><span class=\"barcode\"; style=\"color: black; background-color: #00441b\">&nbspdog&nbsp</span>"
      ],
      "text/plain": [
       "<IPython.core.display.HTML object>"
      ]
     },
     "metadata": {},
     "output_type": "display_data"
    }
   ],
   "source": [
    "color_array = np.linspace(-1,1,len(words))#np.random.rand(len(words))\n",
    "s = colorize(words, color_array, diverging=True)\n",
    "s = colorize(words, color_array)"
   ]
  },
  {
   "cell_type": "code",
   "execution_count": 5,
   "metadata": {},
   "outputs": [],
   "source": [
    "device = \"cuda:0\"\n",
    "\n",
    "#conf = configurations.config50\n",
    "#conf = configurations.config50c\n",
    "#conf = configurations.config51\n",
    "#conf = configurationsMulticlass.config28\n",
    "#conf = configurationsMulticlass.config30v\n",
    "\n",
    "#conf = configurationsMulticlass.configTImulti1best\n",
    "conf = configurationsMulticlass.configTSmulti1best"
   ]
  },
  {
   "cell_type": "code",
   "execution_count": 6,
   "metadata": {},
   "outputs": [
    {
     "name": "stdout",
     "output_type": "stream",
     "text": [
      "         processed line 85170/85170           \n",
      "         reprocessed line 85170/85170           \n"
     ]
    }
   ],
   "source": [
    "X, y, train, valid, test, allText = fun.processData(conf, getText=True)\n",
    "model,optim = fun.loadModel(conf, device)"
   ]
  },
  {
   "cell_type": "code",
   "execution_count": 7,
   "metadata": {},
   "outputs": [],
   "source": [
    "dataset = valid"
   ]
  },
  {
   "cell_type": "code",
   "execution_count": 8,
   "metadata": {},
   "outputs": [],
   "source": [
    "yp, att = fun.getAttention(conf, model, X, y, dataset)"
   ]
  },
  {
   "cell_type": "code",
   "execution_count": 9,
   "metadata": {},
   "outputs": [],
   "source": [
    "if np.min(att) < 0.:\n",
    "    att = att/2 + 0.5"
   ]
  },
  {
   "cell_type": "code",
   "execution_count": 10,
   "metadata": {},
   "outputs": [],
   "source": [
    "yt = y[dataset]\n",
    "Xt = X[dataset]\n",
    "text = [allText[c] for c in dataset]"
   ]
  },
  {
   "cell_type": "code",
   "execution_count": 11,
   "metadata": {},
   "outputs": [
    {
     "data": {
      "text/plain": [
       "(17034, 100)"
      ]
     },
     "execution_count": 11,
     "metadata": {},
     "output_type": "execute_result"
    }
   ],
   "source": [
    "att.shape"
   ]
  },
  {
   "cell_type": "code",
   "execution_count": 12,
   "metadata": {},
   "outputs": [],
   "source": [
    "if len(att.shape) == 2:\n",
    "    att = att.reshape(att.shape[0], att.shape[1], 1)"
   ]
  },
  {
   "cell_type": "markdown",
   "metadata": {},
   "source": [
    "### Visualize only phrase attention"
   ]
  },
  {
   "cell_type": "code",
   "execution_count": 13,
   "metadata": {},
   "outputs": [],
   "source": [
    "binary = False\n",
    "colonRetto = False\n",
    "hiddenEqualClasses = False"
   ]
  },
  {
   "cell_type": "code",
   "execution_count": 14,
   "metadata": {},
   "outputs": [],
   "source": [
    "if not binary:\n",
    "    _,values,_,_,_ = fun.processCorpusAndSplit(conf)\n",
    "    icdo = pickle.load(open(\"icdo-3-dict.p\", 'rb'))\n",
    "    icdoEn = pickle.load(open(\"icdo-3-dict-en.p\", 'rb'))"
   ]
  },
  {
   "cell_type": "code",
   "execution_count": 15,
   "metadata": {},
   "outputs": [
    {
     "data": {
      "text/plain": [
       "[(0, 0, 'LABBRO'),\n",
       " (1, 1, 'BASE DELLA LINGUA'),\n",
       " (2, 2, 'ALTRE PARTI E PARTI NON SPECIFICATE DELLA LINGUA'),\n",
       " (3, 3, 'GENGIVA'),\n",
       " (4, 4, 'PAVIMENTO ORALE'),\n",
       " (5, 5, 'PALATO'),\n",
       " (6, 6, 'ALTRE PARTI E PARTI NON SPECIFICATE DELLA BOCCA'),\n",
       " (7, 7, 'GHIANDOLA PAROTIDE'),\n",
       " (8, 8, 'ALTRE GHIANDOLE SALIVARI MAGGIORI E NON SPECIFICATE'),\n",
       " (9, 9, 'TONSILLA'),\n",
       " (10, 10, 'OROFARINGE'),\n",
       " (11, 11, 'RINOFARINGE'),\n",
       " (12, 12, 'SENO PIRIFORME'),\n",
       " (13, 13, 'IPOFARINGE'),\n",
       " (14,\n",
       "  14,\n",
       "  'ALTRE E MAL DEFINITE SEDI DEL LABBRO, DEL CAVO ORALE E DELLA FARINGE'),\n",
       " (15, 15, 'ESOFAGO'),\n",
       " (16, 16, 'STOMACO'),\n",
       " (17, 17, 'INTESTINO TENUE'),\n",
       " (18, 18, 'COLON'),\n",
       " (19, 19, 'GIUNZIONE RETTOSIGMOIDEA'),\n",
       " (20, 20, 'RETTO'),\n",
       " (21, 21, 'ANO E CANALE ANALE'),\n",
       " (22, 22, 'FEGATO E DOTTI BILIARI INTRAEPATICI'),\n",
       " (23, 23, 'COLECISTI'),\n",
       " (24, 24, 'ALTRE PARTI E PARTI NON SPECIFICATE DELLE VIE BILIARI'),\n",
       " (25, 25, 'PANCREAS'),\n",
       " (26, 26, 'ALTRI E MAL DEFINITI ORGANI DIGESTIVI'),\n",
       " (27, 30, 'CAVITÀ NASALE E ORECCHIO MEDIO'),\n",
       " (28, 31, 'SENI PARANASALI'),\n",
       " (29, 32, 'LARINGE'),\n",
       " (30, 33, 'TRACHEA'),\n",
       " (31, 34, 'BRONCO E POLMONE'),\n",
       " (32, 37, 'TIMO'),\n",
       " (33, 38, 'CUORE, MEDIASTINO E PLEURA'),\n",
       " (34,\n",
       "  39,\n",
       "  'ALTRE E MAL DEFINITE SEDI DELL’APPARATO RESPIRATORIO E DEGLI ORGANI INTRATORACICI'),\n",
       " (35, 40, 'OSSA, ARTICOLAZIONI E CARTILAGINI ARTICOLARI DEGLI ARTI'),\n",
       " (36,\n",
       "  41,\n",
       "  'OSSA, ARTICOLAZIONI E CARTILAGINI ARTICOLARI DI ALTRE E NON SPECIFICATE SEDI'),\n",
       " (37, 42, 'SISTEMA EMOPOIETICO E RETICOLO ENDOTELIALE'),\n",
       " (38, 44, 'CUTE'),\n",
       " (39, 47, 'NERVI PERIFERICI E SISTEMA NERVOSO AUTONOMO'),\n",
       " (40, 48, 'RETROPERITONEO E PERITONEO'),\n",
       " (41, 49, 'TESSUTO CONNETTIVO, SOTTOCUTE E ALTRI TESSUTI DELLE PARTI MOLLI'),\n",
       " (42, 50, 'MAMMELLA'),\n",
       " (43, 51, 'VULVA'),\n",
       " (44, 52, 'VAGINA'),\n",
       " (45, 53, 'CERVICE UTERINA'),\n",
       " (46, 54, 'CORPO DELL’UTERO'),\n",
       " (47, 55, 'UTERO, NAS'),\n",
       " (48, 56, 'OVAIO'),\n",
       " (49, 57, 'ALTRI E NON SPECIFICATI ORGANI GENITALI FEMMINILI'),\n",
       " (50, 58, 'PLACENTA'),\n",
       " (51, 60, 'PENE'),\n",
       " (52, 61, 'PROSTATA'),\n",
       " (53, 62, 'TESTICOLO'),\n",
       " (54, 63, 'ALTRI E NON SPECIFICATI ORGANI GENITALI MASCHILI'),\n",
       " (55, 64, 'RENE'),\n",
       " (56, 65, 'PELVI RENALE'),\n",
       " (57, 66, 'URETERE'),\n",
       " (58, 67, 'VESCICA'),\n",
       " (59, 68, 'ALTRI E NON SPECIFICATI ORGANI DELL’APPARATO URINARIO'),\n",
       " (60, 69, 'OCCHIO E ANNESSI'),\n",
       " (61, 70, 'MENINGI'),\n",
       " (62, 71, 'ENCEFALO'),\n",
       " (63,\n",
       "  72,\n",
       "  'MIDOLLO SPINALE, NERVI CRANICI E ALTRE PARTI DEL SISTEMA NERVOSO CENTRALE'),\n",
       " (64, 73, 'TIROIDE'),\n",
       " (65, 74, 'GHIANDOLA SURRENALE'),\n",
       " (66, 75, 'ALTRE GHIANDOLE ENDOCRINE E FORMAZIONI CORRELATE'),\n",
       " (67, 76, 'ALTRE E MAL DEFINITE SEDI'),\n",
       " (68, 77, 'LINFONODI'),\n",
       " (69, 80, 'SEDE PRIMITIVA IGNOTA')]"
      ]
     },
     "execution_count": 15,
     "metadata": {},
     "output_type": "execute_result"
    }
   ],
   "source": [
    "[(i,c,icdo[c]) for i,c in enumerate(icdo)]"
   ]
  },
  {
   "cell_type": "code",
   "execution_count": 16,
   "metadata": {},
   "outputs": [],
   "source": [
    "inspectDoc = 923"
   ]
  },
  {
   "cell_type": "code",
   "execution_count": 17,
   "metadata": {},
   "outputs": [
    {
     "data": {
      "text/plain": [
       "(array([0]),)"
      ]
     },
     "execution_count": 17,
     "metadata": {},
     "output_type": "execute_result"
    }
   ],
   "source": [
    "np.where(np.max(att[inspectDoc],0)>0.1)"
   ]
  },
  {
   "cell_type": "code",
   "execution_count": 18,
   "metadata": {},
   "outputs": [
    {
     "data": {
      "text/plain": [
       "array([0.47194824], dtype=float32)"
      ]
     },
     "execution_count": 18,
     "metadata": {},
     "output_type": "execute_result"
    }
   ],
   "source": [
    "np.max(att[inspectDoc],0)[np.where(np.max(att[inspectDoc],0)>0.1)]"
   ]
  },
  {
   "cell_type": "code",
   "execution_count": 19,
   "metadata": {},
   "outputs": [
    {
     "ename": "IndexError",
     "evalue": "index 31 is out of bounds for axis 0 with size 1",
     "output_type": "error",
     "traceback": [
      "\u001b[0;31m---------------------------------------------------------------------------\u001b[0m",
      "\u001b[0;31mIndexError\u001b[0m                                Traceback (most recent call last)",
      "\u001b[0;32m<ipython-input-19-cdb50841af75>\u001b[0m in \u001b[0;36m<module>\u001b[0;34m\u001b[0m\n\u001b[0;32m----> 1\u001b[0;31m \u001b[0mnp\u001b[0m\u001b[0;34m.\u001b[0m\u001b[0mmax\u001b[0m\u001b[0;34m(\u001b[0m\u001b[0matt\u001b[0m\u001b[0;34m[\u001b[0m\u001b[0minspectDoc\u001b[0m\u001b[0;34m]\u001b[0m\u001b[0;34m,\u001b[0m\u001b[0;36m0\u001b[0m\u001b[0;34m)\u001b[0m\u001b[0;34m[\u001b[0m\u001b[0;36m31\u001b[0m\u001b[0;34m]\u001b[0m\u001b[0;34m==\u001b[0m\u001b[0mnp\u001b[0m\u001b[0;34m.\u001b[0m\u001b[0mmax\u001b[0m\u001b[0;34m(\u001b[0m\u001b[0matt\u001b[0m\u001b[0;34m[\u001b[0m\u001b[0minspectDoc\u001b[0m\u001b[0;34m]\u001b[0m\u001b[0;34m,\u001b[0m\u001b[0;36m0\u001b[0m\u001b[0;34m)\u001b[0m\u001b[0;34m[\u001b[0m\u001b[0;36m67\u001b[0m\u001b[0;34m]\u001b[0m\u001b[0;34m\u001b[0m\u001b[0;34m\u001b[0m\u001b[0m\n\u001b[0m",
      "\u001b[0;31mIndexError\u001b[0m: index 31 is out of bounds for axis 0 with size 1"
     ]
    }
   ],
   "source": [
    "np.max(att[inspectDoc],0)[31]==np.max(att[inspectDoc],0)[67]"
   ]
  },
  {
   "cell_type": "code",
   "execution_count": 20,
   "metadata": {},
   "outputs": [],
   "source": [
    "visRange = (0,len(yt))#(50,100)\n",
    "visLimit = 50      #int or None\n",
    "only=None#[values.index(32), values.index(33), values.index(34)]          #None, list\n",
    "printWhat = 'all'  #all, max or maxed\n",
    "attThreshold = 0.1  #None or float\n",
    "attColors = ['red', 'green', 'blue', 'black']"
   ]
  },
  {
   "cell_type": "code",
   "execution_count": 21,
   "metadata": {
    "scrolled": false
   },
   "outputs": [
    {
     "name": "stdout",
     "output_type": "stream",
     "text": [
      "======== doc:  0\n",
      "y: 37 (44-CUTE); yp: 37 (44-CUTE)\n",
      "0:-2.9 - 1:-8.1 - 2:-5.4 - 3:-7.6 - 4:-12.3 - 5:-7.5 - 6:-2.7 - 7:-3.9 - 8:-8.6 - 9:-7.9 - 10:-9.4 - 11:-6.3 - 12:-24.1 - 13:-12.1 - 14:-9.3 - 15:-8.6 - 16:-6.0 - 17:-8.2 - 18:-0.3 - 19:-7.4 - 20:-0.3 - 21:-0.4 - 22:-7.4 - 23:-9.8 - 24:-13.8 - 25:-9.7 - 26:-6.2 - 27:-2.2 - 28:-8.5 - 29:-4.7 - 30:-20.0 - 31:-5.3 - 32:-15.8 - 33:-9.7 - 34:-13.9 - 35:-5.0 - 36:-2.4 - 37:8.3 - 38:-9.1 - 39:-11.6 - 40:-0.3 - 41:-2.4 - 42:-0.9 - 43:-8.4 - 44:-6.2 - 45:-5.1 - 46:-10.3 - 47:-13.6 - 48:-13.7 - 49:-2.2 - 50:-4.0 - 51:-14.5 - 52:-4.6 - 53:-6.5 - 54:-22.0 - 55:-19.4 - 56:-3.3 - 57:-9.5 - 58:-3.7 - 59:-8.7 - 60:-6.4 - 61:-11.7 - 62:-9.5 - 63:-22.4 - 64:-7.0 - 65:-0.4 - 66:-3.8 - 67:-0.6\n",
      "---\n",
      "0\n"
     ]
    },
    {
     "data": {
      "text/html": [
       "<span class=\"barcode\"; style=\"color: black; background-color: #f6fcf4\">&nbspCARCINOMA&nbsp</span><span class=\"barcode\"; style=\"color: black; background-color: #f4fbf2\">&nbspBASOSQUAMOCELLULARE&nbsp</span><span class=\"barcode\"; style=\"color: black; background-color: #a3da9d\">&nbspULCERATO&nbsp</span><span class=\"barcode\"; style=\"color: black; background-color: #f6fcf4\">&nbspINFILTRANTE&nbsp</span><span class=\"barcode\"; style=\"color: black; background-color: #f6fcf4\">&nbspIL&nbsp</span><span class=\"barcode\"; style=\"color: black; background-color: #eff9eb\">&nbspTESSUTO&nbsp</span><span class=\"barcode\"; style=\"color: black; background-color: #e5f5e1\">&nbspCONNETTIVO&nbsp</span><span class=\"barcode\"; style=\"color: black; background-color: #f2faef\">&nbspADIPOSO&nbsp</span><span class=\"barcode\"; style=\"color: black; background-color: #c6e8bf\">&nbspIPODERMICO&nbsp</span><span class=\"barcode\"; style=\"color: black; background-color: #f7fcf5\">&nbsp,&nbsp</span><span class=\"barcode\"; style=\"color: black; background-color: #f6fcf4\">&nbspLA&nbsp</span><span class=\"barcode\"; style=\"color: black; background-color: #f7fcf5\">&nbspLESIONE&nbsp</span><span class=\"barcode\"; style=\"color: black; background-color: #f7fcf5\">&nbspSI&nbsp</span><span class=\"barcode\"; style=\"color: black; background-color: #f5fbf3\">&nbspESTENDE&nbsp</span><span class=\"barcode\"; style=\"color: black; background-color: #f7fcf5\">&nbspAI&nbsp</span><span class=\"barcode\"; style=\"color: black; background-color: #f7fcf5\">&nbspMARGINI&nbsp</span><span class=\"barcode\"; style=\"color: black; background-color: #f6fcf4\">&nbspDI&nbsp</span><span class=\"barcode\"; style=\"color: black; background-color: #f6fcf4\">&nbspRESEZIONE&nbsp</span><span class=\"barcode\"; style=\"color: black; background-color: #f6fcf4\">&nbspCHIRURGICA&nbsp</span><span class=\"barcode\"; style=\"color: black; background-color: #f7fcf5\">&nbspLATERALI&nbsp</span><span class=\"barcode\"; style=\"color: black; background-color: #f7fcf5\">&nbsp.&nbsp</span><span class=\"barcode\"; style=\"color: black; background-color: #f7fcf5\">&nbspINDAGINI&nbsp</span><span class=\"barcode\"; style=\"color: black; background-color: #f7fcf5\">&nbspIMMUNOISTOCHIMICHE&nbsp</span><span class=\"barcode\"; style=\"color: black; background-color: #f7fcf5\">&nbsp:&nbsp</span><span class=\"barcode\"; style=\"color: black; background-color: #f7fcf5\">&nbspPANCITOCHERATINE&nbsp</span><span class=\"barcode\"; style=\"color: black; background-color: #f7fcf5\">&nbsp,&nbsp</span><span class=\"barcode\"; style=\"color: black; background-color: #f7fcf5\">&nbspS&nbsp</span><span class=\"barcode\"; style=\"color: black; background-color: #f7fcf5\">&nbsp100&nbsp</span><span class=\"barcode\"; style=\"color: black; background-color: #f7fcf5\">&nbsp,&nbsp</span><span class=\"barcode\"; style=\"color: black; background-color: #f5fbf2\">&nbspHMB&nbsp</span><span class=\"barcode\"; style=\"color: black; background-color: #f7fcf5\">&nbsp45&nbsp</span><span class=\"barcode\"; style=\"color: black; background-color: #f6fcf4\">&nbspLOSANGA&nbsp</span><span class=\"barcode\"; style=\"color: black; background-color: #f2faf0\">&nbspCUTANEA&nbsp</span><span class=\"barcode\"; style=\"color: black; background-color: #f7fcf5\">&nbspDI&nbsp</span><span class=\"barcode\"; style=\"color: black; background-color: #f7fcf5\">&nbsp3&nbsp</span><span class=\"barcode\"; style=\"color: black; background-color: #f7fcf5\">&nbsp,&nbsp</span><span class=\"barcode\"; style=\"color: black; background-color: #f7fcf5\">&nbsp5&nbsp</span><span class=\"barcode\"; style=\"color: black; background-color: #f7fcf5\">&nbspX&nbsp</span><span class=\"barcode\"; style=\"color: black; background-color: #f7fcf5\">&nbsp2&nbsp</span><span class=\"barcode\"; style=\"color: black; background-color: #f7fcf5\">&nbspCM&nbsp</span><span class=\"barcode\"; style=\"color: black; background-color: #f7fcf5\">&nbspCON&nbsp</span><span class=\"barcode\"; style=\"color: black; background-color: #f7fcf5\">&nbspLESIONE&nbsp</span><span class=\"barcode\"; style=\"color: black; background-color: #f7fcf5\">&nbspRILEVATA&nbsp</span><span class=\"barcode\"; style=\"color: black; background-color: #f7fcf5\">&nbspDEL&nbsp</span><span class=\"barcode\"; style=\"color: black; background-color: #f7fcf5\">&nbspDIAMETRO&nbsp</span><span class=\"barcode\"; style=\"color: black; background-color: #f7fcf5\">&nbspDI&nbsp</span><span class=\"barcode\"; style=\"color: black; background-color: #f7fcf5\">&nbsp2&nbsp</span><span class=\"barcode\"; style=\"color: black; background-color: #f7fcf5\">&nbsp,&nbsp</span><span class=\"barcode\"; style=\"color: black; background-color: #f7fcf5\">&nbsp2&nbsp</span><span class=\"barcode\"; style=\"color: black; background-color: #f7fcf5\">&nbspCM&nbsp</span><span class=\"barcode\"; style=\"color: black; background-color: #f7fcf5\">&nbsp,&nbsp</span><span class=\"barcode\"; style=\"color: black; background-color: #f7fcf5\">&nbspNR&nbsp</span><span class=\"barcode\"; style=\"color: black; background-color: #f7fcf5\">&nbspMG&nbsp</span><span class=\"barcode\"; style=\"color: black; background-color: #f7fcf5\">&nbsp.&nbsp</span>"
      ],
      "text/plain": [
       "<IPython.core.display.HTML object>"
      ]
     },
     "metadata": {},
     "output_type": "display_data"
    },
    {
     "name": "stdout",
     "output_type": "stream",
     "text": [
      "======== doc:  1\n",
      "y: 37 (44-CUTE); yp: 37 (44-CUTE)\n",
      "0:-1.0 - 1:-8.5 - 2:-5.6 - 3:-9.0 - 4:-13.6 - 5:-6.2 - 6:-1.9 - 7:-3.0 - 8:-10.5 - 9:-7.4 - 10:-11.0 - 11:-7.9 - 12:-23.3 - 13:-12.9 - 14:-9.2 - 15:-11.0 - 16:-10.1 - 17:-13.0 - 18:-0.3 - 19:-8.9 - 20:-0.3 - 21:-1.4 - 22:-8.6 - 23:-12.1 - 24:-17.6 - 25:-12.1 - 26:-8.9 - 27:-3.4 - 28:-10.8 - 29:-2.5 - 30:-19.2 - 31:-3.4 - 32:-16.9 - 33:-10.1 - 34:-19.5 - 35:-8.4 - 36:-2.8 - 37:9.9 - 38:-11.7 - 39:-16.6 - 40:-2.4 - 41:-1.4 - 42:0.9 - 43:-9.6 - 44:-4.4 - 45:-6.3 - 46:-10.6 - 47:-16.0 - 48:-16.4 - 49:-1.1 - 50:-3.4 - 51:-15.7 - 52:-6.6 - 53:-7.5 - 54:-25.2 - 55:-21.7 - 56:-4.3 - 57:-10.1 - 58:-5.0 - 59:-9.1 - 60:-7.3 - 61:-13.0 - 62:-9.4 - 63:-27.9 - 64:-8.8 - 65:-1.8 - 66:-4.9 - 67:-1.8\n",
      "---\n",
      "0\n"
     ]
    },
    {
     "data": {
      "text/html": [
       "<span class=\"barcode\"; style=\"color: black; background-color: #f6fcf4\">&nbspCARCINOMA&nbsp</span><span class=\"barcode\"; style=\"color: black; background-color: #f6fcf4\">&nbspA&nbsp</span><span class=\"barcode\"; style=\"color: black; background-color: #f3faf0\">&nbspCELLULE&nbsp</span><span class=\"barcode\"; style=\"color: black; background-color: #43ac5e\">&nbspBASALI&nbsp</span><span class=\"barcode\"; style=\"color: black; background-color: #f1faee\">&nbsp.&nbsp</span><span class=\"barcode\"; style=\"color: black; background-color: #f5fbf3\">&nbspLESIONE&nbsp</span><span class=\"barcode\"; style=\"color: black; background-color: #f7fcf5\">&nbspNON&nbsp</span><span class=\"barcode\"; style=\"color: black; background-color: #f2faef\">&nbspCOMPRESA&nbsp</span><span class=\"barcode\"; style=\"color: black; background-color: #eff9eb\">&nbspNEI&nbsp</span><span class=\"barcode\"; style=\"color: black; background-color: #f6fcf4\">&nbspMARGINI&nbsp</span><span class=\"barcode\"; style=\"color: black; background-color: #f1faee\">&nbspDI&nbsp</span><span class=\"barcode\"; style=\"color: black; background-color: #f5fbf3\">&nbspEXERESI&nbsp</span><span class=\"barcode\"; style=\"color: black; background-color: #f0f9ed\">&nbspCHIRURGICA&nbsp</span><span class=\"barcode\"; style=\"color: black; background-color: #f6fcf4\">&nbsp.&nbsp</span><span class=\"barcode\"; style=\"color: black; background-color: #f5fbf3\">&nbspLAMINA&nbsp</span><span class=\"barcode\"; style=\"color: black; background-color: #f0f9ed\">&nbspCUTANEA&nbsp</span><span class=\"barcode\"; style=\"color: black; background-color: #f7fcf5\">&nbspDI&nbsp</span><span class=\"barcode\"; style=\"color: black; background-color: #f7fcf5\">&nbspCM&nbsp</span><span class=\"barcode\"; style=\"color: black; background-color: #f7fcf5\">&nbsp.&nbsp</span><span class=\"barcode\"; style=\"color: black; background-color: #f7fcf5\">&nbsp1&nbsp</span><span class=\"barcode\"; style=\"color: black; background-color: #f7fcf5\">&nbsp,&nbsp</span><span class=\"barcode\"; style=\"color: black; background-color: #f7fcf5\">&nbsp2X0&nbsp</span><span class=\"barcode\"; style=\"color: black; background-color: #f7fcf5\">&nbsp,&nbsp</span><span class=\"barcode\"; style=\"color: black; background-color: #f7fcf5\">&nbsp9&nbsp</span><span class=\"barcode\"; style=\"color: black; background-color: #f7fcf5\">&nbspA&nbsp</span><span class=\"barcode\"; style=\"color: black; background-color: #f7fcf5\">&nbspSUPERFICIE&nbsp</span><span class=\"barcode\"; style=\"color: black; background-color: #f7fcf5\">&nbspGI&nbsp</span><span class=\"barcode\"; style=\"color: black; background-color: #f7fcf5\">&nbsp+&nbsp</span><span class=\"barcode\"; style=\"color: black; background-color: #f7fcf5\">&nbspIRREGOLARE&nbsp</span><span class=\"barcode\"; style=\"color: black; background-color: #f7fcf5\">&nbsp.&nbsp</span>"
      ],
      "text/plain": [
       "<IPython.core.display.HTML object>"
      ]
     },
     "metadata": {},
     "output_type": "display_data"
    },
    {
     "name": "stdout",
     "output_type": "stream",
     "text": [
      "======== doc:  2\n",
      "y: 20 (20-RETTO); yp: 21 (21-ANO E CANALE ANALE)\n",
      "0:-11.0 - 1:-11.2 - 2:-9.1 - 3:-11.7 - 4:-16.1 - 5:-7.5 - 6:-5.4 - 7:-10.4 - 8:-13.6 - 9:-11.2 - 10:-10.3 - 11:-9.9 - 12:-30.0 - 13:-9.4 - 14:-8.7 - 15:-6.4 - 16:-3.3 - 17:-8.3 - 18:2.4 - 19:-1.8 - 20:3.3 - 21:4.6 - 22:-11.7 - 23:-8.1 - 24:-11.8 - 25:-10.7 - 26:-5.0 - 27:-2.1 - 28:-4.3 - 29:-7.5 - 30:-24.8 - 31:-6.7 - 32:-22.8 - 33:-12.2 - 34:-10.9 - 35:-9.3 - 36:-2.8 - 37:0.7 - 38:-18.1 - 39:-9.6 - 40:-2.9 - 41:-5.3 - 42:-9.5 - 43:-5.1 - 44:-2.7 - 45:0.1 - 46:-5.9 - 47:-7.7 - 48:-11.6 - 49:-9.8 - 50:-7.7 - 51:-17.3 - 52:-9.8 - 53:-10.2 - 54:-26.9 - 55:-16.8 - 56:-3.6 - 57:-10.6 - 58:-9.1 - 59:-5.1 - 60:-4.6 - 61:-5.8 - 62:-14.2 - 63:-18.0 - 64:-6.0 - 65:-4.0 - 66:-7.9 - 67:-4.8\n",
      "---\n",
      "0\n"
     ]
    },
    {
     "data": {
      "text/html": [
       "<span class=\"barcode\"; style=\"color: black; background-color: #f7fcf5\">&nbspISOLATI&nbsp</span><span class=\"barcode\"; style=\"color: black; background-color: #f7fcf5\">&nbspFRAMMENTI&nbsp</span><span class=\"barcode\"; style=\"color: black; background-color: #f7fcf5\">&nbspRIFERIBILI&nbsp</span><span class=\"barcode\"; style=\"color: black; background-color: #f7fcf5\">&nbspAD&nbsp</span><span class=\"barcode\"; style=\"color: black; background-color: #f7fcf5\">&nbspADENOMA&nbsp</span><span class=\"barcode\"; style=\"color: black; background-color: #f7fcf5\">&nbspTUBULARE&nbsp</span><span class=\"barcode\"; style=\"color: black; background-color: #f2faf0\">&nbspINTESTINALE&nbsp</span><span class=\"barcode\"; style=\"color: black; background-color: #f7fcf5\">&nbspDI&nbsp</span><span class=\"barcode\"; style=\"color: black; background-color: #f7fcf5\">&nbspALTO&nbsp</span><span class=\"barcode\"; style=\"color: black; background-color: #f7fcf5\">&nbspGRADO&nbsp</span><span class=\"barcode\"; style=\"color: black; background-color: #f7fcf5\">&nbsp.&nbsp</span><span class=\"barcode\"; style=\"color: black; background-color: #f7fcf5\">&nbspFRAMMENTI&nbsp</span><span class=\"barcode\"; style=\"color: black; background-color: #f7fcf5\">&nbsp(&nbsp</span><span class=\"barcode\"; style=\"color: black; background-color: #f7fcf5\">&nbspNR&nbsp</span><span class=\"barcode\"; style=\"color: black; background-color: #f7fcf5\">&nbsp.&nbsp</span><span class=\"barcode\"; style=\"color: black; background-color: #f7fcf5\">&nbsp2&nbsp</span><span class=\"barcode\"; style=\"color: black; background-color: #f7fcf5\">&nbsp)&nbsp</span><span class=\"barcode\"; style=\"color: black; background-color: #f7fcf5\">&nbspDI&nbsp</span><span class=\"barcode\"; style=\"color: black; background-color: #f6fcf4\">&nbspPOLIPO&nbsp</span><span class=\"barcode\"; style=\"color: black; background-color: #c1e6ba\">&nbspPEDUNCOLATO&nbsp</span><span class=\"barcode\"; style=\"color: black; background-color: #f7fcf5\">&nbspA&nbsp</span><span class=\"barcode\"; style=\"color: black; background-color: #f7fcf5\">&nbsp20&nbsp</span><span class=\"barcode\"; style=\"color: black; background-color: #f7fcf5\">&nbspCM&nbsp</span><span class=\"barcode\"; style=\"color: black; background-color: #f7fcf5\">&nbspDALL&nbsp</span><span class=\"barcode\"; style=\"color: black; background-color: #f7fcf5\">&nbsp'&nbsp</span><span class=\"barcode\"; style=\"color: black; background-color: #daf0d4\">&nbspORIFIZIO&nbsp</span><span class=\"barcode\"; style=\"color: black; background-color: #70c274\">&nbspANALE&nbsp</span><span class=\"barcode\"; style=\"color: black; background-color: #f7fcf5\">&nbsp.&nbsp</span><span class=\"barcode\"; style=\"color: black; background-color: #f7fcf5\">&nbsp(&nbsp</span><span class=\"barcode\"; style=\"color: black; background-color: #f7fcf5\">&nbspESEGUITA&nbsp</span><span class=\"barcode\"; style=\"color: black; background-color: #f7fcf5\">&nbspCOLORAZIONE&nbsp</span><span class=\"barcode\"; style=\"color: black; background-color: #f7fcf5\">&nbspEMATOSSILINA&nbsp</span><span class=\"barcode\"; style=\"color: black; background-color: #f7fcf5\">&nbsp-&nbsp</span><span class=\"barcode\"; style=\"color: black; background-color: #f7fcf5\">&nbspEOSINA&nbsp</span><span class=\"barcode\"; style=\"color: black; background-color: #f7fcf5\">&nbsp)&nbsp</span><span class=\"barcode\"; style=\"color: black; background-color: #f7fcf5\">&nbsp.&nbsp</span>"
      ],
      "text/plain": [
       "<IPython.core.display.HTML object>"
      ]
     },
     "metadata": {},
     "output_type": "display_data"
    },
    {
     "name": "stdout",
     "output_type": "stream",
     "text": [
      "======== doc:  3\n",
      "y: 37 (44-CUTE); yp: 37 (44-CUTE)\n",
      "0:-3.1 - 1:-14.0 - 2:-11.7 - 3:-11.3 - 4:-17.0 - 5:-9.3 - 6:-3.5 - 7:-5.1 - 8:-13.1 - 9:-8.7 - 10:-14.5 - 11:-9.7 - 12:-29.4 - 13:-18.1 - 14:-12.4 - 15:-15.5 - 16:-11.7 - 17:-15.3 - 18:-0.4 - 19:-11.3 - 20:-3.2 - 21:-1.6 - 22:-9.0 - 23:-11.8 - 24:-18.9 - 25:-12.5 - 26:-10.7 - 27:-3.4 - 28:-13.1 - 29:-4.0 - 30:-24.5 - 31:-3.1 - 32:-17.2 - 33:-10.0 - 34:-20.3 - 35:-8.2 - 36:-1.3 - 37:11.3 - 38:-9.2 - 39:-17.0 - 40:-2.3 - 41:-0.9 - 42:-0.6 - 43:-9.7 - 44:-4.8 - 45:-5.2 - 46:-10.5 - 47:-15.7 - 48:-18.6 - 49:-3.0 - 50:-3.8 - 51:-15.6 - 52:-6.0 - 53:-11.2 - 54:-32.9 - 55:-28.1 - 56:-7.1 - 57:-13.6 - 58:-2.6 - 59:-7.8 - 60:-7.0 - 61:-12.5 - 62:-10.8 - 63:-27.2 - 64:-5.9 - 65:-0.6 - 66:-3.5 - 67:-0.8\n",
      "---\n",
      "0\n"
     ]
    },
    {
     "data": {
      "text/html": [
       "<span class=\"barcode\"; style=\"color: black; background-color: #f5fbf3\">&nbspCARCINOMA&nbsp</span><span class=\"barcode\"; style=\"color: black; background-color: #eff9ec\">&nbspBASOCELLULARE&nbsp</span><span class=\"barcode\"; style=\"color: black; background-color: #ecf8e8\">&nbspDI&nbsp</span><span class=\"barcode\"; style=\"color: black; background-color: #eff9ec\">&nbspTIPO&nbsp</span><span class=\"barcode\"; style=\"color: black; background-color: #ecf8e8\">&nbspSUPERFICIALE&nbsp</span><span class=\"barcode\"; style=\"color: black; background-color: #f3faf0\">&nbsp.&nbsp</span><span class=\"barcode\"; style=\"color: black; background-color: #f5fbf2\">&nbspA&nbsp</span><span class=\"barcode\"; style=\"color: black; background-color: #f6fcf4\">&nbsp)&nbsp</span><span class=\"barcode\"; style=\"color: black; background-color: #f1faee\">&nbspBIOPSIA&nbsp</span><span class=\"barcode\"; style=\"color: black; background-color: #84cc83\">&nbspSHAVE&nbsp</span><span class=\"barcode\"; style=\"color: black; background-color: #f4fbf2\">&nbspDI&nbsp</span><span class=\"barcode\"; style=\"color: black; background-color: #f5fbf2\">&nbspLESIONE&nbsp</span><span class=\"barcode\"; style=\"color: black; background-color: #eff9ec\">&nbspCUTANEA&nbsp</span><span class=\"barcode\"; style=\"color: black; background-color: #f6fcf4\">&nbspDELLA&nbsp</span><span class=\"barcode\"; style=\"color: black; background-color: #f2faef\">&nbspREGIONE&nbsp</span><span class=\"barcode\"; style=\"color: black; background-color: #f6fcf4\">&nbspDORSALE&nbsp</span><span class=\"barcode\"; style=\"color: black; background-color: #f7fcf5\">&nbsp.&nbsp</span>"
      ],
      "text/plain": [
       "<IPython.core.display.HTML object>"
      ]
     },
     "metadata": {},
     "output_type": "display_data"
    },
    {
     "name": "stdout",
     "output_type": "stream",
     "text": [
      "======== doc:  4\n",
      "y: 20 (20-RETTO); yp: 18 (18-COLON)\n",
      "0:-16.1 - 1:-18.6 - 2:-13.0 - 3:-16.4 - 4:-23.8 - 5:-10.6 - 6:-11.7 - 7:-11.7 - 8:-17.2 - 9:-18.8 - 10:-14.6 - 11:-11.7 - 12:-31.3 - 13:-11.7 - 14:-11.7 - 15:-7.0 - 16:-2.2 - 17:-1.8 - 18:6.5 - 19:2.9 - 20:6.1 - 21:1.3 - 22:-5.1 - 23:-6.3 - 24:-8.3 - 25:-5.6 - 26:0.0 - 27:-5.9 - 28:-6.2 - 29:-8.9 - 30:-21.7 - 31:-4.7 - 32:-21.4 - 33:-10.7 - 34:-11.0 - 35:-13.0 - 36:-6.5 - 37:-2.6 - 38:-19.2 - 39:-6.9 - 40:-3.4 - 41:-5.0 - 42:-13.4 - 43:-7.0 - 44:-5.8 - 45:-0.8 - 46:-5.2 - 47:-3.1 - 48:-11.9 - 49:-15.1 - 50:-10.3 - 51:-18.4 - 52:-16.2 - 53:-6.7 - 54:-24.2 - 55:-11.0 - 56:-4.0 - 57:-12.7 - 58:-12.7 - 59:-9.9 - 60:-4.7 - 61:-5.6 - 62:-9.1 - 63:-14.5 - 64:-4.2 - 65:-7.9 - 66:-14.7 - 67:-3.4\n",
      "---\n",
      "0\n"
     ]
    },
    {
     "data": {
      "text/html": [
       "<span class=\"barcode\"; style=\"color: black; background-color: #1c8540\">&nbspRETTORRAGIA&nbsp</span><span class=\"barcode\"; style=\"color: black; background-color: #f7fcf5\">&nbsp.&nbsp</span><span class=\"barcode\"; style=\"color: black; background-color: #f7fcf5\">&nbspADENOMA&nbsp</span><span class=\"barcode\"; style=\"color: black; background-color: #f7fcf5\">&nbspTUBULO&nbsp</span><span class=\"barcode\"; style=\"color: black; background-color: #f7fcf5\">&nbsp-&nbsp</span><span class=\"barcode\"; style=\"color: black; background-color: #f6fcf4\">&nbspVILLOSO&nbsp</span><span class=\"barcode\"; style=\"color: black; background-color: #d9f0d3\">&nbspINTESTINALE&nbsp</span><span class=\"barcode\"; style=\"color: black; background-color: #f7fcf5\">&nbspCON&nbsp</span><span class=\"barcode\"; style=\"color: black; background-color: #f7fcf5\">&nbspESTESE&nbsp</span><span class=\"barcode\"; style=\"color: black; background-color: #f7fcf5\">&nbspAREE&nbsp</span><span class=\"barcode\"; style=\"color: black; background-color: #f7fcf5\">&nbspDI&nbsp</span><span class=\"barcode\"; style=\"color: black; background-color: #f7fcf5\">&nbspDISPLASIA&nbsp</span><span class=\"barcode\"; style=\"color: black; background-color: #f7fcf5\">&nbspGRAVE&nbsp</span><span class=\"barcode\"; style=\"color: black; background-color: #f7fcf5\">&nbsp.&nbsp</span><span class=\"barcode\"; style=\"color: black; background-color: #f3faf0\">&nbspPOLIPO&nbsp</span><span class=\"barcode\"; style=\"color: black; background-color: #f7fcf5\">&nbspSESSILE&nbsp</span><span class=\"barcode\"; style=\"color: black; background-color: #f7fcf5\">&nbspDEL&nbsp</span><span class=\"barcode\"; style=\"color: black; background-color: #f7fcf5\">&nbspDIAMETRO&nbsp</span><span class=\"barcode\"; style=\"color: black; background-color: #f7fcf5\">&nbspDI&nbsp</span><span class=\"barcode\"; style=\"color: black; background-color: #f7fcf5\">&nbspCM&nbsp</span><span class=\"barcode\"; style=\"color: black; background-color: #f7fcf5\">&nbsp.&nbsp</span><span class=\"barcode\"; style=\"color: black; background-color: #f7fcf5\">&nbsp1&nbsp</span><span class=\"barcode\"; style=\"color: black; background-color: #f7fcf5\">&nbsp,&nbsp</span><span class=\"barcode\"; style=\"color: black; background-color: #f7fcf5\">&nbsp1&nbsp</span><span class=\"barcode\"; style=\"color: black; background-color: #f7fcf5\">&nbsp.&nbsp</span>"
      ],
      "text/plain": [
       "<IPython.core.display.HTML object>"
      ]
     },
     "metadata": {},
     "output_type": "display_data"
    },
    {
     "name": "stdout",
     "output_type": "stream",
     "text": [
      "======== doc:  5\n",
      "y: 20 (20-RETTO); yp: 20 (20-RETTO)\n",
      "0:-15.6 - 1:-19.7 - 2:-15.1 - 3:-19.1 - 4:-25.1 - 5:-12.0 - 6:-13.9 - 7:-15.1 - 8:-20.9 - 9:-21.9 - 10:-18.4 - 11:-15.4 - 12:-36.4 - 13:-16.2 - 14:-14.2 - 15:-11.0 - 16:-3.1 - 17:-2.9 - 18:4.5 - 19:3.9 - 20:5.9 - 21:1.6 - 22:-9.2 - 23:-7.8 - 24:-11.8 - 25:-6.0 - 26:-3.3 - 27:-5.8 - 28:-10.0 - 29:-11.3 - 30:-23.4 - 31:-6.6 - 32:-22.4 - 33:-13.6 - 34:-10.7 - 35:-12.9 - 36:-5.5 - 37:-0.7 - 38:-18.1 - 39:-10.0 - 40:-3.2 - 41:-2.9 - 42:-14.1 - 43:-8.1 - 44:-7.1 - 45:-0.4 - 46:-5.9 - 47:-5.5 - 48:-13.8 - 49:-15.6 - 50:-9.8 - 51:-18.8 - 52:-13.3 - 53:-9.0 - 54:-31.8 - 55:-16.5 - 56:-4.9 - 57:-14.8 - 58:-12.3 - 59:-8.5 - 60:-7.2 - 61:-8.4 - 62:-12.8 - 63:-16.6 - 64:-3.9 - 65:-6.8 - 66:-14.0 - 67:-3.5\n",
      "---\n",
      "0\n"
     ]
    },
    {
     "data": {
      "text/html": [
       "<span class=\"barcode\"; style=\"color: black; background-color: #f6fcf4\">&nbspFOBT&nbsp</span><span class=\"barcode\"; style=\"color: black; background-color: #f7fcf5\">&nbsp+&nbsp</span><span class=\"barcode\"; style=\"color: black; background-color: #f7fcf5\">&nbspOD&nbsp</span><span class=\"barcode\"; style=\"color: black; background-color: #f7fcf5\">&nbsp:&nbsp</span><span class=\"barcode\"; style=\"color: black; background-color: #f7fcf5\">&nbspADENOMA&nbsp</span><span class=\"barcode\"; style=\"color: black; background-color: #f7fcf5\">&nbsp?&nbsp</span><span class=\"barcode\"; style=\"color: black; background-color: #f7fcf5\">&nbspADENOMA&nbsp</span><span class=\"barcode\"; style=\"color: black; background-color: #f7fcf5\">&nbspTUBULARE&nbsp</span><span class=\"barcode\"; style=\"color: black; background-color: #f4fbf1\">&nbspINTESTINALE&nbsp</span><span class=\"barcode\"; style=\"color: black; background-color: #f7fcf5\">&nbsp.&nbsp</span><span class=\"barcode\"; style=\"color: black; background-color: #f7fcf5\">&nbspPOLIPO&nbsp</span><span class=\"barcode\"; style=\"color: black; background-color: #f7fcf5\">&nbspDEL&nbsp</span><span class=\"barcode\"; style=\"color: black; background-color: #004e1f\">&nbspRETTO&nbsp</span><span class=\"barcode\"; style=\"color: black; background-color: #f7fcf5\">&nbspDEL&nbsp</span><span class=\"barcode\"; style=\"color: black; background-color: #f7fcf5\">&nbspDIAMETRO&nbsp</span><span class=\"barcode\"; style=\"color: black; background-color: #f7fcf5\">&nbspMASSIMO&nbsp</span><span class=\"barcode\"; style=\"color: black; background-color: #f7fcf5\">&nbspDI&nbsp</span><span class=\"barcode\"; style=\"color: black; background-color: #f7fcf5\">&nbspCM&nbsp</span><span class=\"barcode\"; style=\"color: black; background-color: #f7fcf5\">&nbsp0&nbsp</span><span class=\"barcode\"; style=\"color: black; background-color: #f7fcf5\">&nbsp,&nbsp</span><span class=\"barcode\"; style=\"color: black; background-color: #f7fcf5\">&nbsp4&nbsp</span><span class=\"barcode\"; style=\"color: black; background-color: #f7fcf5\">&nbsp(&nbsp</span><span class=\"barcode\"; style=\"color: black; background-color: #f7fcf5\">&nbspIN&nbsp</span><span class=\"barcode\"; style=\"color: black; background-color: #f7fcf5\">&nbspTOTO&nbsp</span><span class=\"barcode\"; style=\"color: black; background-color: #f7fcf5\">&nbsp)&nbsp</span>"
      ],
      "text/plain": [
       "<IPython.core.display.HTML object>"
      ]
     },
     "metadata": {},
     "output_type": "display_data"
    },
    {
     "name": "stdout",
     "output_type": "stream",
     "text": [
      "======== doc:  6\n",
      "y: 66 (77-LINFONODI); yp: 36 (42-SISTEMA EMOPOIETICO E RETICOLO ENDOTELIALE)\n",
      "0:-33.3 - 1:-15.7 - 2:-18.6 - 3:-25.6 - 4:-29.2 - 5:-12.4 - 6:-12.2 - 7:-14.6 - 8:-14.1 - 9:-9.6 - 10:-13.1 - 11:-14.1 - 12:-42.5 - 13:-30.1 - 14:-17.1 - 15:-19.5 - 16:-7.4 - 17:-12.8 - 18:-5.9 - 19:-17.1 - 20:-10.1 - 21:-16.6 - 22:-7.9 - 23:-6.0 - 24:-15.5 - 25:-11.8 - 26:-6.8 - 27:-13.3 - 28:-23.0 - 29:-15.0 - 30:-31.1 - 31:-7.8 - 32:-10.8 - 33:-5.4 - 34:-23.9 - 35:-12.7 - 36:8.4 - 37:-3.5 - 38:-15.0 - 39:-7.0 - 40:-5.0 - 41:-7.2 - 42:-9.3 - 43:-21.8 - 44:-15.9 - 45:-3.3 - 46:-13.1 - 47:-15.3 - 48:-14.1 - 49:-22.0 - 50:-1.8 - 51:-8.9 - 52:-19.2 - 53:-7.5 - 54:-35.1 - 55:-30.7 - 56:-7.5 - 57:-10.5 - 58:-11.7 - 59:-11.0 - 60:-10.8 - 61:-13.3 - 62:-10.3 - 63:-9.8 - 64:-12.1 - 65:-8.3 - 66:7.7 - 67:-2.8\n",
      "---\n",
      "0\n"
     ]
    },
    {
     "data": {
      "text/html": [
       "<span class=\"barcode\"; style=\"color: black; background-color: #f6fcf4\">&nbspGAMMOPATIA&nbsp</span><span class=\"barcode\"; style=\"color: black; background-color: #f7fcf5\">&nbspIGM&nbsp</span><span class=\"barcode\"; style=\"color: black; background-color: #f7fcf5\">&nbspE&nbsp</span><span class=\"barcode\"; style=\"color: black; background-color: #f6fcf4\">&nbspLINFOADENOPATIA&nbsp</span><span class=\"barcode\"; style=\"color: black; background-color: #f6fcf4\">&nbspLATEROCERVICALE&nbsp</span><span class=\"barcode\"; style=\"color: black; background-color: #d9f0d3\">&nbspLINFOMA&nbsp</span><span class=\"barcode\"; style=\"color: black; background-color: #157f3b\">&nbspLINFOPLASMOCITOIDE&nbsp</span><span class=\"barcode\"; style=\"color: black; background-color: #f7fcf5\">&nbspCOINVOLGENTE&nbsp</span><span class=\"barcode\"; style=\"color: black; background-color: #f7fcf5\">&nbspIL&nbsp</span><span class=\"barcode\"; style=\"color: black; background-color: #f7fcf5\">&nbspTESSUTO&nbsp</span><span class=\"barcode\"; style=\"color: black; background-color: #f7fcf5\">&nbspOSTEOMIDOLLARE&nbsp</span><span class=\"barcode\"; style=\"color: black; background-color: #f7fcf5\">&nbspCON&nbsp</span><span class=\"barcode\"; style=\"color: black; background-color: #f7fcf5\">&nbspPATTERN&nbsp</span><span class=\"barcode\"; style=\"color: black; background-color: #f7fcf5\">&nbspNODULARE&nbsp</span><span class=\"barcode\"; style=\"color: black; background-color: #f7fcf5\">&nbspE&nbsp</span><span class=\"barcode\"; style=\"color: black; background-color: #f7fcf5\">&nbspPARATRABECOLARE&nbsp</span><span class=\"barcode\"; style=\"color: black; background-color: #f7fcf5\">&nbsp.&nbsp</span><span class=\"barcode\"; style=\"color: black; background-color: #f7fcf5\">&nbspTESSUTO&nbsp</span><span class=\"barcode\"; style=\"color: black; background-color: #f7fcf5\">&nbspEMOPOIETICO&nbsp</span><span class=\"barcode\"; style=\"color: black; background-color: #f7fcf5\">&nbspNORMORAPPRESENTATO&nbsp</span><span class=\"barcode\"; style=\"color: black; background-color: #f7fcf5\">&nbsp.&nbsp</span><span class=\"barcode\"; style=\"color: black; background-color: #f7fcf5\">&nbsp(&nbsp</span><span class=\"barcode\"; style=\"color: black; background-color: #f7fcf5\">&nbspCD20&nbsp</span><span class=\"barcode\"; style=\"color: black; background-color: #f7fcf5\">&nbsp+&nbsp</span><span class=\"barcode\"; style=\"color: black; background-color: #f7fcf5\">&nbsp,&nbsp</span><span class=\"barcode\"; style=\"color: black; background-color: #f7fcf5\">&nbspCD138&nbsp</span><span class=\"barcode\"; style=\"color: black; background-color: #f7fcf5\">&nbsp+&nbsp</span><span class=\"barcode\"; style=\"color: black; background-color: #f7fcf5\">&nbsp,&nbsp</span><span class=\"barcode\"; style=\"color: black; background-color: #f7fcf5\">&nbspLAMBDA&nbsp</span><span class=\"barcode\"; style=\"color: black; background-color: #f7fcf5\">&nbsp+&nbsp</span><span class=\"barcode\"; style=\"color: black; background-color: #f7fcf5\">&nbsp,&nbsp</span><span class=\"barcode\"; style=\"color: black; background-color: #f7fcf5\">&nbspK&nbsp</span><span class=\"barcode\"; style=\"color: black; background-color: #f7fcf5\">&nbsp-&nbsp</span><span class=\"barcode\"; style=\"color: black; background-color: #f7fcf5\">&nbsp/&nbsp</span><span class=\"barcode\"; style=\"color: black; background-color: #f7fcf5\">&nbsp+&nbsp</span><span class=\"barcode\"; style=\"color: black; background-color: #f7fcf5\">&nbsp,&nbsp</span><span class=\"barcode\"; style=\"color: black; background-color: #f7fcf5\">&nbspCD3&nbsp</span><span class=\"barcode\"; style=\"color: black; background-color: #f7fcf5\">&nbsp-&nbsp</span><span class=\"barcode\"; style=\"color: black; background-color: #f7fcf5\">&nbsp,&nbsp</span><span class=\"barcode\"; style=\"color: black; background-color: #f7fcf5\">&nbspCD5&nbsp</span><span class=\"barcode\"; style=\"color: black; background-color: #f7fcf5\">&nbsp-&nbsp</span><span class=\"barcode\"; style=\"color: black; background-color: #f7fcf5\">&nbsp,&nbsp</span><span class=\"barcode\"; style=\"color: black; background-color: #f7fcf5\">&nbspCD23&nbsp</span><span class=\"barcode\"; style=\"color: black; background-color: #f7fcf5\">&nbsp-&nbsp</span><span class=\"barcode\"; style=\"color: black; background-color: #f7fcf5\">&nbsp,&nbsp</span><span class=\"barcode\"; style=\"color: black; background-color: #f7fcf5\">&nbspCD10&nbsp</span><span class=\"barcode\"; style=\"color: black; background-color: #f7fcf5\">&nbsp-&nbsp</span><span class=\"barcode\"; style=\"color: black; background-color: #f7fcf5\">&nbsp)&nbsp</span>"
      ],
      "text/plain": [
       "<IPython.core.display.HTML object>"
      ]
     },
     "metadata": {},
     "output_type": "display_data"
    },
    {
     "name": "stdout",
     "output_type": "stream",
     "text": [
      "======== doc:  7\n",
      "y: 18 (18-COLON); yp: 18 (18-COLON)\n",
      "0:-16.5 - 1:-20.6 - 2:-16.0 - 3:-18.1 - 4:-24.3 - 5:-12.2 - 6:-11.8 - 7:-11.5 - 8:-15.0 - 9:-21.2 - 10:-19.1 - 11:-14.0 - 12:-37.3 - 13:-18.1 - 14:-14.7 - 15:-14.1 - 16:-3.1 - 17:-1.6 - 18:9.0 - 19:4.2 - 20:2.9 - 21:-0.5 - 22:-7.1 - 23:-4.7 - 24:-10.5 - 25:-5.3 - 26:-1.8 - 27:-6.7 - 28:-11.3 - 29:-11.6 - 30:-26.3 - 31:-7.8 - 32:-22.0 - 33:-14.2 - 34:-13.1 - 35:-12.7 - 36:-3.7 - 37:0.8 - 38:-16.6 - 39:-6.5 - 40:-1.7 - 41:-4.1 - 42:-14.7 - 43:-8.5 - 44:-6.8 - 45:-0.2 - 46:-6.9 - 47:-3.5 - 48:-13.6 - 49:-14.4 - 50:-6.3 - 51:-18.9 - 52:-14.7 - 53:-5.7 - 54:-26.8 - 55:-15.1 - 56:-3.6 - 57:-14.6 - 58:-14.0 - 59:-9.8 - 60:-7.4 - 61:-8.8 - 62:-10.6 - 63:-14.8 - 64:-0.7 - 65:-3.6 - 66:-11.3 - 67:-2.5\n",
      "---\n",
      "0\n"
     ]
    },
    {
     "data": {
      "text/html": [
       "<span class=\"barcode\"; style=\"color: black; background-color: #f7fcf5\">&nbspADENOMA&nbsp</span><span class=\"barcode\"; style=\"color: black; background-color: #f7fcf5\">&nbspTUBULO&nbsp</span><span class=\"barcode\"; style=\"color: black; background-color: #f7fcf5\">&nbsp-&nbsp</span><span class=\"barcode\"; style=\"color: black; background-color: #f7fcf5\">&nbspVILLOSO&nbsp</span><span class=\"barcode\"; style=\"color: black; background-color: #ebf7e7\">&nbspINTESTINALE&nbsp</span><span class=\"barcode\"; style=\"color: black; background-color: #f7fcf5\">&nbspCON&nbsp</span><span class=\"barcode\"; style=\"color: black; background-color: #f7fcf5\">&nbspFOCALI&nbsp</span><span class=\"barcode\"; style=\"color: black; background-color: #f7fcf5\">&nbspAREE&nbsp</span><span class=\"barcode\"; style=\"color: black; background-color: #f7fcf5\">&nbspDI&nbsp</span><span class=\"barcode\"; style=\"color: black; background-color: #f7fcf5\">&nbspDISPLASIA&nbsp</span><span class=\"barcode\"; style=\"color: black; background-color: #f7fcf5\">&nbspGRAVE&nbsp</span><span class=\"barcode\"; style=\"color: black; background-color: #f7fcf5\">&nbsp.&nbsp</span><span class=\"barcode\"; style=\"color: black; background-color: #f7fcf5\">&nbsp1&nbsp</span><span class=\"barcode\"; style=\"color: black; background-color: #f7fcf5\">&nbsp-&nbsp</span><span class=\"barcode\"; style=\"color: black; background-color: #f7fcf5\">&nbsp4&nbsp</span><span class=\"barcode\"; style=\"color: black; background-color: #f7fcf5\">&nbsp)&nbsp</span><span class=\"barcode\"; style=\"color: black; background-color: #eff9ec\">&nbspPOLIPO&nbsp</span><span class=\"barcode\"; style=\"color: black; background-color: #f7fcf5\">&nbspDEL&nbsp</span><span class=\"barcode\"; style=\"color: black; background-color: #067230\">&nbspSIGMA&nbsp</span><span class=\"barcode\"; style=\"color: black; background-color: #f7fcf5\">&nbspDEL&nbsp</span><span class=\"barcode\"; style=\"color: black; background-color: #f7fcf5\">&nbspDIAMETRO&nbsp</span><span class=\"barcode\"; style=\"color: black; background-color: #f7fcf5\">&nbspMASSIMO&nbsp</span><span class=\"barcode\"; style=\"color: black; background-color: #f7fcf5\">&nbspDI&nbsp</span><span class=\"barcode\"; style=\"color: black; background-color: #f7fcf5\">&nbspCM&nbsp</span><span class=\"barcode\"; style=\"color: black; background-color: #f7fcf5\">&nbsp1&nbsp</span><span class=\"barcode\"; style=\"color: black; background-color: #f7fcf5\">&nbsp,&nbsp</span><span class=\"barcode\"; style=\"color: black; background-color: #f7fcf5\">&nbsp9&nbsp</span><span class=\"barcode\"; style=\"color: black; background-color: #f7fcf5\">&nbsp.&nbsp</span>"
      ],
      "text/plain": [
       "<IPython.core.display.HTML object>"
      ]
     },
     "metadata": {},
     "output_type": "display_data"
    },
    {
     "name": "stdout",
     "output_type": "stream",
     "text": [
      "======== doc:  8\n",
      "y: 37 (44-CUTE); yp: 37 (44-CUTE)\n",
      "0:-2.4 - 1:-11.3 - 2:-9.0 - 3:-9.5 - 4:-14.5 - 5:-8.5 - 6:-2.4 - 7:-3.5 - 8:-10.6 - 9:-7.6 - 10:-12.7 - 11:-8.3 - 12:-26.2 - 13:-15.6 - 14:-9.8 - 15:-13.7 - 16:-9.7 - 17:-14.4 - 18:-0.5 - 19:-10.4 - 20:-2.1 - 21:-2.0 - 22:-8.9 - 23:-10.9 - 24:-17.9 - 25:-11.7 - 26:-9.9 - 27:-3.2 - 28:-11.4 - 29:-4.0 - 30:-23.2 - 31:-2.9 - 32:-15.8 - 33:-9.0 - 34:-19.2 - 35:-7.8 - 36:-1.2 - 37:10.3 - 38:-8.4 - 39:-15.6 - 40:-2.2 - 41:-0.6 - 42:-0.9 - 43:-9.5 - 44:-4.6 - 45:-4.7 - 46:-9.4 - 47:-14.6 - 48:-17.8 - 49:-2.9 - 50:-2.3 - 51:-13.9 - 52:-5.7 - 53:-9.0 - 54:-29.0 - 55:-25.3 - 56:-5.3 - 57:-12.3 - 58:-3.5 - 59:-7.9 - 60:-7.3 - 61:-12.3 - 62:-9.5 - 63:-26.5 - 64:-5.6 - 65:-0.5 - 66:-2.5 - 67:-0.5\n",
      "---\n",
      "0\n"
     ]
    },
    {
     "data": {
      "text/html": [
       "<span class=\"barcode\"; style=\"color: black; background-color: #f6fcf4\">&nbspCARCINOMA&nbsp</span><span class=\"barcode\"; style=\"color: black; background-color: #f1faee\">&nbspBASOCELLULARE&nbsp</span><span class=\"barcode\"; style=\"color: black; background-color: #eaf7e6\">&nbspDI&nbsp</span><span class=\"barcode\"; style=\"color: black; background-color: #eff9eb\">&nbspTIPO&nbsp</span><span class=\"barcode\"; style=\"color: black; background-color: #edf8ea\">&nbspSUPERFICIALE&nbsp</span><span class=\"barcode\"; style=\"color: black; background-color: #f7fcf5\">&nbsp;&nbsp</span><span class=\"barcode\"; style=\"color: black; background-color: #f6fcf4\">&nbspMARGINI&nbsp</span><span class=\"barcode\"; style=\"color: black; background-color: #f4fbf2\">&nbspTRASVERSALI&nbsp</span><span class=\"barcode\"; style=\"color: black; background-color: #f7fcf5\">&nbsp,&nbsp</span><span class=\"barcode\"; style=\"color: black; background-color: #f0f9ec\">&nbspAPICALI&nbsp</span><span class=\"barcode\"; style=\"color: black; background-color: #f6fcf4\">&nbspE&nbsp</span><span class=\"barcode\"; style=\"color: black; background-color: #f1faee\">&nbspPROFONDO&nbsp</span><span class=\"barcode\"; style=\"color: black; background-color: #f5fbf3\">&nbspNEGATIVI&nbsp</span><span class=\"barcode\"; style=\"color: black; background-color: #f5fbf3\">&nbsp.&nbsp</span><span class=\"barcode\"; style=\"color: black; background-color: #e1f3dc\">&nbspBIOPSIA&nbsp</span><span class=\"barcode\"; style=\"color: black; background-color: #f1faee\">&nbspESCISSIONALE&nbsp</span><span class=\"barcode\"; style=\"color: black; background-color: #f5fbf2\">&nbspDI&nbsp</span><span class=\"barcode\"; style=\"color: black; background-color: #f3faf0\">&nbspNEOFORMAZIONE&nbsp</span><span class=\"barcode\"; style=\"color: black; background-color: #eef8ea\">&nbspCUTANEA&nbsp</span><span class=\"barcode\"; style=\"color: black; background-color: #f6fcf4\">&nbspDELLA&nbsp</span><span class=\"barcode\"; style=\"color: black; background-color: #e4f5df\">&nbspREGIONE&nbsp</span><span class=\"barcode\"; style=\"color: black; background-color: #f1faee\">&nbspDORSALE&nbsp</span><span class=\"barcode\"; style=\"color: black; background-color: #f7fcf5\">&nbsp,&nbsp</span><span class=\"barcode\"; style=\"color: black; background-color: #f6fcf4\">&nbspFRAMMENTO&nbsp</span><span class=\"barcode\"; style=\"color: black; background-color: #f4fbf1\">&nbspCUTANEO&nbsp</span><span class=\"barcode\"; style=\"color: black; background-color: #f7fcf5\">&nbsp27&nbsp</span><span class=\"barcode\"; style=\"color: black; background-color: #f7fcf5\">&nbspX&nbsp</span><span class=\"barcode\"; style=\"color: black; background-color: #f7fcf5\">&nbsp12&nbsp</span><span class=\"barcode\"; style=\"color: black; background-color: #f7fcf5\">&nbspX&nbsp</span><span class=\"barcode\"; style=\"color: black; background-color: #f7fcf5\">&nbsp4&nbsp</span><span class=\"barcode\"; style=\"color: black; background-color: #f6fcf4\">&nbspMM&nbsp</span><span class=\"barcode\"; style=\"color: black; background-color: #f7fcf5\">&nbsp.&nbsp</span><span class=\"barcode\"; style=\"color: black; background-color: #f4fbf2\">&nbspT&nbsp</span><span class=\"barcode\"; style=\"color: black; background-color: #f7fcf5\">&nbsp)&nbsp</span><span class=\"barcode\"; style=\"color: black; background-color: #f7fcf5\">&nbspNEOFORMAZIONE&nbsp</span><span class=\"barcode\"; style=\"color: black; background-color: #f7fcf5\">&nbspCON&nbsp</span><span class=\"barcode\"; style=\"color: black; background-color: #f7fcf5\">&nbspMARGINI&nbsp</span><span class=\"barcode\"; style=\"color: black; background-color: #f7fcf5\">&nbspTRASVERSALI&nbsp</span><span class=\"barcode\"; style=\"color: black; background-color: #f7fcf5\">&nbspE&nbsp</span><span class=\"barcode\"; style=\"color: black; background-color: #f7fcf5\">&nbspPROFONDO&nbsp</span><span class=\"barcode\"; style=\"color: black; background-color: #f7fcf5\">&nbsp;&nbsp</span><span class=\"barcode\"; style=\"color: black; background-color: #f7fcf5\">&nbspMA&nbsp</span><span class=\"barcode\"; style=\"color: black; background-color: #f7fcf5\">&nbsp)&nbsp</span><span class=\"barcode\"; style=\"color: black; background-color: #f7fcf5\">&nbspMARGINE&nbsp</span><span class=\"barcode\"; style=\"color: black; background-color: #f7fcf5\">&nbspAPICALE&nbsp</span><span class=\"barcode\"; style=\"color: black; background-color: #f7fcf5\">&nbsp;&nbsp</span><span class=\"barcode\"; style=\"color: black; background-color: #f7fcf5\">&nbspMB&nbsp</span><span class=\"barcode\"; style=\"color: black; background-color: #f7fcf5\">&nbsp)&nbsp</span><span class=\"barcode\"; style=\"color: black; background-color: #f7fcf5\">&nbspMARGINE&nbsp</span><span class=\"barcode\"; style=\"color: black; background-color: #f7fcf5\">&nbspAPICALE&nbsp</span><span class=\"barcode\"; style=\"color: black; background-color: #f7fcf5\">&nbspCONTROLATERALE&nbsp</span><span class=\"barcode\"; style=\"color: black; background-color: #f7fcf5\">&nbsp.&nbsp</span><span class=\"barcode\"; style=\"color: black; background-color: #f7fcf5\">&nbsp(&nbsp</span><span class=\"barcode\"; style=\"color: black; background-color: #f7fcf5\">&nbspMARGINI&nbsp</span><span class=\"barcode\"; style=\"color: black; background-color: #f7fcf5\">&nbspMARCATI&nbsp</span><span class=\"barcode\"; style=\"color: black; background-color: #f7fcf5\">&nbspCON&nbsp</span><span class=\"barcode\"; style=\"color: black; background-color: #f7fcf5\">&nbspINCHIOSTRO&nbsp</span><span class=\"barcode\"; style=\"color: black; background-color: #f7fcf5\">&nbspDI&nbsp</span><span class=\"barcode\"; style=\"color: black; background-color: #f7fcf5\">&nbspCHINA&nbsp</span><span class=\"barcode\"; style=\"color: black; background-color: #f7fcf5\">&nbsp)&nbsp</span><span class=\"barcode\"; style=\"color: black; background-color: #f7fcf5\">&nbsp.&nbsp</span>"
      ],
      "text/plain": [
       "<IPython.core.display.HTML object>"
      ]
     },
     "metadata": {},
     "output_type": "display_data"
    },
    {
     "name": "stdout",
     "output_type": "stream",
     "text": [
      "======== doc:  9\n",
      "y: 18 (18-COLON); yp: 18 (18-COLON)\n",
      "0:-10.9 - 1:-14.9 - 2:-9.3 - 3:-10.1 - 4:-16.4 - 5:-10.1 - 6:-7.0 - 7:-5.9 - 8:-10.0 - 9:-15.8 - 10:-11.6 - 11:-9.8 - 12:-25.7 - 13:-7.7 - 14:-8.1 - 15:-6.5 - 16:-1.7 - 17:0.2 - 18:7.4 - 19:2.9 - 20:4.9 - 21:0.2 - 22:-5.2 - 23:-5.5 - 24:-7.0 - 25:-4.3 - 26:0.4 - 27:-5.1 - 28:-6.0 - 29:-6.7 - 30:-19.8 - 31:-4.4 - 32:-19.8 - 33:-9.2 - 34:-10.4 - 35:-9.7 - 36:-4.9 - 37:-0.9 - 38:-14.9 - 39:-5.3 - 40:-1.9 - 41:-4.5 - 42:-11.2 - 43:-6.8 - 44:-4.6 - 45:-1.2 - 46:-6.2 - 47:-2.3 - 48:-11.0 - 49:-11.0 - 50:-5.6 - 51:-14.4 - 52:-12.8 - 53:-2.4 - 54:-16.4 - 55:-7.0 - 56:-1.7 - 57:-9.7 - 58:-11.3 - 59:-10.2 - 60:-3.7 - 61:-6.5 - 62:-6.8 - 63:-14.0 - 64:-3.4 - 65:-4.3 - 66:-10.6 - 67:-2.5\n",
      "---\n",
      "0\n"
     ]
    },
    {
     "data": {
      "text/html": [
       "<span class=\"barcode\"; style=\"color: black; background-color: #f7fcf5\">&nbsp1&nbsp</span><span class=\"barcode\"; style=\"color: black; background-color: #f7fcf5\">&nbsp-&nbsp</span><span class=\"barcode\"; style=\"color: black; background-color: #f6fcf4\">&nbspADENOMA&nbsp</span><span class=\"barcode\"; style=\"color: black; background-color: #f6fcf4\">&nbspTUBULO&nbsp</span><span class=\"barcode\"; style=\"color: black; background-color: #f7fcf5\">&nbsp-&nbsp</span><span class=\"barcode\"; style=\"color: black; background-color: #f4fbf1\">&nbspVILLOSO&nbsp</span><span class=\"barcode\"; style=\"color: black; background-color: #0b7734\">&nbspINTESTINALE&nbsp</span><span class=\"barcode\"; style=\"color: black; background-color: #f7fcf5\">&nbspCON&nbsp</span><span class=\"barcode\"; style=\"color: black; background-color: #f7fcf5\">&nbspDISPLASIA&nbsp</span><span class=\"barcode\"; style=\"color: black; background-color: #f7fcf5\">&nbspGRAVE&nbsp</span><span class=\"barcode\"; style=\"color: black; background-color: #f7fcf5\">&nbspDI&nbsp</span><span class=\"barcode\"; style=\"color: black; background-color: #f7fcf5\">&nbspALCUNE&nbsp</span><span class=\"barcode\"; style=\"color: black; background-color: #f7fcf5\">&nbspSTRUTTURE&nbsp</span><span class=\"barcode\"; style=\"color: black; background-color: #f7fcf5\">&nbspGHIANDOLARI&nbsp</span><span class=\"barcode\"; style=\"color: black; background-color: #f7fcf5\">&nbsp:&nbsp</span><span class=\"barcode\"; style=\"color: black; background-color: #f7fcf5\">&nbspNON&nbsp</span><span class=\"barcode\"; style=\"color: black; background-color: #f7fcf5\">&nbspALTERAZIONI&nbsp</span><span class=\"barcode\"; style=\"color: black; background-color: #f7fcf5\">&nbspPATOLOGICHE&nbsp</span><span class=\"barcode\"; style=\"color: black; background-color: #f7fcf5\">&nbspDELLA&nbsp</span><span class=\"barcode\"; style=\"color: black; background-color: #f7fcf5\">&nbspBASE&nbsp</span><span class=\"barcode\"; style=\"color: black; background-color: #f7fcf5\">&nbspD&nbsp</span><span class=\"barcode\"; style=\"color: black; background-color: #f7fcf5\">&nbsp'&nbsp</span><span class=\"barcode\"; style=\"color: black; background-color: #f7fcf5\">&nbspIMPIANTO&nbsp</span><span class=\"barcode\"; style=\"color: black; background-color: #f7fcf5\">&nbsp2&nbsp</span><span class=\"barcode\"; style=\"color: black; background-color: #f7fcf5\">&nbsp-&nbsp</span><span class=\"barcode\"; style=\"color: black; background-color: #f4fbf2\">&nbspADENOMA&nbsp</span><span class=\"barcode\"; style=\"color: black; background-color: #f7fcf5\">&nbspTUBULARE&nbsp</span><span class=\"barcode\"; style=\"color: black; background-color: #edf8e9\">&nbspINTESTINALE&nbsp</span><span class=\"barcode\"; style=\"color: black; background-color: #f7fcf5\">&nbsp1&nbsp</span><span class=\"barcode\"; style=\"color: black; background-color: #f7fcf5\">&nbsp:&nbsp</span><span class=\"barcode\"; style=\"color: black; background-color: #f3faf0\">&nbspPOLIPO&nbsp</span><span class=\"barcode\"; style=\"color: black; background-color: #f7fcf5\">&nbspDI&nbsp</span><span class=\"barcode\"; style=\"color: black; background-color: #f7fcf5\">&nbsp1&nbsp</span><span class=\"barcode\"; style=\"color: black; background-color: #f7fcf5\">&nbsp,&nbsp</span><span class=\"barcode\"; style=\"color: black; background-color: #f7fcf5\">&nbsp3&nbsp</span><span class=\"barcode\"; style=\"color: black; background-color: #f7fcf5\">&nbspX&nbsp</span><span class=\"barcode\"; style=\"color: black; background-color: #f7fcf5\">&nbsp1&nbsp</span><span class=\"barcode\"; style=\"color: black; background-color: #f7fcf5\">&nbspCM&nbsp</span><span class=\"barcode\"; style=\"color: black; background-color: #f7fcf5\">&nbspA&nbsp</span><span class=\"barcode\"; style=\"color: black; background-color: #f7fcf5\">&nbspCORTO&nbsp</span><span class=\"barcode\"; style=\"color: black; background-color: #f7fcf5\">&nbspPEDUNCOLO&nbsp</span><span class=\"barcode\"; style=\"color: black; background-color: #f7fcf5\">&nbsp(&nbsp</span><span class=\"barcode\"; style=\"color: black; background-color: #f7fcf5\">&nbsp1&nbsp</span><span class=\"barcode\"; style=\"color: black; background-color: #f7fcf5\">&nbsp-&nbsp</span><span class=\"barcode\"; style=\"color: black; background-color: #f7fcf5\">&nbsp3&nbsp</span><span class=\"barcode\"; style=\"color: black; background-color: #f7fcf5\">&nbsp)&nbsp</span><span class=\"barcode\"; style=\"color: black; background-color: #f7fcf5\">&nbspNR&nbsp</span><span class=\"barcode\"; style=\"color: black; background-color: #f7fcf5\">&nbsp2&nbsp</span><span class=\"barcode\"; style=\"color: black; background-color: #f7fcf5\">&nbsp:&nbsp</span><span class=\"barcode\"; style=\"color: black; background-color: #f7fcf5\">&nbsp1F&nbsp</span><span class=\"barcode\"; style=\"color: black; background-color: #f7fcf5\">&nbspNR&nbsp</span><span class=\"barcode\"; style=\"color: black; background-color: #f7fcf5\">&nbsp(&nbsp</span><span class=\"barcode\"; style=\"color: black; background-color: #f7fcf5\">&nbsp4&nbsp</span><span class=\"barcode\"; style=\"color: black; background-color: #f7fcf5\">&nbsp)&nbsp</span><span class=\"barcode\"; style=\"color: black; background-color: #f7fcf5\">&nbspNR&nbsp</span><span class=\"barcode\"; style=\"color: black; background-color: #f7fcf5\">&nbspGG&nbsp</span>"
      ],
      "text/plain": [
       "<IPython.core.display.HTML object>"
      ]
     },
     "metadata": {},
     "output_type": "display_data"
    },
    {
     "name": "stdout",
     "output_type": "stream",
     "text": [
      "======== doc:  10\n",
      "y: 50 (61-PROSTATA); yp: 50 (61-PROSTATA)\n",
      "0:-19.6 - 1:-12.3 - 2:-12.5 - 3:-24.8 - 4:-20.4 - 5:-10.4 - 6:-13.1 - 7:-10.9 - 8:-13.9 - 9:-9.0 - 10:-12.9 - 11:-18.6 - 12:-15.4 - 13:-14.2 - 14:-12.1 - 15:-15.2 - 16:-10.3 - 17:-16.7 - 18:-2.4 - 19:-6.9 - 20:-9.0 - 21:-15.1 - 22:-7.7 - 23:-1.7 - 24:-8.8 - 25:-9.6 - 26:-12.3 - 27:-14.1 - 28:-19.9 - 29:-7.0 - 30:-10.3 - 31:-1.6 - 32:-19.9 - 33:-14.5 - 34:-36.1 - 35:-30.3 - 36:-4.9 - 37:-0.4 - 38:-25.3 - 39:-15.2 - 40:-9.8 - 41:-10.8 - 42:-14.6 - 43:-19.7 - 44:-7.1 - 45:-3.3 - 46:-12.0 - 47:-11.0 - 48:-16.2 - 49:-14.6 - 50:8.7 - 51:-13.2 - 52:-27.2 - 53:-1.9 - 54:-19.0 - 55:-13.7 - 56:-1.3 - 57:-4.3 - 58:-15.1 - 59:-5.8 - 60:-12.4 - 61:-18.1 - 62:-5.0 - 63:-15.2 - 64:-6.8 - 65:-12.5 - 66:-7.6 - 67:-5.8\n",
      "---\n",
      "0\n"
     ]
    },
    {
     "data": {
      "text/html": [
       "<span class=\"barcode\"; style=\"color: black; background-color: #f5fbf2\">&nbspPSA&nbsp</span><span class=\"barcode\"; style=\"color: black; background-color: #f7fcf5\">&nbsp:&nbsp</span><span class=\"barcode\"; style=\"color: black; background-color: #f7fcf5\">&nbsp40&nbsp</span><span class=\"barcode\"; style=\"color: black; background-color: #f6fcf4\">&nbspADENOCARCINOMA&nbsp</span><span class=\"barcode\"; style=\"color: black; background-color: #005221\">&nbspPROSTATICO&nbsp</span><span class=\"barcode\"; style=\"color: black; background-color: #f7fcf5\">&nbspA&nbsp</span><span class=\"barcode\"; style=\"color: black; background-color: #f7fcf5\">&nbspMEDIO&nbsp</span><span class=\"barcode\"; style=\"color: black; background-color: #f7fcf5\">&nbspGRADO&nbsp</span><span class=\"barcode\"; style=\"color: black; background-color: #f7fcf5\">&nbspDI&nbsp</span><span class=\"barcode\"; style=\"color: black; background-color: #f7fcf5\">&nbspDIFFERENZIAZIONE&nbsp</span><span class=\"barcode\"; style=\"color: black; background-color: #f7fcf5\">&nbsp(&nbsp</span><span class=\"barcode\"; style=\"color: black; background-color: #f4fbf2\">&nbspGLEASON&nbsp</span><span class=\"barcode\"; style=\"color: black; background-color: #f7fcf5\">&nbsp3&nbsp</span><span class=\"barcode\"; style=\"color: black; background-color: #f7fcf5\">&nbsp+&nbsp</span><span class=\"barcode\"; style=\"color: black; background-color: #f7fcf5\">&nbsp3&nbsp</span><span class=\"barcode\"; style=\"color: black; background-color: #f7fcf5\">&nbsp)&nbsp</span><span class=\"barcode\"; style=\"color: black; background-color: #f7fcf5\">&nbspNEI&nbsp</span><span class=\"barcode\"; style=\"color: black; background-color: #f7fcf5\">&nbspPRELIEVI&nbsp</span><span class=\"barcode\"; style=\"color: black; background-color: #f7fcf5\">&nbspDI&nbsp</span><span class=\"barcode\"; style=\"color: black; background-color: #f7fcf5\">&nbspCUI&nbsp</span><span class=\"barcode\"; style=\"color: black; background-color: #f7fcf5\">&nbspAI&nbsp</span><span class=\"barcode\"; style=\"color: black; background-color: #f7fcf5\">&nbspNN&nbsp</span><span class=\"barcode\"; style=\"color: black; background-color: #f7fcf5\">&nbsp.&nbsp</span><span class=\"barcode\"; style=\"color: black; background-color: #f7fcf5\">&nbsp2&nbsp</span><span class=\"barcode\"; style=\"color: black; background-color: #f7fcf5\">&nbspE&nbsp</span><span class=\"barcode\"; style=\"color: black; background-color: #f7fcf5\">&nbsp4&nbsp</span><span class=\"barcode\"; style=\"color: black; background-color: #f7fcf5\">&nbsp.&nbsp</span>"
      ],
      "text/plain": [
       "<IPython.core.display.HTML object>"
      ]
     },
     "metadata": {},
     "output_type": "display_data"
    },
    {
     "name": "stdout",
     "output_type": "stream",
     "text": [
      "======== doc:  11\n",
      "y: 18 (18-COLON); yp: 18 (18-COLON)\n",
      "0:-15.8 - 1:-18.5 - 2:-14.1 - 3:-15.0 - 4:-22.7 - 5:-11.2 - 6:-10.1 - 7:-10.2 - 8:-12.1 - 9:-18.7 - 10:-15.2 - 11:-12.5 - 12:-34.6 - 13:-15.7 - 14:-13.7 - 15:-11.7 - 16:-3.2 - 17:0.1 - 18:8.8 - 19:3.5 - 20:3.2 - 21:-0.8 - 22:-5.1 - 23:-4.2 - 24:-8.4 - 25:-5.5 - 26:-0.2 - 27:-6.3 - 28:-10.0 - 29:-11.0 - 30:-23.3 - 31:-7.6 - 32:-20.9 - 33:-13.5 - 34:-11.4 - 35:-10.8 - 36:-2.3 - 37:0.2 - 38:-15.4 - 39:-5.1 - 40:-1.3 - 41:-5.6 - 42:-14.2 - 43:-8.9 - 44:-7.5 - 45:-1.2 - 46:-8.3 - 47:-4.6 - 48:-13.4 - 49:-13.2 - 50:-5.9 - 51:-19.0 - 52:-14.8 - 53:-4.9 - 54:-24.3 - 55:-12.7 - 56:-3.2 - 57:-13.3 - 58:-11.7 - 59:-10.2 - 60:-5.4 - 61:-7.4 - 62:-9.1 - 63:-11.6 - 64:-0.7 - 65:-3.9 - 66:-10.2 - 67:-2.2\n",
      "---\n",
      "0\n"
     ]
    },
    {
     "data": {
      "text/html": [
       "<span class=\"barcode\"; style=\"color: black; background-color: #f7fcf5\">&nbspADENOMA&nbsp</span><span class=\"barcode\"; style=\"color: black; background-color: #f7fcf5\">&nbspTUBULO&nbsp</span><span class=\"barcode\"; style=\"color: black; background-color: #f7fcf5\">&nbsp-&nbsp</span><span class=\"barcode\"; style=\"color: black; background-color: #f6fcf4\">&nbspVILLOSO&nbsp</span><span class=\"barcode\"; style=\"color: black; background-color: #e5f5e0\">&nbspINTESTINALE&nbsp</span><span class=\"barcode\"; style=\"color: black; background-color: #f7fcf5\">&nbspCON&nbsp</span><span class=\"barcode\"; style=\"color: black; background-color: #f7fcf5\">&nbspAREE&nbsp</span><span class=\"barcode\"; style=\"color: black; background-color: #f7fcf5\">&nbspDI&nbsp</span><span class=\"barcode\"; style=\"color: black; background-color: #f7fcf5\">&nbspDISPLASIA&nbsp</span><span class=\"barcode\"; style=\"color: black; background-color: #f7fcf5\">&nbspSEVERA&nbsp</span><span class=\"barcode\"; style=\"color: black; background-color: #f7fcf5\">&nbsp.&nbsp</span><span class=\"barcode\"; style=\"color: black; background-color: #f7fcf5\">&nbspNESSUNA&nbsp</span><span class=\"barcode\"; style=\"color: black; background-color: #f7fcf5\">&nbspDOCUMENTABILE&nbsp</span><span class=\"barcode\"; style=\"color: black; background-color: #f7fcf5\">&nbspPROLIFERAZIONE&nbsp</span><span class=\"barcode\"; style=\"color: black; background-color: #f7fcf5\">&nbspNEOPLASTICA&nbsp</span><span class=\"barcode\"; style=\"color: black; background-color: #f7fcf5\">&nbspNELLA&nbsp</span><span class=\"barcode\"; style=\"color: black; background-color: #f7fcf5\">&nbspBASE&nbsp</span><span class=\"barcode\"; style=\"color: black; background-color: #f7fcf5\">&nbspD&nbsp</span><span class=\"barcode\"; style=\"color: black; background-color: #f7fcf5\">&nbsp'&nbsp</span><span class=\"barcode\"; style=\"color: black; background-color: #f7fcf5\">&nbspIMPIANTO&nbsp</span><span class=\"barcode\"; style=\"color: black; background-color: #f7fcf5\">&nbsp.&nbsp</span><span class=\"barcode\"; style=\"color: black; background-color: #f7fcf5\">&nbsp1&nbsp</span><span class=\"barcode\"; style=\"color: black; background-color: #f7fcf5\">&nbsp-&nbsp</span><span class=\"barcode\"; style=\"color: black; background-color: #f7fcf5\">&nbsp3&nbsp</span><span class=\"barcode\"; style=\"color: black; background-color: #f7fcf5\">&nbsp)&nbsp</span><span class=\"barcode\"; style=\"color: black; background-color: #f5fbf2\">&nbspPOLIPO&nbsp</span><span class=\"barcode\"; style=\"color: black; background-color: #f7fcf5\">&nbspDEL&nbsp</span><span class=\"barcode\"; style=\"color: black; background-color: #077331\">&nbspSIGMA&nbsp</span><span class=\"barcode\"; style=\"color: black; background-color: #f7fcf5\">&nbsp,&nbsp</span><span class=\"barcode\"; style=\"color: black; background-color: #f7fcf5\">&nbspDIAMETRO&nbsp</span><span class=\"barcode\"; style=\"color: black; background-color: #f7fcf5\">&nbsp1&nbsp</span><span class=\"barcode\"; style=\"color: black; background-color: #f7fcf5\">&nbsp,&nbsp</span><span class=\"barcode\"; style=\"color: black; background-color: #f7fcf5\">&nbsp6&nbsp</span><span class=\"barcode\"; style=\"color: black; background-color: #f7fcf5\">&nbspCM&nbsp</span><span class=\"barcode\"; style=\"color: black; background-color: #f7fcf5\">&nbsp.&nbsp</span><span class=\"barcode\"; style=\"color: black; background-color: #f7fcf5\">&nbsp4&nbsp</span><span class=\"barcode\"; style=\"color: black; background-color: #f7fcf5\">&nbsp)&nbsp</span><span class=\"barcode\"; style=\"color: black; background-color: #f7fcf5\">&nbspBASE&nbsp</span><span class=\"barcode\"; style=\"color: black; background-color: #f7fcf5\">&nbspDEL&nbsp</span><span class=\"barcode\"; style=\"color: black; background-color: #f7fcf5\">&nbspPOLIPO&nbsp</span><span class=\"barcode\"; style=\"color: black; background-color: #f7fcf5\">&nbsp.&nbsp</span>"
      ],
      "text/plain": [
       "<IPython.core.display.HTML object>"
      ]
     },
     "metadata": {},
     "output_type": "display_data"
    },
    {
     "name": "stdout",
     "output_type": "stream",
     "text": [
      "======== doc:  12\n",
      "y: 50 (61-PROSTATA); yp: 50 (61-PROSTATA)\n",
      "0:-23.0 - 1:-13.3 - 2:-14.0 - 3:-27.5 - 4:-22.6 - 5:-10.8 - 6:-15.3 - 7:-12.9 - 8:-15.7 - 9:-10.0 - 10:-14.3 - 11:-19.9 - 12:-17.4 - 13:-16.0 - 14:-13.8 - 15:-16.8 - 16:-11.3 - 17:-18.2 - 18:-2.9 - 19:-8.1 - 20:-10.4 - 21:-16.6 - 22:-8.6 - 23:-1.4 - 24:-9.7 - 25:-10.1 - 26:-12.7 - 27:-15.3 - 28:-21.8 - 29:-8.5 - 30:-10.7 - 31:-2.0 - 32:-20.0 - 33:-15.3 - 34:-38.3 - 35:-33.4 - 36:-4.7 - 37:-1.4 - 38:-27.3 - 39:-16.3 - 40:-10.8 - 41:-11.4 - 42:-16.2 - 43:-20.8 - 44:-8.1 - 45:-3.0 - 46:-12.3 - 47:-11.2 - 48:-15.3 - 49:-16.9 - 50:8.6 - 51:-13.7 - 52:-29.1 - 53:-1.6 - 54:-20.0 - 55:-14.3 - 56:-2.0 - 57:-4.1 - 58:-17.3 - 59:-5.8 - 60:-13.8 - 61:-19.2 - 62:-5.3 - 63:-15.6 - 64:-8.2 - 65:-13.8 - 66:-8.7 - 67:-6.3\n",
      "---\n",
      "0\n"
     ]
    },
    {
     "data": {
      "text/html": [
       "<span class=\"barcode\"; style=\"color: black; background-color: #f6fcf4\">&nbspPSA&nbsp</span><span class=\"barcode\"; style=\"color: black; background-color: #f7fcf5\">&nbsp8&nbsp</span><span class=\"barcode\"; style=\"color: black; background-color: #f7fcf5\">&nbsp.&nbsp</span><span class=\"barcode\"; style=\"color: black; background-color: #f5fbf2\">&nbspADENOCARCINOMA&nbsp</span><span class=\"barcode\"; style=\"color: black; background-color: #004d1f\">&nbspPROSTATICO&nbsp</span><span class=\"barcode\"; style=\"color: black; background-color: #f7fcf5\">&nbspA&nbsp</span><span class=\"barcode\"; style=\"color: black; background-color: #f7fcf5\">&nbspGRADO&nbsp</span><span class=\"barcode\"; style=\"color: black; background-color: #f7fcf5\">&nbspDI&nbsp</span><span class=\"barcode\"; style=\"color: black; background-color: #f7fcf5\">&nbspDIFFERENZIAZIONE&nbsp</span><span class=\"barcode\"; style=\"color: black; background-color: #f7fcf5\">&nbspMEDIO&nbsp</span><span class=\"barcode\"; style=\"color: black; background-color: #f7fcf5\">&nbsp-&nbsp</span><span class=\"barcode\"; style=\"color: black; background-color: #f7fcf5\">&nbspBASSO&nbsp</span><span class=\"barcode\"; style=\"color: black; background-color: #f7fcf5\">&nbsp(&nbsp</span><span class=\"barcode\"; style=\"color: black; background-color: #f6fcf4\">&nbspGLEASON&nbsp</span><span class=\"barcode\"; style=\"color: black; background-color: #f7fcf5\">&nbsp4&nbsp</span><span class=\"barcode\"; style=\"color: black; background-color: #f7fcf5\">&nbsp+&nbsp</span><span class=\"barcode\"; style=\"color: black; background-color: #f7fcf5\">&nbsp3&nbsp</span><span class=\"barcode\"; style=\"color: black; background-color: #f7fcf5\">&nbsp)&nbsp</span><span class=\"barcode\"; style=\"color: black; background-color: #f7fcf5\">&nbspIN&nbsp</span><span class=\"barcode\"; style=\"color: black; background-color: #f7fcf5\">&nbspUNO&nbsp</span><span class=\"barcode\"; style=\"color: black; background-color: #f7fcf5\">&nbspDEI&nbsp</span><span class=\"barcode\"; style=\"color: black; background-color: #f7fcf5\">&nbspPRELIEVI&nbsp</span><span class=\"barcode\"; style=\"color: black; background-color: #f7fcf5\">&nbspDI&nbsp</span><span class=\"barcode\"; style=\"color: black; background-color: #f7fcf5\">&nbspCUI&nbsp</span><span class=\"barcode\"; style=\"color: black; background-color: #f7fcf5\">&nbspAL&nbsp</span><span class=\"barcode\"; style=\"color: black; background-color: #f7fcf5\">&nbspN&nbsp</span><span class=\"barcode\"; style=\"color: black; background-color: #f7fcf5\">&nbsp.&nbsp</span><span class=\"barcode\"; style=\"color: black; background-color: #f7fcf5\">&nbsp2&nbsp</span><span class=\"barcode\"; style=\"color: black; background-color: #f7fcf5\">&nbsp.&nbsp</span><span class=\"barcode\"; style=\"color: black; background-color: #f7fcf5\">&nbspAGOBIOPSIA&nbsp</span><span class=\"barcode\"; style=\"color: black; background-color: #f7fcf5\">&nbspPROSTATICA&nbsp</span><span class=\"barcode\"; style=\"color: black; background-color: #f7fcf5\">&nbspRANDOM&nbsp</span><span class=\"barcode\"; style=\"color: black; background-color: #f7fcf5\">&nbsp:&nbsp</span><span class=\"barcode\"; style=\"color: black; background-color: #f7fcf5\">&nbsp1&nbsp</span><span class=\"barcode\"; style=\"color: black; background-color: #f7fcf5\">&nbsp)&nbsp</span><span class=\"barcode\"; style=\"color: black; background-color: #f7fcf5\">&nbspLOBO&nbsp</span><span class=\"barcode\"; style=\"color: black; background-color: #f7fcf5\">&nbspDESTRO&nbsp</span><span class=\"barcode\"; style=\"color: black; background-color: #f7fcf5\">&nbsp.&nbsp</span><span class=\"barcode\"; style=\"color: black; background-color: #f7fcf5\">&nbsp2&nbsp</span><span class=\"barcode\"; style=\"color: black; background-color: #f7fcf5\">&nbsp)&nbsp</span><span class=\"barcode\"; style=\"color: black; background-color: #f7fcf5\">&nbspLOBO&nbsp</span><span class=\"barcode\"; style=\"color: black; background-color: #f7fcf5\">&nbspSINISTRO&nbsp</span><span class=\"barcode\"; style=\"color: black; background-color: #f7fcf5\">&nbsp.&nbsp</span>"
      ],
      "text/plain": [
       "<IPython.core.display.HTML object>"
      ]
     },
     "metadata": {},
     "output_type": "display_data"
    },
    {
     "name": "stdout",
     "output_type": "stream",
     "text": [
      "======== doc:  13\n",
      "y: 37 (44-CUTE); yp: 37 (44-CUTE)\n",
      "0:-2.2 - 1:-9.8 - 2:-6.3 - 3:-9.7 - 4:-15.6 - 5:-5.5 - 6:-2.2 - 7:-3.1 - 8:-11.0 - 9:-7.6 - 10:-12.2 - 11:-7.6 - 12:-24.2 - 13:-13.5 - 14:-10.0 - 15:-12.4 - 16:-11.2 - 17:-14.4 - 18:-0.7 - 19:-10.2 - 20:-1.4 - 21:-1.9 - 22:-8.3 - 23:-13.1 - 24:-19.7 - 25:-12.9 - 26:-9.8 - 27:-3.5 - 28:-12.0 - 29:-2.7 - 30:-19.6 - 31:-3.3 - 32:-15.0 - 33:-9.8 - 34:-20.8 - 35:-9.1 - 36:-3.1 - 37:9.8 - 38:-11.1 - 39:-16.9 - 40:-2.4 - 41:-1.0 - 42:0.5 - 43:-10.0 - 44:-4.3 - 45:-5.6 - 46:-9.7 - 47:-16.1 - 48:-16.9 - 49:-1.7 - 50:-4.2 - 51:-14.7 - 52:-6.8 - 53:-7.7 - 54:-25.8 - 55:-23.0 - 56:-5.2 - 57:-10.9 - 58:-6.3 - 59:-8.1 - 60:-7.8 - 61:-13.0 - 62:-8.2 - 63:-28.4 - 64:-8.0 - 65:-2.6 - 66:-4.3 - 67:-2.2\n",
      "---\n",
      "0\n"
     ]
    },
    {
     "data": {
      "text/html": [
       "<span class=\"barcode\"; style=\"color: black; background-color: #f7fcf5\">&nbspCARCINOMA&nbsp</span><span class=\"barcode\"; style=\"color: black; background-color: #f7fcf5\">&nbspA&nbsp</span><span class=\"barcode\"; style=\"color: black; background-color: #f4fbf1\">&nbspCELLULE&nbsp</span><span class=\"barcode\"; style=\"color: black; background-color: #9cd797\">&nbspBASALI&nbsp</span><span class=\"barcode\"; style=\"color: black; background-color: #f6fcf4\">&nbsp(&nbsp</span><span class=\"barcode\"; style=\"color: black; background-color: #f1faee\">&nbspVARIETA&nbsp</span><span class=\"barcode\"; style=\"color: black; background-color: #f5fbf3\">&nbsp'&nbsp</span><span class=\"barcode\"; style=\"color: black; background-color: #bbe4b4\">&nbspMETATIPICA&nbsp</span><span class=\"barcode\"; style=\"color: black; background-color: #f6fcf4\">&nbsp)&nbsp</span><span class=\"barcode\"; style=\"color: black; background-color: #f4fbf2\">&nbsp.&nbsp</span><span class=\"barcode\"; style=\"color: black; background-color: #f6fcf4\">&nbspLESIONE&nbsp</span><span class=\"barcode\"; style=\"color: black; background-color: #f2faf0\">&nbspCOMPRESA&nbsp</span><span class=\"barcode\"; style=\"color: black; background-color: #f2faef\">&nbspNEI&nbsp</span><span class=\"barcode\"; style=\"color: black; background-color: #f7fcf5\">&nbspMARGINI&nbsp</span><span class=\"barcode\"; style=\"color: black; background-color: #f4fbf2\">&nbspDI&nbsp</span><span class=\"barcode\"; style=\"color: black; background-color: #f6fcf4\">&nbspEXERESI&nbsp</span><span class=\"barcode\"; style=\"color: black; background-color: #f4fbf2\">&nbspCHIRURGICA&nbsp</span><span class=\"barcode\"; style=\"color: black; background-color: #f6fcf4\">&nbsp.&nbsp</span><span class=\"barcode\"; style=\"color: black; background-color: #f4fbf2\">&nbspLOSANGA&nbsp</span><span class=\"barcode\"; style=\"color: black; background-color: #f3faf0\">&nbspCUTANEA&nbsp</span><span class=\"barcode\"; style=\"color: black; background-color: #f7fcf5\">&nbspDI&nbsp</span><span class=\"barcode\"; style=\"color: black; background-color: #f7fcf5\">&nbspCM&nbsp</span><span class=\"barcode\"; style=\"color: black; background-color: #f7fcf5\">&nbsp.&nbsp</span><span class=\"barcode\"; style=\"color: black; background-color: #f7fcf5\">&nbsp1&nbsp</span><span class=\"barcode\"; style=\"color: black; background-color: #f7fcf5\">&nbsp,&nbsp</span><span class=\"barcode\"; style=\"color: black; background-color: #f7fcf5\">&nbsp6X0&nbsp</span><span class=\"barcode\"; style=\"color: black; background-color: #f7fcf5\">&nbsp,&nbsp</span><span class=\"barcode\"; style=\"color: black; background-color: #f7fcf5\">&nbsp9&nbsp</span><span class=\"barcode\"; style=\"color: black; background-color: #f7fcf5\">&nbspA&nbsp</span><span class=\"barcode\"; style=\"color: black; background-color: #f7fcf5\">&nbspSUPERFICIE&nbsp</span><span class=\"barcode\"; style=\"color: black; background-color: #f7fcf5\">&nbspIRREGOLARE&nbsp</span><span class=\"barcode\"; style=\"color: black; background-color: #f7fcf5\">&nbsp(&nbsp</span><span class=\"barcode\"; style=\"color: black; background-color: #f7fcf5\">&nbspMARGINI&nbsp</span><span class=\"barcode\"; style=\"color: black; background-color: #f7fcf5\">&nbspMARCATI&nbsp</span><span class=\"barcode\"; style=\"color: black; background-color: #f7fcf5\">&nbspCON&nbsp</span><span class=\"barcode\"; style=\"color: black; background-color: #f7fcf5\">&nbspINCHIOSTRO&nbsp</span><span class=\"barcode\"; style=\"color: black; background-color: #f7fcf5\">&nbsp)&nbsp</span><span class=\"barcode\"; style=\"color: black; background-color: #f7fcf5\">&nbsp.&nbsp</span><span class=\"barcode\"; style=\"color: black; background-color: #f7fcf5\">&nbsp1&nbsp</span><span class=\"barcode\"; style=\"color: black; background-color: #f7fcf5\">&nbsp)&nbsp</span><span class=\"barcode\"; style=\"color: black; background-color: #f7fcf5\">&nbspAPICI&nbsp</span><span class=\"barcode\"; style=\"color: black; background-color: #f7fcf5\">&nbsp;&nbsp</span><span class=\"barcode\"; style=\"color: black; background-color: #f7fcf5\">&nbsp2&nbsp</span><span class=\"barcode\"; style=\"color: black; background-color: #f7fcf5\">&nbsp-&nbsp</span><span class=\"barcode\"; style=\"color: black; background-color: #f7fcf5\">&nbsp4&nbsp</span><span class=\"barcode\"; style=\"color: black; background-color: #f7fcf5\">&nbsp)&nbsp</span><span class=\"barcode\"; style=\"color: black; background-color: #f7fcf5\">&nbspSEZIONI&nbsp</span><span class=\"barcode\"; style=\"color: black; background-color: #f7fcf5\">&nbspSERIATE&nbsp</span><span class=\"barcode\"; style=\"color: black; background-color: #f7fcf5\">&nbsp.&nbsp</span>"
      ],
      "text/plain": [
       "<IPython.core.display.HTML object>"
      ]
     },
     "metadata": {},
     "output_type": "display_data"
    },
    {
     "name": "stdout",
     "output_type": "stream",
     "text": [
      "======== doc:  14\n",
      "y: 20 (20-RETTO); yp: 20 (20-RETTO)\n",
      "0:-13.1 - 1:-16.3 - 2:-12.0 - 3:-14.0 - 4:-21.2 - 5:-10.7 - 6:-10.3 - 7:-11.4 - 8:-14.7 - 9:-17.6 - 10:-13.5 - 11:-12.9 - 12:-30.9 - 13:-12.6 - 14:-10.9 - 15:-8.6 - 16:-2.8 - 17:-2.1 - 18:5.3 - 19:3.3 - 20:5.8 - 21:1.1 - 22:-6.4 - 23:-6.0 - 24:-8.3 - 25:-5.5 - 26:-1.8 - 27:-4.8 - 28:-7.3 - 29:-9.9 - 30:-19.7 - 31:-5.2 - 32:-20.7 - 33:-12.4 - 34:-9.4 - 35:-11.4 - 36:-3.6 - 37:-1.0 - 38:-16.2 - 39:-8.2 - 40:-3.1 - 41:-4.3 - 42:-13.1 - 43:-8.5 - 44:-6.4 - 45:-0.8 - 46:-6.6 - 47:-5.1 - 48:-13.6 - 49:-13.8 - 50:-7.4 - 51:-17.2 - 52:-13.9 - 53:-7.2 - 54:-27.1 - 55:-13.0 - 56:-4.8 - 57:-13.4 - 58:-9.6 - 59:-9.1 - 60:-5.5 - 61:-7.0 - 62:-10.0 - 63:-13.0 - 64:-2.8 - 65:-6.4 - 66:-11.6 - 67:-2.6\n",
      "---\n",
      "0\n"
     ]
    },
    {
     "data": {
      "text/html": [
       "<span class=\"barcode\"; style=\"color: black; background-color: #f7fcf5\">&nbspADENOMA&nbsp</span><span class=\"barcode\"; style=\"color: black; background-color: #f7fcf5\">&nbspTUBULOVILLOSO&nbsp</span><span class=\"barcode\"; style=\"color: black; background-color: #f6fcf4\">&nbspINTESTINALE&nbsp</span><span class=\"barcode\"; style=\"color: black; background-color: #f7fcf5\">&nbspDI&nbsp</span><span class=\"barcode\"; style=\"color: black; background-color: #f7fcf5\">&nbspBASSO&nbsp</span><span class=\"barcode\"; style=\"color: black; background-color: #f7fcf5\">&nbspGRADO&nbsp</span><span class=\"barcode\"; style=\"color: black; background-color: #f7fcf5\">&nbsp(&nbsp</span><span class=\"barcode\"; style=\"color: black; background-color: #f7fcf5\">&nbspDISPLASIA&nbsp</span><span class=\"barcode\"; style=\"color: black; background-color: #f7fcf5\">&nbspMODERATA&nbsp</span><span class=\"barcode\"; style=\"color: black; background-color: #f7fcf5\">&nbsp)&nbsp</span><span class=\"barcode\"; style=\"color: black; background-color: #f7fcf5\">&nbsp;&nbsp</span><span class=\"barcode\"; style=\"color: black; background-color: #f7fcf5\">&nbspBASE&nbsp</span><span class=\"barcode\"; style=\"color: black; background-color: #f7fcf5\">&nbspPEDUNCOLARE&nbsp</span><span class=\"barcode\"; style=\"color: black; background-color: #f7fcf5\">&nbspRIVESTITA&nbsp</span><span class=\"barcode\"; style=\"color: black; background-color: #f7fcf5\">&nbspDA&nbsp</span><span class=\"barcode\"; style=\"color: black; background-color: #f7fcf5\">&nbspMUCOSA&nbsp</span><span class=\"barcode\"; style=\"color: black; background-color: #f7fcf5\">&nbspNON&nbsp</span><span class=\"barcode\"; style=\"color: black; background-color: #f7fcf5\">&nbspADENOMATOSA&nbsp</span><span class=\"barcode\"; style=\"color: black; background-color: #f7fcf5\">&nbsp.&nbsp</span><span class=\"barcode\"; style=\"color: black; background-color: #f7fcf5\">&nbspPOLIPO&nbsp</span><span class=\"barcode\"; style=\"color: black; background-color: #f7fcf5\">&nbspDEL&nbsp</span><span class=\"barcode\"; style=\"color: black; background-color: #00471c\">&nbspRETTO&nbsp</span><span class=\"barcode\"; style=\"color: black; background-color: #f7fcf5\">&nbsp(&nbsp</span><span class=\"barcode\"; style=\"color: black; background-color: #f7fcf5\">&nbspCM&nbsp</span><span class=\"barcode\"; style=\"color: black; background-color: #f7fcf5\">&nbsp1&nbsp</span><span class=\"barcode\"; style=\"color: black; background-color: #f7fcf5\">&nbsp,&nbsp</span><span class=\"barcode\"; style=\"color: black; background-color: #f7fcf5\">&nbsp5&nbsp</span><span class=\"barcode\"; style=\"color: black; background-color: #f7fcf5\">&nbsp)&nbsp</span><span class=\"barcode\"; style=\"color: black; background-color: #f7fcf5\">&nbsp.&nbsp</span><span class=\"barcode\"; style=\"color: black; background-color: #f7fcf5\">&nbsp(&nbsp</span><span class=\"barcode\"; style=\"color: black; background-color: #f7fcf5\">&nbspESEGUITA&nbsp</span><span class=\"barcode\"; style=\"color: black; background-color: #f7fcf5\">&nbspCOLORAZIONE&nbsp</span><span class=\"barcode\"; style=\"color: black; background-color: #f7fcf5\">&nbspEMATOSSILINA&nbsp</span><span class=\"barcode\"; style=\"color: black; background-color: #f7fcf5\">&nbsp-&nbsp</span><span class=\"barcode\"; style=\"color: black; background-color: #f7fcf5\">&nbspEOSINA&nbsp</span><span class=\"barcode\"; style=\"color: black; background-color: #f7fcf5\">&nbsp)&nbsp</span><span class=\"barcode\"; style=\"color: black; background-color: #f7fcf5\">&nbsp.&nbsp</span>"
      ],
      "text/plain": [
       "<IPython.core.display.HTML object>"
      ]
     },
     "metadata": {},
     "output_type": "display_data"
    },
    {
     "name": "stdout",
     "output_type": "stream",
     "text": [
      "======== doc:  15\n",
      "y: 50 (61-PROSTATA); yp: 50 (61-PROSTATA)\n",
      "0:-20.8 - 1:-12.3 - 2:-12.8 - 3:-25.5 - 4:-20.8 - 5:-10.3 - 6:-13.3 - 7:-11.9 - 8:-14.7 - 9:-8.8 - 10:-13.1 - 11:-18.9 - 12:-15.1 - 13:-14.8 - 14:-12.4 - 15:-15.6 - 16:-10.8 - 17:-17.5 - 18:-3.3 - 19:-8.5 - 20:-10.7 - 21:-16.0 - 22:-8.3 - 23:-1.4 - 24:-9.3 - 25:-9.7 - 26:-13.1 - 27:-14.4 - 28:-20.8 - 29:-6.9 - 30:-10.1 - 31:-1.1 - 32:-19.3 - 33:-14.4 - 34:-36.8 - 35:-31.1 - 36:-4.8 - 37:-0.7 - 38:-25.3 - 39:-15.7 - 40:-10.2 - 41:-11.2 - 42:-14.7 - 43:-19.7 - 44:-7.5 - 45:-3.2 - 46:-12.0 - 47:-11.4 - 48:-15.5 - 49:-15.2 - 50:8.5 - 51:-12.9 - 52:-27.3 - 53:-1.8 - 54:-19.6 - 55:-14.5 - 56:-1.8 - 57:-4.0 - 58:-15.7 - 59:-6.1 - 60:-13.8 - 61:-19.0 - 62:-5.4 - 63:-15.8 - 64:-8.3 - 65:-12.8 - 66:-7.4 - 67:-6.1\n",
      "---\n",
      "0\n"
     ]
    },
    {
     "data": {
      "text/html": [
       "<span class=\"barcode\"; style=\"color: black; background-color: #f6fcf4\">&nbspADENOCARCINOMA&nbsp</span><span class=\"barcode\"; style=\"color: black; background-color: #005221\">&nbspPROSTATICO&nbsp</span><span class=\"barcode\"; style=\"color: black; background-color: #f7fcf5\">&nbspA&nbsp</span><span class=\"barcode\"; style=\"color: black; background-color: #f7fcf5\">&nbspMEDIO&nbsp</span><span class=\"barcode\"; style=\"color: black; background-color: #f7fcf5\">&nbspGRADO&nbsp</span><span class=\"barcode\"; style=\"color: black; background-color: #f7fcf5\">&nbspDI&nbsp</span><span class=\"barcode\"; style=\"color: black; background-color: #f7fcf5\">&nbspDIFFERENZIAZIONE&nbsp</span><span class=\"barcode\"; style=\"color: black; background-color: #f7fcf5\">&nbsp(&nbsp</span><span class=\"barcode\"; style=\"color: black; background-color: #f1faee\">&nbspGLEASON&nbsp</span><span class=\"barcode\"; style=\"color: black; background-color: #f7fcf5\">&nbspGRADO&nbsp</span><span class=\"barcode\"; style=\"color: black; background-color: #f7fcf5\">&nbsp3&nbsp</span><span class=\"barcode\"; style=\"color: black; background-color: #f7fcf5\">&nbsp+&nbsp</span><span class=\"barcode\"; style=\"color: black; background-color: #f7fcf5\">&nbsp3&nbsp</span><span class=\"barcode\"; style=\"color: black; background-color: #f7fcf5\">&nbsp)&nbsp</span><span class=\"barcode\"; style=\"color: black; background-color: #f7fcf5\">&nbspINTERESSANTE&nbsp</span><span class=\"barcode\"; style=\"color: black; background-color: #f7fcf5\">&nbspESTESAMENTE&nbsp</span><span class=\"barcode\"; style=\"color: black; background-color: #f7fcf5\">&nbsp(&nbsp</span><span class=\"barcode\"; style=\"color: black; background-color: #f7fcf5\">&nbsp>&nbsp</span><span class=\"barcode\"; style=\"color: black; background-color: #f7fcf5\">&nbsp60&nbsp</span><span class=\"barcode\"; style=\"color: black; background-color: #f7fcf5\">&nbsp%&nbsp</span><span class=\"barcode\"; style=\"color: black; background-color: #f7fcf5\">&nbsp)&nbsp</span><span class=\"barcode\"; style=\"color: black; background-color: #f7fcf5\">&nbspI&nbsp</span><span class=\"barcode\"; style=\"color: black; background-color: #f7fcf5\">&nbspFRUSTOLI&nbsp</span><span class=\"barcode\"; style=\"color: black; background-color: #f7fcf5\">&nbspRIFERITI&nbsp</span><span class=\"barcode\"; style=\"color: black; background-color: #f7fcf5\">&nbspALLE&nbsp</span><span class=\"barcode\"; style=\"color: black; background-color: #f7fcf5\">&nbspREGIONI&nbsp</span><span class=\"barcode\"; style=\"color: black; background-color: #f7fcf5\">&nbspLATERALI&nbsp</span><span class=\"barcode\"; style=\"color: black; background-color: #f7fcf5\">&nbsp,&nbsp</span><span class=\"barcode\"; style=\"color: black; background-color: #f7fcf5\">&nbspBASALE&nbsp</span><span class=\"barcode\"; style=\"color: black; background-color: #f7fcf5\">&nbspE&nbsp</span><span class=\"barcode\"; style=\"color: black; background-color: #f7fcf5\">&nbspMEDIALE&nbsp</span><span class=\"barcode\"; style=\"color: black; background-color: #f7fcf5\">&nbspDEL&nbsp</span><span class=\"barcode\"; style=\"color: black; background-color: #f7fcf5\">&nbspLOBO&nbsp</span><span class=\"barcode\"; style=\"color: black; background-color: #f7fcf5\">&nbspDX&nbsp</span><span class=\"barcode\"; style=\"color: black; background-color: #f7fcf5\">&nbsp.&nbsp</span><span class=\"barcode\"; style=\"color: black; background-color: #f7fcf5\">&nbsp(&nbsp</span><span class=\"barcode\"; style=\"color: black; background-color: #f7fcf5\">&nbspA1&nbsp</span><span class=\"barcode\"; style=\"color: black; background-color: #f7fcf5\">&nbsp-&nbsp</span><span class=\"barcode\"; style=\"color: black; background-color: #f7fcf5\">&nbsp4&nbsp</span><span class=\"barcode\"; style=\"color: black; background-color: #f7fcf5\">&nbsp)&nbsp</span><span class=\"barcode\"; style=\"color: black; background-color: #f7fcf5\">&nbsp.&nbsp</span><span class=\"barcode\"; style=\"color: black; background-color: #f7fcf5\">&nbspNESSUNA&nbsp</span><span class=\"barcode\"; style=\"color: black; background-color: #f7fcf5\">&nbspDOCUMENTABILE&nbsp</span><span class=\"barcode\"; style=\"color: black; background-color: #f7fcf5\">&nbspPROLIFERAZIONE&nbsp</span><span class=\"barcode\"; style=\"color: black; background-color: #f7fcf5\">&nbspNEOPLASTICA&nbsp</span><span class=\"barcode\"; style=\"color: black; background-color: #f7fcf5\">&nbspNEI&nbsp</span><span class=\"barcode\"; style=\"color: black; background-color: #f7fcf5\">&nbspRESTANTI&nbsp</span><span class=\"barcode\"; style=\"color: black; background-color: #f7fcf5\">&nbspFRAMMENTI&nbsp</span><span class=\"barcode\"; style=\"color: black; background-color: #f7fcf5\">&nbspPROSTATICI&nbsp</span><span class=\"barcode\"; style=\"color: black; background-color: #f7fcf5\">&nbspIN&nbsp</span><span class=\"barcode\"; style=\"color: black; background-color: #f7fcf5\">&nbspESAME&nbsp</span><span class=\"barcode\"; style=\"color: black; background-color: #f7fcf5\">&nbsp.&nbsp</span><span class=\"barcode\"; style=\"color: black; background-color: #f7fcf5\">&nbspAGOBIOPSIA&nbsp</span><span class=\"barcode\"; style=\"color: black; background-color: #f7fcf5\">&nbspPROSTATICA&nbsp</span><span class=\"barcode\"; style=\"color: black; background-color: #f7fcf5\">&nbsp:&nbsp</span><span class=\"barcode\"; style=\"color: black; background-color: #f7fcf5\">&nbspA1&nbsp</span><span class=\"barcode\"; style=\"color: black; background-color: #f7fcf5\">&nbsp-&nbsp</span><span class=\"barcode\"; style=\"color: black; background-color: #f7fcf5\">&nbsp5&nbsp</span><span class=\"barcode\"; style=\"color: black; background-color: #f7fcf5\">&nbsp)&nbsp</span><span class=\"barcode\"; style=\"color: black; background-color: #f7fcf5\">&nbspPRELIEVI&nbsp</span><span class=\"barcode\"; style=\"color: black; background-color: #f7fcf5\">&nbspDEL&nbsp</span><span class=\"barcode\"; style=\"color: black; background-color: #f7fcf5\">&nbspLOBO&nbsp</span><span class=\"barcode\"; style=\"color: black; background-color: #f7fcf5\">&nbspDESTRO&nbsp</span><span class=\"barcode\"; style=\"color: black; background-color: #f7fcf5\">&nbsp.&nbsp</span><span class=\"barcode\"; style=\"color: black; background-color: #f7fcf5\">&nbsp(&nbsp</span><span class=\"barcode\"; style=\"color: black; background-color: #f7fcf5\">&nbspNUMERO&nbsp</span><span class=\"barcode\"; style=\"color: black; background-color: #f7fcf5\">&nbspDI&nbsp</span><span class=\"barcode\"; style=\"color: black; background-color: #f7fcf5\">&nbspFRAMMENTI&nbsp</span><span class=\"barcode\"; style=\"color: black; background-color: #f7fcf5\">&nbsp5&nbsp</span><span class=\"barcode\"; style=\"color: black; background-color: #f7fcf5\">&nbsp)&nbsp</span><span class=\"barcode\"; style=\"color: black; background-color: #f7fcf5\">&nbsp:&nbsp</span><span class=\"barcode\"; style=\"color: black; background-color: #f7fcf5\">&nbspA1&nbsp</span><span class=\"barcode\"; style=\"color: black; background-color: #f7fcf5\">&nbsp)&nbsp</span><span class=\"barcode\"; style=\"color: black; background-color: #f7fcf5\">&nbspLATERALE&nbsp</span><span class=\"barcode\"; style=\"color: black; background-color: #f7fcf5\">&nbspALTO&nbsp</span><span class=\"barcode\"; style=\"color: black; background-color: #f7fcf5\">&nbsp:&nbsp</span><span class=\"barcode\"; style=\"color: black; background-color: #f7fcf5\">&nbsp3&nbsp</span><span class=\"barcode\"; style=\"color: black; background-color: #f7fcf5\">&nbspMM&nbsp</span><span class=\"barcode\"; style=\"color: black; background-color: #f7fcf5\">&nbsp;&nbsp</span><span class=\"barcode\"; style=\"color: black; background-color: #f7fcf5\">&nbspA2&nbsp</span><span class=\"barcode\"; style=\"color: black; background-color: #f7fcf5\">&nbsp)&nbsp</span><span class=\"barcode\"; style=\"color: black; background-color: #f7fcf5\">&nbspLATERALE&nbsp</span><span class=\"barcode\"; style=\"color: black; background-color: #f7fcf5\">&nbspBASSO&nbsp</span><span class=\"barcode\"; style=\"color: black; background-color: #f7fcf5\">&nbsp:&nbsp</span><span class=\"barcode\"; style=\"color: black; background-color: #f7fcf5\">&nbspN&nbsp</span><span class=\"barcode\"; style=\"color: black; background-color: #f7fcf5\">&nbsp¦&nbsp</span><span class=\"barcode\"; style=\"color: black; background-color: #f7fcf5\">&nbsp2&nbsp</span><span class=\"barcode\"; style=\"color: black; background-color: #f7fcf5\">&nbspFRAMMENTI&nbsp</span><span class=\"barcode\"; style=\"color: black; background-color: #f7fcf5\">&nbspDI&nbsp</span><span class=\"barcode\"; style=\"color: black; background-color: #f7fcf5\">&nbsp4&nbsp</span><span class=\"barcode\"; style=\"color: black; background-color: #f7fcf5\">&nbspE&nbsp</span><span class=\"barcode\"; style=\"color: black; background-color: #f7fcf5\">&nbsp3&nbsp</span><span class=\"barcode\"; style=\"color: black; background-color: #f7fcf5\">&nbspMM&nbsp</span><span class=\"barcode\"; style=\"color: black; background-color: #f7fcf5\">&nbsp;&nbsp</span><span class=\"barcode\"; style=\"color: black; background-color: #f7fcf5\">&nbspA3&nbsp</span><span class=\"barcode\"; style=\"color: black; background-color: #f7fcf5\">&nbsp)&nbsp</span><span class=\"barcode\"; style=\"color: black; background-color: #f7fcf5\">&nbspBASALE&nbsp</span><span class=\"barcode\"; style=\"color: black; background-color: #f7fcf5\">&nbsp:&nbsp</span><span class=\"barcode\"; style=\"color: black; background-color: #f7fcf5\">&nbsp14&nbsp</span><span class=\"barcode\"; style=\"color: black; background-color: #f7fcf5\">&nbspMM&nbsp</span>"
      ],
      "text/plain": [
       "<IPython.core.display.HTML object>"
      ]
     },
     "metadata": {},
     "output_type": "display_data"
    },
    {
     "name": "stdout",
     "output_type": "stream",
     "text": [
      "======== doc:  16\n",
      "y: 37 (44-CUTE); yp: 37 (44-CUTE)\n",
      "0:-2.8 - 1:-11.1 - 2:-8.7 - 3:-9.6 - 4:-14.3 - 5:-8.4 - 6:-2.1 - 7:-3.6 - 8:-10.4 - 9:-7.8 - 10:-12.7 - 11:-8.2 - 12:-26.6 - 13:-15.3 - 14:-9.4 - 15:-13.8 - 16:-9.3 - 17:-14.2 - 18:0.0 - 19:-9.5 - 20:-1.9 - 21:-1.8 - 22:-9.1 - 23:-10.7 - 24:-17.9 - 25:-11.8 - 26:-9.9 - 27:-3.1 - 28:-11.0 - 29:-4.3 - 30:-23.1 - 31:-3.3 - 32:-16.4 - 33:-9.1 - 34:-19.7 - 35:-8.2 - 36:-1.3 - 37:10.1 - 38:-9.0 - 39:-15.6 - 40:-2.0 - 41:-0.7 - 42:-1.7 - 43:-9.2 - 44:-4.5 - 45:-4.3 - 46:-9.5 - 47:-14.4 - 48:-18.2 - 49:-3.3 - 50:-2.0 - 51:-14.2 - 52:-6.0 - 53:-9.0 - 54:-28.7 - 55:-25.0 - 56:-4.6 - 57:-12.3 - 58:-3.6 - 59:-7.3 - 60:-7.0 - 61:-11.8 - 62:-9.2 - 63:-26.2 - 64:-4.7 - 65:-0.4 - 66:-2.8 - 67:-0.7\n",
      "---\n",
      "0\n"
     ]
    },
    {
     "data": {
      "text/html": [
       "<span class=\"barcode\"; style=\"color: black; background-color: #f6fcf4\">&nbspCARCINOMA&nbsp</span><span class=\"barcode\"; style=\"color: black; background-color: #eff9ec\">&nbspBASOCELLULARE&nbsp</span><span class=\"barcode\"; style=\"color: black; background-color: #e6f5e1\">&nbspULCERATO&nbsp</span><span class=\"barcode\"; style=\"color: black; background-color: #f7fcf5\">&nbsp;&nbsp</span><span class=\"barcode\"; style=\"color: black; background-color: #f6fcf4\">&nbspMARGINI&nbsp</span><span class=\"barcode\"; style=\"color: black; background-color: #f3faf0\">&nbspTRASVERSALI&nbsp</span><span class=\"barcode\"; style=\"color: black; background-color: #f7fcf5\">&nbsp,&nbsp</span><span class=\"barcode\"; style=\"color: black; background-color: #edf8e9\">&nbspAPICALI&nbsp</span><span class=\"barcode\"; style=\"color: black; background-color: #f5fbf3\">&nbspE&nbsp</span><span class=\"barcode\"; style=\"color: black; background-color: #f0f9ec\">&nbspPROFONDO&nbsp</span><span class=\"barcode\"; style=\"color: black; background-color: #f5fbf2\">&nbspNEGATIVI&nbsp</span><span class=\"barcode\"; style=\"color: black; background-color: #f5fbf2\">&nbsp.&nbsp</span><span class=\"barcode\"; style=\"color: black; background-color: #ddf2d8\">&nbspBIOPSIA&nbsp</span><span class=\"barcode\"; style=\"color: black; background-color: #f0f9ec\">&nbspESCISSIONALE&nbsp</span><span class=\"barcode\"; style=\"color: black; background-color: #f4fbf2\">&nbspDI&nbsp</span><span class=\"barcode\"; style=\"color: black; background-color: #f2faef\">&nbspNEOFORMAZIONE&nbsp</span><span class=\"barcode\"; style=\"color: black; background-color: #edf8e9\">&nbspCUTANEA&nbsp</span><span class=\"barcode\"; style=\"color: black; background-color: #f6fcf4\">&nbspDELLA&nbsp</span><span class=\"barcode\"; style=\"color: black; background-color: #dff3da\">&nbspREGIONE&nbsp</span><span class=\"barcode\"; style=\"color: black; background-color: #f0f9ec\">&nbspDORSALE&nbsp</span><span class=\"barcode\"; style=\"color: black; background-color: #f7fcf5\">&nbsp,&nbsp</span><span class=\"barcode\"; style=\"color: black; background-color: #f6fcf4\">&nbspFRAMMENTO&nbsp</span><span class=\"barcode\"; style=\"color: black; background-color: #f4fbf1\">&nbspCUTANEO&nbsp</span><span class=\"barcode\"; style=\"color: black; background-color: #f7fcf5\">&nbspMM&nbsp</span><span class=\"barcode\"; style=\"color: black; background-color: #f7fcf5\">&nbsp31&nbsp</span><span class=\"barcode\"; style=\"color: black; background-color: #f7fcf5\">&nbspX&nbsp</span><span class=\"barcode\"; style=\"color: black; background-color: #f7fcf5\">&nbsp14&nbsp</span><span class=\"barcode\"; style=\"color: black; background-color: #f7fcf5\">&nbspX&nbsp</span><span class=\"barcode\"; style=\"color: black; background-color: #f7fcf5\">&nbsp7&nbsp</span><span class=\"barcode\"; style=\"color: black; background-color: #f7fcf5\">&nbsp.&nbsp</span><span class=\"barcode\"; style=\"color: black; background-color: #f7fcf5\">&nbspT1&nbsp</span><span class=\"barcode\"; style=\"color: black; background-color: #f7fcf5\">&nbsp-&nbsp</span><span class=\"barcode\"; style=\"color: black; background-color: #f7fcf5\">&nbsp2&nbsp</span><span class=\"barcode\"; style=\"color: black; background-color: #f7fcf5\">&nbsp)&nbsp</span><span class=\"barcode\"; style=\"color: black; background-color: #f7fcf5\">&nbspNEOFORMAZIONE&nbsp</span><span class=\"barcode\"; style=\"color: black; background-color: #f7fcf5\">&nbspCON&nbsp</span><span class=\"barcode\"; style=\"color: black; background-color: #f7fcf5\">&nbspMARGINI&nbsp</span><span class=\"barcode\"; style=\"color: black; background-color: #f7fcf5\">&nbspTRASVERSALI&nbsp</span><span class=\"barcode\"; style=\"color: black; background-color: #f7fcf5\">&nbspE&nbsp</span><span class=\"barcode\"; style=\"color: black; background-color: #f7fcf5\">&nbspPROFONDO&nbsp</span><span class=\"barcode\"; style=\"color: black; background-color: #f7fcf5\">&nbsp;&nbsp</span><span class=\"barcode\"; style=\"color: black; background-color: #f7fcf5\">&nbspMA&nbsp</span><span class=\"barcode\"; style=\"color: black; background-color: #f7fcf5\">&nbsp)&nbsp</span><span class=\"barcode\"; style=\"color: black; background-color: #f7fcf5\">&nbspMARGINE&nbsp</span><span class=\"barcode\"; style=\"color: black; background-color: #f7fcf5\">&nbspAPICALE&nbsp</span><span class=\"barcode\"; style=\"color: black; background-color: #f7fcf5\">&nbsp;&nbsp</span><span class=\"barcode\"; style=\"color: black; background-color: #f7fcf5\">&nbspMB&nbsp</span><span class=\"barcode\"; style=\"color: black; background-color: #f7fcf5\">&nbsp)&nbsp</span><span class=\"barcode\"; style=\"color: black; background-color: #f7fcf5\">&nbspMARGINE&nbsp</span><span class=\"barcode\"; style=\"color: black; background-color: #f7fcf5\">&nbspAPICALE&nbsp</span><span class=\"barcode\"; style=\"color: black; background-color: #f7fcf5\">&nbspCONTROLATERALE&nbsp</span><span class=\"barcode\"; style=\"color: black; background-color: #f7fcf5\">&nbsp.&nbsp</span><span class=\"barcode\"; style=\"color: black; background-color: #f7fcf5\">&nbsp(&nbsp</span><span class=\"barcode\"; style=\"color: black; background-color: #f7fcf5\">&nbspMARGINI&nbsp</span><span class=\"barcode\"; style=\"color: black; background-color: #f7fcf5\">&nbspMARCATI&nbsp</span><span class=\"barcode\"; style=\"color: black; background-color: #f7fcf5\">&nbspCON&nbsp</span><span class=\"barcode\"; style=\"color: black; background-color: #f7fcf5\">&nbspINCHIOSTRO&nbsp</span><span class=\"barcode\"; style=\"color: black; background-color: #f7fcf5\">&nbspDI&nbsp</span><span class=\"barcode\"; style=\"color: black; background-color: #f7fcf5\">&nbspCHINA&nbsp</span><span class=\"barcode\"; style=\"color: black; background-color: #f7fcf5\">&nbsp)&nbsp</span><span class=\"barcode\"; style=\"color: black; background-color: #f7fcf5\">&nbsp.&nbsp</span>"
      ],
      "text/plain": [
       "<IPython.core.display.HTML object>"
      ]
     },
     "metadata": {},
     "output_type": "display_data"
    },
    {
     "name": "stdout",
     "output_type": "stream",
     "text": [
      "======== doc:  17\n",
      "y: 37 (44-CUTE); yp: 37 (44-CUTE)\n",
      "0:-2.7 - 1:-10.5 - 2:-8.0 - 3:-9.3 - 4:-14.2 - 5:-7.8 - 6:-1.8 - 7:-3.5 - 8:-9.7 - 9:-7.5 - 10:-12.0 - 11:-8.1 - 12:-25.9 - 13:-14.6 - 14:-9.7 - 15:-13.4 - 16:-9.5 - 17:-14.1 - 18:-0.0 - 19:-9.6 - 20:-1.7 - 21:-1.8 - 22:-8.4 - 23:-10.7 - 24:-17.4 - 25:-11.9 - 26:-9.9 - 27:-3.0 - 28:-10.9 - 29:-4.1 - 30:-22.4 - 31:-3.6 - 32:-16.4 - 33:-9.6 - 34:-19.2 - 35:-7.9 - 36:-1.3 - 37:10.2 - 38:-9.1 - 39:-15.7 - 40:-2.0 - 41:-1.3 - 42:-1.5 - 43:-9.5 - 44:-4.5 - 45:-4.9 - 46:-10.0 - 47:-15.0 - 48:-18.3 - 49:-2.1 - 50:-2.0 - 51:-14.2 - 52:-6.1 - 53:-8.7 - 54:-27.9 - 55:-24.3 - 56:-4.5 - 57:-11.4 - 58:-3.6 - 59:-7.5 - 60:-6.5 - 61:-11.5 - 62:-9.0 - 63:-25.8 - 64:-4.7 - 65:-0.5 - 66:-2.5 - 67:-1.0\n",
      "---\n",
      "0\n"
     ]
    },
    {
     "data": {
      "text/html": [
       "<span class=\"barcode\"; style=\"color: black; background-color: #f6fcf4\">&nbspCARCINOMA&nbsp</span><span class=\"barcode\"; style=\"color: black; background-color: #eff9ec\">&nbspBASOCELLULARE&nbsp</span><span class=\"barcode\"; style=\"color: black; background-color: #e4f5df\">&nbspULCERATO&nbsp</span><span class=\"barcode\"; style=\"color: black; background-color: #f7fcf5\">&nbsp;&nbsp</span><span class=\"barcode\"; style=\"color: black; background-color: #f6fcf4\">&nbspMARGINI&nbsp</span><span class=\"barcode\"; style=\"color: black; background-color: #f3faf0\">&nbspTRASVERSALI&nbsp</span><span class=\"barcode\"; style=\"color: black; background-color: #f7fcf5\">&nbsp,&nbsp</span><span class=\"barcode\"; style=\"color: black; background-color: #ecf8e8\">&nbspAPICALI&nbsp</span><span class=\"barcode\"; style=\"color: black; background-color: #f6fcf4\">&nbspE&nbsp</span><span class=\"barcode\"; style=\"color: black; background-color: #f0f9ec\">&nbspPROFONDO&nbsp</span><span class=\"barcode\"; style=\"color: black; background-color: #f5fbf3\">&nbspNEGATIVI&nbsp</span><span class=\"barcode\"; style=\"color: black; background-color: #f7fcf5\">&nbsp(&nbsp</span><span class=\"barcode\"; style=\"color: black; background-color: #f3faf0\">&nbspT&nbsp</span><span class=\"barcode\"; style=\"color: black; background-color: #f7fcf5\">&nbsp,&nbsp</span><span class=\"barcode\"; style=\"color: black; background-color: #f7fcf5\">&nbspMA&nbsp</span><span class=\"barcode\"; style=\"color: black; background-color: #f7fcf5\">&nbsp,&nbsp</span><span class=\"barcode\"; style=\"color: black; background-color: #f6fcf4\">&nbspMB&nbsp</span><span class=\"barcode\"; style=\"color: black; background-color: #f7fcf5\">&nbsp,&nbsp</span><span class=\"barcode\"; style=\"color: black; background-color: #f6fcf4\">&nbspA&nbsp</span><span class=\"barcode\"; style=\"color: black; background-color: #f6fcf4\">&nbsp)&nbsp</span><span class=\"barcode\"; style=\"color: black; background-color: #f6fcf4\">&nbsp.&nbsp</span><span class=\"barcode\"; style=\"color: black; background-color: #edf8ea\">&nbspBIOPSIA&nbsp</span><span class=\"barcode\"; style=\"color: black; background-color: #f2faf0\">&nbspESCISSIONALE&nbsp</span><span class=\"barcode\"; style=\"color: black; background-color: #f5fbf2\">&nbspDI&nbsp</span><span class=\"barcode\"; style=\"color: black; background-color: #f4fbf1\">&nbspNEOFORMAZIONE&nbsp</span><span class=\"barcode\"; style=\"color: black; background-color: #eff9eb\">&nbspCUTANEA&nbsp</span><span class=\"barcode\"; style=\"color: black; background-color: #f6fcf4\">&nbspDELLA&nbsp</span><span class=\"barcode\"; style=\"color: black; background-color: #e8f6e3\">&nbspREGIONE&nbsp</span><span class=\"barcode\"; style=\"color: black; background-color: #f4fbf2\">&nbspDEL&nbsp</span><span class=\"barcode\"; style=\"color: black; background-color: #e8f6e3\">&nbspVOLTO&nbsp</span><span class=\"barcode\"; style=\"color: black; background-color: #f7fcf5\">&nbsp,&nbsp</span><span class=\"barcode\"; style=\"color: black; background-color: #f5fbf2\">&nbspFRAMMENTO&nbsp</span><span class=\"barcode\"; style=\"color: black; background-color: #f0f9ed\">&nbspCUTANEO&nbsp</span><span class=\"barcode\"; style=\"color: black; background-color: #f7fcf5\">&nbsp25&nbsp</span><span class=\"barcode\"; style=\"color: black; background-color: #f7fcf5\">&nbspX&nbsp</span><span class=\"barcode\"; style=\"color: black; background-color: #f7fcf5\">&nbsp17&nbsp</span><span class=\"barcode\"; style=\"color: black; background-color: #f7fcf5\">&nbspX&nbsp</span><span class=\"barcode\"; style=\"color: black; background-color: #f7fcf5\">&nbsp8&nbsp</span><span class=\"barcode\"; style=\"color: black; background-color: #f6fcf4\">&nbspMM&nbsp</span><span class=\"barcode\"; style=\"color: black; background-color: #f7fcf5\">&nbsp.&nbsp</span><span class=\"barcode\"; style=\"color: black; background-color: #f5fbf2\">&nbspT&nbsp</span><span class=\"barcode\"; style=\"color: black; background-color: #f7fcf5\">&nbsp)&nbsp</span><span class=\"barcode\"; style=\"color: black; background-color: #f7fcf5\">&nbspNEOFORMAZIONE&nbsp</span><span class=\"barcode\"; style=\"color: black; background-color: #f7fcf5\">&nbspCON&nbsp</span><span class=\"barcode\"; style=\"color: black; background-color: #f7fcf5\">&nbspMARGINI&nbsp</span><span class=\"barcode\"; style=\"color: black; background-color: #f7fcf5\">&nbspTRASVERSALI&nbsp</span><span class=\"barcode\"; style=\"color: black; background-color: #f7fcf5\">&nbspE&nbsp</span><span class=\"barcode\"; style=\"color: black; background-color: #f7fcf5\">&nbspPROFONDO&nbsp</span><span class=\"barcode\"; style=\"color: black; background-color: #f7fcf5\">&nbsp;&nbsp</span><span class=\"barcode\"; style=\"color: black; background-color: #f7fcf5\">&nbspMA&nbsp</span><span class=\"barcode\"; style=\"color: black; background-color: #f7fcf5\">&nbsp)&nbsp</span><span class=\"barcode\"; style=\"color: black; background-color: #f7fcf5\">&nbspMARGINE&nbsp</span><span class=\"barcode\"; style=\"color: black; background-color: #f7fcf5\">&nbspAPICALE&nbsp</span><span class=\"barcode\"; style=\"color: black; background-color: #f7fcf5\">&nbsp;&nbsp</span><span class=\"barcode\"; style=\"color: black; background-color: #f7fcf5\">&nbspMB&nbsp</span><span class=\"barcode\"; style=\"color: black; background-color: #f7fcf5\">&nbsp)&nbsp</span><span class=\"barcode\"; style=\"color: black; background-color: #f7fcf5\">&nbspMARGINE&nbsp</span><span class=\"barcode\"; style=\"color: black; background-color: #f7fcf5\">&nbspAPICALE&nbsp</span><span class=\"barcode\"; style=\"color: black; background-color: #f7fcf5\">&nbspCONTROLATERALE&nbsp</span><span class=\"barcode\"; style=\"color: black; background-color: #f7fcf5\">&nbsp;&nbsp</span><span class=\"barcode\"; style=\"color: black; background-color: #f7fcf5\">&nbspA&nbsp</span><span class=\"barcode\"; style=\"color: black; background-color: #f7fcf5\">&nbsp)&nbsp</span><span class=\"barcode\"; style=\"color: black; background-color: #f7fcf5\">&nbspFRAMMENTO&nbsp</span><span class=\"barcode\"; style=\"color: black; background-color: #f7fcf5\">&nbspDI&nbsp</span><span class=\"barcode\"; style=\"color: black; background-color: #f7fcf5\">&nbspMARGINE&nbsp</span><span class=\"barcode\"; style=\"color: black; background-color: #f7fcf5\">&nbspINFERIORE&nbsp</span><span class=\"barcode\"; style=\"color: black; background-color: #f7fcf5\">&nbspRESIDUO&nbsp</span><span class=\"barcode\"; style=\"color: black; background-color: #f7fcf5\">&nbsp,&nbsp</span><span class=\"barcode\"; style=\"color: black; background-color: #f7fcf5\">&nbspINVIATO&nbsp</span><span class=\"barcode\"; style=\"color: black; background-color: #f7fcf5\">&nbspSEPARATAMENTE&nbsp</span><span class=\"barcode\"; style=\"color: black; background-color: #f7fcf5\">&nbsp.&nbsp</span><span class=\"barcode\"; style=\"color: black; background-color: #f7fcf5\">&nbsp(&nbsp</span><span class=\"barcode\"; style=\"color: black; background-color: #f7fcf5\">&nbspMARGINI&nbsp</span><span class=\"barcode\"; style=\"color: black; background-color: #f7fcf5\">&nbspMARCATI&nbsp</span><span class=\"barcode\"; style=\"color: black; background-color: #f7fcf5\">&nbspCON&nbsp</span><span class=\"barcode\"; style=\"color: black; background-color: #f7fcf5\">&nbspINCHIOSTRO&nbsp</span><span class=\"barcode\"; style=\"color: black; background-color: #f7fcf5\">&nbspDI&nbsp</span><span class=\"barcode\"; style=\"color: black; background-color: #f7fcf5\">&nbspCHINA&nbsp</span><span class=\"barcode\"; style=\"color: black; background-color: #f7fcf5\">&nbsp)&nbsp</span><span class=\"barcode\"; style=\"color: black; background-color: #f7fcf5\">&nbsp.&nbsp</span>"
      ],
      "text/plain": [
       "<IPython.core.display.HTML object>"
      ]
     },
     "metadata": {},
     "output_type": "display_data"
    },
    {
     "name": "stdout",
     "output_type": "stream",
     "text": [
      "======== doc:  18\n",
      "y: 37 (44-CUTE); yp: 37 (44-CUTE)\n",
      "0:0.7 - 1:-10.8 - 2:-8.8 - 3:-10.2 - 4:-13.9 - 5:-6.9 - 6:-2.6 - 7:-5.3 - 8:-13.5 - 9:-7.3 - 10:-13.1 - 11:-7.6 - 12:-22.1 - 13:-14.1 - 14:-11.3 - 15:-12.5 - 16:-11.1 - 17:-14.9 - 18:-1.7 - 19:-11.5 - 20:-3.1 - 21:-1.2 - 22:-10.0 - 23:-11.0 - 24:-17.8 - 25:-12.1 - 26:-11.1 - 27:-0.7 - 28:-9.7 - 29:-2.4 - 30:-18.0 - 31:-2.3 - 32:-17.7 - 33:-10.5 - 34:-19.8 - 35:-8.9 - 36:-4.0 - 37:10.8 - 38:-10.8 - 39:-18.7 - 40:-4.4 - 41:-2.2 - 42:1.4 - 43:-7.6 - 44:-2.8 - 45:-5.2 - 46:-9.9 - 47:-15.1 - 48:-15.0 - 49:-1.2 - 50:-4.5 - 51:-16.2 - 52:-5.2 - 53:-11.7 - 54:-29.8 - 55:-25.0 - 56:-6.8 - 57:-11.4 - 58:-1.7 - 59:-7.1 - 60:-8.5 - 61:-13.2 - 62:-11.7 - 63:-28.4 - 64:-8.6 - 65:-1.4 - 66:-6.0 - 67:-1.8\n",
      "---\n",
      "0\n"
     ]
    },
    {
     "data": {
      "text/html": [
       "<span class=\"barcode\"; style=\"color: black; background-color: #f6fcf4\">&nbspCARCINOMA&nbsp</span><span class=\"barcode\"; style=\"color: black; background-color: #d1edcb\">&nbspSQUAMOCELLULARE&nbsp</span><span class=\"barcode\"; style=\"color: black; background-color: #e7f6e3\">&nbsp.&nbsp</span><span class=\"barcode\"; style=\"color: black; background-color: #f5fbf3\">&nbspA&nbsp</span><span class=\"barcode\"; style=\"color: black; background-color: #f5fbf3\">&nbsp)&nbsp</span><span class=\"barcode\"; style=\"color: black; background-color: #f1faee\">&nbspBIOPSIA&nbsp</span><span class=\"barcode\"; style=\"color: black; background-color: #b6e2af\">&nbspSHAVE&nbsp</span><span class=\"barcode\"; style=\"color: black; background-color: #f5fbf2\">&nbspDI&nbsp</span><span class=\"barcode\"; style=\"color: black; background-color: #f6fcf4\">&nbspLESIONE&nbsp</span><span class=\"barcode\"; style=\"color: black; background-color: #f2faf0\">&nbspCUTANEA&nbsp</span><span class=\"barcode\"; style=\"color: black; background-color: #f6fcf4\">&nbspDELLA&nbsp</span><span class=\"barcode\"; style=\"color: black; background-color: #f0f9ec\">&nbspREGIONE&nbsp</span><span class=\"barcode\"; style=\"color: black; background-color: #ecf8e8\">&nbspTEMPIA&nbsp</span><span class=\"barcode\"; style=\"color: black; background-color: #f2faef\">&nbspSINISTRA&nbsp</span><span class=\"barcode\"; style=\"color: black; background-color: #f6fcf4\">&nbsp.&nbsp</span><span class=\"barcode\"; style=\"color: black; background-color: #f7fcf5\">&nbsp(&nbsp</span><span class=\"barcode\"; style=\"color: black; background-color: #f6fcf4\">&nbspORIENTAMENTO&nbsp</span><span class=\"barcode\"; style=\"color: black; background-color: #f6fcf4\">&nbspCLINICO&nbsp</span><span class=\"barcode\"; style=\"color: black; background-color: #f7fcf5\">&nbsp:&nbsp</span><span class=\"barcode\"; style=\"color: black; background-color: #f2faf0\">&nbspEPITELIOMA&nbsp</span><span class=\"barcode\"; style=\"color: black; background-color: #f7fcf5\">&nbsp,&nbsp</span><span class=\"barcode\"; style=\"color: black; background-color: #f6fcf4\">&nbspCHERATOSI&nbsp</span><span class=\"barcode\"; style=\"color: black; background-color: #f7fcf5\">&nbspSEBORROICA&nbsp</span><span class=\"barcode\"; style=\"color: black; background-color: #f7fcf5\">&nbsp)&nbsp</span><span class=\"barcode\"; style=\"color: black; background-color: #f7fcf5\">&nbsp.&nbsp</span>"
      ],
      "text/plain": [
       "<IPython.core.display.HTML object>"
      ]
     },
     "metadata": {},
     "output_type": "display_data"
    },
    {
     "name": "stdout",
     "output_type": "stream",
     "text": [
      "======== doc:  19\n",
      "y: 37 (44-CUTE); yp: 37 (44-CUTE)\n",
      "0:-1.3 - 1:-8.9 - 2:-5.7 - 3:-9.2 - 4:-13.9 - 5:-5.9 - 6:-2.0 - 7:-2.7 - 8:-9.8 - 9:-7.3 - 10:-11.3 - 11:-7.8 - 12:-22.4 - 13:-12.6 - 14:-8.9 - 15:-11.6 - 16:-10.0 - 17:-13.2 - 18:-0.4 - 19:-9.0 - 20:-0.5 - 21:-1.8 - 22:-8.2 - 23:-11.6 - 24:-17.6 - 25:-11.6 - 26:-9.1 - 27:-3.2 - 28:-10.5 - 29:-2.6 - 30:-18.9 - 31:-2.9 - 32:-15.3 - 33:-9.6 - 34:-19.2 - 35:-8.6 - 36:-2.8 - 37:9.5 - 38:-10.5 - 39:-16.0 - 40:-2.4 - 41:-1.0 - 42:0.2 - 43:-9.6 - 44:-4.3 - 45:-5.6 - 46:-9.4 - 47:-15.1 - 48:-16.6 - 49:-1.5 - 50:-2.7 - 51:-14.3 - 52:-6.8 - 53:-7.2 - 54:-25.1 - 55:-21.7 - 56:-4.4 - 57:-10.4 - 58:-5.2 - 59:-8.3 - 60:-7.3 - 61:-12.4 - 62:-8.4 - 63:-27.1 - 64:-7.3 - 65:-2.0 - 66:-4.3 - 67:-1.6\n",
      "---\n",
      "0\n"
     ]
    },
    {
     "data": {
      "text/html": [
       "<span class=\"barcode\"; style=\"color: black; background-color: #f7fcf5\">&nbspCARCINOMA&nbsp</span><span class=\"barcode\"; style=\"color: black; background-color: #f6fcf4\">&nbspA&nbsp</span><span class=\"barcode\"; style=\"color: black; background-color: #f2faf0\">&nbspCELLULE&nbsp</span><span class=\"barcode\"; style=\"color: black; background-color: #73c476\">&nbspBASALI&nbsp</span><span class=\"barcode\"; style=\"color: black; background-color: #edf8ea\">&nbsp.&nbsp</span><span class=\"barcode\"; style=\"color: black; background-color: #f5fbf2\">&nbspLESIONE&nbsp</span><span class=\"barcode\"; style=\"color: black; background-color: #f1faee\">&nbspCOMPRESA&nbsp</span><span class=\"barcode\"; style=\"color: black; background-color: #edf8e9\">&nbspNEI&nbsp</span><span class=\"barcode\"; style=\"color: black; background-color: #f6fcf4\">&nbspMARGINI&nbsp</span><span class=\"barcode\"; style=\"color: black; background-color: #f1faee\">&nbspDI&nbsp</span><span class=\"barcode\"; style=\"color: black; background-color: #f5fbf2\">&nbspEXERESI&nbsp</span><span class=\"barcode\"; style=\"color: black; background-color: #f0f9ed\">&nbspCHIRURGICA&nbsp</span><span class=\"barcode\"; style=\"color: black; background-color: #f5fbf2\">&nbsp.&nbsp</span><span class=\"barcode\"; style=\"color: black; background-color: #f2faef\">&nbspLOSANGA&nbsp</span><span class=\"barcode\"; style=\"color: black; background-color: #eff9eb\">&nbspCUTANEA&nbsp</span><span class=\"barcode\"; style=\"color: black; background-color: #f6fcf4\">&nbspDI&nbsp</span><span class=\"barcode\"; style=\"color: black; background-color: #f7fcf5\">&nbspCM&nbsp</span><span class=\"barcode\"; style=\"color: black; background-color: #f7fcf5\">&nbsp.&nbsp</span><span class=\"barcode\"; style=\"color: black; background-color: #f7fcf5\">&nbsp2&nbsp</span><span class=\"barcode\"; style=\"color: black; background-color: #f7fcf5\">&nbsp,&nbsp</span><span class=\"barcode\"; style=\"color: black; background-color: #f7fcf5\">&nbsp5X1&nbsp</span><span class=\"barcode\"; style=\"color: black; background-color: #f7fcf5\">&nbsp,&nbsp</span><span class=\"barcode\"; style=\"color: black; background-color: #f7fcf5\">&nbsp3&nbsp</span><span class=\"barcode\"; style=\"color: black; background-color: #f7fcf5\">&nbspCON&nbsp</span><span class=\"barcode\"; style=\"color: black; background-color: #f7fcf5\">&nbspNEOFORMAZIONE&nbsp</span><span class=\"barcode\"; style=\"color: black; background-color: #f7fcf5\">&nbspRILEVATA&nbsp</span><span class=\"barcode\"; style=\"color: black; background-color: #f6fcf4\">&nbspDEL&nbsp</span><span class=\"barcode\"; style=\"color: black; background-color: #f7fcf5\">&nbspDIAMETRO&nbsp</span><span class=\"barcode\"; style=\"color: black; background-color: #f7fcf5\">&nbspDI&nbsp</span><span class=\"barcode\"; style=\"color: black; background-color: #f7fcf5\">&nbspCM&nbsp</span><span class=\"barcode\"; style=\"color: black; background-color: #f7fcf5\">&nbsp.&nbsp</span><span class=\"barcode\"; style=\"color: black; background-color: #f7fcf5\">&nbsp0&nbsp</span><span class=\"barcode\"; style=\"color: black; background-color: #f7fcf5\">&nbsp,&nbsp</span><span class=\"barcode\"; style=\"color: black; background-color: #f7fcf5\">&nbsp6&nbsp</span><span class=\"barcode\"; style=\"color: black; background-color: #f7fcf5\">&nbsp(&nbsp</span><span class=\"barcode\"; style=\"color: black; background-color: #f7fcf5\">&nbspMARGINI&nbsp</span><span class=\"barcode\"; style=\"color: black; background-color: #f7fcf5\">&nbspMARCATI&nbsp</span><span class=\"barcode\"; style=\"color: black; background-color: #f7fcf5\">&nbspCON&nbsp</span><span class=\"barcode\"; style=\"color: black; background-color: #f7fcf5\">&nbspINCHIOSTRO&nbsp</span><span class=\"barcode\"; style=\"color: black; background-color: #f7fcf5\">&nbsp)&nbsp</span><span class=\"barcode\"; style=\"color: black; background-color: #f7fcf5\">&nbsp.&nbsp</span><span class=\"barcode\"; style=\"color: black; background-color: #f7fcf5\">&nbsp1&nbsp</span><span class=\"barcode\"; style=\"color: black; background-color: #f7fcf5\">&nbsp)&nbsp</span><span class=\"barcode\"; style=\"color: black; background-color: #f7fcf5\">&nbspAPICI&nbsp</span><span class=\"barcode\"; style=\"color: black; background-color: #f7fcf5\">&nbsp;&nbsp</span><span class=\"barcode\"; style=\"color: black; background-color: #f7fcf5\">&nbsp2&nbsp</span><span class=\"barcode\"; style=\"color: black; background-color: #f7fcf5\">&nbsp-&nbsp</span><span class=\"barcode\"; style=\"color: black; background-color: #f7fcf5\">&nbsp5&nbsp</span><span class=\"barcode\"; style=\"color: black; background-color: #f7fcf5\">&nbsp)&nbsp</span><span class=\"barcode\"; style=\"color: black; background-color: #f7fcf5\">&nbspSEZIONI&nbsp</span><span class=\"barcode\"; style=\"color: black; background-color: #f7fcf5\">&nbspSERIATE&nbsp</span><span class=\"barcode\"; style=\"color: black; background-color: #f7fcf5\">&nbsp.&nbsp</span>"
      ],
      "text/plain": [
       "<IPython.core.display.HTML object>"
      ]
     },
     "metadata": {},
     "output_type": "display_data"
    },
    {
     "name": "stdout",
     "output_type": "stream",
     "text": [
      "======== doc:  20\n",
      "y: 37 (44-CUTE); yp: 37 (44-CUTE)\n",
      "0:-2.3 - 1:-12.9 - 2:-11.4 - 3:-9.5 - 4:-16.5 - 5:-8.1 - 6:-4.2 - 7:-8.3 - 8:-13.8 - 9:-10.8 - 10:-13.6 - 11:-6.6 - 12:-27.4 - 13:-16.4 - 14:-14.8 - 15:-10.6 - 16:-7.6 - 17:-8.6 - 18:-1.3 - 19:-11.0 - 20:-2.6 - 21:-1.1 - 22:-9.8 - 23:-9.9 - 24:-16.4 - 25:-11.0 - 26:-8.2 - 27:-0.2 - 28:-9.0 - 29:-3.6 - 30:-23.4 - 31:-6.1 - 32:-18.9 - 33:-10.7 - 34:-13.0 - 35:-4.1 - 36:-3.4 - 37:9.5 - 38:-7.1 - 39:-13.4 - 40:-1.5 - 41:-5.3 - 42:1.3 - 43:-7.2 - 44:-5.8 - 45:-5.2 - 46:-10.8 - 47:-14.5 - 48:-12.6 - 49:0.0 - 50:-8.5 - 51:-17.0 - 52:-2.6 - 53:-11.2 - 54:-30.6 - 55:-25.3 - 56:-5.8 - 57:-11.6 - 58:-1.7 - 59:-10.4 - 60:-8.3 - 61:-12.0 - 62:-14.4 - 63:-24.3 - 64:-9.3 - 65:0.3 - 66:-5.4 - 67:-1.9\n",
      "---\n",
      "0\n"
     ]
    },
    {
     "data": {
      "text/html": [
       "<span class=\"barcode\"; style=\"color: black; background-color: #208843\">&nbspMORBO&nbsp</span><span class=\"barcode\"; style=\"color: black; background-color: #f7fcf5\">&nbspDI&nbsp</span><span class=\"barcode\"; style=\"color: black; background-color: #f2faf0\">&nbspBOWEN&nbsp</span><span class=\"barcode\"; style=\"color: black; background-color: #f7fcf5\">&nbsp.&nbsp</span><span class=\"barcode\"; style=\"color: black; background-color: #f7fcf5\">&nbspMARGINI&nbsp</span><span class=\"barcode\"; style=\"color: black; background-color: #f7fcf5\">&nbspNEGATIVI&nbsp</span><span class=\"barcode\"; style=\"color: black; background-color: #f7fcf5\">&nbsp.&nbsp</span><span class=\"barcode\"; style=\"color: black; background-color: #f6fcf4\">&nbspBIOPSIA&nbsp</span><span class=\"barcode\"; style=\"color: black; background-color: #f7fcf5\">&nbspESCISSIONALE&nbsp</span><span class=\"barcode\"; style=\"color: black; background-color: #f7fcf5\">&nbspDI&nbsp</span><span class=\"barcode\"; style=\"color: black; background-color: #f7fcf5\">&nbspNEOFORMAZIONE&nbsp</span><span class=\"barcode\"; style=\"color: black; background-color: #f6fcf4\">&nbspCUTANEA&nbsp</span><span class=\"barcode\"; style=\"color: black; background-color: #f7fcf5\">&nbspDELLA&nbsp</span><span class=\"barcode\"; style=\"color: black; background-color: #f7fcf5\">&nbspSUPERFICIE&nbsp</span><span class=\"barcode\"; style=\"color: black; background-color: #e3f4de\">&nbspVOLARE&nbsp</span><span class=\"barcode\"; style=\"color: black; background-color: #f7fcf5\">&nbspDELL&nbsp</span><span class=\"barcode\"; style=\"color: black; background-color: #f7fcf5\">&nbsp'&nbsp</span><span class=\"barcode\"; style=\"color: black; background-color: #f4fbf2\">&nbspAVAMBRACCIO&nbsp</span><span class=\"barcode\"; style=\"color: black; background-color: #f7fcf5\">&nbsp,&nbsp</span><span class=\"barcode\"; style=\"color: black; background-color: #f7fcf5\">&nbspFRAMMENTO&nbsp</span><span class=\"barcode\"; style=\"color: black; background-color: #f7fcf5\">&nbspCUTANEO&nbsp</span><span class=\"barcode\"; style=\"color: black; background-color: #f7fcf5\">&nbspMM&nbsp</span><span class=\"barcode\"; style=\"color: black; background-color: #f7fcf5\">&nbsp14&nbsp</span><span class=\"barcode\"; style=\"color: black; background-color: #f7fcf5\">&nbspX&nbsp</span><span class=\"barcode\"; style=\"color: black; background-color: #f7fcf5\">&nbsp5&nbsp</span><span class=\"barcode\"; style=\"color: black; background-color: #f7fcf5\">&nbspX&nbsp</span><span class=\"barcode\"; style=\"color: black; background-color: #f7fcf5\">&nbsp3&nbsp</span><span class=\"barcode\"; style=\"color: black; background-color: #f7fcf5\">&nbsp.&nbsp</span><span class=\"barcode\"; style=\"color: black; background-color: #f7fcf5\">&nbspT&nbsp</span><span class=\"barcode\"; style=\"color: black; background-color: #f7fcf5\">&nbsp)&nbsp</span><span class=\"barcode\"; style=\"color: black; background-color: #f7fcf5\">&nbspNEOFORMAZIONE&nbsp</span><span class=\"barcode\"; style=\"color: black; background-color: #f7fcf5\">&nbspCON&nbsp</span><span class=\"barcode\"; style=\"color: black; background-color: #f7fcf5\">&nbspMARGINI&nbsp</span><span class=\"barcode\"; style=\"color: black; background-color: #f7fcf5\">&nbspTRASVERSALI&nbsp</span><span class=\"barcode\"; style=\"color: black; background-color: #f7fcf5\">&nbspE&nbsp</span><span class=\"barcode\"; style=\"color: black; background-color: #f7fcf5\">&nbspPROFONDO&nbsp</span><span class=\"barcode\"; style=\"color: black; background-color: #f7fcf5\">&nbsp;&nbsp</span><span class=\"barcode\"; style=\"color: black; background-color: #f7fcf5\">&nbspM&nbsp</span><span class=\"barcode\"; style=\"color: black; background-color: #f7fcf5\">&nbsp)&nbsp</span><span class=\"barcode\"; style=\"color: black; background-color: #f7fcf5\">&nbspMARGINI&nbsp</span><span class=\"barcode\"; style=\"color: black; background-color: #f7fcf5\">&nbspAPICALI&nbsp</span><span class=\"barcode\"; style=\"color: black; background-color: #f7fcf5\">&nbsp.&nbsp</span><span class=\"barcode\"; style=\"color: black; background-color: #f7fcf5\">&nbsp(&nbsp</span><span class=\"barcode\"; style=\"color: black; background-color: #f7fcf5\">&nbspMARGINI&nbsp</span><span class=\"barcode\"; style=\"color: black; background-color: #f7fcf5\">&nbspMARCATI&nbsp</span><span class=\"barcode\"; style=\"color: black; background-color: #f7fcf5\">&nbspCON&nbsp</span><span class=\"barcode\"; style=\"color: black; background-color: #f7fcf5\">&nbspINCHIOSTRO&nbsp</span><span class=\"barcode\"; style=\"color: black; background-color: #f7fcf5\">&nbspDI&nbsp</span><span class=\"barcode\"; style=\"color: black; background-color: #f7fcf5\">&nbspCHINA&nbsp</span><span class=\"barcode\"; style=\"color: black; background-color: #f7fcf5\">&nbsp)&nbsp</span><span class=\"barcode\"; style=\"color: black; background-color: #f7fcf5\">&nbsp.&nbsp</span><span class=\"barcode\"; style=\"color: black; background-color: #f7fcf5\">&nbsp(&nbsp</span><span class=\"barcode\"; style=\"color: black; background-color: #f7fcf5\">&nbspORIENTAMENTO&nbsp</span><span class=\"barcode\"; style=\"color: black; background-color: #f7fcf5\">&nbspCLINICO&nbsp</span><span class=\"barcode\"; style=\"color: black; background-color: #f7fcf5\">&nbsp:&nbsp</span><span class=\"barcode\"; style=\"color: black; background-color: #f7fcf5\">&nbspM&nbsp</span><span class=\"barcode\"; style=\"color: black; background-color: #f7fcf5\">&nbsp.&nbsp</span><span class=\"barcode\"; style=\"color: black; background-color: #f7fcf5\">&nbspDI&nbsp</span><span class=\"barcode\"; style=\"color: black; background-color: #f6fcf4\">&nbspBOWEN&nbsp</span><span class=\"barcode\"; style=\"color: black; background-color: #f7fcf5\">&nbsp,&nbsp</span><span class=\"barcode\"; style=\"color: black; background-color: #f7fcf5\">&nbspCA&nbsp</span><span class=\"barcode\"; style=\"color: black; background-color: #f7fcf5\">&nbsp.&nbsp</span><span class=\"barcode\"; style=\"color: black; background-color: #f7fcf5\">&nbspBASOCELLULARE&nbsp</span><span class=\"barcode\"; style=\"color: black; background-color: #f7fcf5\">&nbsp)&nbsp</span><span class=\"barcode\"; style=\"color: black; background-color: #f7fcf5\">&nbsp.&nbsp</span>"
      ],
      "text/plain": [
       "<IPython.core.display.HTML object>"
      ]
     },
     "metadata": {},
     "output_type": "display_data"
    },
    {
     "name": "stdout",
     "output_type": "stream",
     "text": [
      "======== doc:  21\n",
      "y: 50 (61-PROSTATA); yp: 50 (61-PROSTATA)\n",
      "0:-25.3 - 1:-14.0 - 2:-14.8 - 3:-29.3 - 4:-23.3 - 5:-11.8 - 6:-16.5 - 7:-11.9 - 8:-14.8 - 9:-10.8 - 10:-15.1 - 11:-19.8 - 12:-20.5 - 13:-17.5 - 14:-13.8 - 15:-18.5 - 16:-10.7 - 17:-17.9 - 18:-2.1 - 19:-8.0 - 20:-10.4 - 21:-18.0 - 22:-8.3 - 23:-1.8 - 24:-10.0 - 25:-9.1 - 26:-11.9 - 27:-16.1 - 28:-22.4 - 29:-10.0 - 30:-12.5 - 31:-2.5 - 32:-19.9 - 33:-14.3 - 34:-39.2 - 35:-33.0 - 36:-3.7 - 37:-1.9 - 38:-27.4 - 39:-14.4 - 40:-10.7 - 41:-9.9 - 42:-17.0 - 43:-22.1 - 44:-9.6 - 45:-2.9 - 46:-13.2 - 47:-10.7 - 48:-15.5 - 49:-18.8 - 50:8.9 - 51:-13.3 - 52:-30.5 - 53:-1.0 - 54:-19.6 - 55:-14.4 - 56:-1.6 - 57:-4.2 - 58:-18.3 - 59:-5.8 - 60:-12.8 - 61:-18.5 - 62:-4.3 - 63:-13.9 - 64:-7.2 - 65:-13.2 - 66:-7.6 - 67:-5.6\n",
      "---\n",
      "0\n"
     ]
    },
    {
     "data": {
      "text/html": [
       "<span class=\"barcode\"; style=\"color: black; background-color: #f7fcf5\">&nbspPSA&nbsp</span><span class=\"barcode\"; style=\"color: black; background-color: #f7fcf5\">&nbsp8&nbsp</span><span class=\"barcode\"; style=\"color: black; background-color: #f7fcf5\">&nbsp.&nbsp</span><span class=\"barcode\"; style=\"color: black; background-color: #f7fcf5\">&nbsp2&nbsp</span><span class=\"barcode\"; style=\"color: black; background-color: #f7fcf5\">&nbsp.&nbsp</span><span class=\"barcode\"; style=\"color: black; background-color: #f7fcf5\">&nbspSOSPETTO&nbsp</span><span class=\"barcode\"; style=\"color: black; background-color: #f7fcf5\">&nbspDIAGNOSTICO&nbsp</span><span class=\"barcode\"; style=\"color: black; background-color: #f7fcf5\">&nbspSU&nbsp</span><span class=\"barcode\"; style=\"color: black; background-color: #f7fcf5\">&nbspBASE&nbsp</span><span class=\"barcode\"; style=\"color: black; background-color: #f7fcf5\">&nbspCLINICA&nbsp</span><span class=\"barcode\"; style=\"color: black; background-color: #f7fcf5\">&nbspE&nbsp</span><span class=\"barcode\"; style=\"color: black; background-color: #f7fcf5\">&nbspECOGRAFICA&nbsp</span><span class=\"barcode\"; style=\"color: black; background-color: #f7fcf5\">&nbspA&nbsp</span><span class=\"barcode\"; style=\"color: black; background-color: #f7fcf5\">&nbspDX&nbsp</span><span class=\"barcode\"; style=\"color: black; background-color: #f4fbf2\">&nbspADENOCARCINOMA&nbsp</span><span class=\"barcode\"; style=\"color: black; background-color: #004c1e\">&nbspPROSTATICO&nbsp</span><span class=\"barcode\"; style=\"color: black; background-color: #f7fcf5\">&nbspA&nbsp</span><span class=\"barcode\"; style=\"color: black; background-color: #f7fcf5\">&nbspGRADO&nbsp</span><span class=\"barcode\"; style=\"color: black; background-color: #f7fcf5\">&nbspDI&nbsp</span><span class=\"barcode\"; style=\"color: black; background-color: #f7fcf5\">&nbspDIFFERENZIAZIONE&nbsp</span><span class=\"barcode\"; style=\"color: black; background-color: #f7fcf5\">&nbspMEDIO&nbsp</span><span class=\"barcode\"; style=\"color: black; background-color: #f7fcf5\">&nbsp-&nbsp</span><span class=\"barcode\"; style=\"color: black; background-color: #f7fcf5\">&nbspBASSO&nbsp</span><span class=\"barcode\"; style=\"color: black; background-color: #f7fcf5\">&nbsp(&nbsp</span><span class=\"barcode\"; style=\"color: black; background-color: #f7fcf5\">&nbspGLEASON&nbsp</span><span class=\"barcode\"; style=\"color: black; background-color: #f7fcf5\">&nbsp4&nbsp</span><span class=\"barcode\"; style=\"color: black; background-color: #f7fcf5\">&nbsp+&nbsp</span><span class=\"barcode\"; style=\"color: black; background-color: #f7fcf5\">&nbsp3&nbsp</span><span class=\"barcode\"; style=\"color: black; background-color: #f7fcf5\">&nbsp)&nbsp</span><span class=\"barcode\"; style=\"color: black; background-color: #f7fcf5\">&nbspIN&nbsp</span><span class=\"barcode\"; style=\"color: black; background-color: #f7fcf5\">&nbspTUTTI&nbsp</span><span class=\"barcode\"; style=\"color: black; background-color: #f7fcf5\">&nbspI&nbsp</span><span class=\"barcode\"; style=\"color: black; background-color: #f7fcf5\">&nbspFRUSTOLI&nbsp</span><span class=\"barcode\"; style=\"color: black; background-color: #f7fcf5\">&nbspINVIATI&nbsp</span><span class=\"barcode\"; style=\"color: black; background-color: #f7fcf5\">&nbsp.&nbsp</span>"
      ],
      "text/plain": [
       "<IPython.core.display.HTML object>"
      ]
     },
     "metadata": {},
     "output_type": "display_data"
    },
    {
     "name": "stdout",
     "output_type": "stream",
     "text": [
      "======== doc:  22\n",
      "y: 37 (44-CUTE); yp: 37 (44-CUTE)\n",
      "0:-1.5 - 1:-9.0 - 2:-5.7 - 3:-8.6 - 4:-14.2 - 5:-5.8 - 6:-1.6 - 7:-2.9 - 8:-9.0 - 9:-7.3 - 10:-11.0 - 11:-7.3 - 12:-22.2 - 13:-12.9 - 14:-9.6 - 15:-11.6 - 16:-9.7 - 17:-12.8 - 18:-0.4 - 19:-9.7 - 20:-0.7 - 21:-2.0 - 22:-7.5 - 23:-11.1 - 24:-16.6 - 25:-11.1 - 26:-9.0 - 27:-2.8 - 28:-10.3 - 29:-3.0 - 30:-18.7 - 31:-3.3 - 32:-15.2 - 33:-9.9 - 34:-18.0 - 35:-7.8 - 36:-2.3 - 37:9.5 - 38:-9.3 - 39:-15.3 - 40:-2.5 - 41:-1.9 - 42:-0.2 - 43:-9.7 - 44:-4.6 - 45:-5.8 - 46:-10.1 - 47:-15.5 - 48:-16.8 - 49:-0.7 - 50:-3.0 - 51:-14.3 - 52:-6.5 - 53:-7.4 - 54:-26.0 - 55:-22.3 - 56:-4.7 - 57:-9.9 - 58:-4.2 - 59:-8.9 - 60:-7.1 - 61:-11.9 - 62:-8.4 - 63:-25.8 - 64:-6.7 - 65:-1.7 - 66:-3.6 - 67:-1.8\n",
      "---\n",
      "0\n"
     ]
    },
    {
     "data": {
      "text/html": [
       "<span class=\"barcode\"; style=\"color: black; background-color: #f5fbf2\">&nbspSOSPETTO&nbsp</span><span class=\"barcode\"; style=\"color: black; background-color: #f3faf0\">&nbspBASALIOMA&nbsp</span><span class=\"barcode\"; style=\"color: black; background-color: #f6fcf4\">&nbspCARCINOMA&nbsp</span><span class=\"barcode\"; style=\"color: black; background-color: #f5fbf3\">&nbspA&nbsp</span><span class=\"barcode\"; style=\"color: black; background-color: #f0f9ed\">&nbspCELLULE&nbsp</span><span class=\"barcode\"; style=\"color: black; background-color: #90d18d\">&nbspBASALI&nbsp</span><span class=\"barcode\"; style=\"color: black; background-color: #edf8ea\">&nbsp.&nbsp</span><span class=\"barcode\"; style=\"color: black; background-color: #f4fbf2\">&nbspLA&nbsp</span><span class=\"barcode\"; style=\"color: black; background-color: #f6fcf4\">&nbspPROLIFERAZIONE&nbsp</span><span class=\"barcode\"; style=\"color: black; background-color: #f4fbf2\">&nbspNEOPLASTICA&nbsp</span><span class=\"barcode\"; style=\"color: black; background-color: #f5fbf2\">&nbspE&nbsp</span><span class=\"barcode\"; style=\"color: black; background-color: #f6fcf4\">&nbsp'&nbsp</span><span class=\"barcode\"; style=\"color: black; background-color: #f4fbf1\">&nbspCONTENUTA&nbsp</span><span class=\"barcode\"; style=\"color: black; background-color: #f5fbf3\">&nbspENTRO&nbsp</span><span class=\"barcode\"; style=\"color: black; background-color: #f7fcf5\">&nbspI&nbsp</span><span class=\"barcode\"; style=\"color: black; background-color: #f6fcf4\">&nbspMARGINI&nbsp</span><span class=\"barcode\"; style=\"color: black; background-color: #eff9ec\">&nbspDEL&nbsp</span><span class=\"barcode\"; style=\"color: black; background-color: #eff9ec\">&nbspFRAMMENTO&nbsp</span><span class=\"barcode\"; style=\"color: black; background-color: #f4fbf2\">&nbsp.&nbsp</span><span class=\"barcode\"; style=\"color: black; background-color: #f2faf0\">&nbspFRAMMENTO&nbsp</span><span class=\"barcode\"; style=\"color: black; background-color: #f1faee\">&nbspCUTANEO&nbsp</span><span class=\"barcode\"; style=\"color: black; background-color: #f7fcf5\">&nbspE&nbsp</span><span class=\"barcode\"; style=\"color: black; background-color: #f5fbf3\">&nbspSOTTOCUTANEO&nbsp</span><span class=\"barcode\"; style=\"color: black; background-color: #f7fcf5\">&nbspDI&nbsp</span><span class=\"barcode\"; style=\"color: black; background-color: #f7fcf5\">&nbspCM&nbsp</span><span class=\"barcode\"; style=\"color: black; background-color: #f7fcf5\">&nbsp1&nbsp</span><span class=\"barcode\"; style=\"color: black; background-color: #f7fcf5\">&nbsp,&nbsp</span><span class=\"barcode\"; style=\"color: black; background-color: #f7fcf5\">&nbsp1&nbsp</span><span class=\"barcode\"; style=\"color: black; background-color: #f7fcf5\">&nbspX&nbsp</span><span class=\"barcode\"; style=\"color: black; background-color: #f7fcf5\">&nbsp0&nbsp</span><span class=\"barcode\"; style=\"color: black; background-color: #f7fcf5\">&nbsp,&nbsp</span><span class=\"barcode\"; style=\"color: black; background-color: #f7fcf5\">&nbsp6&nbsp</span><span class=\"barcode\"; style=\"color: black; background-color: #f7fcf5\">&nbspX&nbsp</span><span class=\"barcode\"; style=\"color: black; background-color: #f7fcf5\">&nbsp0&nbsp</span><span class=\"barcode\"; style=\"color: black; background-color: #f7fcf5\">&nbsp,&nbsp</span><span class=\"barcode\"; style=\"color: black; background-color: #f7fcf5\">&nbsp2&nbsp</span><span class=\"barcode\"; style=\"color: black; background-color: #f7fcf5\">&nbspCON&nbsp</span><span class=\"barcode\"; style=\"color: black; background-color: #f7fcf5\">&nbspLESIONE&nbsp</span><span class=\"barcode\"; style=\"color: black; background-color: #f7fcf5\">&nbspRILEVATA&nbsp</span><span class=\"barcode\"; style=\"color: black; background-color: #f6fcf4\">&nbspACROMICA&nbsp</span><span class=\"barcode\"; style=\"color: black; background-color: #f7fcf5\">&nbspDI&nbsp</span><span class=\"barcode\"; style=\"color: black; background-color: #f7fcf5\">&nbspCM&nbsp</span><span class=\"barcode\"; style=\"color: black; background-color: #f7fcf5\">&nbsp0&nbsp</span><span class=\"barcode\"; style=\"color: black; background-color: #f7fcf5\">&nbsp,&nbsp</span><span class=\"barcode\"; style=\"color: black; background-color: #f7fcf5\">&nbsp4&nbsp</span><span class=\"barcode\"; style=\"color: black; background-color: #f7fcf5\">&nbspX&nbsp</span><span class=\"barcode\"; style=\"color: black; background-color: #f7fcf5\">&nbsp0&nbsp</span><span class=\"barcode\"; style=\"color: black; background-color: #f7fcf5\">&nbsp,&nbsp</span><span class=\"barcode\"; style=\"color: black; background-color: #f7fcf5\">&nbsp3&nbsp</span><span class=\"barcode\"; style=\"color: black; background-color: #f7fcf5\">&nbsp.&nbsp</span><span class=\"barcode\"; style=\"color: black; background-color: #f7fcf5\">&nbsp1&nbsp</span><span class=\"barcode\"; style=\"color: black; background-color: #f7fcf5\">&nbsp-&nbsp</span><span class=\"barcode\"; style=\"color: black; background-color: #f7fcf5\">&nbsp3&nbsp</span><span class=\"barcode\"; style=\"color: black; background-color: #f7fcf5\">&nbsp)&nbsp</span><span class=\"barcode\"; style=\"color: black; background-color: #f7fcf5\">&nbspSEZIONI&nbsp</span><span class=\"barcode\"; style=\"color: black; background-color: #f7fcf5\">&nbspA&nbsp</span><span class=\"barcode\"; style=\"color: black; background-color: #f6fcf4\">&nbspCROCE&nbsp</span><span class=\"barcode\"; style=\"color: black; background-color: #f7fcf5\">&nbsp(&nbsp</span><span class=\"barcode\"; style=\"color: black; background-color: #f7fcf5\">&nbspMARGINI&nbsp</span><span class=\"barcode\"; style=\"color: black; background-color: #f7fcf5\">&nbspMARCATI&nbsp</span><span class=\"barcode\"; style=\"color: black; background-color: #f7fcf5\">&nbspCON&nbsp</span><span class=\"barcode\"; style=\"color: black; background-color: #f7fcf5\">&nbspINCHIOSTRO&nbsp</span><span class=\"barcode\"; style=\"color: black; background-color: #f7fcf5\">&nbsp)&nbsp</span><span class=\"barcode\"; style=\"color: black; background-color: #f7fcf5\">&nbsp.&nbsp</span>"
      ],
      "text/plain": [
       "<IPython.core.display.HTML object>"
      ]
     },
     "metadata": {},
     "output_type": "display_data"
    },
    {
     "name": "stdout",
     "output_type": "stream",
     "text": [
      "======== doc:  23\n",
      "y: 37 (44-CUTE); yp: 37 (44-CUTE)\n",
      "0:-3.3 - 1:-10.5 - 2:-6.7 - 3:-7.9 - 4:-15.2 - 5:-5.2 - 6:-1.9 - 7:-3.9 - 8:-10.9 - 9:-7.1 - 10:-10.1 - 11:-5.5 - 12:-23.2 - 13:-11.9 - 14:-9.7 - 15:-12.9 - 16:-10.1 - 17:-11.0 - 18:-0.9 - 19:-12.3 - 20:-4.0 - 21:-2.9 - 22:-7.8 - 23:-12.9 - 24:-19.4 - 25:-12.5 - 26:-10.2 - 27:-1.8 - 28:-10.0 - 29:-2.6 - 30:-18.1 - 31:-2.9 - 32:-15.0 - 33:-8.1 - 34:-19.5 - 35:-8.4 - 36:-2.9 - 37:9.6 - 38:-6.3 - 39:-14.8 - 40:-1.6 - 41:-2.8 - 42:-1.0 - 43:-8.3 - 44:-7.0 - 45:-6.1 - 46:-12.9 - 47:-17.0 - 48:-16.5 - 49:-3.3 - 50:-5.6 - 51:-16.1 - 52:-8.7 - 53:-8.9 - 54:-26.6 - 55:-23.5 - 56:-4.5 - 57:-10.5 - 58:-0.5 - 59:-7.6 - 60:-4.2 - 61:-8.6 - 62:-7.0 - 63:-22.7 - 64:-6.4 - 65:-2.5 - 66:-5.4 - 67:-3.3\n",
      "---\n",
      "0\n"
     ]
    },
    {
     "data": {
      "text/html": [
       "<span class=\"barcode\"; style=\"color: black; background-color: #f6fcf4\">&nbspNEOFORMAZIONE&nbsp</span><span class=\"barcode\"; style=\"color: black; background-color: #f7fcf5\">&nbspPARZIALMENTE&nbsp</span><span class=\"barcode\"; style=\"color: black; background-color: #f7fcf5\">&nbspPIGMENTATA&nbsp</span><span class=\"barcode\"; style=\"color: black; background-color: #19833e\">&nbspTELEANGECTASICA&nbsp</span><span class=\"barcode\"; style=\"color: black; background-color: #f6fcf4\">&nbsp.&nbsp</span><span class=\"barcode\"; style=\"color: black; background-color: #f6fcf4\">&nbspOD&nbsp</span><span class=\"barcode\"; style=\"color: black; background-color: #f7fcf5\">&nbsp:&nbsp</span><span class=\"barcode\"; style=\"color: black; background-color: #f7fcf5\">&nbspCARCINOMA&nbsp</span><span class=\"barcode\"; style=\"color: black; background-color: #f7fcf5\">&nbspA&nbsp</span><span class=\"barcode\"; style=\"color: black; background-color: #f5fbf2\">&nbspCELLULE&nbsp</span><span class=\"barcode\"; style=\"color: black; background-color: #ebf7e7\">&nbspBASALI&nbsp</span><span class=\"barcode\"; style=\"color: black; background-color: #f6fcf4\">&nbsp.&nbsp</span><span class=\"barcode\"; style=\"color: black; background-color: #f5fbf3\">&nbspCARCINOMA&nbsp</span><span class=\"barcode\"; style=\"color: black; background-color: #f7fcf5\">&nbspA&nbsp</span><span class=\"barcode\"; style=\"color: black; background-color: #f6fcf4\">&nbspCELLULE&nbsp</span><span class=\"barcode\"; style=\"color: black; background-color: #f0f9ed\">&nbspBASALI&nbsp</span><span class=\"barcode\"; style=\"color: black; background-color: #f7fcf5\">&nbsp.&nbsp</span><span class=\"barcode\"; style=\"color: black; background-color: #f7fcf5\">&nbspFRAMMENTO&nbsp</span><span class=\"barcode\"; style=\"color: black; background-color: #f7fcf5\">&nbspDI&nbsp</span><span class=\"barcode\"; style=\"color: black; background-color: #f7fcf5\">&nbsp0&nbsp</span><span class=\"barcode\"; style=\"color: black; background-color: #f7fcf5\">&nbsp,&nbsp</span><span class=\"barcode\"; style=\"color: black; background-color: #f7fcf5\">&nbsp6&nbsp</span><span class=\"barcode\"; style=\"color: black; background-color: #f7fcf5\">&nbspX&nbsp</span><span class=\"barcode\"; style=\"color: black; background-color: #f7fcf5\">&nbsp0&nbsp</span><span class=\"barcode\"; style=\"color: black; background-color: #f7fcf5\">&nbsp,&nbsp</span><span class=\"barcode\"; style=\"color: black; background-color: #f7fcf5\">&nbsp5&nbsp</span><span class=\"barcode\"; style=\"color: black; background-color: #f7fcf5\">&nbspX&nbsp</span><span class=\"barcode\"; style=\"color: black; background-color: #f7fcf5\">&nbsp0&nbsp</span><span class=\"barcode\"; style=\"color: black; background-color: #f7fcf5\">&nbsp,&nbsp</span><span class=\"barcode\"; style=\"color: black; background-color: #f7fcf5\">&nbsp3&nbsp</span><span class=\"barcode\"; style=\"color: black; background-color: #f7fcf5\">&nbspCM&nbsp</span><span class=\"barcode\"; style=\"color: black; background-color: #f7fcf5\">&nbspIN&nbsp</span><span class=\"barcode\"; style=\"color: black; background-color: #f7fcf5\">&nbspTOTO&nbsp</span><span class=\"barcode\"; style=\"color: black; background-color: #f7fcf5\">&nbsp.&nbsp</span>"
      ],
      "text/plain": [
       "<IPython.core.display.HTML object>"
      ]
     },
     "metadata": {},
     "output_type": "display_data"
    },
    {
     "name": "stdout",
     "output_type": "stream",
     "text": [
      "======== doc:  24\n",
      "y: 37 (44-CUTE); yp: 37 (44-CUTE)\n",
      "0:-1.5 - 1:-10.3 - 2:-7.5 - 3:-9.5 - 4:-14.5 - 5:-7.4 - 6:-1.9 - 7:-5.5 - 8:-12.9 - 9:-8.2 - 10:-11.0 - 11:-7.6 - 12:-25.5 - 13:-14.3 - 14:-10.2 - 15:-9.9 - 16:-7.4 - 17:-12.1 - 18:0.7 - 19:-8.1 - 20:-1.1 - 21:-0.2 - 22:-9.0 - 23:-10.6 - 24:-16.9 - 25:-11.3 - 26:-8.5 - 27:-3.2 - 28:-10.0 - 29:-2.9 - 30:-22.8 - 31:-4.3 - 32:-19.7 - 33:-9.5 - 34:-18.0 - 35:-7.7 - 36:-2.6 - 37:9.6 - 38:-11.6 - 39:-16.0 - 40:-3.0 - 41:-2.5 - 42:1.1 - 43:-7.9 - 44:-3.5 - 45:-5.2 - 46:-10.0 - 47:-14.5 - 48:-16.6 - 49:-0.8 - 50:-4.2 - 51:-17.0 - 52:-5.9 - 53:-9.2 - 54:-26.5 - 55:-23.3 - 56:-3.8 - 57:-10.5 - 58:-4.1 - 59:-9.1 - 60:-6.3 - 61:-11.4 - 62:-11.0 - 63:-27.2 - 64:-8.6 - 65:-0.4 - 66:-5.5 - 67:-2.1\n",
      "---\n",
      "0\n"
     ]
    },
    {
     "data": {
      "text/html": [
       "<span class=\"barcode\"; style=\"color: black; background-color: #f7fcf5\">&nbspLESIONE&nbsp</span><span class=\"barcode\"; style=\"color: black; background-color: #f7fcf5\">&nbspA&nbsp</span><span class=\"barcode\"; style=\"color: black; background-color: #e9f7e5\">&nbspPLACCA&nbsp</span><span class=\"barcode\"; style=\"color: black; background-color: #f7fcf5\">&nbsp,&nbsp</span><span class=\"barcode\"; style=\"color: black; background-color: #f1faee\">&nbspERITEMATOSA&nbsp</span><span class=\"barcode\"; style=\"color: black; background-color: #f1faee\">&nbspCOPERTA&nbsp</span><span class=\"barcode\"; style=\"color: black; background-color: #f7fcf5\">&nbspDA&nbsp</span><span class=\"barcode\"; style=\"color: black; background-color: #eff9ec\">&nbspSQUAMO&nbsp</span><span class=\"barcode\"; style=\"color: black; background-color: #f7fcf5\">&nbsp-&nbsp</span><span class=\"barcode\"; style=\"color: black; background-color: #f5fbf3\">&nbspCROSTE&nbsp</span><span class=\"barcode\"; style=\"color: black; background-color: #f7fcf5\">&nbsp.&nbsp</span><span class=\"barcode\"; style=\"color: black; background-color: #f7fcf5\">&nbspO&nbsp</span><span class=\"barcode\"; style=\"color: black; background-color: #f7fcf5\">&nbsp.&nbsp</span><span class=\"barcode\"; style=\"color: black; background-color: #f7fcf5\">&nbspD&nbsp</span><span class=\"barcode\"; style=\"color: black; background-color: #f7fcf5\">&nbsp.&nbsp</span><span class=\"barcode\"; style=\"color: black; background-color: #f7fcf5\">&nbsp:&nbsp</span><span class=\"barcode\"; style=\"color: black; background-color: #f5fbf3\">&nbspMALATTIA&nbsp</span><span class=\"barcode\"; style=\"color: black; background-color: #f3faf0\">&nbspDI&nbsp</span><span class=\"barcode\"; style=\"color: black; background-color: #bee5b8\">&nbspBOWEN&nbsp</span><span class=\"barcode\"; style=\"color: black; background-color: #f6fcf4\">&nbsp.&nbsp</span><span class=\"barcode\"; style=\"color: black; background-color: #f5fbf3\">&nbspCARCINOMA&nbsp</span><span class=\"barcode\"; style=\"color: black; background-color: #f6fcf4\">&nbspA&nbsp</span><span class=\"barcode\"; style=\"color: black; background-color: #f6fcf4\">&nbspCELLULE&nbsp</span><span class=\"barcode\"; style=\"color: black; background-color: #eff9ec\">&nbspBASALI&nbsp</span><span class=\"barcode\"; style=\"color: black; background-color: #f2faf0\">&nbspDI&nbsp</span><span class=\"barcode\"; style=\"color: black; background-color: #f5fbf2\">&nbspTIPO&nbsp</span><span class=\"barcode\"; style=\"color: black; background-color: #f4fbf1\">&nbspSUPERFICIALE&nbsp</span><span class=\"barcode\"; style=\"color: black; background-color: #f5fbf3\">&nbsp.&nbsp</span><span class=\"barcode\"; style=\"color: black; background-color: #f6fcf4\">&nbspLA&nbsp</span><span class=\"barcode\"; style=\"color: black; background-color: #f6fcf4\">&nbspPROLIFERAZIONE&nbsp</span><span class=\"barcode\"; style=\"color: black; background-color: #f6fcf4\">&nbspNEOPLASTICA&nbsp</span><span class=\"barcode\"; style=\"color: black; background-color: #f6fcf4\">&nbspE&nbsp</span><span class=\"barcode\"; style=\"color: black; background-color: #f6fcf4\">&nbsp'&nbsp</span><span class=\"barcode\"; style=\"color: black; background-color: #f5fbf3\">&nbspCONTENUTA&nbsp</span><span class=\"barcode\"; style=\"color: black; background-color: #f6fcf4\">&nbspENTRO&nbsp</span><span class=\"barcode\"; style=\"color: black; background-color: #f7fcf5\">&nbspI&nbsp</span><span class=\"barcode\"; style=\"color: black; background-color: #f7fcf5\">&nbspMARGINI&nbsp</span><span class=\"barcode\"; style=\"color: black; background-color: #f3faf0\">&nbspDEL&nbsp</span><span class=\"barcode\"; style=\"color: black; background-color: #f2faf0\">&nbspFRAMMENTO&nbsp</span><span class=\"barcode\"; style=\"color: black; background-color: #f5fbf3\">&nbsp.&nbsp</span><span class=\"barcode\"; style=\"color: black; background-color: #f5fbf2\">&nbspFRAMMENTO&nbsp</span><span class=\"barcode\"; style=\"color: black; background-color: #f4fbf2\">&nbspCUTANEO&nbsp</span><span class=\"barcode\"; style=\"color: black; background-color: #f7fcf5\">&nbspE&nbsp</span><span class=\"barcode\"; style=\"color: black; background-color: #f6fcf4\">&nbspSOTTOCUTANEO&nbsp</span><span class=\"barcode\"; style=\"color: black; background-color: #f7fcf5\">&nbspDI&nbsp</span><span class=\"barcode\"; style=\"color: black; background-color: #f7fcf5\">&nbspCM&nbsp</span><span class=\"barcode\"; style=\"color: black; background-color: #f7fcf5\">&nbsp3&nbsp</span><span class=\"barcode\"; style=\"color: black; background-color: #f7fcf5\">&nbsp,&nbsp</span><span class=\"barcode\"; style=\"color: black; background-color: #f7fcf5\">&nbsp6&nbsp</span><span class=\"barcode\"; style=\"color: black; background-color: #f7fcf5\">&nbspX&nbsp</span><span class=\"barcode\"; style=\"color: black; background-color: #f7fcf5\">&nbsp1&nbsp</span><span class=\"barcode\"; style=\"color: black; background-color: #f7fcf5\">&nbsp,&nbsp</span><span class=\"barcode\"; style=\"color: black; background-color: #f7fcf5\">&nbsp5&nbsp</span><span class=\"barcode\"; style=\"color: black; background-color: #f7fcf5\">&nbspX&nbsp</span><span class=\"barcode\"; style=\"color: black; background-color: #f7fcf5\">&nbsp0&nbsp</span><span class=\"barcode\"; style=\"color: black; background-color: #f7fcf5\">&nbsp,&nbsp</span><span class=\"barcode\"; style=\"color: black; background-color: #f7fcf5\">&nbsp7&nbsp</span><span class=\"barcode\"; style=\"color: black; background-color: #f7fcf5\">&nbspCON&nbsp</span><span class=\"barcode\"; style=\"color: black; background-color: #f7fcf5\">&nbspLESIONE&nbsp</span><span class=\"barcode\"; style=\"color: black; background-color: #f6fcf4\">&nbspDISCROMICA&nbsp</span><span class=\"barcode\"; style=\"color: black; background-color: #f7fcf5\">&nbspDI&nbsp</span><span class=\"barcode\"; style=\"color: black; background-color: #f7fcf5\">&nbspCM&nbsp</span><span class=\"barcode\"; style=\"color: black; background-color: #f7fcf5\">&nbsp1&nbsp</span><span class=\"barcode\"; style=\"color: black; background-color: #f7fcf5\">&nbsp,&nbsp</span><span class=\"barcode\"; style=\"color: black; background-color: #f7fcf5\">&nbsp3&nbsp</span><span class=\"barcode\"; style=\"color: black; background-color: #f7fcf5\">&nbspX&nbsp</span><span class=\"barcode\"; style=\"color: black; background-color: #f7fcf5\">&nbsp1&nbsp</span><span class=\"barcode\"; style=\"color: black; background-color: #f7fcf5\">&nbsp.&nbsp</span><span class=\"barcode\"; style=\"color: black; background-color: #f7fcf5\">&nbsp1&nbsp</span><span class=\"barcode\"; style=\"color: black; background-color: #f7fcf5\">&nbsp-&nbsp</span><span class=\"barcode\"; style=\"color: black; background-color: #f7fcf5\">&nbsp2&nbsp</span><span class=\"barcode\"; style=\"color: black; background-color: #f7fcf5\">&nbsp)&nbsp</span><span class=\"barcode\"; style=\"color: black; background-color: #f7fcf5\">&nbspPRELIEVI&nbsp</span><span class=\"barcode\"; style=\"color: black; background-color: #f7fcf5\">&nbspRAPPRESENTATIVI&nbsp</span><span class=\"barcode\"; style=\"color: black; background-color: #f7fcf5\">&nbspDELLA&nbsp</span><span class=\"barcode\"; style=\"color: black; background-color: #f7fcf5\">&nbspLESIONE&nbsp</span><span class=\"barcode\"; style=\"color: black; background-color: #f7fcf5\">&nbspIN&nbsp</span><span class=\"barcode\"; style=\"color: black; background-color: #f7fcf5\">&nbspRAPPORTO&nbsp</span><span class=\"barcode\"; style=\"color: black; background-color: #f7fcf5\">&nbspCON&nbsp</span><span class=\"barcode\"; style=\"color: black; background-color: #f6fcf4\">&nbspIL&nbsp</span><span class=\"barcode\"; style=\"color: black; background-color: #f7fcf5\">&nbspMARGINE&nbsp</span><span class=\"barcode\"; style=\"color: black; background-color: #f7fcf5\">&nbspPROFONDO&nbsp</span><span class=\"barcode\"; style=\"color: black; background-color: #f7fcf5\">&nbspE&nbsp</span><span class=\"barcode\"; style=\"color: black; background-color: #f7fcf5\">&nbspDUE&nbsp</span><span class=\"barcode\"; style=\"color: black; background-color: #f7fcf5\">&nbspLATERALI&nbsp</span><span class=\"barcode\"; style=\"color: black; background-color: #f7fcf5\">&nbsp.&nbsp</span><span class=\"barcode\"; style=\"color: black; background-color: #f7fcf5\">&nbsp3&nbsp</span><span class=\"barcode\"; style=\"color: black; background-color: #f7fcf5\">&nbsp-&nbsp</span><span class=\"barcode\"; style=\"color: black; background-color: #f7fcf5\">&nbsp4&nbsp</span><span class=\"barcode\"; style=\"color: black; background-color: #f7fcf5\">&nbsp)&nbsp</span><span class=\"barcode\"; style=\"color: black; background-color: #f7fcf5\">&nbspALTRI&nbsp</span><span class=\"barcode\"; style=\"color: black; background-color: #f7fcf5\">&nbsp2&nbsp</span><span class=\"barcode\"; style=\"color: black; background-color: #f7fcf5\">&nbspMARGINI&nbsp</span><span class=\"barcode\"; style=\"color: black; background-color: #f7fcf5\">&nbspLATERALI&nbsp</span><span class=\"barcode\"; style=\"color: black; background-color: #f7fcf5\">&nbsp.&nbsp</span>"
      ],
      "text/plain": [
       "<IPython.core.display.HTML object>"
      ]
     },
     "metadata": {},
     "output_type": "display_data"
    },
    {
     "name": "stdout",
     "output_type": "stream",
     "text": [
      "======== doc:  25\n",
      "y: 37 (44-CUTE); yp: 37 (44-CUTE)\n",
      "0:-2.7 - 1:-11.8 - 2:-9.2 - 3:-9.9 - 4:-15.0 - 5:-8.1 - 6:-2.6 - 7:-3.6 - 8:-10.4 - 9:-8.3 - 10:-13.2 - 11:-9.1 - 12:-26.5 - 13:-15.3 - 14:-10.1 - 15:-14.5 - 16:-11.1 - 17:-15.2 - 18:-0.4 - 19:-9.8 - 20:-1.5 - 21:-1.5 - 22:-8.6 - 23:-11.4 - 24:-18.4 - 25:-11.5 - 26:-10.1 - 27:-3.8 - 28:-12.2 - 29:-4.1 - 30:-23.2 - 31:-3.2 - 32:-15.7 - 33:-9.3 - 34:-18.7 - 35:-7.9 - 36:-1.6 - 37:10.2 - 38:-8.9 - 39:-15.9 - 40:-2.1 - 41:-0.6 - 42:-1.5 - 43:-9.8 - 44:-4.0 - 45:-4.6 - 46:-9.1 - 47:-14.1 - 48:-18.5 - 49:-1.9 - 50:-2.3 - 51:-13.1 - 52:-5.9 - 53:-9.0 - 54:-28.3 - 55:-24.2 - 56:-5.0 - 57:-11.4 - 58:-4.2 - 59:-6.7 - 60:-6.2 - 61:-11.4 - 62:-8.4 - 63:-26.6 - 64:-4.3 - 65:-0.8 - 66:-2.5 - 67:-1.1\n",
      "---\n",
      "0\n"
     ]
    },
    {
     "data": {
      "text/html": [
       "<span class=\"barcode\"; style=\"color: black; background-color: #f6fcf4\">&nbspCARCINOMA&nbsp</span><span class=\"barcode\"; style=\"color: black; background-color: #f0f9ec\">&nbspBASOCELLULARE&nbsp</span><span class=\"barcode\"; style=\"color: black; background-color: #eff9ec\">&nbsp.&nbsp</span><span class=\"barcode\"; style=\"color: black; background-color: #f4fbf1\">&nbspLA&nbsp</span><span class=\"barcode\"; style=\"color: black; background-color: #f4fbf2\">&nbspLESIONE&nbsp</span><span class=\"barcode\"; style=\"color: black; background-color: #f5fbf2\">&nbspE&nbsp</span><span class=\"barcode\"; style=\"color: black; background-color: #f5fbf3\">&nbsp'&nbsp</span><span class=\"barcode\"; style=\"color: black; background-color: #f4fbf1\">&nbspPROSSIMA&nbsp</span><span class=\"barcode\"; style=\"color: black; background-color: #f5fbf3\">&nbspAL&nbsp</span><span class=\"barcode\"; style=\"color: black; background-color: #f6fcf4\">&nbspMARGINE&nbsp</span><span class=\"barcode\"; style=\"color: black; background-color: #f2faf0\">&nbspPROFONDO&nbsp</span><span class=\"barcode\"; style=\"color: black; background-color: #f4fbf2\">&nbspDELLE&nbsp</span><span class=\"barcode\"; style=\"color: black; background-color: #f2faef\">&nbspSEZIONI&nbsp</span><span class=\"barcode\"; style=\"color: black; background-color: #f3faf0\">&nbspISTOLOGICHE&nbsp</span><span class=\"barcode\"; style=\"color: black; background-color: #f7fcf5\">&nbsp(&nbsp</span><span class=\"barcode\"; style=\"color: black; background-color: #f0f9ec\">&nbspDISTANZA&nbsp</span><span class=\"barcode\"; style=\"color: black; background-color: #f2faef\">&nbspMINIMA&nbsp</span><span class=\"barcode\"; style=\"color: black; background-color: #f5fbf2\">&nbspMISURABILE&nbsp</span><span class=\"barcode\"; style=\"color: black; background-color: #f4fbf2\">&nbspMM&nbsp</span><span class=\"barcode\"; style=\"color: black; background-color: #f7fcf5\">&nbsp0&nbsp</span><span class=\"barcode\"; style=\"color: black; background-color: #f7fcf5\">&nbsp,&nbsp</span><span class=\"barcode\"; style=\"color: black; background-color: #f6fcf4\">&nbsp04&nbsp</span><span class=\"barcode\"; style=\"color: black; background-color: #f6fcf4\">&nbsp)&nbsp</span><span class=\"barcode\"; style=\"color: black; background-color: #f7fcf5\">&nbsp;&nbsp</span><span class=\"barcode\"; style=\"color: black; background-color: #f6fcf4\">&nbspNEGATIVI&nbsp</span><span class=\"barcode\"; style=\"color: black; background-color: #f6fcf4\">&nbspGLI&nbsp</span><span class=\"barcode\"; style=\"color: black; background-color: #f7fcf5\">&nbspALTRI&nbsp</span><span class=\"barcode\"; style=\"color: black; background-color: #f6fcf4\">&nbspMARGINI&nbsp</span><span class=\"barcode\"; style=\"color: black; background-color: #f6fcf4\">&nbsp.&nbsp</span><span class=\"barcode\"; style=\"color: black; background-color: #edf8e9\">&nbspBIOPSIA&nbsp</span><span class=\"barcode\"; style=\"color: black; background-color: #f4fbf1\">&nbspESCISSIONALE&nbsp</span><span class=\"barcode\"; style=\"color: black; background-color: #f5fbf2\">&nbspDI&nbsp</span><span class=\"barcode\"; style=\"color: black; background-color: #f4fbf2\">&nbspNEOFORMAZIONE&nbsp</span><span class=\"barcode\"; style=\"color: black; background-color: #ecf8e8\">&nbspCUTANEA&nbsp</span><span class=\"barcode\"; style=\"color: black; background-color: #f3faf0\">&nbspDEL&nbsp</span><span class=\"barcode\"; style=\"color: black; background-color: #e7f6e3\">&nbspVOLTO&nbsp</span><span class=\"barcode\"; style=\"color: black; background-color: #f7fcf5\">&nbsp,&nbsp</span><span class=\"barcode\"; style=\"color: black; background-color: #f6fcf4\">&nbspFRAMMENTO&nbsp</span><span class=\"barcode\"; style=\"color: black; background-color: #f3faf0\">&nbspCUTANEO&nbsp</span><span class=\"barcode\"; style=\"color: black; background-color: #f7fcf5\">&nbsp29&nbsp</span><span class=\"barcode\"; style=\"color: black; background-color: #f7fcf5\">&nbspX&nbsp</span><span class=\"barcode\"; style=\"color: black; background-color: #f7fcf5\">&nbsp14&nbsp</span><span class=\"barcode\"; style=\"color: black; background-color: #f7fcf5\">&nbspX&nbsp</span><span class=\"barcode\"; style=\"color: black; background-color: #f7fcf5\">&nbsp4&nbsp</span><span class=\"barcode\"; style=\"color: black; background-color: #f5fbf2\">&nbspMM&nbsp</span><span class=\"barcode\"; style=\"color: black; background-color: #f7fcf5\">&nbsp.&nbsp</span><span class=\"barcode\"; style=\"color: black; background-color: #f2faf0\">&nbspT&nbsp</span><span class=\"barcode\"; style=\"color: black; background-color: #f7fcf5\">&nbsp)&nbsp</span><span class=\"barcode\"; style=\"color: black; background-color: #f6fcf4\">&nbspNEOFORMAZIONE&nbsp</span><span class=\"barcode\"; style=\"color: black; background-color: #f6fcf4\">&nbspCON&nbsp</span><span class=\"barcode\"; style=\"color: black; background-color: #f7fcf5\">&nbspMARGINI&nbsp</span><span class=\"barcode\"; style=\"color: black; background-color: #f7fcf5\">&nbspTRASVERSALI&nbsp</span><span class=\"barcode\"; style=\"color: black; background-color: #f7fcf5\">&nbspE&nbsp</span><span class=\"barcode\"; style=\"color: black; background-color: #f6fcf4\">&nbspPROFONDO&nbsp</span><span class=\"barcode\"; style=\"color: black; background-color: #f7fcf5\">&nbsp;&nbsp</span><span class=\"barcode\"; style=\"color: black; background-color: #f7fcf5\">&nbspM&nbsp</span><span class=\"barcode\"; style=\"color: black; background-color: #f7fcf5\">&nbsp)&nbsp</span><span class=\"barcode\"; style=\"color: black; background-color: #f7fcf5\">&nbspMARGINI&nbsp</span><span class=\"barcode\"; style=\"color: black; background-color: #f7fcf5\">&nbspAPICALI&nbsp</span><span class=\"barcode\"; style=\"color: black; background-color: #f7fcf5\">&nbsp;&nbsp</span><span class=\"barcode\"; style=\"color: black; background-color: #f7fcf5\">&nbspMA&nbsp</span><span class=\"barcode\"; style=\"color: black; background-color: #f7fcf5\">&nbsp)&nbsp</span><span class=\"barcode\"; style=\"color: black; background-color: #f7fcf5\">&nbspMARGINE&nbsp</span><span class=\"barcode\"; style=\"color: black; background-color: #f7fcf5\">&nbspAPICALE&nbsp</span><span class=\"barcode\"; style=\"color: black; background-color: #f7fcf5\">&nbsp;&nbsp</span><span class=\"barcode\"; style=\"color: black; background-color: #f7fcf5\">&nbspMB&nbsp</span><span class=\"barcode\"; style=\"color: black; background-color: #f7fcf5\">&nbsp)&nbsp</span><span class=\"barcode\"; style=\"color: black; background-color: #f7fcf5\">&nbspMARGINE&nbsp</span><span class=\"barcode\"; style=\"color: black; background-color: #f7fcf5\">&nbspAPICALE&nbsp</span><span class=\"barcode\"; style=\"color: black; background-color: #f7fcf5\">&nbspCONTROLATERALE&nbsp</span><span class=\"barcode\"; style=\"color: black; background-color: #f7fcf5\">&nbsp.&nbsp</span><span class=\"barcode\"; style=\"color: black; background-color: #f7fcf5\">&nbsp(&nbsp</span><span class=\"barcode\"; style=\"color: black; background-color: #f7fcf5\">&nbspMARGINI&nbsp</span><span class=\"barcode\"; style=\"color: black; background-color: #f7fcf5\">&nbspMARCATI&nbsp</span><span class=\"barcode\"; style=\"color: black; background-color: #f7fcf5\">&nbspCON&nbsp</span><span class=\"barcode\"; style=\"color: black; background-color: #f7fcf5\">&nbspINCHIOSTRO&nbsp</span><span class=\"barcode\"; style=\"color: black; background-color: #f7fcf5\">&nbspDI&nbsp</span><span class=\"barcode\"; style=\"color: black; background-color: #f7fcf5\">&nbspCHINA&nbsp</span><span class=\"barcode\"; style=\"color: black; background-color: #f7fcf5\">&nbsp)&nbsp</span><span class=\"barcode\"; style=\"color: black; background-color: #f7fcf5\">&nbsp.&nbsp</span>"
      ],
      "text/plain": [
       "<IPython.core.display.HTML object>"
      ]
     },
     "metadata": {},
     "output_type": "display_data"
    },
    {
     "name": "stdout",
     "output_type": "stream",
     "text": [
      "======== doc:  26\n",
      "y: 37 (44-CUTE); yp: 37 (44-CUTE)\n",
      "0:-2.0 - 1:-9.2 - 2:-5.6 - 3:-9.3 - 4:-13.1 - 5:-6.8 - 6:-1.5 - 7:-2.6 - 8:-9.8 - 9:-6.9 - 10:-10.4 - 11:-7.3 - 12:-22.1 - 13:-12.3 - 14:-8.0 - 15:-11.8 - 16:-9.0 - 17:-13.8 - 18:-0.1 - 19:-9.4 - 20:-1.3 - 21:-2.1 - 22:-8.1 - 23:-11.3 - 24:-17.1 - 25:-10.9 - 26:-9.4 - 27:-3.4 - 28:-10.2 - 29:-2.4 - 30:-19.0 - 31:-2.7 - 32:-16.5 - 33:-8.9 - 34:-20.8 - 35:-9.3 - 36:-2.6 - 37:9.2 - 38:-10.7 - 39:-15.8 - 40:-3.1 - 41:-0.8 - 42:-0.6 - 43:-9.5 - 44:-4.6 - 45:-5.4 - 46:-10.2 - 47:-14.9 - 48:-17.4 - 49:-2.3 - 50:-2.6 - 51:-14.6 - 52:-7.9 - 53:-7.6 - 54:-24.6 - 55:-21.4 - 56:-3.9 - 57:-10.0 - 58:-4.2 - 59:-7.9 - 60:-6.1 - 61:-11.2 - 62:-7.6 - 63:-26.2 - 64:-6.6 - 65:-1.8 - 66:-4.3 - 67:-2.0\n",
      "---\n",
      "0\n"
     ]
    },
    {
     "data": {
      "text/html": [
       "<span class=\"barcode\"; style=\"color: black; background-color: #f6fcf4\">&nbspLESIONE&nbsp</span><span class=\"barcode\"; style=\"color: black; background-color: #e5f5e0\">&nbspNODULARE&nbsp</span><span class=\"barcode\"; style=\"color: black; background-color: #f7fcf5\">&nbsp,&nbsp</span><span class=\"barcode\"; style=\"color: black; background-color: #f6fcf4\">&nbspPARZIALMENTE&nbsp</span><span class=\"barcode\"; style=\"color: black; background-color: #f4fbf2\">&nbspCOPERTA&nbsp</span><span class=\"barcode\"; style=\"color: black; background-color: #f6fcf4\">&nbspDA&nbsp</span><span class=\"barcode\"; style=\"color: black; background-color: #eef8ea\">&nbspCROSTA&nbsp</span><span class=\"barcode\"; style=\"color: black; background-color: #f1faee\">&nbspEMATICA&nbsp</span><span class=\"barcode\"; style=\"color: black; background-color: #f5fbf2\">&nbsp.&nbsp</span><span class=\"barcode\"; style=\"color: black; background-color: #f6fcf4\">&nbspO&nbsp</span><span class=\"barcode\"; style=\"color: black; background-color: #f4fbf2\">&nbsp.&nbsp</span><span class=\"barcode\"; style=\"color: black; background-color: #f5fbf3\">&nbspD&nbsp</span><span class=\"barcode\"; style=\"color: black; background-color: #f4fbf2\">&nbsp.&nbsp</span><span class=\"barcode\"; style=\"color: black; background-color: #f7fcf5\">&nbsp:&nbsp</span><span class=\"barcode\"; style=\"color: black; background-color: #f5fbf3\">&nbspCARCINOMA&nbsp</span><span class=\"barcode\"; style=\"color: black; background-color: #f0f9ed\">&nbspBASOCELLULARE&nbsp</span><span class=\"barcode\"; style=\"color: black; background-color: #f3faf0\">&nbsp.&nbsp</span><span class=\"barcode\"; style=\"color: black; background-color: #f2faf0\">&nbspCARCINOMA&nbsp</span><span class=\"barcode\"; style=\"color: black; background-color: #f5fbf3\">&nbspA&nbsp</span><span class=\"barcode\"; style=\"color: black; background-color: #f4fbf1\">&nbspCELLULE&nbsp</span><span class=\"barcode\"; style=\"color: black; background-color: #d5efcf\">&nbspBASALI&nbsp</span><span class=\"barcode\"; style=\"color: black; background-color: #f2faef\">&nbsp.&nbsp</span><span class=\"barcode\"; style=\"color: black; background-color: #f5fbf2\">&nbspLA&nbsp</span><span class=\"barcode\"; style=\"color: black; background-color: #f6fcf4\">&nbspPROLIFERAZIONE&nbsp</span><span class=\"barcode\"; style=\"color: black; background-color: #f5fbf3\">&nbspNEOPLASTICA&nbsp</span><span class=\"barcode\"; style=\"color: black; background-color: #f6fcf4\">&nbspE&nbsp</span><span class=\"barcode\"; style=\"color: black; background-color: #f6fcf4\">&nbsp'&nbsp</span><span class=\"barcode\"; style=\"color: black; background-color: #f5fbf2\">&nbspCONTENUTA&nbsp</span><span class=\"barcode\"; style=\"color: black; background-color: #f6fcf4\">&nbspENTRO&nbsp</span><span class=\"barcode\"; style=\"color: black; background-color: #f7fcf5\">&nbspI&nbsp</span><span class=\"barcode\"; style=\"color: black; background-color: #f6fcf4\">&nbspMARGINI&nbsp</span><span class=\"barcode\"; style=\"color: black; background-color: #f3faf0\">&nbspDEL&nbsp</span><span class=\"barcode\"; style=\"color: black; background-color: #f2faf0\">&nbspFRAMMENTO&nbsp</span><span class=\"barcode\"; style=\"color: black; background-color: #f5fbf2\">&nbsp.&nbsp</span><span class=\"barcode\"; style=\"color: black; background-color: #f4fbf2\">&nbspFRAMMENTO&nbsp</span><span class=\"barcode\"; style=\"color: black; background-color: #f4fbf2\">&nbspCUTANEO&nbsp</span><span class=\"barcode\"; style=\"color: black; background-color: #f6fcf4\">&nbspDI&nbsp</span><span class=\"barcode\"; style=\"color: black; background-color: #f7fcf5\">&nbspCM&nbsp</span><span class=\"barcode\"; style=\"color: black; background-color: #f7fcf5\">&nbsp1&nbsp</span><span class=\"barcode\"; style=\"color: black; background-color: #f7fcf5\">&nbsp,&nbsp</span><span class=\"barcode\"; style=\"color: black; background-color: #f7fcf5\">&nbsp6&nbsp</span><span class=\"barcode\"; style=\"color: black; background-color: #f7fcf5\">&nbspX&nbsp</span><span class=\"barcode\"; style=\"color: black; background-color: #f7fcf5\">&nbsp1&nbsp</span><span class=\"barcode\"; style=\"color: black; background-color: #f6fcf4\">&nbspCON&nbsp</span><span class=\"barcode\"; style=\"color: black; background-color: #f6fcf4\">&nbspLESIONE&nbsp</span><span class=\"barcode\"; style=\"color: black; background-color: #f6fcf4\">&nbspDISCROMICA&nbsp</span><span class=\"barcode\"; style=\"color: black; background-color: #f7fcf5\">&nbspDI&nbsp</span><span class=\"barcode\"; style=\"color: black; background-color: #f7fcf5\">&nbspCM&nbsp</span><span class=\"barcode\"; style=\"color: black; background-color: #f7fcf5\">&nbsp1&nbsp</span><span class=\"barcode\"; style=\"color: black; background-color: #f7fcf5\">&nbsp,&nbsp</span><span class=\"barcode\"; style=\"color: black; background-color: #f7fcf5\">&nbsp1&nbsp</span><span class=\"barcode\"; style=\"color: black; background-color: #f7fcf5\">&nbspX&nbsp</span><span class=\"barcode\"; style=\"color: black; background-color: #f7fcf5\">&nbsp0&nbsp</span><span class=\"barcode\"; style=\"color: black; background-color: #f7fcf5\">&nbsp,&nbsp</span><span class=\"barcode\"; style=\"color: black; background-color: #f7fcf5\">&nbsp9&nbsp</span><span class=\"barcode\"; style=\"color: black; background-color: #f7fcf5\">&nbsp.&nbsp</span><span class=\"barcode\"; style=\"color: black; background-color: #f7fcf5\">&nbsp1&nbsp</span><span class=\"barcode\"; style=\"color: black; background-color: #f7fcf5\">&nbsp-&nbsp</span><span class=\"barcode\"; style=\"color: black; background-color: #f7fcf5\">&nbsp3&nbsp</span><span class=\"barcode\"; style=\"color: black; background-color: #f7fcf5\">&nbsp)&nbsp</span><span class=\"barcode\"; style=\"color: black; background-color: #f7fcf5\">&nbspSEZIONI&nbsp</span><span class=\"barcode\"; style=\"color: black; background-color: #f7fcf5\">&nbspA&nbsp</span><span class=\"barcode\"; style=\"color: black; background-color: #f6fcf4\">&nbspCROCE&nbsp</span><span class=\"barcode\"; style=\"color: black; background-color: #f7fcf5\">&nbsp(&nbsp</span><span class=\"barcode\"; style=\"color: black; background-color: #f7fcf5\">&nbspMARGINI&nbsp</span><span class=\"barcode\"; style=\"color: black; background-color: #f7fcf5\">&nbspMARCATI&nbsp</span><span class=\"barcode\"; style=\"color: black; background-color: #f7fcf5\">&nbspCON&nbsp</span><span class=\"barcode\"; style=\"color: black; background-color: #f7fcf5\">&nbspINCHIOSTRO&nbsp</span><span class=\"barcode\"; style=\"color: black; background-color: #f7fcf5\">&nbsp)&nbsp</span><span class=\"barcode\"; style=\"color: black; background-color: #f7fcf5\">&nbsp.&nbsp</span>"
      ],
      "text/plain": [
       "<IPython.core.display.HTML object>"
      ]
     },
     "metadata": {},
     "output_type": "display_data"
    },
    {
     "name": "stdout",
     "output_type": "stream",
     "text": [
      "======== doc:  27\n",
      "y: 50 (61-PROSTATA); yp: 50 (61-PROSTATA)\n",
      "0:-18.1 - 1:-11.6 - 2:-12.1 - 3:-24.0 - 4:-19.2 - 5:-10.6 - 6:-12.9 - 7:-10.6 - 8:-13.0 - 9:-8.4 - 10:-12.9 - 11:-18.0 - 12:-13.1 - 13:-13.4 - 14:-11.0 - 15:-14.5 - 16:-9.9 - 17:-16.5 - 18:-3.5 - 19:-7.6 - 20:-9.0 - 21:-14.5 - 22:-7.3 - 23:-1.1 - 24:-8.3 - 25:-8.6 - 26:-12.3 - 27:-12.6 - 28:-18.8 - 29:-6.0 - 30:-9.6 - 31:-1.1 - 32:-17.9 - 33:-13.4 - 34:-33.6 - 35:-28.3 - 36:-5.3 - 37:-0.2 - 38:-23.2 - 39:-14.5 - 40:-9.4 - 41:-9.8 - 42:-12.7 - 43:-18.4 - 44:-6.2 - 45:-2.3 - 46:-9.9 - 47:-9.9 - 48:-14.1 - 49:-13.5 - 50:8.2 - 51:-11.4 - 52:-24.4 - 53:-2.4 - 54:-19.3 - 55:-13.6 - 56:-2.0 - 57:-4.0 - 58:-14.5 - 59:-5.5 - 60:-12.7 - 61:-17.7 - 62:-5.1 - 63:-15.9 - 64:-7.3 - 65:-11.8 - 66:-6.4 - 67:-5.5\n",
      "---\n",
      "0\n"
     ]
    },
    {
     "data": {
      "text/html": [
       "<span class=\"barcode\"; style=\"color: black; background-color: #f7fcf5\">&nbspNON&nbsp</span><span class=\"barcode\"; style=\"color: black; background-color: #f7fcf5\">&nbspFOCALITA&nbsp</span><span class=\"barcode\"; style=\"color: black; background-color: #f7fcf5\">&nbsp'&nbsp</span><span class=\"barcode\"; style=\"color: black; background-color: #f7fcf5\">&nbsp,&nbsp</span><span class=\"barcode\"; style=\"color: black; background-color: #f7fcf5\">&nbspDISOMOGENEITA&nbsp</span><span class=\"barcode\"; style=\"color: black; background-color: #f7fcf5\">&nbsp'&nbsp</span><span class=\"barcode\"; style=\"color: black; background-color: #f7fcf5\">&nbspDIFFUSE&nbsp</span><span class=\"barcode\"; style=\"color: black; background-color: #f7fcf5\">&nbsp.&nbsp</span><span class=\"barcode\"; style=\"color: black; background-color: #f6fcf4\">&nbspPSA&nbsp</span><span class=\"barcode\"; style=\"color: black; background-color: #f7fcf5\">&nbspTOT&nbsp</span><span class=\"barcode\"; style=\"color: black; background-color: #f7fcf5\">&nbsp:&nbsp</span><span class=\"barcode\"; style=\"color: black; background-color: #f7fcf5\">&nbsp19&nbsp</span><span class=\"barcode\"; style=\"color: black; background-color: #f7fcf5\">&nbsp,&nbsp</span><span class=\"barcode\"; style=\"color: black; background-color: #f7fcf5\">&nbsp54&nbsp</span><span class=\"barcode\"; style=\"color: black; background-color: #f7fcf5\">&nbspNG&nbsp</span><span class=\"barcode\"; style=\"color: black; background-color: #f7fcf5\">&nbsp;&nbsp</span><span class=\"barcode\"; style=\"color: black; background-color: #f7fcf5\">&nbspFREE&nbsp</span><span class=\"barcode\"; style=\"color: black; background-color: #f7fcf5\">&nbsp:&nbsp</span><span class=\"barcode\"; style=\"color: black; background-color: #f7fcf5\">&nbsp1&nbsp</span><span class=\"barcode\"; style=\"color: black; background-color: #f7fcf5\">&nbsp,&nbsp</span><span class=\"barcode\"; style=\"color: black; background-color: #f7fcf5\">&nbsp31&nbsp</span><span class=\"barcode\"; style=\"color: black; background-color: #f7fcf5\">&nbspNG&nbsp</span><span class=\"barcode\"; style=\"color: black; background-color: #f7fcf5\">&nbsp/&nbsp</span><span class=\"barcode\"; style=\"color: black; background-color: #f7fcf5\">&nbspML&nbsp</span><span class=\"barcode\"; style=\"color: black; background-color: #f7fcf5\">&nbsp.&nbsp</span><span class=\"barcode\"; style=\"color: black; background-color: #f7fcf5\">&nbspRAPP&nbsp</span><span class=\"barcode\"; style=\"color: black; background-color: #f7fcf5\">&nbsp:&nbsp</span><span class=\"barcode\"; style=\"color: black; background-color: #f7fcf5\">&nbsp0&nbsp</span><span class=\"barcode\"; style=\"color: black; background-color: #f7fcf5\">&nbsp,&nbsp</span><span class=\"barcode\"; style=\"color: black; background-color: #f7fcf5\">&nbsp07&nbsp</span><span class=\"barcode\"; style=\"color: black; background-color: #f7fcf5\">&nbsp%&nbsp</span><span class=\"barcode\"; style=\"color: black; background-color: #f7fcf5\">&nbsp.&nbsp</span><span class=\"barcode\"; style=\"color: black; background-color: #f6fcf4\">&nbspADENOCARCINOMA&nbsp</span><span class=\"barcode\"; style=\"color: black; background-color: #004d1f\">&nbspPROSTATICO&nbsp</span><span class=\"barcode\"; style=\"color: black; background-color: #f7fcf5\">&nbspA&nbsp</span><span class=\"barcode\"; style=\"color: black; background-color: #f7fcf5\">&nbspMEDIO&nbsp</span><span class=\"barcode\"; style=\"color: black; background-color: #f7fcf5\">&nbspGRADO&nbsp</span><span class=\"barcode\"; style=\"color: black; background-color: #f7fcf5\">&nbspDI&nbsp</span><span class=\"barcode\"; style=\"color: black; background-color: #f7fcf5\">&nbspDIFFERENZIAZIONE&nbsp</span><span class=\"barcode\"; style=\"color: black; background-color: #f7fcf5\">&nbsp(&nbsp</span><span class=\"barcode\"; style=\"color: black; background-color: #f5fbf3\">&nbspGLEASON&nbsp</span><span class=\"barcode\"; style=\"color: black; background-color: #f7fcf5\">&nbsp3&nbsp</span><span class=\"barcode\"; style=\"color: black; background-color: #f7fcf5\">&nbsp+&nbsp</span><span class=\"barcode\"; style=\"color: black; background-color: #f7fcf5\">&nbsp3&nbsp</span><span class=\"barcode\"; style=\"color: black; background-color: #f7fcf5\">&nbsp)&nbsp</span><span class=\"barcode\"; style=\"color: black; background-color: #f7fcf5\">&nbspCOINVOLGENTE&nbsp</span><span class=\"barcode\"; style=\"color: black; background-color: #f7fcf5\">&nbspFOCALMENTE&nbsp</span><span class=\"barcode\"; style=\"color: black; background-color: #f7fcf5\">&nbspI&nbsp</span><span class=\"barcode\"; style=\"color: black; background-color: #f7fcf5\">&nbspPRELIEVI&nbsp</span><span class=\"barcode\"; style=\"color: black; background-color: #f7fcf5\">&nbspDI&nbsp</span><span class=\"barcode\"; style=\"color: black; background-color: #f7fcf5\">&nbspCUI&nbsp</span><span class=\"barcode\"; style=\"color: black; background-color: #f7fcf5\">&nbspAI&nbsp</span><span class=\"barcode\"; style=\"color: black; background-color: #f7fcf5\">&nbspNN&nbsp</span><span class=\"barcode\"; style=\"color: black; background-color: #f7fcf5\">&nbsp1&nbsp</span><span class=\"barcode\"; style=\"color: black; background-color: #f7fcf5\">&nbspE&nbsp</span><span class=\"barcode\"; style=\"color: black; background-color: #f7fcf5\">&nbsp7&nbsp</span><span class=\"barcode\"; style=\"color: black; background-color: #f7fcf5\">&nbsp.&nbsp</span><span class=\"barcode\"; style=\"color: black; background-color: #f7fcf5\">&nbspAGOBIOPSIA&nbsp</span><span class=\"barcode\"; style=\"color: black; background-color: #f7fcf5\">&nbspDELLA&nbsp</span><span class=\"barcode\"; style=\"color: black; background-color: #f7fcf5\">&nbspPROSTATA&nbsp</span><span class=\"barcode\"; style=\"color: black; background-color: #f7fcf5\">&nbsp:&nbsp</span><span class=\"barcode\"; style=\"color: black; background-color: #f7fcf5\">&nbsp1&nbsp</span><span class=\"barcode\"; style=\"color: black; background-color: #f7fcf5\">&nbsp)&nbsp</span><span class=\"barcode\"; style=\"color: black; background-color: #f7fcf5\">&nbsp1&nbsp</span><span class=\"barcode\"; style=\"color: black; background-color: #f7fcf5\">&nbspPRELIEVO&nbsp</span><span class=\"barcode\"; style=\"color: black; background-color: #f7fcf5\">&nbspLL&nbsp</span><span class=\"barcode\"; style=\"color: black; background-color: #f7fcf5\">&nbspDX&nbsp</span><span class=\"barcode\"; style=\"color: black; background-color: #f7fcf5\">&nbsp.&nbsp</span><span class=\"barcode\"; style=\"color: black; background-color: #f7fcf5\">&nbsp2&nbsp</span><span class=\"barcode\"; style=\"color: black; background-color: #f7fcf5\">&nbsp)&nbsp</span><span class=\"barcode\"; style=\"color: black; background-color: #f7fcf5\">&nbsp1&nbsp</span><span class=\"barcode\"; style=\"color: black; background-color: #f7fcf5\">&nbspPRELIEVO&nbsp</span><span class=\"barcode\"; style=\"color: black; background-color: #f7fcf5\">&nbspML&nbsp</span><span class=\"barcode\"; style=\"color: black; background-color: #f7fcf5\">&nbspDX&nbsp</span><span class=\"barcode\"; style=\"color: black; background-color: #f7fcf5\">&nbsp.&nbsp</span><span class=\"barcode\"; style=\"color: black; background-color: #f7fcf5\">&nbsp3&nbsp</span><span class=\"barcode\"; style=\"color: black; background-color: #f7fcf5\">&nbsp)&nbsp</span><span class=\"barcode\"; style=\"color: black; background-color: #f7fcf5\">&nbsp1&nbsp</span><span class=\"barcode\"; style=\"color: black; background-color: #f7fcf5\">&nbspPRELIEVO&nbsp</span><span class=\"barcode\"; style=\"color: black; background-color: #f7fcf5\">&nbspM&nbsp</span><span class=\"barcode\"; style=\"color: black; background-color: #f7fcf5\">&nbspDX&nbsp</span><span class=\"barcode\"; style=\"color: black; background-color: #f7fcf5\">&nbsp.&nbsp</span><span class=\"barcode\"; style=\"color: black; background-color: #f7fcf5\">&nbsp4&nbsp</span><span class=\"barcode\"; style=\"color: black; background-color: #f7fcf5\">&nbsp)&nbsp</span><span class=\"barcode\"; style=\"color: black; background-color: #f7fcf5\">&nbsp1&nbsp</span><span class=\"barcode\"; style=\"color: black; background-color: #f7fcf5\">&nbspPRELIEVO&nbsp</span><span class=\"barcode\"; style=\"color: black; background-color: #f7fcf5\">&nbspM&nbsp</span><span class=\"barcode\"; style=\"color: black; background-color: #f7fcf5\">&nbspSX&nbsp</span><span class=\"barcode\"; style=\"color: black; background-color: #f7fcf5\">&nbsp.&nbsp</span><span class=\"barcode\"; style=\"color: black; background-color: #f7fcf5\">&nbsp5&nbsp</span><span class=\"barcode\"; style=\"color: black; background-color: #f7fcf5\">&nbsp)&nbsp</span><span class=\"barcode\"; style=\"color: black; background-color: #f7fcf5\">&nbsp1&nbsp</span><span class=\"barcode\"; style=\"color: black; background-color: #f7fcf5\">&nbspPRELIEVO&nbsp</span><span class=\"barcode\"; style=\"color: black; background-color: #f7fcf5\">&nbspML&nbsp</span><span class=\"barcode\"; style=\"color: black; background-color: #f7fcf5\">&nbspSX&nbsp</span><span class=\"barcode\"; style=\"color: black; background-color: #f7fcf5\">&nbsp.&nbsp</span><span class=\"barcode\"; style=\"color: black; background-color: #f7fcf5\">&nbsp6&nbsp</span><span class=\"barcode\"; style=\"color: black; background-color: #f7fcf5\">&nbsp)&nbsp</span><span class=\"barcode\"; style=\"color: black; background-color: #f7fcf5\">&nbsp1&nbsp</span><span class=\"barcode\"; style=\"color: black; background-color: #f7fcf5\">&nbspPRELIEVO&nbsp</span>"
      ],
      "text/plain": [
       "<IPython.core.display.HTML object>"
      ]
     },
     "metadata": {},
     "output_type": "display_data"
    },
    {
     "name": "stdout",
     "output_type": "stream",
     "text": [
      "======== doc:  28\n",
      "y: 50 (61-PROSTATA); yp: 50 (61-PROSTATA)\n",
      "0:-24.1 - 1:-13.6 - 2:-14.3 - 3:-28.8 - 4:-23.1 - 5:-11.0 - 6:-16.0 - 7:-12.2 - 8:-15.2 - 9:-10.0 - 10:-14.8 - 11:-20.2 - 12:-19.5 - 13:-17.1 - 14:-13.8 - 15:-18.0 - 16:-11.3 - 17:-18.5 - 18:-2.6 - 19:-8.4 - 20:-10.2 - 21:-17.2 - 22:-8.1 - 23:-1.8 - 24:-10.2 - 25:-10.0 - 26:-12.5 - 27:-15.6 - 28:-22.2 - 29:-9.3 - 30:-11.6 - 31:-2.3 - 32:-19.4 - 33:-14.7 - 34:-39.1 - 35:-33.3 - 36:-3.9 - 37:-1.3 - 38:-27.5 - 39:-15.8 - 40:-10.9 - 41:-10.2 - 42:-16.4 - 43:-21.8 - 44:-9.0 - 45:-2.9 - 46:-12.7 - 47:-11.6 - 48:-15.6 - 49:-18.1 - 50:8.8 - 51:-13.7 - 52:-29.9 - 53:-1.7 - 54:-20.6 - 55:-14.8 - 56:-2.2 - 57:-4.6 - 58:-17.6 - 59:-5.6 - 60:-13.2 - 61:-18.8 - 62:-4.6 - 63:-15.1 - 64:-7.3 - 65:-14.0 - 66:-7.8 - 67:-6.0\n",
      "---\n",
      "0\n"
     ]
    },
    {
     "data": {
      "text/html": [
       "<span class=\"barcode\"; style=\"color: black; background-color: #f7fcf5\">&nbspPSA&nbsp</span><span class=\"barcode\"; style=\"color: black; background-color: #f7fcf5\">&nbsp15&nbsp</span><span class=\"barcode\"; style=\"color: black; background-color: #f7fcf5\">&nbsp.&nbsp</span><span class=\"barcode\"; style=\"color: black; background-color: #f7fcf5\">&nbspSOSPETTA&nbsp</span><span class=\"barcode\"; style=\"color: black; background-color: #f7fcf5\">&nbspNEOPLASIA&nbsp</span><span class=\"barcode\"; style=\"color: black; background-color: #f6fcf4\">&nbspPROSTATICA&nbsp</span><span class=\"barcode\"; style=\"color: black; background-color: #f7fcf5\">&nbspSU&nbsp</span><span class=\"barcode\"; style=\"color: black; background-color: #f7fcf5\">&nbspBASE&nbsp</span><span class=\"barcode\"; style=\"color: black; background-color: #f7fcf5\">&nbsp:&nbsp</span><span class=\"barcode\"; style=\"color: black; background-color: #f7fcf5\">&nbspCLINICA&nbsp</span><span class=\"barcode\"; style=\"color: black; background-color: #f7fcf5\">&nbsp,&nbsp</span><span class=\"barcode\"; style=\"color: black; background-color: #f7fcf5\">&nbspECOGRAFICA&nbsp</span><span class=\"barcode\"; style=\"color: black; background-color: #f7fcf5\">&nbspA&nbsp</span><span class=\"barcode\"; style=\"color: black; background-color: #f7fcf5\">&nbspDX&nbsp</span><span class=\"barcode\"; style=\"color: black; background-color: #f7fcf5\">&nbsp.&nbsp</span><span class=\"barcode\"; style=\"color: black; background-color: #f4fbf2\">&nbspADENOCARCINOMA&nbsp</span><span class=\"barcode\"; style=\"color: black; background-color: #004d1f\">&nbspPROSTATICO&nbsp</span><span class=\"barcode\"; style=\"color: black; background-color: #f7fcf5\">&nbspA&nbsp</span><span class=\"barcode\"; style=\"color: black; background-color: #f7fcf5\">&nbspGRADO&nbsp</span><span class=\"barcode\"; style=\"color: black; background-color: #f7fcf5\">&nbspDI&nbsp</span><span class=\"barcode\"; style=\"color: black; background-color: #f7fcf5\">&nbspDIFFERENZIAZIONE&nbsp</span><span class=\"barcode\"; style=\"color: black; background-color: #f7fcf5\">&nbspMEDIO&nbsp</span><span class=\"barcode\"; style=\"color: black; background-color: #f7fcf5\">&nbsp-&nbsp</span><span class=\"barcode\"; style=\"color: black; background-color: #f7fcf5\">&nbspBASSO&nbsp</span><span class=\"barcode\"; style=\"color: black; background-color: #f7fcf5\">&nbsp(&nbsp</span><span class=\"barcode\"; style=\"color: black; background-color: #f7fcf5\">&nbspGLEASON&nbsp</span><span class=\"barcode\"; style=\"color: black; background-color: #f7fcf5\">&nbsp3&nbsp</span><span class=\"barcode\"; style=\"color: black; background-color: #f7fcf5\">&nbsp+&nbsp</span><span class=\"barcode\"; style=\"color: black; background-color: #f7fcf5\">&nbsp4&nbsp</span><span class=\"barcode\"; style=\"color: black; background-color: #f7fcf5\">&nbsp)&nbsp</span><span class=\"barcode\"; style=\"color: black; background-color: #f7fcf5\">&nbspIN&nbsp</span><span class=\"barcode\"; style=\"color: black; background-color: #f7fcf5\">&nbspTUTTI&nbsp</span><span class=\"barcode\"; style=\"color: black; background-color: #f7fcf5\">&nbspI&nbsp</span><span class=\"barcode\"; style=\"color: black; background-color: #f7fcf5\">&nbspFRUSTOLI&nbsp</span><span class=\"barcode\"; style=\"color: black; background-color: #f7fcf5\">&nbspINVIATI&nbsp</span><span class=\"barcode\"; style=\"color: black; background-color: #f7fcf5\">&nbsp(&nbsp</span><span class=\"barcode\"; style=\"color: black; background-color: #f7fcf5\">&nbspNN&nbsp</span><span class=\"barcode\"; style=\"color: black; background-color: #f7fcf5\">&nbsp.&nbsp</span><span class=\"barcode\"; style=\"color: black; background-color: #f7fcf5\">&nbsp1&nbsp</span><span class=\"barcode\"; style=\"color: black; background-color: #f7fcf5\">&nbsp-&nbsp</span><span class=\"barcode\"; style=\"color: black; background-color: #f7fcf5\">&nbsp2&nbsp</span><span class=\"barcode\"; style=\"color: black; background-color: #f7fcf5\">&nbsp)&nbsp</span><span class=\"barcode\"; style=\"color: black; background-color: #f7fcf5\">&nbsp.&nbsp</span>"
      ],
      "text/plain": [
       "<IPython.core.display.HTML object>"
      ]
     },
     "metadata": {},
     "output_type": "display_data"
    },
    {
     "name": "stdout",
     "output_type": "stream",
     "text": [
      "======== doc:  29\n",
      "y: 37 (44-CUTE); yp: 37 (44-CUTE)\n",
      "0:-3.2 - 1:-12.4 - 2:-9.9 - 3:-9.9 - 4:-14.8 - 5:-8.5 - 6:-2.7 - 7:-2.7 - 8:-9.9 - 9:-7.9 - 10:-13.8 - 11:-8.8 - 12:-26.4 - 13:-15.9 - 14:-9.8 - 15:-15.7 - 16:-10.5 - 17:-14.2 - 18:0.2 - 19:-10.4 - 20:-2.9 - 21:-2.5 - 22:-8.4 - 23:-10.7 - 24:-18.7 - 25:-10.8 - 26:-10.1 - 27:-3.1 - 28:-11.6 - 29:-4.4 - 30:-22.4 - 31:-2.8 - 32:-14.2 - 33:-8.7 - 34:-19.9 - 35:-8.2 - 36:-1.2 - 37:10.0 - 38:-7.1 - 39:-14.5 - 40:-1.6 - 41:0.5 - 42:-2.4 - 43:-9.7 - 44:-5.3 - 45:-4.1 - 46:-9.1 - 47:-13.9 - 48:-18.0 - 49:-4.0 - 50:-1.9 - 51:-13.1 - 52:-6.7 - 53:-8.9 - 54:-29.0 - 55:-25.3 - 56:-5.3 - 57:-13.4 - 58:-3.4 - 59:-6.9 - 60:-6.6 - 61:-11.1 - 62:-7.5 - 63:-25.7 - 64:-3.0 - 65:-0.9 - 66:-2.2 - 67:-0.6\n",
      "---\n",
      "0\n"
     ]
    },
    {
     "data": {
      "text/html": [
       "<span class=\"barcode\"; style=\"color: black; background-color: #f6fcf4\">&nbspCARCINOMA&nbsp</span><span class=\"barcode\"; style=\"color: black; background-color: #f1faee\">&nbspBASOCELLULARE&nbsp</span><span class=\"barcode\"; style=\"color: black; background-color: #f5fbf2\">&nbspPIGMENTATO&nbsp</span><span class=\"barcode\"; style=\"color: black; background-color: #f7fcf5\">&nbsp;&nbsp</span><span class=\"barcode\"; style=\"color: black; background-color: #f5fbf2\">&nbspMARGINI&nbsp</span><span class=\"barcode\"; style=\"color: black; background-color: #f2faf0\">&nbspNEGATIVI&nbsp</span><span class=\"barcode\"; style=\"color: black; background-color: #f0f9ed\">&nbsp.&nbsp</span><span class=\"barcode\"; style=\"color: black; background-color: #f1faee\">&nbspA&nbsp</span><span class=\"barcode\"; style=\"color: black; background-color: #f4fbf2\">&nbsp)&nbsp</span><span class=\"barcode\"; style=\"color: black; background-color: #e5f5e1\">&nbspBIOPSIA&nbsp</span><span class=\"barcode\"; style=\"color: black; background-color: #ebf7e7\">&nbspESCISSIONALE&nbsp</span><span class=\"barcode\"; style=\"color: black; background-color: #f0f9ed\">&nbspDI&nbsp</span><span class=\"barcode\"; style=\"color: black; background-color: #f2faf0\">&nbspLESIONE&nbsp</span><span class=\"barcode\"; style=\"color: black; background-color: #d9f0d3\">&nbspCUTANEA&nbsp</span><span class=\"barcode\"; style=\"color: black; background-color: #f2faf0\">&nbspPIGMENTATA&nbsp</span><span class=\"barcode\"; style=\"color: black; background-color: #f6fcf4\">&nbspDELLA&nbsp</span><span class=\"barcode\"; style=\"color: black; background-color: #d6efd0\">&nbspSPALLA&nbsp</span><span class=\"barcode\"; style=\"color: black; background-color: #f5fbf3\">&nbspSINISTRA&nbsp</span><span class=\"barcode\"; style=\"color: black; background-color: #f7fcf5\">&nbsp,&nbsp</span><span class=\"barcode\"; style=\"color: black; background-color: #f7fcf5\">&nbspDIMENSIONI&nbsp</span><span class=\"barcode\"; style=\"color: black; background-color: #f7fcf5\">&nbsp5&nbsp</span><span class=\"barcode\"; style=\"color: black; background-color: #f7fcf5\">&nbspX&nbsp</span><span class=\"barcode\"; style=\"color: black; background-color: #f7fcf5\">&nbsp4&nbsp</span><span class=\"barcode\"; style=\"color: black; background-color: #f6fcf4\">&nbspMM&nbsp</span><span class=\"barcode\"; style=\"color: black; background-color: #f7fcf5\">&nbsp,&nbsp</span><span class=\"barcode\"; style=\"color: black; background-color: #f7fcf5\">&nbspIN&nbsp</span><span class=\"barcode\"; style=\"color: black; background-color: #f7fcf5\">&nbspFRAMMENTO&nbsp</span><span class=\"barcode\"; style=\"color: black; background-color: #f7fcf5\">&nbsp8&nbsp</span><span class=\"barcode\"; style=\"color: black; background-color: #f7fcf5\">&nbspX&nbsp</span><span class=\"barcode\"; style=\"color: black; background-color: #f7fcf5\">&nbsp6X&nbsp</span><span class=\"barcode\"; style=\"color: black; background-color: #f7fcf5\">&nbsp3&nbsp</span><span class=\"barcode\"; style=\"color: black; background-color: #f6fcf4\">&nbspMM&nbsp</span><span class=\"barcode\"; style=\"color: black; background-color: #f7fcf5\">&nbsp;&nbsp</span><span class=\"barcode\"; style=\"color: black; background-color: #f4fbf2\">&nbspDISTANZA&nbsp</span><span class=\"barcode\"; style=\"color: black; background-color: #f7fcf5\">&nbspMINIMA&nbsp</span><span class=\"barcode\"; style=\"color: black; background-color: #f7fcf5\">&nbspDAL&nbsp</span><span class=\"barcode\"; style=\"color: black; background-color: #f7fcf5\">&nbspMARGINE&nbsp</span><span class=\"barcode\"; style=\"color: black; background-color: #f7fcf5\">&nbsp0&nbsp</span><span class=\"barcode\"; style=\"color: black; background-color: #f7fcf5\">&nbspMM&nbsp</span><span class=\"barcode\"; style=\"color: black; background-color: #f7fcf5\">&nbsp.&nbsp</span>"
      ],
      "text/plain": [
       "<IPython.core.display.HTML object>"
      ]
     },
     "metadata": {},
     "output_type": "display_data"
    },
    {
     "name": "stdout",
     "output_type": "stream",
     "text": [
      "======== doc:  30\n",
      "y: 50 (61-PROSTATA); yp: 50 (61-PROSTATA)\n",
      "0:-19.8 - 1:-11.9 - 2:-12.4 - 3:-24.9 - 4:-20.3 - 5:-10.2 - 6:-13.0 - 7:-11.5 - 8:-14.6 - 9:-8.5 - 10:-12.8 - 11:-18.8 - 12:-14.6 - 13:-14.2 - 14:-11.8 - 15:-14.9 - 16:-10.5 - 17:-17.1 - 18:-3.2 - 19:-8.1 - 20:-9.9 - 21:-15.3 - 22:-8.1 - 23:-1.5 - 24:-9.2 - 25:-9.7 - 26:-12.8 - 27:-14.2 - 28:-20.3 - 29:-6.5 - 30:-9.9 - 31:-1.1 - 32:-19.1 - 33:-14.1 - 34:-36.0 - 35:-30.5 - 36:-4.9 - 37:-0.5 - 38:-25.0 - 39:-15.6 - 40:-10.0 - 41:-10.8 - 42:-14.2 - 43:-19.5 - 44:-6.9 - 45:-2.9 - 46:-11.4 - 47:-11.2 - 48:-15.5 - 49:-14.8 - 50:8.5 - 51:-12.9 - 52:-26.7 - 53:-2.0 - 54:-19.3 - 55:-14.1 - 56:-1.7 - 57:-4.2 - 58:-15.2 - 59:-6.0 - 60:-13.4 - 61:-18.7 - 62:-5.2 - 63:-16.1 - 64:-8.0 - 65:-12.7 - 66:-7.3 - 67:-6.1\n",
      "---\n",
      "0\n"
     ]
    },
    {
     "data": {
      "text/html": [
       "<span class=\"barcode\"; style=\"color: black; background-color: #f7fcf5\">&nbspADENOCARCINOMA&nbsp</span><span class=\"barcode\"; style=\"color: black; background-color: #006b2b\">&nbspPROSTATICO&nbsp</span><span class=\"barcode\"; style=\"color: black; background-color: #f7fcf5\">&nbspA&nbsp</span><span class=\"barcode\"; style=\"color: black; background-color: #f7fcf5\">&nbspMEDIO&nbsp</span><span class=\"barcode\"; style=\"color: black; background-color: #f7fcf5\">&nbspGRADO&nbsp</span><span class=\"barcode\"; style=\"color: black; background-color: #f7fcf5\">&nbspDI&nbsp</span><span class=\"barcode\"; style=\"color: black; background-color: #f7fcf5\">&nbspDIFFERENZIAZIONE&nbsp</span><span class=\"barcode\"; style=\"color: black; background-color: #f7fcf5\">&nbsp(&nbsp</span><span class=\"barcode\"; style=\"color: black; background-color: #e7f6e2\">&nbspGLEASON&nbsp</span><span class=\"barcode\"; style=\"color: black; background-color: #f7fcf5\">&nbsp3&nbsp</span><span class=\"barcode\"; style=\"color: black; background-color: #f7fcf5\">&nbsp+&nbsp</span><span class=\"barcode\"; style=\"color: black; background-color: #f7fcf5\">&nbsp3&nbsp</span><span class=\"barcode\"; style=\"color: black; background-color: #f7fcf5\">&nbsp)&nbsp</span><span class=\"barcode\"; style=\"color: black; background-color: #f7fcf5\">&nbspCOINVOLGENTE&nbsp</span><span class=\"barcode\"; style=\"color: black; background-color: #f7fcf5\">&nbspI&nbsp</span><span class=\"barcode\"; style=\"color: black; background-color: #f7fcf5\">&nbsp3&nbsp</span><span class=\"barcode\"; style=\"color: black; background-color: #f7fcf5\">&nbspFRAMMENTI&nbsp</span><span class=\"barcode\"; style=\"color: black; background-color: #f7fcf5\">&nbspPRELEVATI&nbsp</span><span class=\"barcode\"; style=\"color: black; background-color: #f7fcf5\">&nbspDAL&nbsp</span><span class=\"barcode\"; style=\"color: black; background-color: #f7fcf5\">&nbspLOBO&nbsp</span><span class=\"barcode\"; style=\"color: black; background-color: #f7fcf5\">&nbspDESTRO&nbsp</span><span class=\"barcode\"; style=\"color: black; background-color: #f7fcf5\">&nbsp(&nbsp</span><span class=\"barcode\"; style=\"color: black; background-color: #f7fcf5\">&nbsp25&nbsp</span><span class=\"barcode\"; style=\"color: black; background-color: #f7fcf5\">&nbsp%&nbsp</span><span class=\"barcode\"; style=\"color: black; background-color: #f7fcf5\">&nbspDEL&nbsp</span><span class=\"barcode\"; style=\"color: black; background-color: #f7fcf5\">&nbspTESSUTO&nbsp</span><span class=\"barcode\"; style=\"color: black; background-color: #f7fcf5\">&nbsp)&nbsp</span><span class=\"barcode\"; style=\"color: black; background-color: #f7fcf5\">&nbsp(&nbsp</span><span class=\"barcode\"; style=\"color: black; background-color: #f7fcf5\">&nbsp1&nbsp</span><span class=\"barcode\"; style=\"color: black; background-color: #f7fcf5\">&nbsp-&nbsp</span><span class=\"barcode\"; style=\"color: black; background-color: #f7fcf5\">&nbsp3&nbsp</span><span class=\"barcode\"; style=\"color: black; background-color: #f7fcf5\">&nbsp)&nbsp</span><span class=\"barcode\"; style=\"color: black; background-color: #f7fcf5\">&nbspE&nbsp</span><span class=\"barcode\"; style=\"color: black; background-color: #f7fcf5\">&nbsp2&nbsp</span><span class=\"barcode\"; style=\"color: black; background-color: #f7fcf5\">&nbspDEI&nbsp</span><span class=\"barcode\"; style=\"color: black; background-color: #f7fcf5\">&nbsp3&nbsp</span><span class=\"barcode\"; style=\"color: black; background-color: #f7fcf5\">&nbspPRELEVATI&nbsp</span><span class=\"barcode\"; style=\"color: black; background-color: #f7fcf5\">&nbspDAL&nbsp</span><span class=\"barcode\"; style=\"color: black; background-color: #f7fcf5\">&nbspLOBO&nbsp</span><span class=\"barcode\"; style=\"color: black; background-color: #f7fcf5\">&nbspSINISTRO&nbsp</span><span class=\"barcode\"; style=\"color: black; background-color: #f7fcf5\">&nbsp(&nbsp</span><span class=\"barcode\"; style=\"color: black; background-color: #f7fcf5\">&nbsp25&nbsp</span><span class=\"barcode\"; style=\"color: black; background-color: #f7fcf5\">&nbsp%&nbsp</span><span class=\"barcode\"; style=\"color: black; background-color: #f7fcf5\">&nbspDEL&nbsp</span><span class=\"barcode\"; style=\"color: black; background-color: #f7fcf5\">&nbspTESSUTO&nbsp</span><span class=\"barcode\"; style=\"color: black; background-color: #f7fcf5\">&nbsp)&nbsp</span><span class=\"barcode\"; style=\"color: black; background-color: #f7fcf5\">&nbsp(&nbsp</span><span class=\"barcode\"; style=\"color: black; background-color: #f7fcf5\">&nbsp4&nbsp</span><span class=\"barcode\"; style=\"color: black; background-color: #f7fcf5\">&nbsp-&nbsp</span><span class=\"barcode\"; style=\"color: black; background-color: #f7fcf5\">&nbsp6&nbsp</span><span class=\"barcode\"; style=\"color: black; background-color: #f7fcf5\">&nbsp)&nbsp</span><span class=\"barcode\"; style=\"color: black; background-color: #f7fcf5\">&nbsp.&nbsp</span><span class=\"barcode\"; style=\"color: black; background-color: #f7fcf5\">&nbspASSENZA&nbsp</span><span class=\"barcode\"; style=\"color: black; background-color: #f7fcf5\">&nbspDI&nbsp</span><span class=\"barcode\"; style=\"color: black; background-color: #f7fcf5\">&nbspEVIDENTE&nbsp</span><span class=\"barcode\"; style=\"color: black; background-color: #f7fcf5\">&nbspINVASIONE&nbsp</span><span class=\"barcode\"; style=\"color: black; background-color: #f7fcf5\">&nbspPERINEURALE&nbsp</span><span class=\"barcode\"; style=\"color: black; background-color: #f7fcf5\">&nbspO&nbsp</span><span class=\"barcode\"; style=\"color: black; background-color: #f7fcf5\">&nbspVASCOLARE&nbsp</span><span class=\"barcode\"; style=\"color: black; background-color: #f7fcf5\">&nbsp.&nbsp</span><span class=\"barcode\"; style=\"color: black; background-color: #f7fcf5\">&nbspPRELIEVI&nbsp</span><span class=\"barcode\"; style=\"color: black; background-color: #f7fcf5\">&nbspLOBO&nbsp</span><span class=\"barcode\"; style=\"color: black; background-color: #f7fcf5\">&nbspDX&nbsp</span><span class=\"barcode\"; style=\"color: black; background-color: #f7fcf5\">&nbsp:&nbsp</span><span class=\"barcode\"; style=\"color: black; background-color: #f7fcf5\">&nbsp1&nbsp</span><span class=\"barcode\"; style=\"color: black; background-color: #f7fcf5\">&nbsp)&nbsp</span><span class=\"barcode\"; style=\"color: black; background-color: #f7fcf5\">&nbspBASALE&nbsp</span><span class=\"barcode\"; style=\"color: black; background-color: #f7fcf5\">&nbspPOSTERO&nbsp</span><span class=\"barcode\"; style=\"color: black; background-color: #f7fcf5\">&nbsp-&nbsp</span><span class=\"barcode\"; style=\"color: black; background-color: #f7fcf5\">&nbspLATERALE&nbsp</span><span class=\"barcode\"; style=\"color: black; background-color: #f7fcf5\">&nbsp;&nbsp</span><span class=\"barcode\"; style=\"color: black; background-color: #f7fcf5\">&nbsp2&nbsp</span><span class=\"barcode\"; style=\"color: black; background-color: #f7fcf5\">&nbsp)&nbsp</span><span class=\"barcode\"; style=\"color: black; background-color: #f7fcf5\">&nbspMEDIO&nbsp</span><span class=\"barcode\"; style=\"color: black; background-color: #f7fcf5\">&nbsp-&nbsp</span><span class=\"barcode\"; style=\"color: black; background-color: #f7fcf5\">&nbspLOBARE&nbsp</span><span class=\"barcode\"; style=\"color: black; background-color: #f7fcf5\">&nbspLATERALE&nbsp</span><span class=\"barcode\"; style=\"color: black; background-color: #f7fcf5\">&nbsp;&nbsp</span><span class=\"barcode\"; style=\"color: black; background-color: #f7fcf5\">&nbsp3&nbsp</span><span class=\"barcode\"; style=\"color: black; background-color: #f7fcf5\">&nbsp)&nbsp</span><span class=\"barcode\"; style=\"color: black; background-color: #f7fcf5\">&nbspAPICE&nbsp</span><span class=\"barcode\"; style=\"color: black; background-color: #f7fcf5\">&nbsp.&nbsp</span><span class=\"barcode\"; style=\"color: black; background-color: #f7fcf5\">&nbspPRELIEVI&nbsp</span><span class=\"barcode\"; style=\"color: black; background-color: #f7fcf5\">&nbspLOBO&nbsp</span><span class=\"barcode\"; style=\"color: black; background-color: #f7fcf5\">&nbspSX&nbsp</span><span class=\"barcode\"; style=\"color: black; background-color: #f7fcf5\">&nbsp:&nbsp</span><span class=\"barcode\"; style=\"color: black; background-color: #f7fcf5\">&nbsp4&nbsp</span><span class=\"barcode\"; style=\"color: black; background-color: #f7fcf5\">&nbsp)&nbsp</span><span class=\"barcode\"; style=\"color: black; background-color: #f7fcf5\">&nbspBASALE&nbsp</span><span class=\"barcode\"; style=\"color: black; background-color: #f7fcf5\">&nbspPOSTERO&nbsp</span><span class=\"barcode\"; style=\"color: black; background-color: #f7fcf5\">&nbsp-&nbsp</span><span class=\"barcode\"; style=\"color: black; background-color: #f7fcf5\">&nbspLATERALE&nbsp</span><span class=\"barcode\"; style=\"color: black; background-color: #f7fcf5\">&nbsp;&nbsp</span><span class=\"barcode\"; style=\"color: black; background-color: #f7fcf5\">&nbsp5&nbsp</span><span class=\"barcode\"; style=\"color: black; background-color: #f7fcf5\">&nbsp)&nbsp</span><span class=\"barcode\"; style=\"color: black; background-color: #f7fcf5\">&nbspMEDIO&nbsp</span><span class=\"barcode\"; style=\"color: black; background-color: #f7fcf5\">&nbsp-&nbsp</span><span class=\"barcode\"; style=\"color: black; background-color: #f7fcf5\">&nbspLOBARE&nbsp</span><span class=\"barcode\"; style=\"color: black; background-color: #f7fcf5\">&nbspLATERALE&nbsp</span><span class=\"barcode\"; style=\"color: black; background-color: #f7fcf5\">&nbsp;&nbsp</span>"
      ],
      "text/plain": [
       "<IPython.core.display.HTML object>"
      ]
     },
     "metadata": {},
     "output_type": "display_data"
    },
    {
     "name": "stdout",
     "output_type": "stream",
     "text": [
      "======== doc:  31\n",
      "y: 37 (44-CUTE); yp: 37 (44-CUTE)\n",
      "0:-0.8 - 1:-8.5 - 2:-5.5 - 3:-9.0 - 4:-13.5 - 5:-6.1 - 6:-1.9 - 7:-3.0 - 8:-10.5 - 9:-7.4 - 10:-10.9 - 11:-7.8 - 12:-22.8 - 13:-12.7 - 14:-9.0 - 15:-10.9 - 16:-9.9 - 17:-12.9 - 18:-0.2 - 19:-8.7 - 20:-0.3 - 21:-1.4 - 22:-8.5 - 23:-11.9 - 24:-17.4 - 25:-11.8 - 26:-8.8 - 27:-3.3 - 28:-10.5 - 29:-2.4 - 30:-18.9 - 31:-3.2 - 32:-16.8 - 33:-10.0 - 34:-19.4 - 35:-8.5 - 36:-2.9 - 37:9.8 - 38:-11.6 - 39:-16.5 - 40:-2.6 - 41:-1.3 - 42:0.9 - 43:-9.4 - 44:-4.2 - 45:-6.2 - 46:-10.3 - 47:-15.7 - 48:-16.3 - 49:-1.0 - 50:-3.2 - 51:-15.6 - 52:-6.7 - 53:-7.4 - 54:-25.0 - 55:-21.4 - 56:-4.2 - 57:-10.0 - 58:-4.9 - 59:-9.0 - 60:-7.2 - 61:-12.8 - 62:-9.3 - 63:-27.8 - 64:-8.6 - 65:-1.7 - 66:-5.1 - 67:-1.8\n",
      "---\n",
      "0\n"
     ]
    },
    {
     "data": {
      "text/html": [
       "<span class=\"barcode\"; style=\"color: black; background-color: #f7fcf5\">&nbspCARCINOMA&nbsp</span><span class=\"barcode\"; style=\"color: black; background-color: #f6fcf4\">&nbspA&nbsp</span><span class=\"barcode\"; style=\"color: black; background-color: #f3faf0\">&nbspCELLULE&nbsp</span><span class=\"barcode\"; style=\"color: black; background-color: #4eb264\">&nbspBASALI&nbsp</span><span class=\"barcode\"; style=\"color: black; background-color: #f0f9ed\">&nbsp.&nbsp</span><span class=\"barcode\"; style=\"color: black; background-color: #f5fbf3\">&nbspLESIONE&nbsp</span><span class=\"barcode\"; style=\"color: black; background-color: #f7fcf5\">&nbspNON&nbsp</span><span class=\"barcode\"; style=\"color: black; background-color: #f2faef\">&nbspCOMPRESA&nbsp</span><span class=\"barcode\"; style=\"color: black; background-color: #eef8ea\">&nbspNEI&nbsp</span><span class=\"barcode\"; style=\"color: black; background-color: #f6fcf4\">&nbspMARGINI&nbsp</span><span class=\"barcode\"; style=\"color: black; background-color: #f0f9ed\">&nbspDI&nbsp</span><span class=\"barcode\"; style=\"color: black; background-color: #f5fbf3\">&nbspEXERESI&nbsp</span><span class=\"barcode\"; style=\"color: black; background-color: #f0f9ec\">&nbspCHIRURGICA&nbsp</span><span class=\"barcode\"; style=\"color: black; background-color: #f6fcf4\">&nbsp.&nbsp</span><span class=\"barcode\"; style=\"color: black; background-color: #f5fbf2\">&nbspLAMINA&nbsp</span><span class=\"barcode\"; style=\"color: black; background-color: #f0f9ed\">&nbspCUTANEA&nbsp</span><span class=\"barcode\"; style=\"color: black; background-color: #f7fcf5\">&nbspDI&nbsp</span><span class=\"barcode\"; style=\"color: black; background-color: #f7fcf5\">&nbspCM&nbsp</span><span class=\"barcode\"; style=\"color: black; background-color: #f7fcf5\">&nbsp.&nbsp</span><span class=\"barcode\"; style=\"color: black; background-color: #f7fcf5\">&nbsp0&nbsp</span><span class=\"barcode\"; style=\"color: black; background-color: #f7fcf5\">&nbsp,&nbsp</span><span class=\"barcode\"; style=\"color: black; background-color: #f7fcf5\">&nbsp8X0&nbsp</span><span class=\"barcode\"; style=\"color: black; background-color: #f7fcf5\">&nbsp,&nbsp</span><span class=\"barcode\"; style=\"color: black; background-color: #f7fcf5\">&nbsp5X0&nbsp</span><span class=\"barcode\"; style=\"color: black; background-color: #f7fcf5\">&nbsp,&nbsp</span><span class=\"barcode\"; style=\"color: black; background-color: #f7fcf5\">&nbsp1&nbsp</span><span class=\"barcode\"; style=\"color: black; background-color: #f7fcf5\">&nbspA&nbsp</span><span class=\"barcode\"; style=\"color: black; background-color: #f7fcf5\">&nbspSUPERFICIE&nbsp</span><span class=\"barcode\"; style=\"color: black; background-color: #f7fcf5\">&nbspIRREGOLARE&nbsp</span><span class=\"barcode\"; style=\"color: black; background-color: #f7fcf5\">&nbsp.&nbsp</span>"
      ],
      "text/plain": [
       "<IPython.core.display.HTML object>"
      ]
     },
     "metadata": {},
     "output_type": "display_data"
    },
    {
     "name": "stdout",
     "output_type": "stream",
     "text": [
      "======== doc:  32\n",
      "y: 37 (44-CUTE); yp: 37 (44-CUTE)\n",
      "0:-2.8 - 1:-10.7 - 2:-8.1 - 3:-9.2 - 4:-14.3 - 5:-7.6 - 6:-2.0 - 7:-3.3 - 8:-9.8 - 9:-7.7 - 10:-12.3 - 11:-7.9 - 12:-26.2 - 13:-14.7 - 14:-9.2 - 15:-13.4 - 16:-9.0 - 17:-13.7 - 18:0.3 - 19:-9.1 - 20:-1.4 - 21:-1.4 - 22:-8.4 - 23:-10.5 - 24:-17.7 - 25:-11.6 - 26:-9.4 - 27:-3.1 - 28:-10.7 - 29:-4.4 - 30:-23.0 - 31:-3.6 - 32:-16.0 - 33:-9.1 - 34:-18.9 - 35:-8.0 - 36:-1.1 - 37:9.9 - 38:-8.6 - 39:-15.1 - 40:-1.7 - 41:-0.7 - 42:-1.8 - 43:-9.1 - 44:-4.4 - 45:-4.3 - 46:-9.3 - 47:-14.3 - 48:-18.2 - 49:-2.6 - 50:-2.0 - 51:-13.7 - 52:-6.0 - 53:-8.5 - 54:-27.4 - 55:-24.0 - 56:-4.1 - 57:-11.9 - 58:-4.0 - 59:-7.2 - 60:-6.5 - 61:-11.2 - 62:-8.5 - 63:-25.7 - 64:-4.2 - 65:-0.6 - 66:-2.4 - 67:-1.2\n",
      "---\n",
      "0\n"
     ]
    },
    {
     "data": {
      "text/html": [
       "<span class=\"barcode\"; style=\"color: black; background-color: #f6fcf4\">&nbspCARCINOMA&nbsp</span><span class=\"barcode\"; style=\"color: black; background-color: #f0f9ed\">&nbspBASOCELLULARE&nbsp</span><span class=\"barcode\"; style=\"color: black; background-color: #e8f6e3\">&nbspULCERATO&nbsp</span><span class=\"barcode\"; style=\"color: black; background-color: #f7fcf5\">&nbsp;&nbsp</span><span class=\"barcode\"; style=\"color: black; background-color: #f6fcf4\">&nbspMARGINI&nbsp</span><span class=\"barcode\"; style=\"color: black; background-color: #f4fbf1\">&nbspTRASVERSALI&nbsp</span><span class=\"barcode\"; style=\"color: black; background-color: #f7fcf5\">&nbsp,&nbsp</span><span class=\"barcode\"; style=\"color: black; background-color: #f6fcf4\">&nbspMARGINI&nbsp</span><span class=\"barcode\"; style=\"color: black; background-color: #edf8e9\">&nbspAPICALI&nbsp</span><span class=\"barcode\"; style=\"color: black; background-color: #f6fcf4\">&nbspE&nbsp</span><span class=\"barcode\"; style=\"color: black; background-color: #f5fbf2\">&nbspMARGINE&nbsp</span><span class=\"barcode\"; style=\"color: black; background-color: #f2faef\">&nbspPROFONDO&nbsp</span><span class=\"barcode\"; style=\"color: black; background-color: #f5fbf3\">&nbspNEGATIVI&nbsp</span><span class=\"barcode\"; style=\"color: black; background-color: #f5fbf3\">&nbsp.&nbsp</span><span class=\"barcode\"; style=\"color: black; background-color: #e4f5df\">&nbspBIOPSIA&nbsp</span><span class=\"barcode\"; style=\"color: black; background-color: #f1faee\">&nbspESCISSIONALE&nbsp</span><span class=\"barcode\"; style=\"color: black; background-color: #f4fbf2\">&nbspDI&nbsp</span><span class=\"barcode\"; style=\"color: black; background-color: #f2faf0\">&nbspNEOFORMAZIONE&nbsp</span><span class=\"barcode\"; style=\"color: black; background-color: #def2d9\">&nbspCUTANEA&nbsp</span><span class=\"barcode\"; style=\"color: black; background-color: #f1faee\">&nbspDEL&nbsp</span><span class=\"barcode\"; style=\"color: black; background-color: #e8f6e3\">&nbspDORSO&nbsp</span><span class=\"barcode\"; style=\"color: black; background-color: #f7fcf5\">&nbsp,&nbsp</span><span class=\"barcode\"; style=\"color: black; background-color: #f5fbf2\">&nbspFRAMMENTO&nbsp</span><span class=\"barcode\"; style=\"color: black; background-color: #f1faee\">&nbspCUTANEO&nbsp</span><span class=\"barcode\"; style=\"color: black; background-color: #f6fcf4\">&nbspMM&nbsp</span><span class=\"barcode\"; style=\"color: black; background-color: #f7fcf5\">&nbsp21&nbsp</span><span class=\"barcode\"; style=\"color: black; background-color: #f7fcf5\">&nbspX&nbsp</span><span class=\"barcode\"; style=\"color: black; background-color: #f7fcf5\">&nbsp20&nbsp</span><span class=\"barcode\"; style=\"color: black; background-color: #f7fcf5\">&nbspX&nbsp</span><span class=\"barcode\"; style=\"color: black; background-color: #f7fcf5\">&nbsp17&nbsp</span><span class=\"barcode\"; style=\"color: black; background-color: #f7fcf5\">&nbsp.&nbsp</span><span class=\"barcode\"; style=\"color: black; background-color: #f4fbf1\">&nbspT&nbsp</span><span class=\"barcode\"; style=\"color: black; background-color: #f7fcf5\">&nbsp)&nbsp</span><span class=\"barcode\"; style=\"color: black; background-color: #f6fcf4\">&nbspNEOFORMAZIONE&nbsp</span><span class=\"barcode\"; style=\"color: black; background-color: #f7fcf5\">&nbspCON&nbsp</span><span class=\"barcode\"; style=\"color: black; background-color: #f7fcf5\">&nbspMARGINI&nbsp</span><span class=\"barcode\"; style=\"color: black; background-color: #f7fcf5\">&nbspTRASVERSALI&nbsp</span><span class=\"barcode\"; style=\"color: black; background-color: #f7fcf5\">&nbspE&nbsp</span><span class=\"barcode\"; style=\"color: black; background-color: #f7fcf5\">&nbspMARGINE&nbsp</span><span class=\"barcode\"; style=\"color: black; background-color: #f7fcf5\">&nbspPROFONDO&nbsp</span><span class=\"barcode\"; style=\"color: black; background-color: #f7fcf5\">&nbsp;&nbsp</span><span class=\"barcode\"; style=\"color: black; background-color: #f7fcf5\">&nbspMA&nbsp</span><span class=\"barcode\"; style=\"color: black; background-color: #f7fcf5\">&nbsp)&nbsp</span><span class=\"barcode\"; style=\"color: black; background-color: #f7fcf5\">&nbspMARGINE&nbsp</span><span class=\"barcode\"; style=\"color: black; background-color: #f7fcf5\">&nbspAPICALE&nbsp</span><span class=\"barcode\"; style=\"color: black; background-color: #f7fcf5\">&nbsp;&nbsp</span><span class=\"barcode\"; style=\"color: black; background-color: #f7fcf5\">&nbspMB&nbsp</span><span class=\"barcode\"; style=\"color: black; background-color: #f7fcf5\">&nbsp)&nbsp</span><span class=\"barcode\"; style=\"color: black; background-color: #f7fcf5\">&nbspMARGINE&nbsp</span><span class=\"barcode\"; style=\"color: black; background-color: #f7fcf5\">&nbspAPICALE&nbsp</span><span class=\"barcode\"; style=\"color: black; background-color: #f7fcf5\">&nbspCONTROLATERALE&nbsp</span><span class=\"barcode\"; style=\"color: black; background-color: #f7fcf5\">&nbsp.&nbsp</span><span class=\"barcode\"; style=\"color: black; background-color: #f7fcf5\">&nbsp(&nbsp</span><span class=\"barcode\"; style=\"color: black; background-color: #f7fcf5\">&nbspMARGINI&nbsp</span><span class=\"barcode\"; style=\"color: black; background-color: #f7fcf5\">&nbspMARCATI&nbsp</span><span class=\"barcode\"; style=\"color: black; background-color: #f7fcf5\">&nbspCON&nbsp</span><span class=\"barcode\"; style=\"color: black; background-color: #f7fcf5\">&nbspINCHIOSTRO&nbsp</span><span class=\"barcode\"; style=\"color: black; background-color: #f7fcf5\">&nbspDI&nbsp</span><span class=\"barcode\"; style=\"color: black; background-color: #f7fcf5\">&nbspCHINA&nbsp</span><span class=\"barcode\"; style=\"color: black; background-color: #f7fcf5\">&nbsp)&nbsp</span><span class=\"barcode\"; style=\"color: black; background-color: #f7fcf5\">&nbsp.&nbsp</span>"
      ],
      "text/plain": [
       "<IPython.core.display.HTML object>"
      ]
     },
     "metadata": {},
     "output_type": "display_data"
    },
    {
     "name": "stdout",
     "output_type": "stream",
     "text": [
      "======== doc:  33\n",
      "y: 37 (44-CUTE); yp: 37 (44-CUTE)\n",
      "0:-2.7 - 1:-9.2 - 2:-6.6 - 3:-9.2 - 4:-13.0 - 5:-8.2 - 6:-2.6 - 7:-4.2 - 8:-10.0 - 9:-8.1 - 10:-10.7 - 11:-7.8 - 12:-26.2 - 13:-13.5 - 14:-9.5 - 15:-10.5 - 16:-7.2 - 17:-10.7 - 18:0.5 - 19:-7.4 - 20:-0.4 - 21:-0.4 - 22:-8.4 - 23:-10.5 - 24:-15.8 - 25:-11.1 - 26:-8.1 - 27:-2.7 - 28:-10.0 - 29:-4.9 - 30:-21.0 - 31:-5.0 - 32:-17.4 - 33:-10.2 - 34:-17.2 - 35:-6.9 - 36:-1.8 - 37:9.5 - 38:-10.5 - 39:-14.4 - 40:-1.3 - 41:-1.6 - 42:-0.9 - 43:-9.0 - 44:-5.5 - 45:-5.3 - 46:-10.9 - 47:-15.5 - 48:-16.2 - 49:-2.3 - 50:-2.8 - 51:-16.1 - 52:-5.9 - 53:-7.9 - 54:-25.3 - 55:-22.0 - 56:-3.5 - 57:-10.7 - 58:-3.7 - 59:-8.1 - 60:-6.0 - 61:-11.9 - 62:-10.0 - 63:-25.0 - 64:-6.3 - 65:-0.4 - 66:-4.1 - 67:-0.9\n",
      "---\n",
      "0\n"
     ]
    },
    {
     "data": {
      "text/html": [
       "<span class=\"barcode\"; style=\"color: black; background-color: #f6fcf4\">&nbspCARCINOMA&nbsp</span><span class=\"barcode\"; style=\"color: black; background-color: #f0f9ed\">&nbspBASOCELLULARE&nbsp</span><span class=\"barcode\"; style=\"color: black; background-color: #bbe4b4\">&nbspULCERATO&nbsp</span><span class=\"barcode\"; style=\"color: black; background-color: #f3faf0\">&nbspINFILTRANTE&nbsp</span><span class=\"barcode\"; style=\"color: black; background-color: #f4fbf2\">&nbspIL&nbsp</span><span class=\"barcode\"; style=\"color: black; background-color: #f0f9ec\">&nbspTESSUTO&nbsp</span><span class=\"barcode\"; style=\"color: black; background-color: #f4fbf1\">&nbspCONNETTIVO&nbsp</span><span class=\"barcode\"; style=\"color: black; background-color: #f2faef\">&nbspADIPOSO&nbsp</span><span class=\"barcode\"; style=\"color: black; background-color: #b5e1ae\">&nbspIPODERMICO&nbsp</span><span class=\"barcode\"; style=\"color: black; background-color: #f6fcf4\">&nbsp.&nbsp</span><span class=\"barcode\"; style=\"color: black; background-color: #f6fcf4\">&nbspLIBERI&nbsp</span><span class=\"barcode\"; style=\"color: black; background-color: #f6fcf4\">&nbspDA&nbsp</span><span class=\"barcode\"; style=\"color: black; background-color: #f6fcf4\">&nbspPROLIFERAZIONE&nbsp</span><span class=\"barcode\"; style=\"color: black; background-color: #f6fcf4\">&nbspNEOPLASTICA&nbsp</span><span class=\"barcode\"; style=\"color: black; background-color: #f7fcf5\">&nbspI&nbsp</span><span class=\"barcode\"; style=\"color: black; background-color: #f7fcf5\">&nbspMARGINI&nbsp</span><span class=\"barcode\"; style=\"color: black; background-color: #f3faf0\">&nbspDI&nbsp</span><span class=\"barcode\"; style=\"color: black; background-color: #f5fbf3\">&nbspRESEZIONE&nbsp</span><span class=\"barcode\"; style=\"color: black; background-color: #f5fbf2\">&nbspCHIRURGICA&nbsp</span><span class=\"barcode\"; style=\"color: black; background-color: #f6fcf4\">&nbspLATERALI&nbsp</span><span class=\"barcode\"; style=\"color: black; background-color: #f7fcf5\">&nbspE&nbsp</span><span class=\"barcode\"; style=\"color: black; background-color: #f5fbf2\">&nbspPROFONDO&nbsp</span><span class=\"barcode\"; style=\"color: black; background-color: #f7fcf5\">&nbsp.&nbsp</span><span class=\"barcode\"; style=\"color: black; background-color: #f5fbf3\">&nbspLOSANGA&nbsp</span><span class=\"barcode\"; style=\"color: black; background-color: #f2faf0\">&nbspCUTANEA&nbsp</span><span class=\"barcode\"; style=\"color: black; background-color: #f7fcf5\">&nbspDI&nbsp</span><span class=\"barcode\"; style=\"color: black; background-color: #f7fcf5\">&nbspCM&nbsp</span><span class=\"barcode\"; style=\"color: black; background-color: #f7fcf5\">&nbsp2&nbsp</span><span class=\"barcode\"; style=\"color: black; background-color: #f7fcf5\">&nbsp,&nbsp</span><span class=\"barcode\"; style=\"color: black; background-color: #f7fcf5\">&nbsp4&nbsp</span><span class=\"barcode\"; style=\"color: black; background-color: #f7fcf5\">&nbspX&nbsp</span><span class=\"barcode\"; style=\"color: black; background-color: #f7fcf5\">&nbsp1&nbsp</span><span class=\"barcode\"; style=\"color: black; background-color: #f7fcf5\">&nbspCON&nbsp</span><span class=\"barcode\"; style=\"color: black; background-color: #f7fcf5\">&nbspNEOFORMAZIONE&nbsp</span><span class=\"barcode\"; style=\"color: black; background-color: #f7fcf5\">&nbspULCERATA&nbsp</span><span class=\"barcode\"; style=\"color: black; background-color: #f7fcf5\">&nbspDEL&nbsp</span><span class=\"barcode\"; style=\"color: black; background-color: #f7fcf5\">&nbspDIAMETRO&nbsp</span><span class=\"barcode\"; style=\"color: black; background-color: #f7fcf5\">&nbspDI&nbsp</span><span class=\"barcode\"; style=\"color: black; background-color: #f7fcf5\">&nbsp0&nbsp</span><span class=\"barcode\"; style=\"color: black; background-color: #f7fcf5\">&nbsp,&nbsp</span><span class=\"barcode\"; style=\"color: black; background-color: #f7fcf5\">&nbsp6&nbsp</span><span class=\"barcode\"; style=\"color: black; background-color: #f7fcf5\">&nbspCM&nbsp</span><span class=\"barcode\"; style=\"color: black; background-color: #f7fcf5\">&nbsp1&nbsp</span><span class=\"barcode\"; style=\"color: black; background-color: #f7fcf5\">&nbspCODE&nbsp</span><span class=\"barcode\"; style=\"color: black; background-color: #f7fcf5\">&nbsp2&nbsp</span><span class=\"barcode\"; style=\"color: black; background-color: #f7fcf5\">&nbsp-&nbsp</span><span class=\"barcode\"; style=\"color: black; background-color: #f7fcf5\">&nbsp4&nbsp</span><span class=\"barcode\"; style=\"color: black; background-color: #f7fcf5\">&nbspSEZIONI&nbsp</span><span class=\"barcode\"; style=\"color: black; background-color: #f7fcf5\">&nbspSERIATE&nbsp</span><span class=\"barcode\"; style=\"color: black; background-color: #f7fcf5\">&nbspNR&nbsp</span><span class=\"barcode\"; style=\"color: black; background-color: #f7fcf5\">&nbspMG&nbsp</span>"
      ],
      "text/plain": [
       "<IPython.core.display.HTML object>"
      ]
     },
     "metadata": {},
     "output_type": "display_data"
    },
    {
     "name": "stdout",
     "output_type": "stream",
     "text": [
      "======== doc:  34\n",
      "y: 37 (44-CUTE); yp: 29 (32-LARINGE)\n",
      "0:1.9 - 1:-2.5 - 2:0.1 - 3:-3.3 - 4:-6.7 - 5:-1.3 - 6:1.1 - 7:-3.3 - 8:-8.9 - 9:-0.5 - 10:-2.2 - 11:-0.9 - 12:-1.0 - 13:-1.4 - 14:-4.1 - 15:-2.0 - 16:-7.7 - 17:-10.1 - 18:-3.3 - 19:-9.7 - 20:-3.5 - 21:-1.0 - 22:-6.8 - 23:-6.8 - 24:-8.3 - 25:-7.1 - 26:-8.3 - 27:0.5 - 28:-2.4 - 29:4.7 - 30:-3.4 - 31:2.5 - 32:-10.5 - 33:-8.1 - 34:-11.7 - 35:-7.0 - 36:-6.8 - 37:3.6 - 38:-10.2 - 39:-13.0 - 40:-4.2 - 41:-5.3 - 42:2.3 - 43:-0.6 - 44:0.9 - 45:-5.0 - 46:-4.9 - 47:-9.4 - 48:-7.5 - 49:1.5 - 50:-5.8 - 51:-8.2 - 52:-4.9 - 53:-7.0 - 54:-15.0 - 55:-11.8 - 56:-4.6 - 57:-3.4 - 58:-1.1 - 59:-5.8 - 60:-6.4 - 61:-7.7 - 62:-7.5 - 63:-19.2 - 64:-10.7 - 65:-3.4 - 66:-10.0 - 67:-2.2\n",
      "---\n",
      "0\n"
     ]
    },
    {
     "data": {
      "text/html": [
       "<span class=\"barcode\"; style=\"color: black; background-color: #f7fcf5\">&nbspOD&nbsp</span><span class=\"barcode\"; style=\"color: black; background-color: #f7fcf5\">&nbsp:&nbsp</span><span class=\"barcode\"; style=\"color: black; background-color: #f7fcf5\">&nbspCARCINOMA&nbsp</span><span class=\"barcode\"; style=\"color: black; background-color: #1e8741\">&nbspSQUAMOCELLULARE&nbsp</span><span class=\"barcode\"; style=\"color: black; background-color: #d6efd0\">&nbsp?&nbsp</span><span class=\"barcode\"; style=\"color: black; background-color: #f7fcf5\">&nbspCARCINOMA&nbsp</span><span class=\"barcode\"; style=\"color: black; background-color: #f7fcf5\">&nbspA&nbsp</span><span class=\"barcode\"; style=\"color: black; background-color: #f6fcf4\">&nbspCELLULE&nbsp</span><span class=\"barcode\"; style=\"color: black; background-color: #f3faf0\">&nbspSQUAMOSE&nbsp</span><span class=\"barcode\"; style=\"color: black; background-color: #f7fcf5\">&nbsp.&nbsp</span><span class=\"barcode\"; style=\"color: black; background-color: #f7fcf5\">&nbsp2&nbsp</span><span class=\"barcode\"; style=\"color: black; background-color: #f7fcf5\">&nbspFRAMMENTI&nbsp</span><span class=\"barcode\"; style=\"color: black; background-color: #f7fcf5\">&nbspNEL&nbsp</span><span class=\"barcode\"; style=\"color: black; background-color: #f7fcf5\">&nbspCOMPLESSO&nbsp</span><span class=\"barcode\"; style=\"color: black; background-color: #f7fcf5\">&nbspDI&nbsp</span><span class=\"barcode\"; style=\"color: black; background-color: #f7fcf5\">&nbspCM&nbsp</span><span class=\"barcode\"; style=\"color: black; background-color: #f7fcf5\">&nbsp0&nbsp</span><span class=\"barcode\"; style=\"color: black; background-color: #f7fcf5\">&nbsp,&nbsp</span><span class=\"barcode\"; style=\"color: black; background-color: #f7fcf5\">&nbsp5&nbsp</span><span class=\"barcode\"; style=\"color: black; background-color: #f7fcf5\">&nbspX&nbsp</span><span class=\"barcode\"; style=\"color: black; background-color: #f7fcf5\">&nbsp0&nbsp</span><span class=\"barcode\"; style=\"color: black; background-color: #f7fcf5\">&nbsp,&nbsp</span><span class=\"barcode\"; style=\"color: black; background-color: #f7fcf5\">&nbsp4&nbsp</span><span class=\"barcode\"; style=\"color: black; background-color: #f7fcf5\">&nbspX&nbsp</span><span class=\"barcode\"; style=\"color: black; background-color: #f7fcf5\">&nbsp0&nbsp</span><span class=\"barcode\"; style=\"color: black; background-color: #f7fcf5\">&nbsp,&nbsp</span><span class=\"barcode\"; style=\"color: black; background-color: #f7fcf5\">&nbsp3&nbsp</span><span class=\"barcode\"; style=\"color: black; background-color: #f7fcf5\">&nbsp(&nbsp</span><span class=\"barcode\"; style=\"color: black; background-color: #f7fcf5\">&nbspIN&nbsp</span><span class=\"barcode\"; style=\"color: black; background-color: #f7fcf5\">&nbspTOTO&nbsp</span><span class=\"barcode\"; style=\"color: black; background-color: #f7fcf5\">&nbsp)&nbsp</span>"
      ],
      "text/plain": [
       "<IPython.core.display.HTML object>"
      ]
     },
     "metadata": {},
     "output_type": "display_data"
    },
    {
     "name": "stdout",
     "output_type": "stream",
     "text": [
      "======== doc:  35\n",
      "y: 18 (18-COLON); yp: 18 (18-COLON)\n",
      "0:-11.8 - 1:-15.9 - 2:-11.5 - 3:-10.2 - 4:-17.8 - 5:-9.8 - 6:-7.3 - 7:-7.1 - 8:-9.3 - 9:-15.8 - 10:-12.7 - 11:-9.9 - 12:-27.6 - 13:-10.5 - 14:-9.9 - 15:-9.5 - 16:-2.6 - 17:-0.7 - 18:7.2 - 19:2.2 - 20:2.8 - 21:-0.3 - 22:-4.6 - 23:-4.1 - 24:-7.8 - 25:-4.7 - 26:-0.9 - 27:-4.0 - 28:-6.7 - 29:-8.1 - 30:-18.9 - 31:-4.6 - 32:-17.5 - 33:-11.0 - 34:-9.2 - 35:-9.0 - 36:-3.0 - 37:0.3 - 38:-11.8 - 39:-4.3 - 40:-1.1 - 41:-4.8 - 42:-12.6 - 43:-6.8 - 44:-5.8 - 45:-0.6 - 46:-6.4 - 47:-3.4 - 48:-11.9 - 49:-10.9 - 50:-5.0 - 51:-14.5 - 52:-12.3 - 53:-3.9 - 54:-20.9 - 55:-10.6 - 56:-2.9 - 57:-11.4 - 58:-9.1 - 59:-9.1 - 60:-4.1 - 61:-5.6 - 62:-6.6 - 63:-10.9 - 64:0.1 - 65:-3.2 - 66:-8.8 - 67:-1.8\n",
      "---\n",
      "0\n"
     ]
    },
    {
     "data": {
      "text/html": [
       "<span class=\"barcode\"; style=\"color: black; background-color: #f7fcf5\">&nbsp1&nbsp</span><span class=\"barcode\"; style=\"color: black; background-color: #f7fcf5\">&nbsp-&nbsp</span><span class=\"barcode\"; style=\"color: black; background-color: #f7fcf5\">&nbspADENOMA&nbsp</span><span class=\"barcode\"; style=\"color: black; background-color: #f7fcf5\">&nbspTUBULO&nbsp</span><span class=\"barcode\"; style=\"color: black; background-color: #f7fcf5\">&nbsp-&nbsp</span><span class=\"barcode\"; style=\"color: black; background-color: #f7fcf5\">&nbspVILLOSO&nbsp</span><span class=\"barcode\"; style=\"color: black; background-color: #e9f7e5\">&nbspINTESTINALE&nbsp</span><span class=\"barcode\"; style=\"color: black; background-color: #f7fcf5\">&nbspCON&nbsp</span><span class=\"barcode\"; style=\"color: black; background-color: #f7fcf5\">&nbspDISPLASIA&nbsp</span><span class=\"barcode\"; style=\"color: black; background-color: #f7fcf5\">&nbspGRAVE&nbsp</span><span class=\"barcode\"; style=\"color: black; background-color: #f7fcf5\">&nbspDELLE&nbsp</span><span class=\"barcode\"; style=\"color: black; background-color: #f7fcf5\">&nbspSTRUTTURE&nbsp</span><span class=\"barcode\"; style=\"color: black; background-color: #f7fcf5\">&nbspGHIANDOLARI&nbsp</span><span class=\"barcode\"; style=\"color: black; background-color: #f7fcf5\">&nbspE&nbsp</span><span class=\"barcode\"; style=\"color: black; background-color: #f7fcf5\">&nbspFOCALE&nbsp</span><span class=\"barcode\"; style=\"color: black; background-color: #f7fcf5\">&nbspTRASFORMAZIONE&nbsp</span><span class=\"barcode\"; style=\"color: black; background-color: #f7fcf5\">&nbspADENOCARCINOMATOSA&nbsp</span><span class=\"barcode\"; style=\"color: black; background-color: #f7fcf5\">&nbspA&nbsp</span><span class=\"barcode\"; style=\"color: black; background-color: #f7fcf5\">&nbspELEVATO&nbsp</span><span class=\"barcode\"; style=\"color: black; background-color: #f7fcf5\">&nbspGRADO&nbsp</span><span class=\"barcode\"; style=\"color: black; background-color: #f7fcf5\">&nbspDI&nbsp</span><span class=\"barcode\"; style=\"color: black; background-color: #f7fcf5\">&nbspDIFFERENZIAZIONE&nbsp</span><span class=\"barcode\"; style=\"color: black; background-color: #f7fcf5\">&nbspINTRAMUCOSA&nbsp</span><span class=\"barcode\"; style=\"color: black; background-color: #f7fcf5\">&nbsp.&nbsp</span><span class=\"barcode\"; style=\"color: black; background-color: #f7fcf5\">&nbspNON&nbsp</span><span class=\"barcode\"; style=\"color: black; background-color: #f7fcf5\">&nbspALTERAZIONI&nbsp</span><span class=\"barcode\"; style=\"color: black; background-color: #f7fcf5\">&nbspPATOLOGICHE&nbsp</span><span class=\"barcode\"; style=\"color: black; background-color: #f7fcf5\">&nbspNEL&nbsp</span><span class=\"barcode\"; style=\"color: black; background-color: #f7fcf5\">&nbspLIMITE&nbsp</span><span class=\"barcode\"; style=\"color: black; background-color: #f7fcf5\">&nbspDI&nbsp</span><span class=\"barcode\"; style=\"color: black; background-color: #f7fcf5\">&nbspRESEZIONE&nbsp</span><span class=\"barcode\"; style=\"color: black; background-color: #f7fcf5\">&nbspCHIRURGICA&nbsp</span><span class=\"barcode\"; style=\"color: black; background-color: #f7fcf5\">&nbsp.&nbsp</span><span class=\"barcode\"; style=\"color: black; background-color: #f7fcf5\">&nbsp2&nbsp</span><span class=\"barcode\"; style=\"color: black; background-color: #f7fcf5\">&nbsp-&nbsp</span><span class=\"barcode\"; style=\"color: black; background-color: #f7fcf5\">&nbspFRAMMENTI&nbsp</span><span class=\"barcode\"; style=\"color: black; background-color: #f7fcf5\">&nbspISTOLOGICI&nbsp</span><span class=\"barcode\"; style=\"color: black; background-color: #f7fcf5\">&nbspRIFERIBILI&nbsp</span><span class=\"barcode\"; style=\"color: black; background-color: #f7fcf5\">&nbspA&nbsp</span><span class=\"barcode\"; style=\"color: black; background-color: #f7fcf5\">&nbspADENOMA&nbsp</span><span class=\"barcode\"; style=\"color: black; background-color: #f7fcf5\">&nbspMISTO&nbsp</span><span class=\"barcode\"; style=\"color: black; background-color: #e3f4de\">&nbspINTESTINALE&nbsp</span><span class=\"barcode\"; style=\"color: black; background-color: #f7fcf5\">&nbsp1&nbsp</span><span class=\"barcode\"; style=\"color: black; background-color: #f7fcf5\">&nbsp-&nbsp</span><span class=\"barcode\"; style=\"color: black; background-color: #f3faf0\">&nbspPOLIPO&nbsp</span><span class=\"barcode\"; style=\"color: black; background-color: #f7fcf5\">&nbspDEL&nbsp</span><span class=\"barcode\"; style=\"color: black; background-color: #86cc85\">&nbspSIGMA&nbsp</span><span class=\"barcode\"; style=\"color: black; background-color: #f7fcf5\">&nbsp1&nbsp</span><span class=\"barcode\"; style=\"color: black; background-color: #f7fcf5\">&nbspF&nbsp</span><span class=\"barcode\"; style=\"color: black; background-color: #f7fcf5\">&nbspSEZIONATO&nbsp</span><span class=\"barcode\"; style=\"color: black; background-color: #f7fcf5\">&nbspNR&nbsp</span><span class=\"barcode\"; style=\"color: black; background-color: #f7fcf5\">&nbsp2&nbsp</span><span class=\"barcode\"; style=\"color: black; background-color: #f7fcf5\">&nbsp-&nbsp</span><span class=\"barcode\"; style=\"color: black; background-color: #f7fcf5\">&nbspFRAMMENTI&nbsp</span><span class=\"barcode\"; style=\"color: black; background-color: #f7fcf5\">&nbspDI&nbsp</span><span class=\"barcode\"; style=\"color: black; background-color: #f7fcf5\">&nbspPOLIPO&nbsp</span><span class=\"barcode\"; style=\"color: black; background-color: #f7fcf5\">&nbspDEL&nbsp</span><span class=\"barcode\"; style=\"color: black; background-color: #bee5b8\">&nbspTRASVERSO&nbsp</span><span class=\"barcode\"; style=\"color: black; background-color: #f7fcf5\">&nbsp2&nbsp</span><span class=\"barcode\"; style=\"color: black; background-color: #f7fcf5\">&nbspF&nbsp</span><span class=\"barcode\"; style=\"color: black; background-color: #f7fcf5\">&nbspNR&nbsp</span><span class=\"barcode\"; style=\"color: black; background-color: #f7fcf5\">&nbspMG&nbsp</span>"
      ],
      "text/plain": [
       "<IPython.core.display.HTML object>"
      ]
     },
     "metadata": {},
     "output_type": "display_data"
    },
    {
     "name": "stdout",
     "output_type": "stream",
     "text": [
      "======== doc:  36\n",
      "y: 36 (42-SISTEMA EMOPOIETICO E RETICOLO ENDOTELIALE); yp: 36 (42-SISTEMA EMOPOIETICO E RETICOLO ENDOTELIALE)\n",
      "0:-31.1 - 1:-26.4 - 2:-25.5 - 3:-27.5 - 4:-34.1 - 5:-18.1 - 6:-16.6 - 7:-15.6 - 8:-20.0 - 9:-18.1 - 10:-18.7 - 11:-18.5 - 12:-41.6 - 13:-36.0 - 14:-25.5 - 15:-18.5 - 16:-8.3 - 17:-7.3 - 18:-4.3 - 19:-14.5 - 20:-11.0 - 21:-14.8 - 22:2.9 - 23:-2.0 - 24:-4.1 - 25:-2.4 - 26:-2.9 - 27:-16.3 - 28:-25.3 - 29:-14.6 - 30:-22.5 - 31:-4.3 - 32:-7.1 - 33:-5.6 - 34:-15.0 - 35:-8.4 - 36:6.0 - 37:-4.8 - 38:-13.2 - 39:-7.6 - 40:-7.2 - 41:-4.6 - 42:-6.6 - 43:-18.4 - 44:-15.8 - 45:-8.3 - 46:-11.9 - 47:-11.0 - 48:-14.5 - 49:-17.9 - 50:-8.1 - 51:-6.5 - 52:-17.6 - 53:-10.9 - 54:-38.0 - 55:-27.5 - 56:-12.9 - 57:-11.7 - 58:-8.8 - 59:-15.5 - 60:-9.5 - 61:-12.5 - 62:-10.2 - 63:-5.6 - 64:-9.3 - 65:-11.3 - 66:-0.4 - 67:1.0\n",
      "---\n",
      "0\n"
     ]
    },
    {
     "data": {
      "text/html": [
       "<span class=\"barcode\"; style=\"color: black; background-color: #f7fcf5\">&nbspIPERPLASIA&nbsp</span><span class=\"barcode\"; style=\"color: black; background-color: #f7fcf5\">&nbspMEGACARIOCITICA&nbsp</span><span class=\"barcode\"; style=\"color: black; background-color: #f7fcf5\">&nbspCON&nbsp</span><span class=\"barcode\"; style=\"color: black; background-color: #f7fcf5\">&nbspFORMAZIONE&nbsp</span><span class=\"barcode\"; style=\"color: black; background-color: #f7fcf5\">&nbspDI&nbsp</span><span class=\"barcode\"; style=\"color: black; background-color: #f7fcf5\">&nbspCLUSTERS&nbsp</span><span class=\"barcode\"; style=\"color: black; background-color: #f7fcf5\">&nbspCELLULARI&nbsp</span><span class=\"barcode\"; style=\"color: black; background-color: #f7fcf5\">&nbsp:&nbsp</span><span class=\"barcode\"; style=\"color: black; background-color: #f7fcf5\">&nbspI&nbsp</span><span class=\"barcode\"; style=\"color: black; background-color: #f7fcf5\">&nbspREPERTI&nbsp</span><span class=\"barcode\"; style=\"color: black; background-color: #f7fcf5\">&nbspPOSSONO&nbsp</span><span class=\"barcode\"; style=\"color: black; background-color: #f7fcf5\">&nbspSUPPORTARE&nbsp</span><span class=\"barcode\"; style=\"color: black; background-color: #f7fcf5\">&nbspLA&nbsp</span><span class=\"barcode\"; style=\"color: black; background-color: #eef8ea\">&nbspPROSPETTATTA&nbsp</span><span class=\"barcode\"; style=\"color: black; background-color: #f7fcf5\">&nbspDIAGNOSI&nbsp</span><span class=\"barcode\"; style=\"color: black; background-color: #f7fcf5\">&nbspDI&nbsp</span><span class=\"barcode\"; style=\"color: black; background-color: #006529\">&nbspTROMBOCITEMIA&nbsp</span><span class=\"barcode\"; style=\"color: black; background-color: #f6fcf4\">&nbspESSENZIALE&nbsp</span><span class=\"barcode\"; style=\"color: black; background-color: #f7fcf5\">&nbsp.&nbsp</span><span class=\"barcode\"; style=\"color: black; background-color: #f7fcf5\">&nbspIMMUNOISTOCHIMICA&nbsp</span><span class=\"barcode\"; style=\"color: black; background-color: #f7fcf5\">&nbspESEGUITA&nbsp</span><span class=\"barcode\"; style=\"color: black; background-color: #f7fcf5\">&nbsp:&nbsp</span><span class=\"barcode\"; style=\"color: black; background-color: #f7fcf5\">&nbspFATTORE&nbsp</span><span class=\"barcode\"; style=\"color: black; background-color: #f7fcf5\">&nbspVIII&nbsp</span><span class=\"barcode\"; style=\"color: black; background-color: #f7fcf5\">&nbsp.&nbsp</span><span class=\"barcode\"; style=\"color: black; background-color: #f7fcf5\">&nbspAGOBIOPSIA&nbsp</span><span class=\"barcode\"; style=\"color: black; background-color: #f7fcf5\">&nbspDA&nbsp</span><span class=\"barcode\"; style=\"color: black; background-color: #f7fcf5\">&nbspSPINA&nbsp</span><span class=\"barcode\"; style=\"color: black; background-color: #f7fcf5\">&nbspILIACA&nbsp</span><span class=\"barcode\"; style=\"color: black; background-color: #f7fcf5\">&nbsp:&nbsp</span><span class=\"barcode\"; style=\"color: black; background-color: #f7fcf5\">&nbspFRUSTOLO&nbsp</span><span class=\"barcode\"; style=\"color: black; background-color: #f7fcf5\">&nbspOSTEOMIDOLLARE&nbsp</span><span class=\"barcode\"; style=\"color: black; background-color: #f7fcf5\">&nbsp:&nbsp</span><span class=\"barcode\"; style=\"color: black; background-color: #f7fcf5\">&nbspLUNGHEZZA&nbsp</span><span class=\"barcode\"; style=\"color: black; background-color: #f7fcf5\">&nbspMM&nbsp</span><span class=\"barcode\"; style=\"color: black; background-color: #f7fcf5\">&nbsp15&nbsp</span><span class=\"barcode\"; style=\"color: black; background-color: #f7fcf5\">&nbsp.&nbsp</span><span class=\"barcode\"; style=\"color: black; background-color: #f7fcf5\">&nbspNOTIZIE&nbsp</span><span class=\"barcode\"; style=\"color: black; background-color: #f7fcf5\">&nbspCLINICHE&nbsp</span><span class=\"barcode\"; style=\"color: black; background-color: #f7fcf5\">&nbsp:&nbsp</span><span class=\"barcode\"; style=\"color: black; background-color: #f7fcf5\">&nbspPIASTRINOSI&nbsp</span><span class=\"barcode\"; style=\"color: black; background-color: #f7fcf5\">&nbsp.&nbsp</span><span class=\"barcode\"; style=\"color: black; background-color: #f7fcf5\">&nbspIPOTESI&nbsp</span><span class=\"barcode\"; style=\"color: black; background-color: #f7fcf5\">&nbspDIAGNOSTICA&nbsp</span><span class=\"barcode\"; style=\"color: black; background-color: #f7fcf5\">&nbsp:&nbsp</span><span class=\"barcode\"; style=\"color: black; background-color: #f6fcf4\">&nbspSOSPETTA&nbsp</span><span class=\"barcode\"; style=\"color: black; background-color: #f4fbf2\">&nbspTROMBOCITEMIA&nbsp</span><span class=\"barcode\"; style=\"color: black; background-color: #f7fcf5\">&nbspESSENZIALE&nbsp</span><span class=\"barcode\"; style=\"color: black; background-color: #f7fcf5\">&nbsp.&nbsp</span>"
      ],
      "text/plain": [
       "<IPython.core.display.HTML object>"
      ]
     },
     "metadata": {},
     "output_type": "display_data"
    },
    {
     "name": "stdout",
     "output_type": "stream",
     "text": [
      "======== doc:  37\n",
      "y: 18 (18-COLON); yp: 18 (18-COLON)\n",
      "0:-14.4 - 1:-18.4 - 2:-12.4 - 3:-14.9 - 4:-22.4 - 5:-11.2 - 6:-10.1 - 7:-8.5 - 8:-14.1 - 9:-19.8 - 10:-15.8 - 11:-11.4 - 12:-32.8 - 13:-12.4 - 14:-10.8 - 15:-9.5 - 16:-1.9 - 17:-0.9 - 18:8.0 - 19:2.7 - 20:5.0 - 21:-0.2 - 22:-6.2 - 23:-6.8 - 24:-10.2 - 25:-5.3 - 26:-0.0 - 27:-6.7 - 28:-8.7 - 29:-9.0 - 30:-24.6 - 31:-5.3 - 32:-21.2 - 33:-10.8 - 34:-12.8 - 35:-12.0 - 36:-5.2 - 37:-0.4 - 38:-17.1 - 39:-6.8 - 40:-2.5 - 41:-3.5 - 42:-12.9 - 43:-8.5 - 44:-5.7 - 45:-0.8 - 46:-6.3 - 47:-2.8 - 48:-13.3 - 49:-14.0 - 50:-7.6 - 51:-16.8 - 52:-14.6 - 53:-3.7 - 54:-21.8 - 55:-11.1 - 56:-2.9 - 57:-12.2 - 58:-13.8 - 59:-10.8 - 60:-5.7 - 61:-7.9 - 62:-7.9 - 63:-16.5 - 64:-3.5 - 65:-5.4 - 66:-12.5 - 67:-3.2\n",
      "---\n",
      "0\n"
     ]
    },
    {
     "data": {
      "text/html": [
       "<span class=\"barcode\"; style=\"color: black; background-color: #f7fcf5\">&nbspSANGUE&nbsp</span><span class=\"barcode\"; style=\"color: black; background-color: #f7fcf5\">&nbspOCCULTO&nbsp</span><span class=\"barcode\"; style=\"color: black; background-color: #f7fcf5\">&nbspPOSITIVO&nbsp</span><span class=\"barcode\"; style=\"color: black; background-color: #f7fcf5\">&nbsp.&nbsp</span><span class=\"barcode\"; style=\"color: black; background-color: #f6fcf4\">&nbspADENOMA&nbsp</span><span class=\"barcode\"; style=\"color: black; background-color: #f5fbf2\">&nbspTUBULO&nbsp</span><span class=\"barcode\"; style=\"color: black; background-color: #f7fcf5\">&nbsp-&nbsp</span><span class=\"barcode\"; style=\"color: black; background-color: #f1faee\">&nbspVILLOSO&nbsp</span><span class=\"barcode\"; style=\"color: black; background-color: #17813d\">&nbspINTESTINALE&nbsp</span><span class=\"barcode\"; style=\"color: black; background-color: #f7fcf5\">&nbspCON&nbsp</span><span class=\"barcode\"; style=\"color: black; background-color: #f7fcf5\">&nbspAREE&nbsp</span><span class=\"barcode\"; style=\"color: black; background-color: #f7fcf5\">&nbspDI&nbsp</span><span class=\"barcode\"; style=\"color: black; background-color: #f7fcf5\">&nbspDISPLASIA&nbsp</span><span class=\"barcode\"; style=\"color: black; background-color: #f7fcf5\">&nbspGRAVE&nbsp</span><span class=\"barcode\"; style=\"color: black; background-color: #f7fcf5\">&nbsp.&nbsp</span><span class=\"barcode\"; style=\"color: black; background-color: #e5f5e0\">&nbspPOLIPO&nbsp</span><span class=\"barcode\"; style=\"color: black; background-color: #f6fcf4\">&nbspSESSILE&nbsp</span><span class=\"barcode\"; style=\"color: black; background-color: #f7fcf5\">&nbspDEL&nbsp</span><span class=\"barcode\"; style=\"color: black; background-color: #f7fcf5\">&nbspDIAMETRO&nbsp</span><span class=\"barcode\"; style=\"color: black; background-color: #f7fcf5\">&nbspDI&nbsp</span><span class=\"barcode\"; style=\"color: black; background-color: #f7fcf5\">&nbspCM&nbsp</span><span class=\"barcode\"; style=\"color: black; background-color: #f7fcf5\">&nbsp.&nbsp</span><span class=\"barcode\"; style=\"color: black; background-color: #f7fcf5\">&nbsp1&nbsp</span><span class=\"barcode\"; style=\"color: black; background-color: #f7fcf5\">&nbsp,&nbsp</span><span class=\"barcode\"; style=\"color: black; background-color: #f7fcf5\">&nbsp4&nbsp</span><span class=\"barcode\"; style=\"color: black; background-color: #f7fcf5\">&nbsp.&nbsp</span>"
      ],
      "text/plain": [
       "<IPython.core.display.HTML object>"
      ]
     },
     "metadata": {},
     "output_type": "display_data"
    },
    {
     "name": "stdout",
     "output_type": "stream",
     "text": [
      "======== doc:  38\n",
      "y: 37 (44-CUTE); yp: 37 (44-CUTE)\n",
      "0:-1.5 - 1:-11.6 - 2:-10.4 - 3:-9.3 - 4:-14.2 - 5:-8.9 - 6:-4.8 - 7:-6.4 - 8:-12.8 - 9:-10.0 - 10:-12.5 - 11:-7.3 - 12:-24.6 - 13:-15.3 - 14:-12.9 - 15:-9.3 - 16:-6.7 - 17:-7.7 - 18:-1.3 - 19:-9.5 - 20:-1.8 - 21:-0.7 - 22:-8.4 - 23:-8.4 - 24:-13.8 - 25:-9.1 - 26:-6.9 - 27:-0.7 - 28:-8.1 - 29:-3.1 - 30:-20.8 - 31:-5.2 - 32:-17.4 - 33:-10.5 - 34:-12.0 - 35:-3.3 - 36:-3.3 - 37:8.6 - 38:-7.9 - 39:-12.4 - 40:-1.6 - 41:-3.4 - 42:1.8 - 43:-6.8 - 44:-5.5 - 45:-5.5 - 46:-9.7 - 47:-13.5 - 48:-11.0 - 49:-0.3 - 50:-7.6 - 51:-15.6 - 52:-2.7 - 53:-10.2 - 54:-27.1 - 55:-22.2 - 56:-5.4 - 57:-11.2 - 58:-2.1 - 59:-10.4 - 60:-7.7 - 61:-12.5 - 62:-13.4 - 63:-23.6 - 64:-9.3 - 65:-0.1 - 66:-5.7 - 67:-0.5\n",
      "---\n",
      "0\n"
     ]
    },
    {
     "data": {
      "text/html": [
       "<span class=\"barcode\"; style=\"color: black; background-color: #147e3a\">&nbspMORBO&nbsp</span><span class=\"barcode\"; style=\"color: black; background-color: #f6fcf4\">&nbspDI&nbsp</span><span class=\"barcode\"; style=\"color: black; background-color: #f3faf0\">&nbspBOWEN&nbsp</span><span class=\"barcode\"; style=\"color: black; background-color: #f7fcf5\">&nbsp(&nbsp</span><span class=\"barcode\"; style=\"color: black; background-color: #f6fcf4\">&nbspCARCINOMA&nbsp</span><span class=\"barcode\"; style=\"color: black; background-color: #eef8ea\">&nbspSQUAMOCELLULARE&nbsp</span><span class=\"barcode\"; style=\"color: black; background-color: #f5fbf3\">&nbspIN&nbsp</span><span class=\"barcode\"; style=\"color: black; background-color: #f7fcf5\">&nbspSITU&nbsp</span><span class=\"barcode\"; style=\"color: black; background-color: #f7fcf5\">&nbsp)&nbsp</span><span class=\"barcode\"; style=\"color: black; background-color: #f6fcf4\">&nbsp.&nbsp</span><span class=\"barcode\"; style=\"color: black; background-color: #f7fcf5\">&nbspMARGINI&nbsp</span><span class=\"barcode\"; style=\"color: black; background-color: #f7fcf5\">&nbspNEGATIVI&nbsp</span><span class=\"barcode\"; style=\"color: black; background-color: #f7fcf5\">&nbsp.&nbsp</span><span class=\"barcode\"; style=\"color: black; background-color: #f4fbf2\">&nbspBIOPSIA&nbsp</span><span class=\"barcode\"; style=\"color: black; background-color: #f6fcf4\">&nbspESCISSIONALE&nbsp</span><span class=\"barcode\"; style=\"color: black; background-color: #f7fcf5\">&nbspDI&nbsp</span><span class=\"barcode\"; style=\"color: black; background-color: #f6fcf4\">&nbspNEOFORMAZIONE&nbsp</span><span class=\"barcode\"; style=\"color: black; background-color: #f6fcf4\">&nbspCUTANEA&nbsp</span><span class=\"barcode\"; style=\"color: black; background-color: #f7fcf5\">&nbspDELLA&nbsp</span><span class=\"barcode\"; style=\"color: black; background-color: #f4fbf2\">&nbspSPALLA&nbsp</span><span class=\"barcode\"; style=\"color: black; background-color: #f7fcf5\">&nbspSINISTRA&nbsp</span><span class=\"barcode\"; style=\"color: black; background-color: #f7fcf5\">&nbsp,&nbsp</span><span class=\"barcode\"; style=\"color: black; background-color: #f7fcf5\">&nbspFRAMMENTO&nbsp</span><span class=\"barcode\"; style=\"color: black; background-color: #f7fcf5\">&nbspCUTANEO&nbsp</span><span class=\"barcode\"; style=\"color: black; background-color: #f7fcf5\">&nbsp44&nbsp</span><span class=\"barcode\"; style=\"color: black; background-color: #f7fcf5\">&nbspX&nbsp</span><span class=\"barcode\"; style=\"color: black; background-color: #f7fcf5\">&nbsp23&nbsp</span><span class=\"barcode\"; style=\"color: black; background-color: #f7fcf5\">&nbspX&nbsp</span><span class=\"barcode\"; style=\"color: black; background-color: #f7fcf5\">&nbsp4&nbsp</span><span class=\"barcode\"; style=\"color: black; background-color: #f7fcf5\">&nbspMM&nbsp</span><span class=\"barcode\"; style=\"color: black; background-color: #f7fcf5\">&nbsp.&nbsp</span><span class=\"barcode\"; style=\"color: black; background-color: #f7fcf5\">&nbspT1&nbsp</span><span class=\"barcode\"; style=\"color: black; background-color: #f7fcf5\">&nbsp-&nbsp</span><span class=\"barcode\"; style=\"color: black; background-color: #f7fcf5\">&nbsp2&nbsp</span><span class=\"barcode\"; style=\"color: black; background-color: #f7fcf5\">&nbsp)&nbsp</span><span class=\"barcode\"; style=\"color: black; background-color: #f7fcf5\">&nbspNEOFORMAZIONE&nbsp</span><span class=\"barcode\"; style=\"color: black; background-color: #f7fcf5\">&nbspCON&nbsp</span><span class=\"barcode\"; style=\"color: black; background-color: #f7fcf5\">&nbspMARGINI&nbsp</span><span class=\"barcode\"; style=\"color: black; background-color: #f7fcf5\">&nbspTRASVERSALI&nbsp</span><span class=\"barcode\"; style=\"color: black; background-color: #f7fcf5\">&nbspE&nbsp</span><span class=\"barcode\"; style=\"color: black; background-color: #f7fcf5\">&nbspPROFONDO&nbsp</span><span class=\"barcode\"; style=\"color: black; background-color: #f7fcf5\">&nbsp;&nbsp</span><span class=\"barcode\"; style=\"color: black; background-color: #f7fcf5\">&nbspMA&nbsp</span><span class=\"barcode\"; style=\"color: black; background-color: #f7fcf5\">&nbsp)&nbsp</span><span class=\"barcode\"; style=\"color: black; background-color: #f7fcf5\">&nbspMARGINE&nbsp</span><span class=\"barcode\"; style=\"color: black; background-color: #f7fcf5\">&nbspAPICALE&nbsp</span><span class=\"barcode\"; style=\"color: black; background-color: #f7fcf5\">&nbsp;&nbsp</span><span class=\"barcode\"; style=\"color: black; background-color: #f7fcf5\">&nbspMB&nbsp</span><span class=\"barcode\"; style=\"color: black; background-color: #f7fcf5\">&nbsp)&nbsp</span><span class=\"barcode\"; style=\"color: black; background-color: #f7fcf5\">&nbspMARGINE&nbsp</span><span class=\"barcode\"; style=\"color: black; background-color: #f7fcf5\">&nbspAPICALE&nbsp</span><span class=\"barcode\"; style=\"color: black; background-color: #f7fcf5\">&nbspCONTROLATERALE&nbsp</span><span class=\"barcode\"; style=\"color: black; background-color: #f7fcf5\">&nbsp.&nbsp</span><span class=\"barcode\"; style=\"color: black; background-color: #f7fcf5\">&nbsp(&nbsp</span><span class=\"barcode\"; style=\"color: black; background-color: #f7fcf5\">&nbspMARGINI&nbsp</span><span class=\"barcode\"; style=\"color: black; background-color: #f7fcf5\">&nbspMARCATI&nbsp</span><span class=\"barcode\"; style=\"color: black; background-color: #f7fcf5\">&nbspCON&nbsp</span><span class=\"barcode\"; style=\"color: black; background-color: #f7fcf5\">&nbspINCHIOSTRO&nbsp</span><span class=\"barcode\"; style=\"color: black; background-color: #f7fcf5\">&nbspDI&nbsp</span><span class=\"barcode\"; style=\"color: black; background-color: #f7fcf5\">&nbspCHINA&nbsp</span><span class=\"barcode\"; style=\"color: black; background-color: #f7fcf5\">&nbsp)&nbsp</span><span class=\"barcode\"; style=\"color: black; background-color: #f7fcf5\">&nbsp.&nbsp</span>"
      ],
      "text/plain": [
       "<IPython.core.display.HTML object>"
      ]
     },
     "metadata": {},
     "output_type": "display_data"
    },
    {
     "name": "stdout",
     "output_type": "stream",
     "text": [
      "======== doc:  39\n",
      "y: 37 (44-CUTE); yp: 37 (44-CUTE)\n",
      "0:-3.4 - 1:-13.6 - 2:-10.8 - 3:-8.8 - 4:-15.4 - 5:-10.0 - 6:-2.9 - 7:-3.9 - 8:-10.5 - 9:-8.4 - 10:-13.0 - 11:-9.8 - 12:-26.0 - 13:-16.8 - 14:-11.2 - 15:-14.2 - 16:-10.6 - 17:-12.1 - 18:-0.8 - 19:-11.1 - 20:-3.1 - 21:-3.2 - 22:-6.2 - 23:-9.9 - 24:-15.0 - 25:-9.7 - 26:-9.1 - 27:-4.3 - 28:-11.7 - 29:-4.8 - 30:-21.1 - 31:-1.9 - 32:-13.9 - 33:-8.7 - 34:-15.8 - 35:-5.9 - 36:0.1 - 37:9.0 - 38:-5.6 - 39:-13.5 - 40:-1.7 - 41:-1.4 - 42:-2.9 - 43:-10.3 - 44:-7.0 - 45:-5.9 - 46:-10.9 - 47:-15.0 - 48:-18.7 - 49:-3.7 - 50:-3.3 - 51:-12.6 - 52:-6.2 - 53:-9.3 - 54:-31.6 - 55:-25.6 - 56:-6.8 - 57:-12.9 - 58:-0.2 - 59:-9.8 - 60:-6.7 - 61:-11.4 - 62:-9.8 - 63:-22.4 - 64:-3.9 - 65:-1.4 - 66:-2.3 - 67:0.2\n",
      "---\n",
      "0\n"
     ]
    },
    {
     "data": {
      "text/html": [
       "<span class=\"barcode\"; style=\"color: black; background-color: #f6fcf4\">&nbspCARCINOMA&nbsp</span><span class=\"barcode\"; style=\"color: black; background-color: #edf8e9\">&nbspBASOCELLULARE&nbsp</span><span class=\"barcode\"; style=\"color: black; background-color: #f7fcf5\">&nbsp;&nbsp</span><span class=\"barcode\"; style=\"color: black; background-color: #f5fbf3\">&nbspMARGINI&nbsp</span><span class=\"barcode\"; style=\"color: black; background-color: #f4fbf2\">&nbspNEGATIVI&nbsp</span><span class=\"barcode\"; style=\"color: black; background-color: #f5fbf2\">&nbsp.&nbsp</span><span class=\"barcode\"; style=\"color: black; background-color: #f7fcf5\">&nbspA1&nbsp</span><span class=\"barcode\"; style=\"color: black; background-color: #f7fcf5\">&nbsp-&nbsp</span><span class=\"barcode\"; style=\"color: black; background-color: #f6fcf4\">&nbsp2&nbsp</span><span class=\"barcode\"; style=\"color: black; background-color: #f7fcf5\">&nbsp)&nbsp</span><span class=\"barcode\"; style=\"color: black; background-color: #eff9eb\">&nbspBIOPSIA&nbsp</span><span class=\"barcode\"; style=\"color: black; background-color: #f2faf0\">&nbspESCISSIONALE&nbsp</span><span class=\"barcode\"; style=\"color: black; background-color: #f4fbf2\">&nbspDI&nbsp</span><span class=\"barcode\"; style=\"color: black; background-color: #f4fbf2\">&nbspLESIONE&nbsp</span><span class=\"barcode\"; style=\"color: black; background-color: #e1f3dc\">&nbspCUTANEA&nbsp</span><span class=\"barcode\"; style=\"color: black; background-color: #dbf1d6\">&nbspNODULARE&nbsp</span><span class=\"barcode\"; style=\"color: black; background-color: #ebf7e7\">&nbspDEL&nbsp</span><span class=\"barcode\"; style=\"color: black; background-color: #c4e8bd\">&nbspTRONCO&nbsp</span><span class=\"barcode\"; style=\"color: black; background-color: #f7fcf5\">&nbsp,&nbsp</span><span class=\"barcode\"; style=\"color: black; background-color: #f7fcf5\">&nbspDIMENSIONI&nbsp</span><span class=\"barcode\"; style=\"color: black; background-color: #f6fcf4\">&nbspMM&nbsp</span><span class=\"barcode\"; style=\"color: black; background-color: #f7fcf5\">&nbsp10&nbsp</span><span class=\"barcode\"; style=\"color: black; background-color: #f7fcf5\">&nbspX&nbsp</span><span class=\"barcode\"; style=\"color: black; background-color: #f7fcf5\">&nbsp6&nbsp</span><span class=\"barcode\"; style=\"color: black; background-color: #f7fcf5\">&nbsp,&nbsp</span><span class=\"barcode\"; style=\"color: black; background-color: #f7fcf5\">&nbspIN&nbsp</span><span class=\"barcode\"; style=\"color: black; background-color: #f7fcf5\">&nbspFRAMMENTO&nbsp</span><span class=\"barcode\"; style=\"color: black; background-color: #f7fcf5\">&nbspMM&nbsp</span><span class=\"barcode\"; style=\"color: black; background-color: #f7fcf5\">&nbsp21&nbsp</span><span class=\"barcode\"; style=\"color: black; background-color: #f7fcf5\">&nbspX&nbsp</span><span class=\"barcode\"; style=\"color: black; background-color: #f7fcf5\">&nbsp10&nbsp</span><span class=\"barcode\"; style=\"color: black; background-color: #f7fcf5\">&nbspX&nbsp</span><span class=\"barcode\"; style=\"color: black; background-color: #f7fcf5\">&nbsp5&nbsp</span><span class=\"barcode\"; style=\"color: black; background-color: #f7fcf5\">&nbsp;&nbsp</span><span class=\"barcode\"; style=\"color: black; background-color: #f1faee\">&nbspDISTANZA&nbsp</span><span class=\"barcode\"; style=\"color: black; background-color: #f6fcf4\">&nbspMINIMA&nbsp</span><span class=\"barcode\"; style=\"color: black; background-color: #f6fcf4\">&nbspDAL&nbsp</span><span class=\"barcode\"; style=\"color: black; background-color: #f7fcf5\">&nbspMARGINE&nbsp</span><span class=\"barcode\"; style=\"color: black; background-color: #f7fcf5\">&nbspMM&nbsp</span><span class=\"barcode\"; style=\"color: black; background-color: #f7fcf5\">&nbsp2&nbsp</span><span class=\"barcode\"; style=\"color: black; background-color: #f7fcf5\">&nbsp.&nbsp</span>"
      ],
      "text/plain": [
       "<IPython.core.display.HTML object>"
      ]
     },
     "metadata": {},
     "output_type": "display_data"
    },
    {
     "name": "stdout",
     "output_type": "stream",
     "text": [
      "======== doc:  40\n",
      "y: 50 (61-PROSTATA); yp: 50 (61-PROSTATA)\n",
      "0:-22.4 - 1:-12.9 - 2:-13.5 - 3:-27.3 - 4:-22.1 - 5:-10.4 - 6:-14.6 - 7:-12.5 - 8:-15.6 - 9:-9.6 - 10:-14.0 - 11:-20.0 - 12:-17.6 - 13:-15.9 - 14:-13.3 - 15:-16.6 - 16:-11.2 - 17:-18.5 - 18:-2.5 - 19:-7.8 - 20:-10.2 - 21:-16.3 - 22:-9.2 - 23:-1.8 - 24:-10.2 - 25:-10.5 - 26:-13.1 - 27:-15.5 - 28:-21.6 - 29:-8.3 - 30:-11.3 - 31:-2.4 - 32:-20.7 - 33:-15.3 - 34:-38.9 - 35:-33.2 - 36:-4.7 - 37:-1.0 - 38:-27.7 - 39:-16.6 - 40:-10.8 - 41:-11.3 - 42:-16.1 - 43:-20.6 - 44:-7.7 - 45:-3.0 - 46:-12.5 - 47:-11.6 - 48:-15.8 - 49:-16.5 - 50:8.9 - 51:-14.0 - 52:-28.9 - 53:-1.6 - 54:-19.5 - 55:-14.4 - 56:-1.3 - 57:-4.2 - 58:-17.5 - 59:-5.7 - 60:-13.5 - 61:-19.3 - 62:-5.6 - 63:-16.5 - 64:-8.1 - 65:-13.5 - 66:-8.4 - 67:-6.6\n",
      "---\n",
      "0\n"
     ]
    },
    {
     "data": {
      "text/html": [
       "<span class=\"barcode\"; style=\"color: black; background-color: #f7fcf5\">&nbspADENOCARCINOMA&nbsp</span><span class=\"barcode\"; style=\"color: black; background-color: #005120\">&nbspPROSTATICO&nbsp</span><span class=\"barcode\"; style=\"color: black; background-color: #f7fcf5\">&nbspA&nbsp</span><span class=\"barcode\"; style=\"color: black; background-color: #f7fcf5\">&nbspBASSO&nbsp</span><span class=\"barcode\"; style=\"color: black; background-color: #f7fcf5\">&nbspGRADO&nbsp</span><span class=\"barcode\"; style=\"color: black; background-color: #f7fcf5\">&nbspDI&nbsp</span><span class=\"barcode\"; style=\"color: black; background-color: #f7fcf5\">&nbspDIFFERENZIAZIONE&nbsp</span><span class=\"barcode\"; style=\"color: black; background-color: #f7fcf5\">&nbsp(&nbsp</span><span class=\"barcode\"; style=\"color: black; background-color: #f2faef\">&nbspGLEASON&nbsp</span><span class=\"barcode\"; style=\"color: black; background-color: #f7fcf5\">&nbspGRADO&nbsp</span><span class=\"barcode\"; style=\"color: black; background-color: #f7fcf5\">&nbsp4&nbsp</span><span class=\"barcode\"; style=\"color: black; background-color: #f7fcf5\">&nbsp+&nbsp</span><span class=\"barcode\"; style=\"color: black; background-color: #f7fcf5\">&nbsp3&nbsp</span><span class=\"barcode\"; style=\"color: black; background-color: #f7fcf5\">&nbsp)&nbsp</span><span class=\"barcode\"; style=\"color: black; background-color: #f7fcf5\">&nbsp,&nbsp</span><span class=\"barcode\"; style=\"color: black; background-color: #f7fcf5\">&nbspESTESO&nbsp</span><span class=\"barcode\"; style=\"color: black; background-color: #f7fcf5\">&nbspAD&nbsp</span><span class=\"barcode\"; style=\"color: black; background-color: #f7fcf5\">&nbspENTRAMBI&nbsp</span><span class=\"barcode\"; style=\"color: black; background-color: #f7fcf5\">&nbspI&nbsp</span><span class=\"barcode\"; style=\"color: black; background-color: #f7fcf5\">&nbspLOBI&nbsp</span><span class=\"barcode\"; style=\"color: black; background-color: #f7fcf5\">&nbspCON&nbsp</span><span class=\"barcode\"; style=\"color: black; background-color: #f7fcf5\">&nbspINTERESSAMENTO&nbsp</span><span class=\"barcode\"; style=\"color: black; background-color: #f7fcf5\">&nbspDI&nbsp</span><span class=\"barcode\"; style=\"color: black; background-color: #f7fcf5\">&nbspTUTTI&nbsp</span><span class=\"barcode\"; style=\"color: black; background-color: #f7fcf5\">&nbspI&nbsp</span><span class=\"barcode\"; style=\"color: black; background-color: #f7fcf5\">&nbspFRUSTOLI&nbsp</span><span class=\"barcode\"; style=\"color: black; background-color: #f7fcf5\">&nbspRIFERITI&nbsp</span><span class=\"barcode\"; style=\"color: black; background-color: #f7fcf5\">&nbspAL&nbsp</span><span class=\"barcode\"; style=\"color: black; background-color: #f7fcf5\">&nbspLOBO&nbsp</span><span class=\"barcode\"; style=\"color: black; background-color: #f7fcf5\">&nbspDX&nbsp</span><span class=\"barcode\"; style=\"color: black; background-color: #f7fcf5\">&nbsp.&nbsp</span><span class=\"barcode\"; style=\"color: black; background-color: #f7fcf5\">&nbsp(&nbsp</span><span class=\"barcode\"; style=\"color: black; background-color: #f7fcf5\">&nbspB1&nbsp</span><span class=\"barcode\"; style=\"color: black; background-color: #f7fcf5\">&nbsp:&nbsp</span><span class=\"barcode\"; style=\"color: black; background-color: #f7fcf5\">&nbsp<&nbsp</span><span class=\"barcode\"; style=\"color: black; background-color: #f7fcf5\">&nbsp30&nbsp</span><span class=\"barcode\"; style=\"color: black; background-color: #f7fcf5\">&nbsp%&nbsp</span><span class=\"barcode\"; style=\"color: black; background-color: #f7fcf5\">&nbsp;&nbsp</span><span class=\"barcode\"; style=\"color: black; background-color: #f7fcf5\">&nbspB2&nbsp</span><span class=\"barcode\"; style=\"color: black; background-color: #f7fcf5\">&nbsp-&nbsp</span><span class=\"barcode\"; style=\"color: black; background-color: #f7fcf5\">&nbspB3&nbsp</span><span class=\"barcode\"; style=\"color: black; background-color: #f7fcf5\">&nbsp:&nbsp</span><span class=\"barcode\"; style=\"color: black; background-color: #f7fcf5\">&nbsp>&nbsp</span><span class=\"barcode\"; style=\"color: black; background-color: #f7fcf5\">&nbsp60&nbsp</span><span class=\"barcode\"; style=\"color: black; background-color: #f7fcf5\">&nbsp%&nbsp</span><span class=\"barcode\"; style=\"color: black; background-color: #f7fcf5\">&nbsp)&nbsp</span><span class=\"barcode\"; style=\"color: black; background-color: #f7fcf5\">&nbspE&nbsp</span><span class=\"barcode\"; style=\"color: black; background-color: #f7fcf5\">&nbspDI&nbsp</span><span class=\"barcode\"; style=\"color: black; background-color: #f7fcf5\">&nbspDUE&nbsp</span><span class=\"barcode\"; style=\"color: black; background-color: #f7fcf5\">&nbspDEI&nbsp</span><span class=\"barcode\"; style=\"color: black; background-color: #f7fcf5\">&nbspTRE&nbsp</span><span class=\"barcode\"; style=\"color: black; background-color: #f7fcf5\">&nbspPRELIEVI&nbsp</span><span class=\"barcode\"; style=\"color: black; background-color: #f7fcf5\">&nbspRIFERITI&nbsp</span><span class=\"barcode\"; style=\"color: black; background-color: #f7fcf5\">&nbspAL&nbsp</span><span class=\"barcode\"; style=\"color: black; background-color: #f7fcf5\">&nbspLOBO&nbsp</span><span class=\"barcode\"; style=\"color: black; background-color: #f7fcf5\">&nbspSX&nbsp</span><span class=\"barcode\"; style=\"color: black; background-color: #f7fcf5\">&nbsp.&nbsp</span><span class=\"barcode\"; style=\"color: black; background-color: #f7fcf5\">&nbsp(&nbsp</span><span class=\"barcode\"; style=\"color: black; background-color: #f7fcf5\">&nbspA2&nbsp</span><span class=\"barcode\"; style=\"color: black; background-color: #f7fcf5\">&nbsp:&nbsp</span><span class=\"barcode\"; style=\"color: black; background-color: #f7fcf5\">&nbsp30&nbsp</span><span class=\"barcode\"; style=\"color: black; background-color: #f7fcf5\">&nbsp-&nbsp</span><span class=\"barcode\"; style=\"color: black; background-color: #f7fcf5\">&nbsp60&nbsp</span><span class=\"barcode\"; style=\"color: black; background-color: #f7fcf5\">&nbsp%&nbsp</span><span class=\"barcode\"; style=\"color: black; background-color: #f7fcf5\">&nbsp;&nbsp</span><span class=\"barcode\"; style=\"color: black; background-color: #f7fcf5\">&nbspA3&nbsp</span><span class=\"barcode\"; style=\"color: black; background-color: #f7fcf5\">&nbsp:&nbsp</span><span class=\"barcode\"; style=\"color: black; background-color: #f7fcf5\">&nbsp<&nbsp</span><span class=\"barcode\"; style=\"color: black; background-color: #f7fcf5\">&nbsp30&nbsp</span><span class=\"barcode\"; style=\"color: black; background-color: #f7fcf5\">&nbsp%&nbsp</span><span class=\"barcode\"; style=\"color: black; background-color: #f7fcf5\">&nbsp)&nbsp</span><span class=\"barcode\"; style=\"color: black; background-color: #f7fcf5\">&nbsp.&nbsp</span><span class=\"barcode\"; style=\"color: black; background-color: #f7fcf5\">&nbspAGOBIOPSIA&nbsp</span><span class=\"barcode\"; style=\"color: black; background-color: #f7fcf5\">&nbspPROSTATICA&nbsp</span><span class=\"barcode\"; style=\"color: black; background-color: #f7fcf5\">&nbsp:&nbsp</span><span class=\"barcode\"; style=\"color: black; background-color: #f7fcf5\">&nbspA1&nbsp</span><span class=\"barcode\"; style=\"color: black; background-color: #f7fcf5\">&nbsp-&nbsp</span><span class=\"barcode\"; style=\"color: black; background-color: #f7fcf5\">&nbsp3&nbsp</span><span class=\"barcode\"; style=\"color: black; background-color: #f7fcf5\">&nbsp)&nbsp</span><span class=\"barcode\"; style=\"color: black; background-color: #f7fcf5\">&nbspPRELIEVI&nbsp</span><span class=\"barcode\"; style=\"color: black; background-color: #f7fcf5\">&nbspLOBO&nbsp</span><span class=\"barcode\"; style=\"color: black; background-color: #f7fcf5\">&nbspSIN&nbsp</span><span class=\"barcode\"; style=\"color: black; background-color: #f7fcf5\">&nbsp.&nbsp</span><span class=\"barcode\"; style=\"color: black; background-color: #f7fcf5\">&nbsp(&nbsp</span><span class=\"barcode\"; style=\"color: black; background-color: #f7fcf5\">&nbspNUMERO&nbsp</span><span class=\"barcode\"; style=\"color: black; background-color: #f7fcf5\">&nbspDI&nbsp</span><span class=\"barcode\"; style=\"color: black; background-color: #f7fcf5\">&nbspFRAMMENTI&nbsp</span><span class=\"barcode\"; style=\"color: black; background-color: #f7fcf5\">&nbsp:&nbsp</span><span class=\"barcode\"; style=\"color: black; background-color: #f7fcf5\">&nbsp3&nbsp</span><span class=\"barcode\"; style=\"color: black; background-color: #f7fcf5\">&nbsp)&nbsp</span><span class=\"barcode\"; style=\"color: black; background-color: #f7fcf5\">&nbspB1&nbsp</span><span class=\"barcode\"; style=\"color: black; background-color: #f7fcf5\">&nbsp-&nbsp</span><span class=\"barcode\"; style=\"color: black; background-color: #f7fcf5\">&nbsp3&nbsp</span><span class=\"barcode\"; style=\"color: black; background-color: #f7fcf5\">&nbsp)&nbsp</span><span class=\"barcode\"; style=\"color: black; background-color: #f7fcf5\">&nbspPRELIEVI&nbsp</span><span class=\"barcode\"; style=\"color: black; background-color: #f7fcf5\">&nbspLOBO&nbsp</span><span class=\"barcode\"; style=\"color: black; background-color: #f7fcf5\">&nbspDX&nbsp</span><span class=\"barcode\"; style=\"color: black; background-color: #f7fcf5\">&nbsp.&nbsp</span><span class=\"barcode\"; style=\"color: black; background-color: #f7fcf5\">&nbsp(&nbsp</span><span class=\"barcode\"; style=\"color: black; background-color: #f7fcf5\">&nbspNUMERO&nbsp</span>"
      ],
      "text/plain": [
       "<IPython.core.display.HTML object>"
      ]
     },
     "metadata": {},
     "output_type": "display_data"
    },
    {
     "name": "stdout",
     "output_type": "stream",
     "text": [
      "======== doc:  41\n",
      "y: 20 (20-RETTO); yp: 18 (18-COLON)\n",
      "0:-10.7 - 1:-16.3 - 2:-10.2 - 3:-10.2 - 4:-18.4 - 5:-10.7 - 6:-7.6 - 7:-6.3 - 8:-11.1 - 9:-17.5 - 10:-13.4 - 11:-9.2 - 12:-27.2 - 13:-9.1 - 14:-9.3 - 15:-7.3 - 16:-1.3 - 17:1.1 - 18:7.5 - 19:2.4 - 20:4.5 - 21:-0.1 - 22:-5.5 - 23:-5.9 - 24:-8.3 - 25:-4.4 - 26:0.0 - 27:-4.8 - 28:-6.5 - 29:-7.1 - 30:-20.7 - 31:-4.3 - 32:-20.2 - 33:-9.9 - 34:-10.5 - 35:-9.7 - 36:-5.3 - 37:-0.1 - 38:-13.7 - 39:-5.3 - 40:-1.5 - 41:-4.6 - 42:-11.2 - 43:-7.0 - 44:-5.4 - 45:-1.3 - 46:-6.7 - 47:-2.7 - 48:-11.8 - 49:-11.1 - 50:-6.6 - 51:-15.2 - 52:-12.8 - 53:-2.4 - 54:-18.3 - 55:-8.8 - 56:-1.9 - 57:-10.6 - 58:-11.2 - 59:-11.3 - 60:-4.8 - 61:-7.4 - 62:-7.0 - 63:-14.9 - 64:-3.2 - 65:-4.1 - 66:-11.1 - 67:-2.6\n",
      "---\n",
      "0\n"
     ]
    },
    {
     "data": {
      "text/html": [
       "<span class=\"barcode\"; style=\"color: black; background-color: #f7fcf5\">&nbsp1&nbsp</span><span class=\"barcode\"; style=\"color: black; background-color: #f7fcf5\">&nbsp-&nbsp</span><span class=\"barcode\"; style=\"color: black; background-color: #f6fcf4\">&nbspADENOMA&nbsp</span><span class=\"barcode\"; style=\"color: black; background-color: #f6fcf4\">&nbspTUBULO&nbsp</span><span class=\"barcode\"; style=\"color: black; background-color: #f7fcf5\">&nbsp-&nbsp</span><span class=\"barcode\"; style=\"color: black; background-color: #f5fbf2\">&nbspVILLOSO&nbsp</span><span class=\"barcode\"; style=\"color: black; background-color: #65bd6f\">&nbspINTESTINALE&nbsp</span><span class=\"barcode\"; style=\"color: black; background-color: #f7fcf5\">&nbspCON&nbsp</span><span class=\"barcode\"; style=\"color: black; background-color: #f7fcf5\">&nbspDISPLASIA&nbsp</span><span class=\"barcode\"; style=\"color: black; background-color: #f7fcf5\">&nbspGRAVE&nbsp</span><span class=\"barcode\"; style=\"color: black; background-color: #f7fcf5\">&nbspDI&nbsp</span><span class=\"barcode\"; style=\"color: black; background-color: #f7fcf5\">&nbspALCUNE&nbsp</span><span class=\"barcode\"; style=\"color: black; background-color: #f7fcf5\">&nbspSTRUTTURE&nbsp</span><span class=\"barcode\"; style=\"color: black; background-color: #f7fcf5\">&nbspGHIANDOLARI&nbsp</span><span class=\"barcode\"; style=\"color: black; background-color: #f7fcf5\">&nbsp2&nbsp</span><span class=\"barcode\"; style=\"color: black; background-color: #f7fcf5\">&nbsp-&nbsp</span><span class=\"barcode\"; style=\"color: black; background-color: #f5fbf3\">&nbspADENOMA&nbsp</span><span class=\"barcode\"; style=\"color: black; background-color: #f7fcf5\">&nbspMISTO&nbsp</span><span class=\"barcode\"; style=\"color: black; background-color: #91d28e\">&nbspINTESTINALE&nbsp</span><span class=\"barcode\"; style=\"color: black; background-color: #f7fcf5\">&nbsp1&nbsp</span><span class=\"barcode\"; style=\"color: black; background-color: #f7fcf5\">&nbspNEOFORMAZIONE&nbsp</span><span class=\"barcode\"; style=\"color: black; background-color: #f7fcf5\">&nbspPOLIPOIDE&nbsp</span><span class=\"barcode\"; style=\"color: black; background-color: #f7fcf5\">&nbspDEL&nbsp</span><span class=\"barcode\"; style=\"color: black; background-color: #f7fcf5\">&nbspDIAMETRO&nbsp</span><span class=\"barcode\"; style=\"color: black; background-color: #f7fcf5\">&nbspDI&nbsp</span><span class=\"barcode\"; style=\"color: black; background-color: #f7fcf5\">&nbsp11&nbsp</span><span class=\"barcode\"; style=\"color: black; background-color: #f7fcf5\">&nbspMM&nbsp</span><span class=\"barcode\"; style=\"color: black; background-color: #f7fcf5\">&nbspSEZIONATA&nbsp</span><span class=\"barcode\"; style=\"color: black; background-color: #f7fcf5\">&nbspNR&nbsp</span><span class=\"barcode\"; style=\"color: black; background-color: #f7fcf5\">&nbsp2&nbsp</span><span class=\"barcode\"; style=\"color: black; background-color: #f7fcf5\">&nbsp1&nbsp</span><span class=\"barcode\"; style=\"color: black; background-color: #f7fcf5\">&nbspF&nbsp</span><span class=\"barcode\"; style=\"color: black; background-color: #f7fcf5\">&nbspNR&nbsp</span><span class=\"barcode\"; style=\"color: black; background-color: #f7fcf5\">&nbspMG&nbsp</span>"
      ],
      "text/plain": [
       "<IPython.core.display.HTML object>"
      ]
     },
     "metadata": {},
     "output_type": "display_data"
    },
    {
     "name": "stdout",
     "output_type": "stream",
     "text": [
      "======== doc:  42\n",
      "y: 66 (77-LINFONODI); yp: 66 (77-LINFONODI)\n",
      "0:-13.6 - 1:-11.0 - 2:-10.4 - 3:-10.7 - 4:-16.6 - 5:-8.1 - 6:-5.0 - 7:-3.3 - 8:-6.5 - 9:-5.6 - 10:-8.4 - 11:-6.1 - 12:-26.3 - 13:-16.0 - 14:-8.3 - 15:-11.6 - 16:-3.9 - 17:-5.0 - 18:-2.3 - 19:-11.5 - 20:-4.1 - 21:-6.8 - 22:-1.1 - 23:-5.4 - 24:-10.5 - 25:-6.7 - 26:-2.4 - 27:-5.1 - 28:-11.3 - 29:-6.0 - 30:-20.4 - 31:-3.8 - 32:-4.2 - 33:-1.4 - 34:-9.0 - 35:-2.2 - 36:4.0 - 37:0.5 - 38:-2.5 - 39:-2.0 - 40:0.6 - 41:-0.0 - 42:-4.3 - 43:-10.5 - 44:-9.9 - 45:-2.8 - 46:-7.2 - 47:-10.4 - 48:-10.7 - 49:-9.9 - 50:-5.3 - 51:-3.8 - 52:-6.6 - 53:-6.7 - 54:-22.6 - 55:-19.5 - 56:-5.7 - 57:-9.3 - 58:-4.7 - 59:-8.6 - 60:-2.9 - 61:-5.2 - 62:-3.7 - 63:-7.7 - 64:-3.4 - 65:-4.3 - 66:6.5 - 67:-1.4\n",
      "---\n",
      "0\n"
     ]
    },
    {
     "data": {
      "text/html": [
       "<span class=\"barcode\"; style=\"color: black; background-color: #f7fcf5\">&nbspREPERTI&nbsp</span><span class=\"barcode\"; style=\"color: black; background-color: #f7fcf5\">&nbspISTOLOGICI&nbsp</span><span class=\"barcode\"; style=\"color: black; background-color: #e4f5df\">&nbspCOMPATIBILI&nbsp</span><span class=\"barcode\"; style=\"color: black; background-color: #95d391\">&nbspCON&nbsp</span><span class=\"barcode\"; style=\"color: black; background-color: #d2edcc\">&nbspLINFOMA&nbsp</span><span class=\"barcode\"; style=\"color: black; background-color: #f7fcf5\">&nbspB&nbsp</span><span class=\"barcode\"; style=\"color: black; background-color: #f6fcf4\">&nbspDI&nbsp</span><span class=\"barcode\"; style=\"color: black; background-color: #f1faee\">&nbspTIPO&nbsp</span><span class=\"barcode\"; style=\"color: black; background-color: #f7fcf5\">&nbspPERIFERICO&nbsp</span><span class=\"barcode\"; style=\"color: black; background-color: #f7fcf5\">&nbsp,&nbsp</span><span class=\"barcode\"; style=\"color: black; background-color: #f7fcf5\">&nbspA&nbsp</span><span class=\"barcode\"; style=\"color: black; background-color: #f4fbf1\">&nbspPICCOLE&nbsp</span><span class=\"barcode\"; style=\"color: black; background-color: #f6fcf4\">&nbspCELLULE&nbsp</span><span class=\"barcode\"; style=\"color: black; background-color: #e8f6e3\">&nbspPROFILO&nbsp</span><span class=\"barcode\"; style=\"color: black; background-color: #f0f9ec\">&nbspIMMUNOFENOTIPICO&nbsp</span><span class=\"barcode\"; style=\"color: black; background-color: #f7fcf5\">&nbsp:&nbsp</span><span class=\"barcode\"; style=\"color: black; background-color: #f6fcf4\">&nbspCD20&nbsp</span><span class=\"barcode\"; style=\"color: black; background-color: #f7fcf5\">&nbsp+&nbsp</span><span class=\"barcode\"; style=\"color: black; background-color: #f7fcf5\">&nbsp,&nbsp</span><span class=\"barcode\"; style=\"color: black; background-color: #f7fcf5\">&nbspCD5&nbsp</span><span class=\"barcode\"; style=\"color: black; background-color: #f7fcf5\">&nbsp-&nbsp</span><span class=\"barcode\"; style=\"color: black; background-color: #f7fcf5\">&nbsp,&nbsp</span><span class=\"barcode\"; style=\"color: black; background-color: #f7fcf5\">&nbspCD10&nbsp</span><span class=\"barcode\"; style=\"color: black; background-color: #f7fcf5\">&nbsp-&nbsp</span><span class=\"barcode\"; style=\"color: black; background-color: #f7fcf5\">&nbsp,&nbsp</span><span class=\"barcode\"; style=\"color: black; background-color: #f7fcf5\">&nbspBCL&nbsp</span><span class=\"barcode\"; style=\"color: black; background-color: #f7fcf5\">&nbsp-&nbsp</span><span class=\"barcode\"; style=\"color: black; background-color: #f7fcf5\">&nbsp6&nbsp</span><span class=\"barcode\"; style=\"color: black; background-color: #f7fcf5\">&nbsp-&nbsp</span><span class=\"barcode\"; style=\"color: black; background-color: #f7fcf5\">&nbspCD23&nbsp</span><span class=\"barcode\"; style=\"color: black; background-color: #f7fcf5\">&nbsp-&nbsp</span><span class=\"barcode\"; style=\"color: black; background-color: #f7fcf5\">&nbsp/&nbsp</span><span class=\"barcode\"; style=\"color: black; background-color: #f7fcf5\">&nbsp+&nbsp</span><span class=\"barcode\"; style=\"color: black; background-color: #f7fcf5\">&nbsp,&nbsp</span><span class=\"barcode\"; style=\"color: black; background-color: #f7fcf5\">&nbspCICLINA&nbsp</span><span class=\"barcode\"; style=\"color: black; background-color: #f7fcf5\">&nbspD1&nbsp</span><span class=\"barcode\"; style=\"color: black; background-color: #f7fcf5\">&nbsp-&nbsp</span><span class=\"barcode\"; style=\"color: black; background-color: #f7fcf5\">&nbsp,&nbsp</span><span class=\"barcode\"; style=\"color: black; background-color: #f7fcf5\">&nbspBCL2&nbsp</span><span class=\"barcode\"; style=\"color: black; background-color: #f7fcf5\">&nbsp+&nbsp</span><span class=\"barcode\"; style=\"color: black; background-color: #f7fcf5\">&nbsp/&nbsp</span><span class=\"barcode\"; style=\"color: black; background-color: #f7fcf5\">&nbsp-&nbsp</span><span class=\"barcode\"; style=\"color: black; background-color: #f7fcf5\">&nbspIL&nbsp</span><span class=\"barcode\"; style=\"color: black; background-color: #f6fcf4\">&nbspLINFOMA&nbsp</span><span class=\"barcode\"; style=\"color: black; background-color: #f7fcf5\">&nbspNON&nbsp</span><span class=\"barcode\"; style=\"color: black; background-color: #f7fcf5\">&nbspRISULTA&nbsp</span><span class=\"barcode\"; style=\"color: black; background-color: #f7fcf5\">&nbspULTERIORMENTE&nbsp</span><span class=\"barcode\"; style=\"color: black; background-color: #f7fcf5\">&nbspTIPIZZABILE&nbsp</span><span class=\"barcode\"; style=\"color: black; background-color: #f7fcf5\">&nbspPER&nbsp</span><span class=\"barcode\"; style=\"color: black; background-color: #f7fcf5\">&nbspLA&nbsp</span><span class=\"barcode\"; style=\"color: black; background-color: #f7fcf5\">&nbspSCARSA&nbsp</span><span class=\"barcode\"; style=\"color: black; background-color: #f7fcf5\">&nbspRESPONSIVIT&nbsp</span><span class=\"barcode\"; style=\"color: black; background-color: #f7fcf5\">&nbsp+&nbsp</span><span class=\"barcode\"; style=\"color: black; background-color: #f7fcf5\">&nbspIMMUNOISTOCHIMICA&nbsp</span><span class=\"barcode\"; style=\"color: black; background-color: #f7fcf5\">&nbspDEL&nbsp</span><span class=\"barcode\"; style=\"color: black; background-color: #f7fcf5\">&nbspTESSUTO&nbsp</span><span class=\"barcode\"; style=\"color: black; background-color: #f7fcf5\">&nbspIN&nbsp</span><span class=\"barcode\"; style=\"color: black; background-color: #f7fcf5\">&nbspESAME&nbsp</span><span class=\"barcode\"; style=\"color: black; background-color: #f7fcf5\">&nbspVFRNR&nbsp</span><span class=\"barcode\"; style=\"color: black; background-color: #f7fcf5\">&nbspLP&nbsp</span>"
      ],
      "text/plain": [
       "<IPython.core.display.HTML object>"
      ]
     },
     "metadata": {},
     "output_type": "display_data"
    },
    {
     "name": "stdout",
     "output_type": "stream",
     "text": [
      "======== doc:  43\n",
      "y: 37 (44-CUTE); yp: 37 (44-CUTE)\n",
      "0:-1.4 - 1:-10.0 - 2:-7.2 - 3:-9.5 - 4:-13.0 - 5:-7.6 - 6:-2.6 - 7:-2.6 - 8:-9.8 - 9:-7.8 - 10:-11.8 - 11:-8.4 - 12:-22.6 - 13:-12.8 - 14:-8.4 - 15:-12.4 - 16:-9.3 - 17:-13.1 - 18:0.1 - 19:-7.8 - 20:-1.1 - 21:-1.4 - 22:-8.3 - 23:-10.5 - 24:-16.9 - 25:-10.3 - 26:-9.1 - 27:-3.4 - 28:-10.5 - 29:-3.0 - 30:-19.6 - 31:-2.6 - 32:-14.8 - 33:-8.9 - 34:-18.8 - 35:-8.3 - 36:-2.4 - 37:9.4 - 38:-9.8 - 39:-15.2 - 40:-2.2 - 41:0.1 - 42:-0.7 - 43:-9.0 - 44:-3.8 - 45:-4.5 - 46:-8.1 - 47:-13.2 - 48:-16.7 - 49:-2.1 - 50:-1.3 - 51:-13.0 - 52:-6.4 - 53:-7.4 - 54:-24.5 - 55:-21.0 - 56:-3.6 - 57:-10.8 - 58:-4.6 - 59:-6.6 - 60:-6.1 - 61:-11.3 - 62:-7.5 - 63:-26.1 - 64:-4.8 - 65:-1.2 - 66:-4.0 - 67:-0.7\n",
      "---\n",
      "0\n"
     ]
    },
    {
     "data": {
      "text/html": [
       "<span class=\"barcode\"; style=\"color: black; background-color: #f4fbf2\">&nbspCARCINOMA&nbsp</span><span class=\"barcode\"; style=\"color: black; background-color: #eaf7e6\">&nbspBASOCELLULARE&nbsp</span><span class=\"barcode\"; style=\"color: black; background-color: #eff9eb\">&nbspINFILTRANTE&nbsp</span><span class=\"barcode\"; style=\"color: black; background-color: #e9f7e5\">&nbspIL&nbsp</span><span class=\"barcode\"; style=\"color: black; background-color: #eff9ec\">&nbspDERMA&nbsp</span><span class=\"barcode\"; style=\"color: black; background-color: #ecf8e8\">&nbspSUPERFICIALE&nbsp</span><span class=\"barcode\"; style=\"color: black; background-color: #f5fbf3\">&nbspE&nbsp</span><span class=\"barcode\"; style=\"color: black; background-color: #f2faef\">&nbspPROFONDO&nbsp</span><span class=\"barcode\"; style=\"color: black; background-color: #f5fbf2\">&nbspLIBERI&nbsp</span><span class=\"barcode\"; style=\"color: black; background-color: #f7fcf5\">&nbspI&nbsp</span><span class=\"barcode\"; style=\"color: black; background-color: #f2faf0\">&nbspLIMITI&nbsp</span><span class=\"barcode\"; style=\"color: black; background-color: #e8f6e4\">&nbspDI&nbsp</span><span class=\"barcode\"; style=\"color: black; background-color: #eff9ec\">&nbspRESEZIONE&nbsp</span><span class=\"barcode\"; style=\"color: black; background-color: #eaf7e6\">&nbspCHIRURGICA&nbsp</span><span class=\"barcode\"; style=\"color: black; background-color: #edf8ea\">&nbspLOSANGA&nbsp</span><span class=\"barcode\"; style=\"color: black; background-color: #dff3da\">&nbspCUTANEA&nbsp</span><span class=\"barcode\"; style=\"color: black; background-color: #f7fcf5\">&nbspDI&nbsp</span><span class=\"barcode\"; style=\"color: black; background-color: #f7fcf5\">&nbsp3&nbsp</span><span class=\"barcode\"; style=\"color: black; background-color: #f7fcf5\">&nbspX&nbsp</span><span class=\"barcode\"; style=\"color: black; background-color: #f7fcf5\">&nbsp1&nbsp</span><span class=\"barcode\"; style=\"color: black; background-color: #f7fcf5\">&nbsp.&nbsp</span><span class=\"barcode\"; style=\"color: black; background-color: #f7fcf5\">&nbsp8&nbsp</span><span class=\"barcode\"; style=\"color: black; background-color: #f7fcf5\">&nbspCM&nbsp</span><span class=\"barcode\"; style=\"color: black; background-color: #f7fcf5\">&nbspINTERAMENTE&nbsp</span><span class=\"barcode\"; style=\"color: black; background-color: #f7fcf5\">&nbspOCCUPATA&nbsp</span><span class=\"barcode\"; style=\"color: black; background-color: #f7fcf5\">&nbspDA&nbsp</span><span class=\"barcode\"; style=\"color: black; background-color: #f6fcf4\">&nbspNEOFORMAZIONE&nbsp</span><span class=\"barcode\"; style=\"color: black; background-color: #f7fcf5\">&nbspBIANCASTRA&nbsp</span><span class=\"barcode\"; style=\"color: black; background-color: #f7fcf5\">&nbspRILEVATA&nbsp</span><span class=\"barcode\"; style=\"color: black; background-color: #f7fcf5\">&nbsp1&nbsp</span><span class=\"barcode\"; style=\"color: black; background-color: #f7fcf5\">&nbsp-&nbsp</span><span class=\"barcode\"; style=\"color: black; background-color: #f7fcf5\">&nbsp5NR&nbsp</span><span class=\"barcode\"; style=\"color: black; background-color: #f7fcf5\">&nbspLP&nbsp</span>"
      ],
      "text/plain": [
       "<IPython.core.display.HTML object>"
      ]
     },
     "metadata": {},
     "output_type": "display_data"
    },
    {
     "name": "stdout",
     "output_type": "stream",
     "text": [
      "======== doc:  44\n",
      "y: 37 (44-CUTE); yp: 37 (44-CUTE)\n",
      "0:-1.4 - 1:-11.9 - 2:-8.5 - 3:-5.7 - 4:-14.2 - 5:-6.7 - 6:-2.7 - 7:-2.3 - 8:-8.0 - 9:-9.2 - 10:-12.2 - 11:-6.0 - 12:-19.0 - 13:-12.6 - 14:-9.5 - 15:-10.9 - 16:-8.5 - 17:-8.7 - 18:-0.4 - 19:-7.8 - 20:-2.5 - 21:-2.0 - 22:-5.7 - 23:-7.9 - 24:-13.0 - 25:-7.3 - 26:-6.2 - 27:-3.2 - 28:-7.9 - 29:-3.0 - 30:-17.2 - 31:-2.1 - 32:-8.5 - 33:-7.2 - 34:-10.0 - 35:-3.3 - 36:-3.1 - 37:6.5 - 38:-3.8 - 39:-10.0 - 40:0.2 - 41:-1.4 - 42:-1.0 - 43:-5.9 - 44:-4.2 - 45:-3.9 - 46:-5.6 - 47:-7.6 - 48:-12.2 - 49:-1.0 - 50:-5.5 - 51:-7.9 - 52:-2.6 - 53:-5.3 - 54:-21.6 - 55:-18.5 - 56:-4.8 - 57:-10.7 - 58:-3.5 - 59:-7.8 - 60:-7.2 - 61:-10.0 - 62:-6.9 - 63:-18.9 - 64:-2.8 - 65:-1.0 - 66:-3.6 - 67:-0.1\n",
      "---\n",
      "0\n"
     ]
    },
    {
     "data": {
      "text/html": [
       "<span class=\"barcode\"; style=\"color: black; background-color: #f6fcf4\">&nbspCARCINOMA&nbsp</span><span class=\"barcode\"; style=\"color: black; background-color: #eef8ea\">&nbspBASOCELLULARE&nbsp</span><span class=\"barcode\"; style=\"color: black; background-color: #f2faef\">&nbspINFILTRANTE&nbsp</span><span class=\"barcode\"; style=\"color: black; background-color: #f2faef\">&nbspIL&nbsp</span><span class=\"barcode\"; style=\"color: black; background-color: #f4fbf1\">&nbspDERMA&nbsp</span><span class=\"barcode\"; style=\"color: black; background-color: #f6fcf4\">&nbspRETICOLARE&nbsp</span><span class=\"barcode\"; style=\"color: black; background-color: #f7fcf5\">&nbsp;&nbsp</span><span class=\"barcode\"; style=\"color: black; background-color: #f6fcf4\">&nbspCOESISTE&nbsp</span><span class=\"barcode\"; style=\"color: black; background-color: #b1e0ab\">&nbspCISTI&nbsp</span><span class=\"barcode\"; style=\"color: black; background-color: #f6fcf4\">&nbspA&nbsp</span><span class=\"barcode\"; style=\"color: black; background-color: #f5fbf2\">&nbspRIVESTIMENTO&nbsp</span><span class=\"barcode\"; style=\"color: black; background-color: #f2faef\">&nbspDI&nbsp</span><span class=\"barcode\"; style=\"color: black; background-color: #f4fbf2\">&nbspTIPO&nbsp</span><span class=\"barcode\"; style=\"color: black; background-color: #def2d9\">&nbspEPIDERMOIDE&nbsp</span><span class=\"barcode\"; style=\"color: black; background-color: #f6fcf4\">&nbspCON&nbsp</span><span class=\"barcode\"; style=\"color: black; background-color: #f5fbf3\">&nbspCONTENUTO&nbsp</span><span class=\"barcode\"; style=\"color: black; background-color: #f6fcf4\">&nbspCHERATINICO&nbsp</span><span class=\"barcode\"; style=\"color: black; background-color: #f6fcf4\">&nbspAVVOLTA&nbsp</span><span class=\"barcode\"; style=\"color: black; background-color: #f7fcf5\">&nbspDA&nbsp</span><span class=\"barcode\"; style=\"color: black; background-color: #f7fcf5\">&nbspFLOGOSI&nbsp</span><span class=\"barcode\"; style=\"color: black; background-color: #f7fcf5\">&nbspPRODUTTIVA&nbsp</span><span class=\"barcode\"; style=\"color: black; background-color: #f7fcf5\">&nbspGIGANTOCELLULARE&nbsp</span><span class=\"barcode\"; style=\"color: black; background-color: #f7fcf5\">&nbspTIPO&nbsp</span><span class=\"barcode\"; style=\"color: black; background-color: #f7fcf5\">&nbspDA&nbsp</span><span class=\"barcode\"; style=\"color: black; background-color: #f6fcf4\">&nbspCORPO&nbsp</span><span class=\"barcode\"; style=\"color: black; background-color: #f7fcf5\">&nbspESTRANEO&nbsp</span><span class=\"barcode\"; style=\"color: black; background-color: #f7fcf5\">&nbsp.&nbsp</span><span class=\"barcode\"; style=\"color: black; background-color: #f5fbf3\">&nbspNEOFORMAZIONE&nbsp</span><span class=\"barcode\"; style=\"color: black; background-color: #f6fcf4\">&nbspBIANCASTRA&nbsp</span><span class=\"barcode\"; style=\"color: black; background-color: #f4fbf1\">&nbspDEL&nbsp</span><span class=\"barcode\"; style=\"color: black; background-color: #f7fcf5\">&nbspDIAMETRO&nbsp</span><span class=\"barcode\"; style=\"color: black; background-color: #f6fcf4\">&nbspMAX&nbsp</span><span class=\"barcode\"; style=\"color: black; background-color: #f7fcf5\">&nbspDI&nbsp</span><span class=\"barcode\"; style=\"color: black; background-color: #f7fcf5\">&nbspCM&nbsp</span><span class=\"barcode\"; style=\"color: black; background-color: #f7fcf5\">&nbsp0&nbsp</span><span class=\"barcode\"; style=\"color: black; background-color: #f7fcf5\">&nbsp,&nbsp</span><span class=\"barcode\"; style=\"color: black; background-color: #f7fcf5\">&nbsp6&nbsp</span><span class=\"barcode\"; style=\"color: black; background-color: #f5fbf2\">&nbspRIVESTITA&nbsp</span><span class=\"barcode\"; style=\"color: black; background-color: #f7fcf5\">&nbspDA&nbsp</span><span class=\"barcode\"; style=\"color: black; background-color: #e7f6e2\">&nbspCUTE&nbsp</span><span class=\"barcode\"; style=\"color: black; background-color: #f7fcf5\">&nbspSEZIONATA&nbsp</span><span class=\"barcode\"; style=\"color: black; background-color: #f7fcf5\">&nbsp,&nbsp</span><span class=\"barcode\"; style=\"color: black; background-color: #f7fcf5\">&nbspNR&nbsp</span><span class=\"barcode\"; style=\"color: black; background-color: #f7fcf5\">&nbspMG&nbsp</span>"
      ],
      "text/plain": [
       "<IPython.core.display.HTML object>"
      ]
     },
     "metadata": {},
     "output_type": "display_data"
    },
    {
     "name": "stdout",
     "output_type": "stream",
     "text": [
      "======== doc:  45\n",
      "y: 18 (18-COLON); yp: 18 (18-COLON)\n",
      "0:-12.0 - 1:-15.6 - 2:-9.3 - 3:-10.0 - 4:-16.7 - 5:-10.4 - 6:-7.0 - 7:-5.2 - 8:-9.4 - 9:-16.5 - 10:-12.2 - 11:-9.3 - 12:-27.0 - 13:-8.1 - 14:-8.2 - 15:-7.3 - 16:-1.7 - 17:0.5 - 18:7.1 - 19:1.8 - 20:4.5 - 21:-1.1 - 22:-5.5 - 23:-6.5 - 24:-7.9 - 25:-4.5 - 26:0.6 - 27:-5.9 - 28:-7.1 - 29:-6.7 - 30:-21.7 - 31:-4.5 - 32:-20.0 - 33:-8.8 - 34:-12.0 - 35:-9.6 - 36:-5.1 - 37:-0.6 - 38:-14.5 - 39:-4.5 - 40:-1.4 - 41:-4.4 - 42:-11.3 - 43:-7.9 - 44:-5.8 - 45:-2.0 - 46:-7.6 - 47:-2.6 - 48:-11.8 - 49:-11.1 - 50:-5.8 - 51:-14.0 - 52:-13.5 - 53:-1.2 - 54:-15.3 - 55:-7.2 - 56:-1.1 - 57:-9.3 - 58:-12.1 - 59:-11.1 - 60:-3.7 - 61:-7.3 - 62:-6.2 - 63:-14.4 - 64:-3.8 - 65:-4.0 - 66:-10.1 - 67:-2.7\n",
      "---\n",
      "0\n"
     ]
    },
    {
     "data": {
      "text/html": [
       "<span class=\"barcode\"; style=\"color: black; background-color: #f6fcf4\">&nbspADENOMA&nbsp</span><span class=\"barcode\"; style=\"color: black; background-color: #f6fcf4\">&nbspTUBULOVILLOSO&nbsp</span><span class=\"barcode\"; style=\"color: black; background-color: #005622\">&nbspINTESTINALE&nbsp</span><span class=\"barcode\"; style=\"color: black; background-color: #f7fcf5\">&nbspDI&nbsp</span><span class=\"barcode\"; style=\"color: black; background-color: #f7fcf5\">&nbspALTO&nbsp</span><span class=\"barcode\"; style=\"color: black; background-color: #f7fcf5\">&nbspGRADO&nbsp</span><span class=\"barcode\"; style=\"color: black; background-color: #f7fcf5\">&nbsp:&nbsp</span><span class=\"barcode\"; style=\"color: black; background-color: #f7fcf5\">&nbspPEDUNCOLO&nbsp</span><span class=\"barcode\"; style=\"color: black; background-color: #f7fcf5\">&nbspPRESENTE&nbsp</span><span class=\"barcode\"; style=\"color: black; background-color: #f7fcf5\">&nbspE&nbsp</span><span class=\"barcode\"; style=\"color: black; background-color: #f6fcf4\">&nbspINDENNE&nbsp</span><span class=\"barcode\"; style=\"color: black; background-color: #f7fcf5\">&nbsp.&nbsp</span><span class=\"barcode\"; style=\"color: black; background-color: #f6fcf4\">&nbspPOLIPECTOMIA&nbsp</span><span class=\"barcode\"; style=\"color: black; background-color: #f5fbf2\">&nbspENDOSCOPICA&nbsp</span><span class=\"barcode\"; style=\"color: black; background-color: #f7fcf5\">&nbsp:&nbsp</span><span class=\"barcode\"; style=\"color: black; background-color: #f7fcf5\">&nbspP&nbsp</span><span class=\"barcode\"; style=\"color: black; background-color: #f7fcf5\">&nbsp)&nbsp</span><span class=\"barcode\"; style=\"color: black; background-color: #f7fcf5\">&nbsp(&nbsp</span><span class=\"barcode\"; style=\"color: black; background-color: #f7fcf5\">&nbspDIMENSIONI&nbsp</span><span class=\"barcode\"; style=\"color: black; background-color: #f7fcf5\">&nbsp:&nbsp</span><span class=\"barcode\"; style=\"color: black; background-color: #f7fcf5\">&nbsp12X&nbsp</span><span class=\"barcode\"; style=\"color: black; background-color: #f7fcf5\">&nbsp10X8&nbsp</span><span class=\"barcode\"; style=\"color: black; background-color: #f7fcf5\">&nbspMM&nbsp</span><span class=\"barcode\"; style=\"color: black; background-color: #f7fcf5\">&nbsp.&nbsp</span><span class=\"barcode\"; style=\"color: black; background-color: #f7fcf5\">&nbsp)&nbsp</span><span class=\"barcode\"; style=\"color: black; background-color: #f7fcf5\">&nbsp.&nbsp</span>"
      ],
      "text/plain": [
       "<IPython.core.display.HTML object>"
      ]
     },
     "metadata": {},
     "output_type": "display_data"
    },
    {
     "name": "stdout",
     "output_type": "stream",
     "text": [
      "======== doc:  46\n",
      "y: 50 (61-PROSTATA); yp: 50 (61-PROSTATA)\n",
      "0:-23.1 - 1:-13.1 - 2:-14.0 - 3:-27.2 - 4:-21.8 - 5:-11.6 - 6:-15.3 - 7:-11.9 - 8:-14.4 - 9:-10.1 - 10:-13.9 - 11:-19.3 - 12:-17.7 - 13:-15.9 - 14:-12.8 - 15:-16.9 - 16:-10.4 - 17:-17.3 - 18:-2.8 - 19:-7.8 - 20:-10.2 - 21:-16.9 - 22:-7.8 - 23:-1.2 - 24:-8.8 - 25:-9.2 - 26:-12.1 - 27:-15.4 - 28:-21.4 - 29:-8.8 - 30:-11.1 - 31:-1.6 - 32:-19.3 - 33:-14.4 - 34:-37.0 - 35:-31.6 - 36:-4.1 - 37:-1.6 - 38:-26.0 - 39:-14.3 - 40:-10.1 - 41:-10.5 - 42:-15.9 - 43:-20.8 - 44:-8.7 - 45:-3.0 - 46:-12.4 - 47:-10.8 - 48:-15.0 - 49:-17.1 - 50:8.6 - 51:-12.8 - 52:-28.7 - 53:-1.2 - 54:-19.2 - 55:-13.6 - 56:-1.6 - 57:-3.6 - 58:-16.8 - 59:-5.9 - 60:-12.7 - 61:-18.5 - 62:-4.6 - 63:-13.9 - 64:-7.5 - 65:-12.7 - 66:-7.6 - 67:-5.2\n",
      "---\n",
      "0\n"
     ]
    },
    {
     "data": {
      "text/html": [
       "<span class=\"barcode\"; style=\"color: black; background-color: #f6fcf4\">&nbspPSA&nbsp</span><span class=\"barcode\"; style=\"color: black; background-color: #f7fcf5\">&nbsp5&nbsp</span><span class=\"barcode\"; style=\"color: black; background-color: #f7fcf5\">&nbsp,&nbsp</span><span class=\"barcode\"; style=\"color: black; background-color: #f7fcf5\">&nbsp7&nbsp</span><span class=\"barcode\"; style=\"color: black; background-color: #f7fcf5\">&nbsp.&nbsp</span><span class=\"barcode\"; style=\"color: black; background-color: #f7fcf5\">&nbspSOSPETTA&nbsp</span><span class=\"barcode\"; style=\"color: black; background-color: #f7fcf5\">&nbspNEOPLASIA&nbsp</span><span class=\"barcode\"; style=\"color: black; background-color: #f5fbf2\">&nbspPROSTATICA&nbsp</span><span class=\"barcode\"; style=\"color: black; background-color: #f7fcf5\">&nbspSU&nbsp</span><span class=\"barcode\"; style=\"color: black; background-color: #f7fcf5\">&nbspBASE&nbsp</span><span class=\"barcode\"; style=\"color: black; background-color: #f7fcf5\">&nbspCLINICA&nbsp</span><span class=\"barcode\"; style=\"color: black; background-color: #f7fcf5\">&nbspED&nbsp</span><span class=\"barcode\"; style=\"color: black; background-color: #f7fcf5\">&nbspECOGRAFICA&nbsp</span><span class=\"barcode\"; style=\"color: black; background-color: #f7fcf5\">&nbsp.&nbsp</span><span class=\"barcode\"; style=\"color: black; background-color: #f4fbf2\">&nbspADENOCARCINOMA&nbsp</span><span class=\"barcode\"; style=\"color: black; background-color: #005321\">&nbspPROSTATICO&nbsp</span><span class=\"barcode\"; style=\"color: black; background-color: #f7fcf5\">&nbspA&nbsp</span><span class=\"barcode\"; style=\"color: black; background-color: #f7fcf5\">&nbspGRADO&nbsp</span><span class=\"barcode\"; style=\"color: black; background-color: #f7fcf5\">&nbspDI&nbsp</span><span class=\"barcode\"; style=\"color: black; background-color: #f7fcf5\">&nbspDIFFERENZIAZIONE&nbsp</span><span class=\"barcode\"; style=\"color: black; background-color: #f7fcf5\">&nbspMEDIO&nbsp</span><span class=\"barcode\"; style=\"color: black; background-color: #f7fcf5\">&nbsp-&nbsp</span><span class=\"barcode\"; style=\"color: black; background-color: #f7fcf5\">&nbspBASSO&nbsp</span><span class=\"barcode\"; style=\"color: black; background-color: #f7fcf5\">&nbsp(&nbsp</span><span class=\"barcode\"; style=\"color: black; background-color: #f6fcf4\">&nbspGLEASON&nbsp</span><span class=\"barcode\"; style=\"color: black; background-color: #f7fcf5\">&nbsp3&nbsp</span><span class=\"barcode\"; style=\"color: black; background-color: #f7fcf5\">&nbsp+&nbsp</span><span class=\"barcode\"; style=\"color: black; background-color: #f7fcf5\">&nbsp4&nbsp</span><span class=\"barcode\"; style=\"color: black; background-color: #f7fcf5\">&nbsp)&nbsp</span><span class=\"barcode\"; style=\"color: black; background-color: #f7fcf5\">&nbspIN&nbsp</span><span class=\"barcode\"; style=\"color: black; background-color: #f7fcf5\">&nbspTUTTI&nbsp</span><span class=\"barcode\"; style=\"color: black; background-color: #f7fcf5\">&nbspI&nbsp</span><span class=\"barcode\"; style=\"color: black; background-color: #f7fcf5\">&nbspPRELIEVI&nbsp</span><span class=\"barcode\"; style=\"color: black; background-color: #f7fcf5\">&nbspRELATIVI&nbsp</span><span class=\"barcode\"; style=\"color: black; background-color: #f7fcf5\">&nbspAL&nbsp</span><span class=\"barcode\"; style=\"color: black; background-color: #f7fcf5\">&nbspLOBO&nbsp</span><span class=\"barcode\"; style=\"color: black; background-color: #f7fcf5\">&nbspDESTRO&nbsp</span><span class=\"barcode\"; style=\"color: black; background-color: #f7fcf5\">&nbsp(&nbsp</span><span class=\"barcode\"; style=\"color: black; background-color: #f7fcf5\">&nbspN&nbsp</span><span class=\"barcode\"; style=\"color: black; background-color: #f7fcf5\">&nbsp.&nbsp</span><span class=\"barcode\"; style=\"color: black; background-color: #f7fcf5\">&nbsp1&nbsp</span><span class=\"barcode\"; style=\"color: black; background-color: #f7fcf5\">&nbsp)&nbsp</span><span class=\"barcode\"; style=\"color: black; background-color: #f7fcf5\">&nbsp.&nbsp</span><span class=\"barcode\"; style=\"color: black; background-color: #f7fcf5\">&nbspAGOBIOPSIA&nbsp</span><span class=\"barcode\"; style=\"color: black; background-color: #f7fcf5\">&nbspPROSTATICA&nbsp</span><span class=\"barcode\"; style=\"color: black; background-color: #f7fcf5\">&nbspRANDOM&nbsp</span><span class=\"barcode\"; style=\"color: black; background-color: #f7fcf5\">&nbsp:&nbsp</span><span class=\"barcode\"; style=\"color: black; background-color: #f7fcf5\">&nbsp1&nbsp</span><span class=\"barcode\"; style=\"color: black; background-color: #f7fcf5\">&nbsp)&nbsp</span><span class=\"barcode\"; style=\"color: black; background-color: #f7fcf5\">&nbspLOBO&nbsp</span><span class=\"barcode\"; style=\"color: black; background-color: #f7fcf5\">&nbspDESTRO&nbsp</span><span class=\"barcode\"; style=\"color: black; background-color: #f7fcf5\">&nbsp.&nbsp</span><span class=\"barcode\"; style=\"color: black; background-color: #f7fcf5\">&nbsp2&nbsp</span><span class=\"barcode\"; style=\"color: black; background-color: #f7fcf5\">&nbsp)&nbsp</span><span class=\"barcode\"; style=\"color: black; background-color: #f7fcf5\">&nbspLOBO&nbsp</span><span class=\"barcode\"; style=\"color: black; background-color: #f7fcf5\">&nbspSINISTRO&nbsp</span><span class=\"barcode\"; style=\"color: black; background-color: #f7fcf5\">&nbsp.&nbsp</span>"
      ],
      "text/plain": [
       "<IPython.core.display.HTML object>"
      ]
     },
     "metadata": {},
     "output_type": "display_data"
    },
    {
     "name": "stdout",
     "output_type": "stream",
     "text": [
      "======== doc:  47\n",
      "y: 37 (44-CUTE); yp: 37 (44-CUTE)\n",
      "0:-16.0 - 1:-17.3 - 2:-15.3 - 3:-13.2 - 4:-24.0 - 5:-6.6 - 6:-6.5 - 7:-11.2 - 8:-14.2 - 9:-14.7 - 10:-14.8 - 11:-8.5 - 12:-39.7 - 13:-18.5 - 14:-14.8 - 15:-16.0 - 16:-9.7 - 17:-8.8 - 18:0.5 - 19:-8.9 - 20:-2.4 - 21:-0.9 - 22:-11.7 - 23:-14.3 - 24:-22.4 - 25:-15.6 - 26:-7.4 - 27:-5.1 - 28:-12.0 - 29:-8.1 - 30:-30.6 - 31:-9.1 - 32:-14.1 - 33:-8.2 - 34:-14.3 - 35:-4.4 - 36:-3.2 - 37:5.2 - 38:-8.7 - 39:-8.1 - 40:4.5 - 41:-3.8 - 42:-7.5 - 43:-9.1 - 44:-10.8 - 45:-2.9 - 46:-11.0 - 47:-13.1 - 48:-14.4 - 49:-10.6 - 50:-12.8 - 51:-17.2 - 52:-5.7 - 53:-10.4 - 54:-31.4 - 55:-26.1 - 56:-4.2 - 57:-13.5 - 58:-7.2 - 59:-4.7 - 60:-3.3 - 61:-4.3 - 62:-10.3 - 63:-17.7 - 64:-3.4 - 65:-2.2 - 66:-5.2 - 67:-3.4\n",
      "---\n",
      "0\n"
     ]
    },
    {
     "data": {
      "text/html": [
       "<span class=\"barcode\"; style=\"color: black; background-color: #2c944c\">&nbspFIBROXANTOMA&nbsp</span><span class=\"barcode\"; style=\"color: black; background-color: #d3eecd\">&nbspATIPICO&nbsp</span><span class=\"barcode\"; style=\"color: black; background-color: #f7fcf5\">&nbsp.&nbsp</span><span class=\"barcode\"; style=\"color: black; background-color: #f6fcf4\">&nbspLA&nbsp</span><span class=\"barcode\"; style=\"color: black; background-color: #f7fcf5\">&nbspLESIONE&nbsp</span><span class=\"barcode\"; style=\"color: black; background-color: #f0f9ec\">&nbspGIUNGE&nbsp</span><span class=\"barcode\"; style=\"color: black; background-color: #f7fcf5\">&nbspIN&nbsp</span><span class=\"barcode\"; style=\"color: black; background-color: #f7fcf5\">&nbspPROSSIMITA&nbsp</span><span class=\"barcode\"; style=\"color: black; background-color: #f7fcf5\">&nbsp'&nbsp</span><span class=\"barcode\"; style=\"color: black; background-color: #f7fcf5\">&nbspDI&nbsp</span><span class=\"barcode\"; style=\"color: black; background-color: #f7fcf5\">&nbspUN&nbsp</span><span class=\"barcode\"; style=\"color: black; background-color: #f7fcf5\">&nbspAPICE&nbsp</span><span class=\"barcode\"; style=\"color: black; background-color: #f7fcf5\">&nbsp.&nbsp</span><span class=\"barcode\"; style=\"color: black; background-color: #f7fcf5\">&nbspINDAGINI&nbsp</span><span class=\"barcode\"; style=\"color: black; background-color: #f7fcf5\">&nbspIMMUNOISTOCHIMICHE&nbsp</span><span class=\"barcode\"; style=\"color: black; background-color: #f7fcf5\">&nbspESEGUITE&nbsp</span><span class=\"barcode\"; style=\"color: black; background-color: #f7fcf5\">&nbsp:&nbsp</span><span class=\"barcode\"; style=\"color: black; background-color: #f7fcf5\">&nbspVIMENTINA&nbsp</span><span class=\"barcode\"; style=\"color: black; background-color: #f7fcf5\">&nbsp+&nbsp</span><span class=\"barcode\"; style=\"color: black; background-color: #f7fcf5\">&nbsp;&nbsp</span><span class=\"barcode\"; style=\"color: black; background-color: #f6fcf4\">&nbsp1A4&nbsp</span><span class=\"barcode\"; style=\"color: black; background-color: #f7fcf5\">&nbsp-&nbsp</span><span class=\"barcode\"; style=\"color: black; background-color: #f7fcf5\">&nbsp;&nbsp</span><span class=\"barcode\"; style=\"color: black; background-color: #f7fcf5\">&nbspS100&nbsp</span><span class=\"barcode\"; style=\"color: black; background-color: #f7fcf5\">&nbsp-&nbsp</span><span class=\"barcode\"; style=\"color: black; background-color: #f7fcf5\">&nbsp;&nbsp</span><span class=\"barcode\"; style=\"color: black; background-color: #f7fcf5\">&nbspHMB45&nbsp</span><span class=\"barcode\"; style=\"color: black; background-color: #f7fcf5\">&nbsp-&nbsp</span><span class=\"barcode\"; style=\"color: black; background-color: #f7fcf5\">&nbsp;&nbsp</span><span class=\"barcode\"; style=\"color: black; background-color: #f7fcf5\">&nbspAE1&nbsp</span><span class=\"barcode\"; style=\"color: black; background-color: #f7fcf5\">&nbsp/&nbsp</span><span class=\"barcode\"; style=\"color: black; background-color: #f7fcf5\">&nbspAE3&nbsp</span><span class=\"barcode\"; style=\"color: black; background-color: #f7fcf5\">&nbsp-&nbsp</span><span class=\"barcode\"; style=\"color: black; background-color: #f7fcf5\">&nbsp;&nbsp</span><span class=\"barcode\"; style=\"color: black; background-color: #f6fcf4\">&nbspMIB&nbsp</span><span class=\"barcode\"; style=\"color: black; background-color: #f7fcf5\">&nbsp-&nbsp</span><span class=\"barcode\"; style=\"color: black; background-color: #f7fcf5\">&nbsp1&nbsp</span><span class=\"barcode\"; style=\"color: black; background-color: #f7fcf5\">&nbsp:&nbsp</span><span class=\"barcode\"; style=\"color: black; background-color: #f7fcf5\">&nbsp80&nbsp</span><span class=\"barcode\"; style=\"color: black; background-color: #f7fcf5\">&nbsp%&nbsp</span><span class=\"barcode\"; style=\"color: black; background-color: #f7fcf5\">&nbspLOSANGA&nbsp</span><span class=\"barcode\"; style=\"color: black; background-color: #f6fcf4\">&nbspCUTANEA&nbsp</span><span class=\"barcode\"; style=\"color: black; background-color: #f7fcf5\">&nbspDI&nbsp</span><span class=\"barcode\"; style=\"color: black; background-color: #f7fcf5\">&nbspCM&nbsp</span><span class=\"barcode\"; style=\"color: black; background-color: #f7fcf5\">&nbsp.&nbsp</span><span class=\"barcode\"; style=\"color: black; background-color: #f7fcf5\">&nbsp2&nbsp</span><span class=\"barcode\"; style=\"color: black; background-color: #f7fcf5\">&nbsp,&nbsp</span><span class=\"barcode\"; style=\"color: black; background-color: #f7fcf5\">&nbsp5X2&nbsp</span><span class=\"barcode\"; style=\"color: black; background-color: #f7fcf5\">&nbsp,&nbsp</span><span class=\"barcode\"; style=\"color: black; background-color: #f7fcf5\">&nbspCON&nbsp</span><span class=\"barcode\"; style=\"color: black; background-color: #f7fcf5\">&nbspNEOFORMAZIONE&nbsp</span><span class=\"barcode\"; style=\"color: black; background-color: #f7fcf5\">&nbspNODULARE&nbsp</span><span class=\"barcode\"; style=\"color: black; background-color: #f7fcf5\">&nbspRILEVATA&nbsp</span><span class=\"barcode\"; style=\"color: black; background-color: #f7fcf5\">&nbspDEL&nbsp</span><span class=\"barcode\"; style=\"color: black; background-color: #f7fcf5\">&nbspDIAMETRO&nbsp</span><span class=\"barcode\"; style=\"color: black; background-color: #f7fcf5\">&nbspDI&nbsp</span><span class=\"barcode\"; style=\"color: black; background-color: #f7fcf5\">&nbspCM&nbsp</span><span class=\"barcode\"; style=\"color: black; background-color: #f7fcf5\">&nbsp.&nbsp</span><span class=\"barcode\"; style=\"color: black; background-color: #f7fcf5\">&nbsp1&nbsp</span><span class=\"barcode\"; style=\"color: black; background-color: #f7fcf5\">&nbsp,&nbsp</span><span class=\"barcode\"; style=\"color: black; background-color: #f7fcf5\">&nbsp5&nbsp</span><span class=\"barcode\"; style=\"color: black; background-color: #f7fcf5\">&nbspCHE&nbsp</span><span class=\"barcode\"; style=\"color: black; background-color: #f7fcf5\">&nbspMACROSCOPICAMENTE&nbsp</span><span class=\"barcode\"; style=\"color: black; background-color: #f7fcf5\">&nbspSEMBRA&nbsp</span><span class=\"barcode\"; style=\"color: black; background-color: #f7fcf5\">&nbspGIUNGERE&nbsp</span><span class=\"barcode\"; style=\"color: black; background-color: #f7fcf5\">&nbspSU&nbsp</span><span class=\"barcode\"; style=\"color: black; background-color: #f7fcf5\">&nbspUN&nbsp</span><span class=\"barcode\"; style=\"color: black; background-color: #f7fcf5\">&nbspAPICE&nbsp</span><span class=\"barcode\"; style=\"color: black; background-color: #f7fcf5\">&nbsp(&nbsp</span><span class=\"barcode\"; style=\"color: black; background-color: #f7fcf5\">&nbspMARGINI&nbsp</span><span class=\"barcode\"; style=\"color: black; background-color: #f7fcf5\">&nbspMARCATI&nbsp</span><span class=\"barcode\"; style=\"color: black; background-color: #f7fcf5\">&nbspCON&nbsp</span><span class=\"barcode\"; style=\"color: black; background-color: #f7fcf5\">&nbspINCHIOSTRO&nbsp</span><span class=\"barcode\"; style=\"color: black; background-color: #f7fcf5\">&nbsp)&nbsp</span><span class=\"barcode\"; style=\"color: black; background-color: #f7fcf5\">&nbsp1&nbsp</span><span class=\"barcode\"; style=\"color: black; background-color: #f7fcf5\">&nbsp)&nbsp</span><span class=\"barcode\"; style=\"color: black; background-color: #f7fcf5\">&nbspAPICI&nbsp</span><span class=\"barcode\"; style=\"color: black; background-color: #f7fcf5\">&nbsp;&nbsp</span><span class=\"barcode\"; style=\"color: black; background-color: #f7fcf5\">&nbsp2&nbsp</span><span class=\"barcode\"; style=\"color: black; background-color: #f7fcf5\">&nbsp-&nbsp</span><span class=\"barcode\"; style=\"color: black; background-color: #f7fcf5\">&nbsp3&nbsp</span><span class=\"barcode\"; style=\"color: black; background-color: #f7fcf5\">&nbsp)&nbsp</span><span class=\"barcode\"; style=\"color: black; background-color: #f7fcf5\">&nbspSEZIONI&nbsp</span><span class=\"barcode\"; style=\"color: black; background-color: #f7fcf5\">&nbspSERIATE&nbsp</span><span class=\"barcode\"; style=\"color: black; background-color: #f7fcf5\">&nbsp.&nbsp</span>"
      ],
      "text/plain": [
       "<IPython.core.display.HTML object>"
      ]
     },
     "metadata": {},
     "output_type": "display_data"
    },
    {
     "name": "stdout",
     "output_type": "stream",
     "text": [
      "======== doc:  48\n",
      "y: 37 (44-CUTE); yp: 37 (44-CUTE)\n",
      "0:-2.4 - 1:-10.1 - 2:-7.6 - 3:-8.5 - 4:-12.6 - 5:-7.0 - 6:-2.1 - 7:-2.7 - 8:-9.2 - 9:-7.5 - 10:-11.1 - 11:-8.2 - 12:-23.8 - 13:-13.3 - 14:-9.5 - 15:-13.2 - 16:-10.0 - 17:-13.0 - 18:-0.2 - 19:-10.2 - 20:-1.8 - 21:-2.0 - 22:-8.4 - 23:-10.9 - 24:-16.6 - 25:-11.6 - 26:-9.6 - 27:-3.0 - 28:-10.2 - 29:-3.4 - 30:-19.5 - 31:-3.6 - 32:-15.6 - 33:-9.4 - 34:-18.5 - 35:-7.4 - 36:-2.1 - 37:9.9 - 38:-8.8 - 39:-14.8 - 40:-1.8 - 41:-1.3 - 42:-0.9 - 43:-8.9 - 44:-5.8 - 45:-6.1 - 46:-11.3 - 47:-15.7 - 48:-16.2 - 49:-2.2 - 50:-3.3 - 51:-15.0 - 52:-6.7 - 53:-8.5 - 54:-25.4 - 55:-21.7 - 56:-4.1 - 57:-10.4 - 58:-2.6 - 59:-7.3 - 60:-4.9 - 61:-10.3 - 62:-8.2 - 63:-24.1 - 64:-5.3 - 65:-1.0 - 66:-3.9 - 67:-1.3\n",
      "---\n",
      "0\n"
     ]
    },
    {
     "data": {
      "text/html": [
       "<span class=\"barcode\"; style=\"color: black; background-color: #f6fcf4\">&nbspLESIONE&nbsp</span><span class=\"barcode\"; style=\"color: black; background-color: #eef8ea\">&nbspPAPULOSA&nbsp</span><span class=\"barcode\"; style=\"color: black; background-color: #f6fcf4\">&nbspIN&nbsp</span><span class=\"barcode\"; style=\"color: black; background-color: #eef8ea\">&nbspREGIONE&nbsp</span><span class=\"barcode\"; style=\"color: black; background-color: #c9eac2\">&nbspTEMPORALE&nbsp</span><span class=\"barcode\"; style=\"color: black; background-color: #f6fcf4\">&nbspSX&nbsp</span><span class=\"barcode\"; style=\"color: black; background-color: #f6fcf4\">&nbsp.&nbsp</span><span class=\"barcode\"; style=\"color: black; background-color: #f1faee\">&nbspOD&nbsp</span><span class=\"barcode\"; style=\"color: black; background-color: #f7fcf5\">&nbsp:&nbsp</span><span class=\"barcode\"; style=\"color: black; background-color: #e5f5e0\">&nbspBASALIOMA&nbsp</span><span class=\"barcode\"; style=\"color: black; background-color: #f6fcf4\">&nbsp.&nbsp</span><span class=\"barcode\"; style=\"color: black; background-color: #f4fbf1\">&nbspCARCINOMA&nbsp</span><span class=\"barcode\"; style=\"color: black; background-color: #f6fcf4\">&nbspA&nbsp</span><span class=\"barcode\"; style=\"color: black; background-color: #f4fbf1\">&nbspCELLULE&nbsp</span><span class=\"barcode\"; style=\"color: black; background-color: #dbf1d5\">&nbspBASALI&nbsp</span><span class=\"barcode\"; style=\"color: black; background-color: #f4fbf2\">&nbsp.&nbsp</span><span class=\"barcode\"; style=\"color: black; background-color: #f6fcf4\">&nbspLA&nbsp</span><span class=\"barcode\"; style=\"color: black; background-color: #f6fcf4\">&nbspPROLIFERAZIONE&nbsp</span><span class=\"barcode\"; style=\"color: black; background-color: #f6fcf4\">&nbspNEOPLASTICA&nbsp</span><span class=\"barcode\"; style=\"color: black; background-color: #f6fcf4\">&nbspE&nbsp</span><span class=\"barcode\"; style=\"color: black; background-color: #f6fcf4\">&nbsp'&nbsp</span><span class=\"barcode\"; style=\"color: black; background-color: #f5fbf3\">&nbspCONTENUTA&nbsp</span><span class=\"barcode\"; style=\"color: black; background-color: #f6fcf4\">&nbspENTRO&nbsp</span><span class=\"barcode\"; style=\"color: black; background-color: #f7fcf5\">&nbspI&nbsp</span><span class=\"barcode\"; style=\"color: black; background-color: #f7fcf5\">&nbspMARGINI&nbsp</span><span class=\"barcode\"; style=\"color: black; background-color: #f5fbf2\">&nbspDEL&nbsp</span><span class=\"barcode\"; style=\"color: black; background-color: #f4fbf2\">&nbspFRAMMENTO&nbsp</span><span class=\"barcode\"; style=\"color: black; background-color: #f6fcf4\">&nbsp.&nbsp</span><span class=\"barcode\"; style=\"color: black; background-color: #f5fbf3\">&nbspFRAMMENTO&nbsp</span><span class=\"barcode\"; style=\"color: black; background-color: #f5fbf2\">&nbspCUTANEO&nbsp</span><span class=\"barcode\"; style=\"color: black; background-color: #f7fcf5\">&nbspE&nbsp</span><span class=\"barcode\"; style=\"color: black; background-color: #f6fcf4\">&nbspSOTTOCUTANEO&nbsp</span><span class=\"barcode\"; style=\"color: black; background-color: #f7fcf5\">&nbspDI&nbsp</span><span class=\"barcode\"; style=\"color: black; background-color: #f7fcf5\">&nbspCM&nbsp</span><span class=\"barcode\"; style=\"color: black; background-color: #f7fcf5\">&nbsp1&nbsp</span><span class=\"barcode\"; style=\"color: black; background-color: #f7fcf5\">&nbspX&nbsp</span><span class=\"barcode\"; style=\"color: black; background-color: #f7fcf5\">&nbsp0&nbsp</span><span class=\"barcode\"; style=\"color: black; background-color: #f7fcf5\">&nbsp,&nbsp</span><span class=\"barcode\"; style=\"color: black; background-color: #f7fcf5\">&nbsp9&nbsp</span><span class=\"barcode\"; style=\"color: black; background-color: #f7fcf5\">&nbspX&nbsp</span><span class=\"barcode\"; style=\"color: black; background-color: #f7fcf5\">&nbsp0&nbsp</span><span class=\"barcode\"; style=\"color: black; background-color: #f7fcf5\">&nbsp,&nbsp</span><span class=\"barcode\"; style=\"color: black; background-color: #f7fcf5\">&nbsp3&nbsp</span><span class=\"barcode\"; style=\"color: black; background-color: #f7fcf5\">&nbspCON&nbsp</span><span class=\"barcode\"; style=\"color: black; background-color: #f7fcf5\">&nbspLESIONE&nbsp</span><span class=\"barcode\"; style=\"color: black; background-color: #f7fcf5\">&nbspDISCROMICA&nbsp</span><span class=\"barcode\"; style=\"color: black; background-color: #f7fcf5\">&nbspDI&nbsp</span><span class=\"barcode\"; style=\"color: black; background-color: #f7fcf5\">&nbspCM&nbsp</span><span class=\"barcode\"; style=\"color: black; background-color: #f7fcf5\">&nbsp0&nbsp</span><span class=\"barcode\"; style=\"color: black; background-color: #f7fcf5\">&nbsp,&nbsp</span><span class=\"barcode\"; style=\"color: black; background-color: #f7fcf5\">&nbsp8&nbsp</span><span class=\"barcode\"; style=\"color: black; background-color: #f7fcf5\">&nbspX&nbsp</span><span class=\"barcode\"; style=\"color: black; background-color: #f7fcf5\">&nbsp0&nbsp</span><span class=\"barcode\"; style=\"color: black; background-color: #f7fcf5\">&nbsp,&nbsp</span><span class=\"barcode\"; style=\"color: black; background-color: #f7fcf5\">&nbsp7&nbsp</span><span class=\"barcode\"; style=\"color: black; background-color: #f7fcf5\">&nbsp.&nbsp</span><span class=\"barcode\"; style=\"color: black; background-color: #f7fcf5\">&nbsp1&nbsp</span><span class=\"barcode\"; style=\"color: black; background-color: #f7fcf5\">&nbsp-&nbsp</span><span class=\"barcode\"; style=\"color: black; background-color: #f7fcf5\">&nbsp3&nbsp</span><span class=\"barcode\"; style=\"color: black; background-color: #f7fcf5\">&nbsp)&nbsp</span><span class=\"barcode\"; style=\"color: black; background-color: #f7fcf5\">&nbspSEZIONI&nbsp</span><span class=\"barcode\"; style=\"color: black; background-color: #f7fcf5\">&nbspA&nbsp</span><span class=\"barcode\"; style=\"color: black; background-color: #f7fcf5\">&nbspCROCE&nbsp</span><span class=\"barcode\"; style=\"color: black; background-color: #f7fcf5\">&nbsp(&nbsp</span><span class=\"barcode\"; style=\"color: black; background-color: #f7fcf5\">&nbspMARGINI&nbsp</span><span class=\"barcode\"; style=\"color: black; background-color: #f7fcf5\">&nbspMARCATI&nbsp</span><span class=\"barcode\"; style=\"color: black; background-color: #f7fcf5\">&nbspCON&nbsp</span><span class=\"barcode\"; style=\"color: black; background-color: #f7fcf5\">&nbspINCHIOSTRO&nbsp</span><span class=\"barcode\"; style=\"color: black; background-color: #f7fcf5\">&nbsp)&nbsp</span><span class=\"barcode\"; style=\"color: black; background-color: #f7fcf5\">&nbsp.&nbsp</span>"
      ],
      "text/plain": [
       "<IPython.core.display.HTML object>"
      ]
     },
     "metadata": {},
     "output_type": "display_data"
    },
    {
     "name": "stdout",
     "output_type": "stream",
     "text": [
      "======== doc:  49\n",
      "y: 50 (61-PROSTATA); yp: 50 (61-PROSTATA)\n",
      "0:-18.8 - 1:-11.7 - 2:-12.3 - 3:-23.8 - 4:-19.6 - 5:-10.0 - 6:-12.8 - 7:-10.8 - 8:-13.3 - 9:-8.2 - 10:-12.7 - 11:-17.6 - 12:-12.8 - 13:-13.2 - 14:-11.1 - 15:-14.6 - 16:-10.6 - 17:-16.7 - 18:-3.9 - 19:-8.3 - 20:-9.7 - 21:-15.1 - 22:-7.3 - 23:-1.3 - 24:-8.7 - 25:-9.3 - 26:-12.4 - 27:-12.9 - 28:-19.0 - 29:-5.9 - 30:-9.2 - 31:-0.7 - 32:-17.7 - 33:-13.2 - 34:-34.0 - 35:-28.8 - 36:-5.2 - 37:-0.7 - 38:-23.6 - 39:-14.7 - 40:-9.4 - 41:-10.4 - 42:-12.9 - 43:-18.8 - 44:-6.4 - 45:-2.7 - 46:-10.4 - 47:-10.2 - 48:-14.1 - 49:-14.2 - 50:8.0 - 51:-11.2 - 52:-25.2 - 53:-2.2 - 54:-19.0 - 55:-13.5 - 56:-2.2 - 57:-3.9 - 58:-14.5 - 59:-5.7 - 60:-12.9 - 61:-17.8 - 62:-4.7 - 63:-15.5 - 64:-7.8 - 65:-12.3 - 66:-6.5 - 67:-5.6\n",
      "---\n",
      "0\n"
     ]
    },
    {
     "data": {
      "text/html": [
       "<span class=\"barcode\"; style=\"color: black; background-color: #f7fcf5\">&nbspDISOMOGENICITA&nbsp</span><span class=\"barcode\"; style=\"color: black; background-color: #f7fcf5\">&nbsp'&nbsp</span><span class=\"barcode\"; style=\"color: black; background-color: #f7fcf5\">&nbspDIFFUSE&nbsp</span><span class=\"barcode\"; style=\"color: black; background-color: #f7fcf5\">&nbsp.&nbsp</span><span class=\"barcode\"; style=\"color: black; background-color: #f6fcf4\">&nbspPSA&nbsp</span><span class=\"barcode\"; style=\"color: black; background-color: #f7fcf5\">&nbspNON&nbsp</span><span class=\"barcode\"; style=\"color: black; background-color: #f7fcf5\">&nbspPERVENUTO&nbsp</span><span class=\"barcode\"; style=\"color: black; background-color: #f7fcf5\">&nbsp.&nbsp</span><span class=\"barcode\"; style=\"color: black; background-color: #f6fcf4\">&nbspADENOCARCINOMA&nbsp</span><span class=\"barcode\"; style=\"color: black; background-color: #004c1e\">&nbspPROSTATICO&nbsp</span><span class=\"barcode\"; style=\"color: black; background-color: #f7fcf5\">&nbspA&nbsp</span><span class=\"barcode\"; style=\"color: black; background-color: #f7fcf5\">&nbspGRADO&nbsp</span><span class=\"barcode\"; style=\"color: black; background-color: #f7fcf5\">&nbspDI&nbsp</span><span class=\"barcode\"; style=\"color: black; background-color: #f7fcf5\">&nbspDIFFERENZIAZIONE&nbsp</span><span class=\"barcode\"; style=\"color: black; background-color: #f7fcf5\">&nbspMEDIO&nbsp</span><span class=\"barcode\"; style=\"color: black; background-color: #f7fcf5\">&nbsp-&nbsp</span><span class=\"barcode\"; style=\"color: black; background-color: #f7fcf5\">&nbspBASSO&nbsp</span><span class=\"barcode\"; style=\"color: black; background-color: #f7fcf5\">&nbsp(&nbsp</span><span class=\"barcode\"; style=\"color: black; background-color: #f6fcf4\">&nbspGLEASON&nbsp</span><span class=\"barcode\"; style=\"color: black; background-color: #f7fcf5\">&nbsp3&nbsp</span><span class=\"barcode\"; style=\"color: black; background-color: #f7fcf5\">&nbsp+&nbsp</span><span class=\"barcode\"; style=\"color: black; background-color: #f7fcf5\">&nbsp4&nbsp</span><span class=\"barcode\"; style=\"color: black; background-color: #f7fcf5\">&nbsp)&nbsp</span><span class=\"barcode\"; style=\"color: black; background-color: #f7fcf5\">&nbspNEI&nbsp</span><span class=\"barcode\"; style=\"color: black; background-color: #f7fcf5\">&nbspPRELIEVI&nbsp</span><span class=\"barcode\"; style=\"color: black; background-color: #f7fcf5\">&nbspDI&nbsp</span><span class=\"barcode\"; style=\"color: black; background-color: #f7fcf5\">&nbspCUI&nbsp</span><span class=\"barcode\"; style=\"color: black; background-color: #f7fcf5\">&nbspAI&nbsp</span><span class=\"barcode\"; style=\"color: black; background-color: #f7fcf5\">&nbspNN&nbsp</span><span class=\"barcode\"; style=\"color: black; background-color: #f7fcf5\">&nbsp.&nbsp</span><span class=\"barcode\"; style=\"color: black; background-color: #f7fcf5\">&nbsp2&nbsp</span><span class=\"barcode\"; style=\"color: black; background-color: #f7fcf5\">&nbspE&nbsp</span><span class=\"barcode\"; style=\"color: black; background-color: #f7fcf5\">&nbsp3&nbsp</span><span class=\"barcode\"; style=\"color: black; background-color: #f7fcf5\">&nbsp.&nbsp</span><span class=\"barcode\"; style=\"color: black; background-color: #f7fcf5\">&nbspAGOBIOPSIA&nbsp</span><span class=\"barcode\"; style=\"color: black; background-color: #f7fcf5\">&nbspDELLA&nbsp</span><span class=\"barcode\"; style=\"color: black; background-color: #f7fcf5\">&nbspPROSTATA&nbsp</span><span class=\"barcode\"; style=\"color: black; background-color: #f7fcf5\">&nbsp:&nbsp</span><span class=\"barcode\"; style=\"color: black; background-color: #f7fcf5\">&nbsp1&nbsp</span><span class=\"barcode\"; style=\"color: black; background-color: #f7fcf5\">&nbsp)&nbsp</span><span class=\"barcode\"; style=\"color: black; background-color: #f7fcf5\">&nbsp1&nbsp</span><span class=\"barcode\"; style=\"color: black; background-color: #f7fcf5\">&nbspPRELIEVO&nbsp</span><span class=\"barcode\"; style=\"color: black; background-color: #f7fcf5\">&nbspLL&nbsp</span><span class=\"barcode\"; style=\"color: black; background-color: #f7fcf5\">&nbspDX&nbsp</span><span class=\"barcode\"; style=\"color: black; background-color: #f7fcf5\">&nbsp.&nbsp</span><span class=\"barcode\"; style=\"color: black; background-color: #f7fcf5\">&nbsp2&nbsp</span><span class=\"barcode\"; style=\"color: black; background-color: #f7fcf5\">&nbsp)&nbsp</span><span class=\"barcode\"; style=\"color: black; background-color: #f7fcf5\">&nbsp2&nbsp</span><span class=\"barcode\"; style=\"color: black; background-color: #f7fcf5\">&nbspPRELIEVI&nbsp</span><span class=\"barcode\"; style=\"color: black; background-color: #f7fcf5\">&nbspML&nbsp</span><span class=\"barcode\"; style=\"color: black; background-color: #f7fcf5\">&nbspDX&nbsp</span><span class=\"barcode\"; style=\"color: black; background-color: #f7fcf5\">&nbsp.&nbsp</span><span class=\"barcode\"; style=\"color: black; background-color: #f7fcf5\">&nbsp3&nbsp</span><span class=\"barcode\"; style=\"color: black; background-color: #f7fcf5\">&nbsp)&nbsp</span><span class=\"barcode\"; style=\"color: black; background-color: #f7fcf5\">&nbsp2&nbsp</span><span class=\"barcode\"; style=\"color: black; background-color: #f7fcf5\">&nbspPRELIEVI&nbsp</span><span class=\"barcode\"; style=\"color: black; background-color: #f7fcf5\">&nbspM&nbsp</span><span class=\"barcode\"; style=\"color: black; background-color: #f7fcf5\">&nbspDX&nbsp</span><span class=\"barcode\"; style=\"color: black; background-color: #f7fcf5\">&nbsp.&nbsp</span><span class=\"barcode\"; style=\"color: black; background-color: #f7fcf5\">&nbsp4&nbsp</span><span class=\"barcode\"; style=\"color: black; background-color: #f7fcf5\">&nbsp)&nbsp</span><span class=\"barcode\"; style=\"color: black; background-color: #f7fcf5\">&nbsp1&nbsp</span><span class=\"barcode\"; style=\"color: black; background-color: #f7fcf5\">&nbspPRELIEVO&nbsp</span><span class=\"barcode\"; style=\"color: black; background-color: #f7fcf5\">&nbspM&nbsp</span><span class=\"barcode\"; style=\"color: black; background-color: #f7fcf5\">&nbspSX&nbsp</span><span class=\"barcode\"; style=\"color: black; background-color: #f7fcf5\">&nbsp.&nbsp</span><span class=\"barcode\"; style=\"color: black; background-color: #f7fcf5\">&nbsp5&nbsp</span><span class=\"barcode\"; style=\"color: black; background-color: #f7fcf5\">&nbsp)&nbsp</span><span class=\"barcode\"; style=\"color: black; background-color: #f7fcf5\">&nbsp2&nbsp</span><span class=\"barcode\"; style=\"color: black; background-color: #f7fcf5\">&nbspPRELIEVI&nbsp</span><span class=\"barcode\"; style=\"color: black; background-color: #f7fcf5\">&nbspML&nbsp</span><span class=\"barcode\"; style=\"color: black; background-color: #f7fcf5\">&nbspSX&nbsp</span><span class=\"barcode\"; style=\"color: black; background-color: #f7fcf5\">&nbsp.&nbsp</span><span class=\"barcode\"; style=\"color: black; background-color: #f7fcf5\">&nbsp6&nbsp</span><span class=\"barcode\"; style=\"color: black; background-color: #f7fcf5\">&nbsp)&nbsp</span><span class=\"barcode\"; style=\"color: black; background-color: #f7fcf5\">&nbsp1&nbsp</span><span class=\"barcode\"; style=\"color: black; background-color: #f7fcf5\">&nbspPRELIEVO&nbsp</span><span class=\"barcode\"; style=\"color: black; background-color: #f7fcf5\">&nbspLL&nbsp</span><span class=\"barcode\"; style=\"color: black; background-color: #f7fcf5\">&nbspSX&nbsp</span><span class=\"barcode\"; style=\"color: black; background-color: #f7fcf5\">&nbsp.&nbsp</span><span class=\"barcode\"; style=\"color: black; background-color: #f7fcf5\">&nbsp7&nbsp</span><span class=\"barcode\"; style=\"color: black; background-color: #f7fcf5\">&nbsp)&nbsp</span><span class=\"barcode\"; style=\"color: black; background-color: #f7fcf5\">&nbsp1&nbsp</span><span class=\"barcode\"; style=\"color: black; background-color: #f7fcf5\">&nbspPRELIEVO&nbsp</span><span class=\"barcode\"; style=\"color: black; background-color: #f7fcf5\">&nbspTRANSIZIONALE&nbsp</span><span class=\"barcode\"; style=\"color: black; background-color: #f7fcf5\">&nbspSX&nbsp</span><span class=\"barcode\"; style=\"color: black; background-color: #f7fcf5\">&nbsp.&nbsp</span><span class=\"barcode\"; style=\"color: black; background-color: #f7fcf5\">&nbsp8&nbsp</span><span class=\"barcode\"; style=\"color: black; background-color: #f7fcf5\">&nbsp)&nbsp</span><span class=\"barcode\"; style=\"color: black; background-color: #f7fcf5\">&nbsp1&nbsp</span><span class=\"barcode\"; style=\"color: black; background-color: #f7fcf5\">&nbspPRELIEVO&nbsp</span><span class=\"barcode\"; style=\"color: black; background-color: #f7fcf5\">&nbspTRANSIZIONALE&nbsp</span><span class=\"barcode\"; style=\"color: black; background-color: #f7fcf5\">&nbspDX&nbsp</span><span class=\"barcode\"; style=\"color: black; background-color: #f7fcf5\">&nbsp.&nbsp</span>"
      ],
      "text/plain": [
       "<IPython.core.display.HTML object>"
      ]
     },
     "metadata": {},
     "output_type": "display_data"
    }
   ],
   "source": [
    "printed = 0\n",
    "for currDoc in range(visRange[0], visRange[1]):\n",
    "    if binary and (not only is None) and (not yt[currDoc][0] in only):\n",
    "        continue\n",
    "    if (not binary) and (not only is None) and (not yt[currDoc] in only):\n",
    "        continue\n",
    "    print(\"======== doc: \", currDoc)\n",
    "    if binary:\n",
    "        currYt = yt[currDoc][0]\n",
    "        currYp = yp[currDoc][0]\n",
    "        print(\"y: {}; yp: {}\".format(currYt, currYp))\n",
    "    else:\n",
    "        currYt = yt[currDoc]\n",
    "        currYp = yp[currDoc]\n",
    "        print(\"y: {} ({}-{}); yp: {} ({}-{})\".format(currYt, values[currYt], icdo[values[currYt]], np.argmax(currYp), values[np.argmax(currYp)], icdo[values[np.argmax(currYp)]]))\n",
    "        print(\" - \".join([\"{}:{:.1f}\".format(i,p) for i,p in enumerate(currYp)]))\n",
    "    if colonRetto:\n",
    "        if currYt == 1.:\n",
    "            print(\"Retto\")\n",
    "        elif currYt == 0.:\n",
    "            print(\"Colon\")\n",
    "    print(\"---\")\n",
    "    for currAttNum in range(att[currDoc].shape[1]):\n",
    "        if binary or not hiddenEqualClasses:\n",
    "            print(currAttNum)\n",
    "        else:\n",
    "            print(\"{} ({}-{})\".format(currAttNum, values[currAttNum], icdo[values[currAttNum]]))\n",
    "        currAtt = att[currDoc][:,currAttNum]\n",
    "        if printWhat == 'all':\n",
    "            s = colorize(text[currDoc], currAtt, diverging=False, color=currAttNum)\n",
    "        else:\n",
    "            maxAtt = np.zeros_like(currAtt)\n",
    "            if printWhat == 'maxed':\n",
    "                maxAtt[np.argmax(currAtt)] = 1\n",
    "            if printWhat == 'max':\n",
    "                maxAtt[np.argmax(currAtt)] = currAtt[np.argmax(currAtt)]\n",
    "            s = colorize(text[currDoc], maxAtt, diverging=False, color=currAttNum)\n",
    "            \n",
    "    printed += 1\n",
    "    if (not visLimit is None) and (printed >= visLimit):\n",
    "        break"
   ]
  },
  {
   "cell_type": "code",
   "execution_count": 40,
   "metadata": {
    "scrolled": true
   },
   "outputs": [
    {
     "name": "stdout",
     "output_type": "stream",
     "text": [
      "======== doc:  837\n",
      "y: 31 (34-BRONCO E POLMONE); yp: 31 (34-BRONCO E POLMONE)\n",
      "Relevant attentions:\n",
      "31 (34-BRONCO E POLMONE)\n",
      "---\n",
      "34&\\begin{minipage}{\\attTableIcdoWidth}\\att{34}{red}{100} \\att{(BRONCHUS}{red}{100} \\att{AND}{red}{100} \\att{LUNG)}{red}{100} \\end{minipage}&\\begin{minipage}{\\attTableTextWidth}\\att{REPERTI}{red}{0} \\att{MORFOLOGICI}{red}{0} \\att{ED}{red}{0} \\att{IMMUNOISTOCHIMICI}{red}{0} \\att{(}{red}{0} \\att{CK7}{red}{0} \\att{+}{red}{0} \\att{,}{red}{0} \\att{CD56}{red}{43} \\att{+}{red}{0} \\att{,}{red}{0} \\att{NSE}{red}{0} \\att{+}{red}{0} \\att{,}{red}{0} \\att{CROMOGRANINA}{red}{0} \\att{+}{red}{0} \\att{,}{red}{0} \\att{LCA}{red}{0} \\att{-}{red}{0} \\att{)}{red}{0} \\att{COMPATIBILI}{red}{0} \\att{CON}{red}{0} \\att{CARCINOMA}{red}{0} \\att{A}{red}{0} \\att{PICCOLE}{red}{100} \\att{CELLULE}{red}{99} \\att{.}{red}{0} \\att{A}{red}{0} \\att{)}{red}{0} \\att{BIOPSIA}{red}{0} \\att{BRONCHIALE}{red}{100} \\att{DEL}{red}{0} \\att{POLMONE}{red}{100} \\att{SINISTRO}{red}{100} \\att{(}{red}{0} \\att{PRELIEVI}{red}{0} \\att{:}{red}{0} \\att{N}{red}{0} \\att{¦}{red}{0} \\att{5}{red}{0} \\att{)}{red}{0} \\att{.}{red}{0} \\end{minipage}\\\\\n",
      "======== doc:  854\n",
      "y: 31 (34-BRONCO E POLMONE); yp: 31 (34-BRONCO E POLMONE)\n",
      "Relevant attentions:\n",
      "22 (22-FEGATO E DOTTI BILIARI INTRAEPATICI)\n",
      "31 (34-BRONCO E POLMONE)\n",
      "---\n",
      "34&\\begin{minipage}{\\attTableIcdoWidth}\\att{\\att{22}{red}{100}}{green}{0} \\att{\\att{(LIVER}{red}{100}}{green}{0} \\att{\\att{AND}{red}{100}}{green}{0} \\att{\\att{INTRAHEPATIC}{red}{100}}{green}{0} \\att{\\att{BILE}{red}{100}}{green}{0} \\att{\\att{DUCT)}{red}{100}}{green}{0} \\\\\\\\\\att{\\att{34}{red}{0}}{green}{100} \\att{\\att{(BRONCHUS}{red}{0}}{green}{100} \\att{\\att{AND}{red}{0}}{green}{100} \\att{\\att{LUNG)}{red}{0}}{green}{100} \\end{minipage}&\\begin{minipage}{\\attTableTextWidth}\\att{\\att{REPERTI}{red}{0}}{green}{0} \\att{\\att{ISTOMORFOLOGICI}{red}{64}}{green}{0} \\att{\\att{SUGGESTIVI}{red}{0}}{green}{0} \\att{\\att{PER}{red}{0}}{green}{0} \\att{\\att{CARCINOMA}{red}{0}}{green}{0} \\att{\\att{NON}{red}{0}}{green}{0} \\att{\\att{A}{red}{0}}{green}{0} \\att{\\att{PICCOLE}{red}{0}}{green}{100} \\att{\\att{CELLULE}{red}{0}}{green}{100} \\att{\\att{.}{red}{0}}{green}{0} \\att{\\att{FRUSTOLO}{red}{0}}{green}{0} \\att{\\att{AGOBIOPTICO}{red}{0}}{green}{1} \\att{\\att{POLMONARE}{red}{0}}{green}{100} \\att{\\att{(}{red}{0}}{green}{0} \\att{\\att{GI}{red}{0}}{green}{1} \\att{\\att{+}{red}{0}}{green}{0} \\att{\\att{IN}{red}{0}}{green}{0} \\att{\\att{BIOCASETTA}{red}{0}}{green}{3} \\att{\\att{)}{red}{0}}{green}{0} \\att{\\att{.}{red}{0}}{green}{0} \\att{\\att{(}{red}{0}}{green}{0} \\att{\\att{ESEGUITA}{red}{0}}{green}{0} \\att{\\att{COLORAZIONE}{red}{0}}{green}{0} \\att{\\att{EMATOSSILINA}{red}{0}}{green}{0} \\att{\\att{-}{red}{0}}{green}{0} \\att{\\att{EOSINA}{red}{0}}{green}{0} \\att{\\att{)}{red}{0}}{green}{0} \\att{\\att{.}{red}{0}}{green}{0} \\end{minipage}\\\\\n",
      "======== doc:  867\n",
      "y: 31 (34-BRONCO E POLMONE); yp: 31 (34-BRONCO E POLMONE)\n",
      "Relevant attentions:\n",
      "31 (34-BRONCO E POLMONE)\n",
      "---\n",
      "34&\\begin{minipage}{\\attTableIcdoWidth}\\att{34}{red}{100} \\att{(BRONCHUS}{red}{100} \\att{AND}{red}{100} \\att{LUNG)}{red}{100} \\end{minipage}&\\begin{minipage}{\\attTableTextWidth}\\att{NEOPLASIA}{red}{0} \\att{DEL}{red}{0} \\att{POLMONE}{red}{100} \\att{SINISTRO}{red}{0} \\att{.}{red}{0} \\att{ADENOCARCINOMA}{red}{0} \\att{POLMONARE}{red}{100} \\att{DI}{red}{0} \\att{TIPO}{red}{0} \\att{ACINARE}{red}{0} \\att{A}{red}{0} \\att{MEDIO}{red}{0} \\att{GRADO}{red}{0} \\att{DI}{red}{0} \\att{DIFFERENZIAZIONE}{red}{0} \\att{INFILTRANTE}{red}{0} \\att{I}{red}{0} \\att{LINFONODI}{red}{0} \\att{ILARI}{red}{0} \\att{.}{red}{0} \\att{IMMUNOISTOCHIMICA}{red}{0} \\att{:}{red}{0} \\att{TTF}{red}{0} \\att{-}{red}{0} \\att{1}{red}{0} \\att{+}{red}{0} \\att{,}{red}{0} \\att{CK7}{red}{0} \\att{+}{red}{0} \\att{,}{red}{0} \\att{CK20}{red}{0} \\att{-}{red}{0} \\att{,}{red}{0} \\att{CDX}{red}{0} \\att{-}{red}{0} \\att{2}{red}{0} \\att{-}{red}{0} \\att{.}{red}{0} \\att{NESSUNA}{red}{0} \\att{DOCUMENTABILE}{red}{0} \\att{PROLIFERAZIONE}{red}{0} \\att{NEOPLASTICA}{red}{0} \\att{NEL}{red}{0} \\att{MARGINE}{red}{0} \\att{BRONCHIALE}{red}{100} \\att{DI}{red}{0} \\att{RESEZIONE}{red}{0} \\att{CHIRURGICA}{red}{0} \\att{E}{red}{0} \\att{NEI}{red}{0} \\att{RESTANTI}{red}{0} \\att{LINFONODI}{red}{0} \\att{IN}{red}{0} \\att{ESAME}{red}{0} \\att{.}{red}{0} \\att{(}{red}{0} \\att{PT1}{red}{0} \\att{,}{red}{0} \\att{N1}{red}{0} \\att{,}{red}{0} \\att{MX}{red}{0} \\att{,}{red}{0} \\att{RX}{red}{0} \\att{)}{red}{0} \\att{.}{red}{0} \\att{A}{red}{0} \\att{:}{red}{0} \\att{1}{red}{0} \\att{)}{red}{0} \\att{LIMITE}{red}{0} \\att{DI}{red}{0} \\att{SEZIONE}{red}{0} \\att{CHIRURGICA}{red}{0} \\att{BRONCHIALE}{red}{99} \\att{.}{red}{0} \\att{2}{red}{0} \\att{-}{red}{0} \\att{4}{red}{0} \\att{)}{red}{0} \\att{NEOPLASIA}{red}{0} \\att{PERIFERICA}{red}{0} \\att{INVIATA}{red}{0} \\att{SEPARATAMENTE}{red}{0} \\att{.}{red}{0} \\att{5}{red}{0} \\att{)}{red}{0} \\att{LINFONODI}{red}{0} \\att{PERIBRONCHIALI}{red}{0} \\att{.}{red}{0} \\att{6}{red}{0} \\att{)}{red}{0} \\att{FRAMMENTO}{red}{0} \\att{DI}{red}{0} \\att{PARENCHIMA}{red}{0} \\att{POLMONARE}{red}{100} \\att{.}{red}{0} \\att{B}{red}{0} \\att{:}{red}{0} \\att{1}{red}{0} \\att{)}{red}{0} \\end{minipage}\\\\\n",
      "======== doc:  874\n",
      "y: 29 (32-LARINGE); yp: 29 (32-LARINGE)\n",
      "Relevant attentions:\n",
      "29 (32-LARINGE)\n",
      "---\n",
      "32&\\begin{minipage}{\\attTableIcdoWidth}\\att{32}{red}{100} \\att{(LARYNX)}{red}{100} \\end{minipage}&\\begin{minipage}{\\attTableTextWidth}\\att{PAZIENTE}{red}{0} \\att{CON}{red}{0} \\att{NEOFORMAZIONE}{red}{0} \\att{CORDA}{red}{50} \\att{COMMISSURALE}{red}{11} \\att{SX}{red}{0} \\att{CARCINOMA}{red}{0} \\att{A}{red}{0} \\att{CELLULE}{red}{0} \\att{SQUAMOSE}{red}{0} \\att{A}{red}{0} \\att{BASSO}{red}{0} \\att{GRADO}{red}{0} \\att{DI}{red}{0} \\att{DIFFERENZIAZIONE}{red}{0} \\att{.}{red}{0} \\att{DISPLASIA}{red}{0} \\att{SEVERA}{red}{0} \\att{DELL}{red}{0} \\att{'}{red}{0} \\att{EPITELIO}{red}{0} \\att{DI}{red}{0} \\att{RIVESTIMENTO}{red}{0} \\att{NEL}{red}{0} \\att{PRELIEVO}{red}{0} \\att{RELATIVO}{red}{0} \\att{AL}{red}{0} \\att{MARGINE}{red}{0} \\att{SUPERIORE}{red}{0} \\att{(}{red}{0} \\att{N}{red}{0} \\att{.}{red}{0} \\att{1}{red}{0} \\att{)}{red}{0} \\att{.}{red}{0} \\att{EMILARINGE}{red}{63} \\att{SIN}{red}{0} \\att{:}{red}{0} \\att{A}{red}{0} \\att{:}{red}{0} \\att{EPIGLOTTIDE}{red}{66} \\att{E}{red}{0} \\att{TRATTO}{red}{0} \\att{CORDO}{red}{1} \\att{-}{red}{0} \\att{COMMISSURALE}{red}{1} \\att{DI}{red}{0} \\att{CM}{red}{0} \\att{6}{red}{0} \\att{X}{red}{0} \\att{4}{red}{0} \\att{X}{red}{0} \\att{3}{red}{0} \\att{CON}{red}{0} \\att{NEOFORMAZIONE}{red}{0} \\att{DI}{red}{0} \\att{CM}{red}{0} \\att{2}{red}{0} \\att{,}{red}{0} \\att{5}{red}{0} \\att{X}{red}{0} \\att{1}{red}{0} \\att{,}{red}{0} \\att{5}{red}{0} \\att{IN}{red}{0} \\att{SEDE}{red}{0} \\att{CORDO}{red}{0} \\att{-}{red}{0} \\att{COMMISSURALE}{red}{0} \\att{DX}{red}{0} \\att{(}{red}{0} \\att{MARGINI}{red}{0} \\att{MARCATI}{red}{0} \\att{CON}{red}{0} \\att{INCHIOSTRO}{red}{0} \\att{)}{red}{0} \\att{.}{red}{0} \\att{PRESENZA}{red}{0} \\att{INOLTRE}{red}{0} \\att{DI}{red}{0} \\att{TESSUTO}{red}{0} \\att{IPOFARINGEO}{red}{0} \\att{.}{red}{0} \\att{1}{red}{0} \\att{)}{red}{0} \\att{MARGINE}{red}{0} \\att{SUPERIORE}{red}{0} \\att{.}{red}{0} \\att{2}{red}{0} \\att{)}{red}{0} \\att{MARGINE}{red}{0} \\att{INFERIORE}{red}{0} \\att{.}{red}{0} \\att{3}{red}{0} \\att{)}{red}{0} \\att{MARGINE}{red}{0} \\att{LATERALE}{red}{0} \\att{DX}{red}{0} \\att{.}{red}{0} \\att{4}{red}{0} \\end{minipage}\\\\\n",
      "======== doc:  887\n",
      "y: 31 (34-BRONCO E POLMONE); yp: 31 (34-BRONCO E POLMONE)\n",
      "Relevant attentions:\n",
      "31 (34-BRONCO E POLMONE)\n",
      "---\n",
      "34&\\begin{minipage}{\\attTableIcdoWidth}\\att{34}{red}{100} \\att{(BRONCHUS}{red}{100} \\att{AND}{red}{100} \\att{LUNG)}{red}{100} \\end{minipage}&\\begin{minipage}{\\attTableTextWidth}\\att{CARCINOMA}{red}{0} \\att{NON}{red}{0} \\att{PICCOLE}{red}{7} \\att{CELLULE}{red}{1} \\att{,}{red}{0} \\att{INFILTRANTE}{red}{0} \\att{LA}{red}{0} \\att{PORZIONE}{red}{0} \\att{PROFONDA}{red}{0} \\att{DEL}{red}{0} \\att{CORION}{red}{0} \\att{NEL}{red}{0} \\att{FRAMMENTO}{red}{0} \\att{DI}{red}{0} \\att{MUCOSA}{red}{0} \\att{BRONCHIALE}{red}{100} \\att{IN}{red}{0} \\att{ESAME}{red}{0} \\att{.}{red}{0} \\att{BIOPSIA}{red}{0} \\att{BRONCHIALE}{red}{100} \\att{:}{red}{0} \\att{NEOFORMAZIONE}{red}{0} \\att{VEGETANTE}{red}{0} \\att{DEL}{red}{0} \\att{BRONCO}{red}{100} \\att{LOBARE}{red}{100} \\att{SUPERIORE}{red}{1} \\att{DESTRO}{red}{0} \\att{CHE}{red}{0} \\att{OCCLUDE}{red}{0} \\att{COMPLETAMENTE}{red}{0} \\att{I}{red}{0} \\att{SEGMENTI}{red}{0} \\att{APICALE}{red}{0} \\att{E}{red}{0} \\att{DORSALE}{red}{0} \\att{(}{red}{0} \\att{PRELIEVI}{red}{0} \\att{:}{red}{0} \\att{N}{red}{0} \\att{¦}{red}{0} \\att{1}{red}{0} \\att{)}{red}{0} \\att{.}{red}{0} \\end{minipage}\\\\\n",
      "======== doc:  920\n",
      "y: 31 (34-BRONCO E POLMONE); yp: 31 (34-BRONCO E POLMONE)\n",
      "Relevant attentions:\n",
      "31 (34-BRONCO E POLMONE)\n",
      "---\n",
      "34&\\begin{minipage}{\\attTableIcdoWidth}\\att{34}{red}{100} \\att{(BRONCHUS}{red}{100} \\att{AND}{red}{100} \\att{LUNG)}{red}{100} \\end{minipage}&\\begin{minipage}{\\attTableTextWidth}\\att{FRAMMISTI}{red}{0} \\att{A}{red}{0} \\att{CELLULE}{red}{0} \\att{BRONCHIALI}{red}{100} \\att{CILIATE}{red}{100} \\att{SI}{red}{0} \\att{DOCUMENTANO}{red}{0} \\att{ELEMENTI}{red}{0} \\att{CELLULARI}{red}{0} \\att{ISOLATI}{red}{0} \\att{O}{red}{0} \\att{IN}{red}{0} \\att{PICCOLI}{red}{0} \\att{GRUPPI}{red}{0} \\att{CON}{red}{0} \\att{ATIPIE}{red}{0} \\att{COMPATIBILI}{red}{0} \\att{CON}{red}{0} \\att{CARCINOMA}{red}{0} \\att{INDIFFERENZIATO}{red}{96} \\att{(}{red}{0} \\att{POSSIBILE}{red}{1} \\att{CARCINOMA}{red}{0} \\att{ANAPLASTICO}{red}{9} \\att{A}{red}{0} \\att{PICCOLE}{red}{100} \\att{CELLULE}{red}{100} \\att{)}{red}{0} \\att{.}{red}{0} \\end{minipage}\\\\\n",
      "======== doc:  923\n",
      "y: 31 (34-BRONCO E POLMONE); yp: 31 (34-BRONCO E POLMONE)\n",
      "Relevant attentions:\n",
      "31 (34-BRONCO E POLMONE)\n",
      "47 (56-OVAIO)\n",
      "56 (67-VESCICA)\n",
      "67 (80-SEDE PRIMITIVA IGNOTA)\n",
      "---\n"
     ]
    },
    {
     "name": "stdout",
     "output_type": "stream",
     "text": [
      "34&\\begin{minipage}{\\attTableIcdoWidth}\\att{\\att{\\att{\\att{34}{red}{100}}{green}{0}}{blue}{0}}{black}{0} \\att{\\att{\\att{\\att{(BRONCHUS}{red}{100}}{green}{0}}{blue}{0}}{black}{0} \\att{\\att{\\att{\\att{AND}{red}{100}}{green}{0}}{blue}{0}}{black}{0} \\att{\\att{\\att{\\att{LUNG)}{red}{100}}{green}{0}}{blue}{0}}{black}{0} \\\\\\\\\\att{\\att{\\att{\\att{56}{red}{0}}{green}{100}}{blue}{0}}{black}{0} \\att{\\att{\\att{\\att{(OVARY)}{red}{0}}{green}{100}}{blue}{0}}{black}{0} \\\\\\\\\\att{\\att{\\att{\\att{67}{red}{0}}{green}{0}}{blue}{100}}{black}{0} \\att{\\att{\\att{\\att{(BLADDER)}{red}{0}}{green}{0}}{blue}{100}}{black}{0} \\\\\\\\\\att{\\att{\\att{\\att{80}{red}{0}}{green}{0}}{blue}{0}}{black}{100} \\att{\\att{\\att{\\att{(UNKNOWN}{red}{0}}{green}{0}}{blue}{0}}{black}{100} \\att{\\att{\\att{\\att{PRIMARY}{red}{0}}{green}{0}}{blue}{0}}{black}{100} \\att{\\att{\\att{\\att{SITE)}{red}{0}}{green}{0}}{blue}{0}}{black}{100} \\end{minipage}&\\begin{minipage}{\\attTableTextWidth}\\att{\\att{\\att{\\att{VERSAMENTO}{red}{5}}{green}{0}}{blue}{0}}{black}{0} \\att{\\att{\\att{\\att{PLEURICO}{red}{100}}{green}{55}}{blue}{0}}{black}{5} \\att{\\att{\\att{\\att{SX}{red}{24}}{green}{0}}{blue}{0}}{black}{0} \\att{\\att{\\att{\\att{DI}{red}{0}}{green}{0}}{blue}{0}}{black}{0} \\att{\\att{\\att{\\att{N}{red}{0}}{green}{0}}{blue}{0}}{black}{0} \\att{\\att{\\att{\\att{.}{red}{0}}{green}{0}}{blue}{0}}{black}{0} \\att{\\att{\\att{\\att{D}{red}{0}}{green}{0}}{blue}{0}}{black}{0} \\att{\\att{\\att{\\att{.}{red}{0}}{green}{0}}{blue}{0}}{black}{0} \\att{\\att{\\att{\\att{D}{red}{0}}{green}{0}}{blue}{0}}{black}{0} \\att{\\att{\\att{\\att{.}{red}{0}}{green}{0}}{blue}{0}}{black}{0} \\att{\\att{\\att{\\att{E}{red}{0}}{green}{0}}{blue}{0}}{black}{0} \\att{\\att{\\att{\\att{ADDENSAMENTI}{red}{16}}{green}{0}}{blue}{0}}{black}{0} \\att{\\att{\\att{\\att{POLMONARI}{red}{100}}{green}{0}}{blue}{0}}{black}{0} \\att{\\att{\\att{\\att{DI}{red}{0}}{green}{0}}{blue}{0}}{black}{0} \\att{\\att{\\att{\\att{N}{red}{0}}{green}{0}}{blue}{0}}{black}{0} \\att{\\att{\\att{\\att{.}{red}{0}}{green}{0}}{blue}{0}}{black}{0} \\att{\\att{\\att{\\att{D}{red}{0}}{green}{0}}{blue}{0}}{black}{0} \\att{\\att{\\att{\\att{.}{red}{0}}{green}{0}}{blue}{0}}{black}{0} \\att{\\att{\\att{\\att{D}{red}{0}}{green}{0}}{blue}{0}}{black}{0} \\att{\\att{\\att{\\att{.}{red}{0}}{green}{0}}{blue}{0}}{black}{0} \\att{\\att{\\att{\\att{,}{red}{0}}{green}{0}}{blue}{0}}{black}{0} \\att{\\att{\\att{\\att{NODULI}{red}{0}}{green}{0}}{blue}{0}}{black}{0} \\att{\\att{\\att{\\att{PARETE}{red}{0}}{green}{0}}{blue}{28}}{black}{0} \\att{\\att{\\att{\\att{ADDOMINALE}{red}{1}}{green}{0}}{blue}{0}}{black}{0} \\att{\\att{\\att{\\att{.}{red}{0}}{green}{0}}{blue}{0}}{black}{0} \\att{\\att{\\att{\\att{INFILTRAZIONE}{red}{0}}{green}{0}}{blue}{0}}{black}{0} \\att{\\att{\\att{\\att{CANCERIGNA}{red}{100}}{green}{0}}{blue}{0}}{black}{13} \\att{\\att{\\att{\\att{DEGLI}{red}{100}}{green}{0}}{blue}{0}}{black}{83} \\att{\\att{\\att{\\att{STROMI}{red}{7}}{green}{0}}{blue}{0}}{black}{100} \\att{\\att{\\att{\\att{CONNETTIVO}{red}{0}}{green}{0}}{blue}{0}}{black}{0} \\att{\\att{\\att{\\att{-}{red}{1}}{green}{0}}{blue}{0}}{black}{0} \\att{\\att{\\att{\\att{ADIPOSI}{red}{0}}{green}{0}}{blue}{0}}{black}{78} \\att{\\att{\\att{\\att{.}{red}{30}}{green}{0}}{blue}{0}}{black}{1} \\att{\\att{\\att{\\att{IMMUNOISTOCHIMICA}{red}{100}}{green}{0}}{blue}{0}}{black}{95} \\att{\\att{\\att{\\att{:}{red}{17}}{green}{0}}{blue}{0}}{black}{98} \\att{\\att{\\att{\\att{CK7}{red}{100}}{green}{0}}{blue}{0}}{black}{100} \\att{\\att{\\att{\\att{+}{red}{99}}{green}{0}}{blue}{0}}{black}{0} \\att{\\att{\\att{\\att{,}{red}{77}}{green}{0}}{blue}{0}}{black}{51} \\att{\\att{\\att{\\att{CK20}{red}{100}}{green}{0}}{blue}{0}}{black}{100} \\att{\\att{\\att{\\att{-}{red}{100}}{green}{0}}{blue}{0}}{black}{1} \\att{\\att{\\att{\\att{,}{red}{84}}{green}{0}}{blue}{0}}{black}{37} \\att{\\att{\\att{\\att{TTF}{red}{100}}{green}{0}}{blue}{0}}{black}{100} \\att{\\att{\\att{\\att{-}{red}{100}}{green}{0}}{blue}{0}}{black}{0} \\att{\\att{\\att{\\att{1}{red}{3}}{green}{0}}{blue}{0}}{black}{0} \\att{\\att{\\att{\\att{-}{red}{31}}{green}{0}}{blue}{0}}{black}{0} \\att{\\att{\\att{\\att{,}{red}{69}}{green}{0}}{blue}{0}}{black}{0} \\att{\\att{\\att{\\att{PROTEINA}{red}{99}}{green}{0}}{blue}{0}}{black}{70} \\att{\\att{\\att{\\att{S}{red}{0}}{green}{0}}{blue}{0}}{black}{4} \\att{\\att{\\att{\\att{-}{red}{0}}{green}{0}}{blue}{0}}{black}{0} \\att{\\att{\\att{\\att{100}{red}{2}}{green}{0}}{blue}{0}}{black}{1} \\att{\\att{\\att{\\att{-}{red}{0}}{green}{0}}{blue}{0}}{black}{0} \\att{\\att{\\att{\\att{.}{red}{0}}{green}{0}}{blue}{0}}{black}{0} \\att{\\att{\\att{\\att{LESIONE}{red}{0}}{green}{0}}{blue}{0}}{black}{0} \\att{\\att{\\att{\\att{DI}{red}{0}}{green}{0}}{blue}{0}}{black}{0} \\att{\\att{\\att{\\att{CM}{red}{0}}{green}{0}}{blue}{0}}{black}{0} \\att{\\att{\\att{\\att{2}{red}{1}}{green}{0}}{blue}{0}}{black}{0} \\att{\\att{\\att{\\att{,}{red}{0}}{green}{0}}{blue}{0}}{black}{0} \\att{\\att{\\att{\\att{0}{red}{28}}{green}{0}}{blue}{0}}{black}{0} \\att{\\att{\\att{\\att{X}{red}{0}}{green}{0}}{blue}{0}}{black}{0} \\att{\\att{\\att{\\att{1}{red}{0}}{green}{0}}{blue}{0}}{black}{0} \\att{\\att{\\att{\\att{,}{red}{1}}{green}{0}}{blue}{0}}{black}{0} \\att{\\att{\\att{\\att{3}{red}{0}}{green}{0}}{blue}{0}}{black}{0} \\att{\\att{\\att{\\att{X}{red}{0}}{green}{0}}{blue}{0}}{black}{0} \\att{\\att{\\att{\\att{0}{red}{2}}{green}{0}}{blue}{0}}{black}{0} \\att{\\att{\\att{\\att{,}{red}{7}}{green}{0}}{blue}{0}}{black}{0} \\att{\\att{\\att{\\att{7}{red}{0}}{green}{0}}{blue}{0}}{black}{0} \\att{\\att{\\att{\\att{.}{red}{0}}{green}{0}}{blue}{0}}{black}{0} \\att{\\att{\\att{\\att{1}{red}{3}}{green}{0}}{blue}{0}}{black}{0} \\att{\\att{\\att{\\att{-}{red}{3}}{green}{0}}{blue}{0}}{black}{0} \\att{\\att{\\att{\\att{2}{red}{0}}{green}{0}}{blue}{0}}{black}{0} \\att{\\att{\\att{\\att{)}{red}{0}}{green}{0}}{blue}{0}}{black}{0} \\att{\\att{\\att{\\att{SEZIONI}{red}{23}}{green}{0}}{blue}{0}}{black}{0} \\att{\\att{\\att{\\att{SERIATE}{red}{87}}{green}{0}}{blue}{0}}{black}{3} \\att{\\att{\\att{\\att{.}{red}{65}}{green}{0}}{blue}{0}}{black}{0} \\end{minipage}\\\\\n",
      "======== doc:  924\n",
      "y: 29 (32-LARINGE); yp: 29 (32-LARINGE)\n",
      "Relevant attentions:\n",
      "29 (32-LARINGE)\n",
      "---\n",
      "32&\\begin{minipage}{\\attTableIcdoWidth}\\att{32}{red}{100} \\att{(LARYNX)}{red}{100} \\end{minipage}&\\begin{minipage}{\\attTableTextWidth}\\att{CARCINOMA}{red}{0} \\att{A}{red}{0} \\att{CELLULE}{red}{0} \\att{SQUAMOSE}{red}{12} \\att{FARINGEO}{red}{0} \\att{-}{red}{0} \\att{LARINGEO}{red}{95} \\att{A}{red}{0} \\att{MEDIO}{red}{0} \\att{GRADO}{red}{0} \\att{DI}{red}{0} \\att{DIFFERENZIAZIONE}{red}{0} \\att{(}{red}{0} \\att{G2}{red}{0} \\att{)}{red}{0} \\att{NEI}{red}{0} \\att{FRAMMENTI}{red}{0} \\att{IN}{red}{0} \\att{ESAME}{red}{0} \\att{.}{red}{0} \\att{VARI}{red}{0} \\att{FRAMMENTI}{red}{0} \\att{DI}{red}{0} \\att{MUCOSA}{red}{0} \\att{FARINGO}{red}{100} \\att{-}{red}{0} \\att{LARINGEA}{red}{100} \\att{,}{red}{0} \\att{NEL}{red}{0} \\att{COMPLESSO}{red}{0} \\att{DI}{red}{0} \\att{MM}{red}{0} \\att{.}{red}{0} \\att{5}{red}{0} \\att{.}{red}{0} \\att{(}{red}{0} \\att{ESEGUITA}{red}{0} \\att{COLORAZIONE}{red}{0} \\att{EMATOSSILINA}{red}{0} \\att{-}{red}{0} \\att{EOSINA}{red}{0} \\att{)}{red}{0} \\att{.}{red}{0} \\end{minipage}\\\\\n",
      "======== doc:  927\n",
      "y: 29 (32-LARINGE); yp: 29 (32-LARINGE)\n",
      "Relevant attentions:\n",
      "29 (32-LARINGE)\n",
      "---\n",
      "32&\\begin{minipage}{\\attTableIcdoWidth}\\att{32}{red}{100} \\att{(LARYNX)}{red}{100} \\end{minipage}&\\begin{minipage}{\\attTableTextWidth}\\att{CARCINOMA}{red}{0} \\att{A}{red}{0} \\att{CELLULE}{red}{0} \\att{SQUAMOSE}{red}{49} \\att{LARINGEO}{red}{100} \\att{A}{red}{0} \\att{MEDIO}{red}{0} \\att{GRADO}{red}{0} \\att{DI}{red}{0} \\att{DIFFERENZIAZIONE}{red}{0} \\att{(}{red}{0} \\att{G2}{red}{0} \\att{)}{red}{0} \\att{NEI}{red}{0} \\att{FRAMMENTI}{red}{0} \\att{(}{red}{0} \\att{1}{red}{0} \\att{-}{red}{0} \\att{2}{red}{0} \\att{)}{red}{0} \\att{.}{red}{0} \\att{1}{red}{0} \\att{)}{red}{0} \\att{FRAMMENTI}{red}{0} \\att{(}{red}{0} \\att{NR}{red}{0} \\att{.}{red}{0} \\att{3}{red}{0} \\att{)}{red}{0} \\att{DI}{red}{0} \\att{NEOFORMAZIONE}{red}{0} \\att{DELLA}{red}{0} \\att{CORDA}{red}{100} \\att{VOCALE}{red}{100} \\att{SINISTRA}{red}{79} \\att{;}{red}{0} \\att{2}{red}{0} \\att{)}{red}{0} \\att{FRAMMENTI}{red}{0} \\att{(}{red}{0} \\att{NR}{red}{0} \\att{.}{red}{0} \\att{2}{red}{0} \\att{)}{red}{0} \\att{CORDA}{red}{100} \\att{VOCALE}{red}{100} \\att{SINISTRA}{red}{70} \\att{.}{red}{0} \\att{(}{red}{0} \\att{ESEGUITA}{red}{0} \\att{COLORAZIONE}{red}{0} \\att{EMATOSSILINA}{red}{0} \\att{-}{red}{0} \\att{EOSINA}{red}{0} \\att{)}{red}{0} \\att{.}{red}{0} \\end{minipage}\\\\\n",
      "======== doc:  935\n",
      "y: 29 (32-LARINGE); yp: 29 (32-LARINGE)\n",
      "Relevant attentions:\n",
      "29 (32-LARINGE)\n",
      "---\n"
     ]
    },
    {
     "name": "stdout",
     "output_type": "stream",
     "text": [
      "32&\\begin{minipage}{\\attTableIcdoWidth}\\att{32}{red}{100} \\att{(LARYNX)}{red}{100} \\end{minipage}&\\begin{minipage}{\\attTableTextWidth}\\att{CARCINOMA}{red}{0} \\att{A}{red}{0} \\att{CELLULE}{red}{0} \\att{SQUAMOSE}{red}{14} \\att{LARINGEO}{red}{100} \\att{A}{red}{0} \\att{MEDIO}{red}{0} \\att{GRADO}{red}{0} \\att{DI}{red}{0} \\att{DIFFERENZIAZIONE}{red}{0} \\att{(}{red}{0} \\att{G2}{red}{0} \\att{)}{red}{0} \\att{(}{red}{0} \\att{2}{red}{0} \\att{-}{red}{0} \\att{5}{red}{0} \\att{)}{red}{0} \\att{.}{red}{0} \\att{IMBIBIZIONE}{red}{0} \\att{EDEMATOSA}{red}{0} \\att{DEL}{red}{0} \\att{CORION}{red}{0} \\att{LARINGEO}{red}{100} \\att{(}{red}{0} \\att{1}{red}{0} \\att{)}{red}{0} \\att{.}{red}{0} \\att{FRAMMENTI}{red}{0} \\att{DI}{red}{0} \\att{MUCOSA}{red}{0} \\att{LARINGEA}{red}{100} \\att{:}{red}{0} \\att{1}{red}{0} \\att{)}{red}{0} \\att{FRAMMENTI}{red}{0} \\att{(}{red}{0} \\att{NR}{red}{0} \\att{.}{red}{0} \\att{3}{red}{0} \\att{)}{red}{0} \\att{DI}{red}{0} \\att{PROLASSO}{red}{0} \\att{VENTRICOLO}{red}{0} \\att{SN}{red}{0} \\att{;}{red}{0} \\att{2}{red}{0} \\att{)}{red}{0} \\att{FRAMMENTI}{red}{0} \\att{(}{red}{0} \\att{NR}{red}{0} \\att{.}{red}{0} \\att{5}{red}{0} \\att{)}{red}{0} \\att{DI}{red}{0} \\att{NEOFORMAZIONE}{red}{0} \\att{CORDA}{red}{18} \\att{VOCALE}{red}{99} \\att{SN}{red}{0} \\att{;}{red}{0} \\att{3}{red}{0} \\att{)}{red}{0} \\att{FRAMMENTO}{red}{0} \\att{DI}{red}{0} \\att{NEOFORMAZIONE}{red}{0} \\att{REGIONE}{red}{0} \\att{ANTERIORE}{red}{0} \\att{;}{red}{0} \\att{4}{red}{0} \\att{)}{red}{0} \\att{FRAMMENTO}{red}{0} \\att{DI}{red}{0} \\att{NEOFORMAZIONE}{red}{0} \\att{FALSA}{red}{94} \\att{CORDA}{red}{99} \\att{DX}{red}{0} \\att{;}{red}{0} \\att{5}{red}{0} \\att{)}{red}{0} \\att{FRAMMENTI}{red}{0} \\att{(}{red}{0} \\att{NR}{red}{0} \\att{.}{red}{0} \\att{3}{red}{0} \\att{)}{red}{0} \\att{DI}{red}{0} \\att{NEOFORMAZIONE}{red}{0} \\att{REGIONE}{red}{0} \\att{SOTTOGLOTTICA}{red}{86} \\att{.}{red}{0} \\att{(}{red}{0} \\att{ESEGUITA}{red}{0} \\att{COLORAZIONE}{red}{0} \\att{EMATOSSILINA}{red}{0} \\att{-}{red}{0} \\att{EOSINA}{red}{0} \\att{)}{red}{0} \\att{.}{red}{0} \\end{minipage}\\\\\n"
     ]
    }
   ],
   "source": [
    "printed = 0\n",
    "for currDoc in range(visRange[0], visRange[1]):\n",
    "    if binary and (not only is None) and (not yt[currDoc][0] in only):\n",
    "        continue\n",
    "    if (not binary) and (not only is None) and (not yt[currDoc] in only):\n",
    "        continue\n",
    "    print(\"======== doc: \", currDoc)\n",
    "    if binary:\n",
    "        currYt = yt[currDoc][0]\n",
    "        currYp = yp[currDoc][0]\n",
    "        print(\"y: {}; yp: {}\".format(currYt, currYp))\n",
    "    else:\n",
    "        currYt = yt[currDoc]\n",
    "        currYp = yp[currDoc]\n",
    "        print(\"y: {} ({}-{}); yp: {} ({}-{})\".format(currYt, values[currYt], icdo[values[currYt]], np.argmax(currYp), values[np.argmax(currYp)], icdo[values[np.argmax(currYp)]]))\n",
    "        #print(currYp)\n",
    "    if colonRetto:\n",
    "        if currYt == 1.:\n",
    "            print(\"Retto\")\n",
    "        elif currYt == 0.:\n",
    "            print(\"Colon\")\n",
    "   \n",
    "    attList = []\n",
    "    print(\"Relevant attentions:\")\n",
    "    for currAttNum in range(att[currDoc].shape[1]):\n",
    "        if np.max(att[currDoc][:,currAttNum]) > attThreshold:\n",
    "            print(\"{} ({}-{})\".format(currAttNum, values[currAttNum], icdo[values[currAttNum]]))\n",
    "            attList.append(\"{} ({})\".format(values[currAttNum], icdoEn[values[currAttNum]]))\n",
    "    print(\"---\")\n",
    "    print(\"{}\".format(values[currYt]), end=\"\")\n",
    "    print(\"&\", end=\"\")\n",
    "    #print(\"{}\".format(values[np.argmax(currYp)]), end=\"\")\n",
    "    #print(\"&\", end=\"\")\n",
    "    print(\"\\\\begin{minipage}{\\\\attTableIcdoWidth}\", end=\"\")\n",
    "    for i in range(len(attList)):\n",
    "        if i>0:\n",
    "            print(\"\\\\\\\\\\\\\\\\\", end=\"\")\n",
    "        for currWord in attList[i].split():\n",
    "            for j in range(len(attList)):\n",
    "                print(\"\\\\att{\",end=\"\")\n",
    "            print(currWord, end=\"\")\n",
    "            currAttColor = 0\n",
    "            for j in range(len(attList)):\n",
    "                if j == i:\n",
    "                    currAttColorStrong = 100\n",
    "                else:\n",
    "                    currAttColorStrong = 0\n",
    "                print(\"}}{{{}}}{{{:.0f}}}\".format(attColors[currAttColor], currAttColorStrong), end=\"\")\n",
    "                currAttColor += 1\n",
    "                if currAttColor == len(attColors):\n",
    "                    currAttColor = 0\n",
    "            print(\" \", end=\"\")\n",
    "    print(\"\\\\end{minipage}\", end=\"\")\n",
    "    print(\"&\", end=\"\")\n",
    "    print(\"\\\\begin{minipage}{\\\\attTableTextWidth}\", end=\"\")\n",
    "    for indexWord, word in enumerate(text[currDoc]):\n",
    "        word = word.replace(\"#\", \"\\#\")\n",
    "        word = word.replace(\"%\", \"\\%\")\n",
    "        #for currAttNum in range(28,33):\n",
    "        for currAttNum in range(att[currDoc].shape[1]):\n",
    "            if np.max(att[currDoc][:,currAttNum]) > attThreshold:\n",
    "                print(\"\\\\att{\",end=\"\")\n",
    "        print(word, end=\"\")\n",
    "        currAttColor = 0\n",
    "        #for currAttNum in range(28,33):\n",
    "        for currAttNum in range(att[currDoc].shape[1]):\n",
    "            currAtt = att[currDoc][:,currAttNum]\n",
    "            if np.max(currAtt) > attThreshold:\n",
    "                if printWhat == 'all':\n",
    "                    print(\"}}{{{}}}{{{:.0f}}}\".format(attColors[currAttColor], currAtt[indexWord]*100), end=\"\")\n",
    "                else:\n",
    "                    maxAtt = np.zeros_like(currAtt)\n",
    "                    if printWhat == 'maxed':\n",
    "                        maxAtt[np.argmax(currAtt)] = 1\n",
    "                    if printWhat == 'max':\n",
    "                        maxAtt[np.argmax(currAtt)] = currAtt[np.argmax(currAtt)]\n",
    "                    print(\"}}{{{}}}{{{:.0f}}}\".format(attColors[currAttColor], maxAtt[indexWord]*100), end=\"\")\n",
    "                currAttColor += 1\n",
    "                if currAttColor == len(attColors):\n",
    "                    currAttColor = 0\n",
    "        print(\" \", end=\"\")\n",
    "    print(\"\\\\end{minipage}\", end=\"\")\n",
    "    print(\"\\\\\\\\\")\n",
    "    printed += 1\n",
    "    if (not visLimit is None) and (printed >= visLimit):\n",
    "        break"
   ]
  },
  {
   "cell_type": "code",
   "execution_count": null,
   "metadata": {},
   "outputs": [],
   "source": []
  }
 ],
 "metadata": {
  "kernelspec": {
   "display_name": "Python 3",
   "language": "python",
   "name": "python3"
  },
  "language_info": {
   "codemirror_mode": {
    "name": "ipython",
    "version": 3
   },
   "file_extension": ".py",
   "mimetype": "text/x-python",
   "name": "python",
   "nbconvert_exporter": "python",
   "pygments_lexer": "ipython3",
   "version": "3.7.3"
  }
 },
 "nbformat": 4,
 "nbformat_minor": 2
}
