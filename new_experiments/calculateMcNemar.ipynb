{
 "cells": [
  {
   "cell_type": "code",
   "execution_count": 1,
   "metadata": {},
   "outputs": [],
   "source": [
    "import numpy as np\n",
    "import pickle\n",
    "import pandas as pd\n",
    "from statsmodels.stats.contingency_tables import mcnemar"
   ]
  },
  {
   "cell_type": "code",
   "execution_count": 2,
   "metadata": {},
   "outputs": [],
   "source": [
    "def filterPred(predFile, values, toRemove, top=1):\n",
    "    pred = pickle.load(open(predFile, 'rb'))\n",
    "    y = pred['y']\n",
    "    yp = pred['yp']\n",
    "    if not toRemove is None:\n",
    "        y = np.delete(y, [np.argwhere(values==r)[0][0] for r in toRemove], axis=1)\n",
    "        yp = np.delete(yp, [np.argwhere(values==r)[0][0] for r in toRemove], axis=1)\n",
    "        \n",
    "        rowsToDelete = np.argwhere(np.amax(y,1)==0)\n",
    "        y = np.delete(y, rowsToDelete, axis=0)\n",
    "        yp = np.delete(yp, rowsToDelete, axis=0)\n",
    "          \n",
    "    yb = []\n",
    "    ypb = []\n",
    "    \n",
    "    for i in range(len(y)):\n",
    "        yb.append(np.argmax(y[i]))\n",
    "        ypb.append(np.argmax(yp[i]))\n",
    "        \n",
    "    yb = np.array(yb)\n",
    "    \n",
    "    if top == 1:\n",
    "        ypb = np.array(ypb)\n",
    "    elif top == 3:\n",
    "        ypb = np.argsort(yp,1)[:,-3:][:,::-1] #top 3 \n",
    "    elif top == 5:\n",
    "        ypb = np.argsort(yp,1)[:,-5:][:,::-1] #top 5 \n",
    "    else:\n",
    "        ypb = 0\n",
    "    \n",
    "    return yb, ypb"
   ]
  },
  {
   "cell_type": "code",
   "execution_count": 3,
   "metadata": {
    "pycharm": {
     "name": "#%%\n"
    }
   },
   "outputs": [],
   "source": [
    "def calculateMcNemar(preds, values, toRemove, top=1):\n",
    "    d = {'yp{}'.format(i): filterPred(pred, values, toRemove, top)[1] for i,pred in enumerate(preds)}\n",
    "    d['y'] = filterPred(preds[0], values, toRemove)[0] #first\n",
    "    #df = pd.DataFrame(d)\n",
    "    ret = np.zeros([len(preds), len(preds)])\n",
    "    for i in range(len(preds)):\n",
    "        for j in range(len(preds)):\n",
    "            cont = np.zeros([2,2])\n",
    "            for n in range(len(d['y'])):\n",
    "                if top == 1:\n",
    "                    vi = d['y'][n] == d['yp{}'.format(i)][n]\n",
    "                    vj = d['y'][n] == d['yp{}'.format(j)][n]\n",
    "                else:\n",
    "                    vi = d['y'][n] in d['yp{}'.format(i)][n]\n",
    "                    vj = d['y'][n] in d['yp{}'.format(j)][n]\n",
    "                    \n",
    "                if vi and vj:\n",
    "                    cont[0,0] += 1\n",
    "                elif vi and not vj:\n",
    "                    cont[1,0] += 1\n",
    "                elif not vi and vj:\n",
    "                    cont[0,1] += 1\n",
    "                else:\n",
    "                    cont[1,1] += 1\n",
    "                    \n",
    "            if np.min(cont) < 25:\n",
    "                ret[i,j] = mcnemar(cont, exact=True).pvalue\n",
    "            else:\n",
    "                ret[i,j] = mcnemar(cont, exact=False, correction=True).pvalue\n",
    "                \n",
    "            #if np.min(np.array(pd.crosstab(df['yp{}'.format(i)]==df['y'], df['yp{}'.format(j)]==df['y']))) < 25:\n",
    "            #    ret[i,j] = mcnemar(pd.crosstab(df['yp{}'.format(i)]==df['y'], df['yp{}'.format(j)]==df['y']), exact=True).pvalue\n",
    "            #else:\n",
    "            #    ret[i,j] = mcnemar(pd.crosstab(df['yp{}'.format(i)]==df['y'], df['yp{}'.format(j)]==df['y']), exact=False, correction=True).pvalue\n",
    "        \n",
    "    return ret"
   ]
  },
  {
   "cell_type": "code",
   "execution_count": 4,
   "metadata": {
    "pycharm": {
     "name": "#%%\n"
    }
   },
   "outputs": [],
   "source": [
    "toRemoveS = pickle.load(open(\"toRemoveSite.p\", 'rb'))\n",
    "toRemoveM = pickle.load(open(\"toRemoveMorfo.p\", 'rb'))"
   ]
  },
  {
   "cell_type": "code",
   "execution_count": 5,
   "metadata": {},
   "outputs": [],
   "source": [
    "valuesS = pickle.load(open('corpusTemporal/valuesTemporal.p', 'rb'))\n",
    "valuesM = pickle.load(open('corpusTemporalV2b/valuesTemporalMorfo1.p', 'rb'))"
   ]
  },
  {
   "cell_type": "code",
   "execution_count": 6,
   "metadata": {},
   "outputs": [],
   "source": [
    "predsS = [\n",
    "        'predictionsSVM-Asite.p',\n",
    "        'predictionsCNN-Asite.p',\n",
    "        'predictionGRU-Asite.p',\n",
    "        'predictionsBERT-Asite.p',\n",
    "        'predictionMAXi-Asite.p',\n",
    "        'predictionMAXh-Asite.p',\n",
    "        'predictionATTh-Asite.p',\n",
    "        'predictionMAX-Asite.p',\n",
    "        'predictionATT-Asite.p',\n",
    "    ]\n",
    "\n",
    "predsM = [\n",
    "        'predictionsSVM-Amorpho.p',\n",
    "        'predictionsCNN-Amorpho.p',\n",
    "        'predictionGRU-Amorpho.p',\n",
    "        'predictionsBERT-Amorpho.p',\n",
    "        'predictionMAXi-Amorpho.p',\n",
    "        'predictionMAXh-Amorpho.p',\n",
    "        'predictionATTh-Amorpho.p',\n",
    "        'predictionMAX-Amorpho.p',\n",
    "        'predictionATT-Amorpho.p',\n",
    "    ]"
   ]
  },
  {
   "cell_type": "markdown",
   "metadata": {},
   "source": [
    "## calculate examples"
   ]
  },
  {
   "cell_type": "code",
   "execution_count": 7,
   "metadata": {},
   "outputs": [],
   "source": [
    "def calculateLengths(corpus, key, toRemove):\n",
    "    count = {d:len([i for i in corpus[d][key] if i not in toRemove]) for d in corpus}\n",
    "    print(count)"
   ]
  },
  {
   "cell_type": "code",
   "execution_count": 8,
   "metadata": {},
   "outputs": [],
   "source": [
    "corpusS =  pickle.load(open('corpusTemporal/corpusTemporal.p', 'rb'))\n",
    "corpusM =  pickle.load(open('corpusTemporalV2b/corpusTemporal.p', 'rb'))\n",
    "keyS = 'sede1'\n",
    "keyM = 'morfo1'"
   ]
  },
  {
   "cell_type": "code",
   "execution_count": 9,
   "metadata": {},
   "outputs": [
    {
     "name": "stdout",
     "output_type": "stream",
     "text": [
      "{'train': 50875, 'valid': 17007, 'test': 17015}\n"
     ]
    }
   ],
   "source": [
    "calculateLengths(corpusS, keyS, toRemoveS)"
   ]
  },
  {
   "cell_type": "code",
   "execution_count": 10,
   "metadata": {},
   "outputs": [
    {
     "name": "stdout",
     "output_type": "stream",
     "text": [
      "{'train': 49436, 'valid': 16787, 'test': 16719}\n"
     ]
    }
   ],
   "source": [
    "calculateLengths(corpusM, keyM, toRemoveM)"
   ]
  },
  {
   "cell_type": "markdown",
   "metadata": {},
   "source": [
    "# Site"
   ]
  },
  {
   "cell_type": "code",
   "execution_count": 11,
   "metadata": {},
   "outputs": [],
   "source": [
    "mcNemarSite1 = calculateMcNemar(predsS, valuesS, toRemoveS, 1)\n",
    "mcNemarSite3 = calculateMcNemar(predsS, valuesS, toRemoveS, 3)\n",
    "mcNemarSite5 = calculateMcNemar(predsS, valuesS, toRemoveS, 5)"
   ]
  },
  {
   "cell_type": "code",
   "execution_count": 22,
   "metadata": {
    "pycharm": {
     "name": "#%%\n"
    }
   },
   "outputs": [
    {
     "name": "stdout",
     "output_type": "stream",
     "text": [
      "[[1.      0.00612 0.41073 0.34979 0.      0.34109 0.25423 0.00086 0.01619]\n",
      " [0.00612 1.      0.00014 0.00012 0.      0.00004 0.00002 0.      0.     ]\n",
      " [0.41073 0.00014 1.      0.9422  0.      0.91086 0.74042 0.00184 0.05873]\n",
      " [0.34979 0.00012 0.9422  1.      0.      1.      0.83493 0.0057  0.09542]\n",
      " [0.      0.      0.      0.      1.      0.      0.      0.      0.     ]\n",
      " [0.34109 0.00004 0.91086 1.      0.      1.      0.8421  0.004   0.08715]\n",
      " [0.25423 0.00002 0.74042 0.83493 0.      0.8421  1.      0.01011 0.13819]\n",
      " [0.00086 0.      0.00184 0.0057  0.      0.004   0.01011 1.      0.25339]\n",
      " [0.01619 0.      0.05873 0.09542 0.      0.08715 0.13819 0.25339 1.     ]]\n"
     ]
    }
   ],
   "source": [
    "with np.printoptions(precision=5, suppress=True):\n",
    "    print(mcNemarSite1)"
   ]
  },
  {
   "cell_type": "code",
   "execution_count": 24,
   "metadata": {},
   "outputs": [
    {
     "name": "stdout",
     "output_type": "stream",
     "text": [
      "[[1.      0.42222 0.00003 0.00176 0.0021  0.02732 0.00499 0.      0.06035]\n",
      " [0.42222 1.      0.0001  0.01137 0.00001 0.11004 0.02327 0.      0.20617]\n",
      " [0.00003 0.0001  1.      0.18763 0.      0.01885 0.10323 0.07637 0.00779]\n",
      " [0.00176 0.01137 0.18763 1.      0.      0.36511 0.83721 0.00218 0.22247]\n",
      " [0.0021  0.00001 0.      0.      1.      0.      0.      0.      0.     ]\n",
      " [0.02732 0.11004 0.01885 0.36511 0.      1.      0.4808  0.00005 0.80355]\n",
      " [0.00499 0.02327 0.10323 0.83721 0.      0.4808  1.      0.00079 0.33846]\n",
      " [0.      0.      0.07637 0.00218 0.      0.00005 0.00079 1.      0.     ]\n",
      " [0.06035 0.20617 0.00779 0.22247 0.      0.80355 0.33846 0.      1.     ]]\n"
     ]
    }
   ],
   "source": [
    "with np.printoptions(precision=5, suppress=True):\n",
    "    print(mcNemarSite3)"
   ]
  },
  {
   "cell_type": "code",
   "execution_count": 25,
   "metadata": {},
   "outputs": [
    {
     "name": "stdout",
     "output_type": "stream",
     "text": [
      "[[1.      0.      0.      0.      0.00001 0.      0.      0.      0.     ]\n",
      " [0.      1.      0.56818 0.3011  0.      0.1763  0.6582  0.00001 0.69466]\n",
      " [0.      0.56818 1.      0.69912 0.      0.44988 0.95381 0.00006 0.29627]\n",
      " [0.      0.3011  0.69912 1.      0.      0.78377 0.61377 0.00152 0.14799]\n",
      " [0.00001 0.      0.      0.      1.      0.      0.      0.      0.     ]\n",
      " [0.      0.1763  0.44988 0.78377 0.      1.      0.33692 0.00383 0.07229]\n",
      " [0.      0.6582  0.95381 0.61377 0.      0.33692 1.      0.0001  0.35481]\n",
      " [0.      0.00001 0.00006 0.00152 0.      0.00383 0.0001  1.      0.     ]\n",
      " [0.      0.69466 0.29627 0.14799 0.      0.07229 0.35481 0.      1.     ]]\n"
     ]
    }
   ],
   "source": [
    "with np.printoptions(precision=5, suppress=True):\n",
    "    print(mcNemarSite5)"
   ]
  },
  {
   "cell_type": "code",
   "execution_count": 15,
   "metadata": {},
   "outputs": [
    {
     "name": "stdout",
     "output_type": "stream",
     "text": [
      "[[False  True False False  True False False  True  True]\n",
      " [ True False  True  True  True  True  True  True  True]\n",
      " [False  True False False  True False False  True False]\n",
      " [False  True False False  True False False  True False]\n",
      " [ True  True  True  True False  True  True  True  True]\n",
      " [False  True False False  True False False  True False]\n",
      " [False  True False False  True False False  True False]\n",
      " [ True  True  True  True  True  True  True False False]\n",
      " [ True  True False False  True False False False False]]\n"
     ]
    }
   ],
   "source": [
    "print(mcNemarSite1 < 0.05) #True: different proportion errors"
   ]
  },
  {
   "cell_type": "markdown",
   "metadata": {},
   "source": [
    "# Morpho"
   ]
  },
  {
   "cell_type": "code",
   "execution_count": 16,
   "metadata": {},
   "outputs": [],
   "source": [
    "mcNemarMorpho1 = calculateMcNemar(predsM, valuesM, toRemoveM, 1)\n",
    "mcNemarMorpho3 = calculateMcNemar(predsM, valuesM, toRemoveM, 3)\n",
    "mcNemarMorpho5 = calculateMcNemar(predsM, valuesM, toRemoveM, 5)"
   ]
  },
  {
   "cell_type": "code",
   "execution_count": 23,
   "metadata": {},
   "outputs": [
    {
     "name": "stdout",
     "output_type": "stream",
     "text": [
      "[[1.      0.00004 0.00026 0.      0.      0.      0.      0.      0.     ]\n",
      " [0.00004 1.      0.97881 0.00008 0.      0.07425 0.05557 0.      0.     ]\n",
      " [0.00026 0.97881 1.      0.00012 0.      0.07224 0.05303 0.      0.     ]\n",
      " [0.      0.00008 0.00012 1.      0.      0.01539 0.02884 0.17715 0.01728]\n",
      " [0.      0.      0.      0.      1.      0.      0.      0.      0.     ]\n",
      " [0.      0.07425 0.07224 0.01539 0.      1.      0.92889 0.00005 0.     ]\n",
      " [0.      0.05557 0.05303 0.02884 0.      0.92889 1.      0.00008 0.     ]\n",
      " [0.      0.      0.      0.17715 0.      0.00005 0.00008 1.      0.23144]\n",
      " [0.      0.      0.      0.01728 0.      0.      0.      0.23144 1.     ]]\n"
     ]
    }
   ],
   "source": [
    "with np.printoptions(precision=5, suppress=True):\n",
    "    print(mcNemarMorpho1)"
   ]
  },
  {
   "cell_type": "code",
   "execution_count": 26,
   "metadata": {},
   "outputs": [
    {
     "name": "stdout",
     "output_type": "stream",
     "text": [
      "[[1.      0.01417 0.00032 0.00002 0.      0.02159 0.03758 0.      0.     ]\n",
      " [0.01417 1.      0.13729 0.      0.      0.97006 0.88142 0.00004 0.00119]\n",
      " [0.00032 0.13729 1.      0.      0.      0.17112 0.0851  0.00373 0.04428]\n",
      " [0.00002 0.      0.      1.      0.      0.      0.      0.      0.     ]\n",
      " [0.      0.      0.      0.      1.      0.      0.      0.      0.     ]\n",
      " [0.02159 0.97006 0.17112 0.      0.      1.      0.8118  0.00005 0.00141]\n",
      " [0.03758 0.88142 0.0851  0.      0.      0.8118  1.      0.00001 0.00027]\n",
      " [0.      0.00004 0.00373 0.      0.      0.00005 0.00001 1.      0.49072]\n",
      " [0.      0.00119 0.04428 0.      0.      0.00141 0.00027 0.49072 1.     ]]\n"
     ]
    }
   ],
   "source": [
    "with np.printoptions(precision=5, suppress=True):\n",
    "    print(mcNemarMorpho3)"
   ]
  },
  {
   "cell_type": "code",
   "execution_count": 27,
   "metadata": {},
   "outputs": [
    {
     "name": "stdout",
     "output_type": "stream",
     "text": [
      "[[1.      0.      0.      0.0002  0.      0.      0.00024 0.      0.     ]\n",
      " [0.      1.      0.54089 0.      0.      0.03366 0.00041 0.08691 0.11752]\n",
      " [0.      0.54089 1.      0.      0.      0.1487  0.00213 0.00881 0.01922]\n",
      " [0.0002  0.      0.      1.      0.      0.      0.      0.      0.     ]\n",
      " [0.      0.      0.      0.      1.      0.      0.      0.      0.     ]\n",
      " [0.      0.03366 0.1487  0.      0.      1.      0.14035 0.00009 0.00023]\n",
      " [0.00024 0.00041 0.00213 0.      0.      0.14035 1.      0.      0.     ]\n",
      " [0.      0.08691 0.00881 0.      0.      0.00009 0.      1.      0.95982]\n",
      " [0.      0.11752 0.01922 0.      0.      0.00023 0.      0.95982 1.     ]]\n"
     ]
    }
   ],
   "source": [
    "with np.printoptions(precision=5, suppress=True):\n",
    "    print(mcNemarMorpho5)"
   ]
  },
  {
   "cell_type": "code",
   "execution_count": 20,
   "metadata": {},
   "outputs": [
    {
     "name": "stdout",
     "output_type": "stream",
     "text": [
      "[[False  True  True  True  True  True  True  True  True]\n",
      " [ True False False  True  True False False  True  True]\n",
      " [ True False False  True  True False False  True  True]\n",
      " [ True  True  True False  True  True  True False  True]\n",
      " [ True  True  True  True False  True  True  True  True]\n",
      " [ True False False  True  True False False  True  True]\n",
      " [ True False False  True  True False False  True  True]\n",
      " [ True  True  True False  True  True  True False False]\n",
      " [ True  True  True  True  True  True  True False False]]\n"
     ]
    }
   ],
   "source": [
    "print(mcNemarMorpho1 < 0.05) #True: different proportion errors"
   ]
  },
  {
   "cell_type": "code",
   "execution_count": 21,
   "metadata": {},
   "outputs": [],
   "source": [
    "#np.savez(\"mcNemar.npz\", site1=mcNemarSite1, site3=mcNemarSite3, site5=mcNemarSite5, morpho1=mcNemarMorpho1, morpho3=mcNemarMorpho3, morpho5=mcNemarMorpho5)"
   ]
  }
 ],
 "metadata": {
  "kernelspec": {
   "display_name": "Python 3",
   "language": "python",
   "name": "python3"
  },
  "language_info": {
   "codemirror_mode": {
    "name": "ipython",
    "version": 3
   },
   "file_extension": ".py",
   "mimetype": "text/x-python",
   "name": "python",
   "nbconvert_exporter": "python",
   "pygments_lexer": "ipython3",
   "version": "3.7.3"
  }
 },
 "nbformat": 4,
 "nbformat_minor": 2
}
