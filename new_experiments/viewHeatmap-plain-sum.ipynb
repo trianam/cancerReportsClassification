{
 "cells": [
  {
   "cell_type": "markdown",
   "metadata": {},
   "source": [
    "https://gist.github.com/ihsgnef/f13c35cd46624c8f458a4d23589ac768"
   ]
  },
  {
   "cell_type": "code",
   "execution_count": 1,
   "metadata": {},
   "outputs": [],
   "source": [
    "import numpy as np\n",
    "import matplotlib\n",
    "import matplotlib.pyplot as plt\n",
    "from IPython.display import display, HTML\n",
    "import configurations\n",
    "import configurationsMulticlass\n",
    "import funPytorch as fun\n",
    "import pickle"
   ]
  },
  {
   "cell_type": "code",
   "execution_count": 2,
   "metadata": {},
   "outputs": [],
   "source": [
    "def colorize(words, color_array, diverging=False, color=0):\n",
    "    # words is a list of words\n",
    "    # color_array is an array of numbers between 0 and 1 of length equal to words\n",
    "    \n",
    "    if diverging:\n",
    "        template = 'RdBu'\n",
    "        color_array = color_array / 2. + 0.5\n",
    "    else:\n",
    "        templates = ['Greens', 'Blues', 'Reds', 'Oranges', 'Purples', 'Greys']\n",
    "        template = templates[color%len(templates)]\n",
    "    cmap = matplotlib.cm.get_cmap(template)\n",
    "    template = '<span class=\"barcode\"; style=\"color: black; background-color: {}\">{}</span>'\n",
    "    colored_string = ''\n",
    "    for word, color in zip(words, color_array):\n",
    "        color = matplotlib.colors.rgb2hex(cmap(color)[:3])\n",
    "        colored_string += template.format(color, '&nbsp' + word + '&nbsp')\n",
    "    display(HTML(colored_string))\n",
    "    return colored_string    "
   ]
  },
  {
   "cell_type": "code",
   "execution_count": 3,
   "metadata": {},
   "outputs": [
    {
     "data": {
      "text/html": [
       "<span class=\"barcode\"; style=\"color: black; background-color: #f7fcf5\">&nbspThe&nbsp</span><span class=\"barcode\"; style=\"color: black; background-color: #e5f5e0\">&nbspquick&nbsp</span><span class=\"barcode\"; style=\"color: black; background-color: #c7e9c0\">&nbspbrown&nbsp</span><span class=\"barcode\"; style=\"color: black; background-color: #a0d99b\">&nbspfox&nbsp</span><span class=\"barcode\"; style=\"color: black; background-color: #73c476\">&nbspjumps&nbsp</span><span class=\"barcode\"; style=\"color: black; background-color: #40aa5d\">&nbspover&nbsp</span><span class=\"barcode\"; style=\"color: black; background-color: #228a44\">&nbspthe&nbsp</span><span class=\"barcode\"; style=\"color: black; background-color: #006c2c\">&nbsplazy&nbsp</span><span class=\"barcode\"; style=\"color: black; background-color: #00441b\">&nbspdog&nbsp</span>"
      ],
      "text/plain": [
       "<IPython.core.display.HTML object>"
      ]
     },
     "metadata": {},
     "output_type": "display_data"
    },
    {
     "data": {
      "text/html": [
       "<span class=\"barcode\"; style=\"color: black; background-color: #f6f7f7\">&nbspThe&nbsp</span><span class=\"barcode\"; style=\"color: black; background-color: #deebf2\">&nbspquick&nbsp</span><span class=\"barcode\"; style=\"color: black; background-color: #c0dceb\">&nbspbrown&nbsp</span><span class=\"barcode\"; style=\"color: black; background-color: #98c8e0\">&nbspfox&nbsp</span><span class=\"barcode\"; style=\"color: black; background-color: #68abd0\">&nbspjumps&nbsp</span><span class=\"barcode\"; style=\"color: black; background-color: #3e8cbf\">&nbspover&nbsp</span><span class=\"barcode\"; style=\"color: black; background-color: #2870b1\">&nbspthe&nbsp</span><span class=\"barcode\"; style=\"color: black; background-color: #15508d\">&nbsplazy&nbsp</span><span class=\"barcode\"; style=\"color: black; background-color: #053061\">&nbspdog&nbsp</span>"
      ],
      "text/plain": [
       "<IPython.core.display.HTML object>"
      ]
     },
     "metadata": {},
     "output_type": "display_data"
    }
   ],
   "source": [
    "words = 'The quick brown fox jumps over the lazy dog'.split()\n",
    "color_array = np.linspace(0,1,len(words))#np.random.rand(len(words))\n",
    "s = colorize(words, color_array)\n",
    "s = colorize(words, color_array, diverging = True)"
   ]
  },
  {
   "cell_type": "code",
   "execution_count": 4,
   "metadata": {},
   "outputs": [
    {
     "data": {
      "text/html": [
       "<span class=\"barcode\"; style=\"color: black; background-color: #67001f\">&nbspThe&nbsp</span><span class=\"barcode\"; style=\"color: black; background-color: #bb2a34\">&nbspquick&nbsp</span><span class=\"barcode\"; style=\"color: black; background-color: #e58368\">&nbspbrown&nbsp</span><span class=\"barcode\"; style=\"color: black; background-color: #fbceb7\">&nbspfox&nbsp</span><span class=\"barcode\"; style=\"color: black; background-color: #f6f7f7\">&nbspjumps&nbsp</span><span class=\"barcode\"; style=\"color: black; background-color: #c0dceb\">&nbspover&nbsp</span><span class=\"barcode\"; style=\"color: black; background-color: #68abd0\">&nbspthe&nbsp</span><span class=\"barcode\"; style=\"color: black; background-color: #2870b1\">&nbsplazy&nbsp</span><span class=\"barcode\"; style=\"color: black; background-color: #053061\">&nbspdog&nbsp</span>"
      ],
      "text/plain": [
       "<IPython.core.display.HTML object>"
      ]
     },
     "metadata": {},
     "output_type": "display_data"
    },
    {
     "data": {
      "text/html": [
       "<span class=\"barcode\"; style=\"color: black; background-color: #f7fcf5\">&nbspThe&nbsp</span><span class=\"barcode\"; style=\"color: black; background-color: #f7fcf5\">&nbspquick&nbsp</span><span class=\"barcode\"; style=\"color: black; background-color: #f7fcf5\">&nbspbrown&nbsp</span><span class=\"barcode\"; style=\"color: black; background-color: #f7fcf5\">&nbspfox&nbsp</span><span class=\"barcode\"; style=\"color: black; background-color: #f7fcf5\">&nbspjumps&nbsp</span><span class=\"barcode\"; style=\"color: black; background-color: #c7e9c0\">&nbspover&nbsp</span><span class=\"barcode\"; style=\"color: black; background-color: #73c476\">&nbspthe&nbsp</span><span class=\"barcode\"; style=\"color: black; background-color: #228a44\">&nbsplazy&nbsp</span><span class=\"barcode\"; style=\"color: black; background-color: #00441b\">&nbspdog&nbsp</span>"
      ],
      "text/plain": [
       "<IPython.core.display.HTML object>"
      ]
     },
     "metadata": {},
     "output_type": "display_data"
    }
   ],
   "source": [
    "color_array = np.linspace(-1,1,len(words))#np.random.rand(len(words))\n",
    "s = colorize(words, color_array, diverging=True)\n",
    "s = colorize(words, color_array)"
   ]
  },
  {
   "cell_type": "code",
   "execution_count": 5,
   "metadata": {},
   "outputs": [],
   "source": [
    "device = \"cuda:0\"\n",
    "\n",
    "#conf = configurations.config50\n",
    "#conf = configurations.config50c\n",
    "#conf = configurations.config51\n",
    "#conf = configurationsMulticlass.config28\n",
    "#conf = configurationsMulticlass.config30v\n",
    "\n",
    "#conf = configurationsMulticlass.configTImulti1best\n",
    "conf = configurationsMulticlass.configTmulti1best"
   ]
  },
  {
   "cell_type": "code",
   "execution_count": 6,
   "metadata": {},
   "outputs": [
    {
     "name": "stdout",
     "output_type": "stream",
     "text": [
      "         processed line 85170/85170           \n",
      "         reprocessed line 85170/85170           \n"
     ]
    }
   ],
   "source": [
    "X, y, train, valid, test, allText = fun.processData(conf, getText=True)\n",
    "model,optim = fun.loadModel(conf, device)"
   ]
  },
  {
   "cell_type": "code",
   "execution_count": 7,
   "metadata": {},
   "outputs": [],
   "source": [
    "dataset = valid"
   ]
  },
  {
   "cell_type": "code",
   "execution_count": 8,
   "metadata": {},
   "outputs": [],
   "source": [
    "yp, att = fun.getAttention(conf, model, X, y, dataset)"
   ]
  },
  {
   "cell_type": "code",
   "execution_count": 9,
   "metadata": {},
   "outputs": [],
   "source": [
    "if np.min(att) < 0.:\n",
    "    att = att/2 + 0.5"
   ]
  },
  {
   "cell_type": "code",
   "execution_count": 10,
   "metadata": {},
   "outputs": [],
   "source": [
    "yt = y[dataset]\n",
    "Xt = X[dataset]\n",
    "text = [allText[c] for c in dataset]"
   ]
  },
  {
   "cell_type": "markdown",
   "metadata": {},
   "source": [
    "### Visualize only phrase attention"
   ]
  },
  {
   "cell_type": "code",
   "execution_count": 11,
   "metadata": {},
   "outputs": [],
   "source": [
    "binary = False\n",
    "colonRetto = False\n",
    "hiddenEqualClasses = False"
   ]
  },
  {
   "cell_type": "code",
   "execution_count": 12,
   "metadata": {},
   "outputs": [],
   "source": [
    "if not binary:\n",
    "    _,values,_,_,_ = fun.processCorpusAndSplit(conf)\n",
    "    icdo = pickle.load(open(\"icdo-3-dict.p\", 'rb'))\n",
    "    icdoEn = pickle.load(open(\"icdo-3-dict-en.p\", 'rb'))"
   ]
  },
  {
   "cell_type": "code",
   "execution_count": 13,
   "metadata": {},
   "outputs": [
    {
     "data": {
      "text/plain": [
       "[(0, 0, 'LABBRO'),\n",
       " (1, 1, 'BASE DELLA LINGUA'),\n",
       " (2, 2, 'ALTRE PARTI E PARTI NON SPECIFICATE DELLA LINGUA'),\n",
       " (3, 3, 'GENGIVA'),\n",
       " (4, 4, 'PAVIMENTO ORALE'),\n",
       " (5, 5, 'PALATO'),\n",
       " (6, 6, 'ALTRE PARTI E PARTI NON SPECIFICATE DELLA BOCCA'),\n",
       " (7, 7, 'GHIANDOLA PAROTIDE'),\n",
       " (8, 8, 'ALTRE GHIANDOLE SALIVARI MAGGIORI E NON SPECIFICATE'),\n",
       " (9, 9, 'TONSILLA'),\n",
       " (10, 10, 'OROFARINGE'),\n",
       " (11, 11, 'RINOFARINGE'),\n",
       " (12, 12, 'SENO PIRIFORME'),\n",
       " (13, 13, 'IPOFARINGE'),\n",
       " (14,\n",
       "  14,\n",
       "  'ALTRE E MAL DEFINITE SEDI DEL LABBRO, DEL CAVO ORALE E DELLA FARINGE'),\n",
       " (15, 15, 'ESOFAGO'),\n",
       " (16, 16, 'STOMACO'),\n",
       " (17, 17, 'INTESTINO TENUE'),\n",
       " (18, 18, 'COLON'),\n",
       " (19, 19, 'GIUNZIONE RETTOSIGMOIDEA'),\n",
       " (20, 20, 'RETTO'),\n",
       " (21, 21, 'ANO E CANALE ANALE'),\n",
       " (22, 22, 'FEGATO E DOTTI BILIARI INTRAEPATICI'),\n",
       " (23, 23, 'COLECISTI'),\n",
       " (24, 24, 'ALTRE PARTI E PARTI NON SPECIFICATE DELLE VIE BILIARI'),\n",
       " (25, 25, 'PANCREAS'),\n",
       " (26, 26, 'ALTRI E MAL DEFINITI ORGANI DIGESTIVI'),\n",
       " (27, 30, 'CAVITÀ NASALE E ORECCHIO MEDIO'),\n",
       " (28, 31, 'SENI PARANASALI'),\n",
       " (29, 32, 'LARINGE'),\n",
       " (30, 33, 'TRACHEA'),\n",
       " (31, 34, 'BRONCO E POLMONE'),\n",
       " (32, 37, 'TIMO'),\n",
       " (33, 38, 'CUORE, MEDIASTINO E PLEURA'),\n",
       " (34,\n",
       "  39,\n",
       "  'ALTRE E MAL DEFINITE SEDI DELL’APPARATO RESPIRATORIO E DEGLI ORGANI INTRATORACICI'),\n",
       " (35, 40, 'OSSA, ARTICOLAZIONI E CARTILAGINI ARTICOLARI DEGLI ARTI'),\n",
       " (36,\n",
       "  41,\n",
       "  'OSSA, ARTICOLAZIONI E CARTILAGINI ARTICOLARI DI ALTRE E NON SPECIFICATE SEDI'),\n",
       " (37, 42, 'SISTEMA EMOPOIETICO E RETICOLO ENDOTELIALE'),\n",
       " (38, 44, 'CUTE'),\n",
       " (39, 47, 'NERVI PERIFERICI E SISTEMA NERVOSO AUTONOMO'),\n",
       " (40, 48, 'RETROPERITONEO E PERITONEO'),\n",
       " (41, 49, 'TESSUTO CONNETTIVO, SOTTOCUTE E ALTRI TESSUTI DELLE PARTI MOLLI'),\n",
       " (42, 50, 'MAMMELLA'),\n",
       " (43, 51, 'VULVA'),\n",
       " (44, 52, 'VAGINA'),\n",
       " (45, 53, 'CERVICE UTERINA'),\n",
       " (46, 54, 'CORPO DELL’UTERO'),\n",
       " (47, 55, 'UTERO, NAS'),\n",
       " (48, 56, 'OVAIO'),\n",
       " (49, 57, 'ALTRI E NON SPECIFICATI ORGANI GENITALI FEMMINILI'),\n",
       " (50, 58, 'PLACENTA'),\n",
       " (51, 60, 'PENE'),\n",
       " (52, 61, 'PROSTATA'),\n",
       " (53, 62, 'TESTICOLO'),\n",
       " (54, 63, 'ALTRI E NON SPECIFICATI ORGANI GENITALI MASCHILI'),\n",
       " (55, 64, 'RENE'),\n",
       " (56, 65, 'PELVI RENALE'),\n",
       " (57, 66, 'URETERE'),\n",
       " (58, 67, 'VESCICA'),\n",
       " (59, 68, 'ALTRI E NON SPECIFICATI ORGANI DELL’APPARATO URINARIO'),\n",
       " (60, 69, 'OCCHIO E ANNESSI'),\n",
       " (61, 70, 'MENINGI'),\n",
       " (62, 71, 'ENCEFALO'),\n",
       " (63,\n",
       "  72,\n",
       "  'MIDOLLO SPINALE, NERVI CRANICI E ALTRE PARTI DEL SISTEMA NERVOSO CENTRALE'),\n",
       " (64, 73, 'TIROIDE'),\n",
       " (65, 74, 'GHIANDOLA SURRENALE'),\n",
       " (66, 75, 'ALTRE GHIANDOLE ENDOCRINE E FORMAZIONI CORRELATE'),\n",
       " (67, 76, 'ALTRE E MAL DEFINITE SEDI'),\n",
       " (68, 77, 'LINFONODI'),\n",
       " (69, 80, 'SEDE PRIMITIVA IGNOTA')]"
      ]
     },
     "execution_count": 13,
     "metadata": {},
     "output_type": "execute_result"
    }
   ],
   "source": [
    "[(i,c,icdo[c]) for i,c in enumerate(icdo)]"
   ]
  },
  {
   "cell_type": "code",
   "execution_count": 14,
   "metadata": {},
   "outputs": [],
   "source": [
    "inspectDoc = 923"
   ]
  },
  {
   "cell_type": "code",
   "execution_count": 15,
   "metadata": {},
   "outputs": [
    {
     "data": {
      "text/plain": [
       "(array([  1,   3,   5,   8,  13,  14,  17,  24,  25,  34,  36,  43,  44,\n",
       "         47,  48,  53,  54,  56,  63,  65,  75,  78,  80,  81,  88,  90,\n",
       "         93,  94,  95,  96,  99, 103, 105, 108, 109, 111, 112, 113, 120,\n",
       "        122, 123, 128, 132, 133, 136, 138, 139, 140, 141, 142, 145, 149,\n",
       "        150, 151, 153, 157, 171, 175, 176, 177, 179, 180, 182, 186, 188,\n",
       "        190, 193, 194, 197, 199, 204, 211, 213, 214, 215, 218, 219, 226,\n",
       "        227, 228, 229, 232, 236, 237, 238, 241, 251, 255, 260, 261, 263,\n",
       "        264, 268, 270, 273, 280, 283, 286, 287, 291, 295, 296, 306, 309,\n",
       "        311, 317, 322, 326, 327, 330, 331, 335, 340, 342, 343, 344, 349,\n",
       "        352, 353, 358, 359, 361, 374, 375, 378, 381, 385, 386, 389, 392,\n",
       "        395, 398, 401, 402, 403, 410, 414, 415, 418, 420, 424, 427, 428,\n",
       "        429, 439, 441, 444, 447, 452, 455, 459, 463, 464, 467, 470, 471,\n",
       "        475, 477, 481, 482, 491, 496, 497, 500, 501, 506, 508, 509]),)"
      ]
     },
     "execution_count": 15,
     "metadata": {},
     "output_type": "execute_result"
    }
   ],
   "source": [
    "np.where(np.max(att[inspectDoc],0)>0.1)"
   ]
  },
  {
   "cell_type": "code",
   "execution_count": 16,
   "metadata": {},
   "outputs": [
    {
     "data": {
      "text/plain": [
       "array([0.51058763, 0.2684286 , 0.82334626, 0.12189711, 0.9655277 ,\n",
       "       0.8612196 , 0.15273756, 0.223354  , 0.31953984, 0.99963725,\n",
       "       0.99715614, 0.34596118, 0.23075797, 0.10177831, 0.8724905 ,\n",
       "       0.7366601 , 0.7827665 , 0.7685511 , 0.747538  , 0.40740752,\n",
       "       0.16204967, 0.34761745, 0.82777435, 0.9530837 , 0.22205229,\n",
       "       0.11371879, 0.32201856, 0.7043651 , 0.18970443, 0.5311009 ,\n",
       "       0.16232204, 0.14980622, 0.16400659, 0.15695615, 0.13208403,\n",
       "       0.23251764, 0.16763133, 0.10394465, 0.7948186 , 0.17602973,\n",
       "       0.1313718 , 0.35948142, 0.21420313, 0.2769304 , 0.6669111 ,\n",
       "       0.21427391, 0.19541885, 0.14545092, 0.1276795 , 0.95066726,\n",
       "       0.9750277 , 0.46713403, 0.46560904, 0.7636015 , 0.1001979 ,\n",
       "       0.9366209 , 0.1939204 , 0.28747958, 0.9861373 , 0.33933222,\n",
       "       0.90495306, 0.30081078, 0.14865509, 0.35822147, 0.26523593,\n",
       "       0.12291292, 0.27185768, 0.11557989, 0.1828546 , 0.26551878,\n",
       "       0.28078595, 0.17920908, 0.8264668 , 0.15849671, 0.5507021 ,\n",
       "       0.9394039 , 0.5521006 , 0.69423324, 0.15370595, 0.3354373 ,\n",
       "       0.10280413, 0.50261843, 0.4588792 , 0.16711101, 0.8378691 ,\n",
       "       0.2485158 , 0.31169212, 0.16595621, 0.86447406, 0.20744817,\n",
       "       0.12551516, 0.23123677, 0.96913505, 0.983913  , 0.3750017 ,\n",
       "       0.9019868 , 0.7232283 , 0.5710728 , 0.10123834, 0.3906884 ,\n",
       "       0.20630343, 0.9993469 , 0.20686314, 0.11788847, 0.5995174 ,\n",
       "       0.56621844, 0.96690995, 0.9155166 , 0.3933381 , 0.32744744,\n",
       "       0.14965698, 0.86185914, 0.9352379 , 0.12915918, 0.71933526,\n",
       "       0.14376567, 0.1412054 , 0.19816583, 0.22017439, 0.7073667 ,\n",
       "       0.2824525 , 0.9638161 , 0.5801748 , 0.79518723, 0.44869894,\n",
       "       0.26044577, 0.47164214, 0.99702305, 0.9874885 , 0.1567631 ,\n",
       "       0.13564119, 0.184638  , 0.1208858 , 0.9829442 , 0.5538098 ,\n",
       "       0.98990977, 0.12204762, 0.17878385, 0.12554803, 0.7614055 ,\n",
       "       0.13296615, 0.7016702 , 0.14149888, 0.10270094, 0.8385174 ,\n",
       "       0.93007505, 0.37762552, 0.11865295, 0.8373543 , 0.13306956,\n",
       "       0.14216176, 0.98832744, 0.18523094, 0.4898646 , 0.9970668 ,\n",
       "       0.87702113, 0.27421147, 0.8795548 , 0.11169329, 0.80807513,\n",
       "       0.9601363 , 0.11154288, 0.8971418 , 0.94547874, 0.9580919 ,\n",
       "       0.8553486 , 0.14362925, 0.71676946], dtype=float32)"
      ]
     },
     "execution_count": 16,
     "metadata": {},
     "output_type": "execute_result"
    }
   ],
   "source": [
    "np.max(att[inspectDoc],0)[np.where(np.max(att[inspectDoc],0)>0.1)]"
   ]
  },
  {
   "cell_type": "code",
   "execution_count": 17,
   "metadata": {},
   "outputs": [
    {
     "data": {
      "text/plain": [
       "False"
      ]
     },
     "execution_count": 17,
     "metadata": {},
     "output_type": "execute_result"
    }
   ],
   "source": [
    "np.max(att[inspectDoc],0)[31]==np.max(att[inspectDoc],0)[67]"
   ]
  },
  {
   "cell_type": "code",
   "execution_count": 18,
   "metadata": {},
   "outputs": [],
   "source": [
    "visRange = (0,len(yt))#(50,100)\n",
    "visLimit = 50      #int or None\n",
    "only=None#[values.index(32), values.index(33), values.index(34)]          #None, list\n",
    "printWhat = 'all'  #all, max or maxed\n",
    "attThreshold = 0.1  #None or float\n",
    "attColors = ['red', 'green', 'blue', 'black']"
   ]
  },
  {
   "cell_type": "code",
   "execution_count": 19,
   "metadata": {},
   "outputs": [
    {
     "data": {
      "text/plain": [
       "(17034, 100, 512)"
      ]
     },
     "execution_count": 19,
     "metadata": {},
     "output_type": "execute_result"
    }
   ],
   "source": [
    "att.shape"
   ]
  },
  {
   "cell_type": "code",
   "execution_count": 22,
   "metadata": {},
   "outputs": [],
   "source": [
    "att = np.sum(att, axis=2)/512."
   ]
  },
  {
   "cell_type": "code",
   "execution_count": 28,
   "metadata": {},
   "outputs": [],
   "source": [
    "att = att.reshape(att.shape[0],att.shape[1],1)"
   ]
  },
  {
   "cell_type": "code",
   "execution_count": 29,
   "metadata": {},
   "outputs": [
    {
     "data": {
      "text/plain": [
       "(17034, 100, 1)"
      ]
     },
     "execution_count": 29,
     "metadata": {},
     "output_type": "execute_result"
    }
   ],
   "source": [
    "att.shape"
   ]
  },
  {
   "cell_type": "code",
   "execution_count": 30,
   "metadata": {},
   "outputs": [
    {
     "data": {
      "text/plain": [
       "0.532195"
      ]
     },
     "execution_count": 30,
     "metadata": {},
     "output_type": "execute_result"
    }
   ],
   "source": [
    "np.max(att)"
   ]
  },
  {
   "cell_type": "code",
   "execution_count": 31,
   "metadata": {},
   "outputs": [
    {
     "data": {
      "text/plain": [
       "0.0"
      ]
     },
     "execution_count": 31,
     "metadata": {},
     "output_type": "execute_result"
    }
   ],
   "source": [
    "np.min(att)"
   ]
  },
  {
   "cell_type": "code",
   "execution_count": 35,
   "metadata": {
    "scrolled": false
   },
   "outputs": [
    {
     "name": "stdout",
     "output_type": "stream",
     "text": [
      "======== doc:  0\n"
     ]
    },
    {
     "data": {
      "text/html": [
       "<span class=\"barcode\"; style=\"color: black; background-color: #eef8ea\">&nbspCARCINOMA&nbsp</span><span class=\"barcode\"; style=\"color: black; background-color: #bee5b8\">&nbspBASOSQUAMOCELLULARE&nbsp</span><span class=\"barcode\"; style=\"color: black; background-color: #dbf1d5\">&nbspULCERATO&nbsp</span><span class=\"barcode\"; style=\"color: black; background-color: #f1faee\">&nbspINFILTRANTE&nbsp</span><span class=\"barcode\"; style=\"color: black; background-color: #f0f9ed\">&nbspIL&nbsp</span><span class=\"barcode\"; style=\"color: black; background-color: #f2faef\">&nbspTESSUTO&nbsp</span><span class=\"barcode\"; style=\"color: black; background-color: #eff9ec\">&nbspCONNETTIVO&nbsp</span><span class=\"barcode\"; style=\"color: black; background-color: #f0f9ed\">&nbspADIPOSO&nbsp</span><span class=\"barcode\"; style=\"color: black; background-color: #d7efd1\">&nbspIPODERMICO&nbsp</span><span class=\"barcode\"; style=\"color: black; background-color: #f7fcf5\">&nbsp,&nbsp</span><span class=\"barcode\"; style=\"color: black; background-color: #f6fcf4\">&nbspLA&nbsp</span><span class=\"barcode\"; style=\"color: black; background-color: #f1faee\">&nbspLESIONE&nbsp</span><span class=\"barcode\"; style=\"color: black; background-color: #f6fcf4\">&nbspSI&nbsp</span><span class=\"barcode\"; style=\"color: black; background-color: #f4fbf1\">&nbspESTENDE&nbsp</span><span class=\"barcode\"; style=\"color: black; background-color: #f5fbf2\">&nbspAI&nbsp</span><span class=\"barcode\"; style=\"color: black; background-color: #eff9eb\">&nbspMARGINI&nbsp</span><span class=\"barcode\"; style=\"color: black; background-color: #f6fcf4\">&nbspDI&nbsp</span><span class=\"barcode\"; style=\"color: black; background-color: #f2faef\">&nbspRESEZIONE&nbsp</span><span class=\"barcode\"; style=\"color: black; background-color: #ebf7e7\">&nbspCHIRURGICA&nbsp</span><span class=\"barcode\"; style=\"color: black; background-color: #ebf7e7\">&nbspLATERALI&nbsp</span><span class=\"barcode\"; style=\"color: black; background-color: #f5fbf3\">&nbsp.&nbsp</span><span class=\"barcode\"; style=\"color: black; background-color: #f4fbf2\">&nbspINDAGINI&nbsp</span><span class=\"barcode\"; style=\"color: black; background-color: #f4fbf1\">&nbspIMMUNOISTOCHIMICHE&nbsp</span><span class=\"barcode\"; style=\"color: black; background-color: #f6fcf4\">&nbsp:&nbsp</span><span class=\"barcode\"; style=\"color: black; background-color: #f5fbf2\">&nbspPANCITOCHERATINE&nbsp</span><span class=\"barcode\"; style=\"color: black; background-color: #f7fcf5\">&nbsp,&nbsp</span><span class=\"barcode\"; style=\"color: black; background-color: #f5fbf2\">&nbspS&nbsp</span><span class=\"barcode\"; style=\"color: black; background-color: #f6fcf4\">&nbsp100&nbsp</span><span class=\"barcode\"; style=\"color: black; background-color: #f6fcf4\">&nbsp,&nbsp</span><span class=\"barcode\"; style=\"color: black; background-color: #edf8e9\">&nbspHMB&nbsp</span><span class=\"barcode\"; style=\"color: black; background-color: #f4fbf2\">&nbsp45&nbsp</span><span class=\"barcode\"; style=\"color: black; background-color: #edf8e9\">&nbspLOSANGA&nbsp</span><span class=\"barcode\"; style=\"color: black; background-color: #e7f6e3\">&nbspCUTANEA&nbsp</span><span class=\"barcode\"; style=\"color: black; background-color: #f6fcf4\">&nbspDI&nbsp</span><span class=\"barcode\"; style=\"color: black; background-color: #f7fcf5\">&nbsp3&nbsp</span><span class=\"barcode\"; style=\"color: black; background-color: #f7fcf5\">&nbsp,&nbsp</span><span class=\"barcode\"; style=\"color: black; background-color: #f7fcf5\">&nbsp5&nbsp</span><span class=\"barcode\"; style=\"color: black; background-color: #f6fcf4\">&nbspX&nbsp</span><span class=\"barcode\"; style=\"color: black; background-color: #f7fcf5\">&nbsp2&nbsp</span><span class=\"barcode\"; style=\"color: black; background-color: #f7fcf5\">&nbspCM&nbsp</span><span class=\"barcode\"; style=\"color: black; background-color: #f7fcf5\">&nbspCON&nbsp</span><span class=\"barcode\"; style=\"color: black; background-color: #f4fbf2\">&nbspLESIONE&nbsp</span><span class=\"barcode\"; style=\"color: black; background-color: #f6fcf4\">&nbspRILEVATA&nbsp</span><span class=\"barcode\"; style=\"color: black; background-color: #f5fbf3\">&nbspDEL&nbsp</span><span class=\"barcode\"; style=\"color: black; background-color: #f6fcf4\">&nbspDIAMETRO&nbsp</span><span class=\"barcode\"; style=\"color: black; background-color: #f6fcf4\">&nbspDI&nbsp</span><span class=\"barcode\"; style=\"color: black; background-color: #f7fcf5\">&nbsp2&nbsp</span><span class=\"barcode\"; style=\"color: black; background-color: #f7fcf5\">&nbsp,&nbsp</span><span class=\"barcode\"; style=\"color: black; background-color: #f7fcf5\">&nbsp2&nbsp</span><span class=\"barcode\"; style=\"color: black; background-color: #f7fcf5\">&nbspCM&nbsp</span><span class=\"barcode\"; style=\"color: black; background-color: #f7fcf5\">&nbsp,&nbsp</span><span class=\"barcode\"; style=\"color: black; background-color: #f7fcf5\">&nbspNR&nbsp</span><span class=\"barcode\"; style=\"color: black; background-color: #f7fcf5\">&nbspMG&nbsp</span><span class=\"barcode\"; style=\"color: black; background-color: #f7fcf5\">&nbsp.&nbsp</span>"
      ],
      "text/plain": [
       "<IPython.core.display.HTML object>"
      ]
     },
     "metadata": {},
     "output_type": "display_data"
    },
    {
     "name": "stdout",
     "output_type": "stream",
     "text": [
      "======== doc:  1\n"
     ]
    },
    {
     "data": {
      "text/html": [
       "<span class=\"barcode\"; style=\"color: black; background-color: #f1faee\">&nbspCARCINOMA&nbsp</span><span class=\"barcode\"; style=\"color: black; background-color: #f2faef\">&nbspA&nbsp</span><span class=\"barcode\"; style=\"color: black; background-color: #ecf8e8\">&nbspCELLULE&nbsp</span><span class=\"barcode\"; style=\"color: black; background-color: #cdecc7\">&nbspBASALI&nbsp</span><span class=\"barcode\"; style=\"color: black; background-color: #f1faee\">&nbsp.&nbsp</span><span class=\"barcode\"; style=\"color: black; background-color: #e1f3dc\">&nbspLESIONE&nbsp</span><span class=\"barcode\"; style=\"color: black; background-color: #f4fbf2\">&nbspNON&nbsp</span><span class=\"barcode\"; style=\"color: black; background-color: #e1f3dc\">&nbspCOMPRESA&nbsp</span><span class=\"barcode\"; style=\"color: black; background-color: #f3faf0\">&nbspNEI&nbsp</span><span class=\"barcode\"; style=\"color: black; background-color: #e9f7e5\">&nbspMARGINI&nbsp</span><span class=\"barcode\"; style=\"color: black; background-color: #f5fbf2\">&nbspDI&nbsp</span><span class=\"barcode\"; style=\"color: black; background-color: #edf8ea\">&nbspEXERESI&nbsp</span><span class=\"barcode\"; style=\"color: black; background-color: #eaf7e6\">&nbspCHIRURGICA&nbsp</span><span class=\"barcode\"; style=\"color: black; background-color: #f5fbf2\">&nbsp.&nbsp</span><span class=\"barcode\"; style=\"color: black; background-color: #edf8e9\">&nbspLAMINA&nbsp</span><span class=\"barcode\"; style=\"color: black; background-color: #dcf2d7\">&nbspCUTANEA&nbsp</span><span class=\"barcode\"; style=\"color: black; background-color: #f6fcf4\">&nbspDI&nbsp</span><span class=\"barcode\"; style=\"color: black; background-color: #f6fcf4\">&nbspCM&nbsp</span><span class=\"barcode\"; style=\"color: black; background-color: #f6fcf4\">&nbsp.&nbsp</span><span class=\"barcode\"; style=\"color: black; background-color: #f7fcf5\">&nbsp1&nbsp</span><span class=\"barcode\"; style=\"color: black; background-color: #f7fcf5\">&nbsp,&nbsp</span><span class=\"barcode\"; style=\"color: black; background-color: #f6fcf4\">&nbsp2X0&nbsp</span><span class=\"barcode\"; style=\"color: black; background-color: #f7fcf5\">&nbsp,&nbsp</span><span class=\"barcode\"; style=\"color: black; background-color: #f7fcf5\">&nbsp9&nbsp</span><span class=\"barcode\"; style=\"color: black; background-color: #f7fcf5\">&nbspA&nbsp</span><span class=\"barcode\"; style=\"color: black; background-color: #f5fbf3\">&nbspSUPERFICIE&nbsp</span><span class=\"barcode\"; style=\"color: black; background-color: #f6fcf4\">&nbspGI&nbsp</span><span class=\"barcode\"; style=\"color: black; background-color: #f6fcf4\">&nbsp+&nbsp</span><span class=\"barcode\"; style=\"color: black; background-color: #f7fcf5\">&nbspIRREGOLARE&nbsp</span><span class=\"barcode\"; style=\"color: black; background-color: #f6fcf4\">&nbsp.&nbsp</span>"
      ],
      "text/plain": [
       "<IPython.core.display.HTML object>"
      ]
     },
     "metadata": {},
     "output_type": "display_data"
    },
    {
     "name": "stdout",
     "output_type": "stream",
     "text": [
      "======== doc:  2\n"
     ]
    },
    {
     "data": {
      "text/html": [
       "<span class=\"barcode\"; style=\"color: black; background-color: #eef8ea\">&nbspISOLATI&nbsp</span><span class=\"barcode\"; style=\"color: black; background-color: #f4fbf1\">&nbspFRAMMENTI&nbsp</span><span class=\"barcode\"; style=\"color: black; background-color: #f3faf0\">&nbspRIFERIBILI&nbsp</span><span class=\"barcode\"; style=\"color: black; background-color: #f5fbf3\">&nbspAD&nbsp</span><span class=\"barcode\"; style=\"color: black; background-color: #ecf8e8\">&nbspADENOMA&nbsp</span><span class=\"barcode\"; style=\"color: black; background-color: #edf8ea\">&nbspTUBULARE&nbsp</span><span class=\"barcode\"; style=\"color: black; background-color: #e5f5e0\">&nbspINTESTINALE&nbsp</span><span class=\"barcode\"; style=\"color: black; background-color: #f0f9ed\">&nbspDI&nbsp</span><span class=\"barcode\"; style=\"color: black; background-color: #f1faee\">&nbspALTO&nbsp</span><span class=\"barcode\"; style=\"color: black; background-color: #f4fbf2\">&nbspGRADO&nbsp</span><span class=\"barcode\"; style=\"color: black; background-color: #f5fbf2\">&nbsp.&nbsp</span><span class=\"barcode\"; style=\"color: black; background-color: #f3faf0\">&nbspFRAMMENTI&nbsp</span><span class=\"barcode\"; style=\"color: black; background-color: #f5fbf3\">&nbsp(&nbsp</span><span class=\"barcode\"; style=\"color: black; background-color: #f5fbf3\">&nbspNR&nbsp</span><span class=\"barcode\"; style=\"color: black; background-color: #f5fbf3\">&nbsp.&nbsp</span><span class=\"barcode\"; style=\"color: black; background-color: #f5fbf3\">&nbsp2&nbsp</span><span class=\"barcode\"; style=\"color: black; background-color: #f5fbf3\">&nbsp)&nbsp</span><span class=\"barcode\"; style=\"color: black; background-color: #f4fbf2\">&nbspDI&nbsp</span><span class=\"barcode\"; style=\"color: black; background-color: #e5f5e0\">&nbspPOLIPO&nbsp</span><span class=\"barcode\"; style=\"color: black; background-color: #d9f0d3\">&nbspPEDUNCOLATO&nbsp</span><span class=\"barcode\"; style=\"color: black; background-color: #f4fbf2\">&nbspA&nbsp</span><span class=\"barcode\"; style=\"color: black; background-color: #f3faf0\">&nbsp20&nbsp</span><span class=\"barcode\"; style=\"color: black; background-color: #f5fbf2\">&nbspCM&nbsp</span><span class=\"barcode\"; style=\"color: black; background-color: #eaf7e6\">&nbspDALL&nbsp</span><span class=\"barcode\"; style=\"color: black; background-color: #f5fbf2\">&nbsp'&nbsp</span><span class=\"barcode\"; style=\"color: black; background-color: #cfecc9\">&nbspORIFIZIO&nbsp</span><span class=\"barcode\"; style=\"color: black; background-color: #cbebc5\">&nbspANALE&nbsp</span><span class=\"barcode\"; style=\"color: black; background-color: #f4fbf2\">&nbsp.&nbsp</span><span class=\"barcode\"; style=\"color: black; background-color: #f6fcf4\">&nbsp(&nbsp</span><span class=\"barcode\"; style=\"color: black; background-color: #f5fbf2\">&nbspESEGUITA&nbsp</span><span class=\"barcode\"; style=\"color: black; background-color: #f5fbf2\">&nbspCOLORAZIONE&nbsp</span><span class=\"barcode\"; style=\"color: black; background-color: #f5fbf2\">&nbspEMATOSSILINA&nbsp</span><span class=\"barcode\"; style=\"color: black; background-color: #f6fcf4\">&nbsp-&nbsp</span><span class=\"barcode\"; style=\"color: black; background-color: #f5fbf2\">&nbspEOSINA&nbsp</span><span class=\"barcode\"; style=\"color: black; background-color: #f6fcf4\">&nbsp)&nbsp</span><span class=\"barcode\"; style=\"color: black; background-color: #f6fcf4\">&nbsp.&nbsp</span>"
      ],
      "text/plain": [
       "<IPython.core.display.HTML object>"
      ]
     },
     "metadata": {},
     "output_type": "display_data"
    },
    {
     "name": "stdout",
     "output_type": "stream",
     "text": [
      "======== doc:  3\n"
     ]
    },
    {
     "data": {
      "text/html": [
       "<span class=\"barcode\"; style=\"color: black; background-color: #edf8e9\">&nbspCARCINOMA&nbsp</span><span class=\"barcode\"; style=\"color: black; background-color: #bae3b3\">&nbspBASOCELLULARE&nbsp</span><span class=\"barcode\"; style=\"color: black; background-color: #ecf8e8\">&nbspDI&nbsp</span><span class=\"barcode\"; style=\"color: black; background-color: #f0f9ec\">&nbspTIPO&nbsp</span><span class=\"barcode\"; style=\"color: black; background-color: #e6f5e1\">&nbspSUPERFICIALE&nbsp</span><span class=\"barcode\"; style=\"color: black; background-color: #f4fbf1\">&nbsp.&nbsp</span><span class=\"barcode\"; style=\"color: black; background-color: #f4fbf2\">&nbspA&nbsp</span><span class=\"barcode\"; style=\"color: black; background-color: #f6fcf4\">&nbsp)&nbsp</span><span class=\"barcode\"; style=\"color: black; background-color: #eaf7e6\">&nbspBIOPSIA&nbsp</span><span class=\"barcode\"; style=\"color: black; background-color: #d1edcb\">&nbspSHAVE&nbsp</span><span class=\"barcode\"; style=\"color: black; background-color: #f3faf0\">&nbspDI&nbsp</span><span class=\"barcode\"; style=\"color: black; background-color: #ebf7e7\">&nbspLESIONE&nbsp</span><span class=\"barcode\"; style=\"color: black; background-color: #dcf2d7\">&nbspCUTANEA&nbsp</span><span class=\"barcode\"; style=\"color: black; background-color: #f1faee\">&nbspDELLA&nbsp</span><span class=\"barcode\"; style=\"color: black; background-color: #e4f5df\">&nbspREGIONE&nbsp</span><span class=\"barcode\"; style=\"color: black; background-color: #e9f7e5\">&nbspDORSALE&nbsp</span><span class=\"barcode\"; style=\"color: black; background-color: #f6fcf4\">&nbsp.&nbsp</span>"
      ],
      "text/plain": [
       "<IPython.core.display.HTML object>"
      ]
     },
     "metadata": {},
     "output_type": "display_data"
    },
    {
     "name": "stdout",
     "output_type": "stream",
     "text": [
      "======== doc:  4\n"
     ]
    },
    {
     "data": {
      "text/html": [
       "<span class=\"barcode\"; style=\"color: black; background-color: #d5efcf\">&nbspRETTORRAGIA&nbsp</span><span class=\"barcode\"; style=\"color: black; background-color: #edf8e9\">&nbsp.&nbsp</span><span class=\"barcode\"; style=\"color: black; background-color: #e8f6e4\">&nbspADENOMA&nbsp</span><span class=\"barcode\"; style=\"color: black; background-color: #e8f6e4\">&nbspTUBULO&nbsp</span><span class=\"barcode\"; style=\"color: black; background-color: #eff9eb\">&nbsp-&nbsp</span><span class=\"barcode\"; style=\"color: black; background-color: #e7f6e3\">&nbspVILLOSO&nbsp</span><span class=\"barcode\"; style=\"color: black; background-color: #e4f5df\">&nbspINTESTINALE&nbsp</span><span class=\"barcode\"; style=\"color: black; background-color: #f2faef\">&nbspCON&nbsp</span><span class=\"barcode\"; style=\"color: black; background-color: #eff9ec\">&nbspESTESE&nbsp</span><span class=\"barcode\"; style=\"color: black; background-color: #f3faf0\">&nbspAREE&nbsp</span><span class=\"barcode\"; style=\"color: black; background-color: #f3faf0\">&nbspDI&nbsp</span><span class=\"barcode\"; style=\"color: black; background-color: #f1faee\">&nbspDISPLASIA&nbsp</span><span class=\"barcode\"; style=\"color: black; background-color: #f2faef\">&nbspGRAVE&nbsp</span><span class=\"barcode\"; style=\"color: black; background-color: #f1faee\">&nbsp.&nbsp</span><span class=\"barcode\"; style=\"color: black; background-color: #e6f5e1\">&nbspPOLIPO&nbsp</span><span class=\"barcode\"; style=\"color: black; background-color: #eef8ea\">&nbspSESSILE&nbsp</span><span class=\"barcode\"; style=\"color: black; background-color: #f4fbf2\">&nbspDEL&nbsp</span><span class=\"barcode\"; style=\"color: black; background-color: #f5fbf3\">&nbspDIAMETRO&nbsp</span><span class=\"barcode\"; style=\"color: black; background-color: #f5fbf3\">&nbspDI&nbsp</span><span class=\"barcode\"; style=\"color: black; background-color: #f6fcf4\">&nbspCM&nbsp</span><span class=\"barcode\"; style=\"color: black; background-color: #f6fcf4\">&nbsp.&nbsp</span><span class=\"barcode\"; style=\"color: black; background-color: #f6fcf4\">&nbsp1&nbsp</span><span class=\"barcode\"; style=\"color: black; background-color: #f7fcf5\">&nbsp,&nbsp</span><span class=\"barcode\"; style=\"color: black; background-color: #f7fcf5\">&nbsp1&nbsp</span><span class=\"barcode\"; style=\"color: black; background-color: #f6fcf4\">&nbsp.&nbsp</span>"
      ],
      "text/plain": [
       "<IPython.core.display.HTML object>"
      ]
     },
     "metadata": {},
     "output_type": "display_data"
    },
    {
     "name": "stdout",
     "output_type": "stream",
     "text": [
      "======== doc:  5\n"
     ]
    },
    {
     "data": {
      "text/html": [
       "<span class=\"barcode\"; style=\"color: black; background-color: #d9f0d3\">&nbspFOBT&nbsp</span><span class=\"barcode\"; style=\"color: black; background-color: #f4fbf1\">&nbsp+&nbsp</span><span class=\"barcode\"; style=\"color: black; background-color: #f2faef\">&nbspOD&nbsp</span><span class=\"barcode\"; style=\"color: black; background-color: #f4fbf2\">&nbsp:&nbsp</span><span class=\"barcode\"; style=\"color: black; background-color: #e8f6e3\">&nbspADENOMA&nbsp</span><span class=\"barcode\"; style=\"color: black; background-color: #f1faee\">&nbsp?&nbsp</span><span class=\"barcode\"; style=\"color: black; background-color: #e8f6e4\">&nbspADENOMA&nbsp</span><span class=\"barcode\"; style=\"color: black; background-color: #ebf7e7\">&nbspTUBULARE&nbsp</span><span class=\"barcode\"; style=\"color: black; background-color: #e2f4dd\">&nbspINTESTINALE&nbsp</span><span class=\"barcode\"; style=\"color: black; background-color: #ecf8e8\">&nbsp.&nbsp</span><span class=\"barcode\"; style=\"color: black; background-color: #dbf1d5\">&nbspPOLIPO&nbsp</span><span class=\"barcode\"; style=\"color: black; background-color: #eff9eb\">&nbspDEL&nbsp</span><span class=\"barcode\"; style=\"color: black; background-color: #c6e8bf\">&nbspRETTO&nbsp</span><span class=\"barcode\"; style=\"color: black; background-color: #f2faf0\">&nbspDEL&nbsp</span><span class=\"barcode\"; style=\"color: black; background-color: #f5fbf2\">&nbspDIAMETRO&nbsp</span><span class=\"barcode\"; style=\"color: black; background-color: #f5fbf2\">&nbspMASSIMO&nbsp</span><span class=\"barcode\"; style=\"color: black; background-color: #f5fbf3\">&nbspDI&nbsp</span><span class=\"barcode\"; style=\"color: black; background-color: #f5fbf3\">&nbspCM&nbsp</span><span class=\"barcode\"; style=\"color: black; background-color: #f6fcf4\">&nbsp0&nbsp</span><span class=\"barcode\"; style=\"color: black; background-color: #f7fcf5\">&nbsp,&nbsp</span><span class=\"barcode\"; style=\"color: black; background-color: #f7fcf5\">&nbsp4&nbsp</span><span class=\"barcode\"; style=\"color: black; background-color: #f7fcf5\">&nbsp(&nbsp</span><span class=\"barcode\"; style=\"color: black; background-color: #f6fcf4\">&nbspIN&nbsp</span><span class=\"barcode\"; style=\"color: black; background-color: #f6fcf4\">&nbspTOTO&nbsp</span><span class=\"barcode\"; style=\"color: black; background-color: #f6fcf4\">&nbsp)&nbsp</span>"
      ],
      "text/plain": [
       "<IPython.core.display.HTML object>"
      ]
     },
     "metadata": {},
     "output_type": "display_data"
    },
    {
     "name": "stdout",
     "output_type": "stream",
     "text": [
      "======== doc:  6\n"
     ]
    },
    {
     "data": {
      "text/html": [
       "<span class=\"barcode\"; style=\"color: black; background-color: #dcf2d7\">&nbspGAMMOPATIA&nbsp</span><span class=\"barcode\"; style=\"color: black; background-color: #e6f5e1\">&nbspIGM&nbsp</span><span class=\"barcode\"; style=\"color: black; background-color: #f6fcf4\">&nbspE&nbsp</span><span class=\"barcode\"; style=\"color: black; background-color: #e6f5e1\">&nbspLINFOADENOPATIA&nbsp</span><span class=\"barcode\"; style=\"color: black; background-color: #e2f4dd\">&nbspLATEROCERVICALE&nbsp</span><span class=\"barcode\"; style=\"color: black; background-color: #d7efd1\">&nbspLINFOMA&nbsp</span><span class=\"barcode\"; style=\"color: black; background-color: #d2edcc\">&nbspLINFOPLASMOCITOIDE&nbsp</span><span class=\"barcode\"; style=\"color: black; background-color: #ecf8e8\">&nbspCOINVOLGENTE&nbsp</span><span class=\"barcode\"; style=\"color: black; background-color: #f2faf0\">&nbspIL&nbsp</span><span class=\"barcode\"; style=\"color: black; background-color: #e9f7e5\">&nbspTESSUTO&nbsp</span><span class=\"barcode\"; style=\"color: black; background-color: #d2edcc\">&nbspOSTEOMIDOLLARE&nbsp</span><span class=\"barcode\"; style=\"color: black; background-color: #ebf7e7\">&nbspCON&nbsp</span><span class=\"barcode\"; style=\"color: black; background-color: #e3f4de\">&nbspPATTERN&nbsp</span><span class=\"barcode\"; style=\"color: black; background-color: #e7f6e3\">&nbspNODULARE&nbsp</span><span class=\"barcode\"; style=\"color: black; background-color: #f0f9ed\">&nbspE&nbsp</span><span class=\"barcode\"; style=\"color: black; background-color: #e1f3dc\">&nbspPARATRABECOLARE&nbsp</span><span class=\"barcode\"; style=\"color: black; background-color: #f0f9ec\">&nbsp.&nbsp</span><span class=\"barcode\"; style=\"color: black; background-color: #e7f6e2\">&nbspTESSUTO&nbsp</span><span class=\"barcode\"; style=\"color: black; background-color: #d1edcb\">&nbspEMOPOIETICO&nbsp</span><span class=\"barcode\"; style=\"color: black; background-color: #d3eecd\">&nbspNORMORAPPRESENTATO&nbsp</span><span class=\"barcode\"; style=\"color: black; background-color: #f0f9ec\">&nbsp.&nbsp</span><span class=\"barcode\"; style=\"color: black; background-color: #f1faee\">&nbsp(&nbsp</span><span class=\"barcode\"; style=\"color: black; background-color: #e8f6e3\">&nbspCD20&nbsp</span><span class=\"barcode\"; style=\"color: black; background-color: #f0f9ec\">&nbsp+&nbsp</span><span class=\"barcode\"; style=\"color: black; background-color: #f2faef\">&nbsp,&nbsp</span><span class=\"barcode\"; style=\"color: black; background-color: #e8f6e4\">&nbspCD138&nbsp</span><span class=\"barcode\"; style=\"color: black; background-color: #f2faef\">&nbsp+&nbsp</span><span class=\"barcode\"; style=\"color: black; background-color: #f3faf0\">&nbsp,&nbsp</span><span class=\"barcode\"; style=\"color: black; background-color: #e9f7e5\">&nbspLAMBDA&nbsp</span><span class=\"barcode\"; style=\"color: black; background-color: #f3faf0\">&nbsp+&nbsp</span><span class=\"barcode\"; style=\"color: black; background-color: #f4fbf1\">&nbsp,&nbsp</span><span class=\"barcode\"; style=\"color: black; background-color: #f0f9ec\">&nbspK&nbsp</span><span class=\"barcode\"; style=\"color: black; background-color: #f4fbf2\">&nbsp-&nbsp</span><span class=\"barcode\"; style=\"color: black; background-color: #f4fbf1\">&nbsp/&nbsp</span><span class=\"barcode\"; style=\"color: black; background-color: #f4fbf2\">&nbsp+&nbsp</span><span class=\"barcode\"; style=\"color: black; background-color: #f5fbf2\">&nbsp,&nbsp</span><span class=\"barcode\"; style=\"color: black; background-color: #f3faf0\">&nbspCD3&nbsp</span><span class=\"barcode\"; style=\"color: black; background-color: #f5fbf2\">&nbsp-&nbsp</span><span class=\"barcode\"; style=\"color: black; background-color: #f5fbf2\">&nbsp,&nbsp</span><span class=\"barcode\"; style=\"color: black; background-color: #f1faee\">&nbspCD5&nbsp</span><span class=\"barcode\"; style=\"color: black; background-color: #f4fbf2\">&nbsp-&nbsp</span><span class=\"barcode\"; style=\"color: black; background-color: #f5fbf2\">&nbsp,&nbsp</span><span class=\"barcode\"; style=\"color: black; background-color: #f1faee\">&nbspCD23&nbsp</span><span class=\"barcode\"; style=\"color: black; background-color: #f4fbf2\">&nbsp-&nbsp</span><span class=\"barcode\"; style=\"color: black; background-color: #f5fbf2\">&nbsp,&nbsp</span><span class=\"barcode\"; style=\"color: black; background-color: #f2faf0\">&nbspCD10&nbsp</span><span class=\"barcode\"; style=\"color: black; background-color: #f5fbf3\">&nbsp-&nbsp</span><span class=\"barcode\"; style=\"color: black; background-color: #f5fbf3\">&nbsp)&nbsp</span>"
      ],
      "text/plain": [
       "<IPython.core.display.HTML object>"
      ]
     },
     "metadata": {},
     "output_type": "display_data"
    },
    {
     "name": "stdout",
     "output_type": "stream",
     "text": [
      "======== doc:  7\n"
     ]
    },
    {
     "data": {
      "text/html": [
       "<span class=\"barcode\"; style=\"color: black; background-color: #e9f7e5\">&nbspADENOMA&nbsp</span><span class=\"barcode\"; style=\"color: black; background-color: #e8f6e4\">&nbspTUBULO&nbsp</span><span class=\"barcode\"; style=\"color: black; background-color: #f0f9ed\">&nbsp-&nbsp</span><span class=\"barcode\"; style=\"color: black; background-color: #e5f5e1\">&nbspVILLOSO&nbsp</span><span class=\"barcode\"; style=\"color: black; background-color: #dff3da\">&nbspINTESTINALE&nbsp</span><span class=\"barcode\"; style=\"color: black; background-color: #f2faf0\">&nbspCON&nbsp</span><span class=\"barcode\"; style=\"color: black; background-color: #f4fbf1\">&nbspFOCALI&nbsp</span><span class=\"barcode\"; style=\"color: black; background-color: #f5fbf2\">&nbspAREE&nbsp</span><span class=\"barcode\"; style=\"color: black; background-color: #f5fbf2\">&nbspDI&nbsp</span><span class=\"barcode\"; style=\"color: black; background-color: #f3faf0\">&nbspDISPLASIA&nbsp</span><span class=\"barcode\"; style=\"color: black; background-color: #f4fbf2\">&nbspGRAVE&nbsp</span><span class=\"barcode\"; style=\"color: black; background-color: #f5fbf2\">&nbsp.&nbsp</span><span class=\"barcode\"; style=\"color: black; background-color: #f5fbf3\">&nbsp1&nbsp</span><span class=\"barcode\"; style=\"color: black; background-color: #f4fbf2\">&nbsp-&nbsp</span><span class=\"barcode\"; style=\"color: black; background-color: #f6fcf4\">&nbsp4&nbsp</span><span class=\"barcode\"; style=\"color: black; background-color: #f5fbf3\">&nbsp)&nbsp</span><span class=\"barcode\"; style=\"color: black; background-color: #ebf7e7\">&nbspPOLIPO&nbsp</span><span class=\"barcode\"; style=\"color: black; background-color: #f1faee\">&nbspDEL&nbsp</span><span class=\"barcode\"; style=\"color: black; background-color: #dbf1d6\">&nbspSIGMA&nbsp</span><span class=\"barcode\"; style=\"color: black; background-color: #f2faf0\">&nbspDEL&nbsp</span><span class=\"barcode\"; style=\"color: black; background-color: #f5fbf2\">&nbspDIAMETRO&nbsp</span><span class=\"barcode\"; style=\"color: black; background-color: #f5fbf3\">&nbspMASSIMO&nbsp</span><span class=\"barcode\"; style=\"color: black; background-color: #f5fbf3\">&nbspDI&nbsp</span><span class=\"barcode\"; style=\"color: black; background-color: #f6fcf4\">&nbspCM&nbsp</span><span class=\"barcode\"; style=\"color: black; background-color: #f6fcf4\">&nbsp1&nbsp</span><span class=\"barcode\"; style=\"color: black; background-color: #f7fcf5\">&nbsp,&nbsp</span><span class=\"barcode\"; style=\"color: black; background-color: #f7fcf5\">&nbsp9&nbsp</span><span class=\"barcode\"; style=\"color: black; background-color: #f6fcf4\">&nbsp.&nbsp</span>"
      ],
      "text/plain": [
       "<IPython.core.display.HTML object>"
      ]
     },
     "metadata": {},
     "output_type": "display_data"
    },
    {
     "name": "stdout",
     "output_type": "stream",
     "text": [
      "======== doc:  8\n"
     ]
    },
    {
     "data": {
      "text/html": [
       "<span class=\"barcode\"; style=\"color: black; background-color: #eff9eb\">&nbspCARCINOMA&nbsp</span><span class=\"barcode\"; style=\"color: black; background-color: #bee5b8\">&nbspBASOCELLULARE&nbsp</span><span class=\"barcode\"; style=\"color: black; background-color: #eef8ea\">&nbspDI&nbsp</span><span class=\"barcode\"; style=\"color: black; background-color: #f2faef\">&nbspTIPO&nbsp</span><span class=\"barcode\"; style=\"color: black; background-color: #e8f6e4\">&nbspSUPERFICIALE&nbsp</span><span class=\"barcode\"; style=\"color: black; background-color: #f5fbf2\">&nbsp;&nbsp</span><span class=\"barcode\"; style=\"color: black; background-color: #e9f7e5\">&nbspMARGINI&nbsp</span><span class=\"barcode\"; style=\"color: black; background-color: #e2f4dd\">&nbspTRASVERSALI&nbsp</span><span class=\"barcode\"; style=\"color: black; background-color: #f6fcf4\">&nbsp,&nbsp</span><span class=\"barcode\"; style=\"color: black; background-color: #e3f4de\">&nbspAPICALI&nbsp</span><span class=\"barcode\"; style=\"color: black; background-color: #f4fbf1\">&nbspE&nbsp</span><span class=\"barcode\"; style=\"color: black; background-color: #e2f4dd\">&nbspPROFONDO&nbsp</span><span class=\"barcode\"; style=\"color: black; background-color: #ddf2d8\">&nbspNEGATIVI&nbsp</span><span class=\"barcode\"; style=\"color: black; background-color: #f2faef\">&nbsp.&nbsp</span><span class=\"barcode\"; style=\"color: black; background-color: #e9f7e5\">&nbspBIOPSIA&nbsp</span><span class=\"barcode\"; style=\"color: black; background-color: #e2f4dd\">&nbspESCISSIONALE&nbsp</span><span class=\"barcode\"; style=\"color: black; background-color: #f4fbf2\">&nbspDI&nbsp</span><span class=\"barcode\"; style=\"color: black; background-color: #f0f9ec\">&nbspNEOFORMAZIONE&nbsp</span><span class=\"barcode\"; style=\"color: black; background-color: #dbf1d5\">&nbspCUTANEA&nbsp</span><span class=\"barcode\"; style=\"color: black; background-color: #f1faee\">&nbspDELLA&nbsp</span><span class=\"barcode\"; style=\"color: black; background-color: #dff3da\">&nbspREGIONE&nbsp</span><span class=\"barcode\"; style=\"color: black; background-color: #e5f5e0\">&nbspDORSALE&nbsp</span><span class=\"barcode\"; style=\"color: black; background-color: #f6fcf4\">&nbsp,&nbsp</span><span class=\"barcode\"; style=\"color: black; background-color: #f3faf0\">&nbspFRAMMENTO&nbsp</span><span class=\"barcode\"; style=\"color: black; background-color: #e7f6e3\">&nbspCUTANEO&nbsp</span><span class=\"barcode\"; style=\"color: black; background-color: #f4fbf2\">&nbsp27&nbsp</span><span class=\"barcode\"; style=\"color: black; background-color: #f5fbf2\">&nbspX&nbsp</span><span class=\"barcode\"; style=\"color: black; background-color: #f6fcf4\">&nbsp12&nbsp</span><span class=\"barcode\"; style=\"color: black; background-color: #f5fbf3\">&nbspX&nbsp</span><span class=\"barcode\"; style=\"color: black; background-color: #f6fcf4\">&nbsp4&nbsp</span><span class=\"barcode\"; style=\"color: black; background-color: #f4fbf2\">&nbspMM&nbsp</span><span class=\"barcode\"; style=\"color: black; background-color: #f6fcf4\">&nbsp.&nbsp</span><span class=\"barcode\"; style=\"color: black; background-color: #f5fbf2\">&nbspT&nbsp</span><span class=\"barcode\"; style=\"color: black; background-color: #f6fcf4\">&nbsp)&nbsp</span><span class=\"barcode\"; style=\"color: black; background-color: #f4fbf2\">&nbspNEOFORMAZIONE&nbsp</span><span class=\"barcode\"; style=\"color: black; background-color: #f6fcf4\">&nbspCON&nbsp</span><span class=\"barcode\"; style=\"color: black; background-color: #f1faee\">&nbspMARGINI&nbsp</span><span class=\"barcode\"; style=\"color: black; background-color: #eff9ec\">&nbspTRASVERSALI&nbsp</span><span class=\"barcode\"; style=\"color: black; background-color: #f6fcf4\">&nbspE&nbsp</span><span class=\"barcode\"; style=\"color: black; background-color: #eff9ec\">&nbspPROFONDO&nbsp</span><span class=\"barcode\"; style=\"color: black; background-color: #f6fcf4\">&nbsp;&nbsp</span><span class=\"barcode\"; style=\"color: black; background-color: #f6fcf4\">&nbspMA&nbsp</span><span class=\"barcode\"; style=\"color: black; background-color: #f7fcf5\">&nbsp)&nbsp</span><span class=\"barcode\"; style=\"color: black; background-color: #f6fcf4\">&nbspMARGINE&nbsp</span><span class=\"barcode\"; style=\"color: black; background-color: #f3faf0\">&nbspAPICALE&nbsp</span><span class=\"barcode\"; style=\"color: black; background-color: #f6fcf4\">&nbsp;&nbsp</span><span class=\"barcode\"; style=\"color: black; background-color: #f5fbf3\">&nbspMB&nbsp</span><span class=\"barcode\"; style=\"color: black; background-color: #f7fcf5\">&nbsp)&nbsp</span><span class=\"barcode\"; style=\"color: black; background-color: #f6fcf4\">&nbspMARGINE&nbsp</span><span class=\"barcode\"; style=\"color: black; background-color: #f4fbf1\">&nbspAPICALE&nbsp</span><span class=\"barcode\"; style=\"color: black; background-color: #f4fbf2\">&nbspCONTROLATERALE&nbsp</span><span class=\"barcode\"; style=\"color: black; background-color: #f6fcf4\">&nbsp.&nbsp</span><span class=\"barcode\"; style=\"color: black; background-color: #f6fcf4\">&nbsp(&nbsp</span><span class=\"barcode\"; style=\"color: black; background-color: #f4fbf2\">&nbspMARGINI&nbsp</span><span class=\"barcode\"; style=\"color: black; background-color: #f6fcf4\">&nbspMARCATI&nbsp</span><span class=\"barcode\"; style=\"color: black; background-color: #f6fcf4\">&nbspCON&nbsp</span><span class=\"barcode\"; style=\"color: black; background-color: #f6fcf4\">&nbspINCHIOSTRO&nbsp</span><span class=\"barcode\"; style=\"color: black; background-color: #f6fcf4\">&nbspDI&nbsp</span><span class=\"barcode\"; style=\"color: black; background-color: #f5fbf3\">&nbspCHINA&nbsp</span><span class=\"barcode\"; style=\"color: black; background-color: #f7fcf5\">&nbsp)&nbsp</span><span class=\"barcode\"; style=\"color: black; background-color: #f6fcf4\">&nbsp.&nbsp</span>"
      ],
      "text/plain": [
       "<IPython.core.display.HTML object>"
      ]
     },
     "metadata": {},
     "output_type": "display_data"
    },
    {
     "name": "stdout",
     "output_type": "stream",
     "text": [
      "======== doc:  9\n"
     ]
    },
    {
     "data": {
      "text/html": [
       "<span class=\"barcode\"; style=\"color: black; background-color: #f4fbf1\">&nbsp1&nbsp</span><span class=\"barcode\"; style=\"color: black; background-color: #f3faf0\">&nbsp-&nbsp</span><span class=\"barcode\"; style=\"color: black; background-color: #e7f6e2\">&nbspADENOMA&nbsp</span><span class=\"barcode\"; style=\"color: black; background-color: #e7f6e2\">&nbspTUBULO&nbsp</span><span class=\"barcode\"; style=\"color: black; background-color: #eff9eb\">&nbsp-&nbsp</span><span class=\"barcode\"; style=\"color: black; background-color: #e7f6e2\">&nbspVILLOSO&nbsp</span><span class=\"barcode\"; style=\"color: black; background-color: #e4f5df\">&nbspINTESTINALE&nbsp</span><span class=\"barcode\"; style=\"color: black; background-color: #f2faf0\">&nbspCON&nbsp</span><span class=\"barcode\"; style=\"color: black; background-color: #f1faee\">&nbspDISPLASIA&nbsp</span><span class=\"barcode\"; style=\"color: black; background-color: #f3faf0\">&nbspGRAVE&nbsp</span><span class=\"barcode\"; style=\"color: black; background-color: #f5fbf3\">&nbspDI&nbsp</span><span class=\"barcode\"; style=\"color: black; background-color: #f4fbf2\">&nbspALCUNE&nbsp</span><span class=\"barcode\"; style=\"color: black; background-color: #f4fbf2\">&nbspSTRUTTURE&nbsp</span><span class=\"barcode\"; style=\"color: black; background-color: #f4fbf1\">&nbspGHIANDOLARI&nbsp</span><span class=\"barcode\"; style=\"color: black; background-color: #f6fcf4\">&nbsp:&nbsp</span><span class=\"barcode\"; style=\"color: black; background-color: #f6fcf4\">&nbspNON&nbsp</span><span class=\"barcode\"; style=\"color: black; background-color: #f5fbf2\">&nbspALTERAZIONI&nbsp</span><span class=\"barcode\"; style=\"color: black; background-color: #f5fbf3\">&nbspPATOLOGICHE&nbsp</span><span class=\"barcode\"; style=\"color: black; background-color: #f6fcf4\">&nbspDELLA&nbsp</span><span class=\"barcode\"; style=\"color: black; background-color: #f1faee\">&nbspBASE&nbsp</span><span class=\"barcode\"; style=\"color: black; background-color: #f5fbf2\">&nbspD&nbsp</span><span class=\"barcode\"; style=\"color: black; background-color: #f6fcf4\">&nbsp'&nbsp</span><span class=\"barcode\"; style=\"color: black; background-color: #eff9eb\">&nbspIMPIANTO&nbsp</span><span class=\"barcode\"; style=\"color: black; background-color: #f4fbf2\">&nbsp2&nbsp</span><span class=\"barcode\"; style=\"color: black; background-color: #f3faf0\">&nbsp-&nbsp</span><span class=\"barcode\"; style=\"color: black; background-color: #eaf7e6\">&nbspADENOMA&nbsp</span><span class=\"barcode\"; style=\"color: black; background-color: #ecf8e8\">&nbspTUBULARE&nbsp</span><span class=\"barcode\"; style=\"color: black; background-color: #e5f5e0\">&nbspINTESTINALE&nbsp</span><span class=\"barcode\"; style=\"color: black; background-color: #f2faf0\">&nbsp1&nbsp</span><span class=\"barcode\"; style=\"color: black; background-color: #f2faf0\">&nbsp:&nbsp</span><span class=\"barcode\"; style=\"color: black; background-color: #e8f6e4\">&nbspPOLIPO&nbsp</span><span class=\"barcode\"; style=\"color: black; background-color: #f5fbf2\">&nbspDI&nbsp</span><span class=\"barcode\"; style=\"color: black; background-color: #f6fcf4\">&nbsp1&nbsp</span><span class=\"barcode\"; style=\"color: black; background-color: #f7fcf5\">&nbsp,&nbsp</span><span class=\"barcode\"; style=\"color: black; background-color: #f7fcf5\">&nbsp3&nbsp</span><span class=\"barcode\"; style=\"color: black; background-color: #f6fcf4\">&nbspX&nbsp</span><span class=\"barcode\"; style=\"color: black; background-color: #f7fcf5\">&nbsp1&nbsp</span><span class=\"barcode\"; style=\"color: black; background-color: #f6fcf4\">&nbspCM&nbsp</span><span class=\"barcode\"; style=\"color: black; background-color: #f6fcf4\">&nbspA&nbsp</span><span class=\"barcode\"; style=\"color: black; background-color: #f6fcf4\">&nbspCORTO&nbsp</span><span class=\"barcode\"; style=\"color: black; background-color: #f5fbf2\">&nbspPEDUNCOLO&nbsp</span><span class=\"barcode\"; style=\"color: black; background-color: #f7fcf5\">&nbsp(&nbsp</span><span class=\"barcode\"; style=\"color: black; background-color: #f7fcf5\">&nbsp1&nbsp</span><span class=\"barcode\"; style=\"color: black; background-color: #f6fcf4\">&nbsp-&nbsp</span><span class=\"barcode\"; style=\"color: black; background-color: #f6fcf4\">&nbsp3&nbsp</span><span class=\"barcode\"; style=\"color: black; background-color: #f7fcf5\">&nbsp)&nbsp</span><span class=\"barcode\"; style=\"color: black; background-color: #f6fcf4\">&nbspNR&nbsp</span><span class=\"barcode\"; style=\"color: black; background-color: #f6fcf4\">&nbsp2&nbsp</span><span class=\"barcode\"; style=\"color: black; background-color: #f6fcf4\">&nbsp:&nbsp</span><span class=\"barcode\"; style=\"color: black; background-color: #f5fbf3\">&nbsp1F&nbsp</span><span class=\"barcode\"; style=\"color: black; background-color: #f6fcf4\">&nbspNR&nbsp</span><span class=\"barcode\"; style=\"color: black; background-color: #f7fcf5\">&nbsp(&nbsp</span><span class=\"barcode\"; style=\"color: black; background-color: #f7fcf5\">&nbsp4&nbsp</span><span class=\"barcode\"; style=\"color: black; background-color: #f7fcf5\">&nbsp)&nbsp</span><span class=\"barcode\"; style=\"color: black; background-color: #f6fcf4\">&nbspNR&nbsp</span><span class=\"barcode\"; style=\"color: black; background-color: #f6fcf4\">&nbspGG&nbsp</span>"
      ],
      "text/plain": [
       "<IPython.core.display.HTML object>"
      ]
     },
     "metadata": {},
     "output_type": "display_data"
    },
    {
     "name": "stdout",
     "output_type": "stream",
     "text": [
      "======== doc:  10\n"
     ]
    },
    {
     "data": {
      "text/html": [
       "<span class=\"barcode\"; style=\"color: black; background-color: #d6efd0\">&nbspPSA&nbsp</span><span class=\"barcode\"; style=\"color: black; background-color: #f5fbf3\">&nbsp:&nbsp</span><span class=\"barcode\"; style=\"color: black; background-color: #f2faef\">&nbsp40&nbsp</span><span class=\"barcode\"; style=\"color: black; background-color: #e3f4de\">&nbspADENOCARCINOMA&nbsp</span><span class=\"barcode\"; style=\"color: black; background-color: #abdda5\">&nbspPROSTATICO&nbsp</span><span class=\"barcode\"; style=\"color: black; background-color: #f4fbf2\">&nbspA&nbsp</span><span class=\"barcode\"; style=\"color: black; background-color: #eef8ea\">&nbspMEDIO&nbsp</span><span class=\"barcode\"; style=\"color: black; background-color: #f1faee\">&nbspGRADO&nbsp</span><span class=\"barcode\"; style=\"color: black; background-color: #f4fbf2\">&nbspDI&nbsp</span><span class=\"barcode\"; style=\"color: black; background-color: #edf8e9\">&nbspDIFFERENZIAZIONE&nbsp</span><span class=\"barcode\"; style=\"color: black; background-color: #f2faef\">&nbsp(&nbsp</span><span class=\"barcode\"; style=\"color: black; background-color: #d4eece\">&nbspGLEASON&nbsp</span><span class=\"barcode\"; style=\"color: black; background-color: #f3faf0\">&nbsp3&nbsp</span><span class=\"barcode\"; style=\"color: black; background-color: #f4fbf1\">&nbsp+&nbsp</span><span class=\"barcode\"; style=\"color: black; background-color: #f4fbf1\">&nbsp3&nbsp</span><span class=\"barcode\"; style=\"color: black; background-color: #f5fbf2\">&nbsp)&nbsp</span><span class=\"barcode\"; style=\"color: black; background-color: #f5fbf2\">&nbspNEI&nbsp</span><span class=\"barcode\"; style=\"color: black; background-color: #f2faf0\">&nbspPRELIEVI&nbsp</span><span class=\"barcode\"; style=\"color: black; background-color: #f5fbf3\">&nbspDI&nbsp</span><span class=\"barcode\"; style=\"color: black; background-color: #f4fbf2\">&nbspCUI&nbsp</span><span class=\"barcode\"; style=\"color: black; background-color: #f4fbf1\">&nbspAI&nbsp</span><span class=\"barcode\"; style=\"color: black; background-color: #f4fbf2\">&nbspNN&nbsp</span><span class=\"barcode\"; style=\"color: black; background-color: #f6fcf4\">&nbsp.&nbsp</span><span class=\"barcode\"; style=\"color: black; background-color: #f5fbf3\">&nbsp2&nbsp</span><span class=\"barcode\"; style=\"color: black; background-color: #f6fcf4\">&nbspE&nbsp</span><span class=\"barcode\"; style=\"color: black; background-color: #f5fbf3\">&nbsp4&nbsp</span><span class=\"barcode\"; style=\"color: black; background-color: #f6fcf4\">&nbsp.&nbsp</span>"
      ],
      "text/plain": [
       "<IPython.core.display.HTML object>"
      ]
     },
     "metadata": {},
     "output_type": "display_data"
    },
    {
     "name": "stdout",
     "output_type": "stream",
     "text": [
      "======== doc:  11\n"
     ]
    },
    {
     "data": {
      "text/html": [
       "<span class=\"barcode\"; style=\"color: black; background-color: #e9f7e5\">&nbspADENOMA&nbsp</span><span class=\"barcode\"; style=\"color: black; background-color: #e8f6e4\">&nbspTUBULO&nbsp</span><span class=\"barcode\"; style=\"color: black; background-color: #f0f9ed\">&nbsp-&nbsp</span><span class=\"barcode\"; style=\"color: black; background-color: #e5f5e1\">&nbspVILLOSO&nbsp</span><span class=\"barcode\"; style=\"color: black; background-color: #e0f3db\">&nbspINTESTINALE&nbsp</span><span class=\"barcode\"; style=\"color: black; background-color: #f4fbf1\">&nbspCON&nbsp</span><span class=\"barcode\"; style=\"color: black; background-color: #f5fbf2\">&nbspAREE&nbsp</span><span class=\"barcode\"; style=\"color: black; background-color: #f6fcf4\">&nbspDI&nbsp</span><span class=\"barcode\"; style=\"color: black; background-color: #f4fbf2\">&nbspDISPLASIA&nbsp</span><span class=\"barcode\"; style=\"color: black; background-color: #f6fcf4\">&nbspSEVERA&nbsp</span><span class=\"barcode\"; style=\"color: black; background-color: #f6fcf4\">&nbsp.&nbsp</span><span class=\"barcode\"; style=\"color: black; background-color: #f6fcf4\">&nbspNESSUNA&nbsp</span><span class=\"barcode\"; style=\"color: black; background-color: #f6fcf4\">&nbspDOCUMENTABILE&nbsp</span><span class=\"barcode\"; style=\"color: black; background-color: #f6fcf4\">&nbspPROLIFERAZIONE&nbsp</span><span class=\"barcode\"; style=\"color: black; background-color: #f7fcf5\">&nbspNEOPLASTICA&nbsp</span><span class=\"barcode\"; style=\"color: black; background-color: #f5fbf3\">&nbspNELLA&nbsp</span><span class=\"barcode\"; style=\"color: black; background-color: #f2faf0\">&nbspBASE&nbsp</span><span class=\"barcode\"; style=\"color: black; background-color: #f5fbf3\">&nbspD&nbsp</span><span class=\"barcode\"; style=\"color: black; background-color: #f6fcf4\">&nbsp'&nbsp</span><span class=\"barcode\"; style=\"color: black; background-color: #eff9eb\">&nbspIMPIANTO&nbsp</span><span class=\"barcode\"; style=\"color: black; background-color: #f4fbf2\">&nbsp.&nbsp</span><span class=\"barcode\"; style=\"color: black; background-color: #f6fcf4\">&nbsp1&nbsp</span><span class=\"barcode\"; style=\"color: black; background-color: #f5fbf2\">&nbsp-&nbsp</span><span class=\"barcode\"; style=\"color: black; background-color: #f6fcf4\">&nbsp3&nbsp</span><span class=\"barcode\"; style=\"color: black; background-color: #f5fbf3\">&nbsp)&nbsp</span><span class=\"barcode\"; style=\"color: black; background-color: #ebf7e7\">&nbspPOLIPO&nbsp</span><span class=\"barcode\"; style=\"color: black; background-color: #f2faef\">&nbspDEL&nbsp</span><span class=\"barcode\"; style=\"color: black; background-color: #d7efd1\">&nbspSIGMA&nbsp</span><span class=\"barcode\"; style=\"color: black; background-color: #f6fcf4\">&nbsp,&nbsp</span><span class=\"barcode\"; style=\"color: black; background-color: #f6fcf4\">&nbspDIAMETRO&nbsp</span><span class=\"barcode\"; style=\"color: black; background-color: #f6fcf4\">&nbsp1&nbsp</span><span class=\"barcode\"; style=\"color: black; background-color: #f7fcf5\">&nbsp,&nbsp</span><span class=\"barcode\"; style=\"color: black; background-color: #f6fcf4\">&nbsp6&nbsp</span><span class=\"barcode\"; style=\"color: black; background-color: #f6fcf4\">&nbspCM&nbsp</span><span class=\"barcode\"; style=\"color: black; background-color: #f6fcf4\">&nbsp.&nbsp</span><span class=\"barcode\"; style=\"color: black; background-color: #f6fcf4\">&nbsp4&nbsp</span><span class=\"barcode\"; style=\"color: black; background-color: #f6fcf4\">&nbsp)&nbsp</span><span class=\"barcode\"; style=\"color: black; background-color: #f2faf0\">&nbspBASE&nbsp</span><span class=\"barcode\"; style=\"color: black; background-color: #f5fbf3\">&nbspDEL&nbsp</span><span class=\"barcode\"; style=\"color: black; background-color: #ecf8e8\">&nbspPOLIPO&nbsp</span><span class=\"barcode\"; style=\"color: black; background-color: #f5fbf3\">&nbsp.&nbsp</span>"
      ],
      "text/plain": [
       "<IPython.core.display.HTML object>"
      ]
     },
     "metadata": {},
     "output_type": "display_data"
    },
    {
     "name": "stdout",
     "output_type": "stream",
     "text": [
      "======== doc:  12\n"
     ]
    },
    {
     "data": {
      "text/html": [
       "<span class=\"barcode\"; style=\"color: black; background-color: #dbf1d5\">&nbspPSA&nbsp</span><span class=\"barcode\"; style=\"color: black; background-color: #f5fbf2\">&nbsp8&nbsp</span><span class=\"barcode\"; style=\"color: black; background-color: #f5fbf3\">&nbsp.&nbsp</span><span class=\"barcode\"; style=\"color: black; background-color: #daf0d4\">&nbspADENOCARCINOMA&nbsp</span><span class=\"barcode\"; style=\"color: black; background-color: #a9dca3\">&nbspPROSTATICO&nbsp</span><span class=\"barcode\"; style=\"color: black; background-color: #f4fbf2\">&nbspA&nbsp</span><span class=\"barcode\"; style=\"color: black; background-color: #f0f9ec\">&nbspGRADO&nbsp</span><span class=\"barcode\"; style=\"color: black; background-color: #f4fbf2\">&nbspDI&nbsp</span><span class=\"barcode\"; style=\"color: black; background-color: #ecf8e8\">&nbspDIFFERENZIAZIONE&nbsp</span><span class=\"barcode\"; style=\"color: black; background-color: #edf8e9\">&nbspMEDIO&nbsp</span><span class=\"barcode\"; style=\"color: black; background-color: #f0f9ec\">&nbsp-&nbsp</span><span class=\"barcode\"; style=\"color: black; background-color: #f2faef\">&nbspBASSO&nbsp</span><span class=\"barcode\"; style=\"color: black; background-color: #f1faee\">&nbsp(&nbsp</span><span class=\"barcode\"; style=\"color: black; background-color: #d2edcc\">&nbspGLEASON&nbsp</span><span class=\"barcode\"; style=\"color: black; background-color: #f3faf0\">&nbsp4&nbsp</span><span class=\"barcode\"; style=\"color: black; background-color: #f4fbf1\">&nbsp+&nbsp</span><span class=\"barcode\"; style=\"color: black; background-color: #f4fbf2\">&nbsp3&nbsp</span><span class=\"barcode\"; style=\"color: black; background-color: #f5fbf2\">&nbsp)&nbsp</span><span class=\"barcode\"; style=\"color: black; background-color: #f5fbf2\">&nbspIN&nbsp</span><span class=\"barcode\"; style=\"color: black; background-color: #f4fbf2\">&nbspUNO&nbsp</span><span class=\"barcode\"; style=\"color: black; background-color: #f5fbf2\">&nbspDEI&nbsp</span><span class=\"barcode\"; style=\"color: black; background-color: #f2faef\">&nbspPRELIEVI&nbsp</span><span class=\"barcode\"; style=\"color: black; background-color: #f5fbf3\">&nbspDI&nbsp</span><span class=\"barcode\"; style=\"color: black; background-color: #f5fbf2\">&nbspCUI&nbsp</span><span class=\"barcode\"; style=\"color: black; background-color: #f5fbf2\">&nbspAL&nbsp</span><span class=\"barcode\"; style=\"color: black; background-color: #f5fbf2\">&nbspN&nbsp</span><span class=\"barcode\"; style=\"color: black; background-color: #f6fcf4\">&nbsp.&nbsp</span><span class=\"barcode\"; style=\"color: black; background-color: #f5fbf3\">&nbsp2&nbsp</span><span class=\"barcode\"; style=\"color: black; background-color: #f6fcf4\">&nbsp.&nbsp</span><span class=\"barcode\"; style=\"color: black; background-color: #edf8ea\">&nbspAGOBIOPSIA&nbsp</span><span class=\"barcode\"; style=\"color: black; background-color: #def2d9\">&nbspPROSTATICA&nbsp</span><span class=\"barcode\"; style=\"color: black; background-color: #f1faee\">&nbspRANDOM&nbsp</span><span class=\"barcode\"; style=\"color: black; background-color: #f4fbf2\">&nbsp:&nbsp</span><span class=\"barcode\"; style=\"color: black; background-color: #f5fbf3\">&nbsp1&nbsp</span><span class=\"barcode\"; style=\"color: black; background-color: #f4fbf2\">&nbsp)&nbsp</span><span class=\"barcode\"; style=\"color: black; background-color: #e2f4dd\">&nbspLOBO&nbsp</span><span class=\"barcode\"; style=\"color: black; background-color: #eef8ea\">&nbspDESTRO&nbsp</span><span class=\"barcode\"; style=\"color: black; background-color: #f5fbf3\">&nbsp.&nbsp</span><span class=\"barcode\"; style=\"color: black; background-color: #f4fbf2\">&nbsp2&nbsp</span><span class=\"barcode\"; style=\"color: black; background-color: #f4fbf1\">&nbsp)&nbsp</span><span class=\"barcode\"; style=\"color: black; background-color: #e1f3dc\">&nbspLOBO&nbsp</span><span class=\"barcode\"; style=\"color: black; background-color: #edf8ea\">&nbspSINISTRO&nbsp</span><span class=\"barcode\"; style=\"color: black; background-color: #f5fbf2\">&nbsp.&nbsp</span>"
      ],
      "text/plain": [
       "<IPython.core.display.HTML object>"
      ]
     },
     "metadata": {},
     "output_type": "display_data"
    },
    {
     "name": "stdout",
     "output_type": "stream",
     "text": [
      "======== doc:  13\n"
     ]
    },
    {
     "data": {
      "text/html": [
       "<span class=\"barcode\"; style=\"color: black; background-color: #eff9eb\">&nbspCARCINOMA&nbsp</span><span class=\"barcode\"; style=\"color: black; background-color: #f1faee\">&nbspA&nbsp</span><span class=\"barcode\"; style=\"color: black; background-color: #e8f6e4\">&nbspCELLULE&nbsp</span><span class=\"barcode\"; style=\"color: black; background-color: #caeac3\">&nbspBASALI&nbsp</span><span class=\"barcode\"; style=\"color: black; background-color: #f3faf0\">&nbsp(&nbsp</span><span class=\"barcode\"; style=\"color: black; background-color: #e8f6e3\">&nbspVARIETA&nbsp</span><span class=\"barcode\"; style=\"color: black; background-color: #f3faf0\">&nbsp'&nbsp</span><span class=\"barcode\"; style=\"color: black; background-color: #ccebc6\">&nbspMETATIPICA&nbsp</span><span class=\"barcode\"; style=\"color: black; background-color: #f3faf0\">&nbsp)&nbsp</span><span class=\"barcode\"; style=\"color: black; background-color: #f2faef\">&nbsp.&nbsp</span><span class=\"barcode\"; style=\"color: black; background-color: #e2f4dd\">&nbspLESIONE&nbsp</span><span class=\"barcode\"; style=\"color: black; background-color: #d9f0d3\">&nbspCOMPRESA&nbsp</span><span class=\"barcode\"; style=\"color: black; background-color: #f1faee\">&nbspNEI&nbsp</span><span class=\"barcode\"; style=\"color: black; background-color: #e8f6e4\">&nbspMARGINI&nbsp</span><span class=\"barcode\"; style=\"color: black; background-color: #f4fbf1\">&nbspDI&nbsp</span><span class=\"barcode\"; style=\"color: black; background-color: #edf8ea\">&nbspEXERESI&nbsp</span><span class=\"barcode\"; style=\"color: black; background-color: #eaf7e6\">&nbspCHIRURGICA&nbsp</span><span class=\"barcode\"; style=\"color: black; background-color: #f4fbf2\">&nbsp.&nbsp</span><span class=\"barcode\"; style=\"color: black; background-color: #e1f3dc\">&nbspLOSANGA&nbsp</span><span class=\"barcode\"; style=\"color: black; background-color: #def2d9\">&nbspCUTANEA&nbsp</span><span class=\"barcode\"; style=\"color: black; background-color: #f5fbf3\">&nbspDI&nbsp</span><span class=\"barcode\"; style=\"color: black; background-color: #f6fcf4\">&nbspCM&nbsp</span><span class=\"barcode\"; style=\"color: black; background-color: #f6fcf4\">&nbsp.&nbsp</span><span class=\"barcode\"; style=\"color: black; background-color: #f6fcf4\">&nbsp1&nbsp</span><span class=\"barcode\"; style=\"color: black; background-color: #f7fcf5\">&nbsp,&nbsp</span><span class=\"barcode\"; style=\"color: black; background-color: #f7fcf5\">&nbsp6X0&nbsp</span><span class=\"barcode\"; style=\"color: black; background-color: #f7fcf5\">&nbsp,&nbsp</span><span class=\"barcode\"; style=\"color: black; background-color: #f7fcf5\">&nbsp9&nbsp</span><span class=\"barcode\"; style=\"color: black; background-color: #f7fcf5\">&nbspA&nbsp</span><span class=\"barcode\"; style=\"color: black; background-color: #f5fbf3\">&nbspSUPERFICIE&nbsp</span><span class=\"barcode\"; style=\"color: black; background-color: #f6fcf4\">&nbspIRREGOLARE&nbsp</span><span class=\"barcode\"; style=\"color: black; background-color: #f7fcf5\">&nbsp(&nbsp</span><span class=\"barcode\"; style=\"color: black; background-color: #f4fbf2\">&nbspMARGINI&nbsp</span><span class=\"barcode\"; style=\"color: black; background-color: #f6fcf4\">&nbspMARCATI&nbsp</span><span class=\"barcode\"; style=\"color: black; background-color: #f6fcf4\">&nbspCON&nbsp</span><span class=\"barcode\"; style=\"color: black; background-color: #f5fbf2\">&nbspINCHIOSTRO&nbsp</span><span class=\"barcode\"; style=\"color: black; background-color: #f7fcf5\">&nbsp)&nbsp</span><span class=\"barcode\"; style=\"color: black; background-color: #f6fcf4\">&nbsp.&nbsp</span><span class=\"barcode\"; style=\"color: black; background-color: #f7fcf5\">&nbsp1&nbsp</span><span class=\"barcode\"; style=\"color: black; background-color: #f7fcf5\">&nbsp)&nbsp</span><span class=\"barcode\"; style=\"color: black; background-color: #f5fbf2\">&nbspAPICI&nbsp</span><span class=\"barcode\"; style=\"color: black; background-color: #f7fcf5\">&nbsp;&nbsp</span><span class=\"barcode\"; style=\"color: black; background-color: #f7fcf5\">&nbsp2&nbsp</span><span class=\"barcode\"; style=\"color: black; background-color: #f7fcf5\">&nbsp-&nbsp</span><span class=\"barcode\"; style=\"color: black; background-color: #f7fcf5\">&nbsp4&nbsp</span><span class=\"barcode\"; style=\"color: black; background-color: #f7fcf5\">&nbsp)&nbsp</span><span class=\"barcode\"; style=\"color: black; background-color: #f6fcf4\">&nbspSEZIONI&nbsp</span><span class=\"barcode\"; style=\"color: black; background-color: #f6fcf4\">&nbspSERIATE&nbsp</span><span class=\"barcode\"; style=\"color: black; background-color: #f7fcf5\">&nbsp.&nbsp</span>"
      ],
      "text/plain": [
       "<IPython.core.display.HTML object>"
      ]
     },
     "metadata": {},
     "output_type": "display_data"
    },
    {
     "name": "stdout",
     "output_type": "stream",
     "text": [
      "======== doc:  14\n"
     ]
    },
    {
     "data": {
      "text/html": [
       "<span class=\"barcode\"; style=\"color: black; background-color: #eaf7e6\">&nbspADENOMA&nbsp</span><span class=\"barcode\"; style=\"color: black; background-color: #edf8e9\">&nbspTUBULOVILLOSO&nbsp</span><span class=\"barcode\"; style=\"color: black; background-color: #e4f5df\">&nbspINTESTINALE&nbsp</span><span class=\"barcode\"; style=\"color: black; background-color: #f1faee\">&nbspDI&nbsp</span><span class=\"barcode\"; style=\"color: black; background-color: #f3faf0\">&nbspBASSO&nbsp</span><span class=\"barcode\"; style=\"color: black; background-color: #f5fbf2\">&nbspGRADO&nbsp</span><span class=\"barcode\"; style=\"color: black; background-color: #f5fbf3\">&nbsp(&nbsp</span><span class=\"barcode\"; style=\"color: black; background-color: #f4fbf2\">&nbspDISPLASIA&nbsp</span><span class=\"barcode\"; style=\"color: black; background-color: #f5fbf2\">&nbspMODERATA&nbsp</span><span class=\"barcode\"; style=\"color: black; background-color: #f6fcf4\">&nbsp)&nbsp</span><span class=\"barcode\"; style=\"color: black; background-color: #f6fcf4\">&nbsp;&nbsp</span><span class=\"barcode\"; style=\"color: black; background-color: #f0f9ec\">&nbspBASE&nbsp</span><span class=\"barcode\"; style=\"color: black; background-color: #ecf8e8\">&nbspPEDUNCOLARE&nbsp</span><span class=\"barcode\"; style=\"color: black; background-color: #f3faf0\">&nbspRIVESTITA&nbsp</span><span class=\"barcode\"; style=\"color: black; background-color: #f5fbf3\">&nbspDA&nbsp</span><span class=\"barcode\"; style=\"color: black; background-color: #eff9eb\">&nbspMUCOSA&nbsp</span><span class=\"barcode\"; style=\"color: black; background-color: #f5fbf3\">&nbspNON&nbsp</span><span class=\"barcode\"; style=\"color: black; background-color: #ecf8e8\">&nbspADENOMATOSA&nbsp</span><span class=\"barcode\"; style=\"color: black; background-color: #f5fbf2\">&nbsp.&nbsp</span><span class=\"barcode\"; style=\"color: black; background-color: #ebf7e7\">&nbspPOLIPO&nbsp</span><span class=\"barcode\"; style=\"color: black; background-color: #f2faf0\">&nbspDEL&nbsp</span><span class=\"barcode\"; style=\"color: black; background-color: #cbebc5\">&nbspRETTO&nbsp</span><span class=\"barcode\"; style=\"color: black; background-color: #f6fcf4\">&nbsp(&nbsp</span><span class=\"barcode\"; style=\"color: black; background-color: #f7fcf5\">&nbspCM&nbsp</span><span class=\"barcode\"; style=\"color: black; background-color: #f7fcf5\">&nbsp1&nbsp</span><span class=\"barcode\"; style=\"color: black; background-color: #f7fcf5\">&nbsp,&nbsp</span><span class=\"barcode\"; style=\"color: black; background-color: #f7fcf5\">&nbsp5&nbsp</span><span class=\"barcode\"; style=\"color: black; background-color: #f7fcf5\">&nbsp)&nbsp</span><span class=\"barcode\"; style=\"color: black; background-color: #f6fcf4\">&nbsp.&nbsp</span><span class=\"barcode\"; style=\"color: black; background-color: #f7fcf5\">&nbsp(&nbsp</span><span class=\"barcode\"; style=\"color: black; background-color: #f6fcf4\">&nbspESEGUITA&nbsp</span><span class=\"barcode\"; style=\"color: black; background-color: #f6fcf4\">&nbspCOLORAZIONE&nbsp</span><span class=\"barcode\"; style=\"color: black; background-color: #f6fcf4\">&nbspEMATOSSILINA&nbsp</span><span class=\"barcode\"; style=\"color: black; background-color: #f7fcf5\">&nbsp-&nbsp</span><span class=\"barcode\"; style=\"color: black; background-color: #f6fcf4\">&nbspEOSINA&nbsp</span><span class=\"barcode\"; style=\"color: black; background-color: #f7fcf5\">&nbsp)&nbsp</span><span class=\"barcode\"; style=\"color: black; background-color: #f7fcf5\">&nbsp.&nbsp</span>"
      ],
      "text/plain": [
       "<IPython.core.display.HTML object>"
      ]
     },
     "metadata": {},
     "output_type": "display_data"
    },
    {
     "name": "stdout",
     "output_type": "stream",
     "text": [
      "======== doc:  15\n"
     ]
    },
    {
     "data": {
      "text/html": [
       "<span class=\"barcode\"; style=\"color: black; background-color: #eff9eb\">&nbspADENOCARCINOMA&nbsp</span><span class=\"barcode\"; style=\"color: black; background-color: #b7e2b1\">&nbspPROSTATICO&nbsp</span><span class=\"barcode\"; style=\"color: black; background-color: #f6fcf4\">&nbspA&nbsp</span><span class=\"barcode\"; style=\"color: black; background-color: #f1faee\">&nbspMEDIO&nbsp</span><span class=\"barcode\"; style=\"color: black; background-color: #f3faf0\">&nbspGRADO&nbsp</span><span class=\"barcode\"; style=\"color: black; background-color: #f6fcf4\">&nbspDI&nbsp</span><span class=\"barcode\"; style=\"color: black; background-color: #f0f9ed\">&nbspDIFFERENZIAZIONE&nbsp</span><span class=\"barcode\"; style=\"color: black; background-color: #f5fbf2\">&nbsp(&nbsp</span><span class=\"barcode\"; style=\"color: black; background-color: #dcf2d7\">&nbspGLEASON&nbsp</span><span class=\"barcode\"; style=\"color: black; background-color: #f3faf0\">&nbspGRADO&nbsp</span><span class=\"barcode\"; style=\"color: black; background-color: #f4fbf2\">&nbsp3&nbsp</span><span class=\"barcode\"; style=\"color: black; background-color: #f5fbf3\">&nbsp+&nbsp</span><span class=\"barcode\"; style=\"color: black; background-color: #f5fbf2\">&nbsp3&nbsp</span><span class=\"barcode\"; style=\"color: black; background-color: #f5fbf3\">&nbsp)&nbsp</span><span class=\"barcode\"; style=\"color: black; background-color: #f4fbf1\">&nbspINTERESSANTE&nbsp</span><span class=\"barcode\"; style=\"color: black; background-color: #f5fbf2\">&nbspESTESAMENTE&nbsp</span><span class=\"barcode\"; style=\"color: black; background-color: #f5fbf3\">&nbsp(&nbsp</span><span class=\"barcode\"; style=\"color: black; background-color: #f4fbf2\">&nbsp>&nbsp</span><span class=\"barcode\"; style=\"color: black; background-color: #f3faf0\">&nbsp60&nbsp</span><span class=\"barcode\"; style=\"color: black; background-color: #f2faf0\">&nbsp%&nbsp</span><span class=\"barcode\"; style=\"color: black; background-color: #f6fcf4\">&nbsp)&nbsp</span><span class=\"barcode\"; style=\"color: black; background-color: #f4fbf2\">&nbspI&nbsp</span><span class=\"barcode\"; style=\"color: black; background-color: #f1faee\">&nbspFRUSTOLI&nbsp</span><span class=\"barcode\"; style=\"color: black; background-color: #f1faee\">&nbspRIFERITI&nbsp</span><span class=\"barcode\"; style=\"color: black; background-color: #f5fbf2\">&nbspALLE&nbsp</span><span class=\"barcode\"; style=\"color: black; background-color: #f4fbf1\">&nbspREGIONI&nbsp</span><span class=\"barcode\"; style=\"color: black; background-color: #f5fbf2\">&nbspLATERALI&nbsp</span><span class=\"barcode\"; style=\"color: black; background-color: #f6fcf4\">&nbsp,&nbsp</span><span class=\"barcode\"; style=\"color: black; background-color: #f4fbf2\">&nbspBASALE&nbsp</span><span class=\"barcode\"; style=\"color: black; background-color: #f6fcf4\">&nbspE&nbsp</span><span class=\"barcode\"; style=\"color: black; background-color: #f5fbf3\">&nbspMEDIALE&nbsp</span><span class=\"barcode\"; style=\"color: black; background-color: #f6fcf4\">&nbspDEL&nbsp</span><span class=\"barcode\"; style=\"color: black; background-color: #e7f6e3\">&nbspLOBO&nbsp</span><span class=\"barcode\"; style=\"color: black; background-color: #f1faee\">&nbspDX&nbsp</span><span class=\"barcode\"; style=\"color: black; background-color: #f6fcf4\">&nbsp.&nbsp</span><span class=\"barcode\"; style=\"color: black; background-color: #f5fbf2\">&nbsp(&nbsp</span><span class=\"barcode\"; style=\"color: black; background-color: #f5fbf3\">&nbspA1&nbsp</span><span class=\"barcode\"; style=\"color: black; background-color: #f6fcf4\">&nbsp-&nbsp</span><span class=\"barcode\"; style=\"color: black; background-color: #f6fcf4\">&nbsp4&nbsp</span><span class=\"barcode\"; style=\"color: black; background-color: #f6fcf4\">&nbsp)&nbsp</span><span class=\"barcode\"; style=\"color: black; background-color: #f6fcf4\">&nbsp.&nbsp</span><span class=\"barcode\"; style=\"color: black; background-color: #f5fbf3\">&nbspNESSUNA&nbsp</span><span class=\"barcode\"; style=\"color: black; background-color: #f6fcf4\">&nbspDOCUMENTABILE&nbsp</span><span class=\"barcode\"; style=\"color: black; background-color: #f5fbf2\">&nbspPROLIFERAZIONE&nbsp</span><span class=\"barcode\"; style=\"color: black; background-color: #f6fcf4\">&nbspNEOPLASTICA&nbsp</span><span class=\"barcode\"; style=\"color: black; background-color: #f6fcf4\">&nbspNEI&nbsp</span><span class=\"barcode\"; style=\"color: black; background-color: #f6fcf4\">&nbspRESTANTI&nbsp</span><span class=\"barcode\"; style=\"color: black; background-color: #f6fcf4\">&nbspFRAMMENTI&nbsp</span><span class=\"barcode\"; style=\"color: black; background-color: #eef8ea\">&nbspPROSTATICI&nbsp</span><span class=\"barcode\"; style=\"color: black; background-color: #f6fcf4\">&nbspIN&nbsp</span><span class=\"barcode\"; style=\"color: black; background-color: #f5fbf2\">&nbspESAME&nbsp</span><span class=\"barcode\"; style=\"color: black; background-color: #f6fcf4\">&nbsp.&nbsp</span><span class=\"barcode\"; style=\"color: black; background-color: #f1faee\">&nbspAGOBIOPSIA&nbsp</span><span class=\"barcode\"; style=\"color: black; background-color: #e4f5df\">&nbspPROSTATICA&nbsp</span><span class=\"barcode\"; style=\"color: black; background-color: #f6fcf4\">&nbsp:&nbsp</span><span class=\"barcode\"; style=\"color: black; background-color: #f5fbf3\">&nbspA1&nbsp</span><span class=\"barcode\"; style=\"color: black; background-color: #f6fcf4\">&nbsp-&nbsp</span><span class=\"barcode\"; style=\"color: black; background-color: #f6fcf4\">&nbsp5&nbsp</span><span class=\"barcode\"; style=\"color: black; background-color: #f6fcf4\">&nbsp)&nbsp</span><span class=\"barcode\"; style=\"color: black; background-color: #f5fbf3\">&nbspPRELIEVI&nbsp</span><span class=\"barcode\"; style=\"color: black; background-color: #f6fcf4\">&nbspDEL&nbsp</span><span class=\"barcode\"; style=\"color: black; background-color: #e5f5e1\">&nbspLOBO&nbsp</span><span class=\"barcode\"; style=\"color: black; background-color: #f1faee\">&nbspDESTRO&nbsp</span><span class=\"barcode\"; style=\"color: black; background-color: #f6fcf4\">&nbsp.&nbsp</span><span class=\"barcode\"; style=\"color: black; background-color: #f5fbf2\">&nbsp(&nbsp</span><span class=\"barcode\"; style=\"color: black; background-color: #f5fbf2\">&nbspNUMERO&nbsp</span><span class=\"barcode\"; style=\"color: black; background-color: #f6fcf4\">&nbspDI&nbsp</span><span class=\"barcode\"; style=\"color: black; background-color: #f6fcf4\">&nbspFRAMMENTI&nbsp</span><span class=\"barcode\"; style=\"color: black; background-color: #f6fcf4\">&nbsp5&nbsp</span><span class=\"barcode\"; style=\"color: black; background-color: #f6fcf4\">&nbsp)&nbsp</span><span class=\"barcode\"; style=\"color: black; background-color: #f5fbf3\">&nbsp:&nbsp</span><span class=\"barcode\"; style=\"color: black; background-color: #f5fbf2\">&nbspA1&nbsp</span><span class=\"barcode\"; style=\"color: black; background-color: #f6fcf4\">&nbsp)&nbsp</span><span class=\"barcode\"; style=\"color: black; background-color: #f5fbf2\">&nbspLATERALE&nbsp</span><span class=\"barcode\"; style=\"color: black; background-color: #f5fbf2\">&nbspALTO&nbsp</span><span class=\"barcode\"; style=\"color: black; background-color: #f6fcf4\">&nbsp:&nbsp</span><span class=\"barcode\"; style=\"color: black; background-color: #f6fcf4\">&nbsp3&nbsp</span><span class=\"barcode\"; style=\"color: black; background-color: #f4fbf2\">&nbspMM&nbsp</span><span class=\"barcode\"; style=\"color: black; background-color: #f5fbf3\">&nbsp;&nbsp</span><span class=\"barcode\"; style=\"color: black; background-color: #f5fbf2\">&nbspA2&nbsp</span><span class=\"barcode\"; style=\"color: black; background-color: #f6fcf4\">&nbsp)&nbsp</span><span class=\"barcode\"; style=\"color: black; background-color: #f5fbf2\">&nbspLATERALE&nbsp</span><span class=\"barcode\"; style=\"color: black; background-color: #f5fbf3\">&nbspBASSO&nbsp</span><span class=\"barcode\"; style=\"color: black; background-color: #f6fcf4\">&nbsp:&nbsp</span><span class=\"barcode\"; style=\"color: black; background-color: #f6fcf4\">&nbspN&nbsp</span><span class=\"barcode\"; style=\"color: black; background-color: #f5fbf3\">&nbsp¦&nbsp</span><span class=\"barcode\"; style=\"color: black; background-color: #f6fcf4\">&nbsp2&nbsp</span><span class=\"barcode\"; style=\"color: black; background-color: #f6fcf4\">&nbspFRAMMENTI&nbsp</span><span class=\"barcode\"; style=\"color: black; background-color: #f6fcf4\">&nbspDI&nbsp</span><span class=\"barcode\"; style=\"color: black; background-color: #f6fcf4\">&nbsp4&nbsp</span><span class=\"barcode\"; style=\"color: black; background-color: #f6fcf4\">&nbspE&nbsp</span><span class=\"barcode\"; style=\"color: black; background-color: #f6fcf4\">&nbsp3&nbsp</span><span class=\"barcode\"; style=\"color: black; background-color: #f4fbf2\">&nbspMM&nbsp</span><span class=\"barcode\"; style=\"color: black; background-color: #f5fbf3\">&nbsp;&nbsp</span><span class=\"barcode\"; style=\"color: black; background-color: #f5fbf2\">&nbspA3&nbsp</span><span class=\"barcode\"; style=\"color: black; background-color: #f6fcf4\">&nbsp)&nbsp</span><span class=\"barcode\"; style=\"color: black; background-color: #f4fbf2\">&nbspBASALE&nbsp</span><span class=\"barcode\"; style=\"color: black; background-color: #f6fcf4\">&nbsp:&nbsp</span><span class=\"barcode\"; style=\"color: black; background-color: #f6fcf4\">&nbsp14&nbsp</span><span class=\"barcode\"; style=\"color: black; background-color: #f4fbf1\">&nbspMM&nbsp</span>"
      ],
      "text/plain": [
       "<IPython.core.display.HTML object>"
      ]
     },
     "metadata": {},
     "output_type": "display_data"
    },
    {
     "name": "stdout",
     "output_type": "stream",
     "text": [
      "======== doc:  16\n"
     ]
    },
    {
     "data": {
      "text/html": [
       "<span class=\"barcode\"; style=\"color: black; background-color: #eff9eb\">&nbspCARCINOMA&nbsp</span><span class=\"barcode\"; style=\"color: black; background-color: #bae3b3\">&nbspBASOCELLULARE&nbsp</span><span class=\"barcode\"; style=\"color: black; background-color: #ddf2d8\">&nbspULCERATO&nbsp</span><span class=\"barcode\"; style=\"color: black; background-color: #f3faf0\">&nbsp;&nbsp</span><span class=\"barcode\"; style=\"color: black; background-color: #e7f6e3\">&nbspMARGINI&nbsp</span><span class=\"barcode\"; style=\"color: black; background-color: #e0f3db\">&nbspTRASVERSALI&nbsp</span><span class=\"barcode\"; style=\"color: black; background-color: #f6fcf4\">&nbsp,&nbsp</span><span class=\"barcode\"; style=\"color: black; background-color: #e1f3dc\">&nbspAPICALI&nbsp</span><span class=\"barcode\"; style=\"color: black; background-color: #f4fbf1\">&nbspE&nbsp</span><span class=\"barcode\"; style=\"color: black; background-color: #e2f4dd\">&nbspPROFONDO&nbsp</span><span class=\"barcode\"; style=\"color: black; background-color: #ddf2d8\">&nbspNEGATIVI&nbsp</span><span class=\"barcode\"; style=\"color: black; background-color: #f2faef\">&nbsp.&nbsp</span><span class=\"barcode\"; style=\"color: black; background-color: #e9f7e5\">&nbspBIOPSIA&nbsp</span><span class=\"barcode\"; style=\"color: black; background-color: #e2f4dd\">&nbspESCISSIONALE&nbsp</span><span class=\"barcode\"; style=\"color: black; background-color: #f5fbf2\">&nbspDI&nbsp</span><span class=\"barcode\"; style=\"color: black; background-color: #f0f9ec\">&nbspNEOFORMAZIONE&nbsp</span><span class=\"barcode\"; style=\"color: black; background-color: #dbf1d5\">&nbspCUTANEA&nbsp</span><span class=\"barcode\"; style=\"color: black; background-color: #f1faee\">&nbspDELLA&nbsp</span><span class=\"barcode\"; style=\"color: black; background-color: #dff3da\">&nbspREGIONE&nbsp</span><span class=\"barcode\"; style=\"color: black; background-color: #e4f5df\">&nbspDORSALE&nbsp</span><span class=\"barcode\"; style=\"color: black; background-color: #f6fcf4\">&nbsp,&nbsp</span><span class=\"barcode\"; style=\"color: black; background-color: #f3faf0\">&nbspFRAMMENTO&nbsp</span><span class=\"barcode\"; style=\"color: black; background-color: #e5f5e1\">&nbspCUTANEO&nbsp</span><span class=\"barcode\"; style=\"color: black; background-color: #f4fbf2\">&nbspMM&nbsp</span><span class=\"barcode\"; style=\"color: black; background-color: #f5fbf2\">&nbsp31&nbsp</span><span class=\"barcode\"; style=\"color: black; background-color: #f5fbf3\">&nbspX&nbsp</span><span class=\"barcode\"; style=\"color: black; background-color: #f6fcf4\">&nbsp14&nbsp</span><span class=\"barcode\"; style=\"color: black; background-color: #f5fbf3\">&nbspX&nbsp</span><span class=\"barcode\"; style=\"color: black; background-color: #f6fcf4\">&nbsp7&nbsp</span><span class=\"barcode\"; style=\"color: black; background-color: #f6fcf4\">&nbsp.&nbsp</span><span class=\"barcode\"; style=\"color: black; background-color: #f5fbf3\">&nbspT1&nbsp</span><span class=\"barcode\"; style=\"color: black; background-color: #f6fcf4\">&nbsp-&nbsp</span><span class=\"barcode\"; style=\"color: black; background-color: #f7fcf5\">&nbsp2&nbsp</span><span class=\"barcode\"; style=\"color: black; background-color: #f7fcf5\">&nbsp)&nbsp</span><span class=\"barcode\"; style=\"color: black; background-color: #f4fbf2\">&nbspNEOFORMAZIONE&nbsp</span><span class=\"barcode\"; style=\"color: black; background-color: #f6fcf4\">&nbspCON&nbsp</span><span class=\"barcode\"; style=\"color: black; background-color: #f1faee\">&nbspMARGINI&nbsp</span><span class=\"barcode\"; style=\"color: black; background-color: #f0f9ec\">&nbspTRASVERSALI&nbsp</span><span class=\"barcode\"; style=\"color: black; background-color: #f6fcf4\">&nbspE&nbsp</span><span class=\"barcode\"; style=\"color: black; background-color: #f0f9ec\">&nbspPROFONDO&nbsp</span><span class=\"barcode\"; style=\"color: black; background-color: #f6fcf4\">&nbsp;&nbsp</span><span class=\"barcode\"; style=\"color: black; background-color: #f6fcf4\">&nbspMA&nbsp</span><span class=\"barcode\"; style=\"color: black; background-color: #f7fcf5\">&nbsp)&nbsp</span><span class=\"barcode\"; style=\"color: black; background-color: #f6fcf4\">&nbspMARGINE&nbsp</span><span class=\"barcode\"; style=\"color: black; background-color: #f4fbf1\">&nbspAPICALE&nbsp</span><span class=\"barcode\"; style=\"color: black; background-color: #f6fcf4\">&nbsp;&nbsp</span><span class=\"barcode\"; style=\"color: black; background-color: #f5fbf3\">&nbspMB&nbsp</span><span class=\"barcode\"; style=\"color: black; background-color: #f7fcf5\">&nbsp)&nbsp</span><span class=\"barcode\"; style=\"color: black; background-color: #f6fcf4\">&nbspMARGINE&nbsp</span><span class=\"barcode\"; style=\"color: black; background-color: #f4fbf1\">&nbspAPICALE&nbsp</span><span class=\"barcode\"; style=\"color: black; background-color: #f4fbf2\">&nbspCONTROLATERALE&nbsp</span><span class=\"barcode\"; style=\"color: black; background-color: #f6fcf4\">&nbsp.&nbsp</span><span class=\"barcode\"; style=\"color: black; background-color: #f6fcf4\">&nbsp(&nbsp</span><span class=\"barcode\"; style=\"color: black; background-color: #f4fbf2\">&nbspMARGINI&nbsp</span><span class=\"barcode\"; style=\"color: black; background-color: #f6fcf4\">&nbspMARCATI&nbsp</span><span class=\"barcode\"; style=\"color: black; background-color: #f6fcf4\">&nbspCON&nbsp</span><span class=\"barcode\"; style=\"color: black; background-color: #f6fcf4\">&nbspINCHIOSTRO&nbsp</span><span class=\"barcode\"; style=\"color: black; background-color: #f6fcf4\">&nbspDI&nbsp</span><span class=\"barcode\"; style=\"color: black; background-color: #f5fbf2\">&nbspCHINA&nbsp</span><span class=\"barcode\"; style=\"color: black; background-color: #f7fcf5\">&nbsp)&nbsp</span><span class=\"barcode\"; style=\"color: black; background-color: #f6fcf4\">&nbsp.&nbsp</span>"
      ],
      "text/plain": [
       "<IPython.core.display.HTML object>"
      ]
     },
     "metadata": {},
     "output_type": "display_data"
    },
    {
     "name": "stdout",
     "output_type": "stream",
     "text": [
      "======== doc:  17\n"
     ]
    },
    {
     "data": {
      "text/html": [
       "<span class=\"barcode\"; style=\"color: black; background-color: #eff9ec\">&nbspCARCINOMA&nbsp</span><span class=\"barcode\"; style=\"color: black; background-color: #bae3b3\">&nbspBASOCELLULARE&nbsp</span><span class=\"barcode\"; style=\"color: black; background-color: #def2d9\">&nbspULCERATO&nbsp</span><span class=\"barcode\"; style=\"color: black; background-color: #f3faf0\">&nbsp;&nbsp</span><span class=\"barcode\"; style=\"color: black; background-color: #e8f6e4\">&nbspMARGINI&nbsp</span><span class=\"barcode\"; style=\"color: black; background-color: #e1f3dc\">&nbspTRASVERSALI&nbsp</span><span class=\"barcode\"; style=\"color: black; background-color: #f6fcf4\">&nbsp,&nbsp</span><span class=\"barcode\"; style=\"color: black; background-color: #e3f4de\">&nbspAPICALI&nbsp</span><span class=\"barcode\"; style=\"color: black; background-color: #f4fbf2\">&nbspE&nbsp</span><span class=\"barcode\"; style=\"color: black; background-color: #e5f5e1\">&nbspPROFONDO&nbsp</span><span class=\"barcode\"; style=\"color: black; background-color: #e2f4dd\">&nbspNEGATIVI&nbsp</span><span class=\"barcode\"; style=\"color: black; background-color: #f6fcf4\">&nbsp(&nbsp</span><span class=\"barcode\"; style=\"color: black; background-color: #f4fbf1\">&nbspT&nbsp</span><span class=\"barcode\"; style=\"color: black; background-color: #f6fcf4\">&nbsp,&nbsp</span><span class=\"barcode\"; style=\"color: black; background-color: #f6fcf4\">&nbspMA&nbsp</span><span class=\"barcode\"; style=\"color: black; background-color: #f6fcf4\">&nbsp,&nbsp</span><span class=\"barcode\"; style=\"color: black; background-color: #f4fbf2\">&nbspMB&nbsp</span><span class=\"barcode\"; style=\"color: black; background-color: #f6fcf4\">&nbsp,&nbsp</span><span class=\"barcode\"; style=\"color: black; background-color: #f5fbf3\">&nbspA&nbsp</span><span class=\"barcode\"; style=\"color: black; background-color: #f6fcf4\">&nbsp)&nbsp</span><span class=\"barcode\"; style=\"color: black; background-color: #f5fbf2\">&nbsp.&nbsp</span><span class=\"barcode\"; style=\"color: black; background-color: #ecf8e8\">&nbspBIOPSIA&nbsp</span><span class=\"barcode\"; style=\"color: black; background-color: #e4f5df\">&nbspESCISSIONALE&nbsp</span><span class=\"barcode\"; style=\"color: black; background-color: #f5fbf2\">&nbspDI&nbsp</span><span class=\"barcode\"; style=\"color: black; background-color: #f0f9ec\">&nbspNEOFORMAZIONE&nbsp</span><span class=\"barcode\"; style=\"color: black; background-color: #daf0d4\">&nbspCUTANEA&nbsp</span><span class=\"barcode\"; style=\"color: black; background-color: #f1faee\">&nbspDELLA&nbsp</span><span class=\"barcode\"; style=\"color: black; background-color: #e0f3db\">&nbspREGIONE&nbsp</span><span class=\"barcode\"; style=\"color: black; background-color: #f0f9ed\">&nbspDEL&nbsp</span><span class=\"barcode\"; style=\"color: black; background-color: #d8f0d2\">&nbspVOLTO&nbsp</span><span class=\"barcode\"; style=\"color: black; background-color: #f6fcf4\">&nbsp,&nbsp</span><span class=\"barcode\"; style=\"color: black; background-color: #f2faf0\">&nbspFRAMMENTO&nbsp</span><span class=\"barcode\"; style=\"color: black; background-color: #e4f5df\">&nbspCUTANEO&nbsp</span><span class=\"barcode\"; style=\"color: black; background-color: #f5fbf2\">&nbsp25&nbsp</span><span class=\"barcode\"; style=\"color: black; background-color: #f5fbf3\">&nbspX&nbsp</span><span class=\"barcode\"; style=\"color: black; background-color: #f6fcf4\">&nbsp17&nbsp</span><span class=\"barcode\"; style=\"color: black; background-color: #f5fbf3\">&nbspX&nbsp</span><span class=\"barcode\"; style=\"color: black; background-color: #f6fcf4\">&nbsp8&nbsp</span><span class=\"barcode\"; style=\"color: black; background-color: #f4fbf2\">&nbspMM&nbsp</span><span class=\"barcode\"; style=\"color: black; background-color: #f6fcf4\">&nbsp.&nbsp</span><span class=\"barcode\"; style=\"color: black; background-color: #f5fbf2\">&nbspT&nbsp</span><span class=\"barcode\"; style=\"color: black; background-color: #f6fcf4\">&nbsp)&nbsp</span><span class=\"barcode\"; style=\"color: black; background-color: #f4fbf2\">&nbspNEOFORMAZIONE&nbsp</span><span class=\"barcode\"; style=\"color: black; background-color: #f6fcf4\">&nbspCON&nbsp</span><span class=\"barcode\"; style=\"color: black; background-color: #f1faee\">&nbspMARGINI&nbsp</span><span class=\"barcode\"; style=\"color: black; background-color: #eff9ec\">&nbspTRASVERSALI&nbsp</span><span class=\"barcode\"; style=\"color: black; background-color: #f6fcf4\">&nbspE&nbsp</span><span class=\"barcode\"; style=\"color: black; background-color: #eff9ec\">&nbspPROFONDO&nbsp</span><span class=\"barcode\"; style=\"color: black; background-color: #f6fcf4\">&nbsp;&nbsp</span><span class=\"barcode\"; style=\"color: black; background-color: #f6fcf4\">&nbspMA&nbsp</span><span class=\"barcode\"; style=\"color: black; background-color: #f7fcf5\">&nbsp)&nbsp</span><span class=\"barcode\"; style=\"color: black; background-color: #f6fcf4\">&nbspMARGINE&nbsp</span><span class=\"barcode\"; style=\"color: black; background-color: #f4fbf1\">&nbspAPICALE&nbsp</span><span class=\"barcode\"; style=\"color: black; background-color: #f6fcf4\">&nbsp;&nbsp</span><span class=\"barcode\"; style=\"color: black; background-color: #f5fbf3\">&nbspMB&nbsp</span><span class=\"barcode\"; style=\"color: black; background-color: #f7fcf5\">&nbsp)&nbsp</span><span class=\"barcode\"; style=\"color: black; background-color: #f6fcf4\">&nbspMARGINE&nbsp</span><span class=\"barcode\"; style=\"color: black; background-color: #f4fbf2\">&nbspAPICALE&nbsp</span><span class=\"barcode\"; style=\"color: black; background-color: #f5fbf2\">&nbspCONTROLATERALE&nbsp</span><span class=\"barcode\"; style=\"color: black; background-color: #f6fcf4\">&nbsp;&nbsp</span><span class=\"barcode\"; style=\"color: black; background-color: #f6fcf4\">&nbspA&nbsp</span><span class=\"barcode\"; style=\"color: black; background-color: #f7fcf5\">&nbsp)&nbsp</span><span class=\"barcode\"; style=\"color: black; background-color: #f5fbf3\">&nbspFRAMMENTO&nbsp</span><span class=\"barcode\"; style=\"color: black; background-color: #f6fcf4\">&nbspDI&nbsp</span><span class=\"barcode\"; style=\"color: black; background-color: #f6fcf4\">&nbspMARGINE&nbsp</span><span class=\"barcode\"; style=\"color: black; background-color: #f5fbf2\">&nbspINFERIORE&nbsp</span><span class=\"barcode\"; style=\"color: black; background-color: #f6fcf4\">&nbspRESIDUO&nbsp</span><span class=\"barcode\"; style=\"color: black; background-color: #f7fcf5\">&nbsp,&nbsp</span><span class=\"barcode\"; style=\"color: black; background-color: #f7fcf5\">&nbspINVIATO&nbsp</span><span class=\"barcode\"; style=\"color: black; background-color: #f6fcf4\">&nbspSEPARATAMENTE&nbsp</span><span class=\"barcode\"; style=\"color: black; background-color: #f7fcf5\">&nbsp.&nbsp</span><span class=\"barcode\"; style=\"color: black; background-color: #f7fcf5\">&nbsp(&nbsp</span><span class=\"barcode\"; style=\"color: black; background-color: #f5fbf2\">&nbspMARGINI&nbsp</span><span class=\"barcode\"; style=\"color: black; background-color: #f6fcf4\">&nbspMARCATI&nbsp</span><span class=\"barcode\"; style=\"color: black; background-color: #f7fcf5\">&nbspCON&nbsp</span><span class=\"barcode\"; style=\"color: black; background-color: #f6fcf4\">&nbspINCHIOSTRO&nbsp</span><span class=\"barcode\"; style=\"color: black; background-color: #f6fcf4\">&nbspDI&nbsp</span><span class=\"barcode\"; style=\"color: black; background-color: #f5fbf3\">&nbspCHINA&nbsp</span><span class=\"barcode\"; style=\"color: black; background-color: #f7fcf5\">&nbsp)&nbsp</span><span class=\"barcode\"; style=\"color: black; background-color: #f7fcf5\">&nbsp.&nbsp</span>"
      ],
      "text/plain": [
       "<IPython.core.display.HTML object>"
      ]
     },
     "metadata": {},
     "output_type": "display_data"
    },
    {
     "name": "stdout",
     "output_type": "stream",
     "text": [
      "======== doc:  18\n"
     ]
    },
    {
     "data": {
      "text/html": [
       "<span class=\"barcode\"; style=\"color: black; background-color: #f0f9ec\">&nbspCARCINOMA&nbsp</span><span class=\"barcode\"; style=\"color: black; background-color: #ddf2d8\">&nbspSQUAMOCELLULARE&nbsp</span><span class=\"barcode\"; style=\"color: black; background-color: #ecf8e8\">&nbsp.&nbsp</span><span class=\"barcode\"; style=\"color: black; background-color: #f3faf0\">&nbspA&nbsp</span><span class=\"barcode\"; style=\"color: black; background-color: #f5fbf2\">&nbsp)&nbsp</span><span class=\"barcode\"; style=\"color: black; background-color: #e7f6e2\">&nbspBIOPSIA&nbsp</span><span class=\"barcode\"; style=\"color: black; background-color: #cbeac4\">&nbspSHAVE&nbsp</span><span class=\"barcode\"; style=\"color: black; background-color: #f2faef\">&nbspDI&nbsp</span><span class=\"barcode\"; style=\"color: black; background-color: #e9f7e5\">&nbspLESIONE&nbsp</span><span class=\"barcode\"; style=\"color: black; background-color: #d2edcc\">&nbspCUTANEA&nbsp</span><span class=\"barcode\"; style=\"color: black; background-color: #eef8ea\">&nbspDELLA&nbsp</span><span class=\"barcode\"; style=\"color: black; background-color: #d9f0d3\">&nbspREGIONE&nbsp</span><span class=\"barcode\"; style=\"color: black; background-color: #cfecc9\">&nbspTEMPIA&nbsp</span><span class=\"barcode\"; style=\"color: black; background-color: #f0f9ed\">&nbspSINISTRA&nbsp</span><span class=\"barcode\"; style=\"color: black; background-color: #f4fbf2\">&nbsp.&nbsp</span><span class=\"barcode\"; style=\"color: black; background-color: #f5fbf3\">&nbsp(&nbsp</span><span class=\"barcode\"; style=\"color: black; background-color: #ecf8e8\">&nbspORIENTAMENTO&nbsp</span><span class=\"barcode\"; style=\"color: black; background-color: #ecf8e8\">&nbspCLINICO&nbsp</span><span class=\"barcode\"; style=\"color: black; background-color: #f2faef\">&nbsp:&nbsp</span><span class=\"barcode\"; style=\"color: black; background-color: #c1e6ba\">&nbspEPITELIOMA&nbsp</span><span class=\"barcode\"; style=\"color: black; background-color: #f4fbf2\">&nbsp,&nbsp</span><span class=\"barcode\"; style=\"color: black; background-color: #daf0d4\">&nbspCHERATOSI&nbsp</span><span class=\"barcode\"; style=\"color: black; background-color: #e1f3dc\">&nbspSEBORROICA&nbsp</span><span class=\"barcode\"; style=\"color: black; background-color: #f7fcf5\">&nbsp)&nbsp</span><span class=\"barcode\"; style=\"color: black; background-color: #f6fcf4\">&nbsp.&nbsp</span>"
      ],
      "text/plain": [
       "<IPython.core.display.HTML object>"
      ]
     },
     "metadata": {},
     "output_type": "display_data"
    },
    {
     "name": "stdout",
     "output_type": "stream",
     "text": [
      "======== doc:  19\n"
     ]
    },
    {
     "data": {
      "text/html": [
       "<span class=\"barcode\"; style=\"color: black; background-color: #f0f9ec\">&nbspCARCINOMA&nbsp</span><span class=\"barcode\"; style=\"color: black; background-color: #f1faee\">&nbspA&nbsp</span><span class=\"barcode\"; style=\"color: black; background-color: #ebf7e7\">&nbspCELLULE&nbsp</span><span class=\"barcode\"; style=\"color: black; background-color: #cdecc7\">&nbspBASALI&nbsp</span><span class=\"barcode\"; style=\"color: black; background-color: #f0f9ed\">&nbsp.&nbsp</span><span class=\"barcode\"; style=\"color: black; background-color: #e1f3dc\">&nbspLESIONE&nbsp</span><span class=\"barcode\"; style=\"color: black; background-color: #daf0d4\">&nbspCOMPRESA&nbsp</span><span class=\"barcode\"; style=\"color: black; background-color: #f1faee\">&nbspNEI&nbsp</span><span class=\"barcode\"; style=\"color: black; background-color: #e8f6e3\">&nbspMARGINI&nbsp</span><span class=\"barcode\"; style=\"color: black; background-color: #f4fbf1\">&nbspDI&nbsp</span><span class=\"barcode\"; style=\"color: black; background-color: #edf8ea\">&nbspEXERESI&nbsp</span><span class=\"barcode\"; style=\"color: black; background-color: #ebf7e7\">&nbspCHIRURGICA&nbsp</span><span class=\"barcode\"; style=\"color: black; background-color: #f4fbf1\">&nbsp.&nbsp</span><span class=\"barcode\"; style=\"color: black; background-color: #e1f3dc\">&nbspLOSANGA&nbsp</span><span class=\"barcode\"; style=\"color: black; background-color: #dff3da\">&nbspCUTANEA&nbsp</span><span class=\"barcode\"; style=\"color: black; background-color: #f5fbf3\">&nbspDI&nbsp</span><span class=\"barcode\"; style=\"color: black; background-color: #f6fcf4\">&nbspCM&nbsp</span><span class=\"barcode\"; style=\"color: black; background-color: #f6fcf4\">&nbsp.&nbsp</span><span class=\"barcode\"; style=\"color: black; background-color: #f6fcf4\">&nbsp2&nbsp</span><span class=\"barcode\"; style=\"color: black; background-color: #f7fcf5\">&nbsp,&nbsp</span><span class=\"barcode\"; style=\"color: black; background-color: #f6fcf4\">&nbsp5X1&nbsp</span><span class=\"barcode\"; style=\"color: black; background-color: #f7fcf5\">&nbsp,&nbsp</span><span class=\"barcode\"; style=\"color: black; background-color: #f7fcf5\">&nbsp3&nbsp</span><span class=\"barcode\"; style=\"color: black; background-color: #f6fcf4\">&nbspCON&nbsp</span><span class=\"barcode\"; style=\"color: black; background-color: #f3faf0\">&nbspNEOFORMAZIONE&nbsp</span><span class=\"barcode\"; style=\"color: black; background-color: #f5fbf2\">&nbspRILEVATA&nbsp</span><span class=\"barcode\"; style=\"color: black; background-color: #f5fbf2\">&nbspDEL&nbsp</span><span class=\"barcode\"; style=\"color: black; background-color: #f6fcf4\">&nbspDIAMETRO&nbsp</span><span class=\"barcode\"; style=\"color: black; background-color: #f6fcf4\">&nbspDI&nbsp</span><span class=\"barcode\"; style=\"color: black; background-color: #f6fcf4\">&nbspCM&nbsp</span><span class=\"barcode\"; style=\"color: black; background-color: #f6fcf4\">&nbsp.&nbsp</span><span class=\"barcode\"; style=\"color: black; background-color: #f6fcf4\">&nbsp0&nbsp</span><span class=\"barcode\"; style=\"color: black; background-color: #f7fcf5\">&nbsp,&nbsp</span><span class=\"barcode\"; style=\"color: black; background-color: #f7fcf5\">&nbsp6&nbsp</span><span class=\"barcode\"; style=\"color: black; background-color: #f7fcf5\">&nbsp(&nbsp</span><span class=\"barcode\"; style=\"color: black; background-color: #f4fbf2\">&nbspMARGINI&nbsp</span><span class=\"barcode\"; style=\"color: black; background-color: #f6fcf4\">&nbspMARCATI&nbsp</span><span class=\"barcode\"; style=\"color: black; background-color: #f6fcf4\">&nbspCON&nbsp</span><span class=\"barcode\"; style=\"color: black; background-color: #f5fbf3\">&nbspINCHIOSTRO&nbsp</span><span class=\"barcode\"; style=\"color: black; background-color: #f7fcf5\">&nbsp)&nbsp</span><span class=\"barcode\"; style=\"color: black; background-color: #f6fcf4\">&nbsp.&nbsp</span><span class=\"barcode\"; style=\"color: black; background-color: #f7fcf5\">&nbsp1&nbsp</span><span class=\"barcode\"; style=\"color: black; background-color: #f7fcf5\">&nbsp)&nbsp</span><span class=\"barcode\"; style=\"color: black; background-color: #f5fbf2\">&nbspAPICI&nbsp</span><span class=\"barcode\"; style=\"color: black; background-color: #f6fcf4\">&nbsp;&nbsp</span><span class=\"barcode\"; style=\"color: black; background-color: #f7fcf5\">&nbsp2&nbsp</span><span class=\"barcode\"; style=\"color: black; background-color: #f7fcf5\">&nbsp-&nbsp</span><span class=\"barcode\"; style=\"color: black; background-color: #f7fcf5\">&nbsp5&nbsp</span><span class=\"barcode\"; style=\"color: black; background-color: #f7fcf5\">&nbsp)&nbsp</span><span class=\"barcode\"; style=\"color: black; background-color: #f6fcf4\">&nbspSEZIONI&nbsp</span><span class=\"barcode\"; style=\"color: black; background-color: #f6fcf4\">&nbspSERIATE&nbsp</span><span class=\"barcode\"; style=\"color: black; background-color: #f7fcf5\">&nbsp.&nbsp</span>"
      ],
      "text/plain": [
       "<IPython.core.display.HTML object>"
      ]
     },
     "metadata": {},
     "output_type": "display_data"
    },
    {
     "name": "stdout",
     "output_type": "stream",
     "text": [
      "======== doc:  20\n"
     ]
    },
    {
     "data": {
      "text/html": [
       "<span class=\"barcode\"; style=\"color: black; background-color: #c2e7bb\">&nbspMORBO&nbsp</span><span class=\"barcode\"; style=\"color: black; background-color: #f2faf0\">&nbspDI&nbsp</span><span class=\"barcode\"; style=\"color: black; background-color: #caeac3\">&nbspBOWEN&nbsp</span><span class=\"barcode\"; style=\"color: black; background-color: #f2faef\">&nbsp.&nbsp</span><span class=\"barcode\"; style=\"color: black; background-color: #e5f5e1\">&nbspMARGINI&nbsp</span><span class=\"barcode\"; style=\"color: black; background-color: #ddf2d8\">&nbspNEGATIVI&nbsp</span><span class=\"barcode\"; style=\"color: black; background-color: #f4fbf1\">&nbsp.&nbsp</span><span class=\"barcode\"; style=\"color: black; background-color: #eaf7e6\">&nbspBIOPSIA&nbsp</span><span class=\"barcode\"; style=\"color: black; background-color: #e3f4de\">&nbspESCISSIONALE&nbsp</span><span class=\"barcode\"; style=\"color: black; background-color: #f5fbf3\">&nbspDI&nbsp</span><span class=\"barcode\"; style=\"color: black; background-color: #f1faee\">&nbspNEOFORMAZIONE&nbsp</span><span class=\"barcode\"; style=\"color: black; background-color: #ddf2d8\">&nbspCUTANEA&nbsp</span><span class=\"barcode\"; style=\"color: black; background-color: #f4fbf2\">&nbspDELLA&nbsp</span><span class=\"barcode\"; style=\"color: black; background-color: #f4fbf2\">&nbspSUPERFICIE&nbsp</span><span class=\"barcode\"; style=\"color: black; background-color: #e9f7e5\">&nbspVOLARE&nbsp</span><span class=\"barcode\"; style=\"color: black; background-color: #f1faee\">&nbspDELL&nbsp</span><span class=\"barcode\"; style=\"color: black; background-color: #f4fbf1\">&nbsp'&nbsp</span><span class=\"barcode\"; style=\"color: black; background-color: #ceecc8\">&nbspAVAMBRACCIO&nbsp</span><span class=\"barcode\"; style=\"color: black; background-color: #f5fbf2\">&nbsp,&nbsp</span><span class=\"barcode\"; style=\"color: black; background-color: #f1faee\">&nbspFRAMMENTO&nbsp</span><span class=\"barcode\"; style=\"color: black; background-color: #e6f5e1\">&nbspCUTANEO&nbsp</span><span class=\"barcode\"; style=\"color: black; background-color: #f2faf0\">&nbspMM&nbsp</span><span class=\"barcode\"; style=\"color: black; background-color: #f5fbf3\">&nbsp14&nbsp</span><span class=\"barcode\"; style=\"color: black; background-color: #f4fbf2\">&nbspX&nbsp</span><span class=\"barcode\"; style=\"color: black; background-color: #f6fcf4\">&nbsp5&nbsp</span><span class=\"barcode\"; style=\"color: black; background-color: #f4fbf2\">&nbspX&nbsp</span><span class=\"barcode\"; style=\"color: black; background-color: #f6fcf4\">&nbsp3&nbsp</span><span class=\"barcode\"; style=\"color: black; background-color: #f5fbf3\">&nbsp.&nbsp</span><span class=\"barcode\"; style=\"color: black; background-color: #f4fbf1\">&nbspT&nbsp</span><span class=\"barcode\"; style=\"color: black; background-color: #f6fcf4\">&nbsp)&nbsp</span><span class=\"barcode\"; style=\"color: black; background-color: #f3faf0\">&nbspNEOFORMAZIONE&nbsp</span><span class=\"barcode\"; style=\"color: black; background-color: #f5fbf3\">&nbspCON&nbsp</span><span class=\"barcode\"; style=\"color: black; background-color: #f0f9ed\">&nbspMARGINI&nbsp</span><span class=\"barcode\"; style=\"color: black; background-color: #eff9eb\">&nbspTRASVERSALI&nbsp</span><span class=\"barcode\"; style=\"color: black; background-color: #f5fbf3\">&nbspE&nbsp</span><span class=\"barcode\"; style=\"color: black; background-color: #eff9eb\">&nbspPROFONDO&nbsp</span><span class=\"barcode\"; style=\"color: black; background-color: #f5fbf3\">&nbsp;&nbsp</span><span class=\"barcode\"; style=\"color: black; background-color: #f5fbf3\">&nbspM&nbsp</span><span class=\"barcode\"; style=\"color: black; background-color: #f6fcf4\">&nbsp)&nbsp</span><span class=\"barcode\"; style=\"color: black; background-color: #f1faee\">&nbspMARGINI&nbsp</span><span class=\"barcode\"; style=\"color: black; background-color: #eef8ea\">&nbspAPICALI&nbsp</span><span class=\"barcode\"; style=\"color: black; background-color: #f5fbf3\">&nbsp.&nbsp</span><span class=\"barcode\"; style=\"color: black; background-color: #f6fcf4\">&nbsp(&nbsp</span><span class=\"barcode\"; style=\"color: black; background-color: #f2faf0\">&nbspMARGINI&nbsp</span><span class=\"barcode\"; style=\"color: black; background-color: #f5fbf3\">&nbspMARCATI&nbsp</span><span class=\"barcode\"; style=\"color: black; background-color: #f6fcf4\">&nbspCON&nbsp</span><span class=\"barcode\"; style=\"color: black; background-color: #f5fbf3\">&nbspINCHIOSTRO&nbsp</span><span class=\"barcode\"; style=\"color: black; background-color: #f6fcf4\">&nbspDI&nbsp</span><span class=\"barcode\"; style=\"color: black; background-color: #f5fbf2\">&nbspCHINA&nbsp</span><span class=\"barcode\"; style=\"color: black; background-color: #f6fcf4\">&nbsp)&nbsp</span><span class=\"barcode\"; style=\"color: black; background-color: #f6fcf4\">&nbsp.&nbsp</span><span class=\"barcode\"; style=\"color: black; background-color: #f6fcf4\">&nbsp(&nbsp</span><span class=\"barcode\"; style=\"color: black; background-color: #f3faf0\">&nbspORIENTAMENTO&nbsp</span><span class=\"barcode\"; style=\"color: black; background-color: #f4fbf2\">&nbspCLINICO&nbsp</span><span class=\"barcode\"; style=\"color: black; background-color: #f6fcf4\">&nbsp:&nbsp</span><span class=\"barcode\"; style=\"color: black; background-color: #f5fbf3\">&nbspM&nbsp</span><span class=\"barcode\"; style=\"color: black; background-color: #f6fcf4\">&nbsp.&nbsp</span><span class=\"barcode\"; style=\"color: black; background-color: #f5fbf3\">&nbspDI&nbsp</span><span class=\"barcode\"; style=\"color: black; background-color: #e5f5e1\">&nbspBOWEN&nbsp</span><span class=\"barcode\"; style=\"color: black; background-color: #f7fcf5\">&nbsp,&nbsp</span><span class=\"barcode\"; style=\"color: black; background-color: #f5fbf2\">&nbspCA&nbsp</span><span class=\"barcode\"; style=\"color: black; background-color: #f6fcf4\">&nbsp.&nbsp</span><span class=\"barcode\"; style=\"color: black; background-color: #cbebc5\">&nbspBASOCELLULARE&nbsp</span><span class=\"barcode\"; style=\"color: black; background-color: #f7fcf5\">&nbsp)&nbsp</span><span class=\"barcode\"; style=\"color: black; background-color: #f6fcf4\">&nbsp.&nbsp</span>"
      ],
      "text/plain": [
       "<IPython.core.display.HTML object>"
      ]
     },
     "metadata": {},
     "output_type": "display_data"
    },
    {
     "name": "stdout",
     "output_type": "stream",
     "text": [
      "======== doc:  21\n"
     ]
    },
    {
     "data": {
      "text/html": [
       "<span class=\"barcode\"; style=\"color: black; background-color: #e5f5e1\">&nbspPSA&nbsp</span><span class=\"barcode\"; style=\"color: black; background-color: #f6fcf4\">&nbsp8&nbsp</span><span class=\"barcode\"; style=\"color: black; background-color: #f6fcf4\">&nbsp.&nbsp</span><span class=\"barcode\"; style=\"color: black; background-color: #f6fcf4\">&nbsp2&nbsp</span><span class=\"barcode\"; style=\"color: black; background-color: #f7fcf5\">&nbsp.&nbsp</span><span class=\"barcode\"; style=\"color: black; background-color: #f6fcf4\">&nbspSOSPETTO&nbsp</span><span class=\"barcode\"; style=\"color: black; background-color: #f4fbf1\">&nbspDIAGNOSTICO&nbsp</span><span class=\"barcode\"; style=\"color: black; background-color: #f6fcf4\">&nbspSU&nbsp</span><span class=\"barcode\"; style=\"color: black; background-color: #f3faf0\">&nbspBASE&nbsp</span><span class=\"barcode\"; style=\"color: black; background-color: #f0f9ec\">&nbspCLINICA&nbsp</span><span class=\"barcode\"; style=\"color: black; background-color: #f6fcf4\">&nbspE&nbsp</span><span class=\"barcode\"; style=\"color: black; background-color: #e2f4dd\">&nbspECOGRAFICA&nbsp</span><span class=\"barcode\"; style=\"color: black; background-color: #f6fcf4\">&nbspA&nbsp</span><span class=\"barcode\"; style=\"color: black; background-color: #f1faee\">&nbspDX&nbsp</span><span class=\"barcode\"; style=\"color: black; background-color: #e1f3dc\">&nbspADENOCARCINOMA&nbsp</span><span class=\"barcode\"; style=\"color: black; background-color: #aadda4\">&nbspPROSTATICO&nbsp</span><span class=\"barcode\"; style=\"color: black; background-color: #f4fbf2\">&nbspA&nbsp</span><span class=\"barcode\"; style=\"color: black; background-color: #f0f9ed\">&nbspGRADO&nbsp</span><span class=\"barcode\"; style=\"color: black; background-color: #f4fbf1\">&nbspDI&nbsp</span><span class=\"barcode\"; style=\"color: black; background-color: #edf8e9\">&nbspDIFFERENZIAZIONE&nbsp</span><span class=\"barcode\"; style=\"color: black; background-color: #edf8ea\">&nbspMEDIO&nbsp</span><span class=\"barcode\"; style=\"color: black; background-color: #f1faee\">&nbsp-&nbsp</span><span class=\"barcode\"; style=\"color: black; background-color: #f2faef\">&nbspBASSO&nbsp</span><span class=\"barcode\"; style=\"color: black; background-color: #f1faee\">&nbsp(&nbsp</span><span class=\"barcode\"; style=\"color: black; background-color: #d2edcc\">&nbspGLEASON&nbsp</span><span class=\"barcode\"; style=\"color: black; background-color: #f2faf0\">&nbsp4&nbsp</span><span class=\"barcode\"; style=\"color: black; background-color: #f2faf0\">&nbsp+&nbsp</span><span class=\"barcode\"; style=\"color: black; background-color: #f3faf0\">&nbsp3&nbsp</span><span class=\"barcode\"; style=\"color: black; background-color: #f4fbf1\">&nbsp)&nbsp</span><span class=\"barcode\"; style=\"color: black; background-color: #f3faf0\">&nbspIN&nbsp</span><span class=\"barcode\"; style=\"color: black; background-color: #f1faee\">&nbspTUTTI&nbsp</span><span class=\"barcode\"; style=\"color: black; background-color: #f1faee\">&nbspI&nbsp</span><span class=\"barcode\"; style=\"color: black; background-color: #ecf8e8\">&nbspFRUSTOLI&nbsp</span><span class=\"barcode\"; style=\"color: black; background-color: #f3faf0\">&nbspINVIATI&nbsp</span><span class=\"barcode\"; style=\"color: black; background-color: #f5fbf2\">&nbsp.&nbsp</span>"
      ],
      "text/plain": [
       "<IPython.core.display.HTML object>"
      ]
     },
     "metadata": {},
     "output_type": "display_data"
    },
    {
     "name": "stdout",
     "output_type": "stream",
     "text": [
      "======== doc:  22\n"
     ]
    },
    {
     "data": {
      "text/html": [
       "<span class=\"barcode\"; style=\"color: black; background-color: #eef8ea\">&nbspSOSPETTO&nbsp</span><span class=\"barcode\"; style=\"color: black; background-color: #c8e9c1\">&nbspBASALIOMA&nbsp</span><span class=\"barcode\"; style=\"color: black; background-color: #f0f9ec\">&nbspCARCINOMA&nbsp</span><span class=\"barcode\"; style=\"color: black; background-color: #f2faef\">&nbspA&nbsp</span><span class=\"barcode\"; style=\"color: black; background-color: #edf8e9\">&nbspCELLULE&nbsp</span><span class=\"barcode\"; style=\"color: black; background-color: #cfecc9\">&nbspBASALI&nbsp</span><span class=\"barcode\"; style=\"color: black; background-color: #f2faef\">&nbsp.&nbsp</span><span class=\"barcode\"; style=\"color: black; background-color: #f2faf0\">&nbspLA&nbsp</span><span class=\"barcode\"; style=\"color: black; background-color: #f3faf0\">&nbspPROLIFERAZIONE&nbsp</span><span class=\"barcode\"; style=\"color: black; background-color: #f4fbf2\">&nbspNEOPLASTICA&nbsp</span><span class=\"barcode\"; style=\"color: black; background-color: #f5fbf3\">&nbspE&nbsp</span><span class=\"barcode\"; style=\"color: black; background-color: #f6fcf4\">&nbsp'&nbsp</span><span class=\"barcode\"; style=\"color: black; background-color: #ebf7e7\">&nbspCONTENUTA&nbsp</span><span class=\"barcode\"; style=\"color: black; background-color: #eff9ec\">&nbspENTRO&nbsp</span><span class=\"barcode\"; style=\"color: black; background-color: #f5fbf3\">&nbspI&nbsp</span><span class=\"barcode\"; style=\"color: black; background-color: #ebf7e7\">&nbspMARGINI&nbsp</span><span class=\"barcode\"; style=\"color: black; background-color: #f2faf0\">&nbspDEL&nbsp</span><span class=\"barcode\"; style=\"color: black; background-color: #eff9eb\">&nbspFRAMMENTO&nbsp</span><span class=\"barcode\"; style=\"color: black; background-color: #f4fbf2\">&nbsp.&nbsp</span><span class=\"barcode\"; style=\"color: black; background-color: #eff9ec\">&nbspFRAMMENTO&nbsp</span><span class=\"barcode\"; style=\"color: black; background-color: #e1f3dc\">&nbspCUTANEO&nbsp</span><span class=\"barcode\"; style=\"color: black; background-color: #f5fbf3\">&nbspE&nbsp</span><span class=\"barcode\"; style=\"color: black; background-color: #e7f6e3\">&nbspSOTTOCUTANEO&nbsp</span><span class=\"barcode\"; style=\"color: black; background-color: #f6fcf4\">&nbspDI&nbsp</span><span class=\"barcode\"; style=\"color: black; background-color: #f6fcf4\">&nbspCM&nbsp</span><span class=\"barcode\"; style=\"color: black; background-color: #f6fcf4\">&nbsp1&nbsp</span><span class=\"barcode\"; style=\"color: black; background-color: #f6fcf4\">&nbsp,&nbsp</span><span class=\"barcode\"; style=\"color: black; background-color: #f6fcf4\">&nbsp1&nbsp</span><span class=\"barcode\"; style=\"color: black; background-color: #f5fbf2\">&nbspX&nbsp</span><span class=\"barcode\"; style=\"color: black; background-color: #f6fcf4\">&nbsp0&nbsp</span><span class=\"barcode\"; style=\"color: black; background-color: #f6fcf4\">&nbsp,&nbsp</span><span class=\"barcode\"; style=\"color: black; background-color: #f6fcf4\">&nbsp6&nbsp</span><span class=\"barcode\"; style=\"color: black; background-color: #f5fbf2\">&nbspX&nbsp</span><span class=\"barcode\"; style=\"color: black; background-color: #f6fcf4\">&nbsp0&nbsp</span><span class=\"barcode\"; style=\"color: black; background-color: #f6fcf4\">&nbsp,&nbsp</span><span class=\"barcode\"; style=\"color: black; background-color: #f6fcf4\">&nbsp2&nbsp</span><span class=\"barcode\"; style=\"color: black; background-color: #f6fcf4\">&nbspCON&nbsp</span><span class=\"barcode\"; style=\"color: black; background-color: #f1faee\">&nbspLESIONE&nbsp</span><span class=\"barcode\"; style=\"color: black; background-color: #f3faf0\">&nbspRILEVATA&nbsp</span><span class=\"barcode\"; style=\"color: black; background-color: #e9f7e5\">&nbspACROMICA&nbsp</span><span class=\"barcode\"; style=\"color: black; background-color: #f6fcf4\">&nbspDI&nbsp</span><span class=\"barcode\"; style=\"color: black; background-color: #f6fcf4\">&nbspCM&nbsp</span><span class=\"barcode\"; style=\"color: black; background-color: #f6fcf4\">&nbsp0&nbsp</span><span class=\"barcode\"; style=\"color: black; background-color: #f7fcf5\">&nbsp,&nbsp</span><span class=\"barcode\"; style=\"color: black; background-color: #f6fcf4\">&nbsp4&nbsp</span><span class=\"barcode\"; style=\"color: black; background-color: #f5fbf3\">&nbspX&nbsp</span><span class=\"barcode\"; style=\"color: black; background-color: #f6fcf4\">&nbsp0&nbsp</span><span class=\"barcode\"; style=\"color: black; background-color: #f7fcf5\">&nbsp,&nbsp</span><span class=\"barcode\"; style=\"color: black; background-color: #f6fcf4\">&nbsp3&nbsp</span><span class=\"barcode\"; style=\"color: black; background-color: #f6fcf4\">&nbsp.&nbsp</span><span class=\"barcode\"; style=\"color: black; background-color: #f6fcf4\">&nbsp1&nbsp</span><span class=\"barcode\"; style=\"color: black; background-color: #f6fcf4\">&nbsp-&nbsp</span><span class=\"barcode\"; style=\"color: black; background-color: #f7fcf5\">&nbsp3&nbsp</span><span class=\"barcode\"; style=\"color: black; background-color: #f7fcf5\">&nbsp)&nbsp</span><span class=\"barcode\"; style=\"color: black; background-color: #f5fbf3\">&nbspSEZIONI&nbsp</span><span class=\"barcode\"; style=\"color: black; background-color: #f6fcf4\">&nbspA&nbsp</span><span class=\"barcode\"; style=\"color: black; background-color: #f1faee\">&nbspCROCE&nbsp</span><span class=\"barcode\"; style=\"color: black; background-color: #f7fcf5\">&nbsp(&nbsp</span><span class=\"barcode\"; style=\"color: black; background-color: #f5fbf2\">&nbspMARGINI&nbsp</span><span class=\"barcode\"; style=\"color: black; background-color: #f6fcf4\">&nbspMARCATI&nbsp</span><span class=\"barcode\"; style=\"color: black; background-color: #f7fcf5\">&nbspCON&nbsp</span><span class=\"barcode\"; style=\"color: black; background-color: #f6fcf4\">&nbspINCHIOSTRO&nbsp</span><span class=\"barcode\"; style=\"color: black; background-color: #f7fcf5\">&nbsp)&nbsp</span><span class=\"barcode\"; style=\"color: black; background-color: #f7fcf5\">&nbsp.&nbsp</span>"
      ],
      "text/plain": [
       "<IPython.core.display.HTML object>"
      ]
     },
     "metadata": {},
     "output_type": "display_data"
    },
    {
     "name": "stdout",
     "output_type": "stream",
     "text": [
      "======== doc:  23\n"
     ]
    },
    {
     "data": {
      "text/html": [
       "<span class=\"barcode\"; style=\"color: black; background-color: #eef8ea\">&nbspNEOFORMAZIONE&nbsp</span><span class=\"barcode\"; style=\"color: black; background-color: #ebf7e7\">&nbspPARZIALMENTE&nbsp</span><span class=\"barcode\"; style=\"color: black; background-color: #e8f6e3\">&nbspPIGMENTATA&nbsp</span><span class=\"barcode\"; style=\"color: black; background-color: #eef8ea\">&nbspTELEANGECTASICA&nbsp</span><span class=\"barcode\"; style=\"color: black; background-color: #f5fbf2\">&nbsp.&nbsp</span><span class=\"barcode\"; style=\"color: black; background-color: #ecf8e8\">&nbspOD&nbsp</span><span class=\"barcode\"; style=\"color: black; background-color: #f5fbf2\">&nbsp:&nbsp</span><span class=\"barcode\"; style=\"color: black; background-color: #f0f9ec\">&nbspCARCINOMA&nbsp</span><span class=\"barcode\"; style=\"color: black; background-color: #f2faf0\">&nbspA&nbsp</span><span class=\"barcode\"; style=\"color: black; background-color: #ecf8e8\">&nbspCELLULE&nbsp</span><span class=\"barcode\"; style=\"color: black; background-color: #d1edcb\">&nbspBASALI&nbsp</span><span class=\"barcode\"; style=\"color: black; background-color: #f2faef\">&nbsp.&nbsp</span><span class=\"barcode\"; style=\"color: black; background-color: #eff9eb\">&nbspCARCINOMA&nbsp</span><span class=\"barcode\"; style=\"color: black; background-color: #f2faf0\">&nbspA&nbsp</span><span class=\"barcode\"; style=\"color: black; background-color: #edf8ea\">&nbspCELLULE&nbsp</span><span class=\"barcode\"; style=\"color: black; background-color: #d3eecd\">&nbspBASALI&nbsp</span><span class=\"barcode\"; style=\"color: black; background-color: #f4fbf1\">&nbsp.&nbsp</span><span class=\"barcode\"; style=\"color: black; background-color: #f0f9ed\">&nbspFRAMMENTO&nbsp</span><span class=\"barcode\"; style=\"color: black; background-color: #f6fcf4\">&nbspDI&nbsp</span><span class=\"barcode\"; style=\"color: black; background-color: #f6fcf4\">&nbsp0&nbsp</span><span class=\"barcode\"; style=\"color: black; background-color: #f7fcf5\">&nbsp,&nbsp</span><span class=\"barcode\"; style=\"color: black; background-color: #f6fcf4\">&nbsp6&nbsp</span><span class=\"barcode\"; style=\"color: black; background-color: #f6fcf4\">&nbspX&nbsp</span><span class=\"barcode\"; style=\"color: black; background-color: #f6fcf4\">&nbsp0&nbsp</span><span class=\"barcode\"; style=\"color: black; background-color: #f7fcf5\">&nbsp,&nbsp</span><span class=\"barcode\"; style=\"color: black; background-color: #f7fcf5\">&nbsp5&nbsp</span><span class=\"barcode\"; style=\"color: black; background-color: #f6fcf4\">&nbspX&nbsp</span><span class=\"barcode\"; style=\"color: black; background-color: #f7fcf5\">&nbsp0&nbsp</span><span class=\"barcode\"; style=\"color: black; background-color: #f7fcf5\">&nbsp,&nbsp</span><span class=\"barcode\"; style=\"color: black; background-color: #f7fcf5\">&nbsp3&nbsp</span><span class=\"barcode\"; style=\"color: black; background-color: #f7fcf5\">&nbspCM&nbsp</span><span class=\"barcode\"; style=\"color: black; background-color: #f6fcf4\">&nbspIN&nbsp</span><span class=\"barcode\"; style=\"color: black; background-color: #f7fcf5\">&nbspTOTO&nbsp</span><span class=\"barcode\"; style=\"color: black; background-color: #f7fcf5\">&nbsp.&nbsp</span>"
      ],
      "text/plain": [
       "<IPython.core.display.HTML object>"
      ]
     },
     "metadata": {},
     "output_type": "display_data"
    },
    {
     "name": "stdout",
     "output_type": "stream",
     "text": [
      "======== doc:  24\n"
     ]
    },
    {
     "data": {
      "text/html": [
       "<span class=\"barcode\"; style=\"color: black; background-color: #ebf7e7\">&nbspLESIONE&nbsp</span><span class=\"barcode\"; style=\"color: black; background-color: #f4fbf2\">&nbspA&nbsp</span><span class=\"barcode\"; style=\"color: black; background-color: #d3eecd\">&nbspPLACCA&nbsp</span><span class=\"barcode\"; style=\"color: black; background-color: #f6fcf4\">&nbsp,&nbsp</span><span class=\"barcode\"; style=\"color: black; background-color: #e2f4dd\">&nbspERITEMATOSA&nbsp</span><span class=\"barcode\"; style=\"color: black; background-color: #edf8ea\">&nbspCOPERTA&nbsp</span><span class=\"barcode\"; style=\"color: black; background-color: #f6fcf4\">&nbspDA&nbsp</span><span class=\"barcode\"; style=\"color: black; background-color: #eaf7e6\">&nbspSQUAMO&nbsp</span><span class=\"barcode\"; style=\"color: black; background-color: #f6fcf4\">&nbsp-&nbsp</span><span class=\"barcode\"; style=\"color: black; background-color: #f2faef\">&nbspCROSTE&nbsp</span><span class=\"barcode\"; style=\"color: black; background-color: #f6fcf4\">&nbsp.&nbsp</span><span class=\"barcode\"; style=\"color: black; background-color: #f6fcf4\">&nbspO&nbsp</span><span class=\"barcode\"; style=\"color: black; background-color: #f6fcf4\">&nbsp.&nbsp</span><span class=\"barcode\"; style=\"color: black; background-color: #f6fcf4\">&nbspD&nbsp</span><span class=\"barcode\"; style=\"color: black; background-color: #f6fcf4\">&nbsp.&nbsp</span><span class=\"barcode\"; style=\"color: black; background-color: #f6fcf4\">&nbsp:&nbsp</span><span class=\"barcode\"; style=\"color: black; background-color: #edf8ea\">&nbspMALATTIA&nbsp</span><span class=\"barcode\"; style=\"color: black; background-color: #f3faf0\">&nbspDI&nbsp</span><span class=\"barcode\"; style=\"color: black; background-color: #d2edcc\">&nbspBOWEN&nbsp</span><span class=\"barcode\"; style=\"color: black; background-color: #f3faf0\">&nbsp.&nbsp</span><span class=\"barcode\"; style=\"color: black; background-color: #eef8ea\">&nbspCARCINOMA&nbsp</span><span class=\"barcode\"; style=\"color: black; background-color: #f2faf0\">&nbspA&nbsp</span><span class=\"barcode\"; style=\"color: black; background-color: #edf8e9\">&nbspCELLULE&nbsp</span><span class=\"barcode\"; style=\"color: black; background-color: #d1edcb\">&nbspBASALI&nbsp</span><span class=\"barcode\"; style=\"color: black; background-color: #f1faee\">&nbspDI&nbsp</span><span class=\"barcode\"; style=\"color: black; background-color: #f2faf0\">&nbspTIPO&nbsp</span><span class=\"barcode\"; style=\"color: black; background-color: #e8f6e4\">&nbspSUPERFICIALE&nbsp</span><span class=\"barcode\"; style=\"color: black; background-color: #f5fbf2\">&nbsp.&nbsp</span><span class=\"barcode\"; style=\"color: black; background-color: #f4fbf1\">&nbspLA&nbsp</span><span class=\"barcode\"; style=\"color: black; background-color: #f4fbf2\">&nbspPROLIFERAZIONE&nbsp</span><span class=\"barcode\"; style=\"color: black; background-color: #f5fbf3\">&nbspNEOPLASTICA&nbsp</span><span class=\"barcode\"; style=\"color: black; background-color: #f6fcf4\">&nbspE&nbsp</span><span class=\"barcode\"; style=\"color: black; background-color: #f6fcf4\">&nbsp'&nbsp</span><span class=\"barcode\"; style=\"color: black; background-color: #ecf8e8\">&nbspCONTENUTA&nbsp</span><span class=\"barcode\"; style=\"color: black; background-color: #f0f9ed\">&nbspENTRO&nbsp</span><span class=\"barcode\"; style=\"color: black; background-color: #f6fcf4\">&nbspI&nbsp</span><span class=\"barcode\"; style=\"color: black; background-color: #ecf8e8\">&nbspMARGINI&nbsp</span><span class=\"barcode\"; style=\"color: black; background-color: #f3faf0\">&nbspDEL&nbsp</span><span class=\"barcode\"; style=\"color: black; background-color: #eff9ec\">&nbspFRAMMENTO&nbsp</span><span class=\"barcode\"; style=\"color: black; background-color: #f5fbf2\">&nbsp.&nbsp</span><span class=\"barcode\"; style=\"color: black; background-color: #f0f9ed\">&nbspFRAMMENTO&nbsp</span><span class=\"barcode\"; style=\"color: black; background-color: #e3f4de\">&nbspCUTANEO&nbsp</span><span class=\"barcode\"; style=\"color: black; background-color: #f5fbf3\">&nbspE&nbsp</span><span class=\"barcode\"; style=\"color: black; background-color: #e8f6e4\">&nbspSOTTOCUTANEO&nbsp</span><span class=\"barcode\"; style=\"color: black; background-color: #f6fcf4\">&nbspDI&nbsp</span><span class=\"barcode\"; style=\"color: black; background-color: #f6fcf4\">&nbspCM&nbsp</span><span class=\"barcode\"; style=\"color: black; background-color: #f6fcf4\">&nbsp3&nbsp</span><span class=\"barcode\"; style=\"color: black; background-color: #f7fcf5\">&nbsp,&nbsp</span><span class=\"barcode\"; style=\"color: black; background-color: #f6fcf4\">&nbsp6&nbsp</span><span class=\"barcode\"; style=\"color: black; background-color: #f5fbf3\">&nbspX&nbsp</span><span class=\"barcode\"; style=\"color: black; background-color: #f7fcf5\">&nbsp1&nbsp</span><span class=\"barcode\"; style=\"color: black; background-color: #f7fcf5\">&nbsp,&nbsp</span><span class=\"barcode\"; style=\"color: black; background-color: #f6fcf4\">&nbsp5&nbsp</span><span class=\"barcode\"; style=\"color: black; background-color: #f5fbf3\">&nbspX&nbsp</span><span class=\"barcode\"; style=\"color: black; background-color: #f6fcf4\">&nbsp0&nbsp</span><span class=\"barcode\"; style=\"color: black; background-color: #f7fcf5\">&nbsp,&nbsp</span><span class=\"barcode\"; style=\"color: black; background-color: #f7fcf5\">&nbsp7&nbsp</span><span class=\"barcode\"; style=\"color: black; background-color: #f6fcf4\">&nbspCON&nbsp</span><span class=\"barcode\"; style=\"color: black; background-color: #f2faf0\">&nbspLESIONE&nbsp</span><span class=\"barcode\"; style=\"color: black; background-color: #eef8ea\">&nbspDISCROMICA&nbsp</span><span class=\"barcode\"; style=\"color: black; background-color: #f6fcf4\">&nbspDI&nbsp</span><span class=\"barcode\"; style=\"color: black; background-color: #f6fcf4\">&nbspCM&nbsp</span><span class=\"barcode\"; style=\"color: black; background-color: #f7fcf5\">&nbsp1&nbsp</span><span class=\"barcode\"; style=\"color: black; background-color: #f7fcf5\">&nbsp,&nbsp</span><span class=\"barcode\"; style=\"color: black; background-color: #f7fcf5\">&nbsp3&nbsp</span><span class=\"barcode\"; style=\"color: black; background-color: #f6fcf4\">&nbspX&nbsp</span><span class=\"barcode\"; style=\"color: black; background-color: #f7fcf5\">&nbsp1&nbsp</span><span class=\"barcode\"; style=\"color: black; background-color: #f6fcf4\">&nbsp.&nbsp</span><span class=\"barcode\"; style=\"color: black; background-color: #f7fcf5\">&nbsp1&nbsp</span><span class=\"barcode\"; style=\"color: black; background-color: #f7fcf5\">&nbsp-&nbsp</span><span class=\"barcode\"; style=\"color: black; background-color: #f7fcf5\">&nbsp2&nbsp</span><span class=\"barcode\"; style=\"color: black; background-color: #f7fcf5\">&nbsp)&nbsp</span><span class=\"barcode\"; style=\"color: black; background-color: #f7fcf5\">&nbspPRELIEVI&nbsp</span><span class=\"barcode\"; style=\"color: black; background-color: #f6fcf4\">&nbspRAPPRESENTATIVI&nbsp</span><span class=\"barcode\"; style=\"color: black; background-color: #f5fbf3\">&nbspDELLA&nbsp</span><span class=\"barcode\"; style=\"color: black; background-color: #f3faf0\">&nbspLESIONE&nbsp</span><span class=\"barcode\"; style=\"color: black; background-color: #f6fcf4\">&nbspIN&nbsp</span><span class=\"barcode\"; style=\"color: black; background-color: #f6fcf4\">&nbspRAPPORTO&nbsp</span><span class=\"barcode\"; style=\"color: black; background-color: #f7fcf5\">&nbspCON&nbsp</span><span class=\"barcode\"; style=\"color: black; background-color: #f5fbf3\">&nbspIL&nbsp</span><span class=\"barcode\"; style=\"color: black; background-color: #f6fcf4\">&nbspMARGINE&nbsp</span><span class=\"barcode\"; style=\"color: black; background-color: #f0f9ed\">&nbspPROFONDO&nbsp</span><span class=\"barcode\"; style=\"color: black; background-color: #f6fcf4\">&nbspE&nbsp</span><span class=\"barcode\"; style=\"color: black; background-color: #f6fcf4\">&nbspDUE&nbsp</span><span class=\"barcode\"; style=\"color: black; background-color: #f1faee\">&nbspLATERALI&nbsp</span><span class=\"barcode\"; style=\"color: black; background-color: #f6fcf4\">&nbsp.&nbsp</span><span class=\"barcode\"; style=\"color: black; background-color: #f7fcf5\">&nbsp3&nbsp</span><span class=\"barcode\"; style=\"color: black; background-color: #f6fcf4\">&nbsp-&nbsp</span><span class=\"barcode\"; style=\"color: black; background-color: #f7fcf5\">&nbsp4&nbsp</span><span class=\"barcode\"; style=\"color: black; background-color: #f7fcf5\">&nbsp)&nbsp</span><span class=\"barcode\"; style=\"color: black; background-color: #f6fcf4\">&nbspALTRI&nbsp</span><span class=\"barcode\"; style=\"color: black; background-color: #f7fcf5\">&nbsp2&nbsp</span><span class=\"barcode\"; style=\"color: black; background-color: #f3faf0\">&nbspMARGINI&nbsp</span><span class=\"barcode\"; style=\"color: black; background-color: #f2faf0\">&nbspLATERALI&nbsp</span><span class=\"barcode\"; style=\"color: black; background-color: #f7fcf5\">&nbsp.&nbsp</span>"
      ],
      "text/plain": [
       "<IPython.core.display.HTML object>"
      ]
     },
     "metadata": {},
     "output_type": "display_data"
    },
    {
     "name": "stdout",
     "output_type": "stream",
     "text": [
      "======== doc:  25\n"
     ]
    },
    {
     "data": {
      "text/html": [
       "<span class=\"barcode\"; style=\"color: black; background-color: #eff9eb\">&nbspCARCINOMA&nbsp</span><span class=\"barcode\"; style=\"color: black; background-color: #bce4b5\">&nbspBASOCELLULARE&nbsp</span><span class=\"barcode\"; style=\"color: black; background-color: #f1faee\">&nbsp.&nbsp</span><span class=\"barcode\"; style=\"color: black; background-color: #f2faf0\">&nbspLA&nbsp</span><span class=\"barcode\"; style=\"color: black; background-color: #e7f6e2\">&nbspLESIONE&nbsp</span><span class=\"barcode\"; style=\"color: black; background-color: #f4fbf2\">&nbspE&nbsp</span><span class=\"barcode\"; style=\"color: black; background-color: #f6fcf4\">&nbsp'&nbsp</span><span class=\"barcode\"; style=\"color: black; background-color: #eff9ec\">&nbspPROSSIMA&nbsp</span><span class=\"barcode\"; style=\"color: black; background-color: #f5fbf2\">&nbspAL&nbsp</span><span class=\"barcode\"; style=\"color: black; background-color: #f2faef\">&nbspMARGINE&nbsp</span><span class=\"barcode\"; style=\"color: black; background-color: #e8f6e3\">&nbspPROFONDO&nbsp</span><span class=\"barcode\"; style=\"color: black; background-color: #f4fbf2\">&nbspDELLE&nbsp</span><span class=\"barcode\"; style=\"color: black; background-color: #f3faf0\">&nbspSEZIONI&nbsp</span><span class=\"barcode\"; style=\"color: black; background-color: #f2faf0\">&nbspISTOLOGICHE&nbsp</span><span class=\"barcode\"; style=\"color: black; background-color: #f6fcf4\">&nbsp(&nbsp</span><span class=\"barcode\"; style=\"color: black; background-color: #eef8ea\">&nbspDISTANZA&nbsp</span><span class=\"barcode\"; style=\"color: black; background-color: #ecf8e8\">&nbspMINIMA&nbsp</span><span class=\"barcode\"; style=\"color: black; background-color: #eff9ec\">&nbspMISURABILE&nbsp</span><span class=\"barcode\"; style=\"color: black; background-color: #f0f9ec\">&nbspMM&nbsp</span><span class=\"barcode\"; style=\"color: black; background-color: #f5fbf3\">&nbsp0&nbsp</span><span class=\"barcode\"; style=\"color: black; background-color: #f6fcf4\">&nbsp,&nbsp</span><span class=\"barcode\"; style=\"color: black; background-color: #f6fcf4\">&nbsp04&nbsp</span><span class=\"barcode\"; style=\"color: black; background-color: #f6fcf4\">&nbsp)&nbsp</span><span class=\"barcode\"; style=\"color: black; background-color: #f5fbf2\">&nbsp;&nbsp</span><span class=\"barcode\"; style=\"color: black; background-color: #e6f5e1\">&nbspNEGATIVI&nbsp</span><span class=\"barcode\"; style=\"color: black; background-color: #f3faf0\">&nbspGLI&nbsp</span><span class=\"barcode\"; style=\"color: black; background-color: #f4fbf2\">&nbspALTRI&nbsp</span><span class=\"barcode\"; style=\"color: black; background-color: #ecf8e8\">&nbspMARGINI&nbsp</span><span class=\"barcode\"; style=\"color: black; background-color: #f4fbf1\">&nbsp.&nbsp</span><span class=\"barcode\"; style=\"color: black; background-color: #ebf7e7\">&nbspBIOPSIA&nbsp</span><span class=\"barcode\"; style=\"color: black; background-color: #e5f5e0\">&nbspESCISSIONALE&nbsp</span><span class=\"barcode\"; style=\"color: black; background-color: #f5fbf2\">&nbspDI&nbsp</span><span class=\"barcode\"; style=\"color: black; background-color: #f0f9ec\">&nbspNEOFORMAZIONE&nbsp</span><span class=\"barcode\"; style=\"color: black; background-color: #dbf1d5\">&nbspCUTANEA&nbsp</span><span class=\"barcode\"; style=\"color: black; background-color: #f0f9ed\">&nbspDEL&nbsp</span><span class=\"barcode\"; style=\"color: black; background-color: #d7efd1\">&nbspVOLTO&nbsp</span><span class=\"barcode\"; style=\"color: black; background-color: #f6fcf4\">&nbsp,&nbsp</span><span class=\"barcode\"; style=\"color: black; background-color: #f3faf0\">&nbspFRAMMENTO&nbsp</span><span class=\"barcode\"; style=\"color: black; background-color: #e6f5e1\">&nbspCUTANEO&nbsp</span><span class=\"barcode\"; style=\"color: black; background-color: #f4fbf1\">&nbsp29&nbsp</span><span class=\"barcode\"; style=\"color: black; background-color: #f5fbf2\">&nbspX&nbsp</span><span class=\"barcode\"; style=\"color: black; background-color: #f6fcf4\">&nbsp14&nbsp</span><span class=\"barcode\"; style=\"color: black; background-color: #f5fbf3\">&nbspX&nbsp</span><span class=\"barcode\"; style=\"color: black; background-color: #f6fcf4\">&nbsp4&nbsp</span><span class=\"barcode\"; style=\"color: black; background-color: #f4fbf1\">&nbspMM&nbsp</span><span class=\"barcode\"; style=\"color: black; background-color: #f6fcf4\">&nbsp.&nbsp</span><span class=\"barcode\"; style=\"color: black; background-color: #f5fbf2\">&nbspT&nbsp</span><span class=\"barcode\"; style=\"color: black; background-color: #f6fcf4\">&nbsp)&nbsp</span><span class=\"barcode\"; style=\"color: black; background-color: #f4fbf1\">&nbspNEOFORMAZIONE&nbsp</span><span class=\"barcode\"; style=\"color: black; background-color: #f5fbf3\">&nbspCON&nbsp</span><span class=\"barcode\"; style=\"color: black; background-color: #f1faee\">&nbspMARGINI&nbsp</span><span class=\"barcode\"; style=\"color: black; background-color: #f0f9ec\">&nbspTRASVERSALI&nbsp</span><span class=\"barcode\"; style=\"color: black; background-color: #f6fcf4\">&nbspE&nbsp</span><span class=\"barcode\"; style=\"color: black; background-color: #eff9ec\">&nbspPROFONDO&nbsp</span><span class=\"barcode\"; style=\"color: black; background-color: #f6fcf4\">&nbsp;&nbsp</span><span class=\"barcode\"; style=\"color: black; background-color: #f6fcf4\">&nbspM&nbsp</span><span class=\"barcode\"; style=\"color: black; background-color: #f6fcf4\">&nbsp)&nbsp</span><span class=\"barcode\"; style=\"color: black; background-color: #f4fbf2\">&nbspMARGINI&nbsp</span><span class=\"barcode\"; style=\"color: black; background-color: #f0f9ec\">&nbspAPICALI&nbsp</span><span class=\"barcode\"; style=\"color: black; background-color: #f6fcf4\">&nbsp;&nbsp</span><span class=\"barcode\"; style=\"color: black; background-color: #f6fcf4\">&nbspMA&nbsp</span><span class=\"barcode\"; style=\"color: black; background-color: #f6fcf4\">&nbsp)&nbsp</span><span class=\"barcode\"; style=\"color: black; background-color: #f6fcf4\">&nbspMARGINE&nbsp</span><span class=\"barcode\"; style=\"color: black; background-color: #f3faf0\">&nbspAPICALE&nbsp</span><span class=\"barcode\"; style=\"color: black; background-color: #f6fcf4\">&nbsp;&nbsp</span><span class=\"barcode\"; style=\"color: black; background-color: #f5fbf3\">&nbspMB&nbsp</span><span class=\"barcode\"; style=\"color: black; background-color: #f7fcf5\">&nbsp)&nbsp</span><span class=\"barcode\"; style=\"color: black; background-color: #f6fcf4\">&nbspMARGINE&nbsp</span><span class=\"barcode\"; style=\"color: black; background-color: #f4fbf1\">&nbspAPICALE&nbsp</span><span class=\"barcode\"; style=\"color: black; background-color: #f4fbf2\">&nbspCONTROLATERALE&nbsp</span><span class=\"barcode\"; style=\"color: black; background-color: #f6fcf4\">&nbsp.&nbsp</span><span class=\"barcode\"; style=\"color: black; background-color: #f6fcf4\">&nbsp(&nbsp</span><span class=\"barcode\"; style=\"color: black; background-color: #f4fbf2\">&nbspMARGINI&nbsp</span><span class=\"barcode\"; style=\"color: black; background-color: #f5fbf3\">&nbspMARCATI&nbsp</span><span class=\"barcode\"; style=\"color: black; background-color: #f6fcf4\">&nbspCON&nbsp</span><span class=\"barcode\"; style=\"color: black; background-color: #f5fbf3\">&nbspINCHIOSTRO&nbsp</span><span class=\"barcode\"; style=\"color: black; background-color: #f6fcf4\">&nbspDI&nbsp</span><span class=\"barcode\"; style=\"color: black; background-color: #f5fbf2\">&nbspCHINA&nbsp</span><span class=\"barcode\"; style=\"color: black; background-color: #f7fcf5\">&nbsp)&nbsp</span><span class=\"barcode\"; style=\"color: black; background-color: #f7fcf5\">&nbsp.&nbsp</span>"
      ],
      "text/plain": [
       "<IPython.core.display.HTML object>"
      ]
     },
     "metadata": {},
     "output_type": "display_data"
    },
    {
     "name": "stdout",
     "output_type": "stream",
     "text": [
      "======== doc:  26\n"
     ]
    },
    {
     "data": {
      "text/html": [
       "<span class=\"barcode\"; style=\"color: black; background-color: #e7f6e2\">&nbspLESIONE&nbsp</span><span class=\"barcode\"; style=\"color: black; background-color: #ddf2d8\">&nbspNODULARE&nbsp</span><span class=\"barcode\"; style=\"color: black; background-color: #f6fcf4\">&nbsp,&nbsp</span><span class=\"barcode\"; style=\"color: black; background-color: #f0f9ed\">&nbspPARZIALMENTE&nbsp</span><span class=\"barcode\"; style=\"color: black; background-color: #f0f9ec\">&nbspCOPERTA&nbsp</span><span class=\"barcode\"; style=\"color: black; background-color: #f5fbf3\">&nbspDA&nbsp</span><span class=\"barcode\"; style=\"color: black; background-color: #ebf7e7\">&nbspCROSTA&nbsp</span><span class=\"barcode\"; style=\"color: black; background-color: #edf8e9\">&nbspEMATICA&nbsp</span><span class=\"barcode\"; style=\"color: black; background-color: #f5fbf2\">&nbsp.&nbsp</span><span class=\"barcode\"; style=\"color: black; background-color: #f5fbf2\">&nbspO&nbsp</span><span class=\"barcode\"; style=\"color: black; background-color: #f5fbf2\">&nbsp.&nbsp</span><span class=\"barcode\"; style=\"color: black; background-color: #f5fbf3\">&nbspD&nbsp</span><span class=\"barcode\"; style=\"color: black; background-color: #f4fbf2\">&nbsp.&nbsp</span><span class=\"barcode\"; style=\"color: black; background-color: #f4fbf1\">&nbsp:&nbsp</span><span class=\"barcode\"; style=\"color: black; background-color: #eaf7e6\">&nbspCARCINOMA&nbsp</span><span class=\"barcode\"; style=\"color: black; background-color: #bee5b8\">&nbspBASOCELLULARE&nbsp</span><span class=\"barcode\"; style=\"color: black; background-color: #ecf8e8\">&nbsp.&nbsp</span><span class=\"barcode\"; style=\"color: black; background-color: #ebf7e7\">&nbspCARCINOMA&nbsp</span><span class=\"barcode\"; style=\"color: black; background-color: #f1faee\">&nbspA&nbsp</span><span class=\"barcode\"; style=\"color: black; background-color: #ebf7e7\">&nbspCELLULE&nbsp</span><span class=\"barcode\"; style=\"color: black; background-color: #ceecc8\">&nbspBASALI&nbsp</span><span class=\"barcode\"; style=\"color: black; background-color: #f0f9ed\">&nbsp.&nbsp</span><span class=\"barcode\"; style=\"color: black; background-color: #f2faef\">&nbspLA&nbsp</span><span class=\"barcode\"; style=\"color: black; background-color: #f2faf0\">&nbspPROLIFERAZIONE&nbsp</span><span class=\"barcode\"; style=\"color: black; background-color: #f4fbf1\">&nbspNEOPLASTICA&nbsp</span><span class=\"barcode\"; style=\"color: black; background-color: #f5fbf3\">&nbspE&nbsp</span><span class=\"barcode\"; style=\"color: black; background-color: #f5fbf3\">&nbsp'&nbsp</span><span class=\"barcode\"; style=\"color: black; background-color: #eaf7e6\">&nbspCONTENUTA&nbsp</span><span class=\"barcode\"; style=\"color: black; background-color: #eef8ea\">&nbspENTRO&nbsp</span><span class=\"barcode\"; style=\"color: black; background-color: #f5fbf2\">&nbspI&nbsp</span><span class=\"barcode\"; style=\"color: black; background-color: #eaf7e6\">&nbspMARGINI&nbsp</span><span class=\"barcode\"; style=\"color: black; background-color: #f1faee\">&nbspDEL&nbsp</span><span class=\"barcode\"; style=\"color: black; background-color: #edf8e9\">&nbspFRAMMENTO&nbsp</span><span class=\"barcode\"; style=\"color: black; background-color: #f3faf0\">&nbsp.&nbsp</span><span class=\"barcode\"; style=\"color: black; background-color: #eef8ea\">&nbspFRAMMENTO&nbsp</span><span class=\"barcode\"; style=\"color: black; background-color: #ddf2d8\">&nbspCUTANEO&nbsp</span><span class=\"barcode\"; style=\"color: black; background-color: #f5fbf3\">&nbspDI&nbsp</span><span class=\"barcode\"; style=\"color: black; background-color: #f6fcf4\">&nbspCM&nbsp</span><span class=\"barcode\"; style=\"color: black; background-color: #f6fcf4\">&nbsp1&nbsp</span><span class=\"barcode\"; style=\"color: black; background-color: #f6fcf4\">&nbsp,&nbsp</span><span class=\"barcode\"; style=\"color: black; background-color: #f6fcf4\">&nbsp6&nbsp</span><span class=\"barcode\"; style=\"color: black; background-color: #f5fbf2\">&nbspX&nbsp</span><span class=\"barcode\"; style=\"color: black; background-color: #f6fcf4\">&nbsp1&nbsp</span><span class=\"barcode\"; style=\"color: black; background-color: #f6fcf4\">&nbspCON&nbsp</span><span class=\"barcode\"; style=\"color: black; background-color: #f1faee\">&nbspLESIONE&nbsp</span><span class=\"barcode\"; style=\"color: black; background-color: #edf8e9\">&nbspDISCROMICA&nbsp</span><span class=\"barcode\"; style=\"color: black; background-color: #f6fcf4\">&nbspDI&nbsp</span><span class=\"barcode\"; style=\"color: black; background-color: #f6fcf4\">&nbspCM&nbsp</span><span class=\"barcode\"; style=\"color: black; background-color: #f6fcf4\">&nbsp1&nbsp</span><span class=\"barcode\"; style=\"color: black; background-color: #f7fcf5\">&nbsp,&nbsp</span><span class=\"barcode\"; style=\"color: black; background-color: #f6fcf4\">&nbsp1&nbsp</span><span class=\"barcode\"; style=\"color: black; background-color: #f5fbf3\">&nbspX&nbsp</span><span class=\"barcode\"; style=\"color: black; background-color: #f6fcf4\">&nbsp0&nbsp</span><span class=\"barcode\"; style=\"color: black; background-color: #f7fcf5\">&nbsp,&nbsp</span><span class=\"barcode\"; style=\"color: black; background-color: #f6fcf4\">&nbsp9&nbsp</span><span class=\"barcode\"; style=\"color: black; background-color: #f6fcf4\">&nbsp.&nbsp</span><span class=\"barcode\"; style=\"color: black; background-color: #f6fcf4\">&nbsp1&nbsp</span><span class=\"barcode\"; style=\"color: black; background-color: #f6fcf4\">&nbsp-&nbsp</span><span class=\"barcode\"; style=\"color: black; background-color: #f6fcf4\">&nbsp3&nbsp</span><span class=\"barcode\"; style=\"color: black; background-color: #f7fcf5\">&nbsp)&nbsp</span><span class=\"barcode\"; style=\"color: black; background-color: #f5fbf3\">&nbspSEZIONI&nbsp</span><span class=\"barcode\"; style=\"color: black; background-color: #f6fcf4\">&nbspA&nbsp</span><span class=\"barcode\"; style=\"color: black; background-color: #f1faee\">&nbspCROCE&nbsp</span><span class=\"barcode\"; style=\"color: black; background-color: #f6fcf4\">&nbsp(&nbsp</span><span class=\"barcode\"; style=\"color: black; background-color: #f4fbf2\">&nbspMARGINI&nbsp</span><span class=\"barcode\"; style=\"color: black; background-color: #f6fcf4\">&nbspMARCATI&nbsp</span><span class=\"barcode\"; style=\"color: black; background-color: #f7fcf5\">&nbspCON&nbsp</span><span class=\"barcode\"; style=\"color: black; background-color: #f6fcf4\">&nbspINCHIOSTRO&nbsp</span><span class=\"barcode\"; style=\"color: black; background-color: #f7fcf5\">&nbsp)&nbsp</span><span class=\"barcode\"; style=\"color: black; background-color: #f7fcf5\">&nbsp.&nbsp</span>"
      ],
      "text/plain": [
       "<IPython.core.display.HTML object>"
      ]
     },
     "metadata": {},
     "output_type": "display_data"
    },
    {
     "name": "stdout",
     "output_type": "stream",
     "text": [
      "======== doc:  27\n"
     ]
    },
    {
     "data": {
      "text/html": [
       "<span class=\"barcode\"; style=\"color: black; background-color: #f7fcf5\">&nbspNON&nbsp</span><span class=\"barcode\"; style=\"color: black; background-color: #f4fbf1\">&nbspFOCALITA&nbsp</span><span class=\"barcode\"; style=\"color: black; background-color: #f6fcf4\">&nbsp'&nbsp</span><span class=\"barcode\"; style=\"color: black; background-color: #f7fcf5\">&nbsp,&nbsp</span><span class=\"barcode\"; style=\"color: black; background-color: #eff9ec\">&nbspDISOMOGENEITA&nbsp</span><span class=\"barcode\"; style=\"color: black; background-color: #f6fcf4\">&nbsp'&nbsp</span><span class=\"barcode\"; style=\"color: black; background-color: #f4fbf2\">&nbspDIFFUSE&nbsp</span><span class=\"barcode\"; style=\"color: black; background-color: #f6fcf4\">&nbsp.&nbsp</span><span class=\"barcode\"; style=\"color: black; background-color: #e9f7e5\">&nbspPSA&nbsp</span><span class=\"barcode\"; style=\"color: black; background-color: #e3f4de\">&nbspTOT&nbsp</span><span class=\"barcode\"; style=\"color: black; background-color: #f6fcf4\">&nbsp:&nbsp</span><span class=\"barcode\"; style=\"color: black; background-color: #f6fcf4\">&nbsp19&nbsp</span><span class=\"barcode\"; style=\"color: black; background-color: #f6fcf4\">&nbsp,&nbsp</span><span class=\"barcode\"; style=\"color: black; background-color: #f4fbf1\">&nbsp54&nbsp</span><span class=\"barcode\"; style=\"color: black; background-color: #eff9ec\">&nbspNG&nbsp</span><span class=\"barcode\"; style=\"color: black; background-color: #f6fcf4\">&nbsp;&nbsp</span><span class=\"barcode\"; style=\"color: black; background-color: #f5fbf3\">&nbspFREE&nbsp</span><span class=\"barcode\"; style=\"color: black; background-color: #f6fcf4\">&nbsp:&nbsp</span><span class=\"barcode\"; style=\"color: black; background-color: #f6fcf4\">&nbsp1&nbsp</span><span class=\"barcode\"; style=\"color: black; background-color: #f6fcf4\">&nbsp,&nbsp</span><span class=\"barcode\"; style=\"color: black; background-color: #f5fbf3\">&nbsp31&nbsp</span><span class=\"barcode\"; style=\"color: black; background-color: #f2faf0\">&nbspNG&nbsp</span><span class=\"barcode\"; style=\"color: black; background-color: #f6fcf4\">&nbsp/&nbsp</span><span class=\"barcode\"; style=\"color: black; background-color: #f4fbf2\">&nbspML&nbsp</span><span class=\"barcode\"; style=\"color: black; background-color: #f6fcf4\">&nbsp.&nbsp</span><span class=\"barcode\"; style=\"color: black; background-color: #f5fbf3\">&nbspRAPP&nbsp</span><span class=\"barcode\"; style=\"color: black; background-color: #f6fcf4\">&nbsp:&nbsp</span><span class=\"barcode\"; style=\"color: black; background-color: #f6fcf4\">&nbsp0&nbsp</span><span class=\"barcode\"; style=\"color: black; background-color: #f7fcf5\">&nbsp,&nbsp</span><span class=\"barcode\"; style=\"color: black; background-color: #f5fbf3\">&nbsp07&nbsp</span><span class=\"barcode\"; style=\"color: black; background-color: #f2faef\">&nbsp%&nbsp</span><span class=\"barcode\"; style=\"color: black; background-color: #f5fbf3\">&nbsp.&nbsp</span><span class=\"barcode\"; style=\"color: black; background-color: #e7f6e2\">&nbspADENOCARCINOMA&nbsp</span><span class=\"barcode\"; style=\"color: black; background-color: #c0e6b9\">&nbspPROSTATICO&nbsp</span><span class=\"barcode\"; style=\"color: black; background-color: #f6fcf4\">&nbspA&nbsp</span><span class=\"barcode\"; style=\"color: black; background-color: #f2faef\">&nbspMEDIO&nbsp</span><span class=\"barcode\"; style=\"color: black; background-color: #f2faf0\">&nbspGRADO&nbsp</span><span class=\"barcode\"; style=\"color: black; background-color: #f6fcf4\">&nbspDI&nbsp</span><span class=\"barcode\"; style=\"color: black; background-color: #f0f9ed\">&nbspDIFFERENZIAZIONE&nbsp</span><span class=\"barcode\"; style=\"color: black; background-color: #f4fbf1\">&nbsp(&nbsp</span><span class=\"barcode\"; style=\"color: black; background-color: #d9f0d3\">&nbspGLEASON&nbsp</span><span class=\"barcode\"; style=\"color: black; background-color: #f4fbf1\">&nbsp3&nbsp</span><span class=\"barcode\"; style=\"color: black; background-color: #f5fbf2\">&nbsp+&nbsp</span><span class=\"barcode\"; style=\"color: black; background-color: #f5fbf2\">&nbsp3&nbsp</span><span class=\"barcode\"; style=\"color: black; background-color: #f6fcf4\">&nbsp)&nbsp</span><span class=\"barcode\"; style=\"color: black; background-color: #f2faf0\">&nbspCOINVOLGENTE&nbsp</span><span class=\"barcode\"; style=\"color: black; background-color: #f6fcf4\">&nbspFOCALMENTE&nbsp</span><span class=\"barcode\"; style=\"color: black; background-color: #f5fbf3\">&nbspI&nbsp</span><span class=\"barcode\"; style=\"color: black; background-color: #f5fbf2\">&nbspPRELIEVI&nbsp</span><span class=\"barcode\"; style=\"color: black; background-color: #f6fcf4\">&nbspDI&nbsp</span><span class=\"barcode\"; style=\"color: black; background-color: #f6fcf4\">&nbspCUI&nbsp</span><span class=\"barcode\"; style=\"color: black; background-color: #f6fcf4\">&nbspAI&nbsp</span><span class=\"barcode\"; style=\"color: black; background-color: #f6fcf4\">&nbspNN&nbsp</span><span class=\"barcode\"; style=\"color: black; background-color: #f7fcf5\">&nbsp1&nbsp</span><span class=\"barcode\"; style=\"color: black; background-color: #f6fcf4\">&nbspE&nbsp</span><span class=\"barcode\"; style=\"color: black; background-color: #f6fcf4\">&nbsp7&nbsp</span><span class=\"barcode\"; style=\"color: black; background-color: #f6fcf4\">&nbsp.&nbsp</span><span class=\"barcode\"; style=\"color: black; background-color: #f1faee\">&nbspAGOBIOPSIA&nbsp</span><span class=\"barcode\"; style=\"color: black; background-color: #f5fbf2\">&nbspDELLA&nbsp</span><span class=\"barcode\"; style=\"color: black; background-color: #ddf2d8\">&nbspPROSTATA&nbsp</span><span class=\"barcode\"; style=\"color: black; background-color: #f5fbf3\">&nbsp:&nbsp</span><span class=\"barcode\"; style=\"color: black; background-color: #f6fcf4\">&nbsp1&nbsp</span><span class=\"barcode\"; style=\"color: black; background-color: #f6fcf4\">&nbsp)&nbsp</span><span class=\"barcode\"; style=\"color: black; background-color: #f6fcf4\">&nbsp1&nbsp</span><span class=\"barcode\"; style=\"color: black; background-color: #f5fbf2\">&nbspPRELIEVO&nbsp</span><span class=\"barcode\"; style=\"color: black; background-color: #ecf8e8\">&nbspLL&nbsp</span><span class=\"barcode\"; style=\"color: black; background-color: #f2faef\">&nbspDX&nbsp</span><span class=\"barcode\"; style=\"color: black; background-color: #f6fcf4\">&nbsp.&nbsp</span><span class=\"barcode\"; style=\"color: black; background-color: #f6fcf4\">&nbsp2&nbsp</span><span class=\"barcode\"; style=\"color: black; background-color: #f6fcf4\">&nbsp)&nbsp</span><span class=\"barcode\"; style=\"color: black; background-color: #f6fcf4\">&nbsp1&nbsp</span><span class=\"barcode\"; style=\"color: black; background-color: #f6fcf4\">&nbspPRELIEVO&nbsp</span><span class=\"barcode\"; style=\"color: black; background-color: #f3faf0\">&nbspML&nbsp</span><span class=\"barcode\"; style=\"color: black; background-color: #f1faee\">&nbspDX&nbsp</span><span class=\"barcode\"; style=\"color: black; background-color: #f6fcf4\">&nbsp.&nbsp</span><span class=\"barcode\"; style=\"color: black; background-color: #f5fbf3\">&nbsp3&nbsp</span><span class=\"barcode\"; style=\"color: black; background-color: #f6fcf4\">&nbsp)&nbsp</span><span class=\"barcode\"; style=\"color: black; background-color: #f6fcf4\">&nbsp1&nbsp</span><span class=\"barcode\"; style=\"color: black; background-color: #f6fcf4\">&nbspPRELIEVO&nbsp</span><span class=\"barcode\"; style=\"color: black; background-color: #f5fbf2\">&nbspM&nbsp</span><span class=\"barcode\"; style=\"color: black; background-color: #f1faee\">&nbspDX&nbsp</span><span class=\"barcode\"; style=\"color: black; background-color: #f6fcf4\">&nbsp.&nbsp</span><span class=\"barcode\"; style=\"color: black; background-color: #f6fcf4\">&nbsp4&nbsp</span><span class=\"barcode\"; style=\"color: black; background-color: #f6fcf4\">&nbsp)&nbsp</span><span class=\"barcode\"; style=\"color: black; background-color: #f6fcf4\">&nbsp1&nbsp</span><span class=\"barcode\"; style=\"color: black; background-color: #f6fcf4\">&nbspPRELIEVO&nbsp</span><span class=\"barcode\"; style=\"color: black; background-color: #f5fbf2\">&nbspM&nbsp</span><span class=\"barcode\"; style=\"color: black; background-color: #f0f9ed\">&nbspSX&nbsp</span><span class=\"barcode\"; style=\"color: black; background-color: #f6fcf4\">&nbsp.&nbsp</span><span class=\"barcode\"; style=\"color: black; background-color: #f5fbf3\">&nbsp5&nbsp</span><span class=\"barcode\"; style=\"color: black; background-color: #f6fcf4\">&nbsp)&nbsp</span><span class=\"barcode\"; style=\"color: black; background-color: #f6fcf4\">&nbsp1&nbsp</span><span class=\"barcode\"; style=\"color: black; background-color: #f5fbf3\">&nbspPRELIEVO&nbsp</span><span class=\"barcode\"; style=\"color: black; background-color: #f2faf0\">&nbspML&nbsp</span><span class=\"barcode\"; style=\"color: black; background-color: #f0f9ed\">&nbspSX&nbsp</span><span class=\"barcode\"; style=\"color: black; background-color: #f6fcf4\">&nbsp.&nbsp</span><span class=\"barcode\"; style=\"color: black; background-color: #f5fbf3\">&nbsp6&nbsp</span><span class=\"barcode\"; style=\"color: black; background-color: #f6fcf4\">&nbsp)&nbsp</span><span class=\"barcode\"; style=\"color: black; background-color: #f6fcf4\">&nbsp1&nbsp</span><span class=\"barcode\"; style=\"color: black; background-color: #f5fbf2\">&nbspPRELIEVO&nbsp</span>"
      ],
      "text/plain": [
       "<IPython.core.display.HTML object>"
      ]
     },
     "metadata": {},
     "output_type": "display_data"
    },
    {
     "name": "stdout",
     "output_type": "stream",
     "text": [
      "======== doc:  28\n"
     ]
    },
    {
     "data": {
      "text/html": [
       "<span class=\"barcode\"; style=\"color: black; background-color: #e7f6e3\">&nbspPSA&nbsp</span><span class=\"barcode\"; style=\"color: black; background-color: #f6fcf4\">&nbsp15&nbsp</span><span class=\"barcode\"; style=\"color: black; background-color: #f6fcf4\">&nbsp.&nbsp</span><span class=\"barcode\"; style=\"color: black; background-color: #f4fbf1\">&nbspSOSPETTA&nbsp</span><span class=\"barcode\"; style=\"color: black; background-color: #f6fcf4\">&nbspNEOPLASIA&nbsp</span><span class=\"barcode\"; style=\"color: black; background-color: #e0f3db\">&nbspPROSTATICA&nbsp</span><span class=\"barcode\"; style=\"color: black; background-color: #f6fcf4\">&nbspSU&nbsp</span><span class=\"barcode\"; style=\"color: black; background-color: #f1faee\">&nbspBASE&nbsp</span><span class=\"barcode\"; style=\"color: black; background-color: #f6fcf4\">&nbsp:&nbsp</span><span class=\"barcode\"; style=\"color: black; background-color: #eff9ec\">&nbspCLINICA&nbsp</span><span class=\"barcode\"; style=\"color: black; background-color: #f6fcf4\">&nbsp,&nbsp</span><span class=\"barcode\"; style=\"color: black; background-color: #e5f5e1\">&nbspECOGRAFICA&nbsp</span><span class=\"barcode\"; style=\"color: black; background-color: #f6fcf4\">&nbspA&nbsp</span><span class=\"barcode\"; style=\"color: black; background-color: #f0f9ed\">&nbspDX&nbsp</span><span class=\"barcode\"; style=\"color: black; background-color: #f5fbf2\">&nbsp.&nbsp</span><span class=\"barcode\"; style=\"color: black; background-color: #def2d9\">&nbspADENOCARCINOMA&nbsp</span><span class=\"barcode\"; style=\"color: black; background-color: #b1e0ab\">&nbspPROSTATICO&nbsp</span><span class=\"barcode\"; style=\"color: black; background-color: #f4fbf2\">&nbspA&nbsp</span><span class=\"barcode\"; style=\"color: black; background-color: #f0f9ed\">&nbspGRADO&nbsp</span><span class=\"barcode\"; style=\"color: black; background-color: #f4fbf2\">&nbspDI&nbsp</span><span class=\"barcode\"; style=\"color: black; background-color: #eef8ea\">&nbspDIFFERENZIAZIONE&nbsp</span><span class=\"barcode\"; style=\"color: black; background-color: #eff9ec\">&nbspMEDIO&nbsp</span><span class=\"barcode\"; style=\"color: black; background-color: #f1faee\">&nbsp-&nbsp</span><span class=\"barcode\"; style=\"color: black; background-color: #f2faef\">&nbspBASSO&nbsp</span><span class=\"barcode\"; style=\"color: black; background-color: #f2faef\">&nbsp(&nbsp</span><span class=\"barcode\"; style=\"color: black; background-color: #d7efd1\">&nbspGLEASON&nbsp</span><span class=\"barcode\"; style=\"color: black; background-color: #f3faf0\">&nbsp3&nbsp</span><span class=\"barcode\"; style=\"color: black; background-color: #f4fbf1\">&nbsp+&nbsp</span><span class=\"barcode\"; style=\"color: black; background-color: #f4fbf1\">&nbsp4&nbsp</span><span class=\"barcode\"; style=\"color: black; background-color: #f4fbf2\">&nbsp)&nbsp</span><span class=\"barcode\"; style=\"color: black; background-color: #f4fbf1\">&nbspIN&nbsp</span><span class=\"barcode\"; style=\"color: black; background-color: #f1faee\">&nbspTUTTI&nbsp</span><span class=\"barcode\"; style=\"color: black; background-color: #f2faef\">&nbspI&nbsp</span><span class=\"barcode\"; style=\"color: black; background-color: #eef8ea\">&nbspFRUSTOLI&nbsp</span><span class=\"barcode\"; style=\"color: black; background-color: #f4fbf1\">&nbspINVIATI&nbsp</span><span class=\"barcode\"; style=\"color: black; background-color: #f4fbf2\">&nbsp(&nbsp</span><span class=\"barcode\"; style=\"color: black; background-color: #f5fbf2\">&nbspNN&nbsp</span><span class=\"barcode\"; style=\"color: black; background-color: #f6fcf4\">&nbsp.&nbsp</span><span class=\"barcode\"; style=\"color: black; background-color: #f5fbf3\">&nbsp1&nbsp</span><span class=\"barcode\"; style=\"color: black; background-color: #f5fbf3\">&nbsp-&nbsp</span><span class=\"barcode\"; style=\"color: black; background-color: #f6fcf4\">&nbsp2&nbsp</span><span class=\"barcode\"; style=\"color: black; background-color: #f5fbf3\">&nbsp)&nbsp</span><span class=\"barcode\"; style=\"color: black; background-color: #f6fcf4\">&nbsp.&nbsp</span>"
      ],
      "text/plain": [
       "<IPython.core.display.HTML object>"
      ]
     },
     "metadata": {},
     "output_type": "display_data"
    },
    {
     "name": "stdout",
     "output_type": "stream",
     "text": [
      "======== doc:  29\n"
     ]
    },
    {
     "data": {
      "text/html": [
       "<span class=\"barcode\"; style=\"color: black; background-color: #ebf7e7\">&nbspCARCINOMA&nbsp</span><span class=\"barcode\"; style=\"color: black; background-color: #b1e0ab\">&nbspBASOCELLULARE&nbsp</span><span class=\"barcode\"; style=\"color: black; background-color: #d5efcf\">&nbspPIGMENTATO&nbsp</span><span class=\"barcode\"; style=\"color: black; background-color: #f2faef\">&nbsp;&nbsp</span><span class=\"barcode\"; style=\"color: black; background-color: #e5f5e1\">&nbspMARGINI&nbsp</span><span class=\"barcode\"; style=\"color: black; background-color: #dbf1d6\">&nbspNEGATIVI&nbsp</span><span class=\"barcode\"; style=\"color: black; background-color: #f2faf0\">&nbsp.&nbsp</span><span class=\"barcode\"; style=\"color: black; background-color: #f5fbf2\">&nbspA&nbsp</span><span class=\"barcode\"; style=\"color: black; background-color: #f6fcf4\">&nbsp)&nbsp</span><span class=\"barcode\"; style=\"color: black; background-color: #ecf8e8\">&nbspBIOPSIA&nbsp</span><span class=\"barcode\"; style=\"color: black; background-color: #dff3da\">&nbspESCISSIONALE&nbsp</span><span class=\"barcode\"; style=\"color: black; background-color: #f4fbf2\">&nbspDI&nbsp</span><span class=\"barcode\"; style=\"color: black; background-color: #ecf8e8\">&nbspLESIONE&nbsp</span><span class=\"barcode\"; style=\"color: black; background-color: #d7efd1\">&nbspCUTANEA&nbsp</span><span class=\"barcode\"; style=\"color: black; background-color: #e3f4de\">&nbspPIGMENTATA&nbsp</span><span class=\"barcode\"; style=\"color: black; background-color: #f1faee\">&nbspDELLA&nbsp</span><span class=\"barcode\"; style=\"color: black; background-color: #dbf1d5\">&nbspSPALLA&nbsp</span><span class=\"barcode\"; style=\"color: black; background-color: #eff9ec\">&nbspSINISTRA&nbsp</span><span class=\"barcode\"; style=\"color: black; background-color: #f6fcf4\">&nbsp,&nbsp</span><span class=\"barcode\"; style=\"color: black; background-color: #f5fbf3\">&nbspDIMENSIONI&nbsp</span><span class=\"barcode\"; style=\"color: black; background-color: #f6fcf4\">&nbsp5&nbsp</span><span class=\"barcode\"; style=\"color: black; background-color: #f5fbf3\">&nbspX&nbsp</span><span class=\"barcode\"; style=\"color: black; background-color: #f6fcf4\">&nbsp4&nbsp</span><span class=\"barcode\"; style=\"color: black; background-color: #f3faf0\">&nbspMM&nbsp</span><span class=\"barcode\"; style=\"color: black; background-color: #f6fcf4\">&nbsp,&nbsp</span><span class=\"barcode\"; style=\"color: black; background-color: #f6fcf4\">&nbspIN&nbsp</span><span class=\"barcode\"; style=\"color: black; background-color: #f5fbf2\">&nbspFRAMMENTO&nbsp</span><span class=\"barcode\"; style=\"color: black; background-color: #f6fcf4\">&nbsp8&nbsp</span><span class=\"barcode\"; style=\"color: black; background-color: #f5fbf3\">&nbspX&nbsp</span><span class=\"barcode\"; style=\"color: black; background-color: #f5fbf3\">&nbsp6X&nbsp</span><span class=\"barcode\"; style=\"color: black; background-color: #f6fcf4\">&nbsp3&nbsp</span><span class=\"barcode\"; style=\"color: black; background-color: #f4fbf2\">&nbspMM&nbsp</span><span class=\"barcode\"; style=\"color: black; background-color: #f6fcf4\">&nbsp;&nbsp</span><span class=\"barcode\"; style=\"color: black; background-color: #f2faf0\">&nbspDISTANZA&nbsp</span><span class=\"barcode\"; style=\"color: black; background-color: #f1faee\">&nbspMINIMA&nbsp</span><span class=\"barcode\"; style=\"color: black; background-color: #f3faf0\">&nbspDAL&nbsp</span><span class=\"barcode\"; style=\"color: black; background-color: #f5fbf3\">&nbspMARGINE&nbsp</span><span class=\"barcode\"; style=\"color: black; background-color: #f6fcf4\">&nbsp0&nbsp</span><span class=\"barcode\"; style=\"color: black; background-color: #f4fbf2\">&nbspMM&nbsp</span><span class=\"barcode\"; style=\"color: black; background-color: #f6fcf4\">&nbsp.&nbsp</span>"
      ],
      "text/plain": [
       "<IPython.core.display.HTML object>"
      ]
     },
     "metadata": {},
     "output_type": "display_data"
    },
    {
     "name": "stdout",
     "output_type": "stream",
     "text": [
      "======== doc:  30\n"
     ]
    },
    {
     "data": {
      "text/html": [
       "<span class=\"barcode\"; style=\"color: black; background-color: #edf8e9\">&nbspADENOCARCINOMA&nbsp</span><span class=\"barcode\"; style=\"color: black; background-color: #b6e2af\">&nbspPROSTATICO&nbsp</span><span class=\"barcode\"; style=\"color: black; background-color: #f5fbf3\">&nbspA&nbsp</span><span class=\"barcode\"; style=\"color: black; background-color: #f1faee\">&nbspMEDIO&nbsp</span><span class=\"barcode\"; style=\"color: black; background-color: #f2faf0\">&nbspGRADO&nbsp</span><span class=\"barcode\"; style=\"color: black; background-color: #f6fcf4\">&nbspDI&nbsp</span><span class=\"barcode\"; style=\"color: black; background-color: #eff9ec\">&nbspDIFFERENZIAZIONE&nbsp</span><span class=\"barcode\"; style=\"color: black; background-color: #f4fbf1\">&nbsp(&nbsp</span><span class=\"barcode\"; style=\"color: black; background-color: #d4eece\">&nbspGLEASON&nbsp</span><span class=\"barcode\"; style=\"color: black; background-color: #f3faf0\">&nbsp3&nbsp</span><span class=\"barcode\"; style=\"color: black; background-color: #f4fbf2\">&nbsp+&nbsp</span><span class=\"barcode\"; style=\"color: black; background-color: #f4fbf1\">&nbsp3&nbsp</span><span class=\"barcode\"; style=\"color: black; background-color: #f5fbf2\">&nbsp)&nbsp</span><span class=\"barcode\"; style=\"color: black; background-color: #f1faee\">&nbspCOINVOLGENTE&nbsp</span><span class=\"barcode\"; style=\"color: black; background-color: #f4fbf1\">&nbspI&nbsp</span><span class=\"barcode\"; style=\"color: black; background-color: #f4fbf2\">&nbsp3&nbsp</span><span class=\"barcode\"; style=\"color: black; background-color: #f4fbf2\">&nbspFRAMMENTI&nbsp</span><span class=\"barcode\"; style=\"color: black; background-color: #eaf7e6\">&nbspPRELEVATI&nbsp</span><span class=\"barcode\"; style=\"color: black; background-color: #f2faf0\">&nbspDAL&nbsp</span><span class=\"barcode\"; style=\"color: black; background-color: #e5f5e1\">&nbspLOBO&nbsp</span><span class=\"barcode\"; style=\"color: black; background-color: #f0f9ec\">&nbspDESTRO&nbsp</span><span class=\"barcode\"; style=\"color: black; background-color: #f4fbf2\">&nbsp(&nbsp</span><span class=\"barcode\"; style=\"color: black; background-color: #f4fbf1\">&nbsp25&nbsp</span><span class=\"barcode\"; style=\"color: black; background-color: #f2faf0\">&nbsp%&nbsp</span><span class=\"barcode\"; style=\"color: black; background-color: #f6fcf4\">&nbspDEL&nbsp</span><span class=\"barcode\"; style=\"color: black; background-color: #f2faef\">&nbspTESSUTO&nbsp</span><span class=\"barcode\"; style=\"color: black; background-color: #f6fcf4\">&nbsp)&nbsp</span><span class=\"barcode\"; style=\"color: black; background-color: #f5fbf3\">&nbsp(&nbsp</span><span class=\"barcode\"; style=\"color: black; background-color: #f6fcf4\">&nbsp1&nbsp</span><span class=\"barcode\"; style=\"color: black; background-color: #f6fcf4\">&nbsp-&nbsp</span><span class=\"barcode\"; style=\"color: black; background-color: #f6fcf4\">&nbsp3&nbsp</span><span class=\"barcode\"; style=\"color: black; background-color: #f6fcf4\">&nbsp)&nbsp</span><span class=\"barcode\"; style=\"color: black; background-color: #f6fcf4\">&nbspE&nbsp</span><span class=\"barcode\"; style=\"color: black; background-color: #f6fcf4\">&nbsp2&nbsp</span><span class=\"barcode\"; style=\"color: black; background-color: #f6fcf4\">&nbspDEI&nbsp</span><span class=\"barcode\"; style=\"color: black; background-color: #f5fbf2\">&nbsp3&nbsp</span><span class=\"barcode\"; style=\"color: black; background-color: #edf8ea\">&nbspPRELEVATI&nbsp</span><span class=\"barcode\"; style=\"color: black; background-color: #f4fbf2\">&nbspDAL&nbsp</span><span class=\"barcode\"; style=\"color: black; background-color: #e9f7e5\">&nbspLOBO&nbsp</span><span class=\"barcode\"; style=\"color: black; background-color: #f1faee\">&nbspSINISTRO&nbsp</span><span class=\"barcode\"; style=\"color: black; background-color: #f5fbf2\">&nbsp(&nbsp</span><span class=\"barcode\"; style=\"color: black; background-color: #f5fbf2\">&nbsp25&nbsp</span><span class=\"barcode\"; style=\"color: black; background-color: #f3faf0\">&nbsp%&nbsp</span><span class=\"barcode\"; style=\"color: black; background-color: #f6fcf4\">&nbspDEL&nbsp</span><span class=\"barcode\"; style=\"color: black; background-color: #f4fbf1\">&nbspTESSUTO&nbsp</span><span class=\"barcode\"; style=\"color: black; background-color: #f6fcf4\">&nbsp)&nbsp</span><span class=\"barcode\"; style=\"color: black; background-color: #f6fcf4\">&nbsp(&nbsp</span><span class=\"barcode\"; style=\"color: black; background-color: #f6fcf4\">&nbsp4&nbsp</span><span class=\"barcode\"; style=\"color: black; background-color: #f6fcf4\">&nbsp-&nbsp</span><span class=\"barcode\"; style=\"color: black; background-color: #f6fcf4\">&nbsp6&nbsp</span><span class=\"barcode\"; style=\"color: black; background-color: #f6fcf4\">&nbsp)&nbsp</span><span class=\"barcode\"; style=\"color: black; background-color: #f6fcf4\">&nbsp.&nbsp</span><span class=\"barcode\"; style=\"color: black; background-color: #f5fbf3\">&nbspASSENZA&nbsp</span><span class=\"barcode\"; style=\"color: black; background-color: #f6fcf4\">&nbspDI&nbsp</span><span class=\"barcode\"; style=\"color: black; background-color: #f5fbf3\">&nbspEVIDENTE&nbsp</span><span class=\"barcode\"; style=\"color: black; background-color: #f5fbf2\">&nbspINVASIONE&nbsp</span><span class=\"barcode\"; style=\"color: black; background-color: #f4fbf2\">&nbspPERINEURALE&nbsp</span><span class=\"barcode\"; style=\"color: black; background-color: #f6fcf4\">&nbspO&nbsp</span><span class=\"barcode\"; style=\"color: black; background-color: #f5fbf3\">&nbspVASCOLARE&nbsp</span><span class=\"barcode\"; style=\"color: black; background-color: #f6fcf4\">&nbsp.&nbsp</span><span class=\"barcode\"; style=\"color: black; background-color: #f5fbf3\">&nbspPRELIEVI&nbsp</span><span class=\"barcode\"; style=\"color: black; background-color: #edf8e9\">&nbspLOBO&nbsp</span><span class=\"barcode\"; style=\"color: black; background-color: #f3faf0\">&nbspDX&nbsp</span><span class=\"barcode\"; style=\"color: black; background-color: #f6fcf4\">&nbsp:&nbsp</span><span class=\"barcode\"; style=\"color: black; background-color: #f6fcf4\">&nbsp1&nbsp</span><span class=\"barcode\"; style=\"color: black; background-color: #f6fcf4\">&nbsp)&nbsp</span><span class=\"barcode\"; style=\"color: black; background-color: #f5fbf2\">&nbspBASALE&nbsp</span><span class=\"barcode\"; style=\"color: black; background-color: #f4fbf2\">&nbspPOSTERO&nbsp</span><span class=\"barcode\"; style=\"color: black; background-color: #f6fcf4\">&nbsp-&nbsp</span><span class=\"barcode\"; style=\"color: black; background-color: #f5fbf3\">&nbspLATERALE&nbsp</span><span class=\"barcode\"; style=\"color: black; background-color: #f6fcf4\">&nbsp;&nbsp</span><span class=\"barcode\"; style=\"color: black; background-color: #f7fcf5\">&nbsp2&nbsp</span><span class=\"barcode\"; style=\"color: black; background-color: #f7fcf5\">&nbsp)&nbsp</span><span class=\"barcode\"; style=\"color: black; background-color: #f6fcf4\">&nbspMEDIO&nbsp</span><span class=\"barcode\"; style=\"color: black; background-color: #f6fcf4\">&nbsp-&nbsp</span><span class=\"barcode\"; style=\"color: black; background-color: #edf8ea\">&nbspLOBARE&nbsp</span><span class=\"barcode\"; style=\"color: black; background-color: #f5fbf2\">&nbspLATERALE&nbsp</span><span class=\"barcode\"; style=\"color: black; background-color: #f5fbf3\">&nbsp;&nbsp</span><span class=\"barcode\"; style=\"color: black; background-color: #f6fcf4\">&nbsp3&nbsp</span><span class=\"barcode\"; style=\"color: black; background-color: #f6fcf4\">&nbsp)&nbsp</span><span class=\"barcode\"; style=\"color: black; background-color: #edf8ea\">&nbspAPICE&nbsp</span><span class=\"barcode\"; style=\"color: black; background-color: #f6fcf4\">&nbsp.&nbsp</span><span class=\"barcode\"; style=\"color: black; background-color: #f4fbf2\">&nbspPRELIEVI&nbsp</span><span class=\"barcode\"; style=\"color: black; background-color: #ecf8e8\">&nbspLOBO&nbsp</span><span class=\"barcode\"; style=\"color: black; background-color: #f2faef\">&nbspSX&nbsp</span><span class=\"barcode\"; style=\"color: black; background-color: #f6fcf4\">&nbsp:&nbsp</span><span class=\"barcode\"; style=\"color: black; background-color: #f6fcf4\">&nbsp4&nbsp</span><span class=\"barcode\"; style=\"color: black; background-color: #f6fcf4\">&nbsp)&nbsp</span><span class=\"barcode\"; style=\"color: black; background-color: #f5fbf2\">&nbspBASALE&nbsp</span><span class=\"barcode\"; style=\"color: black; background-color: #f4fbf1\">&nbspPOSTERO&nbsp</span><span class=\"barcode\"; style=\"color: black; background-color: #f6fcf4\">&nbsp-&nbsp</span><span class=\"barcode\"; style=\"color: black; background-color: #f5fbf3\">&nbspLATERALE&nbsp</span><span class=\"barcode\"; style=\"color: black; background-color: #f6fcf4\">&nbsp;&nbsp</span><span class=\"barcode\"; style=\"color: black; background-color: #f6fcf4\">&nbsp5&nbsp</span><span class=\"barcode\"; style=\"color: black; background-color: #f6fcf4\">&nbsp)&nbsp</span><span class=\"barcode\"; style=\"color: black; background-color: #f5fbf3\">&nbspMEDIO&nbsp</span><span class=\"barcode\"; style=\"color: black; background-color: #f6fcf4\">&nbsp-&nbsp</span><span class=\"barcode\"; style=\"color: black; background-color: #edf8e9\">&nbspLOBARE&nbsp</span><span class=\"barcode\"; style=\"color: black; background-color: #f5fbf2\">&nbspLATERALE&nbsp</span><span class=\"barcode\"; style=\"color: black; background-color: #f5fbf2\">&nbsp;&nbsp</span>"
      ],
      "text/plain": [
       "<IPython.core.display.HTML object>"
      ]
     },
     "metadata": {},
     "output_type": "display_data"
    },
    {
     "name": "stdout",
     "output_type": "stream",
     "text": [
      "======== doc:  31\n"
     ]
    },
    {
     "data": {
      "text/html": [
       "<span class=\"barcode\"; style=\"color: black; background-color: #f0f9ec\">&nbspCARCINOMA&nbsp</span><span class=\"barcode\"; style=\"color: black; background-color: #f1faee\">&nbspA&nbsp</span><span class=\"barcode\"; style=\"color: black; background-color: #ebf7e7\">&nbspCELLULE&nbsp</span><span class=\"barcode\"; style=\"color: black; background-color: #ccebc6\">&nbspBASALI&nbsp</span><span class=\"barcode\"; style=\"color: black; background-color: #f0f9ed\">&nbsp.&nbsp</span><span class=\"barcode\"; style=\"color: black; background-color: #dff3da\">&nbspLESIONE&nbsp</span><span class=\"barcode\"; style=\"color: black; background-color: #f4fbf2\">&nbspNON&nbsp</span><span class=\"barcode\"; style=\"color: black; background-color: #e0f3db\">&nbspCOMPRESA&nbsp</span><span class=\"barcode\"; style=\"color: black; background-color: #f2faf0\">&nbspNEI&nbsp</span><span class=\"barcode\"; style=\"color: black; background-color: #e8f6e4\">&nbspMARGINI&nbsp</span><span class=\"barcode\"; style=\"color: black; background-color: #f4fbf2\">&nbspDI&nbsp</span><span class=\"barcode\"; style=\"color: black; background-color: #ecf8e8\">&nbspEXERESI&nbsp</span><span class=\"barcode\"; style=\"color: black; background-color: #e9f7e5\">&nbspCHIRURGICA&nbsp</span><span class=\"barcode\"; style=\"color: black; background-color: #f4fbf1\">&nbsp.&nbsp</span><span class=\"barcode\"; style=\"color: black; background-color: #ecf8e8\">&nbspLAMINA&nbsp</span><span class=\"barcode\"; style=\"color: black; background-color: #dbf1d5\">&nbspCUTANEA&nbsp</span><span class=\"barcode\"; style=\"color: black; background-color: #f5fbf3\">&nbspDI&nbsp</span><span class=\"barcode\"; style=\"color: black; background-color: #f6fcf4\">&nbspCM&nbsp</span><span class=\"barcode\"; style=\"color: black; background-color: #f6fcf4\">&nbsp.&nbsp</span><span class=\"barcode\"; style=\"color: black; background-color: #f6fcf4\">&nbsp0&nbsp</span><span class=\"barcode\"; style=\"color: black; background-color: #f7fcf5\">&nbsp,&nbsp</span><span class=\"barcode\"; style=\"color: black; background-color: #f6fcf4\">&nbsp8X0&nbsp</span><span class=\"barcode\"; style=\"color: black; background-color: #f7fcf5\">&nbsp,&nbsp</span><span class=\"barcode\"; style=\"color: black; background-color: #f7fcf5\">&nbsp5X0&nbsp</span><span class=\"barcode\"; style=\"color: black; background-color: #f7fcf5\">&nbsp,&nbsp</span><span class=\"barcode\"; style=\"color: black; background-color: #f7fcf5\">&nbsp1&nbsp</span><span class=\"barcode\"; style=\"color: black; background-color: #f7fcf5\">&nbspA&nbsp</span><span class=\"barcode\"; style=\"color: black; background-color: #f5fbf3\">&nbspSUPERFICIE&nbsp</span><span class=\"barcode\"; style=\"color: black; background-color: #f6fcf4\">&nbspIRREGOLARE&nbsp</span><span class=\"barcode\"; style=\"color: black; background-color: #f6fcf4\">&nbsp.&nbsp</span>"
      ],
      "text/plain": [
       "<IPython.core.display.HTML object>"
      ]
     },
     "metadata": {},
     "output_type": "display_data"
    },
    {
     "name": "stdout",
     "output_type": "stream",
     "text": [
      "======== doc:  32\n"
     ]
    },
    {
     "data": {
      "text/html": [
       "<span class=\"barcode\"; style=\"color: black; background-color: #eff9eb\">&nbspCARCINOMA&nbsp</span><span class=\"barcode\"; style=\"color: black; background-color: #bae3b3\">&nbspBASOCELLULARE&nbsp</span><span class=\"barcode\"; style=\"color: black; background-color: #ddf2d8\">&nbspULCERATO&nbsp</span><span class=\"barcode\"; style=\"color: black; background-color: #f3faf0\">&nbsp;&nbsp</span><span class=\"barcode\"; style=\"color: black; background-color: #e8f6e3\">&nbspMARGINI&nbsp</span><span class=\"barcode\"; style=\"color: black; background-color: #e1f3dc\">&nbspTRASVERSALI&nbsp</span><span class=\"barcode\"; style=\"color: black; background-color: #f6fcf4\">&nbsp,&nbsp</span><span class=\"barcode\"; style=\"color: black; background-color: #eaf7e6\">&nbspMARGINI&nbsp</span><span class=\"barcode\"; style=\"color: black; background-color: #e3f4de\">&nbspAPICALI&nbsp</span><span class=\"barcode\"; style=\"color: black; background-color: #f4fbf2\">&nbspE&nbsp</span><span class=\"barcode\"; style=\"color: black; background-color: #f0f9ec\">&nbspMARGINE&nbsp</span><span class=\"barcode\"; style=\"color: black; background-color: #e4f5df\">&nbspPROFONDO&nbsp</span><span class=\"barcode\"; style=\"color: black; background-color: #def2d9\">&nbspNEGATIVI&nbsp</span><span class=\"barcode\"; style=\"color: black; background-color: #f2faf0\">&nbsp.&nbsp</span><span class=\"barcode\"; style=\"color: black; background-color: #eaf7e6\">&nbspBIOPSIA&nbsp</span><span class=\"barcode\"; style=\"color: black; background-color: #e2f4dd\">&nbspESCISSIONALE&nbsp</span><span class=\"barcode\"; style=\"color: black; background-color: #f5fbf2\">&nbspDI&nbsp</span><span class=\"barcode\"; style=\"color: black; background-color: #f0f9ec\">&nbspNEOFORMAZIONE&nbsp</span><span class=\"barcode\"; style=\"color: black; background-color: #daf0d4\">&nbspCUTANEA&nbsp</span><span class=\"barcode\"; style=\"color: black; background-color: #f0f9ec\">&nbspDEL&nbsp</span><span class=\"barcode\"; style=\"color: black; background-color: #dbf1d5\">&nbspDORSO&nbsp</span><span class=\"barcode\"; style=\"color: black; background-color: #f6fcf4\">&nbsp,&nbsp</span><span class=\"barcode\"; style=\"color: black; background-color: #f2faef\">&nbspFRAMMENTO&nbsp</span><span class=\"barcode\"; style=\"color: black; background-color: #e1f3dc\">&nbspCUTANEO&nbsp</span><span class=\"barcode\"; style=\"color: black; background-color: #f3faf0\">&nbspMM&nbsp</span><span class=\"barcode\"; style=\"color: black; background-color: #f5fbf3\">&nbsp21&nbsp</span><span class=\"barcode\"; style=\"color: black; background-color: #f5fbf3\">&nbspX&nbsp</span><span class=\"barcode\"; style=\"color: black; background-color: #f6fcf4\">&nbsp20&nbsp</span><span class=\"barcode\"; style=\"color: black; background-color: #f6fcf4\">&nbspX&nbsp</span><span class=\"barcode\"; style=\"color: black; background-color: #f6fcf4\">&nbsp17&nbsp</span><span class=\"barcode\"; style=\"color: black; background-color: #f6fcf4\">&nbsp.&nbsp</span><span class=\"barcode\"; style=\"color: black; background-color: #f5fbf2\">&nbspT&nbsp</span><span class=\"barcode\"; style=\"color: black; background-color: #f6fcf4\">&nbsp)&nbsp</span><span class=\"barcode\"; style=\"color: black; background-color: #f4fbf1\">&nbspNEOFORMAZIONE&nbsp</span><span class=\"barcode\"; style=\"color: black; background-color: #f6fcf4\">&nbspCON&nbsp</span><span class=\"barcode\"; style=\"color: black; background-color: #f1faee\">&nbspMARGINI&nbsp</span><span class=\"barcode\"; style=\"color: black; background-color: #eff9ec\">&nbspTRASVERSALI&nbsp</span><span class=\"barcode\"; style=\"color: black; background-color: #f6fcf4\">&nbspE&nbsp</span><span class=\"barcode\"; style=\"color: black; background-color: #f5fbf3\">&nbspMARGINE&nbsp</span><span class=\"barcode\"; style=\"color: black; background-color: #f0f9ec\">&nbspPROFONDO&nbsp</span><span class=\"barcode\"; style=\"color: black; background-color: #f6fcf4\">&nbsp;&nbsp</span><span class=\"barcode\"; style=\"color: black; background-color: #f6fcf4\">&nbspMA&nbsp</span><span class=\"barcode\"; style=\"color: black; background-color: #f7fcf5\">&nbsp)&nbsp</span><span class=\"barcode\"; style=\"color: black; background-color: #f6fcf4\">&nbspMARGINE&nbsp</span><span class=\"barcode\"; style=\"color: black; background-color: #f3faf0\">&nbspAPICALE&nbsp</span><span class=\"barcode\"; style=\"color: black; background-color: #f6fcf4\">&nbsp;&nbsp</span><span class=\"barcode\"; style=\"color: black; background-color: #f5fbf3\">&nbspMB&nbsp</span><span class=\"barcode\"; style=\"color: black; background-color: #f7fcf5\">&nbsp)&nbsp</span><span class=\"barcode\"; style=\"color: black; background-color: #f6fcf4\">&nbspMARGINE&nbsp</span><span class=\"barcode\"; style=\"color: black; background-color: #f4fbf1\">&nbspAPICALE&nbsp</span><span class=\"barcode\"; style=\"color: black; background-color: #f4fbf2\">&nbspCONTROLATERALE&nbsp</span><span class=\"barcode\"; style=\"color: black; background-color: #f6fcf4\">&nbsp.&nbsp</span><span class=\"barcode\"; style=\"color: black; background-color: #f6fcf4\">&nbsp(&nbsp</span><span class=\"barcode\"; style=\"color: black; background-color: #f4fbf2\">&nbspMARGINI&nbsp</span><span class=\"barcode\"; style=\"color: black; background-color: #f6fcf4\">&nbspMARCATI&nbsp</span><span class=\"barcode\"; style=\"color: black; background-color: #f6fcf4\">&nbspCON&nbsp</span><span class=\"barcode\"; style=\"color: black; background-color: #f6fcf4\">&nbspINCHIOSTRO&nbsp</span><span class=\"barcode\"; style=\"color: black; background-color: #f6fcf4\">&nbspDI&nbsp</span><span class=\"barcode\"; style=\"color: black; background-color: #f5fbf2\">&nbspCHINA&nbsp</span><span class=\"barcode\"; style=\"color: black; background-color: #f7fcf5\">&nbsp)&nbsp</span><span class=\"barcode\"; style=\"color: black; background-color: #f6fcf4\">&nbsp.&nbsp</span>"
      ],
      "text/plain": [
       "<IPython.core.display.HTML object>"
      ]
     },
     "metadata": {},
     "output_type": "display_data"
    },
    {
     "name": "stdout",
     "output_type": "stream",
     "text": [
      "======== doc:  33\n"
     ]
    },
    {
     "data": {
      "text/html": [
       "<span class=\"barcode\"; style=\"color: black; background-color: #eef8ea\">&nbspCARCINOMA&nbsp</span><span class=\"barcode\"; style=\"color: black; background-color: #b6e2af\">&nbspBASOCELLULARE&nbsp</span><span class=\"barcode\"; style=\"color: black; background-color: #d7efd1\">&nbspULCERATO&nbsp</span><span class=\"barcode\"; style=\"color: black; background-color: #f1faee\">&nbspINFILTRANTE&nbsp</span><span class=\"barcode\"; style=\"color: black; background-color: #f0f9ec\">&nbspIL&nbsp</span><span class=\"barcode\"; style=\"color: black; background-color: #f1faee\">&nbspTESSUTO&nbsp</span><span class=\"barcode\"; style=\"color: black; background-color: #eef8ea\">&nbspCONNETTIVO&nbsp</span><span class=\"barcode\"; style=\"color: black; background-color: #eff9ec\">&nbspADIPOSO&nbsp</span><span class=\"barcode\"; style=\"color: black; background-color: #d2edcc\">&nbspIPODERMICO&nbsp</span><span class=\"barcode\"; style=\"color: black; background-color: #f5fbf2\">&nbsp.&nbsp</span><span class=\"barcode\"; style=\"color: black; background-color: #e2f4dd\">&nbspLIBERI&nbsp</span><span class=\"barcode\"; style=\"color: black; background-color: #f5fbf2\">&nbspDA&nbsp</span><span class=\"barcode\"; style=\"color: black; background-color: #f4fbf1\">&nbspPROLIFERAZIONE&nbsp</span><span class=\"barcode\"; style=\"color: black; background-color: #f4fbf2\">&nbspNEOPLASTICA&nbsp</span><span class=\"barcode\"; style=\"color: black; background-color: #f6fcf4\">&nbspI&nbsp</span><span class=\"barcode\"; style=\"color: black; background-color: #ecf8e8\">&nbspMARGINI&nbsp</span><span class=\"barcode\"; style=\"color: black; background-color: #f5fbf2\">&nbspDI&nbsp</span><span class=\"barcode\"; style=\"color: black; background-color: #f1faee\">&nbspRESEZIONE&nbsp</span><span class=\"barcode\"; style=\"color: black; background-color: #ebf7e7\">&nbspCHIRURGICA&nbsp</span><span class=\"barcode\"; style=\"color: black; background-color: #ebf7e7\">&nbspLATERALI&nbsp</span><span class=\"barcode\"; style=\"color: black; background-color: #f5fbf2\">&nbspE&nbsp</span><span class=\"barcode\"; style=\"color: black; background-color: #e7f6e3\">&nbspPROFONDO&nbsp</span><span class=\"barcode\"; style=\"color: black; background-color: #f4fbf2\">&nbsp.&nbsp</span><span class=\"barcode\"; style=\"color: black; background-color: #e5f5e0\">&nbspLOSANGA&nbsp</span><span class=\"barcode\"; style=\"color: black; background-color: #e1f3dc\">&nbspCUTANEA&nbsp</span><span class=\"barcode\"; style=\"color: black; background-color: #f6fcf4\">&nbspDI&nbsp</span><span class=\"barcode\"; style=\"color: black; background-color: #f7fcf5\">&nbspCM&nbsp</span><span class=\"barcode\"; style=\"color: black; background-color: #f7fcf5\">&nbsp2&nbsp</span><span class=\"barcode\"; style=\"color: black; background-color: #f7fcf5\">&nbsp,&nbsp</span><span class=\"barcode\"; style=\"color: black; background-color: #f7fcf5\">&nbsp4&nbsp</span><span class=\"barcode\"; style=\"color: black; background-color: #f6fcf4\">&nbspX&nbsp</span><span class=\"barcode\"; style=\"color: black; background-color: #f7fcf5\">&nbsp1&nbsp</span><span class=\"barcode\"; style=\"color: black; background-color: #f7fcf5\">&nbspCON&nbsp</span><span class=\"barcode\"; style=\"color: black; background-color: #f4fbf2\">&nbspNEOFORMAZIONE&nbsp</span><span class=\"barcode\"; style=\"color: black; background-color: #f1faee\">&nbspULCERATA&nbsp</span><span class=\"barcode\"; style=\"color: black; background-color: #f5fbf3\">&nbspDEL&nbsp</span><span class=\"barcode\"; style=\"color: black; background-color: #f7fcf5\">&nbspDIAMETRO&nbsp</span><span class=\"barcode\"; style=\"color: black; background-color: #f6fcf4\">&nbspDI&nbsp</span><span class=\"barcode\"; style=\"color: black; background-color: #f7fcf5\">&nbsp0&nbsp</span><span class=\"barcode\"; style=\"color: black; background-color: #f7fcf5\">&nbsp,&nbsp</span><span class=\"barcode\"; style=\"color: black; background-color: #f7fcf5\">&nbsp6&nbsp</span><span class=\"barcode\"; style=\"color: black; background-color: #f7fcf5\">&nbspCM&nbsp</span><span class=\"barcode\"; style=\"color: black; background-color: #f7fcf5\">&nbsp1&nbsp</span><span class=\"barcode\"; style=\"color: black; background-color: #f5fbf3\">&nbspCODE&nbsp</span><span class=\"barcode\"; style=\"color: black; background-color: #f7fcf5\">&nbsp2&nbsp</span><span class=\"barcode\"; style=\"color: black; background-color: #f7fcf5\">&nbsp-&nbsp</span><span class=\"barcode\"; style=\"color: black; background-color: #f7fcf5\">&nbsp4&nbsp</span><span class=\"barcode\"; style=\"color: black; background-color: #f6fcf4\">&nbspSEZIONI&nbsp</span><span class=\"barcode\"; style=\"color: black; background-color: #f6fcf4\">&nbspSERIATE&nbsp</span><span class=\"barcode\"; style=\"color: black; background-color: #f6fcf4\">&nbspNR&nbsp</span><span class=\"barcode\"; style=\"color: black; background-color: #f6fcf4\">&nbspMG&nbsp</span>"
      ],
      "text/plain": [
       "<IPython.core.display.HTML object>"
      ]
     },
     "metadata": {},
     "output_type": "display_data"
    },
    {
     "name": "stdout",
     "output_type": "stream",
     "text": [
      "======== doc:  34\n"
     ]
    },
    {
     "data": {
      "text/html": [
       "<span class=\"barcode\"; style=\"color: black; background-color: #f5fbf2\">&nbspOD&nbsp</span><span class=\"barcode\"; style=\"color: black; background-color: #f7fcf5\">&nbsp:&nbsp</span><span class=\"barcode\"; style=\"color: black; background-color: #f2faf0\">&nbspCARCINOMA&nbsp</span><span class=\"barcode\"; style=\"color: black; background-color: #e9f7e5\">&nbspSQUAMOCELLULARE&nbsp</span><span class=\"barcode\"; style=\"color: black; background-color: #f5fbf2\">&nbsp?&nbsp</span><span class=\"barcode\"; style=\"color: black; background-color: #f2faef\">&nbspCARCINOMA&nbsp</span><span class=\"barcode\"; style=\"color: black; background-color: #f6fcf4\">&nbspA&nbsp</span><span class=\"barcode\"; style=\"color: black; background-color: #f2faf0\">&nbspCELLULE&nbsp</span><span class=\"barcode\"; style=\"color: black; background-color: #ecf8e8\">&nbspSQUAMOSE&nbsp</span><span class=\"barcode\"; style=\"color: black; background-color: #f5fbf2\">&nbsp.&nbsp</span><span class=\"barcode\"; style=\"color: black; background-color: #f6fcf4\">&nbsp2&nbsp</span><span class=\"barcode\"; style=\"color: black; background-color: #f6fcf4\">&nbspFRAMMENTI&nbsp</span><span class=\"barcode\"; style=\"color: black; background-color: #f6fcf4\">&nbspNEL&nbsp</span><span class=\"barcode\"; style=\"color: black; background-color: #f6fcf4\">&nbspCOMPLESSO&nbsp</span><span class=\"barcode\"; style=\"color: black; background-color: #f7fcf5\">&nbspDI&nbsp</span><span class=\"barcode\"; style=\"color: black; background-color: #f7fcf5\">&nbspCM&nbsp</span><span class=\"barcode\"; style=\"color: black; background-color: #f7fcf5\">&nbsp0&nbsp</span><span class=\"barcode\"; style=\"color: black; background-color: #f7fcf5\">&nbsp,&nbsp</span><span class=\"barcode\"; style=\"color: black; background-color: #f7fcf5\">&nbsp5&nbsp</span><span class=\"barcode\"; style=\"color: black; background-color: #f6fcf4\">&nbspX&nbsp</span><span class=\"barcode\"; style=\"color: black; background-color: #f7fcf5\">&nbsp0&nbsp</span><span class=\"barcode\"; style=\"color: black; background-color: #f7fcf5\">&nbsp,&nbsp</span><span class=\"barcode\"; style=\"color: black; background-color: #f7fcf5\">&nbsp4&nbsp</span><span class=\"barcode\"; style=\"color: black; background-color: #f6fcf4\">&nbspX&nbsp</span><span class=\"barcode\"; style=\"color: black; background-color: #f7fcf5\">&nbsp0&nbsp</span><span class=\"barcode\"; style=\"color: black; background-color: #f7fcf5\">&nbsp,&nbsp</span><span class=\"barcode\"; style=\"color: black; background-color: #f7fcf5\">&nbsp3&nbsp</span><span class=\"barcode\"; style=\"color: black; background-color: #f7fcf5\">&nbsp(&nbsp</span><span class=\"barcode\"; style=\"color: black; background-color: #f7fcf5\">&nbspIN&nbsp</span><span class=\"barcode\"; style=\"color: black; background-color: #f7fcf5\">&nbspTOTO&nbsp</span><span class=\"barcode\"; style=\"color: black; background-color: #f7fcf5\">&nbsp)&nbsp</span>"
      ],
      "text/plain": [
       "<IPython.core.display.HTML object>"
      ]
     },
     "metadata": {},
     "output_type": "display_data"
    },
    {
     "name": "stdout",
     "output_type": "stream",
     "text": [
      "======== doc:  35\n"
     ]
    },
    {
     "data": {
      "text/html": [
       "<span class=\"barcode\"; style=\"color: black; background-color: #f5fbf2\">&nbsp1&nbsp</span><span class=\"barcode\"; style=\"color: black; background-color: #f4fbf2\">&nbsp-&nbsp</span><span class=\"barcode\"; style=\"color: black; background-color: #e8f6e4\">&nbspADENOMA&nbsp</span><span class=\"barcode\"; style=\"color: black; background-color: #e9f7e5\">&nbspTUBULO&nbsp</span><span class=\"barcode\"; style=\"color: black; background-color: #f0f9ed\">&nbsp-&nbsp</span><span class=\"barcode\"; style=\"color: black; background-color: #e8f6e4\">&nbspVILLOSO&nbsp</span><span class=\"barcode\"; style=\"color: black; background-color: #e7f6e2\">&nbspINTESTINALE&nbsp</span><span class=\"barcode\"; style=\"color: black; background-color: #f5fbf2\">&nbspCON&nbsp</span><span class=\"barcode\"; style=\"color: black; background-color: #f4fbf2\">&nbspDISPLASIA&nbsp</span><span class=\"barcode\"; style=\"color: black; background-color: #f5fbf3\">&nbspGRAVE&nbsp</span><span class=\"barcode\"; style=\"color: black; background-color: #f6fcf4\">&nbspDELLE&nbsp</span><span class=\"barcode\"; style=\"color: black; background-color: #f5fbf3\">&nbspSTRUTTURE&nbsp</span><span class=\"barcode\"; style=\"color: black; background-color: #f5fbf3\">&nbspGHIANDOLARI&nbsp</span><span class=\"barcode\"; style=\"color: black; background-color: #f7fcf5\">&nbspE&nbsp</span><span class=\"barcode\"; style=\"color: black; background-color: #f7fcf5\">&nbspFOCALE&nbsp</span><span class=\"barcode\"; style=\"color: black; background-color: #f5fbf2\">&nbspTRASFORMAZIONE&nbsp</span><span class=\"barcode\"; style=\"color: black; background-color: #f2faef\">&nbspADENOCARCINOMATOSA&nbsp</span><span class=\"barcode\"; style=\"color: black; background-color: #f7fcf5\">&nbspA&nbsp</span><span class=\"barcode\"; style=\"color: black; background-color: #f6fcf4\">&nbspELEVATO&nbsp</span><span class=\"barcode\"; style=\"color: black; background-color: #f6fcf4\">&nbspGRADO&nbsp</span><span class=\"barcode\"; style=\"color: black; background-color: #f7fcf5\">&nbspDI&nbsp</span><span class=\"barcode\"; style=\"color: black; background-color: #f5fbf3\">&nbspDIFFERENZIAZIONE&nbsp</span><span class=\"barcode\"; style=\"color: black; background-color: #f4fbf1\">&nbspINTRAMUCOSA&nbsp</span><span class=\"barcode\"; style=\"color: black; background-color: #f6fcf4\">&nbsp.&nbsp</span><span class=\"barcode\"; style=\"color: black; background-color: #f7fcf5\">&nbspNON&nbsp</span><span class=\"barcode\"; style=\"color: black; background-color: #f6fcf4\">&nbspALTERAZIONI&nbsp</span><span class=\"barcode\"; style=\"color: black; background-color: #f6fcf4\">&nbspPATOLOGICHE&nbsp</span><span class=\"barcode\"; style=\"color: black; background-color: #f6fcf4\">&nbspNEL&nbsp</span><span class=\"barcode\"; style=\"color: black; background-color: #f3faf0\">&nbspLIMITE&nbsp</span><span class=\"barcode\"; style=\"color: black; background-color: #f6fcf4\">&nbspDI&nbsp</span><span class=\"barcode\"; style=\"color: black; background-color: #f3faf0\">&nbspRESEZIONE&nbsp</span><span class=\"barcode\"; style=\"color: black; background-color: #f1faee\">&nbspCHIRURGICA&nbsp</span><span class=\"barcode\"; style=\"color: black; background-color: #f6fcf4\">&nbsp.&nbsp</span><span class=\"barcode\"; style=\"color: black; background-color: #f6fcf4\">&nbsp2&nbsp</span><span class=\"barcode\"; style=\"color: black; background-color: #f6fcf4\">&nbsp-&nbsp</span><span class=\"barcode\"; style=\"color: black; background-color: #f5fbf3\">&nbspFRAMMENTI&nbsp</span><span class=\"barcode\"; style=\"color: black; background-color: #f5fbf3\">&nbspISTOLOGICI&nbsp</span><span class=\"barcode\"; style=\"color: black; background-color: #f5fbf2\">&nbspRIFERIBILI&nbsp</span><span class=\"barcode\"; style=\"color: black; background-color: #f5fbf3\">&nbspA&nbsp</span><span class=\"barcode\"; style=\"color: black; background-color: #ecf8e8\">&nbspADENOMA&nbsp</span><span class=\"barcode\"; style=\"color: black; background-color: #f0f9ed\">&nbspMISTO&nbsp</span><span class=\"barcode\"; style=\"color: black; background-color: #e9f7e5\">&nbspINTESTINALE&nbsp</span><span class=\"barcode\"; style=\"color: black; background-color: #f3faf0\">&nbsp1&nbsp</span><span class=\"barcode\"; style=\"color: black; background-color: #f1faee\">&nbsp-&nbsp</span><span class=\"barcode\"; style=\"color: black; background-color: #e8f6e4\">&nbspPOLIPO&nbsp</span><span class=\"barcode\"; style=\"color: black; background-color: #f1faee\">&nbspDEL&nbsp</span><span class=\"barcode\"; style=\"color: black; background-color: #d7efd1\">&nbspSIGMA&nbsp</span><span class=\"barcode\"; style=\"color: black; background-color: #f5fbf2\">&nbsp1&nbsp</span><span class=\"barcode\"; style=\"color: black; background-color: #f6fcf4\">&nbspF&nbsp</span><span class=\"barcode\"; style=\"color: black; background-color: #f6fcf4\">&nbspSEZIONATO&nbsp</span><span class=\"barcode\"; style=\"color: black; background-color: #f6fcf4\">&nbspNR&nbsp</span><span class=\"barcode\"; style=\"color: black; background-color: #f6fcf4\">&nbsp2&nbsp</span><span class=\"barcode\"; style=\"color: black; background-color: #f5fbf2\">&nbsp-&nbsp</span><span class=\"barcode\"; style=\"color: black; background-color: #f4fbf1\">&nbspFRAMMENTI&nbsp</span><span class=\"barcode\"; style=\"color: black; background-color: #f5fbf2\">&nbspDI&nbsp</span><span class=\"barcode\"; style=\"color: black; background-color: #eef8ea\">&nbspPOLIPO&nbsp</span><span class=\"barcode\"; style=\"color: black; background-color: #f4fbf2\">&nbspDEL&nbsp</span><span class=\"barcode\"; style=\"color: black; background-color: #e0f3db\">&nbspTRASVERSO&nbsp</span><span class=\"barcode\"; style=\"color: black; background-color: #f6fcf4\">&nbsp2&nbsp</span><span class=\"barcode\"; style=\"color: black; background-color: #f6fcf4\">&nbspF&nbsp</span><span class=\"barcode\"; style=\"color: black; background-color: #f5fbf3\">&nbspNR&nbsp</span><span class=\"barcode\"; style=\"color: black; background-color: #f5fbf3\">&nbspMG&nbsp</span>"
      ],
      "text/plain": [
       "<IPython.core.display.HTML object>"
      ]
     },
     "metadata": {},
     "output_type": "display_data"
    },
    {
     "name": "stdout",
     "output_type": "stream",
     "text": [
      "======== doc:  36\n"
     ]
    },
    {
     "data": {
      "text/html": [
       "<span class=\"barcode\"; style=\"color: black; background-color: #f1faee\">&nbspIPERPLASIA&nbsp</span><span class=\"barcode\"; style=\"color: black; background-color: #ecf8e8\">&nbspMEGACARIOCITICA&nbsp</span><span class=\"barcode\"; style=\"color: black; background-color: #f6fcf4\">&nbspCON&nbsp</span><span class=\"barcode\"; style=\"color: black; background-color: #f5fbf3\">&nbspFORMAZIONE&nbsp</span><span class=\"barcode\"; style=\"color: black; background-color: #f6fcf4\">&nbspDI&nbsp</span><span class=\"barcode\"; style=\"color: black; background-color: #f5fbf2\">&nbspCLUSTERS&nbsp</span><span class=\"barcode\"; style=\"color: black; background-color: #f6fcf4\">&nbspCELLULARI&nbsp</span><span class=\"barcode\"; style=\"color: black; background-color: #f6fcf4\">&nbsp:&nbsp</span><span class=\"barcode\"; style=\"color: black; background-color: #f6fcf4\">&nbspI&nbsp</span><span class=\"barcode\"; style=\"color: black; background-color: #f5fbf3\">&nbspREPERTI&nbsp</span><span class=\"barcode\"; style=\"color: black; background-color: #f6fcf4\">&nbspPOSSONO&nbsp</span><span class=\"barcode\"; style=\"color: black; background-color: #f5fbf3\">&nbspSUPPORTARE&nbsp</span><span class=\"barcode\"; style=\"color: black; background-color: #f6fcf4\">&nbspLA&nbsp</span><span class=\"barcode\"; style=\"color: black; background-color: #eff9eb\">&nbspPROSPETTATTA&nbsp</span><span class=\"barcode\"; style=\"color: black; background-color: #edf8ea\">&nbspDIAGNOSI&nbsp</span><span class=\"barcode\"; style=\"color: black; background-color: #f0f9ed\">&nbspDI&nbsp</span><span class=\"barcode\"; style=\"color: black; background-color: #c9eac2\">&nbspTROMBOCITEMIA&nbsp</span><span class=\"barcode\"; style=\"color: black; background-color: #c1e6ba\">&nbspESSENZIALE&nbsp</span><span class=\"barcode\"; style=\"color: black; background-color: #edf8e9\">&nbsp.&nbsp</span><span class=\"barcode\"; style=\"color: black; background-color: #f0f9ec\">&nbspIMMUNOISTOCHIMICA&nbsp</span><span class=\"barcode\"; style=\"color: black; background-color: #f1faee\">&nbspESEGUITA&nbsp</span><span class=\"barcode\"; style=\"color: black; background-color: #f5fbf2\">&nbsp:&nbsp</span><span class=\"barcode\"; style=\"color: black; background-color: #f2faf0\">&nbspFATTORE&nbsp</span><span class=\"barcode\"; style=\"color: black; background-color: #f4fbf1\">&nbspVIII&nbsp</span><span class=\"barcode\"; style=\"color: black; background-color: #f6fcf4\">&nbsp.&nbsp</span><span class=\"barcode\"; style=\"color: black; background-color: #f1faee\">&nbspAGOBIOPSIA&nbsp</span><span class=\"barcode\"; style=\"color: black; background-color: #f6fcf4\">&nbspDA&nbsp</span><span class=\"barcode\"; style=\"color: black; background-color: #f1faee\">&nbspSPINA&nbsp</span><span class=\"barcode\"; style=\"color: black; background-color: #f2faf0\">&nbspILIACA&nbsp</span><span class=\"barcode\"; style=\"color: black; background-color: #f6fcf4\">&nbsp:&nbsp</span><span class=\"barcode\"; style=\"color: black; background-color: #edf8ea\">&nbspFRUSTOLO&nbsp</span><span class=\"barcode\"; style=\"color: black; background-color: #e7f6e3\">&nbspOSTEOMIDOLLARE&nbsp</span><span class=\"barcode\"; style=\"color: black; background-color: #f5fbf3\">&nbsp:&nbsp</span><span class=\"barcode\"; style=\"color: black; background-color: #f3faf0\">&nbspLUNGHEZZA&nbsp</span><span class=\"barcode\"; style=\"color: black; background-color: #f5fbf2\">&nbspMM&nbsp</span><span class=\"barcode\"; style=\"color: black; background-color: #f6fcf4\">&nbsp15&nbsp</span><span class=\"barcode\"; style=\"color: black; background-color: #f6fcf4\">&nbsp.&nbsp</span><span class=\"barcode\"; style=\"color: black; background-color: #f2faef\">&nbspNOTIZIE&nbsp</span><span class=\"barcode\"; style=\"color: black; background-color: #f2faef\">&nbspCLINICHE&nbsp</span><span class=\"barcode\"; style=\"color: black; background-color: #f5fbf3\">&nbsp:&nbsp</span><span class=\"barcode\"; style=\"color: black; background-color: #f1faee\">&nbspPIASTRINOSI&nbsp</span><span class=\"barcode\"; style=\"color: black; background-color: #f6fcf4\">&nbsp.&nbsp</span><span class=\"barcode\"; style=\"color: black; background-color: #f3faf0\">&nbspIPOTESI&nbsp</span><span class=\"barcode\"; style=\"color: black; background-color: #f3faf0\">&nbspDIAGNOSTICA&nbsp</span><span class=\"barcode\"; style=\"color: black; background-color: #f5fbf3\">&nbsp:&nbsp</span><span class=\"barcode\"; style=\"color: black; background-color: #f1faee\">&nbspSOSPETTA&nbsp</span><span class=\"barcode\"; style=\"color: black; background-color: #ceecc8\">&nbspTROMBOCITEMIA&nbsp</span><span class=\"barcode\"; style=\"color: black; background-color: #cdecc7\">&nbspESSENZIALE&nbsp</span><span class=\"barcode\"; style=\"color: black; background-color: #eff9eb\">&nbsp.&nbsp</span>"
      ],
      "text/plain": [
       "<IPython.core.display.HTML object>"
      ]
     },
     "metadata": {},
     "output_type": "display_data"
    },
    {
     "name": "stdout",
     "output_type": "stream",
     "text": [
      "======== doc:  37\n"
     ]
    },
    {
     "data": {
      "text/html": [
       "<span class=\"barcode\"; style=\"color: black; background-color: #ecf8e8\">&nbspSANGUE&nbsp</span><span class=\"barcode\"; style=\"color: black; background-color: #def2d9\">&nbspOCCULTO&nbsp</span><span class=\"barcode\"; style=\"color: black; background-color: #e8f6e4\">&nbspPOSITIVO&nbsp</span><span class=\"barcode\"; style=\"color: black; background-color: #edf8ea\">&nbsp.&nbsp</span><span class=\"barcode\"; style=\"color: black; background-color: #e2f4dd\">&nbspADENOMA&nbsp</span><span class=\"barcode\"; style=\"color: black; background-color: #e4f5df\">&nbspTUBULO&nbsp</span><span class=\"barcode\"; style=\"color: black; background-color: #ecf8e8\">&nbsp-&nbsp</span><span class=\"barcode\"; style=\"color: black; background-color: #e1f3dc\">&nbspVILLOSO&nbsp</span><span class=\"barcode\"; style=\"color: black; background-color: #dcf2d7\">&nbspINTESTINALE&nbsp</span><span class=\"barcode\"; style=\"color: black; background-color: #f1faee\">&nbspCON&nbsp</span><span class=\"barcode\"; style=\"color: black; background-color: #f2faef\">&nbspAREE&nbsp</span><span class=\"barcode\"; style=\"color: black; background-color: #f3faf0\">&nbspDI&nbsp</span><span class=\"barcode\"; style=\"color: black; background-color: #f1faee\">&nbspDISPLASIA&nbsp</span><span class=\"barcode\"; style=\"color: black; background-color: #f1faee\">&nbspGRAVE&nbsp</span><span class=\"barcode\"; style=\"color: black; background-color: #f1faee\">&nbsp.&nbsp</span><span class=\"barcode\"; style=\"color: black; background-color: #e3f4de\">&nbspPOLIPO&nbsp</span><span class=\"barcode\"; style=\"color: black; background-color: #edf8e9\">&nbspSESSILE&nbsp</span><span class=\"barcode\"; style=\"color: black; background-color: #f3faf0\">&nbspDEL&nbsp</span><span class=\"barcode\"; style=\"color: black; background-color: #f5fbf3\">&nbspDIAMETRO&nbsp</span><span class=\"barcode\"; style=\"color: black; background-color: #f5fbf3\">&nbspDI&nbsp</span><span class=\"barcode\"; style=\"color: black; background-color: #f6fcf4\">&nbspCM&nbsp</span><span class=\"barcode\"; style=\"color: black; background-color: #f6fcf4\">&nbsp.&nbsp</span><span class=\"barcode\"; style=\"color: black; background-color: #f6fcf4\">&nbsp1&nbsp</span><span class=\"barcode\"; style=\"color: black; background-color: #f7fcf5\">&nbsp,&nbsp</span><span class=\"barcode\"; style=\"color: black; background-color: #f7fcf5\">&nbsp4&nbsp</span><span class=\"barcode\"; style=\"color: black; background-color: #f6fcf4\">&nbsp.&nbsp</span>"
      ],
      "text/plain": [
       "<IPython.core.display.HTML object>"
      ]
     },
     "metadata": {},
     "output_type": "display_data"
    },
    {
     "name": "stdout",
     "output_type": "stream",
     "text": [
      "======== doc:  38\n"
     ]
    },
    {
     "data": {
      "text/html": [
       "<span class=\"barcode\"; style=\"color: black; background-color: #cbebc5\">&nbspMORBO&nbsp</span><span class=\"barcode\"; style=\"color: black; background-color: #f4fbf2\">&nbspDI&nbsp</span><span class=\"barcode\"; style=\"color: black; background-color: #d1edcb\">&nbspBOWEN&nbsp</span><span class=\"barcode\"; style=\"color: black; background-color: #f6fcf4\">&nbsp(&nbsp</span><span class=\"barcode\"; style=\"color: black; background-color: #f0f9ed\">&nbspCARCINOMA&nbsp</span><span class=\"barcode\"; style=\"color: black; background-color: #e3f4de\">&nbspSQUAMOCELLULARE&nbsp</span><span class=\"barcode\"; style=\"color: black; background-color: #eff9eb\">&nbspIN&nbsp</span><span class=\"barcode\"; style=\"color: black; background-color: #e4f5df\">&nbspSITU&nbsp</span><span class=\"barcode\"; style=\"color: black; background-color: #f4fbf2\">&nbsp)&nbsp</span><span class=\"barcode\"; style=\"color: black; background-color: #f3faf0\">&nbsp.&nbsp</span><span class=\"barcode\"; style=\"color: black; background-color: #e6f5e1\">&nbspMARGINI&nbsp</span><span class=\"barcode\"; style=\"color: black; background-color: #ddf2d8\">&nbspNEGATIVI&nbsp</span><span class=\"barcode\"; style=\"color: black; background-color: #f2faf0\">&nbsp.&nbsp</span><span class=\"barcode\"; style=\"color: black; background-color: #e8f6e4\">&nbspBIOPSIA&nbsp</span><span class=\"barcode\"; style=\"color: black; background-color: #e1f3dc\">&nbspESCISSIONALE&nbsp</span><span class=\"barcode\"; style=\"color: black; background-color: #f4fbf2\">&nbspDI&nbsp</span><span class=\"barcode\"; style=\"color: black; background-color: #f0f9ec\">&nbspNEOFORMAZIONE&nbsp</span><span class=\"barcode\"; style=\"color: black; background-color: #d7efd1\">&nbspCUTANEA&nbsp</span><span class=\"barcode\"; style=\"color: black; background-color: #f0f9ed\">&nbspDELLA&nbsp</span><span class=\"barcode\"; style=\"color: black; background-color: #d9f0d3\">&nbspSPALLA&nbsp</span><span class=\"barcode\"; style=\"color: black; background-color: #eff9ec\">&nbspSINISTRA&nbsp</span><span class=\"barcode\"; style=\"color: black; background-color: #f6fcf4\">&nbsp,&nbsp</span><span class=\"barcode\"; style=\"color: black; background-color: #f4fbf2\">&nbspFRAMMENTO&nbsp</span><span class=\"barcode\"; style=\"color: black; background-color: #e9f7e5\">&nbspCUTANEO&nbsp</span><span class=\"barcode\"; style=\"color: black; background-color: #f4fbf1\">&nbsp44&nbsp</span><span class=\"barcode\"; style=\"color: black; background-color: #f5fbf3\">&nbspX&nbsp</span><span class=\"barcode\"; style=\"color: black; background-color: #f6fcf4\">&nbsp23&nbsp</span><span class=\"barcode\"; style=\"color: black; background-color: #f6fcf4\">&nbspX&nbsp</span><span class=\"barcode\"; style=\"color: black; background-color: #f6fcf4\">&nbsp4&nbsp</span><span class=\"barcode\"; style=\"color: black; background-color: #f4fbf2\">&nbspMM&nbsp</span><span class=\"barcode\"; style=\"color: black; background-color: #f6fcf4\">&nbsp.&nbsp</span><span class=\"barcode\"; style=\"color: black; background-color: #f5fbf3\">&nbspT1&nbsp</span><span class=\"barcode\"; style=\"color: black; background-color: #f6fcf4\">&nbsp-&nbsp</span><span class=\"barcode\"; style=\"color: black; background-color: #f7fcf5\">&nbsp2&nbsp</span><span class=\"barcode\"; style=\"color: black; background-color: #f7fcf5\">&nbsp)&nbsp</span><span class=\"barcode\"; style=\"color: black; background-color: #f4fbf2\">&nbspNEOFORMAZIONE&nbsp</span><span class=\"barcode\"; style=\"color: black; background-color: #f6fcf4\">&nbspCON&nbsp</span><span class=\"barcode\"; style=\"color: black; background-color: #f2faf0\">&nbspMARGINI&nbsp</span><span class=\"barcode\"; style=\"color: black; background-color: #f1faee\">&nbspTRASVERSALI&nbsp</span><span class=\"barcode\"; style=\"color: black; background-color: #f6fcf4\">&nbspE&nbsp</span><span class=\"barcode\"; style=\"color: black; background-color: #f0f9ec\">&nbspPROFONDO&nbsp</span><span class=\"barcode\"; style=\"color: black; background-color: #f6fcf4\">&nbsp;&nbsp</span><span class=\"barcode\"; style=\"color: black; background-color: #f6fcf4\">&nbspMA&nbsp</span><span class=\"barcode\"; style=\"color: black; background-color: #f7fcf5\">&nbsp)&nbsp</span><span class=\"barcode\"; style=\"color: black; background-color: #f6fcf4\">&nbspMARGINE&nbsp</span><span class=\"barcode\"; style=\"color: black; background-color: #f4fbf1\">&nbspAPICALE&nbsp</span><span class=\"barcode\"; style=\"color: black; background-color: #f6fcf4\">&nbsp;&nbsp</span><span class=\"barcode\"; style=\"color: black; background-color: #f6fcf4\">&nbspMB&nbsp</span><span class=\"barcode\"; style=\"color: black; background-color: #f7fcf5\">&nbsp)&nbsp</span><span class=\"barcode\"; style=\"color: black; background-color: #f6fcf4\">&nbspMARGINE&nbsp</span><span class=\"barcode\"; style=\"color: black; background-color: #f4fbf2\">&nbspAPICALE&nbsp</span><span class=\"barcode\"; style=\"color: black; background-color: #f5fbf2\">&nbspCONTROLATERALE&nbsp</span><span class=\"barcode\"; style=\"color: black; background-color: #f6fcf4\">&nbsp.&nbsp</span><span class=\"barcode\"; style=\"color: black; background-color: #f6fcf4\">&nbsp(&nbsp</span><span class=\"barcode\"; style=\"color: black; background-color: #f4fbf2\">&nbspMARGINI&nbsp</span><span class=\"barcode\"; style=\"color: black; background-color: #f6fcf4\">&nbspMARCATI&nbsp</span><span class=\"barcode\"; style=\"color: black; background-color: #f6fcf4\">&nbspCON&nbsp</span><span class=\"barcode\"; style=\"color: black; background-color: #f6fcf4\">&nbspINCHIOSTRO&nbsp</span><span class=\"barcode\"; style=\"color: black; background-color: #f6fcf4\">&nbspDI&nbsp</span><span class=\"barcode\"; style=\"color: black; background-color: #f5fbf3\">&nbspCHINA&nbsp</span><span class=\"barcode\"; style=\"color: black; background-color: #f7fcf5\">&nbsp)&nbsp</span><span class=\"barcode\"; style=\"color: black; background-color: #f6fcf4\">&nbsp.&nbsp</span>"
      ],
      "text/plain": [
       "<IPython.core.display.HTML object>"
      ]
     },
     "metadata": {},
     "output_type": "display_data"
    },
    {
     "name": "stdout",
     "output_type": "stream",
     "text": [
      "======== doc:  39\n"
     ]
    },
    {
     "data": {
      "text/html": [
       "<span class=\"barcode\"; style=\"color: black; background-color: #eef8ea\">&nbspCARCINOMA&nbsp</span><span class=\"barcode\"; style=\"color: black; background-color: #bbe4b4\">&nbspBASOCELLULARE&nbsp</span><span class=\"barcode\"; style=\"color: black; background-color: #eff9ec\">&nbsp;&nbsp</span><span class=\"barcode\"; style=\"color: black; background-color: #e2f4dd\">&nbspMARGINI&nbsp</span><span class=\"barcode\"; style=\"color: black; background-color: #daf0d4\">&nbspNEGATIVI&nbsp</span><span class=\"barcode\"; style=\"color: black; background-color: #f2faef\">&nbsp.&nbsp</span><span class=\"barcode\"; style=\"color: black; background-color: #f2faef\">&nbspA1&nbsp</span><span class=\"barcode\"; style=\"color: black; background-color: #f5fbf3\">&nbsp-&nbsp</span><span class=\"barcode\"; style=\"color: black; background-color: #f5fbf3\">&nbsp2&nbsp</span><span class=\"barcode\"; style=\"color: black; background-color: #f5fbf3\">&nbsp)&nbsp</span><span class=\"barcode\"; style=\"color: black; background-color: #ebf7e7\">&nbspBIOPSIA&nbsp</span><span class=\"barcode\"; style=\"color: black; background-color: #e2f4dd\">&nbspESCISSIONALE&nbsp</span><span class=\"barcode\"; style=\"color: black; background-color: #f5fbf2\">&nbspDI&nbsp</span><span class=\"barcode\"; style=\"color: black; background-color: #ecf8e8\">&nbspLESIONE&nbsp</span><span class=\"barcode\"; style=\"color: black; background-color: #d9f0d3\">&nbspCUTANEA&nbsp</span><span class=\"barcode\"; style=\"color: black; background-color: #edf8ea\">&nbspNODULARE&nbsp</span><span class=\"barcode\"; style=\"color: black; background-color: #f1faee\">&nbspDEL&nbsp</span><span class=\"barcode\"; style=\"color: black; background-color: #d7efd1\">&nbspTRONCO&nbsp</span><span class=\"barcode\"; style=\"color: black; background-color: #f6fcf4\">&nbsp,&nbsp</span><span class=\"barcode\"; style=\"color: black; background-color: #f4fbf2\">&nbspDIMENSIONI&nbsp</span><span class=\"barcode\"; style=\"color: black; background-color: #f4fbf1\">&nbspMM&nbsp</span><span class=\"barcode\"; style=\"color: black; background-color: #f6fcf4\">&nbsp10&nbsp</span><span class=\"barcode\"; style=\"color: black; background-color: #f5fbf3\">&nbspX&nbsp</span><span class=\"barcode\"; style=\"color: black; background-color: #f6fcf4\">&nbsp6&nbsp</span><span class=\"barcode\"; style=\"color: black; background-color: #f7fcf5\">&nbsp,&nbsp</span><span class=\"barcode\"; style=\"color: black; background-color: #f6fcf4\">&nbspIN&nbsp</span><span class=\"barcode\"; style=\"color: black; background-color: #f5fbf2\">&nbspFRAMMENTO&nbsp</span><span class=\"barcode\"; style=\"color: black; background-color: #f5fbf2\">&nbspMM&nbsp</span><span class=\"barcode\"; style=\"color: black; background-color: #f6fcf4\">&nbsp21&nbsp</span><span class=\"barcode\"; style=\"color: black; background-color: #f6fcf4\">&nbspX&nbsp</span><span class=\"barcode\"; style=\"color: black; background-color: #f6fcf4\">&nbsp10&nbsp</span><span class=\"barcode\"; style=\"color: black; background-color: #f6fcf4\">&nbspX&nbsp</span><span class=\"barcode\"; style=\"color: black; background-color: #f7fcf5\">&nbsp5&nbsp</span><span class=\"barcode\"; style=\"color: black; background-color: #f6fcf4\">&nbsp;&nbsp</span><span class=\"barcode\"; style=\"color: black; background-color: #f2faf0\">&nbspDISTANZA&nbsp</span><span class=\"barcode\"; style=\"color: black; background-color: #f2faef\">&nbspMINIMA&nbsp</span><span class=\"barcode\"; style=\"color: black; background-color: #f3faf0\">&nbspDAL&nbsp</span><span class=\"barcode\"; style=\"color: black; background-color: #f6fcf4\">&nbspMARGINE&nbsp</span><span class=\"barcode\"; style=\"color: black; background-color: #f5fbf2\">&nbspMM&nbsp</span><span class=\"barcode\"; style=\"color: black; background-color: #f7fcf5\">&nbsp2&nbsp</span><span class=\"barcode\"; style=\"color: black; background-color: #f6fcf4\">&nbsp.&nbsp</span>"
      ],
      "text/plain": [
       "<IPython.core.display.HTML object>"
      ]
     },
     "metadata": {},
     "output_type": "display_data"
    },
    {
     "name": "stdout",
     "output_type": "stream",
     "text": [
      "======== doc:  40\n"
     ]
    },
    {
     "data": {
      "text/html": [
       "<span class=\"barcode\"; style=\"color: black; background-color: #eef8ea\">&nbspADENOCARCINOMA&nbsp</span><span class=\"barcode\"; style=\"color: black; background-color: #b4e1ad\">&nbspPROSTATICO&nbsp</span><span class=\"barcode\"; style=\"color: black; background-color: #f5fbf3\">&nbspA&nbsp</span><span class=\"barcode\"; style=\"color: black; background-color: #f3faf0\">&nbspBASSO&nbsp</span><span class=\"barcode\"; style=\"color: black; background-color: #f2faef\">&nbspGRADO&nbsp</span><span class=\"barcode\"; style=\"color: black; background-color: #f5fbf3\">&nbspDI&nbsp</span><span class=\"barcode\"; style=\"color: black; background-color: #f0f9ec\">&nbspDIFFERENZIAZIONE&nbsp</span><span class=\"barcode\"; style=\"color: black; background-color: #f4fbf1\">&nbsp(&nbsp</span><span class=\"barcode\"; style=\"color: black; background-color: #ddf2d8\">&nbspGLEASON&nbsp</span><span class=\"barcode\"; style=\"color: black; background-color: #f2faf0\">&nbspGRADO&nbsp</span><span class=\"barcode\"; style=\"color: black; background-color: #f4fbf2\">&nbsp4&nbsp</span><span class=\"barcode\"; style=\"color: black; background-color: #f5fbf2\">&nbsp+&nbsp</span><span class=\"barcode\"; style=\"color: black; background-color: #f4fbf2\">&nbsp3&nbsp</span><span class=\"barcode\"; style=\"color: black; background-color: #f5fbf2\">&nbsp)&nbsp</span><span class=\"barcode\"; style=\"color: black; background-color: #f5fbf3\">&nbsp,&nbsp</span><span class=\"barcode\"; style=\"color: black; background-color: #f2faf0\">&nbspESTESO&nbsp</span><span class=\"barcode\"; style=\"color: black; background-color: #f5fbf3\">&nbspAD&nbsp</span><span class=\"barcode\"; style=\"color: black; background-color: #f2faf0\">&nbspENTRAMBI&nbsp</span><span class=\"barcode\"; style=\"color: black; background-color: #f3faf0\">&nbspI&nbsp</span><span class=\"barcode\"; style=\"color: black; background-color: #e9f7e5\">&nbspLOBI&nbsp</span><span class=\"barcode\"; style=\"color: black; background-color: #f6fcf4\">&nbspCON&nbsp</span><span class=\"barcode\"; style=\"color: black; background-color: #f4fbf1\">&nbspINTERESSAMENTO&nbsp</span><span class=\"barcode\"; style=\"color: black; background-color: #f5fbf3\">&nbspDI&nbsp</span><span class=\"barcode\"; style=\"color: black; background-color: #f4fbf2\">&nbspTUTTI&nbsp</span><span class=\"barcode\"; style=\"color: black; background-color: #f4fbf1\">&nbspI&nbsp</span><span class=\"barcode\"; style=\"color: black; background-color: #f1faee\">&nbspFRUSTOLI&nbsp</span><span class=\"barcode\"; style=\"color: black; background-color: #f1faee\">&nbspRIFERITI&nbsp</span><span class=\"barcode\"; style=\"color: black; background-color: #f5fbf3\">&nbspAL&nbsp</span><span class=\"barcode\"; style=\"color: black; background-color: #e7f6e3\">&nbspLOBO&nbsp</span><span class=\"barcode\"; style=\"color: black; background-color: #f0f9ec\">&nbspDX&nbsp</span><span class=\"barcode\"; style=\"color: black; background-color: #f5fbf3\">&nbsp.&nbsp</span><span class=\"barcode\"; style=\"color: black; background-color: #f4fbf2\">&nbsp(&nbsp</span><span class=\"barcode\"; style=\"color: black; background-color: #f4fbf2\">&nbspB1&nbsp</span><span class=\"barcode\"; style=\"color: black; background-color: #f5fbf2\">&nbsp:&nbsp</span><span class=\"barcode\"; style=\"color: black; background-color: #f4fbf1\">&nbsp<&nbsp</span><span class=\"barcode\"; style=\"color: black; background-color: #f4fbf1\">&nbsp30&nbsp</span><span class=\"barcode\"; style=\"color: black; background-color: #f1faee\">&nbsp%&nbsp</span><span class=\"barcode\"; style=\"color: black; background-color: #f5fbf2\">&nbsp;&nbsp</span><span class=\"barcode\"; style=\"color: black; background-color: #f3faf0\">&nbspB2&nbsp</span><span class=\"barcode\"; style=\"color: black; background-color: #f6fcf4\">&nbsp-&nbsp</span><span class=\"barcode\"; style=\"color: black; background-color: #f2faef\">&nbspB3&nbsp</span><span class=\"barcode\"; style=\"color: black; background-color: #f5fbf3\">&nbsp:&nbsp</span><span class=\"barcode\"; style=\"color: black; background-color: #f4fbf1\">&nbsp>&nbsp</span><span class=\"barcode\"; style=\"color: black; background-color: #f3faf0\">&nbsp60&nbsp</span><span class=\"barcode\"; style=\"color: black; background-color: #f2faf0\">&nbsp%&nbsp</span><span class=\"barcode\"; style=\"color: black; background-color: #f6fcf4\">&nbsp)&nbsp</span><span class=\"barcode\"; style=\"color: black; background-color: #f6fcf4\">&nbspE&nbsp</span><span class=\"barcode\"; style=\"color: black; background-color: #f6fcf4\">&nbspDI&nbsp</span><span class=\"barcode\"; style=\"color: black; background-color: #f6fcf4\">&nbspDUE&nbsp</span><span class=\"barcode\"; style=\"color: black; background-color: #f6fcf4\">&nbspDEI&nbsp</span><span class=\"barcode\"; style=\"color: black; background-color: #f6fcf4\">&nbspTRE&nbsp</span><span class=\"barcode\"; style=\"color: black; background-color: #f5fbf3\">&nbspPRELIEVI&nbsp</span><span class=\"barcode\"; style=\"color: black; background-color: #f4fbf1\">&nbspRIFERITI&nbsp</span><span class=\"barcode\"; style=\"color: black; background-color: #f6fcf4\">&nbspAL&nbsp</span><span class=\"barcode\"; style=\"color: black; background-color: #e9f7e5\">&nbspLOBO&nbsp</span><span class=\"barcode\"; style=\"color: black; background-color: #f0f9ed\">&nbspSX&nbsp</span><span class=\"barcode\"; style=\"color: black; background-color: #f6fcf4\">&nbsp.&nbsp</span><span class=\"barcode\"; style=\"color: black; background-color: #f5fbf2\">&nbsp(&nbsp</span><span class=\"barcode\"; style=\"color: black; background-color: #f4fbf1\">&nbspA2&nbsp</span><span class=\"barcode\"; style=\"color: black; background-color: #f5fbf3\">&nbsp:&nbsp</span><span class=\"barcode\"; style=\"color: black; background-color: #f4fbf2\">&nbsp30&nbsp</span><span class=\"barcode\"; style=\"color: black; background-color: #f6fcf4\">&nbsp-&nbsp</span><span class=\"barcode\"; style=\"color: black; background-color: #f3faf0\">&nbsp60&nbsp</span><span class=\"barcode\"; style=\"color: black; background-color: #f2faef\">&nbsp%&nbsp</span><span class=\"barcode\"; style=\"color: black; background-color: #f5fbf2\">&nbsp;&nbsp</span><span class=\"barcode\"; style=\"color: black; background-color: #f3faf0\">&nbspA3&nbsp</span><span class=\"barcode\"; style=\"color: black; background-color: #f5fbf2\">&nbsp:&nbsp</span><span class=\"barcode\"; style=\"color: black; background-color: #f4fbf2\">&nbsp<&nbsp</span><span class=\"barcode\"; style=\"color: black; background-color: #f4fbf2\">&nbsp30&nbsp</span><span class=\"barcode\"; style=\"color: black; background-color: #f2faef\">&nbsp%&nbsp</span><span class=\"barcode\"; style=\"color: black; background-color: #f5fbf3\">&nbsp)&nbsp</span><span class=\"barcode\"; style=\"color: black; background-color: #f6fcf4\">&nbsp.&nbsp</span><span class=\"barcode\"; style=\"color: black; background-color: #eff9ec\">&nbspAGOBIOPSIA&nbsp</span><span class=\"barcode\"; style=\"color: black; background-color: #dff3da\">&nbspPROSTATICA&nbsp</span><span class=\"barcode\"; style=\"color: black; background-color: #f5fbf2\">&nbsp:&nbsp</span><span class=\"barcode\"; style=\"color: black; background-color: #f5fbf2\">&nbspA1&nbsp</span><span class=\"barcode\"; style=\"color: black; background-color: #f6fcf4\">&nbsp-&nbsp</span><span class=\"barcode\"; style=\"color: black; background-color: #f5fbf3\">&nbsp3&nbsp</span><span class=\"barcode\"; style=\"color: black; background-color: #f5fbf3\">&nbsp)&nbsp</span><span class=\"barcode\"; style=\"color: black; background-color: #f4fbf1\">&nbspPRELIEVI&nbsp</span><span class=\"barcode\"; style=\"color: black; background-color: #e7f6e2\">&nbspLOBO&nbsp</span><span class=\"barcode\"; style=\"color: black; background-color: #eff9eb\">&nbspSIN&nbsp</span><span class=\"barcode\"; style=\"color: black; background-color: #f5fbf3\">&nbsp.&nbsp</span><span class=\"barcode\"; style=\"color: black; background-color: #f4fbf1\">&nbsp(&nbsp</span><span class=\"barcode\"; style=\"color: black; background-color: #f4fbf2\">&nbspNUMERO&nbsp</span><span class=\"barcode\"; style=\"color: black; background-color: #f5fbf3\">&nbspDI&nbsp</span><span class=\"barcode\"; style=\"color: black; background-color: #f5fbf2\">&nbspFRAMMENTI&nbsp</span><span class=\"barcode\"; style=\"color: black; background-color: #f5fbf3\">&nbsp:&nbsp</span><span class=\"barcode\"; style=\"color: black; background-color: #f5fbf3\">&nbsp3&nbsp</span><span class=\"barcode\"; style=\"color: black; background-color: #f6fcf4\">&nbsp)&nbsp</span><span class=\"barcode\"; style=\"color: black; background-color: #f5fbf3\">&nbspB1&nbsp</span><span class=\"barcode\"; style=\"color: black; background-color: #f6fcf4\">&nbsp-&nbsp</span><span class=\"barcode\"; style=\"color: black; background-color: #f6fcf4\">&nbsp3&nbsp</span><span class=\"barcode\"; style=\"color: black; background-color: #f6fcf4\">&nbsp)&nbsp</span><span class=\"barcode\"; style=\"color: black; background-color: #f4fbf1\">&nbspPRELIEVI&nbsp</span><span class=\"barcode\"; style=\"color: black; background-color: #e7f6e3\">&nbspLOBO&nbsp</span><span class=\"barcode\"; style=\"color: black; background-color: #f0f9ec\">&nbspDX&nbsp</span><span class=\"barcode\"; style=\"color: black; background-color: #f6fcf4\">&nbsp.&nbsp</span><span class=\"barcode\"; style=\"color: black; background-color: #f5fbf2\">&nbsp(&nbsp</span><span class=\"barcode\"; style=\"color: black; background-color: #f3faf0\">&nbspNUMERO&nbsp</span>"
      ],
      "text/plain": [
       "<IPython.core.display.HTML object>"
      ]
     },
     "metadata": {},
     "output_type": "display_data"
    },
    {
     "name": "stdout",
     "output_type": "stream",
     "text": [
      "======== doc:  41\n"
     ]
    },
    {
     "data": {
      "text/html": [
       "<span class=\"barcode\"; style=\"color: black; background-color: #f4fbf2\">&nbsp1&nbsp</span><span class=\"barcode\"; style=\"color: black; background-color: #f4fbf1\">&nbsp-&nbsp</span><span class=\"barcode\"; style=\"color: black; background-color: #e7f6e2\">&nbspADENOMA&nbsp</span><span class=\"barcode\"; style=\"color: black; background-color: #e7f6e3\">&nbspTUBULO&nbsp</span><span class=\"barcode\"; style=\"color: black; background-color: #eff9ec\">&nbsp-&nbsp</span><span class=\"barcode\"; style=\"color: black; background-color: #e7f6e2\">&nbspVILLOSO&nbsp</span><span class=\"barcode\"; style=\"color: black; background-color: #e3f4de\">&nbspINTESTINALE&nbsp</span><span class=\"barcode\"; style=\"color: black; background-color: #f2faf0\">&nbspCON&nbsp</span><span class=\"barcode\"; style=\"color: black; background-color: #f2faef\">&nbspDISPLASIA&nbsp</span><span class=\"barcode\"; style=\"color: black; background-color: #f4fbf1\">&nbspGRAVE&nbsp</span><span class=\"barcode\"; style=\"color: black; background-color: #f5fbf3\">&nbspDI&nbsp</span><span class=\"barcode\"; style=\"color: black; background-color: #f4fbf2\">&nbspALCUNE&nbsp</span><span class=\"barcode\"; style=\"color: black; background-color: #f4fbf2\">&nbspSTRUTTURE&nbsp</span><span class=\"barcode\"; style=\"color: black; background-color: #f4fbf1\">&nbspGHIANDOLARI&nbsp</span><span class=\"barcode\"; style=\"color: black; background-color: #f6fcf4\">&nbsp2&nbsp</span><span class=\"barcode\"; style=\"color: black; background-color: #f5fbf2\">&nbsp-&nbsp</span><span class=\"barcode\"; style=\"color: black; background-color: #ebf7e7\">&nbspADENOMA&nbsp</span><span class=\"barcode\"; style=\"color: black; background-color: #f1faee\">&nbspMISTO&nbsp</span><span class=\"barcode\"; style=\"color: black; background-color: #eaf7e6\">&nbspINTESTINALE&nbsp</span><span class=\"barcode\"; style=\"color: black; background-color: #f6fcf4\">&nbsp1&nbsp</span><span class=\"barcode\"; style=\"color: black; background-color: #f3faf0\">&nbspNEOFORMAZIONE&nbsp</span><span class=\"barcode\"; style=\"color: black; background-color: #f5fbf2\">&nbspPOLIPOIDE&nbsp</span><span class=\"barcode\"; style=\"color: black; background-color: #f4fbf2\">&nbspDEL&nbsp</span><span class=\"barcode\"; style=\"color: black; background-color: #f6fcf4\">&nbspDIAMETRO&nbsp</span><span class=\"barcode\"; style=\"color: black; background-color: #f6fcf4\">&nbspDI&nbsp</span><span class=\"barcode\"; style=\"color: black; background-color: #f6fcf4\">&nbsp11&nbsp</span><span class=\"barcode\"; style=\"color: black; background-color: #f3faf0\">&nbspMM&nbsp</span><span class=\"barcode\"; style=\"color: black; background-color: #f7fcf5\">&nbspSEZIONATA&nbsp</span><span class=\"barcode\"; style=\"color: black; background-color: #f6fcf4\">&nbspNR&nbsp</span><span class=\"barcode\"; style=\"color: black; background-color: #f7fcf5\">&nbsp2&nbsp</span><span class=\"barcode\"; style=\"color: black; background-color: #f7fcf5\">&nbsp1&nbsp</span><span class=\"barcode\"; style=\"color: black; background-color: #f6fcf4\">&nbspF&nbsp</span><span class=\"barcode\"; style=\"color: black; background-color: #f6fcf4\">&nbspNR&nbsp</span><span class=\"barcode\"; style=\"color: black; background-color: #f6fcf4\">&nbspMG&nbsp</span>"
      ],
      "text/plain": [
       "<IPython.core.display.HTML object>"
      ]
     },
     "metadata": {},
     "output_type": "display_data"
    },
    {
     "name": "stdout",
     "output_type": "stream",
     "text": [
      "======== doc:  42\n"
     ]
    },
    {
     "data": {
      "text/html": [
       "<span class=\"barcode\"; style=\"color: black; background-color: #f5fbf3\">&nbspREPERTI&nbsp</span><span class=\"barcode\"; style=\"color: black; background-color: #f5fbf3\">&nbspISTOLOGICI&nbsp</span><span class=\"barcode\"; style=\"color: black; background-color: #f1faee\">&nbspCOMPATIBILI&nbsp</span><span class=\"barcode\"; style=\"color: black; background-color: #f1faee\">&nbspCON&nbsp</span><span class=\"barcode\"; style=\"color: black; background-color: #e5f5e0\">&nbspLINFOMA&nbsp</span><span class=\"barcode\"; style=\"color: black; background-color: #f4fbf1\">&nbspB&nbsp</span><span class=\"barcode\"; style=\"color: black; background-color: #f5fbf3\">&nbspDI&nbsp</span><span class=\"barcode\"; style=\"color: black; background-color: #f5fbf2\">&nbspTIPO&nbsp</span><span class=\"barcode\"; style=\"color: black; background-color: #f2faf0\">&nbspPERIFERICO&nbsp</span><span class=\"barcode\"; style=\"color: black; background-color: #f6fcf4\">&nbsp,&nbsp</span><span class=\"barcode\"; style=\"color: black; background-color: #f6fcf4\">&nbspA&nbsp</span><span class=\"barcode\"; style=\"color: black; background-color: #eff9ec\">&nbspPICCOLE&nbsp</span><span class=\"barcode\"; style=\"color: black; background-color: #f1faee\">&nbspCELLULE&nbsp</span><span class=\"barcode\"; style=\"color: black; background-color: #edf8ea\">&nbspPROFILO&nbsp</span><span class=\"barcode\"; style=\"color: black; background-color: #e5f5e1\">&nbspIMMUNOFENOTIPICO&nbsp</span><span class=\"barcode\"; style=\"color: black; background-color: #f5fbf2\">&nbsp:&nbsp</span><span class=\"barcode\"; style=\"color: black; background-color: #edf8ea\">&nbspCD20&nbsp</span><span class=\"barcode\"; style=\"color: black; background-color: #f5fbf2\">&nbsp+&nbsp</span><span class=\"barcode\"; style=\"color: black; background-color: #f6fcf4\">&nbsp,&nbsp</span><span class=\"barcode\"; style=\"color: black; background-color: #f2faf0\">&nbspCD5&nbsp</span><span class=\"barcode\"; style=\"color: black; background-color: #f6fcf4\">&nbsp-&nbsp</span><span class=\"barcode\"; style=\"color: black; background-color: #f6fcf4\">&nbsp,&nbsp</span><span class=\"barcode\"; style=\"color: black; background-color: #f4fbf2\">&nbspCD10&nbsp</span><span class=\"barcode\"; style=\"color: black; background-color: #f6fcf4\">&nbsp-&nbsp</span><span class=\"barcode\"; style=\"color: black; background-color: #f6fcf4\">&nbsp,&nbsp</span><span class=\"barcode\"; style=\"color: black; background-color: #f5fbf3\">&nbspBCL&nbsp</span><span class=\"barcode\"; style=\"color: black; background-color: #f6fcf4\">&nbsp-&nbsp</span><span class=\"barcode\"; style=\"color: black; background-color: #f7fcf5\">&nbsp6&nbsp</span><span class=\"barcode\"; style=\"color: black; background-color: #f6fcf4\">&nbsp-&nbsp</span><span class=\"barcode\"; style=\"color: black; background-color: #f2faf0\">&nbspCD23&nbsp</span><span class=\"barcode\"; style=\"color: black; background-color: #f6fcf4\">&nbsp-&nbsp</span><span class=\"barcode\"; style=\"color: black; background-color: #f6fcf4\">&nbsp/&nbsp</span><span class=\"barcode\"; style=\"color: black; background-color: #f6fcf4\">&nbsp+&nbsp</span><span class=\"barcode\"; style=\"color: black; background-color: #f7fcf5\">&nbsp,&nbsp</span><span class=\"barcode\"; style=\"color: black; background-color: #f5fbf2\">&nbspCICLINA&nbsp</span><span class=\"barcode\"; style=\"color: black; background-color: #f6fcf4\">&nbspD1&nbsp</span><span class=\"barcode\"; style=\"color: black; background-color: #f6fcf4\">&nbsp-&nbsp</span><span class=\"barcode\"; style=\"color: black; background-color: #f6fcf4\">&nbsp,&nbsp</span><span class=\"barcode\"; style=\"color: black; background-color: #f4fbf1\">&nbspBCL2&nbsp</span><span class=\"barcode\"; style=\"color: black; background-color: #f6fcf4\">&nbsp+&nbsp</span><span class=\"barcode\"; style=\"color: black; background-color: #f7fcf5\">&nbsp/&nbsp</span><span class=\"barcode\"; style=\"color: black; background-color: #f7fcf5\">&nbsp-&nbsp</span><span class=\"barcode\"; style=\"color: black; background-color: #f6fcf4\">&nbspIL&nbsp</span><span class=\"barcode\"; style=\"color: black; background-color: #e7f6e3\">&nbspLINFOMA&nbsp</span><span class=\"barcode\"; style=\"color: black; background-color: #f6fcf4\">&nbspNON&nbsp</span><span class=\"barcode\"; style=\"color: black; background-color: #f5fbf3\">&nbspRISULTA&nbsp</span><span class=\"barcode\"; style=\"color: black; background-color: #f5fbf3\">&nbspULTERIORMENTE&nbsp</span><span class=\"barcode\"; style=\"color: black; background-color: #f6fcf4\">&nbspTIPIZZABILE&nbsp</span><span class=\"barcode\"; style=\"color: black; background-color: #f6fcf4\">&nbspPER&nbsp</span><span class=\"barcode\"; style=\"color: black; background-color: #f6fcf4\">&nbspLA&nbsp</span><span class=\"barcode\"; style=\"color: black; background-color: #f6fcf4\">&nbspSCARSA&nbsp</span><span class=\"barcode\"; style=\"color: black; background-color: #f6fcf4\">&nbspRESPONSIVIT&nbsp</span><span class=\"barcode\"; style=\"color: black; background-color: #f7fcf5\">&nbsp+&nbsp</span><span class=\"barcode\"; style=\"color: black; background-color: #f6fcf4\">&nbspIMMUNOISTOCHIMICA&nbsp</span><span class=\"barcode\"; style=\"color: black; background-color: #f6fcf4\">&nbspDEL&nbsp</span><span class=\"barcode\"; style=\"color: black; background-color: #f2faef\">&nbspTESSUTO&nbsp</span><span class=\"barcode\"; style=\"color: black; background-color: #f6fcf4\">&nbspIN&nbsp</span><span class=\"barcode\"; style=\"color: black; background-color: #f6fcf4\">&nbspESAME&nbsp</span><span class=\"barcode\"; style=\"color: black; background-color: #f5fbf2\">&nbspVFRNR&nbsp</span><span class=\"barcode\"; style=\"color: black; background-color: #f6fcf4\">&nbspLP&nbsp</span>"
      ],
      "text/plain": [
       "<IPython.core.display.HTML object>"
      ]
     },
     "metadata": {},
     "output_type": "display_data"
    },
    {
     "name": "stdout",
     "output_type": "stream",
     "text": [
      "======== doc:  43\n"
     ]
    },
    {
     "data": {
      "text/html": [
       "<span class=\"barcode\"; style=\"color: black; background-color: #ecf8e8\">&nbspCARCINOMA&nbsp</span><span class=\"barcode\"; style=\"color: black; background-color: #b8e3b2\">&nbspBASOCELLULARE&nbsp</span><span class=\"barcode\"; style=\"color: black; background-color: #edf8ea\">&nbspINFILTRANTE&nbsp</span><span class=\"barcode\"; style=\"color: black; background-color: #ecf8e8\">&nbspIL&nbsp</span><span class=\"barcode\"; style=\"color: black; background-color: #daf0d4\">&nbspDERMA&nbsp</span><span class=\"barcode\"; style=\"color: black; background-color: #eaf7e6\">&nbspSUPERFICIALE&nbsp</span><span class=\"barcode\"; style=\"color: black; background-color: #f5fbf2\">&nbspE&nbsp</span><span class=\"barcode\"; style=\"color: black; background-color: #e4f5df\">&nbspPROFONDO&nbsp</span><span class=\"barcode\"; style=\"color: black; background-color: #e1f3dc\">&nbspLIBERI&nbsp</span><span class=\"barcode\"; style=\"color: black; background-color: #f5fbf3\">&nbspI&nbsp</span><span class=\"barcode\"; style=\"color: black; background-color: #eaf7e6\">&nbspLIMITI&nbsp</span><span class=\"barcode\"; style=\"color: black; background-color: #f4fbf2\">&nbspDI&nbsp</span><span class=\"barcode\"; style=\"color: black; background-color: #f0f9ed\">&nbspRESEZIONE&nbsp</span><span class=\"barcode\"; style=\"color: black; background-color: #ebf7e7\">&nbspCHIRURGICA&nbsp</span><span class=\"barcode\"; style=\"color: black; background-color: #e3f4de\">&nbspLOSANGA&nbsp</span><span class=\"barcode\"; style=\"color: black; background-color: #dcf2d7\">&nbspCUTANEA&nbsp</span><span class=\"barcode\"; style=\"color: black; background-color: #f6fcf4\">&nbspDI&nbsp</span><span class=\"barcode\"; style=\"color: black; background-color: #f6fcf4\">&nbsp3&nbsp</span><span class=\"barcode\"; style=\"color: black; background-color: #f6fcf4\">&nbspX&nbsp</span><span class=\"barcode\"; style=\"color: black; background-color: #f7fcf5\">&nbsp1&nbsp</span><span class=\"barcode\"; style=\"color: black; background-color: #f6fcf4\">&nbsp.&nbsp</span><span class=\"barcode\"; style=\"color: black; background-color: #f7fcf5\">&nbsp8&nbsp</span><span class=\"barcode\"; style=\"color: black; background-color: #f7fcf5\">&nbspCM&nbsp</span><span class=\"barcode\"; style=\"color: black; background-color: #f6fcf4\">&nbspINTERAMENTE&nbsp</span><span class=\"barcode\"; style=\"color: black; background-color: #f6fcf4\">&nbspOCCUPATA&nbsp</span><span class=\"barcode\"; style=\"color: black; background-color: #f7fcf5\">&nbspDA&nbsp</span><span class=\"barcode\"; style=\"color: black; background-color: #f5fbf3\">&nbspNEOFORMAZIONE&nbsp</span><span class=\"barcode\"; style=\"color: black; background-color: #f7fcf5\">&nbspBIANCASTRA&nbsp</span><span class=\"barcode\"; style=\"color: black; background-color: #f7fcf5\">&nbspRILEVATA&nbsp</span><span class=\"barcode\"; style=\"color: black; background-color: #f7fcf5\">&nbsp1&nbsp</span><span class=\"barcode\"; style=\"color: black; background-color: #f7fcf5\">&nbsp-&nbsp</span><span class=\"barcode\"; style=\"color: black; background-color: #f5fbf3\">&nbsp5NR&nbsp</span><span class=\"barcode\"; style=\"color: black; background-color: #f6fcf4\">&nbspLP&nbsp</span>"
      ],
      "text/plain": [
       "<IPython.core.display.HTML object>"
      ]
     },
     "metadata": {},
     "output_type": "display_data"
    },
    {
     "name": "stdout",
     "output_type": "stream",
     "text": [
      "======== doc:  44\n"
     ]
    },
    {
     "data": {
      "text/html": [
       "<span class=\"barcode\"; style=\"color: black; background-color: #f3faf0\">&nbspCARCINOMA&nbsp</span><span class=\"barcode\"; style=\"color: black; background-color: #c9eac2\">&nbspBASOCELLULARE&nbsp</span><span class=\"barcode\"; style=\"color: black; background-color: #f4fbf2\">&nbspINFILTRANTE&nbsp</span><span class=\"barcode\"; style=\"color: black; background-color: #f3faf0\">&nbspIL&nbsp</span><span class=\"barcode\"; style=\"color: black; background-color: #e7f6e3\">&nbspDERMA&nbsp</span><span class=\"barcode\"; style=\"color: black; background-color: #ecf8e8\">&nbspRETICOLARE&nbsp</span><span class=\"barcode\"; style=\"color: black; background-color: #f7fcf5\">&nbsp;&nbsp</span><span class=\"barcode\"; style=\"color: black; background-color: #f7fcf5\">&nbspCOESISTE&nbsp</span><span class=\"barcode\"; style=\"color: black; background-color: #f2faf0\">&nbspCISTI&nbsp</span><span class=\"barcode\"; style=\"color: black; background-color: #f7fcf5\">&nbspA&nbsp</span><span class=\"barcode\"; style=\"color: black; background-color: #f6fcf4\">&nbspRIVESTIMENTO&nbsp</span><span class=\"barcode\"; style=\"color: black; background-color: #f6fcf4\">&nbspDI&nbsp</span><span class=\"barcode\"; style=\"color: black; background-color: #f6fcf4\">&nbspTIPO&nbsp</span><span class=\"barcode\"; style=\"color: black; background-color: #eef8ea\">&nbspEPIDERMOIDE&nbsp</span><span class=\"barcode\"; style=\"color: black; background-color: #f6fcf4\">&nbspCON&nbsp</span><span class=\"barcode\"; style=\"color: black; background-color: #f6fcf4\">&nbspCONTENUTO&nbsp</span><span class=\"barcode\"; style=\"color: black; background-color: #f5fbf2\">&nbspCHERATINICO&nbsp</span><span class=\"barcode\"; style=\"color: black; background-color: #f5fbf3\">&nbspAVVOLTA&nbsp</span><span class=\"barcode\"; style=\"color: black; background-color: #f7fcf5\">&nbspDA&nbsp</span><span class=\"barcode\"; style=\"color: black; background-color: #f6fcf4\">&nbspFLOGOSI&nbsp</span><span class=\"barcode\"; style=\"color: black; background-color: #f6fcf4\">&nbspPRODUTTIVA&nbsp</span><span class=\"barcode\"; style=\"color: black; background-color: #f5fbf3\">&nbspGIGANTOCELLULARE&nbsp</span><span class=\"barcode\"; style=\"color: black; background-color: #f6fcf4\">&nbspTIPO&nbsp</span><span class=\"barcode\"; style=\"color: black; background-color: #f7fcf5\">&nbspDA&nbsp</span><span class=\"barcode\"; style=\"color: black; background-color: #f6fcf4\">&nbspCORPO&nbsp</span><span class=\"barcode\"; style=\"color: black; background-color: #f3faf0\">&nbspESTRANEO&nbsp</span><span class=\"barcode\"; style=\"color: black; background-color: #f6fcf4\">&nbsp.&nbsp</span><span class=\"barcode\"; style=\"color: black; background-color: #f4fbf1\">&nbspNEOFORMAZIONE&nbsp</span><span class=\"barcode\"; style=\"color: black; background-color: #f6fcf4\">&nbspBIANCASTRA&nbsp</span><span class=\"barcode\"; style=\"color: black; background-color: #f5fbf3\">&nbspDEL&nbsp</span><span class=\"barcode\"; style=\"color: black; background-color: #f6fcf4\">&nbspDIAMETRO&nbsp</span><span class=\"barcode\"; style=\"color: black; background-color: #f6fcf4\">&nbspMAX&nbsp</span><span class=\"barcode\"; style=\"color: black; background-color: #f6fcf4\">&nbspDI&nbsp</span><span class=\"barcode\"; style=\"color: black; background-color: #f7fcf5\">&nbspCM&nbsp</span><span class=\"barcode\"; style=\"color: black; background-color: #f7fcf5\">&nbsp0&nbsp</span><span class=\"barcode\"; style=\"color: black; background-color: #f7fcf5\">&nbsp,&nbsp</span><span class=\"barcode\"; style=\"color: black; background-color: #f7fcf5\">&nbsp6&nbsp</span><span class=\"barcode\"; style=\"color: black; background-color: #f6fcf4\">&nbspRIVESTITA&nbsp</span><span class=\"barcode\"; style=\"color: black; background-color: #f6fcf4\">&nbspDA&nbsp</span><span class=\"barcode\"; style=\"color: black; background-color: #eaf7e6\">&nbspCUTE&nbsp</span><span class=\"barcode\"; style=\"color: black; background-color: #f7fcf5\">&nbspSEZIONATA&nbsp</span><span class=\"barcode\"; style=\"color: black; background-color: #f7fcf5\">&nbsp,&nbsp</span><span class=\"barcode\"; style=\"color: black; background-color: #f6fcf4\">&nbspNR&nbsp</span><span class=\"barcode\"; style=\"color: black; background-color: #f6fcf4\">&nbspMG&nbsp</span>"
      ],
      "text/plain": [
       "<IPython.core.display.HTML object>"
      ]
     },
     "metadata": {},
     "output_type": "display_data"
    },
    {
     "name": "stdout",
     "output_type": "stream",
     "text": [
      "======== doc:  45\n"
     ]
    },
    {
     "data": {
      "text/html": [
       "<span class=\"barcode\"; style=\"color: black; background-color: #eaf7e6\">&nbspADENOMA&nbsp</span><span class=\"barcode\"; style=\"color: black; background-color: #edf8e9\">&nbspTUBULOVILLOSO&nbsp</span><span class=\"barcode\"; style=\"color: black; background-color: #e3f4de\">&nbspINTESTINALE&nbsp</span><span class=\"barcode\"; style=\"color: black; background-color: #f1faee\">&nbspDI&nbsp</span><span class=\"barcode\"; style=\"color: black; background-color: #f3faf0\">&nbspALTO&nbsp</span><span class=\"barcode\"; style=\"color: black; background-color: #f5fbf2\">&nbspGRADO&nbsp</span><span class=\"barcode\"; style=\"color: black; background-color: #f6fcf4\">&nbsp:&nbsp</span><span class=\"barcode\"; style=\"color: black; background-color: #eff9ec\">&nbspPEDUNCOLO&nbsp</span><span class=\"barcode\"; style=\"color: black; background-color: #f4fbf1\">&nbspPRESENTE&nbsp</span><span class=\"barcode\"; style=\"color: black; background-color: #f4fbf2\">&nbspE&nbsp</span><span class=\"barcode\"; style=\"color: black; background-color: #eff9ec\">&nbspINDENNE&nbsp</span><span class=\"barcode\"; style=\"color: black; background-color: #f1faee\">&nbsp.&nbsp</span><span class=\"barcode\"; style=\"color: black; background-color: #ebf7e7\">&nbspPOLIPECTOMIA&nbsp</span><span class=\"barcode\"; style=\"color: black; background-color: #edf8ea\">&nbspENDOSCOPICA&nbsp</span><span class=\"barcode\"; style=\"color: black; background-color: #f5fbf3\">&nbsp:&nbsp</span><span class=\"barcode\"; style=\"color: black; background-color: #f3faf0\">&nbspP&nbsp</span><span class=\"barcode\"; style=\"color: black; background-color: #f5fbf3\">&nbsp)&nbsp</span><span class=\"barcode\"; style=\"color: black; background-color: #f5fbf3\">&nbsp(&nbsp</span><span class=\"barcode\"; style=\"color: black; background-color: #f4fbf1\">&nbspDIMENSIONI&nbsp</span><span class=\"barcode\"; style=\"color: black; background-color: #f5fbf3\">&nbsp:&nbsp</span><span class=\"barcode\"; style=\"color: black; background-color: #f1faee\">&nbsp12X&nbsp</span><span class=\"barcode\"; style=\"color: black; background-color: #f4fbf1\">&nbsp10X8&nbsp</span><span class=\"barcode\"; style=\"color: black; background-color: #f5fbf2\">&nbspMM&nbsp</span><span class=\"barcode\"; style=\"color: black; background-color: #f7fcf5\">&nbsp.&nbsp</span><span class=\"barcode\"; style=\"color: black; background-color: #f7fcf5\">&nbsp)&nbsp</span><span class=\"barcode\"; style=\"color: black; background-color: #f6fcf4\">&nbsp.&nbsp</span>"
      ],
      "text/plain": [
       "<IPython.core.display.HTML object>"
      ]
     },
     "metadata": {},
     "output_type": "display_data"
    },
    {
     "name": "stdout",
     "output_type": "stream",
     "text": [
      "======== doc:  46\n"
     ]
    },
    {
     "data": {
      "text/html": [
       "<span class=\"barcode\"; style=\"color: black; background-color: #e3f4de\">&nbspPSA&nbsp</span><span class=\"barcode\"; style=\"color: black; background-color: #f6fcf4\">&nbsp5&nbsp</span><span class=\"barcode\"; style=\"color: black; background-color: #f7fcf5\">&nbsp,&nbsp</span><span class=\"barcode\"; style=\"color: black; background-color: #f6fcf4\">&nbsp7&nbsp</span><span class=\"barcode\"; style=\"color: black; background-color: #f7fcf5\">&nbsp.&nbsp</span><span class=\"barcode\"; style=\"color: black; background-color: #f4fbf1\">&nbspSOSPETTA&nbsp</span><span class=\"barcode\"; style=\"color: black; background-color: #f6fcf4\">&nbspNEOPLASIA&nbsp</span><span class=\"barcode\"; style=\"color: black; background-color: #e2f4dd\">&nbspPROSTATICA&nbsp</span><span class=\"barcode\"; style=\"color: black; background-color: #f6fcf4\">&nbspSU&nbsp</span><span class=\"barcode\"; style=\"color: black; background-color: #f1faee\">&nbspBASE&nbsp</span><span class=\"barcode\"; style=\"color: black; background-color: #f1faee\">&nbspCLINICA&nbsp</span><span class=\"barcode\"; style=\"color: black; background-color: #f5fbf3\">&nbspED&nbsp</span><span class=\"barcode\"; style=\"color: black; background-color: #e1f3dc\">&nbspECOGRAFICA&nbsp</span><span class=\"barcode\"; style=\"color: black; background-color: #f4fbf1\">&nbsp.&nbsp</span><span class=\"barcode\"; style=\"color: black; background-color: #ddf2d8\">&nbspADENOCARCINOMA&nbsp</span><span class=\"barcode\"; style=\"color: black; background-color: #afdfa8\">&nbspPROSTATICO&nbsp</span><span class=\"barcode\"; style=\"color: black; background-color: #f5fbf2\">&nbspA&nbsp</span><span class=\"barcode\"; style=\"color: black; background-color: #f1faee\">&nbspGRADO&nbsp</span><span class=\"barcode\"; style=\"color: black; background-color: #f5fbf2\">&nbspDI&nbsp</span><span class=\"barcode\"; style=\"color: black; background-color: #eff9ec\">&nbspDIFFERENZIAZIONE&nbsp</span><span class=\"barcode\"; style=\"color: black; background-color: #f0f9ed\">&nbspMEDIO&nbsp</span><span class=\"barcode\"; style=\"color: black; background-color: #f2faf0\">&nbsp-&nbsp</span><span class=\"barcode\"; style=\"color: black; background-color: #f3faf0\">&nbspBASSO&nbsp</span><span class=\"barcode\"; style=\"color: black; background-color: #f2faf0\">&nbsp(&nbsp</span><span class=\"barcode\"; style=\"color: black; background-color: #dbf1d5\">&nbspGLEASON&nbsp</span><span class=\"barcode\"; style=\"color: black; background-color: #f4fbf1\">&nbsp3&nbsp</span><span class=\"barcode\"; style=\"color: black; background-color: #f4fbf2\">&nbsp+&nbsp</span><span class=\"barcode\"; style=\"color: black; background-color: #f5fbf2\">&nbsp4&nbsp</span><span class=\"barcode\"; style=\"color: black; background-color: #f5fbf3\">&nbsp)&nbsp</span><span class=\"barcode\"; style=\"color: black; background-color: #f5fbf2\">&nbspIN&nbsp</span><span class=\"barcode\"; style=\"color: black; background-color: #f3faf0\">&nbspTUTTI&nbsp</span><span class=\"barcode\"; style=\"color: black; background-color: #f4fbf1\">&nbspI&nbsp</span><span class=\"barcode\"; style=\"color: black; background-color: #f4fbf1\">&nbspPRELIEVI&nbsp</span><span class=\"barcode\"; style=\"color: black; background-color: #f5fbf3\">&nbspRELATIVI&nbsp</span><span class=\"barcode\"; style=\"color: black; background-color: #f5fbf2\">&nbspAL&nbsp</span><span class=\"barcode\"; style=\"color: black; background-color: #e5f5e0\">&nbspLOBO&nbsp</span><span class=\"barcode\"; style=\"color: black; background-color: #eff9ec\">&nbspDESTRO&nbsp</span><span class=\"barcode\"; style=\"color: black; background-color: #f4fbf2\">&nbsp(&nbsp</span><span class=\"barcode\"; style=\"color: black; background-color: #f5fbf2\">&nbspN&nbsp</span><span class=\"barcode\"; style=\"color: black; background-color: #f6fcf4\">&nbsp.&nbsp</span><span class=\"barcode\"; style=\"color: black; background-color: #f5fbf2\">&nbsp1&nbsp</span><span class=\"barcode\"; style=\"color: black; background-color: #f4fbf2\">&nbsp)&nbsp</span><span class=\"barcode\"; style=\"color: black; background-color: #f5fbf3\">&nbsp.&nbsp</span><span class=\"barcode\"; style=\"color: black; background-color: #edf8ea\">&nbspAGOBIOPSIA&nbsp</span><span class=\"barcode\"; style=\"color: black; background-color: #e0f3db\">&nbspPROSTATICA&nbsp</span><span class=\"barcode\"; style=\"color: black; background-color: #f1faee\">&nbspRANDOM&nbsp</span><span class=\"barcode\"; style=\"color: black; background-color: #f4fbf2\">&nbsp:&nbsp</span><span class=\"barcode\"; style=\"color: black; background-color: #f5fbf3\">&nbsp1&nbsp</span><span class=\"barcode\"; style=\"color: black; background-color: #f4fbf1\">&nbsp)&nbsp</span><span class=\"barcode\"; style=\"color: black; background-color: #e3f4de\">&nbspLOBO&nbsp</span><span class=\"barcode\"; style=\"color: black; background-color: #eef8ea\">&nbspDESTRO&nbsp</span><span class=\"barcode\"; style=\"color: black; background-color: #f5fbf3\">&nbsp.&nbsp</span><span class=\"barcode\"; style=\"color: black; background-color: #f4fbf2\">&nbsp2&nbsp</span><span class=\"barcode\"; style=\"color: black; background-color: #f3faf0\">&nbsp)&nbsp</span><span class=\"barcode\"; style=\"color: black; background-color: #e3f4de\">&nbspLOBO&nbsp</span><span class=\"barcode\"; style=\"color: black; background-color: #edf8ea\">&nbspSINISTRO&nbsp</span><span class=\"barcode\"; style=\"color: black; background-color: #f5fbf2\">&nbsp.&nbsp</span>"
      ],
      "text/plain": [
       "<IPython.core.display.HTML object>"
      ]
     },
     "metadata": {},
     "output_type": "display_data"
    },
    {
     "name": "stdout",
     "output_type": "stream",
     "text": [
      "======== doc:  47\n"
     ]
    },
    {
     "data": {
      "text/html": [
       "<span class=\"barcode\"; style=\"color: black; background-color: #bbe4b4\">&nbspFIBROXANTOMA&nbsp</span><span class=\"barcode\"; style=\"color: black; background-color: #e4f5df\">&nbspATIPICO&nbsp</span><span class=\"barcode\"; style=\"color: black; background-color: #f4fbf2\">&nbsp.&nbsp</span><span class=\"barcode\"; style=\"color: black; background-color: #f3faf0\">&nbspLA&nbsp</span><span class=\"barcode\"; style=\"color: black; background-color: #e9f7e5\">&nbspLESIONE&nbsp</span><span class=\"barcode\"; style=\"color: black; background-color: #e5f5e0\">&nbspGIUNGE&nbsp</span><span class=\"barcode\"; style=\"color: black; background-color: #f6fcf4\">&nbspIN&nbsp</span><span class=\"barcode\"; style=\"color: black; background-color: #f3faf0\">&nbspPROSSIMITA&nbsp</span><span class=\"barcode\"; style=\"color: black; background-color: #f6fcf4\">&nbsp'&nbsp</span><span class=\"barcode\"; style=\"color: black; background-color: #f6fcf4\">&nbspDI&nbsp</span><span class=\"barcode\"; style=\"color: black; background-color: #f6fcf4\">&nbspUN&nbsp</span><span class=\"barcode\"; style=\"color: black; background-color: #f1faee\">&nbspAPICE&nbsp</span><span class=\"barcode\"; style=\"color: black; background-color: #f5fbf3\">&nbsp.&nbsp</span><span class=\"barcode\"; style=\"color: black; background-color: #f4fbf2\">&nbspINDAGINI&nbsp</span><span class=\"barcode\"; style=\"color: black; background-color: #f4fbf1\">&nbspIMMUNOISTOCHIMICHE&nbsp</span><span class=\"barcode\"; style=\"color: black; background-color: #f3faf0\">&nbspESEGUITE&nbsp</span><span class=\"barcode\"; style=\"color: black; background-color: #f5fbf2\">&nbsp:&nbsp</span><span class=\"barcode\"; style=\"color: black; background-color: #f2faef\">&nbspVIMENTINA&nbsp</span><span class=\"barcode\"; style=\"color: black; background-color: #f5fbf3\">&nbsp+&nbsp</span><span class=\"barcode\"; style=\"color: black; background-color: #f5fbf2\">&nbsp;&nbsp</span><span class=\"barcode\"; style=\"color: black; background-color: #f1faee\">&nbsp1A4&nbsp</span><span class=\"barcode\"; style=\"color: black; background-color: #f5fbf2\">&nbsp-&nbsp</span><span class=\"barcode\"; style=\"color: black; background-color: #f4fbf2\">&nbsp;&nbsp</span><span class=\"barcode\"; style=\"color: black; background-color: #f0f9ec\">&nbspS100&nbsp</span><span class=\"barcode\"; style=\"color: black; background-color: #f5fbf3\">&nbsp-&nbsp</span><span class=\"barcode\"; style=\"color: black; background-color: #f5fbf2\">&nbsp;&nbsp</span><span class=\"barcode\"; style=\"color: black; background-color: #f0f9ed\">&nbspHMB45&nbsp</span><span class=\"barcode\"; style=\"color: black; background-color: #f6fcf4\">&nbsp-&nbsp</span><span class=\"barcode\"; style=\"color: black; background-color: #f6fcf4\">&nbsp;&nbsp</span><span class=\"barcode\"; style=\"color: black; background-color: #f4fbf1\">&nbspAE1&nbsp</span><span class=\"barcode\"; style=\"color: black; background-color: #f6fcf4\">&nbsp/&nbsp</span><span class=\"barcode\"; style=\"color: black; background-color: #f4fbf2\">&nbspAE3&nbsp</span><span class=\"barcode\"; style=\"color: black; background-color: #f5fbf3\">&nbsp-&nbsp</span><span class=\"barcode\"; style=\"color: black; background-color: #f5fbf2\">&nbsp;&nbsp</span><span class=\"barcode\"; style=\"color: black; background-color: #eff9eb\">&nbspMIB&nbsp</span><span class=\"barcode\"; style=\"color: black; background-color: #f5fbf2\">&nbsp-&nbsp</span><span class=\"barcode\"; style=\"color: black; background-color: #f5fbf3\">&nbsp1&nbsp</span><span class=\"barcode\"; style=\"color: black; background-color: #f5fbf2\">&nbsp:&nbsp</span><span class=\"barcode\"; style=\"color: black; background-color: #f3faf0\">&nbsp80&nbsp</span><span class=\"barcode\"; style=\"color: black; background-color: #f2faef\">&nbsp%&nbsp</span><span class=\"barcode\"; style=\"color: black; background-color: #e7f6e2\">&nbspLOSANGA&nbsp</span><span class=\"barcode\"; style=\"color: black; background-color: #e7f6e2\">&nbspCUTANEA&nbsp</span><span class=\"barcode\"; style=\"color: black; background-color: #f6fcf4\">&nbspDI&nbsp</span><span class=\"barcode\"; style=\"color: black; background-color: #f6fcf4\">&nbspCM&nbsp</span><span class=\"barcode\"; style=\"color: black; background-color: #f6fcf4\">&nbsp.&nbsp</span><span class=\"barcode\"; style=\"color: black; background-color: #f6fcf4\">&nbsp2&nbsp</span><span class=\"barcode\"; style=\"color: black; background-color: #f7fcf5\">&nbsp,&nbsp</span><span class=\"barcode\"; style=\"color: black; background-color: #f6fcf4\">&nbsp5X2&nbsp</span><span class=\"barcode\"; style=\"color: black; background-color: #f7fcf5\">&nbsp,&nbsp</span><span class=\"barcode\"; style=\"color: black; background-color: #f6fcf4\">&nbspCON&nbsp</span><span class=\"barcode\"; style=\"color: black; background-color: #f4fbf1\">&nbspNEOFORMAZIONE&nbsp</span><span class=\"barcode\"; style=\"color: black; background-color: #eef8ea\">&nbspNODULARE&nbsp</span><span class=\"barcode\"; style=\"color: black; background-color: #f5fbf3\">&nbspRILEVATA&nbsp</span><span class=\"barcode\"; style=\"color: black; background-color: #f6fcf4\">&nbspDEL&nbsp</span><span class=\"barcode\"; style=\"color: black; background-color: #f6fcf4\">&nbspDIAMETRO&nbsp</span><span class=\"barcode\"; style=\"color: black; background-color: #f6fcf4\">&nbspDI&nbsp</span><span class=\"barcode\"; style=\"color: black; background-color: #f6fcf4\">&nbspCM&nbsp</span><span class=\"barcode\"; style=\"color: black; background-color: #f6fcf4\">&nbsp.&nbsp</span><span class=\"barcode\"; style=\"color: black; background-color: #f7fcf5\">&nbsp1&nbsp</span><span class=\"barcode\"; style=\"color: black; background-color: #f7fcf5\">&nbsp,&nbsp</span><span class=\"barcode\"; style=\"color: black; background-color: #f7fcf5\">&nbsp5&nbsp</span><span class=\"barcode\"; style=\"color: black; background-color: #f6fcf4\">&nbspCHE&nbsp</span><span class=\"barcode\"; style=\"color: black; background-color: #f6fcf4\">&nbspMACROSCOPICAMENTE&nbsp</span><span class=\"barcode\"; style=\"color: black; background-color: #f5fbf2\">&nbspSEMBRA&nbsp</span><span class=\"barcode\"; style=\"color: black; background-color: #f5fbf3\">&nbspGIUNGERE&nbsp</span><span class=\"barcode\"; style=\"color: black; background-color: #f7fcf5\">&nbspSU&nbsp</span><span class=\"barcode\"; style=\"color: black; background-color: #f7fcf5\">&nbspUN&nbsp</span><span class=\"barcode\"; style=\"color: black; background-color: #eff9eb\">&nbspAPICE&nbsp</span><span class=\"barcode\"; style=\"color: black; background-color: #f6fcf4\">&nbsp(&nbsp</span><span class=\"barcode\"; style=\"color: black; background-color: #f4fbf2\">&nbspMARGINI&nbsp</span><span class=\"barcode\"; style=\"color: black; background-color: #f6fcf4\">&nbspMARCATI&nbsp</span><span class=\"barcode\"; style=\"color: black; background-color: #f6fcf4\">&nbspCON&nbsp</span><span class=\"barcode\"; style=\"color: black; background-color: #f5fbf3\">&nbspINCHIOSTRO&nbsp</span><span class=\"barcode\"; style=\"color: black; background-color: #f7fcf5\">&nbsp)&nbsp</span><span class=\"barcode\"; style=\"color: black; background-color: #f7fcf5\">&nbsp1&nbsp</span><span class=\"barcode\"; style=\"color: black; background-color: #f7fcf5\">&nbsp)&nbsp</span><span class=\"barcode\"; style=\"color: black; background-color: #f5fbf2\">&nbspAPICI&nbsp</span><span class=\"barcode\"; style=\"color: black; background-color: #f6fcf4\">&nbsp;&nbsp</span><span class=\"barcode\"; style=\"color: black; background-color: #f7fcf5\">&nbsp2&nbsp</span><span class=\"barcode\"; style=\"color: black; background-color: #f7fcf5\">&nbsp-&nbsp</span><span class=\"barcode\"; style=\"color: black; background-color: #f7fcf5\">&nbsp3&nbsp</span><span class=\"barcode\"; style=\"color: black; background-color: #f7fcf5\">&nbsp)&nbsp</span><span class=\"barcode\"; style=\"color: black; background-color: #f6fcf4\">&nbspSEZIONI&nbsp</span><span class=\"barcode\"; style=\"color: black; background-color: #f6fcf4\">&nbspSERIATE&nbsp</span><span class=\"barcode\"; style=\"color: black; background-color: #f7fcf5\">&nbsp.&nbsp</span>"
      ],
      "text/plain": [
       "<IPython.core.display.HTML object>"
      ]
     },
     "metadata": {},
     "output_type": "display_data"
    },
    {
     "name": "stdout",
     "output_type": "stream",
     "text": [
      "======== doc:  48\n"
     ]
    },
    {
     "data": {
      "text/html": [
       "<span class=\"barcode\"; style=\"color: black; background-color: #eaf7e6\">&nbspLESIONE&nbsp</span><span class=\"barcode\"; style=\"color: black; background-color: #def2d9\">&nbspPAPULOSA&nbsp</span><span class=\"barcode\"; style=\"color: black; background-color: #f2faf0\">&nbspIN&nbsp</span><span class=\"barcode\"; style=\"color: black; background-color: #dff3da\">&nbspREGIONE&nbsp</span><span class=\"barcode\"; style=\"color: black; background-color: #daf0d4\">&nbspTEMPORALE&nbsp</span><span class=\"barcode\"; style=\"color: black; background-color: #f3faf0\">&nbspSX&nbsp</span><span class=\"barcode\"; style=\"color: black; background-color: #f4fbf2\">&nbsp.&nbsp</span><span class=\"barcode\"; style=\"color: black; background-color: #e8f6e4\">&nbspOD&nbsp</span><span class=\"barcode\"; style=\"color: black; background-color: #f2faef\">&nbsp:&nbsp</span><span class=\"barcode\"; style=\"color: black; background-color: #caeac3\">&nbspBASALIOMA&nbsp</span><span class=\"barcode\"; style=\"color: black; background-color: #f2faf0\">&nbsp.&nbsp</span><span class=\"barcode\"; style=\"color: black; background-color: #edf8ea\">&nbspCARCINOMA&nbsp</span><span class=\"barcode\"; style=\"color: black; background-color: #f1faee\">&nbspA&nbsp</span><span class=\"barcode\"; style=\"color: black; background-color: #ebf7e7\">&nbspCELLULE&nbsp</span><span class=\"barcode\"; style=\"color: black; background-color: #d0edca\">&nbspBASALI&nbsp</span><span class=\"barcode\"; style=\"color: black; background-color: #f2faef\">&nbsp.&nbsp</span><span class=\"barcode\"; style=\"color: black; background-color: #f3faf0\">&nbspLA&nbsp</span><span class=\"barcode\"; style=\"color: black; background-color: #f3faf0\">&nbspPROLIFERAZIONE&nbsp</span><span class=\"barcode\"; style=\"color: black; background-color: #f4fbf2\">&nbspNEOPLASTICA&nbsp</span><span class=\"barcode\"; style=\"color: black; background-color: #f5fbf3\">&nbspE&nbsp</span><span class=\"barcode\"; style=\"color: black; background-color: #f5fbf3\">&nbsp'&nbsp</span><span class=\"barcode\"; style=\"color: black; background-color: #ecf8e8\">&nbspCONTENUTA&nbsp</span><span class=\"barcode\"; style=\"color: black; background-color: #f0f9ec\">&nbspENTRO&nbsp</span><span class=\"barcode\"; style=\"color: black; background-color: #f5fbf3\">&nbspI&nbsp</span><span class=\"barcode\"; style=\"color: black; background-color: #ecf8e8\">&nbspMARGINI&nbsp</span><span class=\"barcode\"; style=\"color: black; background-color: #f3faf0\">&nbspDEL&nbsp</span><span class=\"barcode\"; style=\"color: black; background-color: #f0f9ec\">&nbspFRAMMENTO&nbsp</span><span class=\"barcode\"; style=\"color: black; background-color: #f4fbf2\">&nbsp.&nbsp</span><span class=\"barcode\"; style=\"color: black; background-color: #f0f9ed\">&nbspFRAMMENTO&nbsp</span><span class=\"barcode\"; style=\"color: black; background-color: #e4f5df\">&nbspCUTANEO&nbsp</span><span class=\"barcode\"; style=\"color: black; background-color: #f5fbf2\">&nbspE&nbsp</span><span class=\"barcode\"; style=\"color: black; background-color: #e9f7e5\">&nbspSOTTOCUTANEO&nbsp</span><span class=\"barcode\"; style=\"color: black; background-color: #f5fbf3\">&nbspDI&nbsp</span><span class=\"barcode\"; style=\"color: black; background-color: #f6fcf4\">&nbspCM&nbsp</span><span class=\"barcode\"; style=\"color: black; background-color: #f6fcf4\">&nbsp1&nbsp</span><span class=\"barcode\"; style=\"color: black; background-color: #f5fbf2\">&nbspX&nbsp</span><span class=\"barcode\"; style=\"color: black; background-color: #f6fcf4\">&nbsp0&nbsp</span><span class=\"barcode\"; style=\"color: black; background-color: #f6fcf4\">&nbsp,&nbsp</span><span class=\"barcode\"; style=\"color: black; background-color: #f6fcf4\">&nbsp9&nbsp</span><span class=\"barcode\"; style=\"color: black; background-color: #f5fbf2\">&nbspX&nbsp</span><span class=\"barcode\"; style=\"color: black; background-color: #f6fcf4\">&nbsp0&nbsp</span><span class=\"barcode\"; style=\"color: black; background-color: #f6fcf4\">&nbsp,&nbsp</span><span class=\"barcode\"; style=\"color: black; background-color: #f6fcf4\">&nbsp3&nbsp</span><span class=\"barcode\"; style=\"color: black; background-color: #f6fcf4\">&nbspCON&nbsp</span><span class=\"barcode\"; style=\"color: black; background-color: #f3faf0\">&nbspLESIONE&nbsp</span><span class=\"barcode\"; style=\"color: black; background-color: #eff9eb\">&nbspDISCROMICA&nbsp</span><span class=\"barcode\"; style=\"color: black; background-color: #f6fcf4\">&nbspDI&nbsp</span><span class=\"barcode\"; style=\"color: black; background-color: #f6fcf4\">&nbspCM&nbsp</span><span class=\"barcode\"; style=\"color: black; background-color: #f6fcf4\">&nbsp0&nbsp</span><span class=\"barcode\"; style=\"color: black; background-color: #f7fcf5\">&nbsp,&nbsp</span><span class=\"barcode\"; style=\"color: black; background-color: #f6fcf4\">&nbsp8&nbsp</span><span class=\"barcode\"; style=\"color: black; background-color: #f5fbf3\">&nbspX&nbsp</span><span class=\"barcode\"; style=\"color: black; background-color: #f6fcf4\">&nbsp0&nbsp</span><span class=\"barcode\"; style=\"color: black; background-color: #f7fcf5\">&nbsp,&nbsp</span><span class=\"barcode\"; style=\"color: black; background-color: #f6fcf4\">&nbsp7&nbsp</span><span class=\"barcode\"; style=\"color: black; background-color: #f6fcf4\">&nbsp.&nbsp</span><span class=\"barcode\"; style=\"color: black; background-color: #f6fcf4\">&nbsp1&nbsp</span><span class=\"barcode\"; style=\"color: black; background-color: #f6fcf4\">&nbsp-&nbsp</span><span class=\"barcode\"; style=\"color: black; background-color: #f6fcf4\">&nbsp3&nbsp</span><span class=\"barcode\"; style=\"color: black; background-color: #f7fcf5\">&nbsp)&nbsp</span><span class=\"barcode\"; style=\"color: black; background-color: #f5fbf3\">&nbspSEZIONI&nbsp</span><span class=\"barcode\"; style=\"color: black; background-color: #f6fcf4\">&nbspA&nbsp</span><span class=\"barcode\"; style=\"color: black; background-color: #f2faef\">&nbspCROCE&nbsp</span><span class=\"barcode\"; style=\"color: black; background-color: #f6fcf4\">&nbsp(&nbsp</span><span class=\"barcode\"; style=\"color: black; background-color: #f5fbf2\">&nbspMARGINI&nbsp</span><span class=\"barcode\"; style=\"color: black; background-color: #f6fcf4\">&nbspMARCATI&nbsp</span><span class=\"barcode\"; style=\"color: black; background-color: #f7fcf5\">&nbspCON&nbsp</span><span class=\"barcode\"; style=\"color: black; background-color: #f6fcf4\">&nbspINCHIOSTRO&nbsp</span><span class=\"barcode\"; style=\"color: black; background-color: #f7fcf5\">&nbsp)&nbsp</span><span class=\"barcode\"; style=\"color: black; background-color: #f7fcf5\">&nbsp.&nbsp</span>"
      ],
      "text/plain": [
       "<IPython.core.display.HTML object>"
      ]
     },
     "metadata": {},
     "output_type": "display_data"
    },
    {
     "name": "stdout",
     "output_type": "stream",
     "text": [
      "======== doc:  49\n"
     ]
    },
    {
     "data": {
      "text/html": [
       "<span class=\"barcode\"; style=\"color: black; background-color: #f2faf0\">&nbspDISOMOGENICITA&nbsp</span><span class=\"barcode\"; style=\"color: black; background-color: #f6fcf4\">&nbsp'&nbsp</span><span class=\"barcode\"; style=\"color: black; background-color: #f5fbf3\">&nbspDIFFUSE&nbsp</span><span class=\"barcode\"; style=\"color: black; background-color: #f7fcf5\">&nbsp.&nbsp</span><span class=\"barcode\"; style=\"color: black; background-color: #ecf8e8\">&nbspPSA&nbsp</span><span class=\"barcode\"; style=\"color: black; background-color: #f7fcf5\">&nbspNON&nbsp</span><span class=\"barcode\"; style=\"color: black; background-color: #f6fcf4\">&nbspPERVENUTO&nbsp</span><span class=\"barcode\"; style=\"color: black; background-color: #f7fcf5\">&nbsp.&nbsp</span><span class=\"barcode\"; style=\"color: black; background-color: #e7f6e3\">&nbspADENOCARCINOMA&nbsp</span><span class=\"barcode\"; style=\"color: black; background-color: #bee5b8\">&nbspPROSTATICO&nbsp</span><span class=\"barcode\"; style=\"color: black; background-color: #f6fcf4\">&nbspA&nbsp</span><span class=\"barcode\"; style=\"color: black; background-color: #f3faf0\">&nbspGRADO&nbsp</span><span class=\"barcode\"; style=\"color: black; background-color: #f6fcf4\">&nbspDI&nbsp</span><span class=\"barcode\"; style=\"color: black; background-color: #f2faef\">&nbspDIFFERENZIAZIONE&nbsp</span><span class=\"barcode\"; style=\"color: black; background-color: #f2faef\">&nbspMEDIO&nbsp</span><span class=\"barcode\"; style=\"color: black; background-color: #f5fbf2\">&nbsp-&nbsp</span><span class=\"barcode\"; style=\"color: black; background-color: #f5fbf3\">&nbspBASSO&nbsp</span><span class=\"barcode\"; style=\"color: black; background-color: #f6fcf4\">&nbsp(&nbsp</span><span class=\"barcode\"; style=\"color: black; background-color: #dbf1d6\">&nbspGLEASON&nbsp</span><span class=\"barcode\"; style=\"color: black; background-color: #f5fbf3\">&nbsp3&nbsp</span><span class=\"barcode\"; style=\"color: black; background-color: #f6fcf4\">&nbsp+&nbsp</span><span class=\"barcode\"; style=\"color: black; background-color: #f6fcf4\">&nbsp4&nbsp</span><span class=\"barcode\"; style=\"color: black; background-color: #f6fcf4\">&nbsp)&nbsp</span><span class=\"barcode\"; style=\"color: black; background-color: #f7fcf5\">&nbspNEI&nbsp</span><span class=\"barcode\"; style=\"color: black; background-color: #f5fbf3\">&nbspPRELIEVI&nbsp</span><span class=\"barcode\"; style=\"color: black; background-color: #f7fcf5\">&nbspDI&nbsp</span><span class=\"barcode\"; style=\"color: black; background-color: #f6fcf4\">&nbspCUI&nbsp</span><span class=\"barcode\"; style=\"color: black; background-color: #f6fcf4\">&nbspAI&nbsp</span><span class=\"barcode\"; style=\"color: black; background-color: #f6fcf4\">&nbspNN&nbsp</span><span class=\"barcode\"; style=\"color: black; background-color: #f7fcf5\">&nbsp.&nbsp</span><span class=\"barcode\"; style=\"color: black; background-color: #f7fcf5\">&nbsp2&nbsp</span><span class=\"barcode\"; style=\"color: black; background-color: #f7fcf5\">&nbspE&nbsp</span><span class=\"barcode\"; style=\"color: black; background-color: #f7fcf5\">&nbsp3&nbsp</span><span class=\"barcode\"; style=\"color: black; background-color: #f7fcf5\">&nbsp.&nbsp</span><span class=\"barcode\"; style=\"color: black; background-color: #f4fbf1\">&nbspAGOBIOPSIA&nbsp</span><span class=\"barcode\"; style=\"color: black; background-color: #f6fcf4\">&nbspDELLA&nbsp</span><span class=\"barcode\"; style=\"color: black; background-color: #e5f5e0\">&nbspPROSTATA&nbsp</span><span class=\"barcode\"; style=\"color: black; background-color: #f6fcf4\">&nbsp:&nbsp</span><span class=\"barcode\"; style=\"color: black; background-color: #f7fcf5\">&nbsp1&nbsp</span><span class=\"barcode\"; style=\"color: black; background-color: #f6fcf4\">&nbsp)&nbsp</span><span class=\"barcode\"; style=\"color: black; background-color: #f7fcf5\">&nbsp1&nbsp</span><span class=\"barcode\"; style=\"color: black; background-color: #f6fcf4\">&nbspPRELIEVO&nbsp</span><span class=\"barcode\"; style=\"color: black; background-color: #eef8ea\">&nbspLL&nbsp</span><span class=\"barcode\"; style=\"color: black; background-color: #f4fbf2\">&nbspDX&nbsp</span><span class=\"barcode\"; style=\"color: black; background-color: #f7fcf5\">&nbsp.&nbsp</span><span class=\"barcode\"; style=\"color: black; background-color: #f7fcf5\">&nbsp2&nbsp</span><span class=\"barcode\"; style=\"color: black; background-color: #f6fcf4\">&nbsp)&nbsp</span><span class=\"barcode\"; style=\"color: black; background-color: #f7fcf5\">&nbsp2&nbsp</span><span class=\"barcode\"; style=\"color: black; background-color: #f6fcf4\">&nbspPRELIEVI&nbsp</span><span class=\"barcode\"; style=\"color: black; background-color: #f5fbf3\">&nbspML&nbsp</span><span class=\"barcode\"; style=\"color: black; background-color: #f4fbf1\">&nbspDX&nbsp</span><span class=\"barcode\"; style=\"color: black; background-color: #f7fcf5\">&nbsp.&nbsp</span><span class=\"barcode\"; style=\"color: black; background-color: #f6fcf4\">&nbsp3&nbsp</span><span class=\"barcode\"; style=\"color: black; background-color: #f6fcf4\">&nbsp)&nbsp</span><span class=\"barcode\"; style=\"color: black; background-color: #f7fcf5\">&nbsp2&nbsp</span><span class=\"barcode\"; style=\"color: black; background-color: #f6fcf4\">&nbspPRELIEVI&nbsp</span><span class=\"barcode\"; style=\"color: black; background-color: #f6fcf4\">&nbspM&nbsp</span><span class=\"barcode\"; style=\"color: black; background-color: #f4fbf1\">&nbspDX&nbsp</span><span class=\"barcode\"; style=\"color: black; background-color: #f7fcf5\">&nbsp.&nbsp</span><span class=\"barcode\"; style=\"color: black; background-color: #f6fcf4\">&nbsp4&nbsp</span><span class=\"barcode\"; style=\"color: black; background-color: #f7fcf5\">&nbsp)&nbsp</span><span class=\"barcode\"; style=\"color: black; background-color: #f7fcf5\">&nbsp1&nbsp</span><span class=\"barcode\"; style=\"color: black; background-color: #f6fcf4\">&nbspPRELIEVO&nbsp</span><span class=\"barcode\"; style=\"color: black; background-color: #f6fcf4\">&nbspM&nbsp</span><span class=\"barcode\"; style=\"color: black; background-color: #f4fbf1\">&nbspSX&nbsp</span><span class=\"barcode\"; style=\"color: black; background-color: #f7fcf5\">&nbsp.&nbsp</span><span class=\"barcode\"; style=\"color: black; background-color: #f6fcf4\">&nbsp5&nbsp</span><span class=\"barcode\"; style=\"color: black; background-color: #f6fcf4\">&nbsp)&nbsp</span><span class=\"barcode\"; style=\"color: black; background-color: #f7fcf5\">&nbsp2&nbsp</span><span class=\"barcode\"; style=\"color: black; background-color: #f6fcf4\">&nbspPRELIEVI&nbsp</span><span class=\"barcode\"; style=\"color: black; background-color: #f5fbf3\">&nbspML&nbsp</span><span class=\"barcode\"; style=\"color: black; background-color: #f4fbf2\">&nbspSX&nbsp</span><span class=\"barcode\"; style=\"color: black; background-color: #f7fcf5\">&nbsp.&nbsp</span><span class=\"barcode\"; style=\"color: black; background-color: #f6fcf4\">&nbsp6&nbsp</span><span class=\"barcode\"; style=\"color: black; background-color: #f6fcf4\">&nbsp)&nbsp</span><span class=\"barcode\"; style=\"color: black; background-color: #f7fcf5\">&nbsp1&nbsp</span><span class=\"barcode\"; style=\"color: black; background-color: #f6fcf4\">&nbspPRELIEVO&nbsp</span><span class=\"barcode\"; style=\"color: black; background-color: #eff9ec\">&nbspLL&nbsp</span><span class=\"barcode\"; style=\"color: black; background-color: #f4fbf2\">&nbspSX&nbsp</span><span class=\"barcode\"; style=\"color: black; background-color: #f7fcf5\">&nbsp.&nbsp</span><span class=\"barcode\"; style=\"color: black; background-color: #f6fcf4\">&nbsp7&nbsp</span><span class=\"barcode\"; style=\"color: black; background-color: #f6fcf4\">&nbsp)&nbsp</span><span class=\"barcode\"; style=\"color: black; background-color: #f7fcf5\">&nbsp1&nbsp</span><span class=\"barcode\"; style=\"color: black; background-color: #f6fcf4\">&nbspPRELIEVO&nbsp</span><span class=\"barcode\"; style=\"color: black; background-color: #eef8ea\">&nbspTRANSIZIONALE&nbsp</span><span class=\"barcode\"; style=\"color: black; background-color: #f3faf0\">&nbspSX&nbsp</span><span class=\"barcode\"; style=\"color: black; background-color: #f7fcf5\">&nbsp.&nbsp</span><span class=\"barcode\"; style=\"color: black; background-color: #f6fcf4\">&nbsp8&nbsp</span><span class=\"barcode\"; style=\"color: black; background-color: #f6fcf4\">&nbsp)&nbsp</span><span class=\"barcode\"; style=\"color: black; background-color: #f6fcf4\">&nbsp1&nbsp</span><span class=\"barcode\"; style=\"color: black; background-color: #f6fcf4\">&nbspPRELIEVO&nbsp</span><span class=\"barcode\"; style=\"color: black; background-color: #ecf8e8\">&nbspTRANSIZIONALE&nbsp</span><span class=\"barcode\"; style=\"color: black; background-color: #f2faf0\">&nbspDX&nbsp</span><span class=\"barcode\"; style=\"color: black; background-color: #f6fcf4\">&nbsp.&nbsp</span>"
      ],
      "text/plain": [
       "<IPython.core.display.HTML object>"
      ]
     },
     "metadata": {},
     "output_type": "display_data"
    }
   ],
   "source": [
    "printed = 0\n",
    "for currDoc in range(visRange[0], visRange[1]):\n",
    "    if binary and (not only is None) and (not yt[currDoc][0] in only):\n",
    "        continue\n",
    "    if (not binary) and (not only is None) and (not yt[currDoc] in only):\n",
    "        continue\n",
    "    print(\"======== doc: \", currDoc)\n",
    "    if binary:\n",
    "        currYt = yt[currDoc][0]\n",
    "        currYp = yp[currDoc][0]\n",
    "        #print(\"y: {}; yp: {}\".format(currYt, currYp))\n",
    "    else:\n",
    "        currYt = yt[currDoc]\n",
    "        currYp = yp[currDoc]\n",
    "        #print(\"y: {} ({}-{}); yp: {} ({}-{})\".format(currYt, values[currYt], icdo[values[currYt]], np.argmax(currYp), values[np.argmax(currYp)], icdo[values[np.argmax(currYp)]]))\n",
    "        #print(\" - \".join([\"{}:{:.1f}\".format(i,p) for i,p in enumerate(currYp)]))\n",
    "    if colonRetto:\n",
    "        if currYt == 1.:\n",
    "            print(\"Retto\")\n",
    "        elif currYt == 0.:\n",
    "            print(\"Colon\")\n",
    "    #print(\"---\")\n",
    "    for currAttNum in range(att[currDoc].shape[1]):\n",
    "        #if binary or not hiddenEqualClasses:\n",
    "        #    #print(currAttNum)\n",
    "        #else:\n",
    "        #    #print(\"{} ({}-{})\".format(currAttNum, values[currAttNum], icdo[values[currAttNum]]))\n",
    "        currAtt = att[currDoc][:,currAttNum]\n",
    "        if printWhat == 'all':\n",
    "            s = colorize(text[currDoc], currAtt, diverging=False, color=currAttNum)\n",
    "        else:\n",
    "            maxAtt = np.zeros_like(currAtt)\n",
    "            if printWhat == 'maxed':\n",
    "                maxAtt[np.argmax(currAtt)] = 1\n",
    "            if printWhat == 'max':\n",
    "                maxAtt[np.argmax(currAtt)] = currAtt[np.argmax(currAtt)]\n",
    "            s = colorize(text[currDoc], maxAtt, diverging=False, color=currAttNum)\n",
    "            \n",
    "    printed += 1\n",
    "    if (not visLimit is None) and (printed >= visLimit):\n",
    "        break"
   ]
  },
  {
   "cell_type": "code",
   "execution_count": 40,
   "metadata": {
    "scrolled": true
   },
   "outputs": [
    {
     "name": "stdout",
     "output_type": "stream",
     "text": [
      "======== doc:  837\n",
      "y: 31 (34-BRONCO E POLMONE); yp: 31 (34-BRONCO E POLMONE)\n",
      "Relevant attentions:\n",
      "31 (34-BRONCO E POLMONE)\n",
      "---\n",
      "34&\\begin{minipage}{\\attTableIcdoWidth}\\att{34}{red}{100} \\att{(BRONCHUS}{red}{100} \\att{AND}{red}{100} \\att{LUNG)}{red}{100} \\end{minipage}&\\begin{minipage}{\\attTableTextWidth}\\att{REPERTI}{red}{0} \\att{MORFOLOGICI}{red}{0} \\att{ED}{red}{0} \\att{IMMUNOISTOCHIMICI}{red}{0} \\att{(}{red}{0} \\att{CK7}{red}{0} \\att{+}{red}{0} \\att{,}{red}{0} \\att{CD56}{red}{43} \\att{+}{red}{0} \\att{,}{red}{0} \\att{NSE}{red}{0} \\att{+}{red}{0} \\att{,}{red}{0} \\att{CROMOGRANINA}{red}{0} \\att{+}{red}{0} \\att{,}{red}{0} \\att{LCA}{red}{0} \\att{-}{red}{0} \\att{)}{red}{0} \\att{COMPATIBILI}{red}{0} \\att{CON}{red}{0} \\att{CARCINOMA}{red}{0} \\att{A}{red}{0} \\att{PICCOLE}{red}{100} \\att{CELLULE}{red}{99} \\att{.}{red}{0} \\att{A}{red}{0} \\att{)}{red}{0} \\att{BIOPSIA}{red}{0} \\att{BRONCHIALE}{red}{100} \\att{DEL}{red}{0} \\att{POLMONE}{red}{100} \\att{SINISTRO}{red}{100} \\att{(}{red}{0} \\att{PRELIEVI}{red}{0} \\att{:}{red}{0} \\att{N}{red}{0} \\att{¦}{red}{0} \\att{5}{red}{0} \\att{)}{red}{0} \\att{.}{red}{0} \\end{minipage}\\\\\n",
      "======== doc:  854\n",
      "y: 31 (34-BRONCO E POLMONE); yp: 31 (34-BRONCO E POLMONE)\n",
      "Relevant attentions:\n",
      "22 (22-FEGATO E DOTTI BILIARI INTRAEPATICI)\n",
      "31 (34-BRONCO E POLMONE)\n",
      "---\n",
      "34&\\begin{minipage}{\\attTableIcdoWidth}\\att{\\att{22}{red}{100}}{green}{0} \\att{\\att{(LIVER}{red}{100}}{green}{0} \\att{\\att{AND}{red}{100}}{green}{0} \\att{\\att{INTRAHEPATIC}{red}{100}}{green}{0} \\att{\\att{BILE}{red}{100}}{green}{0} \\att{\\att{DUCT)}{red}{100}}{green}{0} \\\\\\\\\\att{\\att{34}{red}{0}}{green}{100} \\att{\\att{(BRONCHUS}{red}{0}}{green}{100} \\att{\\att{AND}{red}{0}}{green}{100} \\att{\\att{LUNG)}{red}{0}}{green}{100} \\end{minipage}&\\begin{minipage}{\\attTableTextWidth}\\att{\\att{REPERTI}{red}{0}}{green}{0} \\att{\\att{ISTOMORFOLOGICI}{red}{64}}{green}{0} \\att{\\att{SUGGESTIVI}{red}{0}}{green}{0} \\att{\\att{PER}{red}{0}}{green}{0} \\att{\\att{CARCINOMA}{red}{0}}{green}{0} \\att{\\att{NON}{red}{0}}{green}{0} \\att{\\att{A}{red}{0}}{green}{0} \\att{\\att{PICCOLE}{red}{0}}{green}{100} \\att{\\att{CELLULE}{red}{0}}{green}{100} \\att{\\att{.}{red}{0}}{green}{0} \\att{\\att{FRUSTOLO}{red}{0}}{green}{0} \\att{\\att{AGOBIOPTICO}{red}{0}}{green}{1} \\att{\\att{POLMONARE}{red}{0}}{green}{100} \\att{\\att{(}{red}{0}}{green}{0} \\att{\\att{GI}{red}{0}}{green}{1} \\att{\\att{+}{red}{0}}{green}{0} \\att{\\att{IN}{red}{0}}{green}{0} \\att{\\att{BIOCASETTA}{red}{0}}{green}{3} \\att{\\att{)}{red}{0}}{green}{0} \\att{\\att{.}{red}{0}}{green}{0} \\att{\\att{(}{red}{0}}{green}{0} \\att{\\att{ESEGUITA}{red}{0}}{green}{0} \\att{\\att{COLORAZIONE}{red}{0}}{green}{0} \\att{\\att{EMATOSSILINA}{red}{0}}{green}{0} \\att{\\att{-}{red}{0}}{green}{0} \\att{\\att{EOSINA}{red}{0}}{green}{0} \\att{\\att{)}{red}{0}}{green}{0} \\att{\\att{.}{red}{0}}{green}{0} \\end{minipage}\\\\\n",
      "======== doc:  867\n",
      "y: 31 (34-BRONCO E POLMONE); yp: 31 (34-BRONCO E POLMONE)\n",
      "Relevant attentions:\n",
      "31 (34-BRONCO E POLMONE)\n",
      "---\n",
      "34&\\begin{minipage}{\\attTableIcdoWidth}\\att{34}{red}{100} \\att{(BRONCHUS}{red}{100} \\att{AND}{red}{100} \\att{LUNG)}{red}{100} \\end{minipage}&\\begin{minipage}{\\attTableTextWidth}\\att{NEOPLASIA}{red}{0} \\att{DEL}{red}{0} \\att{POLMONE}{red}{100} \\att{SINISTRO}{red}{0} \\att{.}{red}{0} \\att{ADENOCARCINOMA}{red}{0} \\att{POLMONARE}{red}{100} \\att{DI}{red}{0} \\att{TIPO}{red}{0} \\att{ACINARE}{red}{0} \\att{A}{red}{0} \\att{MEDIO}{red}{0} \\att{GRADO}{red}{0} \\att{DI}{red}{0} \\att{DIFFERENZIAZIONE}{red}{0} \\att{INFILTRANTE}{red}{0} \\att{I}{red}{0} \\att{LINFONODI}{red}{0} \\att{ILARI}{red}{0} \\att{.}{red}{0} \\att{IMMUNOISTOCHIMICA}{red}{0} \\att{:}{red}{0} \\att{TTF}{red}{0} \\att{-}{red}{0} \\att{1}{red}{0} \\att{+}{red}{0} \\att{,}{red}{0} \\att{CK7}{red}{0} \\att{+}{red}{0} \\att{,}{red}{0} \\att{CK20}{red}{0} \\att{-}{red}{0} \\att{,}{red}{0} \\att{CDX}{red}{0} \\att{-}{red}{0} \\att{2}{red}{0} \\att{-}{red}{0} \\att{.}{red}{0} \\att{NESSUNA}{red}{0} \\att{DOCUMENTABILE}{red}{0} \\att{PROLIFERAZIONE}{red}{0} \\att{NEOPLASTICA}{red}{0} \\att{NEL}{red}{0} \\att{MARGINE}{red}{0} \\att{BRONCHIALE}{red}{100} \\att{DI}{red}{0} \\att{RESEZIONE}{red}{0} \\att{CHIRURGICA}{red}{0} \\att{E}{red}{0} \\att{NEI}{red}{0} \\att{RESTANTI}{red}{0} \\att{LINFONODI}{red}{0} \\att{IN}{red}{0} \\att{ESAME}{red}{0} \\att{.}{red}{0} \\att{(}{red}{0} \\att{PT1}{red}{0} \\att{,}{red}{0} \\att{N1}{red}{0} \\att{,}{red}{0} \\att{MX}{red}{0} \\att{,}{red}{0} \\att{RX}{red}{0} \\att{)}{red}{0} \\att{.}{red}{0} \\att{A}{red}{0} \\att{:}{red}{0} \\att{1}{red}{0} \\att{)}{red}{0} \\att{LIMITE}{red}{0} \\att{DI}{red}{0} \\att{SEZIONE}{red}{0} \\att{CHIRURGICA}{red}{0} \\att{BRONCHIALE}{red}{99} \\att{.}{red}{0} \\att{2}{red}{0} \\att{-}{red}{0} \\att{4}{red}{0} \\att{)}{red}{0} \\att{NEOPLASIA}{red}{0} \\att{PERIFERICA}{red}{0} \\att{INVIATA}{red}{0} \\att{SEPARATAMENTE}{red}{0} \\att{.}{red}{0} \\att{5}{red}{0} \\att{)}{red}{0} \\att{LINFONODI}{red}{0} \\att{PERIBRONCHIALI}{red}{0} \\att{.}{red}{0} \\att{6}{red}{0} \\att{)}{red}{0} \\att{FRAMMENTO}{red}{0} \\att{DI}{red}{0} \\att{PARENCHIMA}{red}{0} \\att{POLMONARE}{red}{100} \\att{.}{red}{0} \\att{B}{red}{0} \\att{:}{red}{0} \\att{1}{red}{0} \\att{)}{red}{0} \\end{minipage}\\\\\n",
      "======== doc:  874\n",
      "y: 29 (32-LARINGE); yp: 29 (32-LARINGE)\n",
      "Relevant attentions:\n",
      "29 (32-LARINGE)\n",
      "---\n",
      "32&\\begin{minipage}{\\attTableIcdoWidth}\\att{32}{red}{100} \\att{(LARYNX)}{red}{100} \\end{minipage}&\\begin{minipage}{\\attTableTextWidth}\\att{PAZIENTE}{red}{0} \\att{CON}{red}{0} \\att{NEOFORMAZIONE}{red}{0} \\att{CORDA}{red}{50} \\att{COMMISSURALE}{red}{11} \\att{SX}{red}{0} \\att{CARCINOMA}{red}{0} \\att{A}{red}{0} \\att{CELLULE}{red}{0} \\att{SQUAMOSE}{red}{0} \\att{A}{red}{0} \\att{BASSO}{red}{0} \\att{GRADO}{red}{0} \\att{DI}{red}{0} \\att{DIFFERENZIAZIONE}{red}{0} \\att{.}{red}{0} \\att{DISPLASIA}{red}{0} \\att{SEVERA}{red}{0} \\att{DELL}{red}{0} \\att{'}{red}{0} \\att{EPITELIO}{red}{0} \\att{DI}{red}{0} \\att{RIVESTIMENTO}{red}{0} \\att{NEL}{red}{0} \\att{PRELIEVO}{red}{0} \\att{RELATIVO}{red}{0} \\att{AL}{red}{0} \\att{MARGINE}{red}{0} \\att{SUPERIORE}{red}{0} \\att{(}{red}{0} \\att{N}{red}{0} \\att{.}{red}{0} \\att{1}{red}{0} \\att{)}{red}{0} \\att{.}{red}{0} \\att{EMILARINGE}{red}{63} \\att{SIN}{red}{0} \\att{:}{red}{0} \\att{A}{red}{0} \\att{:}{red}{0} \\att{EPIGLOTTIDE}{red}{66} \\att{E}{red}{0} \\att{TRATTO}{red}{0} \\att{CORDO}{red}{1} \\att{-}{red}{0} \\att{COMMISSURALE}{red}{1} \\att{DI}{red}{0} \\att{CM}{red}{0} \\att{6}{red}{0} \\att{X}{red}{0} \\att{4}{red}{0} \\att{X}{red}{0} \\att{3}{red}{0} \\att{CON}{red}{0} \\att{NEOFORMAZIONE}{red}{0} \\att{DI}{red}{0} \\att{CM}{red}{0} \\att{2}{red}{0} \\att{,}{red}{0} \\att{5}{red}{0} \\att{X}{red}{0} \\att{1}{red}{0} \\att{,}{red}{0} \\att{5}{red}{0} \\att{IN}{red}{0} \\att{SEDE}{red}{0} \\att{CORDO}{red}{0} \\att{-}{red}{0} \\att{COMMISSURALE}{red}{0} \\att{DX}{red}{0} \\att{(}{red}{0} \\att{MARGINI}{red}{0} \\att{MARCATI}{red}{0} \\att{CON}{red}{0} \\att{INCHIOSTRO}{red}{0} \\att{)}{red}{0} \\att{.}{red}{0} \\att{PRESENZA}{red}{0} \\att{INOLTRE}{red}{0} \\att{DI}{red}{0} \\att{TESSUTO}{red}{0} \\att{IPOFARINGEO}{red}{0} \\att{.}{red}{0} \\att{1}{red}{0} \\att{)}{red}{0} \\att{MARGINE}{red}{0} \\att{SUPERIORE}{red}{0} \\att{.}{red}{0} \\att{2}{red}{0} \\att{)}{red}{0} \\att{MARGINE}{red}{0} \\att{INFERIORE}{red}{0} \\att{.}{red}{0} \\att{3}{red}{0} \\att{)}{red}{0} \\att{MARGINE}{red}{0} \\att{LATERALE}{red}{0} \\att{DX}{red}{0} \\att{.}{red}{0} \\att{4}{red}{0} \\end{minipage}\\\\\n",
      "======== doc:  887\n",
      "y: 31 (34-BRONCO E POLMONE); yp: 31 (34-BRONCO E POLMONE)\n",
      "Relevant attentions:\n",
      "31 (34-BRONCO E POLMONE)\n",
      "---\n",
      "34&\\begin{minipage}{\\attTableIcdoWidth}\\att{34}{red}{100} \\att{(BRONCHUS}{red}{100} \\att{AND}{red}{100} \\att{LUNG)}{red}{100} \\end{minipage}&\\begin{minipage}{\\attTableTextWidth}\\att{CARCINOMA}{red}{0} \\att{NON}{red}{0} \\att{PICCOLE}{red}{7} \\att{CELLULE}{red}{1} \\att{,}{red}{0} \\att{INFILTRANTE}{red}{0} \\att{LA}{red}{0} \\att{PORZIONE}{red}{0} \\att{PROFONDA}{red}{0} \\att{DEL}{red}{0} \\att{CORION}{red}{0} \\att{NEL}{red}{0} \\att{FRAMMENTO}{red}{0} \\att{DI}{red}{0} \\att{MUCOSA}{red}{0} \\att{BRONCHIALE}{red}{100} \\att{IN}{red}{0} \\att{ESAME}{red}{0} \\att{.}{red}{0} \\att{BIOPSIA}{red}{0} \\att{BRONCHIALE}{red}{100} \\att{:}{red}{0} \\att{NEOFORMAZIONE}{red}{0} \\att{VEGETANTE}{red}{0} \\att{DEL}{red}{0} \\att{BRONCO}{red}{100} \\att{LOBARE}{red}{100} \\att{SUPERIORE}{red}{1} \\att{DESTRO}{red}{0} \\att{CHE}{red}{0} \\att{OCCLUDE}{red}{0} \\att{COMPLETAMENTE}{red}{0} \\att{I}{red}{0} \\att{SEGMENTI}{red}{0} \\att{APICALE}{red}{0} \\att{E}{red}{0} \\att{DORSALE}{red}{0} \\att{(}{red}{0} \\att{PRELIEVI}{red}{0} \\att{:}{red}{0} \\att{N}{red}{0} \\att{¦}{red}{0} \\att{1}{red}{0} \\att{)}{red}{0} \\att{.}{red}{0} \\end{minipage}\\\\\n",
      "======== doc:  920\n",
      "y: 31 (34-BRONCO E POLMONE); yp: 31 (34-BRONCO E POLMONE)\n",
      "Relevant attentions:\n",
      "31 (34-BRONCO E POLMONE)\n",
      "---\n",
      "34&\\begin{minipage}{\\attTableIcdoWidth}\\att{34}{red}{100} \\att{(BRONCHUS}{red}{100} \\att{AND}{red}{100} \\att{LUNG)}{red}{100} \\end{minipage}&\\begin{minipage}{\\attTableTextWidth}\\att{FRAMMISTI}{red}{0} \\att{A}{red}{0} \\att{CELLULE}{red}{0} \\att{BRONCHIALI}{red}{100} \\att{CILIATE}{red}{100} \\att{SI}{red}{0} \\att{DOCUMENTANO}{red}{0} \\att{ELEMENTI}{red}{0} \\att{CELLULARI}{red}{0} \\att{ISOLATI}{red}{0} \\att{O}{red}{0} \\att{IN}{red}{0} \\att{PICCOLI}{red}{0} \\att{GRUPPI}{red}{0} \\att{CON}{red}{0} \\att{ATIPIE}{red}{0} \\att{COMPATIBILI}{red}{0} \\att{CON}{red}{0} \\att{CARCINOMA}{red}{0} \\att{INDIFFERENZIATO}{red}{96} \\att{(}{red}{0} \\att{POSSIBILE}{red}{1} \\att{CARCINOMA}{red}{0} \\att{ANAPLASTICO}{red}{9} \\att{A}{red}{0} \\att{PICCOLE}{red}{100} \\att{CELLULE}{red}{100} \\att{)}{red}{0} \\att{.}{red}{0} \\end{minipage}\\\\\n",
      "======== doc:  923\n",
      "y: 31 (34-BRONCO E POLMONE); yp: 31 (34-BRONCO E POLMONE)\n",
      "Relevant attentions:\n",
      "31 (34-BRONCO E POLMONE)\n",
      "47 (56-OVAIO)\n",
      "56 (67-VESCICA)\n",
      "67 (80-SEDE PRIMITIVA IGNOTA)\n",
      "---\n"
     ]
    },
    {
     "name": "stdout",
     "output_type": "stream",
     "text": [
      "34&\\begin{minipage}{\\attTableIcdoWidth}\\att{\\att{\\att{\\att{34}{red}{100}}{green}{0}}{blue}{0}}{black}{0} \\att{\\att{\\att{\\att{(BRONCHUS}{red}{100}}{green}{0}}{blue}{0}}{black}{0} \\att{\\att{\\att{\\att{AND}{red}{100}}{green}{0}}{blue}{0}}{black}{0} \\att{\\att{\\att{\\att{LUNG)}{red}{100}}{green}{0}}{blue}{0}}{black}{0} \\\\\\\\\\att{\\att{\\att{\\att{56}{red}{0}}{green}{100}}{blue}{0}}{black}{0} \\att{\\att{\\att{\\att{(OVARY)}{red}{0}}{green}{100}}{blue}{0}}{black}{0} \\\\\\\\\\att{\\att{\\att{\\att{67}{red}{0}}{green}{0}}{blue}{100}}{black}{0} \\att{\\att{\\att{\\att{(BLADDER)}{red}{0}}{green}{0}}{blue}{100}}{black}{0} \\\\\\\\\\att{\\att{\\att{\\att{80}{red}{0}}{green}{0}}{blue}{0}}{black}{100} \\att{\\att{\\att{\\att{(UNKNOWN}{red}{0}}{green}{0}}{blue}{0}}{black}{100} \\att{\\att{\\att{\\att{PRIMARY}{red}{0}}{green}{0}}{blue}{0}}{black}{100} \\att{\\att{\\att{\\att{SITE)}{red}{0}}{green}{0}}{blue}{0}}{black}{100} \\end{minipage}&\\begin{minipage}{\\attTableTextWidth}\\att{\\att{\\att{\\att{VERSAMENTO}{red}{5}}{green}{0}}{blue}{0}}{black}{0} \\att{\\att{\\att{\\att{PLEURICO}{red}{100}}{green}{55}}{blue}{0}}{black}{5} \\att{\\att{\\att{\\att{SX}{red}{24}}{green}{0}}{blue}{0}}{black}{0} \\att{\\att{\\att{\\att{DI}{red}{0}}{green}{0}}{blue}{0}}{black}{0} \\att{\\att{\\att{\\att{N}{red}{0}}{green}{0}}{blue}{0}}{black}{0} \\att{\\att{\\att{\\att{.}{red}{0}}{green}{0}}{blue}{0}}{black}{0} \\att{\\att{\\att{\\att{D}{red}{0}}{green}{0}}{blue}{0}}{black}{0} \\att{\\att{\\att{\\att{.}{red}{0}}{green}{0}}{blue}{0}}{black}{0} \\att{\\att{\\att{\\att{D}{red}{0}}{green}{0}}{blue}{0}}{black}{0} \\att{\\att{\\att{\\att{.}{red}{0}}{green}{0}}{blue}{0}}{black}{0} \\att{\\att{\\att{\\att{E}{red}{0}}{green}{0}}{blue}{0}}{black}{0} \\att{\\att{\\att{\\att{ADDENSAMENTI}{red}{16}}{green}{0}}{blue}{0}}{black}{0} \\att{\\att{\\att{\\att{POLMONARI}{red}{100}}{green}{0}}{blue}{0}}{black}{0} \\att{\\att{\\att{\\att{DI}{red}{0}}{green}{0}}{blue}{0}}{black}{0} \\att{\\att{\\att{\\att{N}{red}{0}}{green}{0}}{blue}{0}}{black}{0} \\att{\\att{\\att{\\att{.}{red}{0}}{green}{0}}{blue}{0}}{black}{0} \\att{\\att{\\att{\\att{D}{red}{0}}{green}{0}}{blue}{0}}{black}{0} \\att{\\att{\\att{\\att{.}{red}{0}}{green}{0}}{blue}{0}}{black}{0} \\att{\\att{\\att{\\att{D}{red}{0}}{green}{0}}{blue}{0}}{black}{0} \\att{\\att{\\att{\\att{.}{red}{0}}{green}{0}}{blue}{0}}{black}{0} \\att{\\att{\\att{\\att{,}{red}{0}}{green}{0}}{blue}{0}}{black}{0} \\att{\\att{\\att{\\att{NODULI}{red}{0}}{green}{0}}{blue}{0}}{black}{0} \\att{\\att{\\att{\\att{PARETE}{red}{0}}{green}{0}}{blue}{28}}{black}{0} \\att{\\att{\\att{\\att{ADDOMINALE}{red}{1}}{green}{0}}{blue}{0}}{black}{0} \\att{\\att{\\att{\\att{.}{red}{0}}{green}{0}}{blue}{0}}{black}{0} \\att{\\att{\\att{\\att{INFILTRAZIONE}{red}{0}}{green}{0}}{blue}{0}}{black}{0} \\att{\\att{\\att{\\att{CANCERIGNA}{red}{100}}{green}{0}}{blue}{0}}{black}{13} \\att{\\att{\\att{\\att{DEGLI}{red}{100}}{green}{0}}{blue}{0}}{black}{83} \\att{\\att{\\att{\\att{STROMI}{red}{7}}{green}{0}}{blue}{0}}{black}{100} \\att{\\att{\\att{\\att{CONNETTIVO}{red}{0}}{green}{0}}{blue}{0}}{black}{0} \\att{\\att{\\att{\\att{-}{red}{1}}{green}{0}}{blue}{0}}{black}{0} \\att{\\att{\\att{\\att{ADIPOSI}{red}{0}}{green}{0}}{blue}{0}}{black}{78} \\att{\\att{\\att{\\att{.}{red}{30}}{green}{0}}{blue}{0}}{black}{1} \\att{\\att{\\att{\\att{IMMUNOISTOCHIMICA}{red}{100}}{green}{0}}{blue}{0}}{black}{95} \\att{\\att{\\att{\\att{:}{red}{17}}{green}{0}}{blue}{0}}{black}{98} \\att{\\att{\\att{\\att{CK7}{red}{100}}{green}{0}}{blue}{0}}{black}{100} \\att{\\att{\\att{\\att{+}{red}{99}}{green}{0}}{blue}{0}}{black}{0} \\att{\\att{\\att{\\att{,}{red}{77}}{green}{0}}{blue}{0}}{black}{51} \\att{\\att{\\att{\\att{CK20}{red}{100}}{green}{0}}{blue}{0}}{black}{100} \\att{\\att{\\att{\\att{-}{red}{100}}{green}{0}}{blue}{0}}{black}{1} \\att{\\att{\\att{\\att{,}{red}{84}}{green}{0}}{blue}{0}}{black}{37} \\att{\\att{\\att{\\att{TTF}{red}{100}}{green}{0}}{blue}{0}}{black}{100} \\att{\\att{\\att{\\att{-}{red}{100}}{green}{0}}{blue}{0}}{black}{0} \\att{\\att{\\att{\\att{1}{red}{3}}{green}{0}}{blue}{0}}{black}{0} \\att{\\att{\\att{\\att{-}{red}{31}}{green}{0}}{blue}{0}}{black}{0} \\att{\\att{\\att{\\att{,}{red}{69}}{green}{0}}{blue}{0}}{black}{0} \\att{\\att{\\att{\\att{PROTEINA}{red}{99}}{green}{0}}{blue}{0}}{black}{70} \\att{\\att{\\att{\\att{S}{red}{0}}{green}{0}}{blue}{0}}{black}{4} \\att{\\att{\\att{\\att{-}{red}{0}}{green}{0}}{blue}{0}}{black}{0} \\att{\\att{\\att{\\att{100}{red}{2}}{green}{0}}{blue}{0}}{black}{1} \\att{\\att{\\att{\\att{-}{red}{0}}{green}{0}}{blue}{0}}{black}{0} \\att{\\att{\\att{\\att{.}{red}{0}}{green}{0}}{blue}{0}}{black}{0} \\att{\\att{\\att{\\att{LESIONE}{red}{0}}{green}{0}}{blue}{0}}{black}{0} \\att{\\att{\\att{\\att{DI}{red}{0}}{green}{0}}{blue}{0}}{black}{0} \\att{\\att{\\att{\\att{CM}{red}{0}}{green}{0}}{blue}{0}}{black}{0} \\att{\\att{\\att{\\att{2}{red}{1}}{green}{0}}{blue}{0}}{black}{0} \\att{\\att{\\att{\\att{,}{red}{0}}{green}{0}}{blue}{0}}{black}{0} \\att{\\att{\\att{\\att{0}{red}{28}}{green}{0}}{blue}{0}}{black}{0} \\att{\\att{\\att{\\att{X}{red}{0}}{green}{0}}{blue}{0}}{black}{0} \\att{\\att{\\att{\\att{1}{red}{0}}{green}{0}}{blue}{0}}{black}{0} \\att{\\att{\\att{\\att{,}{red}{1}}{green}{0}}{blue}{0}}{black}{0} \\att{\\att{\\att{\\att{3}{red}{0}}{green}{0}}{blue}{0}}{black}{0} \\att{\\att{\\att{\\att{X}{red}{0}}{green}{0}}{blue}{0}}{black}{0} \\att{\\att{\\att{\\att{0}{red}{2}}{green}{0}}{blue}{0}}{black}{0} \\att{\\att{\\att{\\att{,}{red}{7}}{green}{0}}{blue}{0}}{black}{0} \\att{\\att{\\att{\\att{7}{red}{0}}{green}{0}}{blue}{0}}{black}{0} \\att{\\att{\\att{\\att{.}{red}{0}}{green}{0}}{blue}{0}}{black}{0} \\att{\\att{\\att{\\att{1}{red}{3}}{green}{0}}{blue}{0}}{black}{0} \\att{\\att{\\att{\\att{-}{red}{3}}{green}{0}}{blue}{0}}{black}{0} \\att{\\att{\\att{\\att{2}{red}{0}}{green}{0}}{blue}{0}}{black}{0} \\att{\\att{\\att{\\att{)}{red}{0}}{green}{0}}{blue}{0}}{black}{0} \\att{\\att{\\att{\\att{SEZIONI}{red}{23}}{green}{0}}{blue}{0}}{black}{0} \\att{\\att{\\att{\\att{SERIATE}{red}{87}}{green}{0}}{blue}{0}}{black}{3} \\att{\\att{\\att{\\att{.}{red}{65}}{green}{0}}{blue}{0}}{black}{0} \\end{minipage}\\\\\n",
      "======== doc:  924\n",
      "y: 29 (32-LARINGE); yp: 29 (32-LARINGE)\n",
      "Relevant attentions:\n",
      "29 (32-LARINGE)\n",
      "---\n",
      "32&\\begin{minipage}{\\attTableIcdoWidth}\\att{32}{red}{100} \\att{(LARYNX)}{red}{100} \\end{minipage}&\\begin{minipage}{\\attTableTextWidth}\\att{CARCINOMA}{red}{0} \\att{A}{red}{0} \\att{CELLULE}{red}{0} \\att{SQUAMOSE}{red}{12} \\att{FARINGEO}{red}{0} \\att{-}{red}{0} \\att{LARINGEO}{red}{95} \\att{A}{red}{0} \\att{MEDIO}{red}{0} \\att{GRADO}{red}{0} \\att{DI}{red}{0} \\att{DIFFERENZIAZIONE}{red}{0} \\att{(}{red}{0} \\att{G2}{red}{0} \\att{)}{red}{0} \\att{NEI}{red}{0} \\att{FRAMMENTI}{red}{0} \\att{IN}{red}{0} \\att{ESAME}{red}{0} \\att{.}{red}{0} \\att{VARI}{red}{0} \\att{FRAMMENTI}{red}{0} \\att{DI}{red}{0} \\att{MUCOSA}{red}{0} \\att{FARINGO}{red}{100} \\att{-}{red}{0} \\att{LARINGEA}{red}{100} \\att{,}{red}{0} \\att{NEL}{red}{0} \\att{COMPLESSO}{red}{0} \\att{DI}{red}{0} \\att{MM}{red}{0} \\att{.}{red}{0} \\att{5}{red}{0} \\att{.}{red}{0} \\att{(}{red}{0} \\att{ESEGUITA}{red}{0} \\att{COLORAZIONE}{red}{0} \\att{EMATOSSILINA}{red}{0} \\att{-}{red}{0} \\att{EOSINA}{red}{0} \\att{)}{red}{0} \\att{.}{red}{0} \\end{minipage}\\\\\n",
      "======== doc:  927\n",
      "y: 29 (32-LARINGE); yp: 29 (32-LARINGE)\n",
      "Relevant attentions:\n",
      "29 (32-LARINGE)\n",
      "---\n",
      "32&\\begin{minipage}{\\attTableIcdoWidth}\\att{32}{red}{100} \\att{(LARYNX)}{red}{100} \\end{minipage}&\\begin{minipage}{\\attTableTextWidth}\\att{CARCINOMA}{red}{0} \\att{A}{red}{0} \\att{CELLULE}{red}{0} \\att{SQUAMOSE}{red}{49} \\att{LARINGEO}{red}{100} \\att{A}{red}{0} \\att{MEDIO}{red}{0} \\att{GRADO}{red}{0} \\att{DI}{red}{0} \\att{DIFFERENZIAZIONE}{red}{0} \\att{(}{red}{0} \\att{G2}{red}{0} \\att{)}{red}{0} \\att{NEI}{red}{0} \\att{FRAMMENTI}{red}{0} \\att{(}{red}{0} \\att{1}{red}{0} \\att{-}{red}{0} \\att{2}{red}{0} \\att{)}{red}{0} \\att{.}{red}{0} \\att{1}{red}{0} \\att{)}{red}{0} \\att{FRAMMENTI}{red}{0} \\att{(}{red}{0} \\att{NR}{red}{0} \\att{.}{red}{0} \\att{3}{red}{0} \\att{)}{red}{0} \\att{DI}{red}{0} \\att{NEOFORMAZIONE}{red}{0} \\att{DELLA}{red}{0} \\att{CORDA}{red}{100} \\att{VOCALE}{red}{100} \\att{SINISTRA}{red}{79} \\att{;}{red}{0} \\att{2}{red}{0} \\att{)}{red}{0} \\att{FRAMMENTI}{red}{0} \\att{(}{red}{0} \\att{NR}{red}{0} \\att{.}{red}{0} \\att{2}{red}{0} \\att{)}{red}{0} \\att{CORDA}{red}{100} \\att{VOCALE}{red}{100} \\att{SINISTRA}{red}{70} \\att{.}{red}{0} \\att{(}{red}{0} \\att{ESEGUITA}{red}{0} \\att{COLORAZIONE}{red}{0} \\att{EMATOSSILINA}{red}{0} \\att{-}{red}{0} \\att{EOSINA}{red}{0} \\att{)}{red}{0} \\att{.}{red}{0} \\end{minipage}\\\\\n",
      "======== doc:  935\n",
      "y: 29 (32-LARINGE); yp: 29 (32-LARINGE)\n",
      "Relevant attentions:\n",
      "29 (32-LARINGE)\n",
      "---\n"
     ]
    },
    {
     "name": "stdout",
     "output_type": "stream",
     "text": [
      "32&\\begin{minipage}{\\attTableIcdoWidth}\\att{32}{red}{100} \\att{(LARYNX)}{red}{100} \\end{minipage}&\\begin{minipage}{\\attTableTextWidth}\\att{CARCINOMA}{red}{0} \\att{A}{red}{0} \\att{CELLULE}{red}{0} \\att{SQUAMOSE}{red}{14} \\att{LARINGEO}{red}{100} \\att{A}{red}{0} \\att{MEDIO}{red}{0} \\att{GRADO}{red}{0} \\att{DI}{red}{0} \\att{DIFFERENZIAZIONE}{red}{0} \\att{(}{red}{0} \\att{G2}{red}{0} \\att{)}{red}{0} \\att{(}{red}{0} \\att{2}{red}{0} \\att{-}{red}{0} \\att{5}{red}{0} \\att{)}{red}{0} \\att{.}{red}{0} \\att{IMBIBIZIONE}{red}{0} \\att{EDEMATOSA}{red}{0} \\att{DEL}{red}{0} \\att{CORION}{red}{0} \\att{LARINGEO}{red}{100} \\att{(}{red}{0} \\att{1}{red}{0} \\att{)}{red}{0} \\att{.}{red}{0} \\att{FRAMMENTI}{red}{0} \\att{DI}{red}{0} \\att{MUCOSA}{red}{0} \\att{LARINGEA}{red}{100} \\att{:}{red}{0} \\att{1}{red}{0} \\att{)}{red}{0} \\att{FRAMMENTI}{red}{0} \\att{(}{red}{0} \\att{NR}{red}{0} \\att{.}{red}{0} \\att{3}{red}{0} \\att{)}{red}{0} \\att{DI}{red}{0} \\att{PROLASSO}{red}{0} \\att{VENTRICOLO}{red}{0} \\att{SN}{red}{0} \\att{;}{red}{0} \\att{2}{red}{0} \\att{)}{red}{0} \\att{FRAMMENTI}{red}{0} \\att{(}{red}{0} \\att{NR}{red}{0} \\att{.}{red}{0} \\att{5}{red}{0} \\att{)}{red}{0} \\att{DI}{red}{0} \\att{NEOFORMAZIONE}{red}{0} \\att{CORDA}{red}{18} \\att{VOCALE}{red}{99} \\att{SN}{red}{0} \\att{;}{red}{0} \\att{3}{red}{0} \\att{)}{red}{0} \\att{FRAMMENTO}{red}{0} \\att{DI}{red}{0} \\att{NEOFORMAZIONE}{red}{0} \\att{REGIONE}{red}{0} \\att{ANTERIORE}{red}{0} \\att{;}{red}{0} \\att{4}{red}{0} \\att{)}{red}{0} \\att{FRAMMENTO}{red}{0} \\att{DI}{red}{0} \\att{NEOFORMAZIONE}{red}{0} \\att{FALSA}{red}{94} \\att{CORDA}{red}{99} \\att{DX}{red}{0} \\att{;}{red}{0} \\att{5}{red}{0} \\att{)}{red}{0} \\att{FRAMMENTI}{red}{0} \\att{(}{red}{0} \\att{NR}{red}{0} \\att{.}{red}{0} \\att{3}{red}{0} \\att{)}{red}{0} \\att{DI}{red}{0} \\att{NEOFORMAZIONE}{red}{0} \\att{REGIONE}{red}{0} \\att{SOTTOGLOTTICA}{red}{86} \\att{.}{red}{0} \\att{(}{red}{0} \\att{ESEGUITA}{red}{0} \\att{COLORAZIONE}{red}{0} \\att{EMATOSSILINA}{red}{0} \\att{-}{red}{0} \\att{EOSINA}{red}{0} \\att{)}{red}{0} \\att{.}{red}{0} \\end{minipage}\\\\\n"
     ]
    }
   ],
   "source": [
    "printed = 0\n",
    "for currDoc in range(visRange[0], visRange[1]):\n",
    "    if binary and (not only is None) and (not yt[currDoc][0] in only):\n",
    "        continue\n",
    "    if (not binary) and (not only is None) and (not yt[currDoc] in only):\n",
    "        continue\n",
    "    print(\"======== doc: \", currDoc)\n",
    "    if binary:\n",
    "        currYt = yt[currDoc][0]\n",
    "        currYp = yp[currDoc][0]\n",
    "        print(\"y: {}; yp: {}\".format(currYt, currYp))\n",
    "    else:\n",
    "        currYt = yt[currDoc]\n",
    "        currYp = yp[currDoc]\n",
    "        print(\"y: {} ({}-{}); yp: {} ({}-{})\".format(currYt, values[currYt], icdo[values[currYt]], np.argmax(currYp), values[np.argmax(currYp)], icdo[values[np.argmax(currYp)]]))\n",
    "        #print(currYp)\n",
    "    if colonRetto:\n",
    "        if currYt == 1.:\n",
    "            print(\"Retto\")\n",
    "        elif currYt == 0.:\n",
    "            print(\"Colon\")\n",
    "   \n",
    "    attList = []\n",
    "    print(\"Relevant attentions:\")\n",
    "    for currAttNum in range(att[currDoc].shape[1]):\n",
    "        if np.max(att[currDoc][:,currAttNum]) > attThreshold:\n",
    "            print(\"{} ({}-{})\".format(currAttNum, values[currAttNum], icdo[values[currAttNum]]))\n",
    "            attList.append(\"{} ({})\".format(values[currAttNum], icdoEn[values[currAttNum]]))\n",
    "    print(\"---\")\n",
    "    print(\"{}\".format(values[currYt]), end=\"\")\n",
    "    print(\"&\", end=\"\")\n",
    "    #print(\"{}\".format(values[np.argmax(currYp)]), end=\"\")\n",
    "    #print(\"&\", end=\"\")\n",
    "    print(\"\\\\begin{minipage}{\\\\attTableIcdoWidth}\", end=\"\")\n",
    "    for i in range(len(attList)):\n",
    "        if i>0:\n",
    "            print(\"\\\\\\\\\\\\\\\\\", end=\"\")\n",
    "        for currWord in attList[i].split():\n",
    "            for j in range(len(attList)):\n",
    "                print(\"\\\\att{\",end=\"\")\n",
    "            print(currWord, end=\"\")\n",
    "            currAttColor = 0\n",
    "            for j in range(len(attList)):\n",
    "                if j == i:\n",
    "                    currAttColorStrong = 100\n",
    "                else:\n",
    "                    currAttColorStrong = 0\n",
    "                print(\"}}{{{}}}{{{:.0f}}}\".format(attColors[currAttColor], currAttColorStrong), end=\"\")\n",
    "                currAttColor += 1\n",
    "                if currAttColor == len(attColors):\n",
    "                    currAttColor = 0\n",
    "            print(\" \", end=\"\")\n",
    "    print(\"\\\\end{minipage}\", end=\"\")\n",
    "    print(\"&\", end=\"\")\n",
    "    print(\"\\\\begin{minipage}{\\\\attTableTextWidth}\", end=\"\")\n",
    "    for indexWord, word in enumerate(text[currDoc]):\n",
    "        word = word.replace(\"#\", \"\\#\")\n",
    "        word = word.replace(\"%\", \"\\%\")\n",
    "        #for currAttNum in range(28,33):\n",
    "        for currAttNum in range(att[currDoc].shape[1]):\n",
    "            if np.max(att[currDoc][:,currAttNum]) > attThreshold:\n",
    "                print(\"\\\\att{\",end=\"\")\n",
    "        print(word, end=\"\")\n",
    "        currAttColor = 0\n",
    "        #for currAttNum in range(28,33):\n",
    "        for currAttNum in range(att[currDoc].shape[1]):\n",
    "            currAtt = att[currDoc][:,currAttNum]\n",
    "            if np.max(currAtt) > attThreshold:\n",
    "                if printWhat == 'all':\n",
    "                    print(\"}}{{{}}}{{{:.0f}}}\".format(attColors[currAttColor], currAtt[indexWord]*100), end=\"\")\n",
    "                else:\n",
    "                    maxAtt = np.zeros_like(currAtt)\n",
    "                    if printWhat == 'maxed':\n",
    "                        maxAtt[np.argmax(currAtt)] = 1\n",
    "                    if printWhat == 'max':\n",
    "                        maxAtt[np.argmax(currAtt)] = currAtt[np.argmax(currAtt)]\n",
    "                    print(\"}}{{{}}}{{{:.0f}}}\".format(attColors[currAttColor], maxAtt[indexWord]*100), end=\"\")\n",
    "                currAttColor += 1\n",
    "                if currAttColor == len(attColors):\n",
    "                    currAttColor = 0\n",
    "        print(\" \", end=\"\")\n",
    "    print(\"\\\\end{minipage}\", end=\"\")\n",
    "    print(\"\\\\\\\\\")\n",
    "    printed += 1\n",
    "    if (not visLimit is None) and (printed >= visLimit):\n",
    "        break"
   ]
  },
  {
   "cell_type": "code",
   "execution_count": null,
   "metadata": {},
   "outputs": [],
   "source": []
  }
 ],
 "metadata": {
  "kernelspec": {
   "display_name": "Python 3",
   "language": "python",
   "name": "python3"
  },
  "language_info": {
   "codemirror_mode": {
    "name": "ipython",
    "version": 3
   },
   "file_extension": ".py",
   "mimetype": "text/x-python",
   "name": "python",
   "nbconvert_exporter": "python",
   "pygments_lexer": "ipython3",
   "version": "3.7.3"
  }
 },
 "nbformat": 4,
 "nbformat_minor": 2
}
