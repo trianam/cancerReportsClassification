{
 "cells": [
  {
   "cell_type": "code",
   "execution_count": 1,
   "metadata": {},
   "outputs": [],
   "source": [
    "import os\n",
    "import math"
   ]
  },
  {
   "cell_type": "code",
   "execution_count": 2,
   "metadata": {},
   "outputs": [],
   "source": [
    "inputFileName = \"../corpusTemporal/trainWordVectors.txt\"\n",
    "testValidDim = 10000\n",
    "splitDim = 10000\n",
    "keepSent = True"
   ]
  },
  {
   "cell_type": "code",
   "execution_count": 3,
   "metadata": {},
   "outputs": [],
   "source": [
    "with open(inputFileName) as f:\n",
    "    if keepSent:\n",
    "        docs = f.readlines()\n",
    "    else:\n",
    "        docs = f.read().splitlines()"
   ]
  },
  {
   "cell_type": "code",
   "execution_count": 4,
   "metadata": {},
   "outputs": [
    {
     "data": {
      "text/plain": [
       "1301346"
      ]
     },
     "execution_count": 4,
     "metadata": {},
     "output_type": "execute_result"
    }
   ],
   "source": [
    "len(docs)"
   ]
  },
  {
   "cell_type": "code",
   "execution_count": 5,
   "metadata": {},
   "outputs": [
    {
     "data": {
      "text/plain": [
       "'EMANGIOMA CAPILLARE . FRAMMENTO CUTANEO ( CM 0 , 3X0 , 3X0 , 2 ) DEL CUOIO CAPELLUTO . ( ESEGUITA COLORAZIONE EMATOSSILINA - EOSINA ) .\\n'"
      ]
     },
     "execution_count": 5,
     "metadata": {},
     "output_type": "execute_result"
    }
   ],
   "source": [
    "docs[0]"
   ]
  },
  {
   "cell_type": "code",
   "execution_count": 6,
   "metadata": {},
   "outputs": [],
   "source": [
    "os.mkdir(\"corpus\")\n",
    "os.mkdir(\"corpus/train\")"
   ]
  },
  {
   "cell_type": "code",
   "execution_count": 7,
   "metadata": {},
   "outputs": [],
   "source": [
    "with open(\"corpus/test.txt\", 'wt') as f:\n",
    "    if keepSent:\n",
    "        f.writelines(docs[-testValidDim:])\n",
    "    else:\n",
    "        f.write(' '.join(docs[-testValidDim:]))\n",
    "with open(\"corpus/valid.txt\", 'wt') as f:\n",
    "    if keepSent:\n",
    "        f.writelines(docs[-testValidDim*2:-testValidDim])\n",
    "    else:\n",
    "        f.write(' '.join(docs[-testValidDim*2:-testValidDim]))\n",
    "#with open(\"corpus/train/train_split_1\", 'wt') as f:\n",
    "#    if keepSent:\n",
    "#        f.writelines(docs[:-testValidDim*2])\n",
    "#    else:\n",
    "#        f.write(' '.join(docs[:-testValidDim*2]))"
   ]
  },
  {
   "cell_type": "code",
   "execution_count": 8,
   "metadata": {},
   "outputs": [],
   "source": [
    "numSplits = math.ceil((len(docs)-2*testValidDim)/splitDim)"
   ]
  },
  {
   "cell_type": "code",
   "execution_count": 9,
   "metadata": {},
   "outputs": [
    {
     "name": "stdout",
     "output_type": "stream",
     "text": [
      "129 ; 0\n",
      "128 ; 1\n",
      "127 ; 2\n",
      "126 ; 3\n",
      "125 ; 4\n",
      "124 ; 5\n",
      "123 ; 6\n",
      "122 ; 7\n",
      "121 ; 8\n",
      "120 ; 9\n",
      "119 ; 10\n",
      "118 ; 11\n",
      "117 ; 12\n",
      "116 ; 13\n",
      "115 ; 14\n",
      "114 ; 15\n",
      "113 ; 16\n",
      "112 ; 17\n",
      "111 ; 18\n",
      "110 ; 19\n",
      "109 ; 20\n",
      "108 ; 21\n",
      "107 ; 22\n",
      "106 ; 23\n",
      "105 ; 24\n",
      "104 ; 25\n",
      "103 ; 26\n",
      "102 ; 27\n",
      "101 ; 28\n",
      "100 ; 29\n",
      "99 ; 30\n",
      "98 ; 31\n",
      "97 ; 32\n",
      "96 ; 33\n",
      "95 ; 34\n",
      "94 ; 35\n",
      "93 ; 36\n",
      "92 ; 37\n",
      "91 ; 38\n",
      "90 ; 39\n",
      "89 ; 40\n",
      "88 ; 41\n",
      "87 ; 42\n",
      "86 ; 43\n",
      "85 ; 44\n",
      "84 ; 45\n",
      "83 ; 46\n",
      "82 ; 47\n",
      "81 ; 48\n",
      "80 ; 49\n",
      "79 ; 50\n",
      "78 ; 51\n",
      "77 ; 52\n",
      "76 ; 53\n",
      "75 ; 54\n",
      "74 ; 55\n",
      "73 ; 56\n",
      "72 ; 57\n",
      "71 ; 58\n",
      "70 ; 59\n",
      "69 ; 60\n",
      "68 ; 61\n",
      "67 ; 62\n",
      "66 ; 63\n",
      "65 ; 64\n",
      "64 ; 65\n",
      "63 ; 66\n",
      "62 ; 67\n",
      "61 ; 68\n",
      "60 ; 69\n",
      "59 ; 70\n",
      "58 ; 71\n",
      "57 ; 72\n",
      "56 ; 73\n",
      "55 ; 74\n",
      "54 ; 75\n",
      "53 ; 76\n",
      "52 ; 77\n",
      "51 ; 78\n",
      "50 ; 79\n",
      "49 ; 80\n",
      "48 ; 81\n",
      "47 ; 82\n",
      "46 ; 83\n",
      "45 ; 84\n",
      "44 ; 85\n",
      "43 ; 86\n",
      "42 ; 87\n",
      "41 ; 88\n",
      "40 ; 89\n",
      "39 ; 90\n",
      "38 ; 91\n",
      "37 ; 92\n",
      "36 ; 93\n",
      "35 ; 94\n",
      "34 ; 95\n",
      "33 ; 96\n",
      "32 ; 97\n",
      "31 ; 98\n",
      "30 ; 99\n",
      "29 ; 100\n",
      "28 ; 101\n",
      "27 ; 102\n",
      "26 ; 103\n",
      "25 ; 104\n",
      "24 ; 105\n",
      "23 ; 106\n",
      "22 ; 107\n",
      "21 ; 108\n",
      "20 ; 109\n",
      "19 ; 110\n",
      "18 ; 111\n",
      "17 ; 112\n",
      "16 ; 113\n",
      "15 ; 114\n",
      "14 ; 115\n",
      "13 ; 116\n",
      "12 ; 117\n",
      "11 ; 118\n",
      "10 ; 119\n",
      "9 ; 120\n",
      "8 ; 121\n",
      "7 ; 122\n",
      "6 ; 123\n",
      "5 ; 124\n",
      "4 ; 125\n",
      "3 ; 126\n",
      "2 ; 127\n",
      "1 ; 128\n"
     ]
    }
   ],
   "source": [
    "s = numSplits\n",
    "while s>1:\n",
    "    i = numSplits-s\n",
    "    print(\"{} ; {}\".format(s,i))\n",
    "    with open(\"corpus/train/train_split_{}\".format(s), 'wt') as f:\n",
    "        if keepSent:\n",
    "            f.writelines(docs[-testValidDim*2 - splitDim*(i+1):-testValidDim*2 - splitDim*i])\n",
    "        else:\n",
    "            f.write(' '.join(docs[-testValidDim*2 - splitDim*(i+1):-testValidDim*2 - splitDim*i]))\n",
    "    s -= 1\n",
    "    \n",
    "i = numSplits-s\n",
    "print(\"{} ; {}\".format(s,i))\n",
    "with open(\"corpus/train/train_split_1\", 'wt') as f:\n",
    "    if keepSent:\n",
    "        f.writelines(docs[:-testValidDim*2 - splitDim*i])\n",
    "    else:\n",
    "        f.write(' '.join(docs[:-testValidDim*2 - splitDim*i]))"
   ]
  }
 ],
 "metadata": {
  "kernelspec": {
   "display_name": "Python 3",
   "language": "python",
   "name": "python3"
  },
  "language_info": {
   "codemirror_mode": {
    "name": "ipython",
    "version": 3
   },
   "file_extension": ".py",
   "mimetype": "text/x-python",
   "name": "python",
   "nbconvert_exporter": "python",
   "pygments_lexer": "ipython3",
   "version": "3.7.3"
  }
 },
 "nbformat": 4,
 "nbformat_minor": 2
}
