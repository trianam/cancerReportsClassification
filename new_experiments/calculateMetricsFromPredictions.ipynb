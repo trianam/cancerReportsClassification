{
 "cells": [
  {
   "cell_type": "code",
   "execution_count": 1,
   "metadata": {},
   "outputs": [],
   "source": [
    "import numpy as np\n",
    "import pickle\n",
    "from sklearn.metrics import accuracy_score\n",
    "from sklearn.metrics import f1_score "
   ]
  },
  {
   "cell_type": "code",
   "execution_count": 2,
   "metadata": {},
   "outputs": [],
   "source": [
    "def calculateMetrics(pred, values, toRemove):\n",
    "    y = pred['y']\n",
    "    yp = pred['yp']\n",
    "    #print(y.shape)\n",
    "    #print(yp.shape)\n",
    "    #print([np.argwhere(values==r)[0][0] for r in toRemove])\n",
    "    if not toRemove is None:\n",
    "        y = np.delete(y, [np.argwhere(values==r)[0][0] for r in toRemove], axis=1)\n",
    "        yp = np.delete(yp, [np.argwhere(values==r)[0][0] for r in toRemove], axis=1)\n",
    "        \n",
    "        #print(y.shape)\n",
    "        #print(yp.shape)\n",
    "        rowsToDelete = np.argwhere(np.amax(y,1)==0)\n",
    "        y = np.delete(y, rowsToDelete, axis=0)\n",
    "        yp = np.delete(yp, rowsToDelete, axis=0)\n",
    "          \n",
    "    #print(y.shape)\n",
    "    #print(yp.shape)\n",
    "    yb = []\n",
    "    ypb = []\n",
    "    \n",
    "    for i in range(len(y)):\n",
    "        yb.append(np.argmax(y[i]))\n",
    "        ypb.append(np.argmax(yp[i]))\n",
    "        \n",
    "    yb = np.array(yb)\n",
    "    ypb = np.array(ypb)\n",
    "    \n",
    "    ypb3 = np.argsort(yp,1)[:,-3:][:,::-1] #top 3 \n",
    "    ypb5 = np.argsort(yp,1)[:,-5:][:,::-1] #top 5 \n",
    "    \n",
    "    total=0\n",
    "    correct3=0\n",
    "    correct5=0\n",
    "    for i in range(len(yb)):\n",
    "        total += 1\n",
    "        if yb[i] in ypb3[i]:\n",
    "            correct3 += 1\n",
    "        if yb[i] in ypb5[i]:\n",
    "            correct5 += 1\n",
    "\n",
    "    accT3 = correct3/total\n",
    "    accT5 = correct5/total\n",
    "\n",
    "    acc = accuracy_score(yb, ypb)\n",
    "    f1M = f1_score(yb, ypb, average=\"macro\")\n",
    "    \n",
    "    print(\"acc: {:0.1f} - accT3: {:0.1f} - accT5: {:0.1f} - f1macro: {:0.1f}\".format(acc*100, accT3*100, accT5*100, f1M*100), flush=True)\n",
    "    \n",
    "    #f1A = f1_score(yb, ypb, average=None)\n",
    "    #print(f1A)\n",
    "    "
   ]
  },
  {
   "cell_type": "code",
   "execution_count": 3,
   "metadata": {},
   "outputs": [],
   "source": [
    "toRemoveS = pickle.load(open(\"toRemoveSite.p\", 'rb'))\n",
    "toRemoveM = pickle.load(open(\"toRemoveMorfo.p\", 'rb'))"
   ]
  },
  {
   "cell_type": "code",
   "execution_count": 4,
   "metadata": {},
   "outputs": [],
   "source": [
    "valuesS = pickle.load(open('corpusTemporal/valuesTemporal.p', 'rb'))\n",
    "valuesM = pickle.load(open('corpusTemporalV2b/valuesTemporalMorfo1.p', 'rb'))"
   ]
  },
  {
   "cell_type": "markdown",
   "metadata": {},
   "source": [
    "## calculate examples"
   ]
  },
  {
   "cell_type": "code",
   "execution_count": 5,
   "metadata": {},
   "outputs": [],
   "source": [
    "def calculateLengths(corpus, key, toRemove):\n",
    "    count = {d:len([i for i in corpus[d][key] if i not in toRemove]) for d in corpus}\n",
    "    print(count)"
   ]
  },
  {
   "cell_type": "code",
   "execution_count": 6,
   "metadata": {},
   "outputs": [],
   "source": [
    "corpusS =  pickle.load(open('corpusTemporal/corpusTemporal.p', 'rb'))\n",
    "corpusM =  pickle.load(open('corpusTemporalV2b/corpusTemporal.p', 'rb'))\n",
    "keyS = 'sede1'\n",
    "keyM = 'morfo1'"
   ]
  },
  {
   "cell_type": "code",
   "execution_count": 7,
   "metadata": {},
   "outputs": [
    {
     "name": "stdout",
     "output_type": "stream",
     "text": [
      "{'train': 50875, 'valid': 17007, 'test': 17015}\n"
     ]
    }
   ],
   "source": [
    "calculateLengths(corpusS, keyS, toRemoveS)"
   ]
  },
  {
   "cell_type": "code",
   "execution_count": 8,
   "metadata": {},
   "outputs": [
    {
     "name": "stdout",
     "output_type": "stream",
     "text": [
      "{'train': 49436, 'valid': 16787, 'test': 16719}\n"
     ]
    }
   ],
   "source": [
    "calculateLengths(corpusM, keyM, toRemoveM)"
   ]
  },
  {
   "cell_type": "markdown",
   "metadata": {},
   "source": [
    "# Site"
   ]
  },
  {
   "cell_type": "code",
   "execution_count": 9,
   "metadata": {},
   "outputs": [
    {
     "name": "stdout",
     "output_type": "stream",
     "text": [
      "acc: 89.9 - accT3: 96.5 - accT5: 97.7 - f1macro: 58.3\n"
     ]
    }
   ],
   "source": [
    "calculateMetrics(pickle.load(open('predictionGRU-Asite.p', 'rb')), valuesS, toRemoveS)"
   ]
  },
  {
   "cell_type": "code",
   "execution_count": 10,
   "metadata": {},
   "outputs": [
    {
     "name": "stdout",
     "output_type": "stream",
     "text": [
      "acc: 88.0 - accT3: 95.4 - accT5: 96.2 - f1macro: 46.1\n"
     ]
    }
   ],
   "source": [
    "calculateMetrics(pickle.load(open('predictionMAXi-Asite.p', 'rb')), valuesS, toRemoveS)"
   ]
  },
  {
   "cell_type": "code",
   "execution_count": 11,
   "metadata": {},
   "outputs": [
    {
     "name": "stdout",
     "output_type": "stream",
     "text": [
      "acc: 89.9 - accT3: 96.2 - accT5: 97.8 - f1macro: 58.8\n"
     ]
    }
   ],
   "source": [
    "calculateMetrics(pickle.load(open('predictionMAXh-Asite.p', 'rb')), valuesS, toRemoveS)"
   ]
  },
  {
   "cell_type": "code",
   "execution_count": 12,
   "metadata": {},
   "outputs": [
    {
     "name": "stdout",
     "output_type": "stream",
     "text": [
      "acc: 89.9 - accT3: 96.3 - accT5: 97.7 - f1macro: 58.0\n"
     ]
    }
   ],
   "source": [
    "calculateMetrics(pickle.load(open('predictionATTh-Asite.p', 'rb')), valuesS, toRemoveS)"
   ]
  },
  {
   "cell_type": "code",
   "execution_count": 13,
   "metadata": {},
   "outputs": [
    {
     "name": "stdout",
     "output_type": "stream",
     "text": [
      "acc: 90.1 - accT3: 96.2 - accT5: 97.6 - f1macro: 60.0\n"
     ]
    }
   ],
   "source": [
    "calculateMetrics(pickle.load(open('predictionATT-Asite.p', 'rb')), valuesS, toRemoveS)"
   ]
  },
  {
   "cell_type": "code",
   "execution_count": 14,
   "metadata": {},
   "outputs": [
    {
     "name": "stdout",
     "output_type": "stream",
     "text": [
      "acc: 90.3 - accT3: 96.6 - accT5: 98.1 - f1macro: 61.9\n"
     ]
    }
   ],
   "source": [
    "calculateMetrics(pickle.load(open('predictionMAX-Asite.p', 'rb')), valuesS, toRemoveS)"
   ]
  },
  {
   "cell_type": "code",
   "execution_count": 15,
   "metadata": {},
   "outputs": [
    {
     "name": "stdout",
     "output_type": "stream",
     "text": [
      "acc: 89.7 - accT3: 95.9 - accT5: 96.8 - f1macro: 60.0\n"
     ]
    }
   ],
   "source": [
    "calculateMetrics(pickle.load(open('predictionsSVM-Asite.p', 'rb')), valuesS, toRemoveS)"
   ]
  },
  {
   "cell_type": "code",
   "execution_count": 16,
   "metadata": {},
   "outputs": [
    {
     "name": "stdout",
     "output_type": "stream",
     "text": [
      "acc: 89.1 - accT3: 95.8 - accT5: 97.2 - f1macro: 58.0\n"
     ]
    }
   ],
   "source": [
    "calculateMetrics(pickle.load(open('predictionsXGBoost-Asite.p', 'rb')), valuesS, toRemoveS)"
   ]
  },
  {
   "cell_type": "code",
   "execution_count": 17,
   "metadata": {},
   "outputs": [
    {
     "name": "stdout",
     "output_type": "stream",
     "text": [
      "acc: 89.9 - accT3: 96.3 - accT5: 97.8 - f1macro: 56.6\n"
     ]
    }
   ],
   "source": [
    "calculateMetrics(pickle.load(open('predictionsBERT-Asite.p', 'rb')), valuesS, toRemoveS)"
   ]
  },
  {
   "cell_type": "code",
   "execution_count": 18,
   "metadata": {},
   "outputs": [
    {
     "name": "stdout",
     "output_type": "stream",
     "text": [
      "acc: 89.2 - accT3: 96.0 - accT5: 97.6 - f1macro: 55.3\n"
     ]
    }
   ],
   "source": [
    "calculateMetrics(pickle.load(open('predictionsCNN-Asite.p', 'rb')), valuesS, toRemoveS)"
   ]
  },
  {
   "cell_type": "markdown",
   "metadata": {},
   "source": [
    "# Morpho"
   ]
  },
  {
   "cell_type": "code",
   "execution_count": 19,
   "metadata": {},
   "outputs": [
    {
     "name": "stdout",
     "output_type": "stream",
     "text": [
      "acc: 83.3 - accT3: 94.6 - accT5: 96.6 - f1macro: 55.2\n"
     ]
    }
   ],
   "source": [
    "calculateMetrics(pickle.load(open('predictionGRU-Amorpho.p', 'rb')), valuesM, toRemoveM)"
   ]
  },
  {
   "cell_type": "code",
   "execution_count": 20,
   "metadata": {},
   "outputs": [
    {
     "name": "stdout",
     "output_type": "stream",
     "text": [
      "acc: 73.4 - accT3: 91.0 - accT5: 93.6 - f1macro: 31.3\n"
     ]
    }
   ],
   "source": [
    "calculateMetrics(pickle.load(open('predictionMAXi-Amorpho.p', 'rb')), valuesM, toRemoveM)"
   ]
  },
  {
   "cell_type": "code",
   "execution_count": 21,
   "metadata": {},
   "outputs": [
    {
     "name": "stdout",
     "output_type": "stream",
     "text": [
      "acc: 83.7 - accT3: 94.4 - accT5: 96.4 - f1macro: 54.5\n"
     ]
    }
   ],
   "source": [
    "calculateMetrics(pickle.load(open('predictionMAXh-Amorpho.p', 'rb')), valuesM, toRemoveM)"
   ]
  },
  {
   "cell_type": "code",
   "execution_count": 22,
   "metadata": {},
   "outputs": [
    {
     "name": "stdout",
     "output_type": "stream",
     "text": [
      "acc: 83.7 - accT3: 94.4 - accT5: 96.2 - f1macro: 57.5\n"
     ]
    }
   ],
   "source": [
    "calculateMetrics(pickle.load(open('predictionATTh-Amorpho.p', 'rb')), valuesM, toRemoveM)"
   ]
  },
  {
   "cell_type": "code",
   "execution_count": 23,
   "metadata": {},
   "outputs": [
    {
     "name": "stdout",
     "output_type": "stream",
     "text": [
      "acc: 84.8 - accT3: 94.9 - accT5: 96.9 - f1macro: 61.3\n"
     ]
    }
   ],
   "source": [
    "calculateMetrics(pickle.load(open('predictionATT-Amorpho.p', 'rb')), valuesM, toRemoveM)"
   ]
  },
  {
   "cell_type": "code",
   "execution_count": 24,
   "metadata": {},
   "outputs": [
    {
     "name": "stdout",
     "output_type": "stream",
     "text": [
      "acc: 84.6 - accT3: 95.0 - accT5: 96.9 - f1macro: 59.2\n"
     ]
    }
   ],
   "source": [
    "calculateMetrics(pickle.load(open('predictionMAX-Amorpho.p', 'rb')), valuesM, toRemoveM)"
   ]
  },
  {
   "cell_type": "code",
   "execution_count": 25,
   "metadata": {},
   "outputs": [
    {
     "name": "stdout",
     "output_type": "stream",
     "text": [
      "acc: 82.4 - accT3: 94.0 - accT5: 95.6 - f1macro: 53.7\n"
     ]
    }
   ],
   "source": [
    "calculateMetrics(pickle.load(open('predictionsSVM-Amorpho.p', 'rb')), valuesM, toRemoveM)"
   ]
  },
  {
   "cell_type": "code",
   "execution_count": 26,
   "metadata": {},
   "outputs": [
    {
     "name": "stdout",
     "output_type": "stream",
     "text": [
      "acc: 84.1 - accT3: 94.4 - accT5: 96.5 - f1macro: 59.6\n"
     ]
    }
   ],
   "source": [
    "calculateMetrics(pickle.load(open('predictionsXGBoost-Amorpho.p', 'rb')), valuesM, toRemoveM)"
   ]
  },
  {
   "cell_type": "code",
   "execution_count": 27,
   "metadata": {},
   "outputs": [
    {
     "name": "stdout",
     "output_type": "stream",
     "text": [
      "acc: 84.3 - accT3: 93.2 - accT5: 94.9 - f1macro: 51.1\n"
     ]
    }
   ],
   "source": [
    "calculateMetrics(pickle.load(open('predictionsBERT-Amorpho.p', 'rb')), valuesM, toRemoveM)"
   ]
  },
  {
   "cell_type": "code",
   "execution_count": 28,
   "metadata": {},
   "outputs": [
    {
     "name": "stdout",
     "output_type": "stream",
     "text": [
      "acc: 83.3 - accT3: 94.4 - accT5: 96.7 - f1macro: 55.0\n"
     ]
    }
   ],
   "source": [
    "calculateMetrics(pickle.load(open('predictionsCNN-Amorpho.p', 'rb')), valuesM, toRemoveM)"
   ]
  }
 ],
 "metadata": {
  "kernelspec": {
   "display_name": "Python 3",
   "language": "python",
   "name": "python3"
  },
  "language_info": {
   "codemirror_mode": {
    "name": "ipython",
    "version": 3
   },
   "file_extension": ".py",
   "mimetype": "text/x-python",
   "name": "python",
   "nbconvert_exporter": "python",
   "pygments_lexer": "ipython3",
   "version": "3.7.3"
  }
 },
 "nbformat": 4,
 "nbformat_minor": 2
}
