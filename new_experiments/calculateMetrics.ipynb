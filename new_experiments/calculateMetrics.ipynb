{
 "cells": [
  {
   "cell_type": "code",
   "execution_count": 1,
   "metadata": {},
   "outputs": [],
   "source": [
    "import funPytorch as fun\n",
    "import configurationsMulticlass\n",
    "import configurations\n",
    "import math\n",
    "import time"
   ]
  },
  {
   "cell_type": "code",
   "execution_count": 2,
   "metadata": {},
   "outputs": [],
   "source": [
    "def calculateMetrics(conf):\n",
    "    if not type(conf) is list:\n",
    "        model,optim = fun.loadModel(conf, \"cuda:0\")\n",
    "        X, y, train, valid, test = fun.processData(conf)\n",
    "        _, acc, accT3, accT5, kappa, f1m, f1M, _ = fun.runTest(conf, model, X, y, test)\n",
    "    else:\n",
    "        m = {'acc':0, 'accT3':0, 'accT5':0, 'kappa':0, 'f1m':0, 'f1M':0}\n",
    "        mm = {k:0 for k in m}\n",
    "        for c in conf:\n",
    "            print(\"-------\")\n",
    "            model,optim = fun.loadModel(c, \"cuda:0\")\n",
    "            X, y, train, valid, test = fun.processData(c)\n",
    "            curr = {}\n",
    "            _, curr['acc'], curr['accT3'], curr['accT5'], curr['kappa'], curr['f1m'], curr['f1M'], _ = fun.runTest(c, model, X, y, test)\n",
    "            for k in m:\n",
    "                m[k] += curr[k]\n",
    "                mm[k] += curr[k] * curr[k]\n",
    "                \n",
    "            del model\n",
    "            del optim\n",
    "            del X\n",
    "            del y\n",
    "            del train\n",
    "            del valid\n",
    "            del test\n",
    "            time.sleep(10)\n",
    "                \n",
    "        avg = {k:m[k]/len(conf) for k in m}\n",
    "        std = {k:math.sqrt((mm[k] / len(conf)) - (avg[k] * avg[k])) for k in m}\n",
    "        print(\"========\")\n",
    "        print(avg)\n",
    "        print(std)"
   ]
  },
  {
   "cell_type": "markdown",
   "metadata": {},
   "source": [
    "# SVM"
   ]
  },
  {
   "cell_type": "code",
   "execution_count": 4,
   "metadata": {
    "scrolled": true
   },
   "outputs": [
    {
     "name": "stdout",
     "output_type": "stream",
     "text": [
      "--------\n",
      "Valid Acc. 0.6326530612244898\n",
      "Valid Kappa 0.5365821620911599\n",
      "Valid F1 m 0.6326530612244898\n",
      "Valid F1 M 0.37210570400225573\n",
      "Test Acc. 0.7029702970297029\n",
      "Test Kappa 0.6294484529778648\n",
      "Test F1 m 0.7029702970297029\n",
      "Test F1 M 0.4389928698752228\n",
      "--------\n",
      "Valid Acc. 0.6458333333333334\n",
      "Valid Kappa 0.5552527592315029\n",
      "Valid F1 m 0.6458333333333334\n",
      "Valid F1 M 0.326874229151269\n",
      "Test Acc. 0.6530612244897959\n",
      "Test Kappa 0.5681700362882323\n",
      "Test F1 m 0.6530612244897959\n",
      "Test F1 M 0.39278692909524554\n",
      "--------\n",
      "Valid Acc. 0.7127659574468085\n",
      "Valid Kappa 0.6416266591358373\n",
      "Valid F1 m 0.7127659574468085\n",
      "Valid F1 M 0.4765682420984178\n",
      "Test Acc. 0.6354166666666666\n",
      "Test Kappa 0.5466810577441985\n",
      "Test F1 m 0.6354166666666666\n",
      "Test F1 M 0.3525255666113874\n",
      "--------\n",
      "Valid Acc. 0.6382978723404256\n",
      "Valid Kappa 0.5506186726659168\n",
      "Valid F1 m 0.6382978723404256\n",
      "Valid F1 M 0.378402515998948\n",
      "Test Acc. 0.6914893617021277\n",
      "Test Kappa 0.6116255876905542\n",
      "Test F1 m 0.6914893617021277\n",
      "Test F1 M 0.43048340548340547\n",
      "--------\n",
      "Valid Acc. 0.6170212765957447\n",
      "Valid Kappa 0.5180173764421023\n",
      "Valid F1 m 0.6170212765957447\n",
      "Valid F1 M 0.33617200930633767\n",
      "Test Acc. 0.6276595744680851\n",
      "Test Kappa 0.5399888143176734\n",
      "Test F1 m 0.6276595744680851\n",
      "Test F1 M 0.3602829721441101\n",
      "--------\n",
      "Valid Acc. 0.6086956521739131\n",
      "Valid Kappa 0.5114323646555539\n",
      "Valid F1 m 0.6086956521739131\n",
      "Valid F1 M 0.2912644078343109\n",
      "Test Acc. 0.5957446808510638\n",
      "Test Kappa 0.49512367491166065\n",
      "Test F1 m 0.5957446808510638\n",
      "Test F1 M 0.2925538779197316\n",
      "--------\n",
      "Valid Acc. 0.6739130434782609\n",
      "Valid Kappa 0.5923792645104121\n",
      "Valid F1 m 0.6739130434782609\n",
      "Valid F1 M 0.3613721064499707\n",
      "Test Acc. 0.6086956521739131\n",
      "Test Kappa 0.5088967971530249\n",
      "Test F1 m 0.6086956521739131\n",
      "Test F1 M 0.28754268540853906\n",
      "--------\n",
      "Valid Acc. 0.7032967032967034\n",
      "Valid Kappa 0.6305263157894737\n",
      "Valid F1 m 0.7032967032967034\n",
      "Valid F1 M 0.42698768545763083\n",
      "Test Acc. 0.6739130434782609\n",
      "Test Kappa 0.6010984246278364\n",
      "Test F1 m 0.6739130434782609\n",
      "Test F1 M 0.46459564314827473\n",
      "--------\n",
      "Valid Acc. 0.6333333333333333\n",
      "Valid Kappa 0.5339714420210262\n",
      "Valid F1 m 0.6333333333333333\n",
      "Valid F1 M 0.3766178266178266\n",
      "Test Acc. 0.6593406593406593\n",
      "Test Kappa 0.5700350556317635\n",
      "Test F1 m 0.6593406593406593\n",
      "Test F1 M 0.3316685131764148\n",
      "--------\n",
      "Valid Acc. 0.6831683168316832\n",
      "Valid Kappa 0.6010861515675142\n",
      "Valid F1 m 0.6831683168316832\n",
      "Valid F1 M 0.3748980528469965\n",
      "Test Acc. 0.7\n",
      "Test Kappa 0.6207273294833776\n",
      "Test F1 m 0.7\n",
      "Test F1 M 0.5222115847115848\n",
      "========\n",
      "{'acc': 0.6548291160200276, 'kappa': 0.5691795230826185, 'f1m': 0.6548291160200276, 'f1M': 0.3873644047573916}\n",
      "{'acc': 0.03581050903932235, 'kappa': 0.04425868281607668, 'f1m': 0.03581050903932235, 'f1M': 0.07259832584637384}\n"
     ]
    }
   ],
   "source": [
    "%run -i 'runSVM-P.py'"
   ]
  },
  {
   "cell_type": "markdown",
   "metadata": {},
   "source": [
    "# P"
   ]
  },
  {
   "cell_type": "code",
   "execution_count": 3,
   "metadata": {},
   "outputs": [
    {
     "name": "stdout",
     "output_type": "stream",
     "text": [
      "Loading modelsPytorch/confP/0/8/2/128/best.pt\n",
      "         processed line 942/942           \n",
      "         reprocessed line 942/942           \n",
      "test_loss: 0.9224 - test_acc: 68.3168\n",
      "MAPs: 0.8017 - MAPc: 0.4598\n",
      "acc: 0.6832 - kappa: 0.5966\n",
      "accT3: 0.8911 - accT5: 0.9703\n",
      "f1macro: 0.3315\n"
     ]
    },
    {
     "name": "stderr",
     "output_type": "stream",
     "text": [
      "/home/trianam/miniconda3/lib/python3.7/site-packages/sklearn/metrics/classification.py:1437: UndefinedMetricWarning: F-score is ill-defined and being set to 0.0 in labels with no predicted samples.\n",
      "  'precision', 'predicted', average, warn_for)\n"
     ]
    }
   ],
   "source": [
    "calculateMetrics(configurations.configPbest)"
   ]
  },
  {
   "cell_type": "markdown",
   "metadata": {},
   "source": [
    "# PHS"
   ]
  },
  {
   "cell_type": "code",
   "execution_count": 4,
   "metadata": {},
   "outputs": [
    {
     "name": "stdout",
     "output_type": "stream",
     "text": [
      "Loading modelsPytorch/confPHS/0/16/2/256/8/best.pt\n",
      "         reprocessed line 942/942           \n",
      "test_loss: 1.1440 - test_acc: 60.3960\n",
      "MAPs: 0.7548 - MAPc: 0.4015\n",
      "acc: 0.6040 - kappa: 0.5026\n",
      "accT3: 0.8614 - accT5: 0.9604\n",
      "f1macro: 0.2685\n"
     ]
    }
   ],
   "source": [
    "calculateMetrics(configurations.configPHSbest)"
   ]
  },
  {
   "cell_type": "markdown",
   "metadata": {},
   "source": [
    "# PHS2_350"
   ]
  },
  {
   "cell_type": "code",
   "execution_count": 3,
   "metadata": {
    "scrolled": true
   },
   "outputs": [
    {
     "name": "stdout",
     "output_type": "stream",
     "text": [
      "-------\n",
      "Loading modelsPytorch/confPHS2_350/0/1/32/1/8/0/128/64/best.pt\n",
      "         reprocessed line 942/942           \n",
      "test_loss: 1.0664 - test_acc: 64.3564\n",
      "MAPs: 0.7644 - MAPc: 0.4158\n",
      "acc: 0.6436 - kappa: 0.5535\n",
      "accT3: 0.8317 - accT5: 0.9307\n",
      "f1micro: 0.6436 - f1macro: 0.3169\n"
     ]
    },
    {
     "name": "stderr",
     "output_type": "stream",
     "text": [
      "/home/trianam/miniconda3/lib/python3.7/site-packages/sklearn/metrics/classification.py:1437: UndefinedMetricWarning: F-score is ill-defined and being set to 0.0 in labels with no predicted samples.\n",
      "  'precision', 'predicted', average, warn_for)\n"
     ]
    },
    {
     "name": "stdout",
     "output_type": "stream",
     "text": [
      "-------\n",
      "Loading modelsPytorch/confPHS2_350/1/1/128/1/128/0/128/4/best.pt\n",
      "         reprocessed line 942/942           \n",
      "test_loss: 1.4186 - test_acc: 66.3265\n",
      "MAPs: 0.7882 - MAPc: 0.4480\n",
      "acc: 0.6633 - kappa: 0.5800\n",
      "accT3: 0.8878 - accT5: 0.9694\n",
      "f1micro: 0.6633 - f1macro: 0.4143\n",
      "-------\n",
      "Loading modelsPytorch/confPHS2_350/2/1/16/1/64/0/128/4/best.pt\n",
      "         reprocessed line 942/942           \n",
      "test_loss: 1.4296 - test_acc: 62.5000\n",
      "MAPs: 0.7589 - MAPc: 0.4898\n",
      "acc: 0.6250 - kappa: 0.5344\n",
      "accT3: 0.8542 - accT5: 0.9375\n",
      "f1micro: 0.6250 - f1macro: 0.3187\n",
      "-------\n",
      "Loading modelsPytorch/confPHS2_350/3/1/16/1/32/0/128/16/best.pt\n",
      "         reprocessed line 942/942           \n",
      "test_loss: 0.9652 - test_acc: 72.3404\n",
      "MAPs: 0.8191 - MAPc: 0.5821\n",
      "acc: 0.7234 - kappa: 0.6571\n",
      "accT3: 0.8830 - accT5: 0.9681\n",
      "f1micro: 0.7234 - f1macro: 0.4320\n",
      "-------\n",
      "Loading modelsPytorch/confPHS2_350/4/1/32/1/64/0/128/4/best.pt\n",
      "         reprocessed line 942/942           \n",
      "test_loss: 1.4030 - test_acc: 62.7660\n",
      "MAPs: 0.7569 - MAPc: 0.3762\n",
      "acc: 0.6277 - kappa: 0.5215\n",
      "accT3: 0.8511 - accT5: 0.9149\n",
      "f1micro: 0.6277 - f1macro: 0.2585\n",
      "-------\n",
      "Loading modelsPytorch/confPHS2_350/5/1/32/1/128/0/128/8/best.pt\n",
      "         reprocessed line 942/942           \n",
      "test_loss: 1.5850 - test_acc: 64.8936\n",
      "MAPs: 0.7722 - MAPc: 0.3788\n",
      "acc: 0.6489 - kappa: 0.5626\n",
      "accT3: 0.8723 - accT5: 0.9574\n",
      "f1micro: 0.6489 - f1macro: 0.3323\n",
      "-------\n",
      "Loading modelsPytorch/confPHS2_350/6/1/16/1/16/0/128/32/best.pt\n",
      "         reprocessed line 942/942           \n",
      "test_loss: 1.4768 - test_acc: 63.0435\n",
      "MAPs: 0.7440 - MAPc: 0.3501\n",
      "acc: 0.6304 - kappa: 0.5258\n",
      "accT3: 0.8043 - accT5: 0.9130\n",
      "f1micro: 0.6304 - f1macro: 0.2711\n",
      "-------\n",
      "Loading modelsPytorch/confPHS2_350/7/1/32/1/8/0/128/4/best.pt\n",
      "         reprocessed line 942/942           \n",
      "test_loss: 1.0057 - test_acc: 70.6522\n",
      "MAPs: 0.8136 - MAPc: 0.5581\n",
      "acc: 0.7065 - kappa: 0.6176\n",
      "accT3: 0.8913 - accT5: 0.9565\n",
      "f1micro: 0.7065 - f1macro: 0.3696\n",
      "-------\n",
      "Loading modelsPytorch/confPHS2_350/8/1/256/1/128/0/128/512/best.pt\n",
      "         reprocessed line 942/942           \n",
      "test_loss: 1.2936 - test_acc: 65.9341\n",
      "MAPs: 0.7917 - MAPc: 0.5132\n",
      "acc: 0.6593 - kappa: 0.5626\n",
      "accT3: 0.9011 - accT5: 0.9560\n",
      "f1micro: 0.6593 - f1macro: 0.4154\n",
      "-------\n",
      "Loading modelsPytorch/confPHS2_350/9/1/32/1/32/0/128/4/best.pt\n",
      "         reprocessed line 942/942           \n",
      "test_loss: 1.1327 - test_acc: 67.7778\n",
      "MAPs: 0.8008 - MAPc: 0.5482\n",
      "acc: 0.6778 - kappa: 0.5872\n",
      "accT3: 0.9111 - accT5: 0.9667\n",
      "f1micro: 0.6778 - f1macro: 0.4002\n",
      "========\n",
      "{'acc': 0.660590462141566, 'accT3': 0.8687850101870774, 'accT5': 0.947028219642579, 'kappa': 0.5702399250131374, 'f1m': 0.660590462141566, 'f1M': 0.3529041612519811}\n",
      "{'acc': 0.031694756029507866, 'accT3': 0.031580385301735174, 'accT5': 0.020381822181216164, 'kappa': 0.040242677897471185, 'f1m': 0.031694756029507866, 'f1M': 0.05910617047302013}\n"
     ]
    }
   ],
   "source": [
    "calculateMetrics(configurations.configPHS2_350best)"
   ]
  },
  {
   "cell_type": "code",
   "execution_count": 4,
   "metadata": {
    "scrolled": true
   },
   "outputs": [
    {
     "name": "stdout",
     "output_type": "stream",
     "text": [
      "-------\n",
      "Loading modelsPytorch/confPHS2_350/0/1/128/1/16/0/128/256/best.pt\n",
      "         reprocessed line 942/942           \n",
      "test_loss: 0.8393 - test_acc: 71.2871\n",
      "MAPs: 0.8287 - MAPc: 0.5134\n",
      "acc: 0.7129 - kappa: 0.6365\n",
      "accT3: 0.9406 - accT5: 0.9505\n",
      "f1micro: 0.7129 - f1macro: 0.4376\n",
      "-------\n",
      "Loading modelsPytorch/confPHS2_350/1/1/32/1/8/0/128/8/best.pt\n",
      "         reprocessed line 942/942           \n",
      "test_loss: 1.1768 - test_acc: 71.4286\n",
      "MAPs: 0.8154 - MAPc: 0.4912\n",
      "acc: 0.7143 - kappa: 0.6407\n",
      "accT3: 0.8776 - accT5: 0.9694\n",
      "f1micro: 0.7143 - f1macro: 0.3895\n",
      "-------\n",
      "Loading modelsPytorch/confPHS2_350/2/1/32/1/16/0/128/8/best.pt\n",
      "         reprocessed line 942/942           \n",
      "test_loss: 1.1712 - test_acc: 69.7917\n",
      "MAPs: 0.7966 - MAPc: 0.5488\n",
      "acc: 0.6979 - kappa: 0.6195\n",
      "accT3: 0.8646 - accT5: 0.9375\n",
      "f1micro: 0.6979 - f1macro: 0.3865\n",
      "-------\n",
      "Loading modelsPytorch/confPHS2_350/3/1/64/1/32/0/128/32/best.pt\n",
      "         reprocessed line 942/942           \n",
      "test_loss: 0.9374 - test_acc: 79.7872\n",
      "MAPs: 0.8696 - MAPc: 0.6222\n",
      "acc: 0.7979 - kappa: 0.7494\n",
      "accT3: 0.9149 - accT5: 0.9894\n",
      "f1micro: 0.7979 - f1macro: 0.5651\n",
      "-------\n",
      "Loading modelsPytorch/confPHS2_350/4/1/128/1/16/0/128/32/best.pt\n",
      "         reprocessed line 942/942           \n",
      "test_loss: 1.0280 - test_acc: 73.4043\n",
      "MAPs: 0.8241 - MAPc: 0.4332\n",
      "acc: 0.7340 - kappa: 0.6515\n",
      "accT3: 0.9043 - accT5: 0.9574\n",
      "f1micro: 0.7340 - f1macro: 0.3366\n",
      "-------\n",
      "Loading modelsPytorch/confPHS2_350/5/1/128/1/128/0/128/4/best.pt\n",
      "         reprocessed line 942/942           \n",
      "test_loss: 1.1547 - test_acc: 71.2766\n",
      "MAPs: 0.8115 - MAPc: 0.4270\n",
      "acc: 0.7128 - kappa: 0.6360\n",
      "accT3: 0.9043 - accT5: 0.9468\n",
      "f1micro: 0.7128 - f1macro: 0.3803\n",
      "-------\n",
      "Loading modelsPytorch/confPHS2_350/6/1/256/1/32/0/128/512/best.pt\n",
      "         reprocessed line 942/942           \n",
      "test_loss: 1.0736 - test_acc: 69.5652\n",
      "MAPs: 0.8023 - MAPc: 0.5247\n",
      "acc: 0.6957 - kappa: 0.6133\n",
      "accT3: 0.9022 - accT5: 0.9674\n",
      "f1micro: 0.6957 - f1macro: 0.4185\n",
      "-------\n",
      "Loading modelsPytorch/confPHS2_350/7/1/16/1/8/0/128/4/best.pt\n",
      "         reprocessed line 942/942           \n",
      "test_loss: 0.8367 - test_acc: 77.1739\n",
      "MAPs: 0.8544 - MAPc: 0.5090\n",
      "acc: 0.7717 - kappa: 0.7123\n",
      "accT3: 0.9239 - accT5: 0.9783\n",
      "f1micro: 0.7717 - f1macro: 0.3758\n",
      "-------\n",
      "Loading modelsPytorch/confPHS2_350/8/1/32/1/16/0/128/64/best.pt\n",
      "         reprocessed line 942/942           \n",
      "test_loss: 0.9117 - test_acc: 78.0220\n",
      "MAPs: 0.8598 - MAPc: 0.5716\n",
      "acc: 0.7802 - kappa: 0.7228\n",
      "accT3: 0.9231 - accT5: 0.9780\n",
      "f1micro: 0.7802 - f1macro: 0.5434\n",
      "-------\n",
      "Loading modelsPytorch/confPHS2_350/9/1/64/1/64/0/128/4/best.pt\n",
      "         reprocessed line 942/942           \n",
      "test_loss: 1.0837 - test_acc: 73.3333\n",
      "MAPs: 0.8332 - MAPc: 0.5112\n",
      "acc: 0.7333 - kappa: 0.6547\n",
      "accT3: 0.9333 - accT5: 0.9778\n",
      "f1micro: 0.7333 - f1macro: 0.4083\n",
      "========\n",
      "{'acc': 0.7350698937045862, 'accT3': 0.9088629881398582, 'accT5': 0.9652451755596386, 'kappa': 0.6636979810893637, 'f1m': 0.7350698937045862, 'f1M': 0.424143661218765}\n",
      "{'acc': 0.034187290464169025, 'accT3': 0.022580742636346882, 'accT5': 0.015751764679653005, 'kappa': 0.044676938325554756, 'f1m': 0.034187290464169025, 'f1M': 0.07006870687502409}\n"
     ]
    }
   ],
   "source": [
    "calculateMetrics(configurations.configPHS2_350bestTest)"
   ]
  },
  {
   "cell_type": "markdown",
   "metadata": {},
   "source": [
    "# F"
   ]
  },
  {
   "cell_type": "code",
   "execution_count": 6,
   "metadata": {},
   "outputs": [
    {
     "name": "stdout",
     "output_type": "stream",
     "text": [
      "Loading modelsPytorch/confFmulti1/128/1/256/best.pt\n",
      "         processed line 6578/6578           \n",
      "         reprocessed line 6578/6578           \n",
      "test_loss: 0.3085 - test_acc: 85.5623\n",
      "MAPs: 0.9278 - MAPc: 0.9442\n",
      "acc: 0.8556 - kappa: 0.7112\n",
      "accT3: 1.0000 - accT5: 1.0000\n",
      "f1macro: 0.8556\n"
     ]
    }
   ],
   "source": [
    "calculateMetrics(configurations.configFmulti1best)"
   ]
  },
  {
   "cell_type": "markdown",
   "metadata": {},
   "source": [
    "# FHS"
   ]
  },
  {
   "cell_type": "code",
   "execution_count": 7,
   "metadata": {},
   "outputs": [
    {
     "name": "stdout",
     "output_type": "stream",
     "text": [
      "Loading modelsPytorch/confFHS/64/2/1024/256/best.pt\n",
      "         reprocessed line 6578/6578           \n",
      "test_loss: 0.3443 - test_acc: 84.8024\n",
      "MAPs: 0.9240 - MAPc: 0.9290\n",
      "acc: 0.8480 - kappa: 0.6960\n",
      "accT3: 1.0000 - accT5: 1.0000\n",
      "f1macro: 0.8480\n"
     ]
    }
   ],
   "source": [
    "calculateMetrics(configurations.configFHSbest)"
   ]
  },
  {
   "cell_type": "markdown",
   "metadata": {},
   "source": [
    "# B"
   ]
  },
  {
   "cell_type": "code",
   "execution_count": 4,
   "metadata": {},
   "outputs": [
    {
     "name": "stdout",
     "output_type": "stream",
     "text": [
      "Loading modelsPytorch/confB/16/2/256/best.pt\n",
      "         processed line 13925/13925           \n",
      "         reprocessed line 13925/13925           \n",
      "test_loss: 0.0217 - test_acc: 99.5690\n",
      "MAPs: 0.9978 - MAPc: 0.9969\n",
      "acc: 0.9957 - kappa: 0.9871\n",
      "accT3: 1.0000 - accT5: 1.0000\n",
      "f1macro: 0.9935\n"
     ]
    }
   ],
   "source": [
    "calculateMetrics(configurations.configBbest)"
   ]
  },
  {
   "cell_type": "markdown",
   "metadata": {},
   "source": [
    "# BHS"
   ]
  },
  {
   "cell_type": "code",
   "execution_count": 5,
   "metadata": {},
   "outputs": [
    {
     "name": "stdout",
     "output_type": "stream",
     "text": [
      "Loading modelsPytorch/confBHS/16/1/512/64/best.pt\n",
      "         reprocessed line 13925/13925           \n",
      "test_loss: 0.0274 - test_acc: 99.4971\n",
      "MAPs: 0.9975 - MAPc: 0.9960\n",
      "acc: 0.9950 - kappa: 0.9850\n",
      "accT3: 1.0000 - accT5: 1.0000\n",
      "f1macro: 0.9925\n"
     ]
    }
   ],
   "source": [
    "calculateMetrics(configurations.configBHSbest)"
   ]
  },
  {
   "cell_type": "markdown",
   "metadata": {},
   "source": [
    "# H"
   ]
  },
  {
   "cell_type": "code",
   "execution_count": 3,
   "metadata": {},
   "outputs": [
    {
     "name": "stdout",
     "output_type": "stream",
     "text": [
      "         reprocessed line 85170/85170           \n",
      "test_loss: 0.4304 - test_acc: 89.7975\n",
      "MAPs: 0.9329 - MAPc: 0.5273\n",
      "acc: 0.8980 - kappa: 0.8851\n",
      "accT3: 0.9611 - accT5: 0.9773\n"
     ]
    }
   ],
   "source": [
    "calculateMetrics(configurationsMulticlass.configHbest)"
   ]
  },
  {
   "cell_type": "markdown",
   "metadata": {},
   "source": [
    "# HS"
   ]
  },
  {
   "cell_type": "code",
   "execution_count": 4,
   "metadata": {},
   "outputs": [
    {
     "name": "stdout",
     "output_type": "stream",
     "text": [
      "         reprocessed line 85170/85170           \n",
      "test_loss: 0.4525 - test_acc: 89.8268\n",
      "MAPs: 0.9329 - MAPc: 0.5398\n",
      "acc: 0.8983 - kappa: 0.8855\n",
      "accT3: 0.9617 - accT5: 0.9760\n"
     ]
    }
   ],
   "source": [
    "calculateMetrics(configurationsMulticlass.configHSbest)"
   ]
  },
  {
   "cell_type": "markdown",
   "metadata": {},
   "source": [
    "# HM"
   ]
  },
  {
   "cell_type": "code",
   "execution_count": 3,
   "metadata": {},
   "outputs": [
    {
     "name": "stdout",
     "output_type": "stream",
     "text": [
      "         reprocessed line 84127/84127           \n",
      "test_loss: 0.6817 - test_acc: 83.1298\n",
      "MAPs: 0.8894 - MAPc: 0.4515\n",
      "acc: 0.8313 - kappa: 0.8117\n",
      "accT3: 0.9382 - accT5: 0.9582\n"
     ]
    }
   ],
   "source": [
    "calculateMetrics(configurationsMulticlass.configHMbest)"
   ]
  },
  {
   "cell_type": "markdown",
   "metadata": {},
   "source": [
    "# HSM"
   ]
  },
  {
   "cell_type": "code",
   "execution_count": 4,
   "metadata": {},
   "outputs": [
    {
     "name": "stdout",
     "output_type": "stream",
     "text": [
      "         reprocessed line 84127/84127           \n",
      "test_loss: 0.7179 - test_acc: 83.1772\n",
      "MAPs: 0.8894 - MAPc: 0.4915\n",
      "acc: 0.8318 - kappa: 0.8119\n",
      "accT3: 0.9388 - accT5: 0.9566\n"
     ]
    }
   ],
   "source": [
    "calculateMetrics(configurationsMulticlass.configHSMbest)"
   ]
  },
  {
   "cell_type": "markdown",
   "metadata": {},
   "source": [
    "# TMTmulti1"
   ]
  },
  {
   "cell_type": "code",
   "execution_count": 3,
   "metadata": {},
   "outputs": [
    {
     "name": "stdout",
     "output_type": "stream",
     "text": [
      "         processed line 84127/84127           \n",
      "         reprocessed line 84127/84127           \n",
      "test_loss: 1.0746 - test_acc: 86.9443\n",
      "=== Site\n",
      "MAPs: 0.9352 - MAPc: 0.5288\n",
      "acc: 0.9001 - kappa: 0.8874\n",
      "accT3: 0.9646 - accT5: 0.9794\n",
      "=== Morpho\n",
      "MAPs: 0.8966 - MAPc: 0.5284\n",
      "acc: 0.8388 - kappa: 0.8202\n",
      "accT3: 0.9456 - accT5: 0.9678\n"
     ]
    }
   ],
   "source": [
    "calculateMetrics(configurationsMulticlass.configTMTmulti1best)"
   ]
  },
  {
   "cell_type": "markdown",
   "metadata": {},
   "source": [
    "# TMImulti"
   ]
  },
  {
   "cell_type": "code",
   "execution_count": 6,
   "metadata": {},
   "outputs": [
    {
     "name": "stdout",
     "output_type": "stream",
     "text": [
      "         processed line 84127/84127           \n",
      "         reprocessed line 84127/84127           \n",
      "test_loss: 4.4054 - test_acc: 73.1654\n",
      "MAPs: 0.8169 - MAPc: 0.3776\n",
      "acc: 0.7317 - kappa: 0.6964\n",
      "accT3: 0.9012 - accT5: 0.9305\n"
     ]
    }
   ],
   "source": [
    "calculateMetrics(configurationsMulticlass.configTMImultiBest)"
   ]
  },
  {
   "cell_type": "markdown",
   "metadata": {},
   "source": [
    "# TMbaseMulti"
   ]
  },
  {
   "cell_type": "code",
   "execution_count": 7,
   "metadata": {},
   "outputs": [
    {
     "name": "stdout",
     "output_type": "stream",
     "text": [
      "         processed line 84127/84127           \n",
      "         reprocessed line 84127/84127           \n",
      "test_loss: 0.6901 - test_acc: 82.6615\n",
      "MAPs: 0.8881 - MAPc: 0.4844\n",
      "acc: 0.8266 - kappa: 0.8064\n",
      "accT3: 0.9402 - accT5: 0.9602\n"
     ]
    }
   ],
   "source": [
    "calculateMetrics(configurationsMulticlass.configTMbaseMultiBest)"
   ]
  },
  {
   "cell_type": "markdown",
   "metadata": {},
   "source": [
    "# TMmulti1"
   ]
  },
  {
   "cell_type": "code",
   "execution_count": 8,
   "metadata": {},
   "outputs": [
    {
     "name": "stdout",
     "output_type": "stream",
     "text": [
      "         processed line 84127/84127           \n",
      "         reprocessed line 84127/84127           \n",
      "test_loss: 0.6612 - test_acc: 83.9419\n",
      "MAPs: 0.8962 - MAPc: 0.4530\n",
      "acc: 0.8394 - kappa: 0.8207\n",
      "accT3: 0.9452 - accT5: 0.9634\n"
     ]
    }
   ],
   "source": [
    "calculateMetrics(configurationsMulticlass.configTMmulti1best)"
   ]
  },
  {
   "cell_type": "markdown",
   "metadata": {},
   "source": [
    "# TIMulti2"
   ]
  },
  {
   "cell_type": "code",
   "execution_count": 9,
   "metadata": {},
   "outputs": [
    {
     "name": "stdout",
     "output_type": "stream",
     "text": [
      "         processed line 85170/85170           \n",
      "         reprocessed line 85170/85170           \n",
      "test_loss: 3.3127 - test_acc: 87.9190\n",
      "MAPs: 0.9190 - MAPc: 0.4259\n",
      "acc: 0.8792 - kappa: 0.8637\n",
      "accT3: 0.9533 - accT5: 0.9610\n"
     ]
    }
   ],
   "source": [
    "calculateMetrics(configurationsMulticlass.configTImulti2best)"
   ]
  },
  {
   "cell_type": "markdown",
   "metadata": {},
   "source": [
    "# TbaseMulti"
   ]
  },
  {
   "cell_type": "code",
   "execution_count": 10,
   "metadata": {},
   "outputs": [
    {
     "name": "stdout",
     "output_type": "stream",
     "text": [
      "         processed line 85170/85170           \n",
      "         reprocessed line 85170/85170           \n",
      "test_loss: 0.4549 - test_acc: 89.7681\n",
      "MAPs: 0.9331 - MAPc: 0.5563\n",
      "acc: 0.8977 - kappa: 0.8848\n",
      "accT3: 0.9636 - accT5: 0.9764\n"
     ]
    }
   ],
   "source": [
    "calculateMetrics(configurationsMulticlass.configTbaseMultiBest)"
   ]
  },
  {
   "cell_type": "markdown",
   "metadata": {},
   "source": [
    "# Tmulti1"
   ]
  },
  {
   "cell_type": "code",
   "execution_count": 11,
   "metadata": {},
   "outputs": [
    {
     "name": "stdout",
     "output_type": "stream",
     "text": [
      "         processed line 85170/85170           \n",
      "         reprocessed line 85170/85170           \n",
      "test_loss: 0.4235 - test_acc: 90.2436\n",
      "MAPs: 0.9369 - MAPc: 0.5680\n",
      "acc: 0.9024 - kappa: 0.8901\n",
      "accT3: 0.9658 - accT5: 0.9797\n"
     ]
    }
   ],
   "source": [
    "calculateMetrics(configurationsMulticlass.configTmulti1best)"
   ]
  },
  {
   "cell_type": "markdown",
   "metadata": {},
   "source": [
    "# TIMulti1"
   ]
  },
  {
   "cell_type": "code",
   "execution_count": 12,
   "metadata": {},
   "outputs": [],
   "source": [
    "#calculateMetrics(configurationsMulticlass.configTImulti1best)"
   ]
  },
  {
   "cell_type": "markdown",
   "metadata": {},
   "source": [
    "# TSmulti1"
   ]
  },
  {
   "cell_type": "code",
   "execution_count": 3,
   "metadata": {},
   "outputs": [
    {
     "name": "stdout",
     "output_type": "stream",
     "text": [
      "         processed line 85170/85170           \n",
      "         reprocessed line 85170/85170           \n",
      "test_loss: 0.4783 - test_acc: 90.0792\n",
      "MAPs: 0.9341 - MAPc: 0.5659\n",
      "acc: 0.9008 - kappa: 0.8883\n",
      "accT3: 0.9607 - accT5: 0.9749\n"
     ]
    }
   ],
   "source": [
    "calculateMetrics(configurationsMulticlass.configTSmulti1best)"
   ]
  },
  {
   "cell_type": "markdown",
   "metadata": {},
   "source": [
    "# TSMmulti1"
   ]
  },
  {
   "cell_type": "code",
   "execution_count": 5,
   "metadata": {},
   "outputs": [
    {
     "name": "stdout",
     "output_type": "stream",
     "text": [
      "         processed line 84127/84127           \n",
      "         reprocessed line 84127/84127           \n",
      "test_loss: 0.6890 - test_acc: 84.2442\n",
      "MAPs: 0.8973 - MAPc: 0.5295\n",
      "acc: 0.8424 - kappa: 0.8240\n",
      "accT3: 0.9445 - accT5: 0.9632\n"
     ]
    }
   ],
   "source": [
    "calculateMetrics(configurationsMulticlass.configTSMmulti1best)"
   ]
  },
  {
   "cell_type": "code",
   "execution_count": null,
   "metadata": {},
   "outputs": [],
   "source": []
  }
 ],
 "metadata": {
  "kernelspec": {
   "display_name": "Python 3",
   "language": "python",
   "name": "python3"
  },
  "language_info": {
   "codemirror_mode": {
    "name": "ipython",
    "version": 3
   },
   "file_extension": ".py",
   "mimetype": "text/x-python",
   "name": "python",
   "nbconvert_exporter": "python",
   "pygments_lexer": "ipython3",
   "version": "3.7.3"
  }
 },
 "nbformat": 4,
 "nbformat_minor": 2
}
