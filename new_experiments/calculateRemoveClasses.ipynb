{
 "cells": [
  {
   "cell_type": "code",
   "execution_count": 1,
   "metadata": {},
   "outputs": [],
   "source": [
    "import pickle\n",
    "import collections"
   ]
  },
  {
   "cell_type": "code",
   "execution_count": 2,
   "metadata": {},
   "outputs": [],
   "source": [
    "def calculateF1(conf):\n",
    "    model,optim = fun.loadModel(conf, \"cuda:0\")\n",
    "    X, y, train, valid, test = fun.processData(conf)\n",
    "    _, _, _, _, _, _, _, f1 = fun.runTest(conf, model, X, y, test)\n",
    "    return f1"
   ]
  },
  {
   "cell_type": "code",
   "execution_count": 3,
   "metadata": {},
   "outputs": [],
   "source": [
    "corpusS = pickle.load(open(\"corpusTemporal/corpusTemporal.p\", 'rb'))\n",
    "corpusM = pickle.load(open(\"corpusTemporalV2b/corpusTemporal.p\", 'rb'))"
   ]
  },
  {
   "cell_type": "code",
   "execution_count": 4,
   "metadata": {},
   "outputs": [],
   "source": [
    "yS = corpusS['test']['sede1']\n",
    "yM = corpusM['test']['morfo1']"
   ]
  },
  {
   "cell_type": "code",
   "execution_count": 5,
   "metadata": {},
   "outputs": [],
   "source": [
    "cS = collections.Counter(yS)\n",
    "cM = collections.Counter(yM)"
   ]
  },
  {
   "cell_type": "code",
   "execution_count": 6,
   "metadata": {},
   "outputs": [],
   "source": [
    "rS = [i for (i,f) in cS.most_common() if f < 5]\n",
    "rM = [i for (i,f) in cM.most_common() if f < 5]"
   ]
  },
  {
   "cell_type": "code",
   "execution_count": 7,
   "metadata": {},
   "outputs": [
    {
     "data": {
      "text/plain": [
       "[12, 72, 37, 76, 33, 74, 63]"
      ]
     },
     "execution_count": 7,
     "metadata": {},
     "output_type": "execute_result"
    }
   ],
   "source": [
    "rS"
   ]
  },
  {
   "cell_type": "code",
   "execution_count": 8,
   "metadata": {},
   "outputs": [
    {
     "data": {
      "text/plain": [
       "[8541,\n",
       " 8012,\n",
       " 8461,\n",
       " 8021,\n",
       " 8801,\n",
       " 8852,\n",
       " 9260,\n",
       " 9652,\n",
       " 8430,\n",
       " 9130,\n",
       " 8210,\n",
       " 8102,\n",
       " 9250,\n",
       " 9740,\n",
       " 9010,\n",
       " 8345,\n",
       " 8320,\n",
       " 8543,\n",
       " 8772,\n",
       " 8542,\n",
       " 9679,\n",
       " 8575,\n",
       " 9180,\n",
       " 9064,\n",
       " 9391,\n",
       " 9150,\n",
       " 9950,\n",
       " 8462,\n",
       " 8255,\n",
       " 9689,\n",
       " 8093,\n",
       " 9560,\n",
       " 9370,\n",
       " 9451,\n",
       " 8123,\n",
       " 9684,\n",
       " 9000,\n",
       " 9709,\n",
       " 8811,\n",
       " 8854,\n",
       " 9984,\n",
       " 9651,\n",
       " 9729,\n",
       " 9990,\n",
       " 9350,\n",
       " 8121,\n",
       " 8822,\n",
       " 9085,\n",
       " 9450,\n",
       " 9470,\n",
       " 8180,\n",
       " 8933,\n",
       " 8951,\n",
       " 9364,\n",
       " 9698,\n",
       " 8082,\n",
       " 8410,\n",
       " 8011,\n",
       " 9741,\n",
       " 8098,\n",
       " 9531,\n",
       " 9044,\n",
       " 9539,\n",
       " 8032,\n",
       " 8841,\n",
       " 8815,\n",
       " 9081,\n",
       " 9100,\n",
       " 9040]"
      ]
     },
     "execution_count": 8,
     "metadata": {},
     "output_type": "execute_result"
    }
   ],
   "source": [
    "rM"
   ]
  },
  {
   "cell_type": "code",
   "execution_count": 9,
   "metadata": {},
   "outputs": [],
   "source": [
    "pickle.dump(rS, open(\"toRemoveSite.p\", 'wb'))\n",
    "pickle.dump(rM, open(\"toRemoveMorfo.p\", 'wb'))"
   ]
  }
 ],
 "metadata": {
  "kernelspec": {
   "display_name": "Python 3",
   "language": "python",
   "name": "python3"
  },
  "language_info": {
   "codemirror_mode": {
    "name": "ipython",
    "version": 3
   },
   "file_extension": ".py",
   "mimetype": "text/x-python",
   "name": "python",
   "nbconvert_exporter": "python",
   "pygments_lexer": "ipython3",
   "version": "3.7.3"
  }
 },
 "nbformat": 4,
 "nbformat_minor": 2
}
