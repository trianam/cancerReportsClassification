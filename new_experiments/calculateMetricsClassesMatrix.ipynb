{
 "cells": [
  {
   "cell_type": "code",
   "execution_count": 1,
   "metadata": {},
   "outputs": [],
   "source": [
    "import numpy as np\n",
    "import pickle\n",
    "from sklearn.metrics import accuracy_score\n",
    "from sklearn.metrics import f1_score "
   ]
  },
  {
   "cell_type": "code",
   "execution_count": 2,
   "metadata": {},
   "outputs": [],
   "source": [
    "def calculateMetrics(pred, values, toRemove):\n",
    "    y = pred['y']\n",
    "    yp = pred['yp']\n",
    "    #print(y.shape)\n",
    "    #print(yp.shape)\n",
    "    #print([np.argwhere(values==r)[0][0] for r in toRemove])\n",
    "    if not toRemove is None:\n",
    "        y = np.delete(y, [np.argwhere(values==r)[0][0] for r in toRemove], axis=1)\n",
    "        yp = np.delete(yp, [np.argwhere(values==r)[0][0] for r in toRemove], axis=1)\n",
    "        \n",
    "        #print(y.shape)\n",
    "        #print(yp.shape)\n",
    "        rowsToDelete = np.argwhere(np.amax(y,1)==0)\n",
    "        y = np.delete(y, rowsToDelete, axis=0)\n",
    "        yp = np.delete(yp, rowsToDelete, axis=0)\n",
    "          \n",
    "    ypp = np.zeros_like(yp)\n",
    "    for i,j in enumerate(np.argmax(yp, axis=1)):\n",
    "        ypp[i,j] = 1.\n",
    "    \n",
    "    acc = [accuracy_score(y[:,c], ypp[:,c]) for c in range(y.shape[1])]\n",
    "    f1 = [f1_score(y[:,c], ypp[:,c], labels=[0., 1.]) for c in range(y.shape[1])]\n",
    "    \n",
    "    return acc,f1\n",
    "    \n",
    "    "
   ]
  },
  {
   "cell_type": "code",
   "execution_count": 3,
   "metadata": {},
   "outputs": [],
   "source": [
    "toRemoveS = pickle.load(open(\"toRemoveSite.p\", 'rb'))\n",
    "toRemoveM = pickle.load(open(\"toRemoveMorfo.p\", 'rb'))"
   ]
  },
  {
   "cell_type": "code",
   "execution_count": 4,
   "metadata": {},
   "outputs": [],
   "source": [
    "valuesS = pickle.load(open('corpusTemporal/valuesTemporal.p', 'rb'))\n",
    "valuesM = pickle.load(open('corpusTemporalV2b/valuesTemporalMorfo1.p', 'rb'))"
   ]
  },
  {
   "cell_type": "markdown",
   "metadata": {},
   "source": [
    "## calculate examples"
   ]
  },
  {
   "cell_type": "code",
   "execution_count": 5,
   "metadata": {},
   "outputs": [],
   "source": [
    "def calculateLengths(corpus, key, toRemove):\n",
    "    count = {d:len([i for i in corpus[d][key] if i not in toRemove]) for d in corpus}\n",
    "    print(count)"
   ]
  },
  {
   "cell_type": "code",
   "execution_count": 6,
   "metadata": {},
   "outputs": [],
   "source": [
    "corpusS =  pickle.load(open('corpusTemporal/corpusTemporal.p', 'rb'))\n",
    "corpusM =  pickle.load(open('corpusTemporalV2b/corpusTemporal.p', 'rb'))\n",
    "keyS = 'sede1'\n",
    "keyM = 'morfo1'"
   ]
  },
  {
   "cell_type": "code",
   "execution_count": 7,
   "metadata": {},
   "outputs": [
    {
     "name": "stdout",
     "output_type": "stream",
     "text": [
      "{'train': 50875, 'valid': 17007, 'test': 17015}\n"
     ]
    }
   ],
   "source": [
    "calculateLengths(corpusS, keyS, toRemoveS)"
   ]
  },
  {
   "cell_type": "code",
   "execution_count": 8,
   "metadata": {},
   "outputs": [
    {
     "name": "stdout",
     "output_type": "stream",
     "text": [
      "{'train': 49436, 'valid': 16787, 'test': 16719}\n"
     ]
    }
   ],
   "source": [
    "calculateLengths(corpusM, keyM, toRemoveM)"
   ]
  },
  {
   "cell_type": "markdown",
   "metadata": {},
   "source": [
    "# Site"
   ]
  },
  {
   "cell_type": "code",
   "execution_count": 9,
   "metadata": {},
   "outputs": [],
   "source": [
    "accS = {}\n",
    "f1S = {}"
   ]
  },
  {
   "cell_type": "code",
   "execution_count": 10,
   "metadata": {},
   "outputs": [],
   "source": [
    "accS['GRU'],f1S['GRU'] = calculateMetrics(pickle.load(open('predictionGRU-Asite.p', 'rb')), valuesS, toRemoveS)"
   ]
  },
  {
   "cell_type": "code",
   "execution_count": 11,
   "metadata": {},
   "outputs": [],
   "source": [
    "accS['MAXi'],f1S['MAXi'] = calculateMetrics(pickle.load(open('predictionMAXi-Asite.p', 'rb')), valuesS, toRemoveS)"
   ]
  },
  {
   "cell_type": "code",
   "execution_count": 12,
   "metadata": {},
   "outputs": [],
   "source": [
    "accS['MAXh'],f1S['MAXh'] = calculateMetrics(pickle.load(open('predictionMAXh-Asite.p', 'rb')), valuesS, toRemoveS)"
   ]
  },
  {
   "cell_type": "code",
   "execution_count": 13,
   "metadata": {},
   "outputs": [],
   "source": [
    "accS['ATTh'],f1S['ATTh'] = calculateMetrics(pickle.load(open('predictionATTh-Asite.p', 'rb')), valuesS, toRemoveS)"
   ]
  },
  {
   "cell_type": "code",
   "execution_count": 14,
   "metadata": {},
   "outputs": [],
   "source": [
    "accS['ATT'],f1S['ATT'] = calculateMetrics(pickle.load(open('predictionATT-Asite.p', 'rb')), valuesS, toRemoveS)"
   ]
  },
  {
   "cell_type": "code",
   "execution_count": 15,
   "metadata": {},
   "outputs": [],
   "source": [
    "accS['MAX'],f1S['MAX'] = calculateMetrics(pickle.load(open('predictionMAX-Asite.p', 'rb')), valuesS, toRemoveS)"
   ]
  },
  {
   "cell_type": "code",
   "execution_count": 16,
   "metadata": {},
   "outputs": [],
   "source": [
    "accS['SVM'],f1S['SVM'] = calculateMetrics(pickle.load(open('predictionsSVM-Asite.p', 'rb')), valuesS, toRemoveS)"
   ]
  },
  {
   "cell_type": "code",
   "execution_count": 17,
   "metadata": {},
   "outputs": [],
   "source": [
    "#accS['XGBoost'],f1S['XGBoost'] = calculateMetrics(pickle.load(open('predictionsXGBoost-Asite.p', 'rb')), valuesS, toRemoveS)"
   ]
  },
  {
   "cell_type": "code",
   "execution_count": 18,
   "metadata": {},
   "outputs": [],
   "source": [
    "accS['BERT'],f1S['BERT'] = calculateMetrics(pickle.load(open('predictionsBERT-Asite.p', 'rb')), valuesS, toRemoveS)"
   ]
  },
  {
   "cell_type": "code",
   "execution_count": 19,
   "metadata": {},
   "outputs": [],
   "source": [
    "accS['CNN'],f1S['CNN'] = calculateMetrics(pickle.load(open('predictionsCNN-Asite.p', 'rb')), valuesS, toRemoveS)"
   ]
  },
  {
   "cell_type": "markdown",
   "metadata": {},
   "source": [
    "# Morpho"
   ]
  },
  {
   "cell_type": "code",
   "execution_count": 20,
   "metadata": {},
   "outputs": [],
   "source": [
    "accM = {}\n",
    "f1M = {}"
   ]
  },
  {
   "cell_type": "code",
   "execution_count": 21,
   "metadata": {},
   "outputs": [],
   "source": [
    "accM['GRU'],f1M['GRU'] = calculateMetrics(pickle.load(open('predictionGRU-Amorpho.p', 'rb')), valuesM, toRemoveM)"
   ]
  },
  {
   "cell_type": "code",
   "execution_count": 22,
   "metadata": {},
   "outputs": [],
   "source": [
    "accM['MAXi'],f1M['MAXi'] = calculateMetrics(pickle.load(open('predictionMAXi-Amorpho.p', 'rb')), valuesM, toRemoveM)"
   ]
  },
  {
   "cell_type": "code",
   "execution_count": 23,
   "metadata": {},
   "outputs": [],
   "source": [
    "accM['MAXh'],f1M['MAXh'] = calculateMetrics(pickle.load(open('predictionMAXh-Amorpho.p', 'rb')), valuesM, toRemoveM)"
   ]
  },
  {
   "cell_type": "code",
   "execution_count": 24,
   "metadata": {},
   "outputs": [],
   "source": [
    "accM['ATTh'],f1M['ATTh'] = calculateMetrics(pickle.load(open('predictionATTh-Amorpho.p', 'rb')), valuesM, toRemoveM)"
   ]
  },
  {
   "cell_type": "code",
   "execution_count": 25,
   "metadata": {},
   "outputs": [],
   "source": [
    "accM['ATT'],f1M['ATT'] = calculateMetrics(pickle.load(open('predictionATT-Amorpho.p', 'rb')), valuesM, toRemoveM)"
   ]
  },
  {
   "cell_type": "code",
   "execution_count": 26,
   "metadata": {},
   "outputs": [],
   "source": [
    "accM['MAX'],f1M['MAX'] = calculateMetrics(pickle.load(open('predictionMAX-Amorpho.p', 'rb')), valuesM, toRemoveM)"
   ]
  },
  {
   "cell_type": "code",
   "execution_count": 27,
   "metadata": {},
   "outputs": [],
   "source": [
    "accM['SVM'],f1M['SVM'] = calculateMetrics(pickle.load(open('predictionsSVM-Amorpho.p', 'rb')), valuesM, toRemoveM)"
   ]
  },
  {
   "cell_type": "code",
   "execution_count": 28,
   "metadata": {},
   "outputs": [],
   "source": [
    "#accM['XGBoost'],f1M['XGBoost'] = calculateMetrics(pickle.load(open('predictionsXGBoost-Amorpho.p', 'rb')), valuesM, toRemoveM)"
   ]
  },
  {
   "cell_type": "code",
   "execution_count": 29,
   "metadata": {},
   "outputs": [],
   "source": [
    "accM['BERT'],f1M['BERT'] = calculateMetrics(pickle.load(open('predictionsBERT-Amorpho.p', 'rb')), valuesM, toRemoveM)"
   ]
  },
  {
   "cell_type": "code",
   "execution_count": 30,
   "metadata": {},
   "outputs": [],
   "source": [
    "accM['CNN'],f1M['CNN'] = calculateMetrics(pickle.load(open('predictionsCNN-Amorpho.p', 'rb')), valuesM, toRemoveM)"
   ]
  },
  {
   "cell_type": "code",
   "execution_count": 31,
   "metadata": {},
   "outputs": [],
   "source": [
    "pickle.dump(accS, open('matrixClasses-accuracySite.p', 'wb'))\n",
    "pickle.dump(f1S, open('matrixClasses-f1Site.p', 'wb'))\n",
    "pickle.dump(accM, open('matrixClasses-accuracyMorpho.p', 'wb'))\n",
    "pickle.dump(f1M, open('matrixClasses-f1Morpho.p', 'wb'))"
   ]
  },
  {
   "cell_type": "markdown",
   "metadata": {},
   "source": []
  }
 ],
 "metadata": {
  "kernelspec": {
   "display_name": "Python 3",
   "language": "python",
   "name": "python3"
  },
  "language_info": {
   "codemirror_mode": {
    "name": "ipython",
    "version": 3
   },
   "file_extension": ".py",
   "mimetype": "text/x-python",
   "name": "python",
   "nbconvert_exporter": "python",
   "pygments_lexer": "ipython3",
   "version": "3.7.3"
  }
 },
 "nbformat": 4,
 "nbformat_minor": 2
}
