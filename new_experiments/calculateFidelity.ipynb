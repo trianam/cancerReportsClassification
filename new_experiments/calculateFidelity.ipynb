{
 "cells": [
  {
   "cell_type": "code",
   "execution_count": 1,
   "metadata": {},
   "outputs": [],
   "source": [
    "import numpy as np\n",
    "import pickle\n",
    "from sklearn.metrics import accuracy_score\n",
    "from sklearn.metrics import f1_score "
   ]
  },
  {
   "cell_type": "code",
   "execution_count": 2,
   "metadata": {},
   "outputs": [],
   "source": [
    "def calculateMetrics(pred, values, toRemove):\n",
    "    y = pred['y']\n",
    "    yp = pred['yp']\n",
    "    #print(y.shape)\n",
    "    #print(yp.shape)\n",
    "    #print([np.argwhere(values==r)[0][0] for r in toRemove])\n",
    "    if not toRemove is None:\n",
    "        y = np.delete(y, [np.argwhere(values==r)[0][0] for r in toRemove], axis=1)\n",
    "        yp = np.delete(yp, [np.argwhere(values==r)[0][0] for r in toRemove], axis=1)\n",
    "        \n",
    "        #print(y.shape)\n",
    "        #print(yp.shape)\n",
    "        rowsToDelete = np.argwhere(np.amax(y,1)==0)\n",
    "        y = np.delete(y, rowsToDelete, axis=0)\n",
    "        yp = np.delete(yp, rowsToDelete, axis=0)\n",
    "          \n",
    "    ypp = np.zeros_like(yp)\n",
    "    for i,j in enumerate(np.argmax(yp, axis=1)):\n",
    "        ypp[i,j] = 1.\n",
    "    \n",
    "    return y,ypp\n",
    "    \n",
    "    "
   ]
  },
  {
   "cell_type": "code",
   "execution_count": 3,
   "metadata": {},
   "outputs": [],
   "source": [
    "toRemoveS = pickle.load(open(\"toRemoveSite.p\", 'rb'))\n",
    "toRemoveM = pickle.load(open(\"toRemoveMorfo.p\", 'rb'))"
   ]
  },
  {
   "cell_type": "code",
   "execution_count": 4,
   "metadata": {},
   "outputs": [],
   "source": [
    "valuesS = pickle.load(open('corpusTemporal/valuesTemporal.p', 'rb'))\n",
    "valuesM = pickle.load(open('corpusTemporalV2b/valuesTemporalMorfo1.p', 'rb'))"
   ]
  },
  {
   "cell_type": "markdown",
   "metadata": {},
   "source": [
    "## calculate examples"
   ]
  },
  {
   "cell_type": "code",
   "execution_count": 5,
   "metadata": {},
   "outputs": [],
   "source": [
    "def calculateLengths(corpus, key, toRemove):\n",
    "    count = {d:len([i for i in corpus[d][key] if i not in toRemove]) for d in corpus}\n",
    "    print(count)"
   ]
  },
  {
   "cell_type": "code",
   "execution_count": 6,
   "metadata": {},
   "outputs": [],
   "source": [
    "corpusS =  pickle.load(open('corpusTemporal/corpusTemporal.p', 'rb'))\n",
    "corpusM =  pickle.load(open('corpusTemporalV2b/corpusTemporal.p', 'rb'))\n",
    "keyS = 'sede1'\n",
    "keyM = 'morfo1'"
   ]
  },
  {
   "cell_type": "code",
   "execution_count": 7,
   "metadata": {},
   "outputs": [
    {
     "name": "stdout",
     "output_type": "stream",
     "text": [
      "{'train': 50875, 'valid': 17007, 'test': 17015}\n"
     ]
    }
   ],
   "source": [
    "calculateLengths(corpusS, keyS, toRemoveS)"
   ]
  },
  {
   "cell_type": "code",
   "execution_count": 8,
   "metadata": {},
   "outputs": [
    {
     "name": "stdout",
     "output_type": "stream",
     "text": [
      "{'train': 49436, 'valid': 16787, 'test': 16719}\n"
     ]
    }
   ],
   "source": [
    "calculateLengths(corpusM, keyM, toRemoveM)"
   ]
  },
  {
   "cell_type": "markdown",
   "metadata": {},
   "source": [
    "# Site"
   ]
  },
  {
   "cell_type": "code",
   "execution_count": 9,
   "metadata": {},
   "outputs": [],
   "source": [
    "y,yp = calculateMetrics(pickle.load(open('predictionMAX-Asite.p', 'rb')), valuesS, toRemoveS)\n",
    "yi,ypi = calculateMetrics(pickle.load(open('predictionMAXi-Asite.p', 'rb')), valuesS, toRemoveS)"
   ]
  },
  {
   "cell_type": "code",
   "execution_count": 10,
   "metadata": {},
   "outputs": [
    {
     "data": {
      "text/plain": [
       "0.9031442844548927"
      ]
     },
     "execution_count": 10,
     "metadata": {},
     "output_type": "execute_result"
    }
   ],
   "source": [
    "accuracy_score(y,yp)"
   ]
  },
  {
   "cell_type": "code",
   "execution_count": 11,
   "metadata": {},
   "outputs": [
    {
     "data": {
      "text/plain": [
       "0.8802233323538055"
      ]
     },
     "execution_count": 11,
     "metadata": {},
     "output_type": "execute_result"
    }
   ],
   "source": [
    "accuracy_score(yi,ypi)"
   ]
  },
  {
   "cell_type": "markdown",
   "metadata": {},
   "source": [
    "---"
   ]
  },
  {
   "cell_type": "code",
   "execution_count": 12,
   "metadata": {},
   "outputs": [
    {
     "data": {
      "text/plain": [
       "0.917660887452248"
      ]
     },
     "execution_count": 12,
     "metadata": {},
     "output_type": "execute_result"
    }
   ],
   "source": [
    "accuracy_score(yp,ypi)"
   ]
  },
  {
   "cell_type": "markdown",
   "metadata": {},
   "source": [
    "# Morpho"
   ]
  },
  {
   "cell_type": "code",
   "execution_count": 13,
   "metadata": {},
   "outputs": [],
   "source": [
    "y,yp = calculateMetrics(pickle.load(open('predictionMAX-Amorpho.p', 'rb')), valuesM, toRemoveM)\n",
    "yi,ypi = calculateMetrics(pickle.load(open('predictionMAXi-Amorpho.p', 'rb')), valuesM, toRemoveM)"
   ]
  },
  {
   "cell_type": "code",
   "execution_count": 14,
   "metadata": {},
   "outputs": [
    {
     "data": {
      "text/plain": [
       "0.8455051139422214"
      ]
     },
     "execution_count": 14,
     "metadata": {},
     "output_type": "execute_result"
    }
   ],
   "source": [
    "accuracy_score(y,yp)"
   ]
  },
  {
   "cell_type": "code",
   "execution_count": 15,
   "metadata": {},
   "outputs": [
    {
     "data": {
      "text/plain": [
       "0.7343142532448113"
      ]
     },
     "execution_count": 15,
     "metadata": {},
     "output_type": "execute_result"
    }
   ],
   "source": [
    "accuracy_score(yi,ypi)"
   ]
  },
  {
   "cell_type": "markdown",
   "metadata": {},
   "source": [
    "---"
   ]
  },
  {
   "cell_type": "code",
   "execution_count": 16,
   "metadata": {},
   "outputs": [
    {
     "data": {
      "text/plain": [
       "0.7834798731981578"
      ]
     },
     "execution_count": 16,
     "metadata": {},
     "output_type": "execute_result"
    }
   ],
   "source": [
    "accuracy_score(yp,ypi)"
   ]
  }
 ],
 "metadata": {
  "kernelspec": {
   "display_name": "Python 3",
   "language": "python",
   "name": "python3"
  },
  "language_info": {
   "codemirror_mode": {
    "name": "ipython",
    "version": 3
   },
   "file_extension": ".py",
   "mimetype": "text/x-python",
   "name": "python",
   "nbconvert_exporter": "python",
   "pygments_lexer": "ipython3",
   "version": "3.7.3"
  }
 },
 "nbformat": 4,
 "nbformat_minor": 2
}
