{
 "cells": [
  {
   "cell_type": "markdown",
   "metadata": {},
   "source": [
    "def __init__(self, fold=0, tasks=['sede1', 'sede12', 'morfo1', 'morfo2'], corpusFolder=\"corpusLSTM_ICDO3\", foldsFolder=\"folds10\", fileVectors=\"vectors.txt\", phraseLen = 200, lstmCells=150, learningRate=0.001, learningRateDecay=0., dropout=0.5, patience=2, epochs=100):"
   ]
  },
  {
   "cell_type": "code",
   "execution_count": 2,
   "metadata": {
    "collapsed": false
   },
   "outputs": [],
   "source": [
    "import pickle\n",
    "from tabulate import tabulate\n",
    "import matplotlib.pyplot as plt\n",
    "%matplotlib inline"
   ]
  },
  {
   "cell_type": "code",
   "execution_count": 3,
   "metadata": {
    "collapsed": false
   },
   "outputs": [
    {
     "ename": "FileNotFoundError",
     "evalue": "[Errno 2] No such file or directory: './filesFolds-LSTMcustomBatch2/output/0/evaluationSede12-0.p'",
     "output_type": "error",
     "traceback": [
      "\u001b[0;31m---------------------------------------------------------------------------\u001b[0m",
      "\u001b[0;31mFileNotFoundError\u001b[0m                         Traceback (most recent call last)",
      "\u001b[0;32m<ipython-input-3-4dd4cc3536f9>\u001b[0m in \u001b[0;36m<module>\u001b[0;34m()\u001b[0m\n\u001b[1;32m     11\u001b[0m \u001b[0mevaluations\u001b[0m \u001b[0;34m=\u001b[0m \u001b[0;34m[\u001b[0m\u001b[0;34m]\u001b[0m\u001b[0;34m\u001b[0m\u001b[0m\n\u001b[1;32m     12\u001b[0m \u001b[0;32mfor\u001b[0m \u001b[0mi\u001b[0m \u001b[0;32min\u001b[0m \u001b[0mrange\u001b[0m\u001b[0;34m(\u001b[0m\u001b[0mnumTrainings\u001b[0m\u001b[0;34m)\u001b[0m\u001b[0;34m:\u001b[0m\u001b[0;34m\u001b[0m\u001b[0m\n\u001b[0;32m---> 13\u001b[0;31m     \u001b[0mevaluations\u001b[0m\u001b[0;34m.\u001b[0m\u001b[0mappend\u001b[0m\u001b[0;34m(\u001b[0m\u001b[0mpickle\u001b[0m\u001b[0;34m.\u001b[0m\u001b[0mload\u001b[0m\u001b[0;34m(\u001b[0m\u001b[0mopen\u001b[0m\u001b[0;34m(\u001b[0m\u001b[0mfileBase\u001b[0m\u001b[0;34m+\u001b[0m\u001b[0;34m\"/output/0/evaluation\"\u001b[0m\u001b[0;34m+\u001b[0m\u001b[0mtask\u001b[0m\u001b[0;34m.\u001b[0m\u001b[0mcapitalize\u001b[0m\u001b[0;34m(\u001b[0m\u001b[0;34m)\u001b[0m\u001b[0;34m+\u001b[0m\u001b[0;34m\"-\"\u001b[0m\u001b[0;34m+\u001b[0m\u001b[0mstr\u001b[0m\u001b[0;34m(\u001b[0m\u001b[0mi\u001b[0m\u001b[0;34m)\u001b[0m\u001b[0;34m+\u001b[0m\u001b[0;34m\".p\"\u001b[0m\u001b[0;34m,\u001b[0m \u001b[0;34m'rb'\u001b[0m\u001b[0;34m)\u001b[0m\u001b[0;34m)\u001b[0m\u001b[0;34m)\u001b[0m\u001b[0;34m\u001b[0m\u001b[0m\n\u001b[0m\u001b[1;32m     14\u001b[0m \u001b[0;34m\u001b[0m\u001b[0m\n\u001b[1;32m     15\u001b[0m \u001b[0mallAcc\u001b[0m \u001b[0;34m=\u001b[0m \u001b[0;34m[\u001b[0m\u001b[0;34m]\u001b[0m\u001b[0;34m\u001b[0m\u001b[0m\n",
      "\u001b[0;31mFileNotFoundError\u001b[0m: [Errno 2] No such file or directory: './filesFolds-LSTMcustomBatch2/output/0/evaluationSede12-0.p'"
     ]
    }
   ],
   "source": [
    "task = \"sede12\"\n",
    "fileBase = \"./filesFolds-LSTMcustomBatch2\"\n",
    "numTrainings = 1\n",
    "\n",
    "modelsEpochs = []\n",
    "\n",
    "histories = []\n",
    "for i in range(numTrainings):\n",
    "    histories.append(pickle.load(open(fileBase+\"/history/0/historyCat\"+task.capitalize()+\"-\"+str(i)+\".p\", 'rb')))\n",
    "\n",
    "evaluations = []\n",
    "for i in range(numTrainings):\n",
    "    evaluations.append(pickle.load(open(fileBase+\"/output/0/evaluation\"+task.capitalize()+\"-\"+str(i)+\".p\", 'rb')))\n",
    "\n",
    "allAcc = []\n",
    "allValAcc = []\n",
    "allLoss = []\n",
    "allValLoss = []\n",
    "for history in histories:\n",
    "    allAcc += history['acc']\n",
    "    allValAcc += history['val_acc']\n",
    "    allLoss += history['loss']\n",
    "    allValLoss += history['val_loss']\n",
    "    modelsEpochs.append(len(allAcc))\n",
    "                     \n",
    "# metrics on test\n",
    "for x in modelsEpochs:\n",
    "    plt.axvline(x, color='k')\n",
    "plt.plot(modelsEpochs, [ev['accuracy'] for ev in evaluations], label='accuracy')\n",
    "plt.plot(modelsEpochs, [ev['MAPs'] for ev in evaluations], label='MAPs')\n",
    "plt.title('metrics on test')\n",
    "#plt.ylabel('accuracy')\n",
    "plt.xlabel('epoch')\n",
    "plt.legend(loc='lower right')\n",
    "plt.grid()\n",
    "plt.ylim([0,1])\n",
    "plt.show()\n",
    "\n",
    "# summarize history for accuracy\n",
    "for x in modelsEpochs:\n",
    "    plt.axvline(x, color='k')\n",
    "plt.plot(range(1, len(allAcc)+1), allAcc, label='train')\n",
    "plt.plot(range(1, len(allValAcc)+1), allValAcc, label='valid')\n",
    "#plt.plot(modelsEpochs, [ev['accuracy'] for ev in evaluations], label='test')\n",
    "plt.title('model accuracy')\n",
    "plt.ylabel('accuracy')\n",
    "plt.xlabel('epoch')\n",
    "plt.legend(loc='lower right')\n",
    "plt.grid()\n",
    "plt.ylim([0,1])\n",
    "plt.show()\n",
    "# summarize history for loss\n",
    "for x in modelsEpochs:\n",
    "    plt.axvline(x, color='k')\n",
    "plt.plot(range(1, len(allAcc)+1), allLoss, label='train')\n",
    "plt.plot(range(1, len(allValAcc)+1), allValLoss, label='valid')\n",
    "plt.title('model loss')\n",
    "plt.ylabel('loss')\n",
    "plt.xlabel('epoch')\n",
    "plt.legend(loc='upper right')\n",
    "plt.grid()\n",
    "plt.ylim([0,5])\n",
    "plt.show()"
   ]
  },
  {
   "cell_type": "code",
   "execution_count": 11,
   "metadata": {
    "collapsed": false
   },
   "outputs": [
    {
     "name": "stdout",
     "output_type": "stream",
     "text": [
      "------  --------  -----  -----  ------  -----  -----  ------  -------\n",
      "task    average   MAPs   MAPc   accur.  kappa  prec.  recall  f1score\n",
      "\n",
      "sede12            0.635  0.392  0.465   0.450\n",
      "sede12  micro                                  0.465  0.465   0.465\n",
      "sede12  macro                                  0.307  0.414   0.315\n",
      "sede12  weighted                               0.656  0.465   0.494\n",
      "------  --------  -----  -----  ------  -----  -----  ------  -------\n",
      "\n"
     ]
    }
   ],
   "source": [
    "fileTable = \"./filesFolds-LSTMcustomBatch2/\"\n",
    "with open(fileTable, 'rt') as fid:\n",
    "    print(fid.read())\n",
    "    "
   ]
  },
  {
   "cell_type": "code",
   "execution_count": 4,
   "metadata": {
    "collapsed": false
   },
   "outputs": [
    {
     "name": "stdout",
     "output_type": "stream",
     "text": [
      "------  --------  -----  -----  ------  -----  -----  ------  -------\n",
      "task    average   MAPs   MAPc   accur.  kappa  prec.  recall  f1score\n",
      "\n",
      "sede12            0.788  0.466  0.700   0.684\n",
      "sede12  micro                                  0.700  0.700   0.700\n",
      "sede12  macro                                  0.442  0.388   0.395\n",
      "sede12  weighted                               0.688  0.700   0.685\n",
      "------  --------  -----  -----  ------  -----  -----  ------  -------\n"
     ]
    }
   ],
   "source": [
    "fileEvaluation = \"./filesFolds-SVMbigrams/output/0/evaluation.p\"\n",
    "tasks = ['sede12']\n",
    "\n",
    "metrics = pickle.load(open(fileEvaluation, 'rb'))\n",
    "table = [[\"task\", \"average\", \"MAPs\", \"MAPc\", \"accur.\", \"kappa\", \"prec.\", \"recall\", \"f1score\"]]\n",
    "na = ' '\n",
    "for task in tasks:\n",
    "    table.append([\" \", \" \", \" \", \" \", \" \", \" \", \" \", \" \"])\n",
    "    table.append([task, na, \"{:.3f}\".format(metrics[task]['MAPs']), \"{:.3f}\".format(metrics[task]['MAPc']), \"{:.3f}\".format(metrics[task]['accuracy']), \"{:.3f}\".format(metrics[task]['kappa']), na, na, na])\n",
    "    for avg in ['micro', 'macro', 'weighted']:\n",
    "        table.append([task, avg, na, na, na, na, \"{:.3f}\".format(metrics[task]['precision'][avg]), \"{:.3f}\".format(metrics[task]['recall'][avg]), \"{:.3f}\".format(metrics[task]['f1score'][avg])])\n",
    "        \n",
    "print(tabulate(table))"
   ]
  }
 ],
 "metadata": {
  "kernelspec": {
   "display_name": "Python 3",
   "language": "python",
   "name": "python3"
  },
  "language_info": {
   "codemirror_mode": {
    "name": "ipython",
    "version": 3
   },
   "file_extension": ".py",
   "mimetype": "text/x-python",
   "name": "python",
   "nbconvert_exporter": "python",
   "pygments_lexer": "ipython3",
   "version": "3.6.0"
  }
 },
 "nbformat": 4,
 "nbformat_minor": 2
}
