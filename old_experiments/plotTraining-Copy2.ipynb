{
 "cells": [
  {
   "cell_type": "code",
   "execution_count": 1,
   "metadata": {
    "collapsed": false
   },
   "outputs": [],
   "source": [
    "import pickle\n",
    "from tabulate import tabulate\n",
    "import matplotlib.pyplot as plt\n",
    "%matplotlib inline"
   ]
  },
  {
   "cell_type": "code",
   "execution_count": 6,
   "metadata": {
    "collapsed": false
   },
   "outputs": [
    {
     "ename": "FileNotFoundError",
     "evalue": "[Errno 2] No such file or directory: './filesFolds-SVMbigrams/history/0/historyCatSede12.p'",
     "output_type": "error",
     "traceback": [
      "\u001b[0;31m---------------------------------------------------------------------------\u001b[0m",
      "\u001b[0;31mFileNotFoundError\u001b[0m                         Traceback (most recent call last)",
      "\u001b[0;32m<ipython-input-6-a3f0d3ba382a>\u001b[0m in \u001b[0;36m<module>\u001b[0;34m()\u001b[0m\n\u001b[1;32m      1\u001b[0m \u001b[0mfileDumpHistory\u001b[0m \u001b[0;34m=\u001b[0m \u001b[0;34m\"./filesFolds-SVMbigrams/history/0/historyCatSede12.p\"\u001b[0m\u001b[0;34m\u001b[0m\u001b[0m\n\u001b[0;32m----> 2\u001b[0;31m \u001b[0mhistory\u001b[0m \u001b[0;34m=\u001b[0m \u001b[0mpickle\u001b[0m\u001b[0;34m.\u001b[0m\u001b[0mload\u001b[0m\u001b[0;34m(\u001b[0m\u001b[0mopen\u001b[0m\u001b[0;34m(\u001b[0m\u001b[0mfileDumpHistory\u001b[0m\u001b[0;34m,\u001b[0m \u001b[0;34m'rb'\u001b[0m\u001b[0;34m)\u001b[0m\u001b[0;34m)\u001b[0m\u001b[0;34m\u001b[0m\u001b[0m\n\u001b[0m\u001b[1;32m      3\u001b[0m \u001b[0;34m\u001b[0m\u001b[0m\n\u001b[1;32m      4\u001b[0m \u001b[0;31m# summarize history for accuracy\u001b[0m\u001b[0;34m\u001b[0m\u001b[0;34m\u001b[0m\u001b[0m\n\u001b[1;32m      5\u001b[0m \u001b[0mplt\u001b[0m\u001b[0;34m.\u001b[0m\u001b[0mplot\u001b[0m\u001b[0;34m(\u001b[0m\u001b[0mhistory\u001b[0m\u001b[0;34m[\u001b[0m\u001b[0;34m'acc'\u001b[0m\u001b[0;34m]\u001b[0m\u001b[0;34m)\u001b[0m\u001b[0;34m\u001b[0m\u001b[0m\n",
      "\u001b[0;31mFileNotFoundError\u001b[0m: [Errno 2] No such file or directory: './filesFolds-SVMbigrams/history/0/historyCatSede12.p'"
     ]
    }
   ],
   "source": [
    "fileDumpHistory = \"./filesFolds-SVMbigrams/history/0/historyCatSede12.p\"\n",
    "history = pickle.load(open(fileDumpHistory, 'rb'))\n",
    "\n",
    "# summarize history for accuracy\n",
    "plt.plot(history['acc'])\n",
    "plt.plot(history['val_acc'])\n",
    "plt.title('model accuracy')\n",
    "plt.ylabel('accuracy')\n",
    "plt.xlabel('epoch')\n",
    "plt.legend(['train', 'valid'], loc='lower right')\n",
    "plt.grid()\n",
    "plt.show()\n",
    "# summarize history for loss\n",
    "plt.plot(history['loss'])\n",
    "plt.plot(history['val_loss'])\n",
    "plt.title('model loss')\n",
    "plt.ylabel('loss')\n",
    "plt.xlabel('epoch')\n",
    "plt.legend(['train', 'valid'], loc='upper right')\n",
    "plt.grid()\n",
    "plt.show()"
   ]
  },
  {
   "cell_type": "code",
   "execution_count": 7,
   "metadata": {
    "collapsed": false
   },
   "outputs": [
    {
     "name": "stdout",
     "output_type": "stream",
     "text": [
      "------  --------  -----  -----  ------  -----  -----  ------  -------\n",
      "task    average   MAPs   MAPc   accur.  kappa  prec.  recall  f1score\n",
      "\n",
      "sede12            0.788  0.466  0.700   0.684\n",
      "sede12  micro                                  0.700  0.700   0.700\n",
      "sede12  macro                                  0.442  0.388   0.395\n",
      "sede12  weighted                               0.688  0.700   0.685\n",
      "------  --------  -----  -----  ------  -----  -----  ------  -------\n"
     ]
    }
   ],
   "source": [
    "fileEvaluation = \"./filesFolds-SVMbigrams/output/0/evaluation.p\"\n",
    "tasks = ['sede12']\n",
    "\n",
    "metrics = pickle.load(open(fileEvaluation, 'rb'))\n",
    "table = [[\"task\", \"average\", \"MAPs\", \"MAPc\", \"accur.\", \"kappa\", \"prec.\", \"recall\", \"f1score\"]]\n",
    "na = ' '\n",
    "for task in tasks:\n",
    "    table.append([\" \", \" \", \" \", \" \", \" \", \" \", \" \", \" \"])\n",
    "    table.append([task, na, \"{:.3f}\".format(metrics[task]['MAPs']), \"{:.3f}\".format(metrics[task]['MAPc']), \"{:.3f}\".format(metrics[task]['accuracy']), \"{:.3f}\".format(metrics[task]['kappa']), na, na, na])\n",
    "    for avg in ['micro', 'macro', 'weighted']:\n",
    "        table.append([task, avg, na, na, na, na, \"{:.3f}\".format(metrics[task]['precision'][avg]), \"{:.3f}\".format(metrics[task]['recall'][avg]), \"{:.3f}\".format(metrics[task]['f1score'][avg])])\n",
    "        \n",
    "print(tabulate(table))"
   ]
  },
  {
   "cell_type": "code",
   "execution_count": null,
   "metadata": {
    "collapsed": true
   },
   "outputs": [],
   "source": []
  }
 ],
 "metadata": {
  "kernelspec": {
   "display_name": "Python 3",
   "language": "python",
   "name": "python3"
  },
  "language_info": {
   "codemirror_mode": {
    "name": "ipython",
    "version": 3
   },
   "file_extension": ".py",
   "mimetype": "text/x-python",
   "name": "python",
   "nbconvert_exporter": "python",
   "pygments_lexer": "ipython3",
   "version": "3.6.0"
  }
 },
 "nbformat": 4,
 "nbformat_minor": 2
}
