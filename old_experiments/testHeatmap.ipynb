{
 "cells": [
  {
   "cell_type": "markdown",
   "metadata": {},
   "source": [
    "https://gist.github.com/ihsgnef/f13c35cd46624c8f458a4d23589ac768"
   ]
  },
  {
   "cell_type": "code",
   "execution_count": 1,
   "metadata": {},
   "outputs": [],
   "source": [
    "import numpy as np\n",
    "import matplotlib\n",
    "import matplotlib.pyplot as plt"
   ]
  },
  {
   "cell_type": "code",
   "execution_count": 14,
   "metadata": {},
   "outputs": [],
   "source": [
    "def colorize(words, color_array):\n",
    "    # words is a list of words\n",
    "    # color_array is an array of numbers between 0 and 1 of length equal to words\n",
    "    #'RdBu'\n",
    "    cmap = matplotlib.cm.get_cmap('Reds')\n",
    "    template = '<span class=\"barcode\"; style=\"color: black; background-color: {}\">{}</span>'\n",
    "    colored_string = ''\n",
    "    for word, color in zip(words, color_array):\n",
    "        color = matplotlib.colors.rgb2hex(cmap(color)[:3])\n",
    "        colored_string += template.format(color, '&nbsp' + word + '&nbsp')\n",
    "    return colored_string    "
   ]
  },
  {
   "cell_type": "code",
   "execution_count": 16,
   "metadata": {},
   "outputs": [],
   "source": [
    "words = 'The quick brown fox jumps over the lazy dog'.split()\n",
    "color_array = np.random.rand(len(words))\n",
    "s = colorize(words, color_array)"
   ]
  },
  {
   "cell_type": "code",
   "execution_count": 17,
   "metadata": {},
   "outputs": [
    {
     "data": {
      "text/html": [
       "<span class=\"barcode\"; style=\"color: black; background-color: #fedccd\">&nbspThe&nbsp</span><span class=\"barcode\"; style=\"color: black; background-color: #f03f2e\">&nbspquick&nbsp</span><span class=\"barcode\"; style=\"color: black; background-color: #fca98c\">&nbspbrown&nbsp</span><span class=\"barcode\"; style=\"color: black; background-color: #b11218\">&nbspfox&nbsp</span><span class=\"barcode\"; style=\"color: black; background-color: #b51318\">&nbspjumps&nbsp</span><span class=\"barcode\"; style=\"color: black; background-color: #fc9777\">&nbspover&nbsp</span><span class=\"barcode\"; style=\"color: black; background-color: #be151a\">&nbspthe&nbsp</span><span class=\"barcode\"; style=\"color: black; background-color: #e32f27\">&nbsplazy&nbsp</span><span class=\"barcode\"; style=\"color: black; background-color: #ffefe8\">&nbspdog&nbsp</span>"
      ],
      "text/plain": [
       "<IPython.core.display.HTML object>"
      ]
     },
     "metadata": {},
     "output_type": "display_data"
    }
   ],
   "source": [
    "# to display in ipython notebook\n",
    "from IPython.display import display, HTML\n",
    "display(HTML(s))"
   ]
  },
  {
   "cell_type": "code",
   "execution_count": 15,
   "metadata": {},
   "outputs": [
    {
     "data": {
      "text/html": [
       "<span class=\"barcode\"; style=\"color: black; background-color: #fff5f0\">&nbspThe&nbsp</span><span class=\"barcode\"; style=\"color: black; background-color: #fee0d2\">&nbspquick&nbsp</span><span class=\"barcode\"; style=\"color: black; background-color: #fcbba1\">&nbspbrown&nbsp</span><span class=\"barcode\"; style=\"color: black; background-color: #fc9272\">&nbspfox&nbsp</span><span class=\"barcode\"; style=\"color: black; background-color: #fb694a\">&nbspjumps&nbsp</span><span class=\"barcode\"; style=\"color: black; background-color: #ee3a2c\">&nbspover&nbsp</span><span class=\"barcode\"; style=\"color: black; background-color: #ca181d\">&nbspthe&nbsp</span><span class=\"barcode\"; style=\"color: black; background-color: #a30f15\">&nbsplazy&nbsp</span><span class=\"barcode\"; style=\"color: black; background-color: #67000d\">&nbspdog&nbsp</span>"
      ],
      "text/plain": [
       "<IPython.core.display.HTML object>"
      ]
     },
     "metadata": {},
     "output_type": "display_data"
    }
   ],
   "source": [
    "color2 = np.linspace(0,1,len(words))\n",
    "s2 = colorize(words, color2)\n",
    "display(HTML(s2))"
   ]
  }
 ],
 "metadata": {
  "kernelspec": {
   "display_name": "Python 3",
   "language": "python",
   "name": "python3"
  },
  "language_info": {
   "codemirror_mode": {
    "name": "ipython",
    "version": 3
   },
   "file_extension": ".py",
   "mimetype": "text/x-python",
   "name": "python",
   "nbconvert_exporter": "python",
   "pygments_lexer": "ipython3",
   "version": "3.6.8"
  }
 },
 "nbformat": 4,
 "nbformat_minor": 2
}
