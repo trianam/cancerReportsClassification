{
 "cells": [
  {
   "cell_type": "code",
   "execution_count": 1,
   "metadata": {
    "collapsed": false
   },
   "outputs": [],
   "source": [
    "from tabulate import tabulate\n",
    "from scipy.interpolate import interp1d\n",
    "import numpy as np\n",
    "import math\n",
    "from MAPScorer import MAPScorer\n",
    "from scipy import interp\n",
    "from mySVMbigramsFold0 import MySVM\n",
    "from sklearn.metrics import roc_curve, precision_recall_curve, auc, roc_auc_score, precision_recall_fscore_support, f1_score, accuracy_score, cohen_kappa_score\n",
    "import matplotlib.pyplot as plt\n",
    "%matplotlib inline"
   ]
  },
  {
   "cell_type": "code",
   "execution_count": 2,
   "metadata": {
    "collapsed": false
   },
   "outputs": [
    {
     "name": "stdout",
     "output_type": "stream",
     "text": [
      "load models\n"
     ]
    }
   ],
   "source": [
    "svm = MySVM()\n",
    "svm.loadData()\n",
    "svm.loadModels()"
   ]
  },
  {
   "cell_type": "code",
   "execution_count": 3,
   "metadata": {
    "collapsed": false
   },
   "outputs": [
    {
     "name": "stdout",
     "output_type": "stream",
     "text": [
      "sede12\n"
     ]
    }
   ],
   "source": [
    "tasks = ['sede12']\n",
    "yp = {}\n",
    "ycn = {}\n",
    "yc = {}\n",
    "ytn = {}\n",
    "yt = {}\n",
    "for task in tasks:\n",
    "    print(task)\n",
    "    yp[task] = svm.model[task].decision_function(svm.XTest)\n",
    "    yt[task] = svm.yTest[task]    \n",
    "    ytn[task] = svm.lb[task].inverse_transform(yt[task])\n",
    "    yc[task] = np.zeros(yt[task].shape, np.int)\n",
    "    for i,p in enumerate(yp[task]):\n",
    "        yc[task][i][np.argmax(p)] = 1\n",
    "    ycn[task] = svm.lb[task].inverse_transform(yc[task])"
   ]
  },
  {
   "cell_type": "code",
   "execution_count": 4,
   "metadata": {
    "collapsed": false
   },
   "outputs": [
    {
     "name": "stdout",
     "output_type": "stream",
     "text": [
      "(18813, 109398)\n",
      "18813\n"
     ]
    }
   ],
   "source": [
    "print(svm.XTest.shape)\n",
    "print(len(svm.yTest['sede12']))"
   ]
  },
  {
   "cell_type": "code",
   "execution_count": 5,
   "metadata": {
    "collapsed": false
   },
   "outputs": [
    {
     "name": "stderr",
     "output_type": "stream",
     "text": [
      "/home/trianam/anaconda3/lib/python3.6/site-packages/sklearn/metrics/classification.py:1113: UndefinedMetricWarning: Precision and F-score are ill-defined and being set to 0.0 in labels with no predicted samples.\n",
      "  'precision', 'predicted', average, warn_for)\n",
      "/home/trianam/anaconda3/lib/python3.6/site-packages/sklearn/metrics/classification.py:1115: UndefinedMetricWarning: Recall and F-score are ill-defined and being set to 0.0 in labels with no true samples.\n",
      "  'recall', 'true', average, warn_for)\n"
     ]
    },
    {
     "name": "stdout",
     "output_type": "stream",
     "text": [
      "------  --------  ------------------  ------------------  ------------------  -------------------  -------------------  -------------------\n",
      "task    average   meanAvgPrec         accuracy            kappa               precision            recall               f1score\n",
      "\n",
      "sede12  N/A       0.6386965079370212  0.6060702705575931  0.5862972114422745  N/A                  N/A                  N/A\n",
      "sede12  micro     N/A                 N/A                 N/A                 0.6060702705575931   0.6060702705575931   0.6060702705575931\n",
      "sede12  macro     N/A                 N/A                 N/A                 0.26156389221952764  0.13854005182798199  0.16465102210944985\n",
      "sede12  weighted  N/A                 N/A                 N/A                 0.7789622009075887   0.6060702705575931   0.6586318618054069\n",
      "------  --------  ------------------  ------------------  ------------------  -------------------  -------------------  -------------------\n"
     ]
    }
   ],
   "source": [
    "table = [[\"task\", \"average\", \"meanAvgPrec\", \"accuracy\", \"kappa\", \"precision\", \"recall\", \"f1score\"]]\n",
    "na = 'N/A'\n",
    "metrics = {}\n",
    "for task in tasks:\n",
    "    table.append([\" \", \" \", \" \", \" \", \" \", \" \", \" \"])\n",
    "    metrics[task] = {}\n",
    "    metrics[task][na] = {}\n",
    "    metrics[task][na]['meanAvgPrec'] = MAPScorer().samplesScore(yt[task], yp[task])\n",
    "    metrics[task][na]['accuracy'] = accuracy_score(yt[task], yc[task])\n",
    "    metrics[task][na]['kappa'] = cohen_kappa_score(ytn[task], ycn[task])\n",
    "    table.append([task, na, metrics[task][na]['meanAvgPrec'], metrics[task][na]['accuracy'], metrics[task][na]['kappa'], na, na, na])\n",
    "    for avg in ['micro', 'macro', 'weighted']:\n",
    "        metrics[task][avg] = {}\n",
    "        metrics[task][avg]['precision'], metrics[task][avg]['recall'], metrics[task][avg]['f1score'], metrics[task][avg]['support'] = precision_recall_fscore_support(yt[task], yc[task], average=avg)\n",
    "        table.append([task, avg, na, na, na, metrics[task][avg]['precision'], metrics[task][avg]['recall'], metrics[task][avg]['f1score']])\n",
    "print(tabulate(table))\n",
    "        "
   ]
  },
  {
   "cell_type": "code",
   "execution_count": 6,
   "metadata": {
    "collapsed": true
   },
   "outputs": [],
   "source": [
    "def _calculateMicroMacroCurve(curveFunction, yt, yp):\n",
    "        n_classes = yt.shape[1]\n",
    "        abscissa = dict()\n",
    "        ordinate = dict()\n",
    "        area = dict()\n",
    "        for i in range(n_classes):\n",
    "            abscissa[i], ordinate[i] = curveFunction(yt[:, i], yp[:, i])\n",
    "            area[i] = auc(abscissa[i], ordinate[i])\n",
    "        abscissa[\"micro\"], ordinate[\"micro\"] = curveFunction(yt.ravel(), yp.ravel())\n",
    "        area[\"micro\"] = auc(abscissa[\"micro\"], ordinate[\"micro\"])\n",
    "        # aggregate all\n",
    "        all_rec = list(filter(lambda x: not math.isnan(x), np.unique(np.concatenate([abscissa[i] for i in range(n_classes)]))))\n",
    "\n",
    "        # interpolate all prec/rec curves at this points\n",
    "        mean_ordinate = np.zeros_like(all_rec)\n",
    "        representedClasses = 0\n",
    "        unrepresentedClasses = 0\n",
    "        for i in range(n_classes):\n",
    "            interp = interp1d(abscissa[i], ordinate[i])\n",
    "            curr_ordinate = interp(all_rec)\n",
    "            if not np.any([math.isnan(x) for x in abscissa[i]]) and not np.any([math.isnan(x) for x in ordinate[i]]):\n",
    "                mean_ordinate += curr_ordinate\n",
    "                representedClasses += 1\n",
    "            else:\n",
    "                unrepresentedClasses += 1\n",
    "\n",
    "        # average it and compute AUC\n",
    "        mean_ordinate /= representedClasses\n",
    "\n",
    "        abscissa[\"macro\"] = all_rec\n",
    "        ordinate[\"macro\"] = mean_ordinate\n",
    "        area[\"macro\"] = auc(abscissa[\"macro\"], ordinate[\"macro\"])\n",
    "\n",
    "        return (abscissa, ordinate, area)"
   ]
  },
  {
   "cell_type": "code",
   "execution_count": 7,
   "metadata": {
    "collapsed": false
   },
   "outputs": [
    {
     "name": "stderr",
     "output_type": "stream",
     "text": [
      "/home/trianam/anaconda3/lib/python3.6/site-packages/sklearn/metrics/ranking.py:415: RuntimeWarning: invalid value encountered in true_divide\n",
      "  recall = tps / tps[-1]\n",
      "/home/trianam/anaconda3/lib/python3.6/site-packages/scipy/interpolate/interpolate.py:635: RuntimeWarning: invalid value encountered in greater\n",
      "  above_bounds = x_new > self.x[-1]\n",
      "/home/trianam/anaconda3/lib/python3.6/site-packages/sklearn/metrics/ranking.py:542: UndefinedMetricWarning: No positive samples in y_true, true positive value should be meaningless\n",
      "  UndefinedMetricWarning)\n"
     ]
    }
   ],
   "source": [
    "rec = {}\n",
    "pre = {}\n",
    "pr_auc = {}\n",
    "fpr = {}\n",
    "tpr = {}\n",
    "roc_auc = {}\n",
    "for task in tasks:\n",
    "    rec[task], pre[task], pr_auc[task] = _calculateMicroMacroCurve(lambda y,s: (lambda t: (t[1],t[0]))(precision_recall_curve(y,s)), yt[task], yp[task])\n",
    "    fpr[task], tpr[task], roc_auc[task] = _calculateMicroMacroCurve(lambda y,s: (lambda t: (t[0],t[1]))(roc_curve(y,s)), yt[task], yp[task])"
   ]
  },
  {
   "cell_type": "code",
   "execution_count": 8,
   "metadata": {
    "collapsed": false
   },
   "outputs": [
    {
     "data": {
      "image/png": "[encoded data removed]",
      "text/plain": [
       "<matplotlib.figure.Figure at 0x7f267770c780>"
      ]
     },
     "metadata": {},
     "output_type": "display_data"
    }
   ],
   "source": [
    "for task in tasks:\n",
    "    fig = plt.figure()\n",
    "    plt.xlim([0.0, 1.0])\n",
    "    plt.ylim([0.0, 1.05])\n",
    "    \n",
    "    plt.xlabel('False Positive Rate')\n",
    "    plt.ylabel('True Positive Rate')\n",
    "    plt.title(task+' Receiver operating characteristic')\n",
    "    plt.plot([0, 1], [0, 1], color='k', lw=2, linestyle='--')\n",
    "    #for c in range(n_classes):\n",
    "    #    plt.plot(fpr[c], tpr[c], lw=1, label='ROC curve {} (area = {:0.2f})'.format(c, roc_auc[2]))\n",
    "    plt.plot(fpr[task]['micro'], tpr[task]['micro'], color='blue', lw=2, label='ROC micro (area = %0.4f)' % roc_auc[task]['micro'])\n",
    "    plt.plot(fpr[task]['macro'], tpr[task]['macro'], color='red', lw=2, label='ROC macro (area = %0.4f)' % roc_auc[task]['macro'])\n",
    "    plt.legend(loc=\"lower right\")\n",
    "    \n",
    "    plt.show()"
   ]
  },
  {
   "cell_type": "code",
   "execution_count": 9,
   "metadata": {
    "collapsed": false
   },
   "outputs": [
    {
     "data": {
      "image/png": "[encoded data removed]",
      "text/plain": [
       "<matplotlib.figure.Figure at 0x7f26776c7588>"
      ]
     },
     "metadata": {},
     "output_type": "display_data"
    }
   ],
   "source": [
    "for task in tasks:\n",
    "    fig = plt.figure()\n",
    "    plt.xlim([0.0, 1.0])\n",
    "    plt.ylim([0.0, 1.05])\n",
    " \n",
    "    plt.xlabel('Recall')\n",
    "    plt.ylabel('Precision')\n",
    "    plt.title(task+' Precision Recall curve')\n",
    "    #for c in range(n_classes):\n",
    "    #    plt.plot(fpr[c], tpr[c], lw=1, label='ROC curve {} (area = {:0.2f})'.format(c, roc_auc[2]))\n",
    "    plt.plot(rec[task]['micro'], pre[task]['micro'], color='blue', lw=2, label='P/R micro (area = %0.4f)' % pr_auc[task]['micro'])\n",
    "    plt.plot(rec[task]['macro'], pre[task]['macro'], color='red', lw=2, label='P/R macro (area = %0.4f)' % pr_auc[task]['macro'])\n",
    "    plt.legend(loc=\"lower left\")\n",
    "    \n",
    "    plt.show()"
   ]
  },
  {
   "cell_type": "code",
   "execution_count": null,
   "metadata": {
    "collapsed": true
   },
   "outputs": [],
   "source": []
  }
 ],
 "metadata": {
  "kernelspec": {
   "display_name": "Python 3",
   "language": "python",
   "name": "python3"
  },
  "language_info": {
   "codemirror_mode": {
    "name": "ipython",
    "version": 3
   },
   "file_extension": ".py",
   "mimetype": "text/x-python",
   "name": "python",
   "nbconvert_exporter": "python",
   "pygments_lexer": "ipython3",
   "version": "3.6.0"
  }
 },
 "nbformat": 4,
 "nbformat_minor": 2
}
