{
 "cells": [
  {
   "cell_type": "code",
   "execution_count": 1,
   "metadata": {},
   "outputs": [],
   "source": [
    "import pickle\n",
    "import numpy as np\n",
    "import math\n",
    "from nltk import sent_tokenize\n",
    "from nltk.tokenize.punkt import PunktSentenceTokenizer, PunktParameters\n",
    "from collections import Counter\n",
    "import matplotlib.pyplot as plt\n",
    "%matplotlib inline"
   ]
  },
  {
   "cell_type": "code",
   "execution_count": 2,
   "metadata": {
    "scrolled": false
   },
   "outputs": [
    {
     "name": "stdout",
     "output_type": "stream",
     "text": [
      "\n",
      "max numP = 59\n",
      "avg numP = 2.273874061162373 +/- 2.7777500611382164\n",
      "less eq 20 = 99.9%\n",
      "less eq 30 = 100.0%\n",
      "max len = 472\n",
      "avg len = 14.440522782353614 +/- 15.112365824607766\n",
      "less eq 15 = 70.6%\n",
      "less eq 20 = 81.7%\n",
      "less eq 30 = 91.0%\n",
      "less eq 40 = 95.1%\n",
      "less eq 100 = 99.5%\n",
      "less eq 200 = 100.0%\n"
     ]
    }
   ],
   "source": [
    "corpusFolder = \"./corpusMMI/folds10\"\n",
    "textFileTrain = {}         \n",
    "textFileTest = {}\n",
    "\n",
    "lessEqValuesNumP = [20, 30]\n",
    "lessEqNumP = {}\n",
    "for v in lessEqValuesNumP:\n",
    "    lessEqNumP[v] = 0\n",
    "\n",
    "lessEqValues = [15, 20, 30, 40, 100, 200]\n",
    "lessEq = {}\n",
    "for v in lessEqValues:\n",
    "    lessEq[v] = 0\n",
    "\n",
    "maxNumP = 0\n",
    "avgNumP = 0\n",
    "sdNumP = 0\n",
    "\n",
    "maxLen = 0\n",
    "avgLen = 0\n",
    "sdLen = 0\n",
    "\n",
    "fields = 0\n",
    "lines = 0\n",
    "\n",
    "tasks=['sede1', 'sede12', 'morfo1', 'morfo2']\n",
    "for fold in range(10):\n",
    "    #print(\"Fold {}\".format(fold))\n",
    "    for task in tasks:\n",
    "        #print(\"    task {}\".format(task))\n",
    "        corpusFoldFolder = corpusFolder+\"/\"+task+\"/\"+str(fold)\n",
    "        corpusFileTrain = corpusFoldFolder+\"/corpusTrain.p\"\n",
    "        corpusFileTest = corpusFoldFolder+\"/corpusTest.p\"\n",
    "        \n",
    "        corpusTrain = pickle.load(open(corpusFileTrain, 'rb'))\n",
    "        corpusTest = pickle.load(open(corpusFileTest, 'rb'))\n",
    "        \n",
    "        text = corpusTrain['X'] + corpusTest['X']\n",
    "        \n",
    "        for line in text:\n",
    "            for field in line:\n",
    "                fields += 1\n",
    "                numP = len(field)\n",
    "                if numP > maxNumP:\n",
    "                    maxNumP = numP\n",
    "                avgNumP += numP\n",
    "                sdNumP += numP * numP\n",
    "                \n",
    "                for v in lessEqValuesNumP:\n",
    "                    if numP <= v:\n",
    "                        lessEqNumP[v] += 1\n",
    "                \n",
    "                for phrase in field:  \n",
    "                    lines += 1\n",
    "                    words = len(phrase.split())\n",
    "                    if words > maxLen:\n",
    "                        maxLen = words\n",
    "                    avgLen += words\n",
    "                    sdLen += words * words\n",
    "\n",
    "                    for v in lessEqValues:\n",
    "                        if words <= v:\n",
    "                            lessEq[v] += 1\n",
    "                    \n",
    "avgLen /= lines\n",
    "sdLen = math.sqrt((sdLen/lines) - (avgLen*avgLen))\n",
    "\n",
    "avgNumP /= fields\n",
    "sdNumP = math.sqrt((sdNumP/fields) - (avgNumP*avgNumP))\n",
    "\n",
    "print(\"\")\n",
    "print(\"max numP = {}\".format(maxNumP))\n",
    "print(\"avg numP = {} +/- {}\".format(avgNumP, sdNumP))\n",
    "for v in lessEqValuesNumP:\n",
    "    print(\"less eq {} = {:.1f}%\".format(v, (lessEqNumP[v]/fields)*100))\n",
    "print(\"max len = {}\".format(maxLen))\n",
    "print(\"avg len = {} +/- {}\".format(avgLen, sdLen))\n",
    "for v in lessEqValues:\n",
    "    print(\"less eq {} = {:.1f}%\".format(v, (lessEq[v]/lines)*100))"
   ]
  },
  {
   "cell_type": "code",
   "execution_count": 3,
   "metadata": {},
   "outputs": [
    {
     "name": "stdout",
     "output_type": "stream",
     "text": [
      "\n",
      "max numP = 59\n",
      "avg numP = 2.273545524773386 +/- 2.777585282678766\n",
      "less eq 20 = 99.9%\n",
      "less eq 30 = 100.0%\n",
      "max len = 472\n",
      "avg len = 14.439473807260088 +/- 15.109519037944265\n",
      "less eq 15 = 70.6%\n",
      "less eq 20 = 81.7%\n",
      "less eq 30 = 91.0%\n",
      "less eq 40 = 95.1%\n",
      "less eq 100 = 99.5%\n",
      "less eq 200 = 100.0%\n"
     ]
    }
   ],
   "source": [
    "corpusFile = \"corpusMMI/corpusClean.p\"\n",
    "\n",
    "lessEqValuesNumP = [20, 30]\n",
    "lessEqNumP = {}\n",
    "for v in lessEqValuesNumP:\n",
    "    lessEqNumP[v] = 0\n",
    "\n",
    "lessEqValues = [15, 20, 30, 40, 100, 200]\n",
    "lessEq = {}\n",
    "for v in lessEqValues:\n",
    "    lessEq[v] = 0\n",
    "\n",
    "maxNumP = 0\n",
    "avgNumP = 0\n",
    "sdNumP = 0\n",
    "\n",
    "maxLen = 0\n",
    "avgLen = 0\n",
    "sdLen = 0\n",
    "\n",
    "fields = 0\n",
    "lines = 0\n",
    "\n",
    "corpus = pickle.load(open(corpusFile, 'rb'))\n",
    "text = corpus['text']\n",
    "\n",
    "for line in text:\n",
    "            for field in line:\n",
    "                fields += 1\n",
    "                numP = len(field)\n",
    "                if numP > maxNumP:\n",
    "                    maxNumP = numP\n",
    "                avgNumP += numP\n",
    "                sdNumP += numP * numP\n",
    "                \n",
    "                for v in lessEqValuesNumP:\n",
    "                    if numP <= v:\n",
    "                        lessEqNumP[v] += 1\n",
    "                \n",
    "                for phrase in field:  \n",
    "                    lines += 1\n",
    "                    words = len(phrase.split())\n",
    "                    if words > maxLen:\n",
    "                        maxLen = words\n",
    "                    avgLen += words\n",
    "                    sdLen += words * words\n",
    "\n",
    "                    for v in lessEqValues:\n",
    "                        if words <= v:\n",
    "                            lessEq[v] += 1\n",
    "            \n",
    "avgLen /= lines\n",
    "sdLen = math.sqrt((sdLen/lines) - (avgLen*avgLen))\n",
    "\n",
    "avgNumP /= fields\n",
    "sdNumP = math.sqrt((sdNumP/fields) - (avgNumP*avgNumP))\n",
    "\n",
    "print(\"\")\n",
    "print(\"max numP = {}\".format(maxNumP))\n",
    "print(\"avg numP = {} +/- {}\".format(avgNumP, sdNumP))\n",
    "for v in lessEqValuesNumP:\n",
    "    print(\"less eq {} = {:.1f}%\".format(v, (lessEqNumP[v]/fields)*100))\n",
    "print(\"max len = {}\".format(maxLen))\n",
    "print(\"avg len = {} +/- {}\".format(avgLen, sdLen))\n",
    "for v in lessEqValues:\n",
    "    print(\"less eq {} = {:.1f}%\".format(v, (lessEq[v]/lines)*100))"
   ]
  },
  {
   "cell_type": "code",
   "execution_count": 4,
   "metadata": {},
   "outputs": [],
   "source": [
    "textFile = \"corpusMMI/corpusClean.p\"\n",
    "\n",
    "numPs = []\n",
    "lengths = []\n",
    "\n",
    "corpus = pickle.load(open(corpusFile, 'rb'))\n",
    "text = corpus['text']\n",
    "\n",
    "for line in text:\n",
    "            for field in line:\n",
    "                fields += 1\n",
    "                numP = len(field)\n",
    "                numPs.append(numP)\n",
    "                \n",
    "                for phrase in field:  \n",
    "                    lines += 1\n",
    "                    words = len(phrase.split())\n",
    "                    lengths.append(words)\n",
    "\n",
    "countNumP = Counter(numPs)\n",
    "orderedNumP = list(countNumP.keys())\n",
    "orderedNumP.sort()\n",
    "valuesNumP = []\n",
    "for i in orderedNumP:\n",
    "    valuesNumP.append(countNumP.get(i))\n",
    "    \n",
    "count = Counter(lengths)\n",
    "ordered = list(count.keys())\n",
    "ordered.sort()\n",
    "values = []\n",
    "for i in ordered:\n",
    "    values.append(count.get(i))"
   ]
  },
  {
   "cell_type": "code",
   "execution_count": 5,
   "metadata": {},
   "outputs": [
    {
     "data": {
      "image/png": "[encoded data removed]",
      "text/plain": [
       "<Figure size 432x288 with 1 Axes>"
      ]
     },
     "metadata": {
      "needs_background": "light"
     },
     "output_type": "display_data"
    }
   ],
   "source": [
    "fig = plt.figure()\n",
    "ax = fig.gca()\n",
    "ax.set_yscale('log')\n",
    "##ax.get_yaxis().set_major_formatter(matplotlib.ticker.ScalarFormatter())\n",
    "ax.get_yaxis().set_major_formatter(plt.LogFormatter(10,  labelOnlyBase=False))\n",
    "plt.xticks(np.arange(min(ordered),max(ordered),10), rotation='vertical')\n",
    "#plt.title(titles[t])\n",
    "#plt.scatter(ordered, values)\n",
    "plt.bar(orderedNumP, valuesNumP)\n",
    "plt.grid()\n",
    "plt.rc('grid', linestyle=\"--\", color='gray')\n",
    "plt.xlabel(\"Num. phrases\")\n",
    "plt.ylabel(\"Num. documents\")\n",
    "plt.savefig(\"/tmp/figWords.pdf\", bbox_inches='tight')\n",
    "plt.show()"
   ]
  },
  {
   "cell_type": "code",
   "execution_count": 6,
   "metadata": {},
   "outputs": [
    {
     "data": {
      "image/png": "[encoded data removed]",
      "text/plain": [
       "<Figure size 432x288 with 1 Axes>"
      ]
     },
     "metadata": {
      "needs_background": "light"
     },
     "output_type": "display_data"
    }
   ],
   "source": [
    "fig = plt.figure()\n",
    "ax = fig.gca()\n",
    "ax.set_yscale('log')\n",
    "##ax.get_yaxis().set_major_formatter(matplotlib.ticker.ScalarFormatter())\n",
    "ax.get_yaxis().set_major_formatter(plt.LogFormatter(10,  labelOnlyBase=False))\n",
    "plt.xticks(np.arange(min(ordered),max(ordered),100), rotation='vertical')\n",
    "#plt.title(titles[t])\n",
    "#plt.scatter(ordered, values)\n",
    "plt.bar(ordered, values)\n",
    "plt.grid()\n",
    "plt.rc('grid', linestyle=\"--\", color='gray')\n",
    "plt.xlabel(\"Words\")\n",
    "plt.ylabel(\"Num. documents\")\n",
    "plt.savefig(\"/tmp/figWords.pdf\", bbox_inches='tight')\n",
    "plt.show()"
   ]
  }
 ],
 "metadata": {
  "kernelspec": {
   "display_name": "Python 3",
   "language": "python",
   "name": "python3"
  },
  "language_info": {
   "codemirror_mode": {
    "name": "ipython",
    "version": 3
   },
   "file_extension": ".py",
   "mimetype": "text/x-python",
   "name": "python",
   "nbconvert_exporter": "python",
   "pygments_lexer": "ipython3",
   "version": "3.7.3"
  }
 },
 "nbformat": 4,
 "nbformat_minor": 2
}
